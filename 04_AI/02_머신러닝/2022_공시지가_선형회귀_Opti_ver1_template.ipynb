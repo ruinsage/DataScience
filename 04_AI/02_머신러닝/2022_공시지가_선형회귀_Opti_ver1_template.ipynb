{
 "cells": [
  {
   "cell_type": "code",
   "execution_count": 69,
   "id": "1c2538cb",
   "metadata": {},
   "outputs": [],
   "source": [
    "import pandas as pd"
   ]
  },
  {
   "cell_type": "code",
   "execution_count": 70,
   "id": "89ff429f",
   "metadata": {
    "scrolled": true
   },
   "outputs": [
    {
     "name": "stderr",
     "output_type": "stream",
     "text": [
      "C:\\Users\\tj\\AppData\\Local\\Temp\\ipykernel_5896\\470160960.py:1: DtypeWarning: Columns (5) have mixed types. Specify dtype option on import or set low_memory=False.\n",
      "  data_org=pd.read_csv('2022_표준지_공시지가.csv')\n"
     ]
    }
   ],
   "source": [
    "data_org=pd.read_csv('2022_표준지_공시지가.csv')"
   ]
  },
  {
   "cell_type": "code",
   "execution_count": 71,
   "id": "6bf134c2",
   "metadata": {
    "scrolled": true
   },
   "outputs": [
    {
     "data": {
      "text/html": [
       "<div>\n",
       "<style scoped>\n",
       "    .dataframe tbody tr th:only-of-type {\n",
       "        vertical-align: middle;\n",
       "    }\n",
       "\n",
       "    .dataframe tbody tr th {\n",
       "        vertical-align: top;\n",
       "    }\n",
       "\n",
       "    .dataframe thead th {\n",
       "        text-align: right;\n",
       "    }\n",
       "</style>\n",
       "<table border=\"1\" class=\"dataframe\">\n",
       "  <thead>\n",
       "    <tr style=\"text-align: right;\">\n",
       "      <th></th>\n",
       "      <th>일련번호</th>\n",
       "      <th>시군구</th>\n",
       "      <th>읍면동리</th>\n",
       "      <th>지번구분</th>\n",
       "      <th>본번지</th>\n",
       "      <th>부번지</th>\n",
       "      <th>시도명</th>\n",
       "      <th>시군구명</th>\n",
       "      <th>소재지</th>\n",
       "      <th>지목</th>\n",
       "      <th>...</th>\n",
       "      <th>용도지역2</th>\n",
       "      <th>이용상황</th>\n",
       "      <th>주위환경</th>\n",
       "      <th>지세명</th>\n",
       "      <th>형상명</th>\n",
       "      <th>도로교통</th>\n",
       "      <th>공시지가</th>\n",
       "      <th>지리적위치1</th>\n",
       "      <th>지리적위치2</th>\n",
       "      <th>방위</th>\n",
       "    </tr>\n",
       "  </thead>\n",
       "  <tbody>\n",
       "    <tr>\n",
       "      <th>0</th>\n",
       "      <td>1</td>\n",
       "      <td>11110</td>\n",
       "      <td>10100</td>\n",
       "      <td>1</td>\n",
       "      <td>0003</td>\n",
       "      <td>52</td>\n",
       "      <td>서울특별시</td>\n",
       "      <td>종로구</td>\n",
       "      <td>청운동 3-52</td>\n",
       "      <td>공원</td>\n",
       "      <td>...</td>\n",
       "      <td>NaN</td>\n",
       "      <td>공원등</td>\n",
       "      <td>시가지주변 야산지대</td>\n",
       "      <td>급경사지</td>\n",
       "      <td>부정형</td>\n",
       "      <td>세로(불)</td>\n",
       "      <td>493500</td>\n",
       "      <td>경기상고</td>\n",
       "      <td>북측 인근</td>\n",
       "      <td>NaN</td>\n",
       "    </tr>\n",
       "    <tr>\n",
       "      <th>1</th>\n",
       "      <td>2</td>\n",
       "      <td>11110</td>\n",
       "      <td>10100</td>\n",
       "      <td>1</td>\n",
       "      <td>0004</td>\n",
       "      <td>2</td>\n",
       "      <td>서울특별시</td>\n",
       "      <td>종로구</td>\n",
       "      <td>청운동 4-2</td>\n",
       "      <td>임야</td>\n",
       "      <td>...</td>\n",
       "      <td>NaN</td>\n",
       "      <td>자연림</td>\n",
       "      <td>시가지주변 야산지대</td>\n",
       "      <td>완경사지</td>\n",
       "      <td>부정형</td>\n",
       "      <td>맹지</td>\n",
       "      <td>730500</td>\n",
       "      <td>경가상고</td>\n",
       "      <td>북서측 근거리</td>\n",
       "      <td>남향</td>\n",
       "    </tr>\n",
       "    <tr>\n",
       "      <th>2</th>\n",
       "      <td>3</td>\n",
       "      <td>11110</td>\n",
       "      <td>10100</td>\n",
       "      <td>1</td>\n",
       "      <td>0004</td>\n",
       "      <td>15</td>\n",
       "      <td>서울특별시</td>\n",
       "      <td>종로구</td>\n",
       "      <td>청운동 4-15</td>\n",
       "      <td>대</td>\n",
       "      <td>...</td>\n",
       "      <td>NaN</td>\n",
       "      <td>단독주택</td>\n",
       "      <td>기존 주택지대</td>\n",
       "      <td>완경사지</td>\n",
       "      <td>사다리형</td>\n",
       "      <td>세로(가)</td>\n",
       "      <td>4250000</td>\n",
       "      <td>경기상고</td>\n",
       "      <td>북서측 인근</td>\n",
       "      <td>북동향</td>\n",
       "    </tr>\n",
       "    <tr>\n",
       "      <th>3</th>\n",
       "      <td>4</td>\n",
       "      <td>11110</td>\n",
       "      <td>10100</td>\n",
       "      <td>1</td>\n",
       "      <td>0008</td>\n",
       "      <td>9</td>\n",
       "      <td>서울특별시</td>\n",
       "      <td>종로구</td>\n",
       "      <td>청운동 8-9</td>\n",
       "      <td>대</td>\n",
       "      <td>...</td>\n",
       "      <td>NaN</td>\n",
       "      <td>연립주택</td>\n",
       "      <td>일반 주택지대</td>\n",
       "      <td>급경사지</td>\n",
       "      <td>부정형</td>\n",
       "      <td>세로(가)</td>\n",
       "      <td>3930000</td>\n",
       "      <td>청운중학교</td>\n",
       "      <td>서측인근</td>\n",
       "      <td>남향</td>\n",
       "    </tr>\n",
       "    <tr>\n",
       "      <th>4</th>\n",
       "      <td>5</td>\n",
       "      <td>11110</td>\n",
       "      <td>10100</td>\n",
       "      <td>1</td>\n",
       "      <td>0008</td>\n",
       "      <td>15</td>\n",
       "      <td>서울특별시</td>\n",
       "      <td>종로구</td>\n",
       "      <td>청운동 8-15</td>\n",
       "      <td>대</td>\n",
       "      <td>...</td>\n",
       "      <td>NaN</td>\n",
       "      <td>연립주택</td>\n",
       "      <td>기존 주택지대</td>\n",
       "      <td>급경사지</td>\n",
       "      <td>사다리형</td>\n",
       "      <td>세로(가)</td>\n",
       "      <td>3855000</td>\n",
       "      <td>경기상고</td>\n",
       "      <td>서측인근</td>\n",
       "      <td>남서향</td>\n",
       "    </tr>\n",
       "  </tbody>\n",
       "</table>\n",
       "<p>5 rows × 22 columns</p>\n",
       "</div>"
      ],
      "text/plain": [
       "   일련번호    시군구   읍면동리  지번구분   본번지 부번지    시도명 시군구명       소재지  지목  ...  용도지역2  \\\n",
       "0     1  11110  10100     1  0003  52  서울특별시  종로구  청운동 3-52  공원  ...    NaN   \n",
       "1     2  11110  10100     1  0004   2  서울특별시  종로구   청운동 4-2  임야  ...    NaN   \n",
       "2     3  11110  10100     1  0004  15  서울특별시  종로구  청운동 4-15   대  ...    NaN   \n",
       "3     4  11110  10100     1  0008   9  서울특별시  종로구   청운동 8-9   대  ...    NaN   \n",
       "4     5  11110  10100     1  0008  15  서울특별시  종로구  청운동 8-15   대  ...    NaN   \n",
       "\n",
       "   이용상황        주위환경   지세명   형상명   도로교통     공시지가 지리적위치1   지리적위치2   방위  \n",
       "0   공원등  시가지주변 야산지대  급경사지   부정형  세로(불)   493500   경기상고    북측 인근  NaN  \n",
       "1   자연림  시가지주변 야산지대  완경사지   부정형     맹지   730500   경가상고  북서측 근거리   남향  \n",
       "2  단독주택     기존 주택지대  완경사지  사다리형  세로(가)  4250000   경기상고   북서측 인근  북동향  \n",
       "3  연립주택     일반 주택지대  급경사지   부정형  세로(가)  3930000  청운중학교     서측인근   남향  \n",
       "4  연립주택     기존 주택지대  급경사지  사다리형  세로(가)  3855000   경기상고     서측인근  남서향  \n",
       "\n",
       "[5 rows x 22 columns]"
      ]
     },
     "execution_count": 71,
     "metadata": {},
     "output_type": "execute_result"
    }
   ],
   "source": [
    "data_org.head()"
   ]
  },
  {
   "cell_type": "code",
   "execution_count": 72,
   "id": "7fbded32",
   "metadata": {},
   "outputs": [],
   "source": [
    "data=data_org.copy()"
   ]
  },
  {
   "cell_type": "code",
   "execution_count": 73,
   "id": "3791a31e",
   "metadata": {},
   "outputs": [
    {
     "data": {
      "text/plain": [
       "Index(['일련번호', '시군구', '읍면동리', '지번구분', '본번지', '부번지', '시도명', '시군구명', '소재지', '지목',\n",
       "       '면적', '용도지역1', '용도지역2', '이용상황', '주위환경', '지세명', '형상명', '도로교통', '공시지가',\n",
       "       '지리적위치1', '지리적위치2', '방위'],\n",
       "      dtype='object')"
      ]
     },
     "execution_count": 73,
     "metadata": {},
     "output_type": "execute_result"
    }
   ],
   "source": [
    "data.columns"
   ]
  },
  {
   "cell_type": "code",
   "execution_count": 74,
   "id": "3851a22f",
   "metadata": {},
   "outputs": [
    {
     "name": "stdout",
     "output_type": "stream",
     "text": [
      "<class 'pandas.core.frame.DataFrame'>\n",
      "RangeIndex: 540050 entries, 0 to 540049\n",
      "Data columns (total 22 columns):\n",
      " #   Column  Non-Null Count   Dtype  \n",
      "---  ------  --------------   -----  \n",
      " 0   일련번호    540050 non-null  int64  \n",
      " 1   시군구     540050 non-null  int64  \n",
      " 2   읍면동리    540050 non-null  int64  \n",
      " 3   지번구분    540050 non-null  int64  \n",
      " 4   본번지     540050 non-null  object \n",
      " 5   부번지     540050 non-null  object \n",
      " 6   시도명     540050 non-null  object \n",
      " 7   시군구명    537528 non-null  object \n",
      " 8   소재지     540050 non-null  object \n",
      " 9   지목      540050 non-null  object \n",
      " 10  면적      540050 non-null  float64\n",
      " 11  용도지역1   540050 non-null  object \n",
      " 12  용도지역2   5398 non-null    object \n",
      " 13  이용상황    540050 non-null  object \n",
      " 14  주위환경    540050 non-null  object \n",
      " 15  지세명     540050 non-null  object \n",
      " 16  형상명     540050 non-null  object \n",
      " 17  도로교통    540050 non-null  object \n",
      " 18  공시지가    540050 non-null  int64  \n",
      " 19  지리적위치1  540050 non-null  object \n",
      " 20  지리적위치2  515324 non-null  object \n",
      " 21  방위      207781 non-null  object \n",
      "dtypes: float64(1), int64(5), object(16)\n",
      "memory usage: 90.6+ MB\n"
     ]
    }
   ],
   "source": [
    "data.info()"
   ]
  },
  {
   "cell_type": "code",
   "execution_count": 75,
   "id": "db0e5f52",
   "metadata": {},
   "outputs": [],
   "source": [
    "data=data[[ '시군구', '읍면동리', '지번구분', '지목',\n",
    "       '면적', '용도지역1', '용도지역2', '이용상황', '주위환경', '지세명', '형상명', '도로교통', '공시지가',\n",
    "        '방위']]"
   ]
  },
  {
   "cell_type": "markdown",
   "id": "01e7291c",
   "metadata": {},
   "source": [
    "---"
   ]
  },
  {
   "cell_type": "code",
   "execution_count": 76,
   "id": "455f335a",
   "metadata": {},
   "outputs": [],
   "source": [
    "# 역 구청 시청 학교는안중요"
   ]
  },
  {
   "cell_type": "code",
   "execution_count": 77,
   "id": "4868b663",
   "metadata": {},
   "outputs": [
    {
     "data": {
      "text/html": [
       "<div>\n",
       "<style scoped>\n",
       "    .dataframe tbody tr th:only-of-type {\n",
       "        vertical-align: middle;\n",
       "    }\n",
       "\n",
       "    .dataframe tbody tr th {\n",
       "        vertical-align: top;\n",
       "    }\n",
       "\n",
       "    .dataframe thead th {\n",
       "        text-align: right;\n",
       "    }\n",
       "</style>\n",
       "<table border=\"1\" class=\"dataframe\">\n",
       "  <thead>\n",
       "    <tr style=\"text-align: right;\">\n",
       "      <th></th>\n",
       "      <th>시군구</th>\n",
       "      <th>읍면동리</th>\n",
       "      <th>지번구분</th>\n",
       "      <th>지목</th>\n",
       "      <th>면적</th>\n",
       "      <th>용도지역1</th>\n",
       "      <th>용도지역2</th>\n",
       "      <th>이용상황</th>\n",
       "      <th>주위환경</th>\n",
       "      <th>지세명</th>\n",
       "      <th>형상명</th>\n",
       "      <th>도로교통</th>\n",
       "      <th>공시지가</th>\n",
       "      <th>방위</th>\n",
       "    </tr>\n",
       "  </thead>\n",
       "  <tbody>\n",
       "    <tr>\n",
       "      <th>0</th>\n",
       "      <td>11110</td>\n",
       "      <td>10100</td>\n",
       "      <td>1</td>\n",
       "      <td>공원</td>\n",
       "      <td>1021.5</td>\n",
       "      <td>자연녹지지역</td>\n",
       "      <td>NaN</td>\n",
       "      <td>공원등</td>\n",
       "      <td>시가지주변 야산지대</td>\n",
       "      <td>급경사지</td>\n",
       "      <td>부정형</td>\n",
       "      <td>세로(불)</td>\n",
       "      <td>493500</td>\n",
       "      <td>NaN</td>\n",
       "    </tr>\n",
       "    <tr>\n",
       "      <th>1</th>\n",
       "      <td>11110</td>\n",
       "      <td>10100</td>\n",
       "      <td>1</td>\n",
       "      <td>임야</td>\n",
       "      <td>723.3</td>\n",
       "      <td>제1종일반주거지역</td>\n",
       "      <td>NaN</td>\n",
       "      <td>자연림</td>\n",
       "      <td>시가지주변 야산지대</td>\n",
       "      <td>완경사지</td>\n",
       "      <td>부정형</td>\n",
       "      <td>맹지</td>\n",
       "      <td>730500</td>\n",
       "      <td>남향</td>\n",
       "    </tr>\n",
       "    <tr>\n",
       "      <th>2</th>\n",
       "      <td>11110</td>\n",
       "      <td>10100</td>\n",
       "      <td>1</td>\n",
       "      <td>대</td>\n",
       "      <td>416.2</td>\n",
       "      <td>제1종일반주거지역</td>\n",
       "      <td>NaN</td>\n",
       "      <td>단독주택</td>\n",
       "      <td>기존 주택지대</td>\n",
       "      <td>완경사지</td>\n",
       "      <td>사다리형</td>\n",
       "      <td>세로(가)</td>\n",
       "      <td>4250000</td>\n",
       "      <td>북동향</td>\n",
       "    </tr>\n",
       "    <tr>\n",
       "      <th>3</th>\n",
       "      <td>11110</td>\n",
       "      <td>10100</td>\n",
       "      <td>1</td>\n",
       "      <td>대</td>\n",
       "      <td>811.3</td>\n",
       "      <td>제1종일반주거지역</td>\n",
       "      <td>NaN</td>\n",
       "      <td>연립주택</td>\n",
       "      <td>일반 주택지대</td>\n",
       "      <td>급경사지</td>\n",
       "      <td>부정형</td>\n",
       "      <td>세로(가)</td>\n",
       "      <td>3930000</td>\n",
       "      <td>남향</td>\n",
       "    </tr>\n",
       "    <tr>\n",
       "      <th>4</th>\n",
       "      <td>11110</td>\n",
       "      <td>10100</td>\n",
       "      <td>1</td>\n",
       "      <td>대</td>\n",
       "      <td>442.3</td>\n",
       "      <td>제1종일반주거지역</td>\n",
       "      <td>NaN</td>\n",
       "      <td>연립주택</td>\n",
       "      <td>기존 주택지대</td>\n",
       "      <td>급경사지</td>\n",
       "      <td>사다리형</td>\n",
       "      <td>세로(가)</td>\n",
       "      <td>3855000</td>\n",
       "      <td>남서향</td>\n",
       "    </tr>\n",
       "  </tbody>\n",
       "</table>\n",
       "</div>"
      ],
      "text/plain": [
       "     시군구   읍면동리  지번구분  지목      면적      용도지역1 용도지역2  이용상황        주위환경   지세명  \\\n",
       "0  11110  10100     1  공원  1021.5     자연녹지지역   NaN   공원등  시가지주변 야산지대  급경사지   \n",
       "1  11110  10100     1  임야   723.3  제1종일반주거지역   NaN   자연림  시가지주변 야산지대  완경사지   \n",
       "2  11110  10100     1   대   416.2  제1종일반주거지역   NaN  단독주택     기존 주택지대  완경사지   \n",
       "3  11110  10100     1   대   811.3  제1종일반주거지역   NaN  연립주택     일반 주택지대  급경사지   \n",
       "4  11110  10100     1   대   442.3  제1종일반주거지역   NaN  연립주택     기존 주택지대  급경사지   \n",
       "\n",
       "    형상명   도로교통     공시지가   방위  \n",
       "0   부정형  세로(불)   493500  NaN  \n",
       "1   부정형     맹지   730500   남향  \n",
       "2  사다리형  세로(가)  4250000  북동향  \n",
       "3   부정형  세로(가)  3930000   남향  \n",
       "4  사다리형  세로(가)  3855000  남서향  "
      ]
     },
     "execution_count": 77,
     "metadata": {},
     "output_type": "execute_result"
    }
   ],
   "source": [
    "data.head()"
   ]
  },
  {
   "cell_type": "code",
   "execution_count": 78,
   "id": "eecde9b7",
   "metadata": {
    "scrolled": false
   },
   "outputs": [
    {
     "data": {
      "text/plain": [
       "대        223201\n",
       "답        121780\n",
       "전        110113\n",
       "임야        62979\n",
       "공장용지       8221\n",
       "과수원        4742\n",
       "잡종지        3637\n",
       "목장용지       1154\n",
       "주유소용지      1105\n",
       "창고용지        855\n",
       "체육용지        461\n",
       "학교용지        420\n",
       "주차장         200\n",
       "염전          169\n",
       "종교용지        159\n",
       "공원          148\n",
       "유원지         144\n",
       "도로          128\n",
       "양어장         118\n",
       "하천           87\n",
       "묘지           83\n",
       "유지           61\n",
       "철도용지         44\n",
       "광천지          21\n",
       "사적지           8\n",
       "수도용지          5\n",
       "구거            4\n",
       "제방            3\n",
       "Name: 지목, dtype: int64"
      ]
     },
     "execution_count": 78,
     "metadata": {},
     "output_type": "execute_result"
    }
   ],
   "source": [
    "data['지목'].value_counts()"
   ]
  },
  {
   "cell_type": "code",
   "execution_count": 79,
   "id": "22412fae",
   "metadata": {
    "scrolled": true
   },
   "outputs": [
    {
     "data": {
      "text/html": [
       "<div>\n",
       "<style scoped>\n",
       "    .dataframe tbody tr th:only-of-type {\n",
       "        vertical-align: middle;\n",
       "    }\n",
       "\n",
       "    .dataframe tbody tr th {\n",
       "        vertical-align: top;\n",
       "    }\n",
       "\n",
       "    .dataframe thead th {\n",
       "        text-align: right;\n",
       "    }\n",
       "</style>\n",
       "<table border=\"1\" class=\"dataframe\">\n",
       "  <thead>\n",
       "    <tr style=\"text-align: right;\">\n",
       "      <th></th>\n",
       "      <th>['지목']_공원</th>\n",
       "      <th>['지목']_공장용지</th>\n",
       "      <th>['지목']_과수원</th>\n",
       "      <th>['지목']_광천지</th>\n",
       "      <th>['지목']_구거</th>\n",
       "      <th>['지목']_답</th>\n",
       "      <th>['지목']_대</th>\n",
       "      <th>['지목']_도로</th>\n",
       "      <th>['지목']_목장용지</th>\n",
       "      <th>['지목']_묘지</th>\n",
       "      <th>...</th>\n",
       "      <th>['지목']_전</th>\n",
       "      <th>['지목']_제방</th>\n",
       "      <th>['지목']_종교용지</th>\n",
       "      <th>['지목']_주유소용지</th>\n",
       "      <th>['지목']_주차장</th>\n",
       "      <th>['지목']_창고용지</th>\n",
       "      <th>['지목']_철도용지</th>\n",
       "      <th>['지목']_체육용지</th>\n",
       "      <th>['지목']_하천</th>\n",
       "      <th>['지목']_학교용지</th>\n",
       "    </tr>\n",
       "  </thead>\n",
       "  <tbody>\n",
       "    <tr>\n",
       "      <th>0</th>\n",
       "      <td>1</td>\n",
       "      <td>0</td>\n",
       "      <td>0</td>\n",
       "      <td>0</td>\n",
       "      <td>0</td>\n",
       "      <td>0</td>\n",
       "      <td>0</td>\n",
       "      <td>0</td>\n",
       "      <td>0</td>\n",
       "      <td>0</td>\n",
       "      <td>...</td>\n",
       "      <td>0</td>\n",
       "      <td>0</td>\n",
       "      <td>0</td>\n",
       "      <td>0</td>\n",
       "      <td>0</td>\n",
       "      <td>0</td>\n",
       "      <td>0</td>\n",
       "      <td>0</td>\n",
       "      <td>0</td>\n",
       "      <td>0</td>\n",
       "    </tr>\n",
       "    <tr>\n",
       "      <th>1</th>\n",
       "      <td>0</td>\n",
       "      <td>0</td>\n",
       "      <td>0</td>\n",
       "      <td>0</td>\n",
       "      <td>0</td>\n",
       "      <td>0</td>\n",
       "      <td>0</td>\n",
       "      <td>0</td>\n",
       "      <td>0</td>\n",
       "      <td>0</td>\n",
       "      <td>...</td>\n",
       "      <td>0</td>\n",
       "      <td>0</td>\n",
       "      <td>0</td>\n",
       "      <td>0</td>\n",
       "      <td>0</td>\n",
       "      <td>0</td>\n",
       "      <td>0</td>\n",
       "      <td>0</td>\n",
       "      <td>0</td>\n",
       "      <td>0</td>\n",
       "    </tr>\n",
       "    <tr>\n",
       "      <th>2</th>\n",
       "      <td>0</td>\n",
       "      <td>0</td>\n",
       "      <td>0</td>\n",
       "      <td>0</td>\n",
       "      <td>0</td>\n",
       "      <td>0</td>\n",
       "      <td>1</td>\n",
       "      <td>0</td>\n",
       "      <td>0</td>\n",
       "      <td>0</td>\n",
       "      <td>...</td>\n",
       "      <td>0</td>\n",
       "      <td>0</td>\n",
       "      <td>0</td>\n",
       "      <td>0</td>\n",
       "      <td>0</td>\n",
       "      <td>0</td>\n",
       "      <td>0</td>\n",
       "      <td>0</td>\n",
       "      <td>0</td>\n",
       "      <td>0</td>\n",
       "    </tr>\n",
       "    <tr>\n",
       "      <th>3</th>\n",
       "      <td>0</td>\n",
       "      <td>0</td>\n",
       "      <td>0</td>\n",
       "      <td>0</td>\n",
       "      <td>0</td>\n",
       "      <td>0</td>\n",
       "      <td>1</td>\n",
       "      <td>0</td>\n",
       "      <td>0</td>\n",
       "      <td>0</td>\n",
       "      <td>...</td>\n",
       "      <td>0</td>\n",
       "      <td>0</td>\n",
       "      <td>0</td>\n",
       "      <td>0</td>\n",
       "      <td>0</td>\n",
       "      <td>0</td>\n",
       "      <td>0</td>\n",
       "      <td>0</td>\n",
       "      <td>0</td>\n",
       "      <td>0</td>\n",
       "    </tr>\n",
       "    <tr>\n",
       "      <th>4</th>\n",
       "      <td>0</td>\n",
       "      <td>0</td>\n",
       "      <td>0</td>\n",
       "      <td>0</td>\n",
       "      <td>0</td>\n",
       "      <td>0</td>\n",
       "      <td>1</td>\n",
       "      <td>0</td>\n",
       "      <td>0</td>\n",
       "      <td>0</td>\n",
       "      <td>...</td>\n",
       "      <td>0</td>\n",
       "      <td>0</td>\n",
       "      <td>0</td>\n",
       "      <td>0</td>\n",
       "      <td>0</td>\n",
       "      <td>0</td>\n",
       "      <td>0</td>\n",
       "      <td>0</td>\n",
       "      <td>0</td>\n",
       "      <td>0</td>\n",
       "    </tr>\n",
       "  </tbody>\n",
       "</table>\n",
       "<p>5 rows × 28 columns</p>\n",
       "</div>"
      ],
      "text/plain": [
       "   ['지목']_공원  ['지목']_공장용지  ['지목']_과수원  ['지목']_광천지  ['지목']_구거  ['지목']_답  \\\n",
       "0          1            0           0           0          0         0   \n",
       "1          0            0           0           0          0         0   \n",
       "2          0            0           0           0          0         0   \n",
       "3          0            0           0           0          0         0   \n",
       "4          0            0           0           0          0         0   \n",
       "\n",
       "   ['지목']_대  ['지목']_도로  ['지목']_목장용지  ['지목']_묘지  ...  ['지목']_전  ['지목']_제방  \\\n",
       "0         0          0            0          0  ...         0          0   \n",
       "1         0          0            0          0  ...         0          0   \n",
       "2         1          0            0          0  ...         0          0   \n",
       "3         1          0            0          0  ...         0          0   \n",
       "4         1          0            0          0  ...         0          0   \n",
       "\n",
       "   ['지목']_종교용지  ['지목']_주유소용지  ['지목']_주차장  ['지목']_창고용지  ['지목']_철도용지  \\\n",
       "0            0             0           0            0            0   \n",
       "1            0             0           0            0            0   \n",
       "2            0             0           0            0            0   \n",
       "3            0             0           0            0            0   \n",
       "4            0             0           0            0            0   \n",
       "\n",
       "   ['지목']_체육용지  ['지목']_하천  ['지목']_학교용지  \n",
       "0            0          0            0  \n",
       "1            0          0            0  \n",
       "2            0          0            0  \n",
       "3            0          0            0  \n",
       "4            0          0            0  \n",
       "\n",
       "[5 rows x 28 columns]"
      ]
     },
     "execution_count": 79,
     "metadata": {},
     "output_type": "execute_result"
    }
   ],
   "source": [
    "pd.get_dummies(data['지목'], prefix=['지목']).head()"
   ]
  },
  {
   "cell_type": "code",
   "execution_count": 80,
   "id": "5f65a01d",
   "metadata": {},
   "outputs": [
    {
     "data": {
      "text/plain": [
       "Index(['시군구', '읍면동리', '지번구분', '지목', '면적', '용도지역1', '용도지역2', '이용상황', '주위환경',\n",
       "       '지세명', '형상명', '도로교통', '공시지가', '방위'],\n",
       "      dtype='object')"
      ]
     },
     "execution_count": 80,
     "metadata": {},
     "output_type": "execute_result"
    }
   ],
   "source": [
    "data.columns"
   ]
  },
  {
   "cell_type": "code",
   "execution_count": 81,
   "id": "86824bb0",
   "metadata": {},
   "outputs": [
    {
     "data": {
      "text/plain": [
       "'지목'"
      ]
     },
     "execution_count": 81,
     "metadata": {},
     "output_type": "execute_result"
    }
   ],
   "source": [
    "data.columns[3]"
   ]
  },
  {
   "cell_type": "code",
   "execution_count": 82,
   "id": "11eeceda",
   "metadata": {},
   "outputs": [
    {
     "data": {
      "text/plain": [
       "14"
      ]
     },
     "execution_count": 82,
     "metadata": {},
     "output_type": "execute_result"
    }
   ],
   "source": [
    "len(data.columns)"
   ]
  },
  {
   "cell_type": "code",
   "execution_count": 83,
   "id": "8d5845bc",
   "metadata": {},
   "outputs": [
    {
     "data": {
      "text/plain": [
       "Index(['지목', '면적', '용도지역1', '용도지역2', '이용상황', '주위환경', '지세명', '형상명', '도로교통',\n",
       "       '공시지가', '방위'],\n",
       "      dtype='object')"
      ]
     },
     "execution_count": 83,
     "metadata": {},
     "output_type": "execute_result"
    }
   ],
   "source": [
    "columns = data.columns[3:14]\n",
    "columns"
   ]
  },
  {
   "cell_type": "code",
   "execution_count": 84,
   "id": "3a0ddb05",
   "metadata": {
    "scrolled": true
   },
   "outputs": [],
   "source": [
    "data=data.fillna(0)"
   ]
  },
  {
   "cell_type": "code",
   "execution_count": 85,
   "id": "f4809a6c",
   "metadata": {},
   "outputs": [],
   "source": [
    "data=pd.get_dummies(data=data, columns=['지목'], prefix=['지목'])"
   ]
  },
  {
   "cell_type": "code",
   "execution_count": 86,
   "id": "675fe0ab",
   "metadata": {},
   "outputs": [
    {
     "data": {
      "text/html": [
       "<div>\n",
       "<style scoped>\n",
       "    .dataframe tbody tr th:only-of-type {\n",
       "        vertical-align: middle;\n",
       "    }\n",
       "\n",
       "    .dataframe tbody tr th {\n",
       "        vertical-align: top;\n",
       "    }\n",
       "\n",
       "    .dataframe thead th {\n",
       "        text-align: right;\n",
       "    }\n",
       "</style>\n",
       "<table border=\"1\" class=\"dataframe\">\n",
       "  <thead>\n",
       "    <tr style=\"text-align: right;\">\n",
       "      <th></th>\n",
       "      <th>시군구</th>\n",
       "      <th>읍면동리</th>\n",
       "      <th>지번구분</th>\n",
       "      <th>면적</th>\n",
       "      <th>용도지역1</th>\n",
       "      <th>용도지역2</th>\n",
       "      <th>이용상황</th>\n",
       "      <th>주위환경</th>\n",
       "      <th>지세명</th>\n",
       "      <th>형상명</th>\n",
       "      <th>...</th>\n",
       "      <th>지목_전</th>\n",
       "      <th>지목_제방</th>\n",
       "      <th>지목_종교용지</th>\n",
       "      <th>지목_주유소용지</th>\n",
       "      <th>지목_주차장</th>\n",
       "      <th>지목_창고용지</th>\n",
       "      <th>지목_철도용지</th>\n",
       "      <th>지목_체육용지</th>\n",
       "      <th>지목_하천</th>\n",
       "      <th>지목_학교용지</th>\n",
       "    </tr>\n",
       "  </thead>\n",
       "  <tbody>\n",
       "    <tr>\n",
       "      <th>0</th>\n",
       "      <td>11110</td>\n",
       "      <td>10100</td>\n",
       "      <td>1</td>\n",
       "      <td>1021.5</td>\n",
       "      <td>자연녹지지역</td>\n",
       "      <td>0</td>\n",
       "      <td>공원등</td>\n",
       "      <td>시가지주변 야산지대</td>\n",
       "      <td>급경사지</td>\n",
       "      <td>부정형</td>\n",
       "      <td>...</td>\n",
       "      <td>0</td>\n",
       "      <td>0</td>\n",
       "      <td>0</td>\n",
       "      <td>0</td>\n",
       "      <td>0</td>\n",
       "      <td>0</td>\n",
       "      <td>0</td>\n",
       "      <td>0</td>\n",
       "      <td>0</td>\n",
       "      <td>0</td>\n",
       "    </tr>\n",
       "    <tr>\n",
       "      <th>1</th>\n",
       "      <td>11110</td>\n",
       "      <td>10100</td>\n",
       "      <td>1</td>\n",
       "      <td>723.3</td>\n",
       "      <td>제1종일반주거지역</td>\n",
       "      <td>0</td>\n",
       "      <td>자연림</td>\n",
       "      <td>시가지주변 야산지대</td>\n",
       "      <td>완경사지</td>\n",
       "      <td>부정형</td>\n",
       "      <td>...</td>\n",
       "      <td>0</td>\n",
       "      <td>0</td>\n",
       "      <td>0</td>\n",
       "      <td>0</td>\n",
       "      <td>0</td>\n",
       "      <td>0</td>\n",
       "      <td>0</td>\n",
       "      <td>0</td>\n",
       "      <td>0</td>\n",
       "      <td>0</td>\n",
       "    </tr>\n",
       "    <tr>\n",
       "      <th>2</th>\n",
       "      <td>11110</td>\n",
       "      <td>10100</td>\n",
       "      <td>1</td>\n",
       "      <td>416.2</td>\n",
       "      <td>제1종일반주거지역</td>\n",
       "      <td>0</td>\n",
       "      <td>단독주택</td>\n",
       "      <td>기존 주택지대</td>\n",
       "      <td>완경사지</td>\n",
       "      <td>사다리형</td>\n",
       "      <td>...</td>\n",
       "      <td>0</td>\n",
       "      <td>0</td>\n",
       "      <td>0</td>\n",
       "      <td>0</td>\n",
       "      <td>0</td>\n",
       "      <td>0</td>\n",
       "      <td>0</td>\n",
       "      <td>0</td>\n",
       "      <td>0</td>\n",
       "      <td>0</td>\n",
       "    </tr>\n",
       "    <tr>\n",
       "      <th>3</th>\n",
       "      <td>11110</td>\n",
       "      <td>10100</td>\n",
       "      <td>1</td>\n",
       "      <td>811.3</td>\n",
       "      <td>제1종일반주거지역</td>\n",
       "      <td>0</td>\n",
       "      <td>연립주택</td>\n",
       "      <td>일반 주택지대</td>\n",
       "      <td>급경사지</td>\n",
       "      <td>부정형</td>\n",
       "      <td>...</td>\n",
       "      <td>0</td>\n",
       "      <td>0</td>\n",
       "      <td>0</td>\n",
       "      <td>0</td>\n",
       "      <td>0</td>\n",
       "      <td>0</td>\n",
       "      <td>0</td>\n",
       "      <td>0</td>\n",
       "      <td>0</td>\n",
       "      <td>0</td>\n",
       "    </tr>\n",
       "    <tr>\n",
       "      <th>4</th>\n",
       "      <td>11110</td>\n",
       "      <td>10100</td>\n",
       "      <td>1</td>\n",
       "      <td>442.3</td>\n",
       "      <td>제1종일반주거지역</td>\n",
       "      <td>0</td>\n",
       "      <td>연립주택</td>\n",
       "      <td>기존 주택지대</td>\n",
       "      <td>급경사지</td>\n",
       "      <td>사다리형</td>\n",
       "      <td>...</td>\n",
       "      <td>0</td>\n",
       "      <td>0</td>\n",
       "      <td>0</td>\n",
       "      <td>0</td>\n",
       "      <td>0</td>\n",
       "      <td>0</td>\n",
       "      <td>0</td>\n",
       "      <td>0</td>\n",
       "      <td>0</td>\n",
       "      <td>0</td>\n",
       "    </tr>\n",
       "  </tbody>\n",
       "</table>\n",
       "<p>5 rows × 41 columns</p>\n",
       "</div>"
      ],
      "text/plain": [
       "     시군구   읍면동리  지번구분      면적      용도지역1 용도지역2  이용상황        주위환경   지세명   형상명  \\\n",
       "0  11110  10100     1  1021.5     자연녹지지역     0   공원등  시가지주변 야산지대  급경사지   부정형   \n",
       "1  11110  10100     1   723.3  제1종일반주거지역     0   자연림  시가지주변 야산지대  완경사지   부정형   \n",
       "2  11110  10100     1   416.2  제1종일반주거지역     0  단독주택     기존 주택지대  완경사지  사다리형   \n",
       "3  11110  10100     1   811.3  제1종일반주거지역     0  연립주택     일반 주택지대  급경사지   부정형   \n",
       "4  11110  10100     1   442.3  제1종일반주거지역     0  연립주택     기존 주택지대  급경사지  사다리형   \n",
       "\n",
       "   ... 지목_전  지목_제방 지목_종교용지  지목_주유소용지  지목_주차장  지목_창고용지  지목_철도용지  지목_체육용지  \\\n",
       "0  ...    0      0       0         0       0        0        0        0   \n",
       "1  ...    0      0       0         0       0        0        0        0   \n",
       "2  ...    0      0       0         0       0        0        0        0   \n",
       "3  ...    0      0       0         0       0        0        0        0   \n",
       "4  ...    0      0       0         0       0        0        0        0   \n",
       "\n",
       "   지목_하천  지목_학교용지  \n",
       "0      0        0  \n",
       "1      0        0  \n",
       "2      0        0  \n",
       "3      0        0  \n",
       "4      0        0  \n",
       "\n",
       "[5 rows x 41 columns]"
      ]
     },
     "execution_count": 86,
     "metadata": {},
     "output_type": "execute_result"
    }
   ],
   "source": [
    "data.head()"
   ]
  },
  {
   "cell_type": "code",
   "execution_count": 101,
   "id": "512fd5ac",
   "metadata": {},
   "outputs": [],
   "source": [
    "data=pd.get_dummies(data=data, columns=['지세명'], prefix=['지세명'])"
   ]
  },
  {
   "cell_type": "code",
   "execution_count": 87,
   "id": "66b91dfb",
   "metadata": {},
   "outputs": [],
   "source": [
    "data=pd.get_dummies(data=data, columns=['용도지역1'], prefix=['용도지역1'])"
   ]
  },
  {
   "cell_type": "code",
   "execution_count": 88,
   "id": "18567c86",
   "metadata": {},
   "outputs": [],
   "source": [
    "data=pd.get_dummies(data=data, columns=['용도지역2'], prefix=['용도지역2'])"
   ]
  },
  {
   "cell_type": "code",
   "execution_count": 89,
   "id": "ef855d56",
   "metadata": {},
   "outputs": [],
   "source": [
    "data=pd.get_dummies(data=data, columns=['이용상황'], prefix=['이용상황'])"
   ]
  },
  {
   "cell_type": "code",
   "execution_count": 90,
   "id": "c38ab26a",
   "metadata": {},
   "outputs": [],
   "source": [
    "data=pd.get_dummies(data=data, columns=['주위환경'], prefix=['주위환경'])"
   ]
  },
  {
   "cell_type": "code",
   "execution_count": 91,
   "id": "b1b4156f",
   "metadata": {},
   "outputs": [],
   "source": [
    "data=pd.get_dummies(data=data, columns=['형상명'], prefix=['형상명'])"
   ]
  },
  {
   "cell_type": "code",
   "execution_count": 92,
   "id": "30c5bfbc",
   "metadata": {},
   "outputs": [],
   "source": [
    "data=pd.get_dummies(data=data, columns=['도로교통'], prefix=['도로교통'])"
   ]
  },
  {
   "cell_type": "code",
   "execution_count": 93,
   "id": "d39e5896",
   "metadata": {},
   "outputs": [],
   "source": [
    "data=pd.get_dummies(data=data, columns=['방위'], prefix=['방위'])"
   ]
  },
  {
   "cell_type": "code",
   "execution_count": 102,
   "id": "8c94ee65",
   "metadata": {
    "scrolled": true
   },
   "outputs": [
    {
     "data": {
      "text/html": [
       "<div>\n",
       "<style scoped>\n",
       "    .dataframe tbody tr th:only-of-type {\n",
       "        vertical-align: middle;\n",
       "    }\n",
       "\n",
       "    .dataframe tbody tr th {\n",
       "        vertical-align: top;\n",
       "    }\n",
       "\n",
       "    .dataframe thead th {\n",
       "        text-align: right;\n",
       "    }\n",
       "</style>\n",
       "<table border=\"1\" class=\"dataframe\">\n",
       "  <thead>\n",
       "    <tr style=\"text-align: right;\">\n",
       "      <th></th>\n",
       "      <th>시군구</th>\n",
       "      <th>읍면동리</th>\n",
       "      <th>지번구분</th>\n",
       "      <th>면적</th>\n",
       "      <th>공시지가</th>\n",
       "      <th>지목_공원</th>\n",
       "      <th>지목_공장용지</th>\n",
       "      <th>지목_과수원</th>\n",
       "      <th>지목_광천지</th>\n",
       "      <th>지목_구거</th>\n",
       "      <th>...</th>\n",
       "      <th>방위_동향</th>\n",
       "      <th>방위_북동향</th>\n",
       "      <th>방위_북서향</th>\n",
       "      <th>방위_북향</th>\n",
       "      <th>방위_서향</th>\n",
       "      <th>지세명_고지</th>\n",
       "      <th>지세명_급경사지</th>\n",
       "      <th>지세명_완경사지</th>\n",
       "      <th>지세명_저지</th>\n",
       "      <th>지세명_평지</th>\n",
       "    </tr>\n",
       "  </thead>\n",
       "  <tbody>\n",
       "    <tr>\n",
       "      <th>0</th>\n",
       "      <td>11110</td>\n",
       "      <td>10100</td>\n",
       "      <td>1</td>\n",
       "      <td>1021.5</td>\n",
       "      <td>493500</td>\n",
       "      <td>1</td>\n",
       "      <td>0</td>\n",
       "      <td>0</td>\n",
       "      <td>0</td>\n",
       "      <td>0</td>\n",
       "      <td>...</td>\n",
       "      <td>0</td>\n",
       "      <td>0</td>\n",
       "      <td>0</td>\n",
       "      <td>0</td>\n",
       "      <td>0</td>\n",
       "      <td>0</td>\n",
       "      <td>1</td>\n",
       "      <td>0</td>\n",
       "      <td>0</td>\n",
       "      <td>0</td>\n",
       "    </tr>\n",
       "    <tr>\n",
       "      <th>1</th>\n",
       "      <td>11110</td>\n",
       "      <td>10100</td>\n",
       "      <td>1</td>\n",
       "      <td>723.3</td>\n",
       "      <td>730500</td>\n",
       "      <td>0</td>\n",
       "      <td>0</td>\n",
       "      <td>0</td>\n",
       "      <td>0</td>\n",
       "      <td>0</td>\n",
       "      <td>...</td>\n",
       "      <td>0</td>\n",
       "      <td>0</td>\n",
       "      <td>0</td>\n",
       "      <td>0</td>\n",
       "      <td>0</td>\n",
       "      <td>0</td>\n",
       "      <td>0</td>\n",
       "      <td>1</td>\n",
       "      <td>0</td>\n",
       "      <td>0</td>\n",
       "    </tr>\n",
       "    <tr>\n",
       "      <th>2</th>\n",
       "      <td>11110</td>\n",
       "      <td>10100</td>\n",
       "      <td>1</td>\n",
       "      <td>416.2</td>\n",
       "      <td>4250000</td>\n",
       "      <td>0</td>\n",
       "      <td>0</td>\n",
       "      <td>0</td>\n",
       "      <td>0</td>\n",
       "      <td>0</td>\n",
       "      <td>...</td>\n",
       "      <td>0</td>\n",
       "      <td>1</td>\n",
       "      <td>0</td>\n",
       "      <td>0</td>\n",
       "      <td>0</td>\n",
       "      <td>0</td>\n",
       "      <td>0</td>\n",
       "      <td>1</td>\n",
       "      <td>0</td>\n",
       "      <td>0</td>\n",
       "    </tr>\n",
       "    <tr>\n",
       "      <th>3</th>\n",
       "      <td>11110</td>\n",
       "      <td>10100</td>\n",
       "      <td>1</td>\n",
       "      <td>811.3</td>\n",
       "      <td>3930000</td>\n",
       "      <td>0</td>\n",
       "      <td>0</td>\n",
       "      <td>0</td>\n",
       "      <td>0</td>\n",
       "      <td>0</td>\n",
       "      <td>...</td>\n",
       "      <td>0</td>\n",
       "      <td>0</td>\n",
       "      <td>0</td>\n",
       "      <td>0</td>\n",
       "      <td>0</td>\n",
       "      <td>0</td>\n",
       "      <td>1</td>\n",
       "      <td>0</td>\n",
       "      <td>0</td>\n",
       "      <td>0</td>\n",
       "    </tr>\n",
       "    <tr>\n",
       "      <th>4</th>\n",
       "      <td>11110</td>\n",
       "      <td>10100</td>\n",
       "      <td>1</td>\n",
       "      <td>442.3</td>\n",
       "      <td>3855000</td>\n",
       "      <td>0</td>\n",
       "      <td>0</td>\n",
       "      <td>0</td>\n",
       "      <td>0</td>\n",
       "      <td>0</td>\n",
       "      <td>...</td>\n",
       "      <td>0</td>\n",
       "      <td>0</td>\n",
       "      <td>0</td>\n",
       "      <td>0</td>\n",
       "      <td>0</td>\n",
       "      <td>0</td>\n",
       "      <td>1</td>\n",
       "      <td>0</td>\n",
       "      <td>0</td>\n",
       "      <td>0</td>\n",
       "    </tr>\n",
       "  </tbody>\n",
       "</table>\n",
       "<p>5 rows × 278 columns</p>\n",
       "</div>"
      ],
      "text/plain": [
       "     시군구   읍면동리  지번구분      면적     공시지가  지목_공원  지목_공장용지  지목_과수원  지목_광천지  지목_구거  \\\n",
       "0  11110  10100     1  1021.5   493500      1        0       0       0      0   \n",
       "1  11110  10100     1   723.3   730500      0        0       0       0      0   \n",
       "2  11110  10100     1   416.2  4250000      0        0       0       0      0   \n",
       "3  11110  10100     1   811.3  3930000      0        0       0       0      0   \n",
       "4  11110  10100     1   442.3  3855000      0        0       0       0      0   \n",
       "\n",
       "   ...  방위_동향  방위_북동향  방위_북서향  방위_북향  방위_서향  지세명_고지  지세명_급경사지  지세명_완경사지  \\\n",
       "0  ...      0       0       0      0      0       0         1         0   \n",
       "1  ...      0       0       0      0      0       0         0         1   \n",
       "2  ...      0       1       0      0      0       0         0         1   \n",
       "3  ...      0       0       0      0      0       0         1         0   \n",
       "4  ...      0       0       0      0      0       0         1         0   \n",
       "\n",
       "   지세명_저지  지세명_평지  \n",
       "0       0       0  \n",
       "1       0       0  \n",
       "2       0       0  \n",
       "3       0       0  \n",
       "4       0       0  \n",
       "\n",
       "[5 rows x 278 columns]"
      ]
     },
     "execution_count": 102,
     "metadata": {},
     "output_type": "execute_result"
    }
   ],
   "source": [
    "data.head()"
   ]
  },
  {
   "cell_type": "code",
   "execution_count": 103,
   "id": "2eae2280",
   "metadata": {},
   "outputs": [
    {
     "data": {
      "text/plain": [
       "(540050, 278)"
      ]
     },
     "execution_count": 103,
     "metadata": {},
     "output_type": "execute_result"
    }
   ],
   "source": [
    "data.shape"
   ]
  },
  {
   "cell_type": "code",
   "execution_count": 104,
   "id": "e0e66256",
   "metadata": {},
   "outputs": [
    {
     "data": {
      "text/plain": [
       "(540050, 278)"
      ]
     },
     "execution_count": 104,
     "metadata": {},
     "output_type": "execute_result"
    }
   ],
   "source": [
    "data.shape"
   ]
  },
  {
   "cell_type": "code",
   "execution_count": 105,
   "id": "d54b0eeb",
   "metadata": {},
   "outputs": [],
   "source": [
    "feature = data[data.columns.difference(['공시지가'])]\n",
    "target = data['공시지가']"
   ]
  },
  {
   "cell_type": "code",
   "execution_count": 106,
   "id": "ac6f63bd",
   "metadata": {},
   "outputs": [
    {
     "data": {
      "text/plain": [
       "540050"
      ]
     },
     "execution_count": 106,
     "metadata": {},
     "output_type": "execute_result"
    }
   ],
   "source": [
    "len(data)"
   ]
  },
  {
   "cell_type": "code",
   "execution_count": 107,
   "id": "559cb963",
   "metadata": {},
   "outputs": [],
   "source": [
    "from sklearn.model_selection import train_test_split\n",
    "\n",
    "train_input, test_input, train_target, test_target = train_test_split(feature, target, random_state=500000)"
   ]
  },
  {
   "cell_type": "markdown",
   "id": "02f5e03f",
   "metadata": {},
   "source": [
    "# 사이킷런"
   ]
  },
  {
   "cell_type": "markdown",
   "id": "1fcacd07",
   "metadata": {},
   "source": [
    "### 규제 전 표준화"
   ]
  },
  {
   "cell_type": "code",
   "execution_count": 108,
   "id": "98e24fd7",
   "metadata": {},
   "outputs": [],
   "source": [
    "from sklearn.preprocessing import StandardScaler\n",
    "\n",
    "ss = StandardScaler() #표준화 작업을 함수로서 지원\n",
    "ss.fit(train_input)\n",
    "\n",
    "train_scaled = ss.transform(train_input)\n",
    "test_scaled = ss.transform(test_input)"
   ]
  },
  {
   "cell_type": "markdown",
   "id": "65da6cc8",
   "metadata": {},
   "source": [
    "## 라쏘"
   ]
  },
  {
   "cell_type": "code",
   "execution_count": 109,
   "id": "a5b1f915",
   "metadata": {},
   "outputs": [
    {
     "name": "stderr",
     "output_type": "stream",
     "text": [
      "C:\\Users\\tj\\anaconda3\\lib\\site-packages\\sklearn\\linear_model\\_coordinate_descent.py:647: ConvergenceWarning: Objective did not converge. You might want to increase the number of iterations, check the scale of the features or consider increasing regularisation. Duality gap: 6.473e+17, tolerance: 2.723e+14\n",
      "  model = cd_fast.enet_coordinate_descent(\n"
     ]
    },
    {
     "name": "stdout",
     "output_type": "stream",
     "text": [
      "0.49986088434167586\n"
     ]
    }
   ],
   "source": [
    "from sklearn.linear_model import Lasso\n",
    "\n",
    "lasso = Lasso()\n",
    "lasso.fit(train_scaled, train_target)\n",
    "print(lasso.score(train_scaled, train_target))"
   ]
  },
  {
   "cell_type": "code",
   "execution_count": 110,
   "id": "e468e1d9",
   "metadata": {},
   "outputs": [
    {
     "name": "stdout",
     "output_type": "stream",
     "text": [
      "0.4944307437770691\n"
     ]
    }
   ],
   "source": [
    "print(lasso.score(test_scaled, test_target))"
   ]
  },
  {
   "cell_type": "code",
   "execution_count": null,
   "id": "84a09691",
   "metadata": {},
   "outputs": [],
   "source": []
  },
  {
   "cell_type": "code",
   "execution_count": 111,
   "id": "6a0f3124",
   "metadata": {},
   "outputs": [
    {
     "name": "stderr",
     "output_type": "stream",
     "text": [
      "C:\\Users\\tj\\anaconda3\\lib\\site-packages\\sklearn\\linear_model\\_coordinate_descent.py:647: ConvergenceWarning: Objective did not converge. You might want to increase the number of iterations, check the scale of the features or consider increasing regularisation. Duality gap: 6.802e+17, tolerance: 2.723e+14\n",
      "  model = cd_fast.enet_coordinate_descent(\n"
     ]
    },
    {
     "name": "stdout",
     "output_type": "stream",
     "text": [
      "0.49986089510775034\n",
      "0.4944307384977463\n"
     ]
    }
   ],
   "source": [
    "lasso = Lasso(alpha=0.02)\n",
    "lasso.fit(train_scaled, train_target)\n",
    "\n",
    "print(lasso.score(train_scaled, train_target))\n",
    "print(lasso.score(test_scaled, test_target))"
   ]
  },
  {
   "cell_type": "code",
   "execution_count": 112,
   "id": "107eb1c3",
   "metadata": {},
   "outputs": [
    {
     "name": "stderr",
     "output_type": "stream",
     "text": [
      "C:\\Users\\tj\\anaconda3\\lib\\site-packages\\sklearn\\linear_model\\_coordinate_descent.py:647: ConvergenceWarning: Objective did not converge. You might want to increase the number of iterations, check the scale of the features or consider increasing regularisation. Duality gap: 6.742e+17, tolerance: 2.723e+14\n",
      "  model = cd_fast.enet_coordinate_descent(\n"
     ]
    },
    {
     "name": "stdout",
     "output_type": "stream",
     "text": [
      "0.4998608930374703\n",
      "0.4944307400044391\n"
     ]
    }
   ],
   "source": [
    "lasso = Lasso(alpha=0.2)\n",
    "lasso.fit(train_scaled, train_target)\n",
    "\n",
    "print(lasso.score(train_scaled, train_target))\n",
    "print(lasso.score(test_scaled, test_target))"
   ]
  },
  {
   "cell_type": "code",
   "execution_count": 113,
   "id": "c4f281c4",
   "metadata": {},
   "outputs": [
    {
     "name": "stderr",
     "output_type": "stream",
     "text": [
      "C:\\Users\\tj\\AppData\\Local\\Temp\\ipykernel_5896\\1122559237.py:2: UserWarning: With alpha=0, this algorithm does not converge well. You are advised to use the LinearRegression estimator\n",
      "  lasso.fit(train_scaled, train_target)\n",
      "C:\\Users\\tj\\anaconda3\\lib\\site-packages\\sklearn\\linear_model\\_coordinate_descent.py:647: UserWarning: Coordinate descent with no regularization may lead to unexpected results and is discouraged.\n",
      "  model = cd_fast.enet_coordinate_descent(\n",
      "C:\\Users\\tj\\anaconda3\\lib\\site-packages\\sklearn\\linear_model\\_coordinate_descent.py:647: ConvergenceWarning: Objective did not converge. You might want to increase the number of iterations, check the scale of the features or consider increasing regularisation. Duality gap: 6.809e+17, tolerance: 2.723e+14 Linear regression models with null weight for the l1 regularization term are more efficiently fitted using one of the solvers implemented in sklearn.linear_model.Ridge/RidgeCV instead.\n",
      "  model = cd_fast.enet_coordinate_descent(\n"
     ]
    },
    {
     "name": "stdout",
     "output_type": "stream",
     "text": [
      "0.49986089541352896\n",
      "0.49443073838841567\n"
     ]
    }
   ],
   "source": [
    "lasso = Lasso(alpha=0)\n",
    "lasso.fit(train_scaled, train_target)\n",
    "\n",
    "print(lasso.score(train_scaled, train_target))\n",
    "print(lasso.score(test_scaled, test_target))"
   ]
  },
  {
   "cell_type": "code",
   "execution_count": 114,
   "id": "2aeeee53",
   "metadata": {},
   "outputs": [
    {
     "name": "stderr",
     "output_type": "stream",
     "text": [
      "C:\\Users\\tj\\anaconda3\\lib\\site-packages\\sklearn\\linear_model\\_coordinate_descent.py:647: ConvergenceWarning: Objective did not converge. You might want to increase the number of iterations, check the scale of the features or consider increasing regularisation. Duality gap: 6.809e+17, tolerance: 2.723e+14\n",
      "  model = cd_fast.enet_coordinate_descent(\n"
     ]
    },
    {
     "name": "stdout",
     "output_type": "stream",
     "text": [
      "0.49986089539826684\n",
      "0.4944307383939116\n"
     ]
    }
   ],
   "source": [
    "lasso = Lasso(alpha=0.001)\n",
    "lasso.fit(train_scaled, train_target)\n",
    "\n",
    "print(lasso.score(train_scaled, train_target))\n",
    "print(lasso.score(test_scaled, test_target))"
   ]
  },
  {
   "cell_type": "code",
   "execution_count": 115,
   "id": "969b5d56",
   "metadata": {},
   "outputs": [
    {
     "name": "stderr",
     "output_type": "stream",
     "text": [
      "C:\\Users\\tj\\anaconda3\\lib\\site-packages\\sklearn\\linear_model\\_coordinate_descent.py:647: ConvergenceWarning: Objective did not converge. You might want to increase the number of iterations, check the scale of the features or consider increasing regularisation. Duality gap: 6.809e+17, tolerance: 2.723e+14\n",
      "  model = cd_fast.enet_coordinate_descent(\n"
     ]
    },
    {
     "name": "stdout",
     "output_type": "stream",
     "text": [
      "0.49986089539826684\n",
      "0.4944307383939116\n"
     ]
    }
   ],
   "source": [
    "lasso = Lasso(alpha=0.001)\n",
    "lasso.fit(train_scaled, train_target)\n",
    "\n",
    "print(lasso.score(train_scaled, train_target))\n",
    "print(lasso.score(test_scaled, test_target))"
   ]
  },
  {
   "cell_type": "code",
   "execution_count": 116,
   "id": "73b0a8c3",
   "metadata": {},
   "outputs": [
    {
     "name": "stderr",
     "output_type": "stream",
     "text": [
      "C:\\Users\\tj\\anaconda3\\lib\\site-packages\\sklearn\\linear_model\\_coordinate_descent.py:647: ConvergenceWarning: Objective did not converge. You might want to increase the number of iterations, check the scale of the features or consider increasing regularisation. Duality gap: 6.775e+17, tolerance: 2.723e+14\n",
      "  model = cd_fast.enet_coordinate_descent(\n"
     ]
    },
    {
     "name": "stdout",
     "output_type": "stream",
     "text": [
      "0.49986089399121103\n",
      "0.4944307391673336\n"
     ]
    }
   ],
   "source": [
    "lasso = Lasso(alpha=0.1)\n",
    "lasso.fit(train_scaled, train_target)\n",
    "\n",
    "print(lasso.score(train_scaled, train_target))\n",
    "print(lasso.score(test_scaled, test_target))"
   ]
  },
  {
   "cell_type": "code",
   "execution_count": 117,
   "id": "1c758bc3",
   "metadata": {},
   "outputs": [
    {
     "name": "stderr",
     "output_type": "stream",
     "text": [
      "C:\\Users\\tj\\anaconda3\\lib\\site-packages\\sklearn\\linear_model\\_coordinate_descent.py:647: ConvergenceWarning: Objective did not converge. You might want to increase the number of iterations, check the scale of the features or consider increasing regularisation. Duality gap: 6.473e+17, tolerance: 2.723e+14\n",
      "  model = cd_fast.enet_coordinate_descent(\n"
     ]
    },
    {
     "name": "stdout",
     "output_type": "stream",
     "text": [
      "0.49986088434167586\n",
      "0.4944307437770691\n"
     ]
    }
   ],
   "source": [
    "lasso = Lasso(alpha=1)\n",
    "lasso.fit(train_scaled, train_target)\n",
    "\n",
    "print(lasso.score(train_scaled, train_target))\n",
    "print(lasso.score(test_scaled, test_target))"
   ]
  },
  {
   "cell_type": "code",
   "execution_count": 118,
   "id": "19e08b3d",
   "metadata": {},
   "outputs": [
    {
     "name": "stderr",
     "output_type": "stream",
     "text": [
      "C:\\Users\\tj\\anaconda3\\lib\\site-packages\\sklearn\\linear_model\\_coordinate_descent.py:647: ConvergenceWarning: Objective did not converge. You might want to increase the number of iterations, check the scale of the features or consider increasing regularisation. Duality gap: 3.401e+17, tolerance: 2.723e+14\n",
      "  model = cd_fast.enet_coordinate_descent(\n"
     ]
    },
    {
     "name": "stdout",
     "output_type": "stream",
     "text": [
      "0.4998607380170693\n",
      "0.4944307080118421\n"
     ]
    }
   ],
   "source": [
    "lasso = Lasso(alpha=10)\n",
    "lasso.fit(train_scaled, train_target)\n",
    "\n",
    "print(lasso.score(train_scaled, train_target))\n",
    "print(lasso.score(test_scaled, test_target))"
   ]
  },
  {
   "cell_type": "code",
   "execution_count": 119,
   "id": "216c8904",
   "metadata": {},
   "outputs": [
    {
     "name": "stderr",
     "output_type": "stream",
     "text": [
      "C:\\Users\\tj\\anaconda3\\lib\\site-packages\\sklearn\\linear_model\\_coordinate_descent.py:647: ConvergenceWarning: Objective did not converge. You might want to increase the number of iterations, check the scale of the features or consider increasing regularisation. Duality gap: 2.007e+15, tolerance: 2.723e+14\n",
      "  model = cd_fast.enet_coordinate_descent(\n"
     ]
    },
    {
     "name": "stdout",
     "output_type": "stream",
     "text": [
      "0.49985638528042287\n",
      "0.4944309687087076\n"
     ]
    }
   ],
   "source": [
    "lasso = Lasso(alpha=100)\n",
    "lasso.fit(train_scaled, train_target)\n",
    "\n",
    "print(lasso.score(train_scaled, train_target))\n",
    "print(lasso.score(test_scaled, test_target))"
   ]
  },
  {
   "cell_type": "code",
   "execution_count": 120,
   "id": "f9794e7b",
   "metadata": {},
   "outputs": [
    {
     "name": "stdout",
     "output_type": "stream",
     "text": [
      "0.49978960790593907\n",
      "0.4944082258359942\n"
     ]
    }
   ],
   "source": [
    "lasso = Lasso(alpha=1000)\n",
    "lasso.fit(train_scaled, train_target)\n",
    "\n",
    "print(lasso.score(train_scaled, train_target))\n",
    "print(lasso.score(test_scaled, test_target))"
   ]
  },
  {
   "cell_type": "code",
   "execution_count": 121,
   "id": "6206cb75",
   "metadata": {},
   "outputs": [
    {
     "name": "stdout",
     "output_type": "stream",
     "text": [
      "0.4980821674998399\n",
      "0.49275054389366957\n"
     ]
    }
   ],
   "source": [
    "lasso = Lasso(alpha=10000)\n",
    "lasso.fit(train_scaled, train_target)\n",
    "\n",
    "print(lasso.score(train_scaled, train_target))\n",
    "print(lasso.score(test_scaled, test_target))"
   ]
  },
  {
   "cell_type": "raw",
   "id": "f79e0583",
   "metadata": {},
   "source": [
    "따라서 가장 적합한 alpha는10 이며\n",
    "test 결과\n",
    "0.4898644634403717"
   ]
  },
  {
   "cell_type": "code",
   "execution_count": null,
   "id": "4f38b7dc",
   "metadata": {},
   "outputs": [],
   "source": [
    "# default\n",
    "# 0.4898650362909165\n",
    "# 0.4898650887553605\n",
    "\n",
    "# 0.489867872828719\n",
    "# 0.489867872828719"
   ]
  }
 ],
 "metadata": {
  "kernelspec": {
   "display_name": "Python 3 (ipykernel)",
   "language": "python",
   "name": "python3"
  },
  "language_info": {
   "codemirror_mode": {
    "name": "ipython",
    "version": 3
   },
   "file_extension": ".py",
   "mimetype": "text/x-python",
   "name": "python",
   "nbconvert_exporter": "python",
   "pygments_lexer": "ipython3",
   "version": "3.9.13"
  }
 },
 "nbformat": 4,
 "nbformat_minor": 5
}
