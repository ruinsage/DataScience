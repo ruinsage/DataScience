{
 "cells": [
  {
   "cell_type": "markdown",
   "id": "9da4f6cf",
   "metadata": {},
   "source": [
    "# 데이터 준비"
   ]
  },
  {
   "cell_type": "code",
   "execution_count": 1,
   "id": "cc52df8c",
   "metadata": {},
   "outputs": [],
   "source": [
    "import numpy as np"
   ]
  },
  {
   "cell_type": "code",
   "execution_count": 2,
   "id": "c9345fbe",
   "metadata": {},
   "outputs": [],
   "source": [
    "perch_length = np.array(\n",
    "    [8.4, 13.7, 15.0, 16.2, 17.4, 18.0, 18.7, 19.0, 19.6, 20.0, \n",
    "     21.0, 21.0, 21.0, 21.3, 22.0, 22.0, 22.0, 22.0, 22.0, 22.5, \n",
    "     22.5, 22.7, 23.0, 23.5, 24.0, 24.0, 24.6, 25.0, 25.6, 26.5, \n",
    "     27.3, 27.5, 27.5, 27.5, 28.0, 28.7, 30.0, 32.8, 34.5, 35.0, \n",
    "     36.5, 36.0, 37.0, 37.0, 39.0, 39.0, 39.0, 40.0, 40.0, 40.0, \n",
    "     40.0, 42.0, 43.0, 43.0, 43.5, 44.0]\n",
    "     )\n",
    "perch_weight = np.array(\n",
    "    [5.9, 32.0, 40.0, 51.5, 70.0, 100.0, 78.0, 80.0, 85.0, 85.0, \n",
    "     110.0, 115.0, 125.0, 130.0, 120.0, 120.0, 130.0, 135.0, 110.0, \n",
    "     130.0, 150.0, 145.0, 150.0, 170.0, 225.0, 145.0, 188.0, 180.0, \n",
    "     197.0, 218.0, 300.0, 260.0, 265.0, 250.0, 250.0, 300.0, 320.0, \n",
    "     514.0, 556.0, 840.0, 685.0, 700.0, 700.0, 690.0, 900.0, 650.0, \n",
    "     820.0, 850.0, 900.0, 1015.0, 820.0, 1100.0, 1000.0, 1100.0, \n",
    "     1000.0, 1000.0]\n",
    "     )"
   ]
  },
  {
   "cell_type": "code",
   "execution_count": 3,
   "id": "174ad382",
   "metadata": {},
   "outputs": [
    {
     "data": {
      "text/plain": [
       "(56, 56)"
      ]
     },
     "execution_count": 3,
     "metadata": {},
     "output_type": "execute_result"
    }
   ],
   "source": [
    "len(perch_length), len(perch_weight)"
   ]
  },
  {
   "cell_type": "code",
   "execution_count": 4,
   "id": "5bfe6f0e",
   "metadata": {},
   "outputs": [],
   "source": [
    "import matplotlib.pyplot as plt"
   ]
  },
  {
   "cell_type": "code",
   "execution_count": 5,
   "id": "65291aeb",
   "metadata": {},
   "outputs": [
    {
     "data": {
      "image/png": "[encoded data removed]",
      "text/plain": [
       "<Figure size 640x480 with 1 Axes>"
      ]
     },
     "metadata": {},
     "output_type": "display_data"
    }
   ],
   "source": [
    "plt.scatter(perch_length, perch_weight)\n",
    "plt.xlabel('length')\n",
    "plt.ylabel('weight')\n",
    "plt.show()"
   ]
  },
  {
   "cell_type": "code",
   "execution_count": 7,
   "id": "a5be7ee6",
   "metadata": {},
   "outputs": [],
   "source": [
    "from sklearn.model_selection import train_test_split"
   ]
  },
  {
   "cell_type": "code",
   "execution_count": 19,
   "id": "52ea7eef",
   "metadata": {},
   "outputs": [],
   "source": [
    "train_input, test_input, train_target, test_target = train_test_split(perch_length, perch_weight, random_state = 42)"
   ]
  },
  {
   "cell_type": "raw",
   "id": "3c6430b6",
   "metadata": {},
   "source": [
    "선형모델에서는 예를들어 0이나 1등의 분류클래스로 분류하는 것이 목적이지 않기 때문에 strafify옵션을 사용하지 않는다."
   ]
  },
  {
   "cell_type": "markdown",
   "id": "cd22eb47",
   "metadata": {},
   "source": [
    "## 차원변환"
   ]
  },
  {
   "cell_type": "code",
   "execution_count": 20,
   "id": "3de6dc73",
   "metadata": {
    "scrolled": true
   },
   "outputs": [
    {
     "name": "stdout",
     "output_type": "stream",
     "text": [
      "(42,) (14,)\n"
     ]
    }
   ],
   "source": [
    "print(train_input.shape, test_input.shape)"
   ]
  },
  {
   "cell_type": "code",
   "execution_count": 21,
   "id": "c5d344f2",
   "metadata": {},
   "outputs": [],
   "source": [
    "# k-최근접 모델을 학습시키기 위해서 특성값이 2차원 배열이 되어야하기 때문에 아래와 같이 차원을 바꾼다.\n",
    "# 일반적으로 특성은 N개이기 때문이다.\n",
    "# reshape: (-1,1) 열의 차원을 1로 고정하고 행은 데이터에 맞게 재할당하겠다는 의미\n",
    "train_input = train_input.reshape(-1,1)\n",
    "test_input = test_input.reshape(-1,1)"
   ]
  },
  {
   "cell_type": "code",
   "execution_count": 22,
   "id": "f52065b8",
   "metadata": {},
   "outputs": [
    {
     "name": "stdout",
     "output_type": "stream",
     "text": [
      "(42, 1) (14, 1)\n"
     ]
    }
   ],
   "source": [
    "print(train_input.shape, test_input.shape)"
   ]
  },
  {
   "cell_type": "markdown",
   "id": "5f43a9b6",
   "metadata": {},
   "source": [
    "## 선형회귀 평가 방식\n",
    " * 분류 모델은 평가를 정확도로 하지만 선형회귀모델은 정확도 이외에 다양한 방식으로 평가\n",
    " * k 최근접 모델은 R 스퀘어 방식으로 평가하는 score 함수를 제공함\n",
    " * $ R^2$ (결정 계수)\n",
    " * R 스퀘어 값은 정답률이 아니다. 얼마나 타깃에 근접한 결과를 냈는지를 표현하는 평가방식이다.\n",
    " * 정확히 예측할 수록 1에 가까운 값을 예측한다."
   ]
  },
  {
   "cell_type": "code",
   "execution_count": 23,
   "id": "0834d81d",
   "metadata": {},
   "outputs": [],
   "source": [
    "# 일반적으로 분류모델은 ....Classifier함수, 선형회귀모델은 .....Regressor함수를 사용\n",
    "from sklearn.neighbors import KNeighborsRegressor"
   ]
  },
  {
   "cell_type": "code",
   "execution_count": 24,
   "id": "53608a58",
   "metadata": {},
   "outputs": [
    {
     "data": {
      "text/plain": [
       "KNeighborsRegressor()"
      ]
     },
     "execution_count": 24,
     "metadata": {},
     "output_type": "execute_result"
    }
   ],
   "source": [
    "knr = KNeighborsRegressor()\n",
    "# k-최근접 이웃 회귀 모델을 훈련합니다.\n",
    "knr.fit(train_input, train_target)"
   ]
  },
  {
   "cell_type": "code",
   "execution_count": 25,
   "id": "7fcded65",
   "metadata": {},
   "outputs": [
    {
     "data": {
      "text/plain": [
       "0.992809406101064"
      ]
     },
     "execution_count": 25,
     "metadata": {},
     "output_type": "execute_result"
    }
   ],
   "source": [
    "knr.score(test_input, test_target)"
   ]
  },
  {
   "cell_type": "markdown",
   "id": "b930b9d1",
   "metadata": {},
   "source": [
    "## 평균절대오차(MAE:Mean Absolue Error) 방식으로 평가\n",
    " * 값이 적을수록 예측값이 실제값에 수렴하여 예측했다고 볼 수 있다."
   ]
  },
  {
   "cell_type": "code",
   "execution_count": 27,
   "id": "f26e20c0",
   "metadata": {},
   "outputs": [],
   "source": [
    "from sklearn.metrics import mean_absolute_error"
   ]
  },
  {
   "cell_type": "code",
   "execution_count": 28,
   "id": "1cc90383",
   "metadata": {},
   "outputs": [
    {
     "name": "stdout",
     "output_type": "stream",
     "text": [
      "19.157142857142862\n"
     ]
    }
   ],
   "source": [
    "# 테스트 세트에 대한 예측을 만든다.\n",
    "test_prediction = knr.predict(test_input)\n",
    "# 테스트 세트에 대한 평균 절대값 오차를 계산합니다.\n",
    "mae = mean_absolute_error(test_target, test_prediction)\n",
    "print(mae)"
   ]
  },
  {
   "cell_type": "markdown",
   "id": "e6255225",
   "metadata": {},
   "source": [
    "## 과대적합(Overfitting) vs 과소적합(Underfitting)\n",
    " * 과대적합\n",
    "    - 훈련셋의 결과가 테스트셋 결과보다 좋게 나오는 경우\n",
    "    - 너무 많은 데이터로 학습이 된 경우 => 모델이 훈련셋에 지나치게 최적화 된 경우\n",
    "    - 모델이 훈련셋에 맞게 하이퍼파라메터가 최적화 된 경우\n",
    " * 과소적합\n",
    "    - 테스트셋의 결과가 훈련셋 결과보다 좋게 나오는 경우\n",
    "    - 너무 적은 데이터로 학습이 된 경우 => 학습데이터가 적어서 우연히 훈련결과가 좋게 나온 경우\n",
    "    - 모델의 하이퍼파라메터가 최적화 되지 않은 경우 발생가능"
   ]
  },
  {
   "cell_type": "markdown",
   "id": "24812163",
   "metadata": {},
   "source": [
    "### 가장 좋은 것은 훈련셋의 결과와 테스트셋의 결과가 거의 동일해야 한다.\n",
    "    - 훈련셋의 결과와 테스트셋 결과의 간극을 줄이려는 노력을 해야한다."
   ]
  },
  {
   "cell_type": "code",
   "execution_count": 30,
   "id": "e9d22a4c",
   "metadata": {},
   "outputs": [],
   "source": [
    "### 훈련셋 평가결과"
   ]
  },
  {
   "cell_type": "code",
   "execution_count": 31,
   "id": "29795a42",
   "metadata": {},
   "outputs": [
    {
     "name": "stdout",
     "output_type": "stream",
     "text": [
      "0.9698823289099254\n"
     ]
    }
   ],
   "source": [
    "print(knr.score(train_input, train_target))"
   ]
  },
  {
   "cell_type": "markdown",
   "id": "6a03869a",
   "metadata": {},
   "source": [
    "### 테스트셋 평가결과"
   ]
  },
  {
   "cell_type": "code",
   "execution_count": 33,
   "id": "13cb4fd7",
   "metadata": {},
   "outputs": [
    {
     "name": "stdout",
     "output_type": "stream",
     "text": [
      "0.992809406101064\n"
     ]
    }
   ],
   "source": [
    "print(knr.score(test_input, test_target))"
   ]
  },
  {
   "cell_type": "code",
   "execution_count": 35,
   "id": "de84d13c",
   "metadata": {},
   "outputs": [],
   "source": [
    "# k-최근접 이웃 회귀 객체를 만듭니다.\n",
    "knr = KNeighborsRegressor()"
   ]
  },
  {
   "cell_type": "code",
   "execution_count": 36,
   "id": "21f01552",
   "metadata": {},
   "outputs": [],
   "source": [
    "from operator import itemgetter\n",
    "score_info = []\n",
    "for n in range(1,42+1):\n",
    "    n_data = {}\n",
    "    knr.n_neighbors = n\n",
    "    knr.fit(train_input, train_target)\n",
    "    train_score = knr.score(train_input, train_target)\n",
    "    test_score = knr.score(test_input, test_target)\n",
    "    \n",
    "    n_data['n_neighbors'] = n\n",
    "    n_data['train_score'] = train_score\n",
    "    n_data['test_score'] = test_score\n",
    "    n_data['score_difference'] = abs(train_score - test_score)\n",
    "    \n",
    "    score_info.append(n_data)"
   ]
  },
  {
   "cell_type": "code",
   "execution_count": 37,
   "id": "f7fba93b",
   "metadata": {},
   "outputs": [
    {
     "data": {
      "text/plain": [
       "[{'n_neighbors': 1,\n",
       "  'train_score': 0.9852830341215901,\n",
       "  'test_score': 0.991309195814175,\n",
       "  'score_difference': 0.006026161692584853},\n",
       " {'n_neighbors': 2,\n",
       "  'train_score': 0.9828437127041165,\n",
       "  'test_score': 0.9725010241788556,\n",
       "  'score_difference': 0.010342688525260879},\n",
       " {'n_neighbors': 3,\n",
       "  'train_score': 0.9804899950518966,\n",
       "  'test_score': 0.9746459963987609,\n",
       "  'score_difference': 0.005843998653135674},\n",
       " {'n_neighbors': 4,\n",
       "  'train_score': 0.978211389719245,\n",
       "  'test_score': 0.9840231023848637,\n",
       "  'score_difference': 0.00581171266561864},\n",
       " {'n_neighbors': 5,\n",
       "  'train_score': 0.9698823289099254,\n",
       "  'test_score': 0.992809406101064,\n",
       "  'score_difference': 0.022927077191138623},\n",
       " {'n_neighbors': 6,\n",
       "  'train_score': 0.9757140960298665,\n",
       "  'test_score': 0.9855001139899048,\n",
       "  'score_difference': 0.009786017960038307},\n",
       " {'n_neighbors': 7,\n",
       "  'train_score': 0.9761170732051527,\n",
       "  'test_score': 0.9781383949643516,\n",
       "  'score_difference': 0.002021321759198891},\n",
       " {'n_neighbors': 8,\n",
       "  'train_score': 0.9697604397763201,\n",
       "  'test_score': 0.9780541148735824,\n",
       "  'score_difference': 0.00829367509726231},\n",
       " {'n_neighbors': 9,\n",
       "  'train_score': 0.9693310367551284,\n",
       "  'test_score': 0.9692647749722698,\n",
       "  'score_difference': 6.626178285862316e-05},\n",
       " {'n_neighbors': 10,\n",
       "  'train_score': 0.96164569026043,\n",
       "  'test_score': 0.9737908255822255,\n",
       "  'score_difference': 0.012145135321795508}]"
      ]
     },
     "execution_count": 37,
     "metadata": {},
     "output_type": "execute_result"
    }
   ],
   "source": [
    "score_info[:10]"
   ]
  },
  {
   "cell_type": "markdown",
   "id": "99d974d4",
   "metadata": {},
   "source": [
    "### 훈련데이터 점수 Top5"
   ]
  },
  {
   "cell_type": "code",
   "execution_count": 40,
   "id": "3d5de79e",
   "metadata": {},
   "outputs": [
    {
     "data": {
      "text/plain": [
       "[{'n_neighbors': 1,\n",
       "  'train_score': 0.9852830341215901,\n",
       "  'test_score': 0.991309195814175,\n",
       "  'score_difference': 0.006026161692584853},\n",
       " {'n_neighbors': 2,\n",
       "  'train_score': 0.9828437127041165,\n",
       "  'test_score': 0.9725010241788556,\n",
       "  'score_difference': 0.010342688525260879},\n",
       " {'n_neighbors': 3,\n",
       "  'train_score': 0.9804899950518966,\n",
       "  'test_score': 0.9746459963987609,\n",
       "  'score_difference': 0.005843998653135674},\n",
       " {'n_neighbors': 4,\n",
       "  'train_score': 0.978211389719245,\n",
       "  'test_score': 0.9840231023848637,\n",
       "  'score_difference': 0.00581171266561864},\n",
       " {'n_neighbors': 7,\n",
       "  'train_score': 0.9761170732051527,\n",
       "  'test_score': 0.9781383949643516,\n",
       "  'score_difference': 0.002021321759198891}]"
      ]
     },
     "execution_count": 40,
     "metadata": {},
     "output_type": "execute_result"
    }
   ],
   "source": [
    "sorted(score_info, key = itemgetter('train_score'), reverse = True)[:5]"
   ]
  },
  {
   "cell_type": "markdown",
   "id": "616c0aca",
   "metadata": {},
   "source": [
    "### 시험데이터 점수 Top5 "
   ]
  },
  {
   "cell_type": "code",
   "execution_count": 41,
   "id": "315ff05f",
   "metadata": {},
   "outputs": [
    {
     "data": {
      "text/plain": [
       "[{'n_neighbors': 5,\n",
       "  'train_score': 0.9698823289099254,\n",
       "  'test_score': 0.992809406101064,\n",
       "  'score_difference': 0.022927077191138623},\n",
       " {'n_neighbors': 1,\n",
       "  'train_score': 0.9852830341215901,\n",
       "  'test_score': 0.991309195814175,\n",
       "  'score_difference': 0.006026161692584853},\n",
       " {'n_neighbors': 6,\n",
       "  'train_score': 0.9757140960298665,\n",
       "  'test_score': 0.9855001139899048,\n",
       "  'score_difference': 0.009786017960038307},\n",
       " {'n_neighbors': 4,\n",
       "  'train_score': 0.978211389719245,\n",
       "  'test_score': 0.9840231023848637,\n",
       "  'score_difference': 0.00581171266561864},\n",
       " {'n_neighbors': 7,\n",
       "  'train_score': 0.9761170732051527,\n",
       "  'test_score': 0.9781383949643516,\n",
       "  'score_difference': 0.002021321759198891}]"
      ]
     },
     "execution_count": 41,
     "metadata": {},
     "output_type": "execute_result"
    }
   ],
   "source": [
    "sorted(score_info, key = itemgetter('test_score'), reverse = True)[:5]"
   ]
  },
  {
   "cell_type": "markdown",
   "id": "9a3ea4ad",
   "metadata": {},
   "source": [
    "### 훈련데이터, 시험데이터 차이가 적은 순서5 "
   ]
  },
  {
   "cell_type": "code",
   "execution_count": 42,
   "id": "ecdde7b5",
   "metadata": {},
   "outputs": [
    {
     "data": {
      "text/plain": [
       "[{'n_neighbors': 9,\n",
       "  'train_score': 0.9693310367551284,\n",
       "  'test_score': 0.9692647749722698,\n",
       "  'score_difference': 6.626178285862316e-05},\n",
       " {'n_neighbors': 35,\n",
       "  'train_score': 0.39364532094316596,\n",
       "  'test_score': 0.3932185740967612,\n",
       "  'score_difference': 0.00042674684640475746},\n",
       " {'n_neighbors': 7,\n",
       "  'train_score': 0.9761170732051527,\n",
       "  'test_score': 0.9781383949643516,\n",
       "  'score_difference': 0.002021321759198891},\n",
       " {'n_neighbors': 34,\n",
       "  'train_score': 0.4318523822450875,\n",
       "  'test_score': 0.4347189526409505,\n",
       "  'score_difference': 0.0028665703958630218},\n",
       " {'n_neighbors': 4,\n",
       "  'train_score': 0.978211389719245,\n",
       "  'test_score': 0.9840231023848637,\n",
       "  'score_difference': 0.00581171266561864}]"
      ]
     },
     "execution_count": 42,
     "metadata": {},
     "output_type": "execute_result"
    }
   ],
   "source": [
    "sorted(score_info, key = itemgetter('score_difference'))[:5]"
   ]
  },
  {
   "cell_type": "markdown",
   "id": "36b9a600",
   "metadata": {},
   "source": [
    "### 어떤 기준으로 하이퍼파라메터를 선정할 것인가?\n",
    "* 절대적인 기준은 아님 하나의 예로 볼 것.\n",
    "* 훈련데이터와 시험데이터 점수 차이가 작아야 한다.\n",
    "* 훈련데이터 점수가 시험데이터 점수보다 크다\n",
    "* 그 중에서 시험데이터 점수가 가장 커야 한다."
   ]
  },
  {
   "cell_type": "code",
   "execution_count": null,
   "id": "a0878146",
   "metadata": {},
   "outputs": [],
   "source": []
  },
  {
   "cell_type": "code",
   "execution_count": null,
   "id": "67c76aef",
   "metadata": {},
   "outputs": [],
   "source": []
  },
  {
   "cell_type": "code",
   "execution_count": null,
   "id": "786b2596",
   "metadata": {},
   "outputs": [],
   "source": []
  },
  {
   "cell_type": "code",
   "execution_count": null,
   "id": "74025dc9",
   "metadata": {},
   "outputs": [],
   "source": []
  },
  {
   "cell_type": "code",
   "execution_count": null,
   "id": "07cac9e4",
   "metadata": {},
   "outputs": [],
   "source": []
  },
  {
   "cell_type": "code",
   "execution_count": null,
   "id": "e9b7a4bd",
   "metadata": {},
   "outputs": [],
   "source": []
  },
  {
   "cell_type": "code",
   "execution_count": null,
   "id": "fe69e313",
   "metadata": {},
   "outputs": [],
   "source": []
  },
  {
   "cell_type": "markdown",
   "id": "eb283c77",
   "metadata": {},
   "source": [
    "# k-최근접 이웃의 한계"
   ]
  },
  {
   "cell_type": "code",
   "execution_count": 46,
   "id": "3fee4b00",
   "metadata": {},
   "outputs": [],
   "source": [
    "import numpy as np\n",
    "\n",
    "perch_length = np.array(\n",
    "    [8.4, 13.7, 15.0, 16.2, 17.4, 18.0, 18.7, 19.0, 19.6, 20.0, \n",
    "     21.0, 21.0, 21.0, 21.3, 22.0, 22.0, 22.0, 22.0, 22.0, 22.5, \n",
    "     22.5, 22.7, 23.0, 23.5, 24.0, 24.0, 24.6, 25.0, 25.6, 26.5, \n",
    "     27.3, 27.5, 27.5, 27.5, 28.0, 28.7, 30.0, 32.8, 34.5, 35.0, \n",
    "     36.5, 36.0, 37.0, 37.0, 39.0, 39.0, 39.0, 40.0, 40.0, 40.0, \n",
    "     40.0, 42.0, 43.0, 43.0, 43.5, 44.0]\n",
    "     )\n",
    "perch_weight = np.array(\n",
    "    [5.9, 32.0, 40.0, 51.5, 70.0, 100.0, 78.0, 80.0, 85.0, 85.0, \n",
    "     110.0, 115.0, 125.0, 130.0, 120.0, 120.0, 130.0, 135.0, 110.0, \n",
    "     130.0, 150.0, 145.0, 150.0, 170.0, 225.0, 145.0, 188.0, 180.0, \n",
    "     197.0, 218.0, 300.0, 260.0, 265.0, 250.0, 250.0, 300.0, 320.0, \n",
    "     514.0, 556.0, 840.0, 685.0, 700.0, 700.0, 690.0, 900.0, 650.0, \n",
    "     820.0, 850.0, 900.0, 1015.0, 820.0, 1100.0, 1000.0, 1100.0, \n",
    "     1000.0, 1000.0]\n",
    "     )"
   ]
  },
  {
   "cell_type": "code",
   "execution_count": 48,
   "id": "2d21f6bf",
   "metadata": {},
   "outputs": [],
   "source": [
    "from sklearn.model_selection import train_test_split\n",
    "\n",
    "# 훈련세트와 테스트세트로 나눕니다.\n",
    "train_input, test_input, train_target, test_target = train_test_split(perch_length, perch_weight, random_state = 42)\n",
    "\n",
    "# 훈련세트와 테스트세트를 2차원 배열로 바꿉니다.\n",
    "train_input = train_input.reshape(-1,1)\n",
    "test_input = test_input.reshape(-1,1)"
   ]
  },
  {
   "cell_type": "code",
   "execution_count": 49,
   "id": "d43146a6",
   "metadata": {},
   "outputs": [
    {
     "data": {
      "text/plain": [
       "KNeighborsRegressor(n_neighbors=3)"
      ]
     },
     "execution_count": 49,
     "metadata": {},
     "output_type": "execute_result"
    }
   ],
   "source": [
    "from sklearn.neighbors import KNeighborsRegressor\n",
    "\n",
    "knr = KNeighborsRegressor(n_neighbors = 3)\n",
    "# k-최근접 이웃 회귀 모델을 훈련합니다.\n",
    "knr.fit(train_input, train_target)"
   ]
  },
  {
   "cell_type": "code",
   "execution_count": 50,
   "id": "e3750bca",
   "metadata": {},
   "outputs": [
    {
     "name": "stdout",
     "output_type": "stream",
     "text": [
      "[1033.33333333]\n"
     ]
    }
   ],
   "source": [
    "print(knr.predict([[50]]))"
   ]
  },
  {
   "cell_type": "markdown",
   "id": "de8af04c",
   "metadata": {},
   "source": [
    "## 예측값과 실제값의 차이가 크다."
   ]
  },
  {
   "cell_type": "code",
   "execution_count": 55,
   "id": "782019cb",
   "metadata": {},
   "outputs": [],
   "source": [
    "import matplotlib.pyplot as plt"
   ]
  },
  {
   "cell_type": "code",
   "execution_count": 57,
   "id": "3de29ab1",
   "metadata": {},
   "outputs": [
    {
     "data": {
      "text/plain": [
       "(array([[6., 7., 7.]]), array([[34,  8, 14]], dtype=int64))"
      ]
     },
     "execution_count": 57,
     "metadata": {},
     "output_type": "execute_result"
    }
   ],
   "source": [
    "# 50cm 농어의 이웃을 구합니다.\n",
    "distance, indexes = knr.kneighbors([[50]])\n",
    "distance, indexes"
   ]
  },
  {
   "cell_type": "code",
   "execution_count": 59,
   "id": "bf2a27a4",
   "metadata": {},
   "outputs": [
    {
     "data": {
      "image/png": "[encoded data removed]",
      "text/plain": [
       "<Figure size 640x480 with 1 Axes>"
      ]
     },
     "metadata": {},
     "output_type": "display_data"
    }
   ],
   "source": [
    "# 훈련세트의 산점도를 그립니다.\n",
    "plt.scatter(train_input, train_target)\n",
    "# 훈련세트 중에서 이웃 샘플만 다시 그립니다.\n",
    "plt.scatter(train_input[indexes], train_target[indexes], marker ='D')\n",
    "# 50cm 농어 데이터를 그립니다.\n",
    "plt.scatter(50,1033,marker = '^')\n",
    "plt.xlabel('lenth')\n",
    "plt.ylabel('weight')\n",
    "plt.show()"
   ]
  },
  {
   "cell_type": "code",
   "execution_count": 60,
   "id": "a9dc09db",
   "metadata": {},
   "outputs": [
    {
     "name": "stdout",
     "output_type": "stream",
     "text": [
      "1033.3333333333333\n"
     ]
    }
   ],
   "source": [
    "print(np.mean(train_target[indexes]))"
   ]
  },
  {
   "cell_type": "markdown",
   "id": "57ed727e",
   "metadata": {},
   "source": [
    "### 50cm의 농어의 무게 예측값의 차이를 설명할 수 잇는가?\n",
    "### 그렇다면 현재 모델에서 100cm의 농어의 예측값은 어떻게 될까?"
   ]
  },
  {
   "cell_type": "code",
   "execution_count": 62,
   "id": "83276de1",
   "metadata": {},
   "outputs": [
    {
     "name": "stdout",
     "output_type": "stream",
     "text": [
      "[1033.33333333]\n"
     ]
    }
   ],
   "source": [
    "print(knr.predict([[100]]))"
   ]
  },
  {
   "cell_type": "code",
   "execution_count": 63,
   "id": "23353d8d",
   "metadata": {},
   "outputs": [
    {
     "data": {
      "image/png": "[encoded data removed]",
      "text/plain": [
       "<Figure size 640x480 with 1 Axes>"
      ]
     },
     "metadata": {},
     "output_type": "display_data"
    }
   ],
   "source": [
    "# 100cm 농어의 이웃을 구합니다.\n",
    "distance, indexes = knr.kneighbors([[100]])\n",
    "\n",
    "# 훈련세트의 산점도를 그립니다.\n",
    "plt.scatter(train_input, train_target)\n",
    "# 훈련세트 중에서 이웃 샘플만 다시 그립니다.\n",
    "plt.scatter(train_input[indexes], train_target[indexes], marker = 'D')\n",
    "# 100cm 농어의 데이터를 그립니다.\n",
    "plt.scatter(100, 1033, marker = '^')\n",
    "plt.xlabel('lenth')\n",
    "plt.ylabel('weight')\n",
    "plt.show()"
   ]
  },
  {
   "cell_type": "markdown",
   "id": "9899e9d3",
   "metadata": {},
   "source": [
    "## 선형회귀"
   ]
  },
  {
   "cell_type": "code",
   "execution_count": 64,
   "id": "b47633c7",
   "metadata": {},
   "outputs": [],
   "source": [
    "from sklearn.linear_model import LinearRegression"
   ]
  },
  {
   "cell_type": "code",
   "execution_count": 65,
   "id": "8afc656f",
   "metadata": {},
   "outputs": [
    {
     "data": {
      "text/plain": [
       "LinearRegression()"
      ]
     },
     "execution_count": 65,
     "metadata": {},
     "output_type": "execute_result"
    }
   ],
   "source": [
    "lr = LinearRegression()\n",
    "# 선형회귀 모델 훈련\n",
    "lr.fit(train_input, train_target)"
   ]
  },
  {
   "cell_type": "code",
   "execution_count": 66,
   "id": "8cc03ddb",
   "metadata": {},
   "outputs": [
    {
     "name": "stdout",
     "output_type": "stream",
     "text": [
      "[1241.83860323]\n"
     ]
    }
   ],
   "source": [
    "# 50cm 농어에대한 예측 무게\n",
    "print(lr.predict([[50]]))"
   ]
  },
  {
   "cell_type": "code",
   "execution_count": 67,
   "id": "22676c5b",
   "metadata": {},
   "outputs": [
    {
     "name": "stdout",
     "output_type": "stream",
     "text": [
      "[3192.69585141]\n"
     ]
    }
   ],
   "source": [
    "print(lr.predict([[100]]))"
   ]
  },
  {
   "cell_type": "code",
   "execution_count": 68,
   "id": "0b8cc72d",
   "metadata": {},
   "outputs": [
    {
     "name": "stdout",
     "output_type": "stream",
     "text": [
      "[39.01714496] -709.0186449535477\n"
     ]
    }
   ],
   "source": [
    "# coefficient : 선형계수 => Target(label)에 미치는 영향력, 기울기정도. +면 우상향, -면 우하향\n",
    "# intercept : 절편\n",
    "print(lr.coef_, lr.intercept_)"
   ]
  },
  {
   "cell_type": "code",
   "execution_count": 70,
   "id": "74fe8fe2",
   "metadata": {},
   "outputs": [
    {
     "data": {
      "image/png": "[encoded data removed]",
      "text/plain": [
       "<Figure size 640x480 with 1 Axes>"
      ]
     },
     "metadata": {},
     "output_type": "display_data"
    }
   ],
   "source": [
    "# 훈련 세트의 산점도를 그립니다.\n",
    "plt.scatter(train_input, train_target)\n",
    "# 15에서 50까지 1차 방정식 그래프를 그립니다.\n",
    "# [15, 50] => 15 : 방정식의 x축 시작점, 50 : 방정식의 x축 종료점\n",
    "# [15 * lr.coef_ + lr.intercept_, 50 * lr.coef_ + lr.intercept_] : 15의 y값, 50의 y값\n",
    "plt.plot([15,50], [15 * lr.coef_ + lr.intercept_, 50 * lr.coef_ + lr.intercept_])\n",
    "# 50cm 농어 데이터\n",
    "plt.scatter(50, 1241.8, marker = '^')\n",
    "plt.xlabel('length')\n",
    "plt.ylabel('weight')\n",
    "plt.show()"
   ]
  },
  {
   "cell_type": "code",
   "execution_count": 71,
   "id": "000ea2d9",
   "metadata": {},
   "outputs": [
    {
     "name": "stdout",
     "output_type": "stream",
     "text": [
      "0.939846333997604\n",
      "0.8247503123313558\n"
     ]
    }
   ],
   "source": [
    "print(lr.score(train_input, train_target))\n",
    "print(lr.score(test_input, test_target))"
   ]
  },
  {
   "cell_type": "markdown",
   "id": "a9c65ced",
   "metadata": {},
   "source": [
    "### 위 결과에서 1차방정식 기반 선형회귀의 장점 및 문제점을 생각해 보자"
   ]
  },
  {
   "cell_type": "markdown",
   "id": "c51604fb",
   "metadata": {},
   "source": [
    "* 장점: 훈련되지 않은 추세에 대한 예측 가능\n",
    "* 문제점: 존재하지 않는 음수값을 예측할 수도 있다.\n",
    "          2차 방정식 패턴의 실제 데이터를 예측할 경우 feature 값이 커질수록 모델 성능이 떨어진다."
   ]
  },
  {
   "cell_type": "markdown",
   "id": "c93c75d9",
   "metadata": {},
   "source": [
    "## 다항 회귀 (Polynomial Regression)"
   ]
  },
  {
   "cell_type": "code",
   "execution_count": 73,
   "id": "8649e0e9",
   "metadata": {},
   "outputs": [],
   "source": [
    "# 다항 회귀를 위해 길이의 제곱값을 별도로 만들어준다.\n",
    "train_poly = np.column_stack((train_input **2, train_input))\n",
    "test_poly = np.column_stack((test_input **2, test_input))"
   ]
  },
  {
   "cell_type": "code",
   "execution_count": 75,
   "id": "956fc33e",
   "metadata": {},
   "outputs": [
    {
     "name": "stdout",
     "output_type": "stream",
     "text": [
      "(42, 2) (14, 2)\n"
     ]
    }
   ],
   "source": [
    "print(train_poly.shape, test_poly.shape)"
   ]
  },
  {
   "cell_type": "code",
   "execution_count": 76,
   "id": "0254cf07",
   "metadata": {},
   "outputs": [
    {
     "data": {
      "text/plain": [
       "array([[ 384.16,   19.6 ],\n",
       "       [ 484.  ,   22.  ],\n",
       "       [ 349.69,   18.7 ],\n",
       "       [ 302.76,   17.4 ],\n",
       "       [1296.  ,   36.  ]])"
      ]
     },
     "execution_count": 76,
     "metadata": {},
     "output_type": "execute_result"
    }
   ],
   "source": [
    "train_poly[:5]"
   ]
  },
  {
   "cell_type": "code",
   "execution_count": 77,
   "id": "2070e995",
   "metadata": {},
   "outputs": [
    {
     "data": {
      "text/plain": [
       "array([[ 70.56,   8.4 ],\n",
       "       [324.  ,  18.  ],\n",
       "       [756.25,  27.5 ],\n",
       "       [453.69,  21.3 ],\n",
       "       [506.25,  22.5 ]])"
      ]
     },
     "execution_count": 77,
     "metadata": {},
     "output_type": "execute_result"
    }
   ],
   "source": [
    "test_poly[:5]"
   ]
  },
  {
   "cell_type": "code",
   "execution_count": 78,
   "id": "8cd1c2a9",
   "metadata": {},
   "outputs": [
    {
     "name": "stdout",
     "output_type": "stream",
     "text": [
      "[1573.98423528]\n"
     ]
    }
   ],
   "source": [
    "# 기존의 LinearRegression 모델을 그대로 사용하고 다항 정보만 입력해 준다.\n",
    "# LinearRegression은 입력값에따라 자동적으로 N차 방정식 모델을 만들어준다.\n",
    "lr = LinearRegression()\n",
    "lr.fit(train_poly, train_target)\n",
    "\n",
    "print(lr.predict([[50**2,50]]))"
   ]
  },
  {
   "cell_type": "code",
   "execution_count": 79,
   "id": "f3868163",
   "metadata": {},
   "outputs": [
    {
     "name": "stdout",
     "output_type": "stream",
     "text": [
      "[  1.01433211 -21.55792498] 116.05021078278259\n"
     ]
    }
   ],
   "source": [
    "print(lr.coef_, lr.intercept_)"
   ]
  },
  {
   "cell_type": "code",
   "execution_count": 80,
   "id": "36960765",
   "metadata": {},
   "outputs": [
    {
     "data": {
      "image/png": "[encoded data removed]",
      "text/plain": [
       "<Figure size 640x480 with 1 Axes>"
      ]
     },
     "metadata": {},
     "output_type": "display_data"
    }
   ],
   "source": [
    "# 구간별 직선을 그리기 위해 15에서 49까지 정부 배열을 만듭니다.\n",
    "point = np.arange(15, 50)\n",
    "# 훈련세트의 산점도를 그립니다.\n",
    "plt.scatter(train_input, train_target)\n",
    "# 15에서 49까지 2차방정식 그래프를 그립니다.\n",
    "plt.plot(point, 1.01 * point **2 -21.6 * point + 116.05)\n",
    "# 50cm 농어 데이터\n",
    "plt.scatter([50], [1574], marker = '^')\n",
    "plt.xlabel('lenth')\n",
    "plt.ylabel('weight')\n",
    "plt.show()"
   ]
  },
  {
   "cell_type": "code",
   "execution_count": null,
   "id": "390f8197",
   "metadata": {},
   "outputs": [],
   "source": []
  }
 ],
 "metadata": {
  "kernelspec": {
   "display_name": "Python 3 (ipykernel)",
   "language": "python",
   "name": "python3"
  },
  "language_info": {
   "codemirror_mode": {
    "name": "ipython",
    "version": 3
   },
   "file_extension": ".py",
   "mimetype": "text/x-python",
   "name": "python",
   "nbconvert_exporter": "python",
   "pygments_lexer": "ipython3",
   "version": "3.9.13"
  }
 },
 "nbformat": 4,
 "nbformat_minor": 5
}
