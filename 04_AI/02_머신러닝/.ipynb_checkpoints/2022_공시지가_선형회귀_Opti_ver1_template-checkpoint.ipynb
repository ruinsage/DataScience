{
 "cells": [
  {
   "cell_type": "code",
   "execution_count": null,
   "id": "1c2538cb",
   "metadata": {},
   "outputs": [],
   "source": [
    "import pandas as pd"
   ]
  },
  {
   "cell_type": "code",
   "execution_count": null,
   "id": "89ff429f",
   "metadata": {
    "scrolled": true
   },
   "outputs": [],
   "source": [
    "data_org=pd.read_csv('2022_표준지_공시지가.csv')"
   ]
  },
  {
   "cell_type": "code",
   "execution_count": null,
   "id": "6bf134c2",
   "metadata": {
    "scrolled": true
   },
   "outputs": [],
   "source": [
    "data_org.head()"
   ]
  },
  {
   "cell_type": "code",
   "execution_count": null,
   "id": "7fbded32",
   "metadata": {},
   "outputs": [],
   "source": [
    "data=data_org.copy()"
   ]
  },
  {
   "cell_type": "code",
   "execution_count": null,
   "id": "3791a31e",
   "metadata": {},
   "outputs": [],
   "source": [
    "data.columns"
   ]
  },
  {
   "cell_type": "code",
   "execution_count": null,
   "id": "3851a22f",
   "metadata": {},
   "outputs": [],
   "source": [
    "data.info()"
   ]
  },
  {
   "cell_type": "code",
   "execution_count": null,
   "id": "db0e5f52",
   "metadata": {},
   "outputs": [],
   "source": [
    "data=data[[ '시군구', '읍면동리', '지번구분', '지목',\n",
    "       '면적', '용도지역1', '용도지역2', '이용상황', '주위환경', '지세명', '형상명', '도로교통', '공시지가',\n",
    "        '방위']]"
   ]
  },
  {
   "cell_type": "markdown",
   "id": "01e7291c",
   "metadata": {},
   "source": [
    "---"
   ]
  },
  {
   "cell_type": "code",
   "execution_count": null,
   "id": "455f335a",
   "metadata": {},
   "outputs": [],
   "source": [
    "# 역 구청 시청 학교는안중요"
   ]
  },
  {
   "cell_type": "code",
   "execution_count": null,
   "id": "4868b663",
   "metadata": {},
   "outputs": [],
   "source": [
    "data.head()"
   ]
  },
  {
   "cell_type": "code",
   "execution_count": null,
   "id": "eecde9b7",
   "metadata": {
    "scrolled": false
   },
   "outputs": [],
   "source": [
    "data['지목'].value_counts()"
   ]
  },
  {
   "cell_type": "code",
   "execution_count": null,
   "id": "22412fae",
   "metadata": {
    "scrolled": true
   },
   "outputs": [],
   "source": [
    "pd.get_dummies(data['지목'], prefix=['지목']).head()"
   ]
  },
  {
   "cell_type": "code",
   "execution_count": null,
   "id": "5f65a01d",
   "metadata": {},
   "outputs": [],
   "source": [
    "data.columns"
   ]
  },
  {
   "cell_type": "code",
   "execution_count": null,
   "id": "86824bb0",
   "metadata": {},
   "outputs": [],
   "source": [
    "data.columns[3]"
   ]
  },
  {
   "cell_type": "code",
   "execution_count": null,
   "id": "11eeceda",
   "metadata": {},
   "outputs": [],
   "source": [
    "len(data.columns)"
   ]
  },
  {
   "cell_type": "code",
   "execution_count": null,
   "id": "8d5845bc",
   "metadata": {},
   "outputs": [],
   "source": [
    "columns = data.columns[3:14]\n",
    "columns"
   ]
  },
  {
   "cell_type": "code",
   "execution_count": null,
   "id": "f4809a6c",
   "metadata": {},
   "outputs": [],
   "source": [
    "data=pd.get_dummies(data=data, columns=['지목'], prefix=['지목'])"
   ]
  },
  {
   "cell_type": "code",
   "execution_count": null,
   "id": "4df4414a",
   "metadata": {},
   "outputs": [],
   "source": [
    "data=pd.get_dummies(data=data, columns=['면적'], prefix=['면적'])"
   ]
  },
  {
   "cell_type": "code",
   "execution_count": null,
   "id": "66b91dfb",
   "metadata": {},
   "outputs": [],
   "source": [
    "data=pd.get_dummies(data=data, columns=['용도지역1'], prefix=['용도지역1'])"
   ]
  },
  {
   "cell_type": "code",
   "execution_count": null,
   "id": "18567c86",
   "metadata": {},
   "outputs": [],
   "source": [
    "data=pd.get_dummies(data=data, columns=['용도지역2'], prefix=['용도지역2'])"
   ]
  },
  {
   "cell_type": "code",
   "execution_count": null,
   "id": "ef855d56",
   "metadata": {},
   "outputs": [],
   "source": [
    "data=pd.get_dummies(data=data, columns=['이용상황'], prefix=['이용상황'])"
   ]
  },
  {
   "cell_type": "code",
   "execution_count": null,
   "id": "c38ab26a",
   "metadata": {},
   "outputs": [],
   "source": [
    "data=pd.get_dummies(data=data, columns=['주위환경'], prefix=['주위환경'])"
   ]
  },
  {
   "cell_type": "code",
   "execution_count": null,
   "id": "b1b4156f",
   "metadata": {},
   "outputs": [],
   "source": [
    "data=pd.get_dummies(data=data, columns=['형상명'], prefix=['형상명'])"
   ]
  },
  {
   "cell_type": "code",
   "execution_count": null,
   "id": "30c5bfbc",
   "metadata": {},
   "outputs": [],
   "source": [
    "data=pd.get_dummies(data=data, columns=['도로교통'], prefix=['도로교통'])"
   ]
  },
  {
   "cell_type": "code",
   "execution_count": null,
   "id": "d21da8eb",
   "metadata": {},
   "outputs": [],
   "source": [
    "data=pd.get_dummies(data=data, columns=['공시지가'], prefix=['공시지가'])"
   ]
  },
  {
   "cell_type": "code",
   "execution_count": null,
   "id": "d39e5896",
   "metadata": {},
   "outputs": [],
   "source": [
    "data=pd.get_dummies(data=data, columns=['방위'], prefix=['방위'])"
   ]
  },
  {
   "cell_type": "code",
   "execution_count": null,
   "id": "2eae2280",
   "metadata": {},
   "outputs": [],
   "source": [
    "data.shape"
   ]
  },
  {
   "cell_type": "code",
   "execution_count": null,
   "id": "3a0ddb05",
   "metadata": {},
   "outputs": [],
   "source": [
    "data=data.fillna(0)"
   ]
  },
  {
   "cell_type": "code",
   "execution_count": null,
   "id": "8c94ee65",
   "metadata": {
    "scrolled": true
   },
   "outputs": [],
   "source": [
    "data.head()"
   ]
  },
  {
   "cell_type": "code",
   "execution_count": null,
   "id": "e0e66256",
   "metadata": {},
   "outputs": [],
   "source": [
    "data.shape"
   ]
  },
  {
   "cell_type": "code",
   "execution_count": null,
   "id": "d54b0eeb",
   "metadata": {},
   "outputs": [],
   "source": [
    "feature = data[data.columns.difference(['공시지가'])]\n",
    "target = data['공시지가']"
   ]
  },
  {
   "cell_type": "code",
   "execution_count": null,
   "id": "ac6f63bd",
   "metadata": {},
   "outputs": [],
   "source": [
    "len(data)"
   ]
  },
  {
   "cell_type": "code",
   "execution_count": null,
   "id": "559cb963",
   "metadata": {},
   "outputs": [],
   "source": [
    "from sklearn.model_selection import train_test_split\n",
    "\n",
    "train_input, test_input, train_target, test_target = train_test_split(feature, target, random_state=500000)"
   ]
  },
  {
   "cell_type": "markdown",
   "id": "02f5e03f",
   "metadata": {},
   "source": [
    "# 사이킷런"
   ]
  },
  {
   "cell_type": "markdown",
   "id": "1fcacd07",
   "metadata": {},
   "source": [
    "### 규제 전 표준화"
   ]
  },
  {
   "cell_type": "code",
   "execution_count": null,
   "id": "98e24fd7",
   "metadata": {},
   "outputs": [],
   "source": [
    "from sklearn.preprocessing import StandardScaler\n",
    "\n",
    "ss = StandardScaler() #표준화 작업을 함수로서 지원\n",
    "ss.fit(train_input)\n",
    "\n",
    "train_scaled = ss.transform(train_input)\n",
    "test_scaled = ss.transform(test_input)"
   ]
  },
  {
   "cell_type": "markdown",
   "id": "65da6cc8",
   "metadata": {},
   "source": [
    "## 라쏘"
   ]
  },
  {
   "cell_type": "code",
   "execution_count": null,
   "id": "a5b1f915",
   "metadata": {},
   "outputs": [],
   "source": [
    "from sklearn.linear_model import Lasso\n",
    "\n",
    "lasso = Lasso()\n",
    "lasso.fit(train_scaled, train_target)\n",
    "print(lasso.score(train_scaled, train_target))"
   ]
  },
  {
   "cell_type": "code",
   "execution_count": null,
   "id": "e468e1d9",
   "metadata": {},
   "outputs": [],
   "source": [
    "print(lasso.score(test_scaled, test_target))"
   ]
  },
  {
   "cell_type": "code",
   "execution_count": null,
   "id": "84a09691",
   "metadata": {},
   "outputs": [],
   "source": []
  },
  {
   "cell_type": "code",
   "execution_count": null,
   "id": "6a0f3124",
   "metadata": {},
   "outputs": [],
   "source": [
    "lasso = Lasso(alpha=0.02)\n",
    "lasso.fit(train_scaled, train_target)\n",
    "\n",
    "print(lasso.score(train_scaled, train_target))\n",
    "print(lasso.score(test_scaled, test_target))"
   ]
  },
  {
   "cell_type": "code",
   "execution_count": null,
   "id": "107eb1c3",
   "metadata": {},
   "outputs": [],
   "source": [
    "lasso = Lasso(alpha=0.2)\n",
    "lasso.fit(train_scaled, train_target)\n",
    "\n",
    "print(lasso.score(train_scaled, train_target))\n",
    "print(lasso.score(test_scaled, test_target))"
   ]
  },
  {
   "cell_type": "code",
   "execution_count": null,
   "id": "c4f281c4",
   "metadata": {},
   "outputs": [],
   "source": [
    "lasso = Lasso(alpha=0)\n",
    "lasso.fit(train_scaled, train_target)\n",
    "\n",
    "print(lasso.score(train_scaled, train_target))\n",
    "print(lasso.score(test_scaled, test_target))"
   ]
  },
  {
   "cell_type": "code",
   "execution_count": null,
   "id": "2aeeee53",
   "metadata": {},
   "outputs": [],
   "source": [
    "lasso = Lasso(alpha=0.001)\n",
    "lasso.fit(train_scaled, train_target)\n",
    "\n",
    "print(lasso.score(train_scaled, train_target))\n",
    "print(lasso.score(test_scaled, test_target))"
   ]
  },
  {
   "cell_type": "code",
   "execution_count": null,
   "id": "969b5d56",
   "metadata": {},
   "outputs": [],
   "source": [
    "lasso = Lasso(alpha=0.001)\n",
    "lasso.fit(train_scaled, train_target)\n",
    "\n",
    "print(lasso.score(train_scaled, train_target))\n",
    "print(lasso.score(test_scaled, test_target))"
   ]
  },
  {
   "cell_type": "code",
   "execution_count": null,
   "id": "73b0a8c3",
   "metadata": {},
   "outputs": [],
   "source": [
    "lasso = Lasso(alpha=0.1)\n",
    "lasso.fit(train_scaled, train_target)\n",
    "\n",
    "print(lasso.score(train_scaled, train_target))\n",
    "print(lasso.score(test_scaled, test_target))"
   ]
  },
  {
   "cell_type": "code",
   "execution_count": null,
   "id": "1c758bc3",
   "metadata": {},
   "outputs": [],
   "source": [
    "lasso = Lasso(alpha=1)\n",
    "lasso.fit(train_scaled, train_target)\n",
    "\n",
    "print(lasso.score(train_scaled, train_target))\n",
    "print(lasso.score(test_scaled, test_target))"
   ]
  },
  {
   "cell_type": "code",
   "execution_count": null,
   "id": "19e08b3d",
   "metadata": {},
   "outputs": [],
   "source": [
    "lasso = Lasso(alpha=10)\n",
    "lasso.fit(train_scaled, train_target)\n",
    "\n",
    "print(lasso.score(train_scaled, train_target))\n",
    "print(lasso.score(test_scaled, test_target))"
   ]
  },
  {
   "cell_type": "code",
   "execution_count": null,
   "id": "216c8904",
   "metadata": {},
   "outputs": [],
   "source": [
    "lasso = Lasso(alpha=100)\n",
    "lasso.fit(train_scaled, train_target)\n",
    "\n",
    "print(lasso.score(train_scaled, train_target))\n",
    "print(lasso.score(test_scaled, test_target))"
   ]
  },
  {
   "cell_type": "code",
   "execution_count": null,
   "id": "f9794e7b",
   "metadata": {},
   "outputs": [],
   "source": [
    "lasso = Lasso(alpha=1000)\n",
    "lasso.fit(train_scaled, train_target)\n",
    "\n",
    "print(lasso.score(train_scaled, train_target))\n",
    "print(lasso.score(test_scaled, test_target))"
   ]
  },
  {
   "cell_type": "code",
   "execution_count": null,
   "id": "6206cb75",
   "metadata": {},
   "outputs": [],
   "source": [
    "lasso = Lasso(alpha=10000)\n",
    "lasso.fit(train_scaled, train_target)\n",
    "\n",
    "print(lasso.score(train_scaled, train_target))\n",
    "print(lasso.score(test_scaled, test_target))"
   ]
  },
  {
   "cell_type": "raw",
   "id": "f79e0583",
   "metadata": {},
   "source": [
    "따라서 가장 적합한 alpha는10 이며\n",
    "test 결과\n",
    "0.4898644634403717"
   ]
  },
  {
   "cell_type": "code",
   "execution_count": null,
   "id": "4f38b7dc",
   "metadata": {},
   "outputs": [],
   "source": [
    "# default\n",
    "# 0.4898650362909165\n",
    "# 0.4898650887553605\n",
    "\n",
    "# 0.489867872828719\n",
    "# 0.489867872828719"
   ]
  }
 ],
 "metadata": {
  "kernelspec": {
   "display_name": "Python 3 (ipykernel)",
   "language": "python",
   "name": "python3"
  },
  "language_info": {
   "codemirror_mode": {
    "name": "ipython",
    "version": 3
   },
   "file_extension": ".py",
   "mimetype": "text/x-python",
   "name": "python",
   "nbconvert_exporter": "python",
   "pygments_lexer": "ipython3",
   "version": "3.9.13"
  }
 },
 "nbformat": 4,
 "nbformat_minor": 5
}
