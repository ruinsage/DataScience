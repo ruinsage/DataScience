{
 "cells": [
  {
   "cell_type": "code",
   "execution_count": 47,
   "id": "02c127b1",
   "metadata": {},
   "outputs": [],
   "source": [
    "import pickle\n",
    "import pandas as pd\n",
    "import numpy as np\n",
    "import matplotlib.pyplot as plt\n",
    "import sklearn.cluster, sklearn.preprocessing\n",
    "from sklearn.model_selection import cross_validate\n",
    "from sklearn.model_selection import train_test_split\n",
    "from sklearn.ensemble import RandomForestClassifier\n",
    "from sklearn.metrics import silhouette_score\n",
    "from sklearn.cluster import KMeans\n",
    "import re\n",
    "import urllib.request\n",
    "from konlpy.tag import Okt\n",
    "from tqdm import tqdm\n",
    "from tensorflow.keras.preprocessing.text import Tokenizer\n",
    "from tensorflow.keras.preprocessing.sequence import pad_sequences\n",
    "import pickle\n",
    "from sklearn.feature_extraction.text import CountVectorizer\n",
    "from sklearn.feature_extraction.text import TfidfTransformer"
   ]
  },
  {
   "cell_type": "code",
   "execution_count": 24,
   "id": "3cbee03f",
   "metadata": {},
   "outputs": [
    {
     "data": {
      "text/html": [
       "<div>\n",
       "<style scoped>\n",
       "    .dataframe tbody tr th:only-of-type {\n",
       "        vertical-align: middle;\n",
       "    }\n",
       "\n",
       "    .dataframe tbody tr th {\n",
       "        vertical-align: top;\n",
       "    }\n",
       "\n",
       "    .dataframe thead th {\n",
       "        text-align: right;\n",
       "    }\n",
       "</style>\n",
       "<table border=\"1\" class=\"dataframe\">\n",
       "  <thead>\n",
       "    <tr style=\"text-align: right;\">\n",
       "      <th></th>\n",
       "      <th>ID</th>\n",
       "      <th>WRITER</th>\n",
       "      <th>CONTENT</th>\n",
       "      <th>TYPE</th>\n",
       "      <th>SCORE</th>\n",
       "      <th>CREATED_AT</th>\n",
       "      <th>RENTAL_CAR_ID</th>\n",
       "    </tr>\n",
       "  </thead>\n",
       "  <tbody>\n",
       "    <tr>\n",
       "      <th>0</th>\n",
       "      <td>0</td>\n",
       "      <td>미식가고양이</td>\n",
       "      <td>거짓후기인가... 직원분들 모두 친절하고 셔틀도 바로 오시던데 신차급차량과 렌트비도...</td>\n",
       "      <td>카카오맵</td>\n",
       "      <td>5</td>\n",
       "      <td>22.11.20.</td>\n",
       "      <td>2</td>\n",
       "    </tr>\n",
       "    <tr>\n",
       "      <th>1</th>\n",
       "      <td>1</td>\n",
       "      <td>♤♡♤</td>\n",
       "      <td>별도 아깝네요. 그래도 다른 여직원분은 설명도 잘해주시고 친절했는데 반납할때 다른 ...</td>\n",
       "      <td>카카오맵</td>\n",
       "      <td>1</td>\n",
       "      <td>22.11.05.</td>\n",
       "      <td>2</td>\n",
       "    </tr>\n",
       "    <tr>\n",
       "      <th>2</th>\n",
       "      <td>2</td>\n",
       "      <td>ㅇㅇ</td>\n",
       "      <td>별하나도 아깝네요 불친절에 바가지 지대로고요 다시는 안갈듯. 기분좋게 여행하려  수...</td>\n",
       "      <td>카카오맵</td>\n",
       "      <td>1</td>\n",
       "      <td>22.08.24.</td>\n",
       "      <td>2</td>\n",
       "    </tr>\n",
       "    <tr>\n",
       "      <th>3</th>\n",
       "      <td>3</td>\n",
       "      <td>클리너</td>\n",
       "      <td>원래 이런거 귀찮아서 안올리는데,  혹시 저와 같은 피해자가 또 생길까 봐서 참고하...</td>\n",
       "      <td>카카오맵</td>\n",
       "      <td>1</td>\n",
       "      <td>22.07.19.</td>\n",
       "      <td>2</td>\n",
       "    </tr>\n",
       "    <tr>\n",
       "      <th>4</th>\n",
       "      <td>4</td>\n",
       "      <td>도라이몽</td>\n",
       "      <td>카운터에 있는 여자남자 둘다 진짜 심각함. 제주도 촌이라서 아무나 쓰는 건지.. 사...</td>\n",
       "      <td>카카오맵</td>\n",
       "      <td>1</td>\n",
       "      <td>22.03.08.</td>\n",
       "      <td>2</td>\n",
       "    </tr>\n",
       "    <tr>\n",
       "      <th>...</th>\n",
       "      <td>...</td>\n",
       "      <td>...</td>\n",
       "      <td>...</td>\n",
       "      <td>...</td>\n",
       "      <td>...</td>\n",
       "      <td>...</td>\n",
       "      <td>...</td>\n",
       "    </tr>\n",
       "    <tr>\n",
       "      <th>2694</th>\n",
       "      <td>2694</td>\n",
       "      <td>거긴어디</td>\n",
       "      <td>다신 안감</td>\n",
       "      <td>카카오맵</td>\n",
       "      <td>1</td>\n",
       "      <td>19.06.26.</td>\n",
       "      <td>113</td>\n",
       "    </tr>\n",
       "    <tr>\n",
       "      <th>2695</th>\n",
       "      <td>2695</td>\n",
       "      <td>Leeyongsook</td>\n",
       "      <td>별 하나도 아까운 곳~서비스 개엉망에 졸싸가지없는여직원렌트카하나때문에 기분 바가지로...</td>\n",
       "      <td>카카오맵</td>\n",
       "      <td>1</td>\n",
       "      <td>19.06.15.</td>\n",
       "      <td>113</td>\n",
       "    </tr>\n",
       "    <tr>\n",
       "      <th>2696</th>\n",
       "      <td>2696</td>\n",
       "      <td>♡행복한사람♡</td>\n",
       "      <td>퍼시픽렌트카에서 K7 빌려서 여행 3일째 저녁에 공기압 떴어요.저흰 완전자차만했는데...</td>\n",
       "      <td>카카오맵</td>\n",
       "      <td>1</td>\n",
       "      <td>19.06.10.</td>\n",
       "      <td>113</td>\n",
       "    </tr>\n",
       "    <tr>\n",
       "      <th>2697</th>\n",
       "      <td>2697</td>\n",
       "      <td>정재용</td>\n",
       "      <td>계약서에 기입한 기름 퍼센티지 정확히 확인바람.출발전 찍은 기름양만큼 넣지만 기름양...</td>\n",
       "      <td>카카오맵</td>\n",
       "      <td>1</td>\n",
       "      <td>19.06.01.</td>\n",
       "      <td>113</td>\n",
       "    </tr>\n",
       "    <tr>\n",
       "      <th>2698</th>\n",
       "      <td>2698</td>\n",
       "      <td>서동일</td>\n",
       "      <td></td>\n",
       "      <td>카카오맵</td>\n",
       "      <td>2</td>\n",
       "      <td>19.04.27.</td>\n",
       "      <td>113</td>\n",
       "    </tr>\n",
       "  </tbody>\n",
       "</table>\n",
       "<p>2699 rows × 7 columns</p>\n",
       "</div>"
      ],
      "text/plain": [
       "        ID       WRITER                                            CONTENT  \\\n",
       "0        0       미식가고양이  거짓후기인가... 직원분들 모두 친절하고 셔틀도 바로 오시던데 신차급차량과 렌트비도...   \n",
       "1        1          ♤♡♤  별도 아깝네요. 그래도 다른 여직원분은 설명도 잘해주시고 친절했는데 반납할때 다른 ...   \n",
       "2        2           ㅇㅇ  별하나도 아깝네요 불친절에 바가지 지대로고요 다시는 안갈듯. 기분좋게 여행하려  수...   \n",
       "3        3          클리너  원래 이런거 귀찮아서 안올리는데,  혹시 저와 같은 피해자가 또 생길까 봐서 참고하...   \n",
       "4        4         도라이몽  카운터에 있는 여자남자 둘다 진짜 심각함. 제주도 촌이라서 아무나 쓰는 건지.. 사...   \n",
       "...    ...          ...                                                ...   \n",
       "2694  2694         거긴어디                                              다신 안감   \n",
       "2695  2695  Leeyongsook  별 하나도 아까운 곳~서비스 개엉망에 졸싸가지없는여직원렌트카하나때문에 기분 바가지로...   \n",
       "2696  2696      ♡행복한사람♡  퍼시픽렌트카에서 K7 빌려서 여행 3일째 저녁에 공기압 떴어요.저흰 완전자차만했는데...   \n",
       "2697  2697          정재용  계약서에 기입한 기름 퍼센티지 정확히 확인바람.출발전 찍은 기름양만큼 넣지만 기름양...   \n",
       "2698  2698          서동일                                                      \n",
       "\n",
       "      TYPE  SCORE CREATED_AT  RENTAL_CAR_ID  \n",
       "0     카카오맵      5  22.11.20.              2  \n",
       "1     카카오맵      1  22.11.05.              2  \n",
       "2     카카오맵      1  22.08.24.              2  \n",
       "3     카카오맵      1  22.07.19.              2  \n",
       "4     카카오맵      1  22.03.08.              2  \n",
       "...    ...    ...        ...            ...  \n",
       "2694  카카오맵      1  19.06.26.            113  \n",
       "2695  카카오맵      1  19.06.15.            113  \n",
       "2696  카카오맵      1  19.06.10.            113  \n",
       "2697  카카오맵      1  19.06.01.            113  \n",
       "2698  카카오맵      2  19.04.27.            113  \n",
       "\n",
       "[2699 rows x 7 columns]"
      ]
     },
     "execution_count": 24,
     "metadata": {},
     "output_type": "execute_result"
    }
   ],
   "source": [
    "input_file = 'kakao_review_result.csv'\n",
    "df_kakao = pd.read_csv(input_file)\n",
    "df_kakao"
   ]
  },
  {
   "cell_type": "code",
   "execution_count": 25,
   "id": "b0f1096b",
   "metadata": {},
   "outputs": [],
   "source": [
    "df_kakao_temp = pd.concat([df_kakao['CONTENT'],df_kakao['SCORE'],df_kakao['RENTAL_CAR_ID']], axis = 1)"
   ]
  },
  {
   "cell_type": "code",
   "execution_count": 26,
   "id": "091743b7",
   "metadata": {},
   "outputs": [
    {
     "data": {
      "text/html": [
       "<div>\n",
       "<style scoped>\n",
       "    .dataframe tbody tr th:only-of-type {\n",
       "        vertical-align: middle;\n",
       "    }\n",
       "\n",
       "    .dataframe tbody tr th {\n",
       "        vertical-align: top;\n",
       "    }\n",
       "\n",
       "    .dataframe thead th {\n",
       "        text-align: right;\n",
       "    }\n",
       "</style>\n",
       "<table border=\"1\" class=\"dataframe\">\n",
       "  <thead>\n",
       "    <tr style=\"text-align: right;\">\n",
       "      <th></th>\n",
       "      <th>CONTENT</th>\n",
       "      <th>SCORE</th>\n",
       "      <th>RENTAL_CAR_ID</th>\n",
       "    </tr>\n",
       "  </thead>\n",
       "  <tbody>\n",
       "    <tr>\n",
       "      <th>0</th>\n",
       "      <td>거짓후기인가... 직원분들 모두 친절하고 셔틀도 바로 오시던데 신차급차량과 렌트비도...</td>\n",
       "      <td>5</td>\n",
       "      <td>2</td>\n",
       "    </tr>\n",
       "    <tr>\n",
       "      <th>1</th>\n",
       "      <td>별도 아깝네요. 그래도 다른 여직원분은 설명도 잘해주시고 친절했는데 반납할때 다른 ...</td>\n",
       "      <td>1</td>\n",
       "      <td>2</td>\n",
       "    </tr>\n",
       "    <tr>\n",
       "      <th>2</th>\n",
       "      <td>별하나도 아깝네요 불친절에 바가지 지대로고요 다시는 안갈듯. 기분좋게 여행하려  수...</td>\n",
       "      <td>1</td>\n",
       "      <td>2</td>\n",
       "    </tr>\n",
       "    <tr>\n",
       "      <th>3</th>\n",
       "      <td>원래 이런거 귀찮아서 안올리는데,  혹시 저와 같은 피해자가 또 생길까 봐서 참고하...</td>\n",
       "      <td>1</td>\n",
       "      <td>2</td>\n",
       "    </tr>\n",
       "    <tr>\n",
       "      <th>4</th>\n",
       "      <td>카운터에 있는 여자남자 둘다 진짜 심각함. 제주도 촌이라서 아무나 쓰는 건지.. 사...</td>\n",
       "      <td>1</td>\n",
       "      <td>2</td>\n",
       "    </tr>\n",
       "    <tr>\n",
       "      <th>...</th>\n",
       "      <td>...</td>\n",
       "      <td>...</td>\n",
       "      <td>...</td>\n",
       "    </tr>\n",
       "    <tr>\n",
       "      <th>2694</th>\n",
       "      <td>다신 안감</td>\n",
       "      <td>1</td>\n",
       "      <td>113</td>\n",
       "    </tr>\n",
       "    <tr>\n",
       "      <th>2695</th>\n",
       "      <td>별 하나도 아까운 곳~서비스 개엉망에 졸싸가지없는여직원렌트카하나때문에 기분 바가지로...</td>\n",
       "      <td>1</td>\n",
       "      <td>113</td>\n",
       "    </tr>\n",
       "    <tr>\n",
       "      <th>2696</th>\n",
       "      <td>퍼시픽렌트카에서 K7 빌려서 여행 3일째 저녁에 공기압 떴어요.저흰 완전자차만했는데...</td>\n",
       "      <td>1</td>\n",
       "      <td>113</td>\n",
       "    </tr>\n",
       "    <tr>\n",
       "      <th>2697</th>\n",
       "      <td>계약서에 기입한 기름 퍼센티지 정확히 확인바람.출발전 찍은 기름양만큼 넣지만 기름양...</td>\n",
       "      <td>1</td>\n",
       "      <td>113</td>\n",
       "    </tr>\n",
       "    <tr>\n",
       "      <th>2698</th>\n",
       "      <td></td>\n",
       "      <td>2</td>\n",
       "      <td>113</td>\n",
       "    </tr>\n",
       "  </tbody>\n",
       "</table>\n",
       "<p>2699 rows × 3 columns</p>\n",
       "</div>"
      ],
      "text/plain": [
       "                                                CONTENT  SCORE  RENTAL_CAR_ID\n",
       "0     거짓후기인가... 직원분들 모두 친절하고 셔틀도 바로 오시던데 신차급차량과 렌트비도...      5              2\n",
       "1     별도 아깝네요. 그래도 다른 여직원분은 설명도 잘해주시고 친절했는데 반납할때 다른 ...      1              2\n",
       "2     별하나도 아깝네요 불친절에 바가지 지대로고요 다시는 안갈듯. 기분좋게 여행하려  수...      1              2\n",
       "3     원래 이런거 귀찮아서 안올리는데,  혹시 저와 같은 피해자가 또 생길까 봐서 참고하...      1              2\n",
       "4     카운터에 있는 여자남자 둘다 진짜 심각함. 제주도 촌이라서 아무나 쓰는 건지.. 사...      1              2\n",
       "...                                                 ...    ...            ...\n",
       "2694                                              다신 안감      1            113\n",
       "2695  별 하나도 아까운 곳~서비스 개엉망에 졸싸가지없는여직원렌트카하나때문에 기분 바가지로...      1            113\n",
       "2696  퍼시픽렌트카에서 K7 빌려서 여행 3일째 저녁에 공기압 떴어요.저흰 완전자차만했는데...      1            113\n",
       "2697  계약서에 기입한 기름 퍼센티지 정확히 확인바람.출발전 찍은 기름양만큼 넣지만 기름양...      1            113\n",
       "2698                                                         2            113\n",
       "\n",
       "[2699 rows x 3 columns]"
      ]
     },
     "execution_count": 26,
     "metadata": {},
     "output_type": "execute_result"
    }
   ],
   "source": [
    "df_kakao_temp"
   ]
  },
  {
   "cell_type": "code",
   "execution_count": 27,
   "id": "ec8ab081",
   "metadata": {},
   "outputs": [
    {
     "data": {
      "text/plain": [
       "(2575, 5)"
      ]
     },
     "execution_count": 27,
     "metadata": {},
     "output_type": "execute_result"
    }
   ],
   "source": [
    "train_data = df_kakao_temp\n",
    "train_data['CONTENT'].nunique(), train_data['SCORE'].nunique()"
   ]
  },
  {
   "cell_type": "code",
   "execution_count": 28,
   "id": "5850e8d0",
   "metadata": {},
   "outputs": [
    {
     "name": "stdout",
     "output_type": "stream",
     "text": [
      "총 샘플의 수 : 2575\n"
     ]
    }
   ],
   "source": [
    "train_data.drop_duplicates(subset = ['CONTENT'], inplace = True)\n",
    "print(f'총 샘플의 수 : {len(train_data)}')"
   ]
  },
  {
   "cell_type": "code",
   "execution_count": 29,
   "id": "c2077e7c",
   "metadata": {},
   "outputs": [
    {
     "name": "stdout",
     "output_type": "stream",
     "text": [
      "CONTENT          0\n",
      "SCORE            0\n",
      "RENTAL_CAR_ID    0\n",
      "dtype: int64\n"
     ]
    }
   ],
   "source": [
    "print(train_data.isnull().sum())"
   ]
  },
  {
   "cell_type": "code",
   "execution_count": 39,
   "id": "482d2490",
   "metadata": {
    "scrolled": true
   },
   "outputs": [
    {
     "name": "stderr",
     "output_type": "stream",
     "text": [
      "C:\\Users\\tj\\AppData\\Local\\Temp\\ipykernel_12224\\1586705489.py:1: FutureWarning: The default value of regex will change from True to False in a future version.\n",
      "  train_data['CONTENT'] = train_data['CONTENT'].str.replace('[^ㄱ-ㅎ ㅏ-ㅣ 가-힣]','')\n"
     ]
    },
    {
     "data": {
      "text/html": [
       "<div>\n",
       "<style scoped>\n",
       "    .dataframe tbody tr th:only-of-type {\n",
       "        vertical-align: middle;\n",
       "    }\n",
       "\n",
       "    .dataframe tbody tr th {\n",
       "        vertical-align: top;\n",
       "    }\n",
       "\n",
       "    .dataframe thead th {\n",
       "        text-align: right;\n",
       "    }\n",
       "</style>\n",
       "<table border=\"1\" class=\"dataframe\">\n",
       "  <thead>\n",
       "    <tr style=\"text-align: right;\">\n",
       "      <th></th>\n",
       "      <th>CONTENT</th>\n",
       "      <th>SCORE</th>\n",
       "      <th>RENTAL_CAR_ID</th>\n",
       "    </tr>\n",
       "  </thead>\n",
       "  <tbody>\n",
       "    <tr>\n",
       "      <th>0</th>\n",
       "      <td>거짓후기인가 직원분들 모두 친절하고 셔틀도 바로 오시던데 신차급차량과 렌트비도 모두...</td>\n",
       "      <td>5</td>\n",
       "      <td>2</td>\n",
       "    </tr>\n",
       "    <tr>\n",
       "      <th>1</th>\n",
       "      <td>별도 아깝네요 그래도 다른 여직원분은 설명도 잘해주시고 친절했는데 반납할때 다른 여...</td>\n",
       "      <td>1</td>\n",
       "      <td>2</td>\n",
       "    </tr>\n",
       "    <tr>\n",
       "      <th>2</th>\n",
       "      <td>별하나도 아깝네요 불친절에 바가지 지대로고요 다시는 안갈듯 기분좋게 여행하려  수많...</td>\n",
       "      <td>1</td>\n",
       "      <td>2</td>\n",
       "    </tr>\n",
       "    <tr>\n",
       "      <th>3</th>\n",
       "      <td>원래 이런거 귀찮아서 안올리는데  혹시 저와 같은 피해자가 또 생길까 봐서 참고하시...</td>\n",
       "      <td>1</td>\n",
       "      <td>2</td>\n",
       "    </tr>\n",
       "    <tr>\n",
       "      <th>4</th>\n",
       "      <td>카운터에 있는 여자남자 둘다 진짜 심각함 제주도 촌이라서 아무나 쓰는 건지 사람 좀...</td>\n",
       "      <td>1</td>\n",
       "      <td>2</td>\n",
       "    </tr>\n",
       "  </tbody>\n",
       "</table>\n",
       "</div>"
      ],
      "text/plain": [
       "                                             CONTENT  SCORE  RENTAL_CAR_ID\n",
       "0  거짓후기인가 직원분들 모두 친절하고 셔틀도 바로 오시던데 신차급차량과 렌트비도 모두...      5              2\n",
       "1  별도 아깝네요 그래도 다른 여직원분은 설명도 잘해주시고 친절했는데 반납할때 다른 여...      1              2\n",
       "2  별하나도 아깝네요 불친절에 바가지 지대로고요 다시는 안갈듯 기분좋게 여행하려  수많...      1              2\n",
       "3  원래 이런거 귀찮아서 안올리는데  혹시 저와 같은 피해자가 또 생길까 봐서 참고하시...      1              2\n",
       "4  카운터에 있는 여자남자 둘다 진짜 심각함 제주도 촌이라서 아무나 쓰는 건지 사람 좀...      1              2"
      ]
     },
     "execution_count": 39,
     "metadata": {},
     "output_type": "execute_result"
    }
   ],
   "source": [
    "train_data['CONTENT'] = train_data['CONTENT'].str.replace('[^ㄱ-ㅎ ㅏ-ㅣ 가-힣]','')\n",
    "train_data[:5]"
   ]
  },
  {
   "cell_type": "code",
   "execution_count": 41,
   "id": "fa8ae322",
   "metadata": {},
   "outputs": [
    {
     "name": "stdout",
     "output_type": "stream",
     "text": [
      "CONTENT          17\n",
      "SCORE             0\n",
      "RENTAL_CAR_ID     0\n",
      "dtype: int64\n"
     ]
    },
    {
     "name": "stderr",
     "output_type": "stream",
     "text": [
      "C:\\Users\\tj\\AppData\\Local\\Temp\\ipykernel_12224\\1025747114.py:1: FutureWarning: The default value of regex will change from True to False in a future version.\n",
      "  train_data['CONTENT'] = train_data['CONTENT'].str.replace('^ +','') # 공백문자를 지우기\n"
     ]
    }
   ],
   "source": [
    "train_data['CONTENT'] = train_data['CONTENT'].str.replace('^ +','') # 공백문자를 지우기\n",
    "train_data['CONTENT'].replace('', np.nan, inplace = True)\n",
    "print(train_data.isnull().sum()) # nan값 세기"
   ]
  },
  {
   "cell_type": "code",
   "execution_count": 42,
   "id": "416903c2",
   "metadata": {},
   "outputs": [
    {
     "data": {
      "text/html": [
       "<div>\n",
       "<style scoped>\n",
       "    .dataframe tbody tr th:only-of-type {\n",
       "        vertical-align: middle;\n",
       "    }\n",
       "\n",
       "    .dataframe tbody tr th {\n",
       "        vertical-align: top;\n",
       "    }\n",
       "\n",
       "    .dataframe thead th {\n",
       "        text-align: right;\n",
       "    }\n",
       "</style>\n",
       "<table border=\"1\" class=\"dataframe\">\n",
       "  <thead>\n",
       "    <tr style=\"text-align: right;\">\n",
       "      <th></th>\n",
       "      <th>CONTENT</th>\n",
       "      <th>SCORE</th>\n",
       "      <th>RENTAL_CAR_ID</th>\n",
       "    </tr>\n",
       "  </thead>\n",
       "  <tbody>\n",
       "    <tr>\n",
       "      <th>21</th>\n",
       "      <td>NaN</td>\n",
       "      <td>1</td>\n",
       "      <td>3</td>\n",
       "    </tr>\n",
       "    <tr>\n",
       "      <th>265</th>\n",
       "      <td>NaN</td>\n",
       "      <td>5</td>\n",
       "      <td>6</td>\n",
       "    </tr>\n",
       "    <tr>\n",
       "      <th>342</th>\n",
       "      <td>NaN</td>\n",
       "      <td>5</td>\n",
       "      <td>12</td>\n",
       "    </tr>\n",
       "    <tr>\n",
       "      <th>426</th>\n",
       "      <td>NaN</td>\n",
       "      <td>5</td>\n",
       "      <td>15</td>\n",
       "    </tr>\n",
       "    <tr>\n",
       "      <th>862</th>\n",
       "      <td>NaN</td>\n",
       "      <td>5</td>\n",
       "      <td>38</td>\n",
       "    </tr>\n",
       "  </tbody>\n",
       "</table>\n",
       "</div>"
      ],
      "text/plain": [
       "    CONTENT  SCORE  RENTAL_CAR_ID\n",
       "21      NaN      1              3\n",
       "265     NaN      5              6\n",
       "342     NaN      5             12\n",
       "426     NaN      5             15\n",
       "862     NaN      5             38"
      ]
     },
     "execution_count": 42,
     "metadata": {},
     "output_type": "execute_result"
    }
   ],
   "source": [
    "train_data.loc[train_data.CONTENT.isnull()][:5]"
   ]
  },
  {
   "cell_type": "code",
   "execution_count": 43,
   "id": "f927f77a",
   "metadata": {},
   "outputs": [
    {
     "name": "stdout",
     "output_type": "stream",
     "text": [
      "2558\n"
     ]
    }
   ],
   "source": [
    "train_data = train_data.dropna(how = 'any') # nan값 버리기\n",
    "print(len(train_data)) # nan값 버린후 데이터 수 세기"
   ]
  },
  {
   "cell_type": "code",
   "execution_count": 50,
   "id": "0436d6f5",
   "metadata": {},
   "outputs": [
    {
     "name": "stderr",
     "output_type": "stream",
     "text": [
      "100%|██████████████████████████████████████████████████████████████████████████████| 2558/2558 [00:27<00:00, 92.47it/s]\n"
     ]
    }
   ],
   "source": [
    "okt = Okt()\n",
    "X_train = []\n",
    "for sentence in tqdm(train_data['CONTENT']):\n",
    "    tokenized_sentence = okt.morphs(sentence, stem = True) # 토큰화\n",
    "    stopwords_removed_sentence = [word for word in tokenized_sentence if not word in stopwords]\n",
    "    X_train.append(stopwords_removed_sentence)"
   ]
  },
  {
   "cell_type": "code",
   "execution_count": 51,
   "id": "01051561",
   "metadata": {},
   "outputs": [
    {
     "name": "stdout",
     "output_type": "stream",
     "text": [
      "[['거짓', '후기', '인가', '직원', '분들', '모두', '친절하다', '셔틀', '바로', '오다', '신차', '급', '차량', '렌트', '비도', '모두', '만족', '오버', '되다', '연료', '합리', '적', '환불', '해주다', '심다', '제', '주', '여행', '때', '이용', '계획', '이다'], ['별도', '아깝다', '그래도', '다른', '여직원', '분', '설명', '해주다', '친절하다', '반납', '때', '다른', '여', '직원', '분', '완전', '싸다', '없다', '얘기', '떽떽', '거려', '서', '즐겁다', '제주', '여행', '마무리', '집', '오다', '그', '지', '같다', 'ㅡㅡ'], ['별하나', '아깝다', '불친절', '바가지', '지', '대', '로고', '요', '다시다', '안', '갈다', '기분', '좋다', '여행', '수많다', '계획', '을', '짜다', '오다', '렌트카', '완전', '재우', '탱', '이쁘다', '대다', '쓰다']]\n"
     ]
    }
   ],
   "source": [
    "print(X_train[:3])"
   ]
  },
  {
   "cell_type": "code",
   "execution_count": 89,
   "id": "fa9721e6",
   "metadata": {},
   "outputs": [
    {
     "data": {
      "text/plain": [
       "['거짓']"
      ]
     },
     "execution_count": 89,
     "metadata": {},
     "output_type": "execute_result"
    }
   ],
   "source": [
    "# 단어 리스트로 변환\n",
    "def flatten(l):\n",
    "    flatList = []\n",
    "    for elem in l:\n",
    "        if type(elem) == list:\n",
    "            for e in elem:\n",
    "                flatList.append(e)\n",
    "        else:\n",
    "            flatList.append(elem)\n",
    "    return flatList\n",
    "\n",
    "word_list=flatten(X_train)\n",
    "word_list[:1]"
   ]
  },
  {
   "cell_type": "code",
   "execution_count": 90,
   "id": "f756b217",
   "metadata": {},
   "outputs": [
    {
     "data": {
      "text/plain": [
       "없다     1045\n",
       "차량      983\n",
       "있다      981\n",
       "이용      935\n",
       "반납      928\n",
       "좋다      913\n",
       "직원      869\n",
       "렌트카     721\n",
       "에서      634\n",
       "보다      604\n",
       "dtype: int64"
      ]
     },
     "execution_count": 90,
     "metadata": {},
     "output_type": "execute_result"
    }
   ],
   "source": [
    "# 두글자 이상인 단어만 추출\n",
    "word_list=pd.Series([x for x in word_list if len(x)>1])\n",
    "word_list.value_counts().head(10)"
   ]
  },
  {
   "cell_type": "code",
   "execution_count": null,
   "id": "f2f76c95",
   "metadata": {},
   "outputs": [],
   "source": []
  },
  {
   "cell_type": "code",
   "execution_count": null,
   "id": "3c141197",
   "metadata": {},
   "outputs": [],
   "source": []
  },
  {
   "cell_type": "code",
   "execution_count": null,
   "id": "be571d4e",
   "metadata": {},
   "outputs": [],
   "source": []
  },
  {
   "cell_type": "raw",
   "id": "36de84cd",
   "metadata": {},
   "source": [
    "train_data['CONTENT']"
   ]
  },
  {
   "cell_type": "raw",
   "id": "b8033369",
   "metadata": {},
   "source": [
    "all_data = []\n",
    "for line in train_data['CONTENT']:\n",
    "    all_data.append(line)\n",
    "len(all_data)"
   ]
  },
  {
   "cell_type": "raw",
   "id": "51f49a36",
   "metadata": {},
   "source": [
    "word_dic = {}\n",
    "for line in all_data:\n",
    "    malist = okt.pos(line,norm=True, stem=True)\n",
    "    for word in malist:\n",
    "        if word[1] == \"Noun\": #  명사 확인하기 --- (※3)\n",
    "            if not (word[0] in word_dic):\n",
    "                word_dic[word[0]] = 0\n",
    "            word_dic[word[0]] += 1 # 카운트하기\n",
    "# 많이 사용된 명사 출력하기 --- (※4)\n",
    "keys = sorted(word_dic.items(), key=lambda x:x[1], reverse=True)\n",
    "\n",
    "for word, count in keys:\n",
    "    print(\"{0}({1}) \".format(word, count))\n",
    "print()"
   ]
  },
  {
   "cell_type": "code",
   "execution_count": 91,
   "id": "95d1a4b0",
   "metadata": {},
   "outputs": [],
   "source": [
    "stopwords = ['의','가','이','은','들','는','좀','잘','걍','과','도','를','으로','자','에','와','한','하다']"
   ]
  },
  {
   "cell_type": "code",
   "execution_count": 92,
   "id": "630f05a8",
   "metadata": {},
   "outputs": [
    {
     "data": {
      "text/plain": [
       "31"
      ]
     },
     "execution_count": 92,
     "metadata": {},
     "output_type": "execute_result"
    }
   ],
   "source": [
    "add_s = \"때 분 곳 여기 것 말 안 그냥 더 함 정도 진짜 다른\"\n",
    "add_s = add_s.split()\n",
    "stopwords = stopwords + add_s\n",
    "len(stopwords)"
   ]
  },
  {
   "cell_type": "raw",
   "id": "76c386f3",
   "metadata": {},
   "source": [
    "from wordcloud import WordCloud\n",
    "from collections import Counter\n",
    "\n",
    "font_path = 'NanumBarunGothic.ttf'\n",
    "\n",
    "wordcloud = WordCloud(\n",
    "    font_path = font_path,\n",
    "    width = 800,\n",
    "    height = 800,\n",
    "    background_color=\"white\"\n",
    ")\n",
    "\n",
    "count = Counter(stopwords)\n",
    "wordcloud = wordcloud.generate_from_frequencies(count)"
   ]
  },
  {
   "cell_type": "code",
   "execution_count": 93,
   "id": "4d4ce5d7",
   "metadata": {},
   "outputs": [
    {
     "data": {
      "text/plain": [
       "(800, 800, 3)"
      ]
     },
     "execution_count": 93,
     "metadata": {},
     "output_type": "execute_result"
    }
   ],
   "source": [
    "def __array__(self):\n",
    "    \"\"\"Convert to numpy array.\n",
    "    Returns\n",
    "    -------\n",
    "    image : nd-array size (width, height, 3)\n",
    "        Word cloud image as numpy matrix.\n",
    "    \"\"\"\n",
    "    return self.to_array()\n",
    "\n",
    "def to_array(self):\n",
    "    \"\"\"Convert to numpy array.\n",
    "    Returns\n",
    "    -------\n",
    "    image : nd-array size (width, height, 3)\n",
    "        Word cloud image as numpy matrix.\n",
    "    \"\"\"\n",
    "    return np.array(self.to_image())\n",
    "array = wordcloud.to_array()\n",
    "array.shape"
   ]
  },
  {
   "cell_type": "code",
   "execution_count": 94,
   "id": "96b97972",
   "metadata": {},
   "outputs": [
    {
     "data": {
      "image/png": "[encoded data removed]",
      "text/plain": [
       "<Figure size 1000x1000 with 1 Axes>"
      ]
     },
     "metadata": {},
     "output_type": "display_data"
    }
   ],
   "source": [
    "import matplotlib.pyplot as plt\n",
    "\n",
    "fig = plt.figure(figsize=(10, 10))\n",
    "plt.imshow(array, interpolation=\"bilinear\")\n",
    "plt.show()"
   ]
  },
  {
   "cell_type": "code",
   "execution_count": null,
   "id": "b7044ed2",
   "metadata": {},
   "outputs": [],
   "source": []
  },
  {
   "cell_type": "code",
   "execution_count": 7,
   "id": "98d71b7d",
   "metadata": {},
   "outputs": [
    {
     "data": {
      "text/html": [
       "<div>\n",
       "<style scoped>\n",
       "    .dataframe tbody tr th:only-of-type {\n",
       "        vertical-align: middle;\n",
       "    }\n",
       "\n",
       "    .dataframe tbody tr th {\n",
       "        vertical-align: top;\n",
       "    }\n",
       "\n",
       "    .dataframe thead th {\n",
       "        text-align: right;\n",
       "    }\n",
       "</style>\n",
       "<table border=\"1\" class=\"dataframe\">\n",
       "  <thead>\n",
       "    <tr style=\"text-align: right;\">\n",
       "      <th></th>\n",
       "      <th>ID</th>\n",
       "      <th>WRITER</th>\n",
       "      <th>CONTENT</th>\n",
       "      <th>TYPE</th>\n",
       "      <th>SCORE</th>\n",
       "      <th>CREATED_AT</th>\n",
       "      <th>RENTAL_CAR_ID</th>\n",
       "      <th>image</th>\n",
       "    </tr>\n",
       "  </thead>\n",
       "  <tbody>\n",
       "    <tr>\n",
       "      <th>0</th>\n",
       "      <td>0</td>\n",
       "      <td>다그런것</td>\n",
       "      <td>친절해요</td>\n",
       "      <td>네이버</td>\n",
       "      <td>NaN</td>\n",
       "      <td>22.12.30.금</td>\n",
       "      <td>1</td>\n",
       "      <td>[]</td>\n",
       "    </tr>\n",
       "    <tr>\n",
       "      <th>1</th>\n",
       "      <td>1</td>\n",
       "      <td>2rm****</td>\n",
       "      <td>굿</td>\n",
       "      <td>네이버</td>\n",
       "      <td>NaN</td>\n",
       "      <td>21.10.26.화</td>\n",
       "      <td>1</td>\n",
       "      <td>[]</td>\n",
       "    </tr>\n",
       "    <tr>\n",
       "      <th>2</th>\n",
       "      <td>2</td>\n",
       "      <td>양많은여성</td>\n",
       "      <td>돌하루팡에서 연결시켜준 곳. 무상으로 업그레이드도 해주고, 엄청 친절은 아니지만 차...</td>\n",
       "      <td>네이버</td>\n",
       "      <td>4.16</td>\n",
       "      <td>1.9.월</td>\n",
       "      <td>2</td>\n",
       "      <td>[]</td>\n",
       "    </tr>\n",
       "    <tr>\n",
       "      <th>3</th>\n",
       "      <td>3</td>\n",
       "      <td>깨비9372</td>\n",
       "      <td>굿</td>\n",
       "      <td>네이버</td>\n",
       "      <td>4.16</td>\n",
       "      <td>1.4.수</td>\n",
       "      <td>2</td>\n",
       "      <td>[]</td>\n",
       "    </tr>\n",
       "    <tr>\n",
       "      <th>4</th>\n",
       "      <td>4</td>\n",
       "      <td>연두47</td>\n",
       "      <td>첫 이용인데 생각보다 괜찮고 가격도 좋았어요(20 15)</td>\n",
       "      <td>네이버</td>\n",
       "      <td>4.16</td>\n",
       "      <td>1.3.화</td>\n",
       "      <td>2</td>\n",
       "      <td>[]</td>\n",
       "    </tr>\n",
       "    <tr>\n",
       "      <th>...</th>\n",
       "      <td>...</td>\n",
       "      <td>...</td>\n",
       "      <td>...</td>\n",
       "      <td>...</td>\n",
       "      <td>...</td>\n",
       "      <td>...</td>\n",
       "      <td>...</td>\n",
       "      <td>...</td>\n",
       "    </tr>\n",
       "    <tr>\n",
       "      <th>12284</th>\n",
       "      <td>12284</td>\n",
       "      <td>순수6283</td>\n",
       "      <td>SM6</td>\n",
       "      <td>네이버</td>\n",
       "      <td>3.54</td>\n",
       "      <td>19.12.22.일</td>\n",
       "      <td>113</td>\n",
       "      <td>[]</td>\n",
       "    </tr>\n",
       "    <tr>\n",
       "      <th>12285</th>\n",
       "      <td>12285</td>\n",
       "      <td>grooooo</td>\n",
       "      <td>1점도 아깝. 최악의 업체였음. 물기도 안닦은 차를 내어주질않나 그래놓고 내부 유리...</td>\n",
       "      <td>네이버</td>\n",
       "      <td>3.54</td>\n",
       "      <td>19.11.11.월</td>\n",
       "      <td>113</td>\n",
       "      <td>[]</td>\n",
       "    </tr>\n",
       "    <tr>\n",
       "      <th>12286</th>\n",
       "      <td>12286</td>\n",
       "      <td>h2o****</td>\n",
       "      <td>여행책자 받았는데 할인쿠폰 같은게 도움이 됨,</td>\n",
       "      <td>네이버</td>\n",
       "      <td>3.54</td>\n",
       "      <td>19.9.7.토</td>\n",
       "      <td>113</td>\n",
       "      <td>[]</td>\n",
       "    </tr>\n",
       "    <tr>\n",
       "      <th>12287</th>\n",
       "      <td>12287</td>\n",
       "      <td>soh****</td>\n",
       "      <td>좋아요</td>\n",
       "      <td>네이버</td>\n",
       "      <td>3.54</td>\n",
       "      <td>19.3.20.수</td>\n",
       "      <td>113</td>\n",
       "      <td>[]</td>\n",
       "    </tr>\n",
       "    <tr>\n",
       "      <th>12288</th>\n",
       "      <td>12288</td>\n",
       "      <td>싱싱글레이디</td>\n",
       "      <td>렌터카이용</td>\n",
       "      <td>네이버</td>\n",
       "      <td>3.54</td>\n",
       "      <td>19.3.2.토</td>\n",
       "      <td>113</td>\n",
       "      <td>[]</td>\n",
       "    </tr>\n",
       "  </tbody>\n",
       "</table>\n",
       "<p>12289 rows × 8 columns</p>\n",
       "</div>"
      ],
      "text/plain": [
       "          ID   WRITER                                            CONTENT TYPE  \\\n",
       "0          0     다그런것                                               친절해요  네이버   \n",
       "1          1  2rm****                                                  굿  네이버   \n",
       "2          2    양많은여성  돌하루팡에서 연결시켜준 곳. 무상으로 업그레이드도 해주고, 엄청 친절은 아니지만 차...  네이버   \n",
       "3          3   깨비9372                                                  굿  네이버   \n",
       "4          4     연두47                    첫 이용인데 생각보다 괜찮고 가격도 좋았어요(20 15)  네이버   \n",
       "...      ...      ...                                                ...  ...   \n",
       "12284  12284   순수6283                                              SM6    네이버   \n",
       "12285  12285  grooooo  1점도 아깝. 최악의 업체였음. 물기도 안닦은 차를 내어주질않나 그래놓고 내부 유리...  네이버   \n",
       "12286  12286  h2o****                          여행책자 받았는데 할인쿠폰 같은게 도움이 됨,  네이버   \n",
       "12287  12287  soh****                                                좋아요  네이버   \n",
       "12288  12288   싱싱글레이디                                              렌터카이용  네이버   \n",
       "\n",
       "       SCORE  CREATED_AT  RENTAL_CAR_ID image  \n",
       "0        NaN  22.12.30.금              1    []  \n",
       "1        NaN  21.10.26.화              1    []  \n",
       "2       4.16       1.9.월              2    []  \n",
       "3       4.16       1.4.수              2    []  \n",
       "4       4.16       1.3.화              2    []  \n",
       "...      ...         ...            ...   ...  \n",
       "12284   3.54  19.12.22.일            113    []  \n",
       "12285   3.54  19.11.11.월            113    []  \n",
       "12286   3.54    19.9.7.토            113    []  \n",
       "12287   3.54   19.3.20.수            113    []  \n",
       "12288   3.54    19.3.2.토            113    []  \n",
       "\n",
       "[12289 rows x 8 columns]"
      ]
     },
     "execution_count": 7,
     "metadata": {},
     "output_type": "execute_result"
    }
   ],
   "source": [
    "input_file = 'naver_re.csv'\n",
    "df_naver = pd.read_csv(input_file)\n",
    "df_naver"
   ]
  },
  {
   "cell_type": "code",
   "execution_count": 52,
   "id": "36e754c0",
   "metadata": {},
   "outputs": [],
   "source": [
    "test_data = pd.concat([df_naver['CONTENT'],df_naver['RENTAL_CAR_ID']], axis = 1)"
   ]
  },
  {
   "cell_type": "code",
   "execution_count": 53,
   "id": "39e00bad",
   "metadata": {},
   "outputs": [],
   "source": [
    "test_data['SCORE'] = ''"
   ]
  },
  {
   "cell_type": "code",
   "execution_count": 54,
   "id": "f93c037c",
   "metadata": {},
   "outputs": [
    {
     "data": {
      "text/html": [
       "<div>\n",
       "<style scoped>\n",
       "    .dataframe tbody tr th:only-of-type {\n",
       "        vertical-align: middle;\n",
       "    }\n",
       "\n",
       "    .dataframe tbody tr th {\n",
       "        vertical-align: top;\n",
       "    }\n",
       "\n",
       "    .dataframe thead th {\n",
       "        text-align: right;\n",
       "    }\n",
       "</style>\n",
       "<table border=\"1\" class=\"dataframe\">\n",
       "  <thead>\n",
       "    <tr style=\"text-align: right;\">\n",
       "      <th></th>\n",
       "      <th>CONTENT</th>\n",
       "      <th>RENTAL_CAR_ID</th>\n",
       "      <th>SCORE</th>\n",
       "    </tr>\n",
       "  </thead>\n",
       "  <tbody>\n",
       "    <tr>\n",
       "      <th>0</th>\n",
       "      <td>친절해요</td>\n",
       "      <td>1</td>\n",
       "      <td></td>\n",
       "    </tr>\n",
       "    <tr>\n",
       "      <th>1</th>\n",
       "      <td>굿</td>\n",
       "      <td>1</td>\n",
       "      <td></td>\n",
       "    </tr>\n",
       "    <tr>\n",
       "      <th>2</th>\n",
       "      <td>돌하루팡에서 연결시켜준 곳. 무상으로 업그레이드도 해주고, 엄청 친절은 아니지만 차...</td>\n",
       "      <td>2</td>\n",
       "      <td></td>\n",
       "    </tr>\n",
       "    <tr>\n",
       "      <th>3</th>\n",
       "      <td>굿</td>\n",
       "      <td>2</td>\n",
       "      <td></td>\n",
       "    </tr>\n",
       "    <tr>\n",
       "      <th>4</th>\n",
       "      <td>첫 이용인데 생각보다 괜찮고 가격도 좋았어요(20 15)</td>\n",
       "      <td>2</td>\n",
       "      <td></td>\n",
       "    </tr>\n",
       "    <tr>\n",
       "      <th>...</th>\n",
       "      <td>...</td>\n",
       "      <td>...</td>\n",
       "      <td>...</td>\n",
       "    </tr>\n",
       "    <tr>\n",
       "      <th>12284</th>\n",
       "      <td>SM6</td>\n",
       "      <td>113</td>\n",
       "      <td></td>\n",
       "    </tr>\n",
       "    <tr>\n",
       "      <th>12285</th>\n",
       "      <td>1점도 아깝. 최악의 업체였음. 물기도 안닦은 차를 내어주질않나 그래놓고 내부 유리...</td>\n",
       "      <td>113</td>\n",
       "      <td></td>\n",
       "    </tr>\n",
       "    <tr>\n",
       "      <th>12286</th>\n",
       "      <td>여행책자 받았는데 할인쿠폰 같은게 도움이 됨,</td>\n",
       "      <td>113</td>\n",
       "      <td></td>\n",
       "    </tr>\n",
       "    <tr>\n",
       "      <th>12287</th>\n",
       "      <td>좋아요</td>\n",
       "      <td>113</td>\n",
       "      <td></td>\n",
       "    </tr>\n",
       "    <tr>\n",
       "      <th>12288</th>\n",
       "      <td>렌터카이용</td>\n",
       "      <td>113</td>\n",
       "      <td></td>\n",
       "    </tr>\n",
       "  </tbody>\n",
       "</table>\n",
       "<p>12289 rows × 3 columns</p>\n",
       "</div>"
      ],
      "text/plain": [
       "                                                 CONTENT  RENTAL_CAR_ID SCORE\n",
       "0                                                   친절해요              1      \n",
       "1                                                      굿              1      \n",
       "2      돌하루팡에서 연결시켜준 곳. 무상으로 업그레이드도 해주고, 엄청 친절은 아니지만 차...              2      \n",
       "3                                                      굿              2      \n",
       "4                        첫 이용인데 생각보다 괜찮고 가격도 좋았어요(20 15)              2      \n",
       "...                                                  ...            ...   ...\n",
       "12284                                              SM6              113      \n",
       "12285  1점도 아깝. 최악의 업체였음. 물기도 안닦은 차를 내어주질않나 그래놓고 내부 유리...            113      \n",
       "12286                          여행책자 받았는데 할인쿠폰 같은게 도움이 됨,            113      \n",
       "12287                                                좋아요            113      \n",
       "12288                                              렌터카이용            113      \n",
       "\n",
       "[12289 rows x 3 columns]"
      ]
     },
     "execution_count": 54,
     "metadata": {},
     "output_type": "execute_result"
    }
   ],
   "source": [
    "test_data"
   ]
  },
  {
   "cell_type": "code",
   "execution_count": 55,
   "id": "ee70fdea",
   "metadata": {},
   "outputs": [
    {
     "name": "stdout",
     "output_type": "stream",
     "text": [
      "전처리 후 테스트용 샘플의 개수 : 6660\n"
     ]
    },
    {
     "name": "stderr",
     "output_type": "stream",
     "text": [
      "C:\\Users\\tj\\AppData\\Local\\Temp\\ipykernel_12224\\1284933107.py:2: FutureWarning: The default value of regex will change from True to False in a future version.\n",
      "  test_data['CONTENT'] = test_data['CONTENT'].str.replace('[^ㄱ-ㅎ ㅏ-ㅣ 가-힣]','') # 정규 표현식으로 문자외 데이터 empty값으로\n",
      "C:\\Users\\tj\\AppData\\Local\\Temp\\ipykernel_12224\\1284933107.py:3: FutureWarning: The default value of regex will change from True to False in a future version.\n",
      "  test_data['CONTENT'] = test_data['CONTENT'].str.replace('^ +','') # 공백을 empty값으로 변경\n"
     ]
    }
   ],
   "source": [
    "test_data.drop_duplicates(subset = ['CONTENT'], inplace = True) # document 열에서 중복데이터 삭제\n",
    "test_data['CONTENT'] = test_data['CONTENT'].str.replace('[^ㄱ-ㅎ ㅏ-ㅣ 가-힣]','') # 정규 표현식으로 문자외 데이터 empty값으로\n",
    "test_data['CONTENT'] = test_data['CONTENT'].str.replace('^ +','') # 공백을 empty값으로 변경\n",
    "test_data['CONTENT'].replace('', np.nan, inplace = True)  # empty 값을 nan값으로 변경\n",
    "test_data = test_data.dropna(how = 'any') # nan값 제거\n",
    "print(f'전처리 후 테스트용 샘플의 개수 : {len(test_data)}')"
   ]
  },
  {
   "cell_type": "code",
   "execution_count": 57,
   "id": "ffb3930f",
   "metadata": {},
   "outputs": [
    {
     "name": "stderr",
     "output_type": "stream",
     "text": [
      "100%|█████████████████████████████████████████████████████████████████████████████| 6660/6660 [00:30<00:00, 220.81it/s]\n"
     ]
    }
   ],
   "source": [
    "X_test = []\n",
    "for sentence in tqdm(test_data['CONTENT']):\n",
    "    tokenized_sentence = okt.morphs(sentence, stem=True) # 토큰화\n",
    "    stopwords_removed_sentence = [word for word in tokenized_sentence if not word in stopwords] # 불용어 제거\n",
    "    X_test.append(stopwords_removed_sentence)"
   ]
  },
  {
   "cell_type": "code",
   "execution_count": 58,
   "id": "5e6c5c89",
   "metadata": {},
   "outputs": [
    {
     "name": "stdout",
     "output_type": "stream",
     "text": [
      "[['친절하다'], ['굿'], ['돌다', '루팡', '에서', '연결', '시키다', '준', '곳', '무상', '업그레이드', '해주다', '엄청', '친절', '아니다', '차', '상태', '새', '차', '처럼', '깨끗하다', '만족스럽다', '연료', '충전', '않다']]\n"
     ]
    }
   ],
   "source": [
    "print(X_test[:3])"
   ]
  },
  {
   "cell_type": "code",
   "execution_count": null,
   "id": "86994d0a",
   "metadata": {},
   "outputs": [],
   "source": []
  }
 ],
 "metadata": {
  "kernelspec": {
   "display_name": "Python 3 (ipykernel)",
   "language": "python",
   "name": "python3"
  },
  "language_info": {
   "codemirror_mode": {
    "name": "ipython",
    "version": 3
   },
   "file_extension": ".py",
   "mimetype": "text/x-python",
   "name": "python",
   "nbconvert_exporter": "python",
   "pygments_lexer": "ipython3",
   "version": "3.9.13"
  }
 },
 "nbformat": 4,
 "nbformat_minor": 5
}
