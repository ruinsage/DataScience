{
 "cells": [
  {
   "cell_type": "code",
   "execution_count": 4,
   "id": "b31bbc3f",
   "metadata": {
    "ExecuteTime": {
     "end_time": "2023-02-21T04:10:08.373937Z",
     "start_time": "2023-02-21T04:10:08.366956Z"
    }
   },
   "outputs": [],
   "source": [
    "from sklearn.feature_extraction.text import TfidfVectorizer\n",
    "from sklearn.metrics.pairwise import cosine_similarity\n",
    "import codecs\n",
    "import pickle\n",
    "from konlpy.tag import Okt # Okt : 널리사용되는 형태소 분석기\n",
    "from gensim.models import word2vec \n",
    "import pandas as pd\n",
    "import csv"
   ]
  },
  {
   "cell_type": "markdown",
   "id": "8cdd1295",
   "metadata": {},
   "source": [
    "# 데이터 임포트"
   ]
  },
  {
   "cell_type": "code",
   "execution_count": 5,
   "id": "cdea802e",
   "metadata": {
    "ExecuteTime": {
     "end_time": "2023-02-21T04:10:08.497768Z",
     "start_time": "2023-02-21T04:10:08.375932Z"
    },
    "scrolled": false
   },
   "outputs": [],
   "source": [
    "df_pre = pd.read_csv('k_g_n_tourist_review_pre.csv', encoding='utf-8')"
   ]
  },
  {
   "cell_type": "code",
   "execution_count": 6,
   "id": "3680ffa8",
   "metadata": {
    "ExecuteTime": {
     "end_time": "2023-02-21T04:10:08.544909Z",
     "start_time": "2023-02-21T04:10:08.498798Z"
    },
    "scrolled": true
   },
   "outputs": [],
   "source": [
    "df_place = pd.read_csv('tourplace_info.csv', encoding='cp949')"
   ]
  },
  {
   "cell_type": "code",
   "execution_count": 34,
   "id": "0ae58818",
   "metadata": {
    "ExecuteTime": {
     "end_time": "2023-02-21T08:16:26.231479Z",
     "start_time": "2023-02-21T08:16:26.218488Z"
    }
   },
   "outputs": [
    {
     "data": {
      "text/plain": [
       "(603, 3)"
      ]
     },
     "execution_count": 34,
     "metadata": {},
     "output_type": "execute_result"
    }
   ],
   "source": [
    "df_place.shape"
   ]
  },
  {
   "cell_type": "code",
   "execution_count": 35,
   "id": "dae7ca17",
   "metadata": {
    "ExecuteTime": {
     "end_time": "2023-02-21T08:18:01.259895Z",
     "start_time": "2023-02-21T08:18:01.226800Z"
    }
   },
   "outputs": [
    {
     "data": {
      "text/plain": [
       "array(['산,걷기/등산,경관/포토,친구,사계절,자연경관,포토스팟,한라산,언택트,단풍,유네스코,공용주차장,화장실,편의점,음료대,저상버스 접근 가능,장애인 화장실,장애인 전용 주차장,아주 어려움,UNESCO 생물권보전지역,UNESCO 세계자연유산,UNESCO 세계지질공원,무장애관광'],\n",
       "      dtype=object)"
      ]
     },
     "execution_count": 35,
     "metadata": {},
     "output_type": "execute_result"
    }
   ],
   "source": [
    "input_code = 'CONT_000000000500685'\n",
    "df_place.loc[df_place['ID'] == input_code]['tags'].values"
   ]
  },
  {
   "cell_type": "code",
   "execution_count": 7,
   "id": "036e0503",
   "metadata": {
    "ExecuteTime": {
     "end_time": "2023-02-21T04:10:08.668592Z",
     "start_time": "2023-02-21T04:10:08.551892Z"
    }
   },
   "outputs": [],
   "source": [
    "df_tour = pd.read_csv('관광지end최종.csv', encoding='CP949')"
   ]
  },
  {
   "cell_type": "markdown",
   "id": "fd8078cd",
   "metadata": {},
   "source": [
    "# 태그 데이터 전처리"
   ]
  },
  {
   "cell_type": "code",
   "execution_count": 8,
   "id": "4feb7eab",
   "metadata": {
    "ExecuteTime": {
     "end_time": "2023-02-21T04:10:08.715180Z",
     "start_time": "2023-02-21T04:10:08.669591Z"
    }
   },
   "outputs": [
    {
     "data": {
      "text/plain": [
       "(1022, 12)"
      ]
     },
     "execution_count": 8,
     "metadata": {},
     "output_type": "execute_result"
    }
   ],
   "source": [
    "df_tour.shape"
   ]
  },
  {
   "cell_type": "code",
   "execution_count": 9,
   "id": "cdf7bc6f",
   "metadata": {
    "ExecuteTime": {
     "end_time": "2023-02-21T04:10:08.808593Z",
     "start_time": "2023-02-21T04:10:08.716960Z"
    }
   },
   "outputs": [],
   "source": [
    "sr1 = pd.Series(df_tour['관련 태그 전체'], name = 'e')\n",
    "sr2 = pd.Series(df_tour['태그'], name = 'e2')\n",
    "sr3 = sr1 + ',' + sr2"
   ]
  },
  {
   "cell_type": "code",
   "execution_count": 10,
   "id": "0e38c806",
   "metadata": {
    "ExecuteTime": {
     "end_time": "2023-02-21T04:10:08.902075Z",
     "start_time": "2023-02-21T04:10:08.814583Z"
    }
   },
   "outputs": [
    {
     "name": "stderr",
     "output_type": "stream",
     "text": [
      "C:\\Users\\tj\\AppData\\Local\\Temp\\ipykernel_504\\15973815.py:1: FutureWarning: The default value of regex will change from True to False in a future version.\n",
      "  df_tour['관련 태그 전체'] = df_tour['관련 태그 전체'].str.replace(\"4.3\", \"제주4.3\")\n",
      "C:\\Users\\tj\\AppData\\Local\\Temp\\ipykernel_504\\15973815.py:2: FutureWarning: The default value of regex will change from True to False in a future version.\n",
      "  df_tour['태그'] = df_tour['태그'].str.replace(\"4.3\", \"제주4.3\")\n"
     ]
    }
   ],
   "source": [
    "df_tour['관련 태그 전체'] = df_tour['관련 태그 전체'].str.replace(\"4.3\", \"제주4.3\")\n",
    "df_tour['태그'] = df_tour['태그'].str.replace(\"4.3\", \"제주4.3\")"
   ]
  },
  {
   "cell_type": "code",
   "execution_count": 11,
   "id": "ff42d5c2",
   "metadata": {
    "ExecuteTime": {
     "end_time": "2023-02-21T04:10:09.025909Z",
     "start_time": "2023-02-21T04:10:08.906034Z"
    }
   },
   "outputs": [],
   "source": [
    "tag_result = []\n",
    "for tags in sr3:\n",
    "    data = tags.split(',')\n",
    "    row = ''\n",
    "    flag = True\n",
    "    for tag in data:\n",
    "        if not (tag in row):\n",
    "            if flag == True:\n",
    "                row = tag\n",
    "                flag = False\n",
    "            else:\n",
    "                row = row + ',' + tag\n",
    "    tag_result.append(row)"
   ]
  },
  {
   "cell_type": "code",
   "execution_count": 12,
   "id": "67b7c968",
   "metadata": {
    "ExecuteTime": {
     "end_time": "2023-02-21T04:10:09.119408Z",
     "start_time": "2023-02-21T04:10:09.030901Z"
    }
   },
   "outputs": [],
   "source": [
    "df_tour['tags'] = tag_result"
   ]
  },
  {
   "cell_type": "code",
   "execution_count": 13,
   "id": "ce76e80f",
   "metadata": {
    "ExecuteTime": {
     "end_time": "2023-02-21T04:10:09.197851Z",
     "start_time": "2023-02-21T04:10:09.134376Z"
    }
   },
   "outputs": [],
   "source": [
    "df_tour.drop(columns = ['관련 태그 전체','주소','도로명주소','태그','간단소개','위도','경도','우편번호','전화번호','썸네일 이미지경로'],inplace = True )"
   ]
  },
  {
   "cell_type": "code",
   "execution_count": 14,
   "id": "841314a9",
   "metadata": {
    "ExecuteTime": {
     "end_time": "2023-02-21T04:10:09.306676Z",
     "start_time": "2023-02-21T04:10:09.201845Z"
    }
   },
   "outputs": [
    {
     "data": {
      "text/plain": [
       "1021"
      ]
     },
     "execution_count": 14,
     "metadata": {},
     "output_type": "execute_result"
    }
   ],
   "source": [
    "len(df_tour['콘텐츠 ID'].unique())"
   ]
  },
  {
   "cell_type": "code",
   "execution_count": 15,
   "id": "7489d914",
   "metadata": {
    "ExecuteTime": {
     "end_time": "2023-02-21T04:10:09.384117Z",
     "start_time": "2023-02-21T04:10:09.310905Z"
    },
    "scrolled": true
   },
   "outputs": [],
   "source": [
    "df_place2 = pd.DataFrame(df_place['ID'])\n",
    "df_place2 = df_place2.drop_duplicates(subset=None, keep='first', inplace=False, ignore_index=False)\n",
    "df_tag2 = pd.merge(df_place2,df_tour, how='left', left_on = 'ID', right_on = '콘텐츠 ID')\n",
    "df_tag2 = df_tag2.drop(columns = 'ID')"
   ]
  },
  {
   "cell_type": "code",
   "execution_count": 16,
   "id": "c9e98b09",
   "metadata": {
    "ExecuteTime": {
     "end_time": "2023-02-21T04:10:09.462527Z",
     "start_time": "2023-02-21T04:10:09.389120Z"
    }
   },
   "outputs": [
    {
     "data": {
      "text/plain": [
       "603"
      ]
     },
     "execution_count": 16,
     "metadata": {},
     "output_type": "execute_result"
    }
   ],
   "source": [
    "df_tag2 = df_tag2.sort_values(by=[\"콘텐츠 ID\"], ascending=[True])\n",
    "df_tag2.rename(columns={'콘텐츠 ID':'ID'},inplace=True)\n",
    "df_tag2.rename(columns={'콘텐츠명':'name'},inplace=True)\n",
    "len(df_tag2['ID'].unique())"
   ]
  },
  {
   "cell_type": "code",
   "execution_count": 17,
   "id": "1baf8d9c",
   "metadata": {
    "ExecuteTime": {
     "end_time": "2023-02-21T04:10:09.570078Z",
     "start_time": "2023-02-21T04:10:09.465499Z"
    }
   },
   "outputs": [],
   "source": [
    "df_tag2.drop_duplicates(subset=['name'], inplace=True)\n",
    "df_tag2.dropna(axis = 0, inplace = True)\n",
    "df_tag2.reindex()\n",
    "df_place2 = pd.concat([df_place['ID'], df_place['name']],axis=1)"
   ]
  },
  {
   "cell_type": "code",
   "execution_count": 18,
   "id": "708a09be",
   "metadata": {
    "ExecuteTime": {
     "end_time": "2023-02-21T04:10:09.710072Z",
     "start_time": "2023-02-21T04:10:09.575058Z"
    }
   },
   "outputs": [],
   "source": [
    "df4 = pd.merge(df_pre, df_place2, how='inner', left_on = 'ID', right_on = 'ID')"
   ]
  },
  {
   "cell_type": "code",
   "execution_count": 19,
   "id": "695c235f",
   "metadata": {
    "ExecuteTime": {
     "end_time": "2023-02-21T04:10:09.773263Z",
     "start_time": "2023-02-21T04:10:09.714062Z"
    }
   },
   "outputs": [
    {
     "data": {
      "text/plain": [
       "(9583, 4)"
      ]
     },
     "execution_count": 19,
     "metadata": {},
     "output_type": "execute_result"
    }
   ],
   "source": [
    "df4.shape"
   ]
  },
  {
   "cell_type": "markdown",
   "id": "1ef4855d",
   "metadata": {},
   "source": [
    "# 후기데이터 문자열 파싱"
   ]
  },
  {
   "cell_type": "code",
   "execution_count": 20,
   "id": "e15f5f5e",
   "metadata": {
    "ExecuteTime": {
     "end_time": "2023-02-21T04:10:10.290158Z",
     "start_time": "2023-02-21T04:10:09.778231Z"
    }
   },
   "outputs": [],
   "source": [
    "all_data = []\n",
    "\n",
    "for id in df4['ID'].unique():\n",
    "    row = []\n",
    "    row.append(id)\n",
    "    content_list = ''\n",
    "    flag_first = True\n",
    "    for content in df4['CONTENT'].loc[df4['ID'] == id]:\n",
    "        if flag_first == True:\n",
    "            if len(content) > 1: \n",
    "                content_list = content\n",
    "                flag_first = False\n",
    "        else:\n",
    "            if len(content) > 1: \n",
    "                content_list = content_list + '\\n' + content\n",
    "    row.append(content_list)\n",
    "    all_data.append(row)"
   ]
  },
  {
   "cell_type": "markdown",
   "id": "13876334",
   "metadata": {},
   "source": [
    "---"
   ]
  },
  {
   "cell_type": "markdown",
   "id": "872cedf3",
   "metadata": {},
   "source": [
    "# 해당 후기 검색어가 가장 많은 업체와 유사한 업체 "
   ]
  },
  {
   "cell_type": "code",
   "execution_count": 21,
   "id": "6527cbed",
   "metadata": {
    "ExecuteTime": {
     "end_time": "2023-02-21T04:12:05.599248Z",
     "start_time": "2023-02-21T04:10:10.291172Z"
    }
   },
   "outputs": [],
   "source": [
    "okt = Okt()\n",
    "results = []\n",
    "rest_id_list = []\n",
    "for id,text in enumerate(all_data):\n",
    "    lines = text[1].split(\"\\n\")\n",
    "    rest_id_list.append(text[0])\n",
    "    rl = ''\n",
    "    r = ''\n",
    "    for line in lines:\n",
    "        # 형태소 분석하기 --- (※3)\n",
    "        # 단어의 기본형 사용\n",
    "        malist = okt.pos(line, norm=True, stem=True)\n",
    "        word_list = ''\n",
    "        for word in malist:\n",
    "            # 어미/조사/구두점 등은 대상에서 제외 \n",
    "            if not word[1] in [\"Josa\", \"Eomi\", \"Punctuation\"]:\n",
    "                if len(word[0]) > 1 :\n",
    "                    word_list = word_list + ' ' + word[0]\n",
    "        r = r + word_list\n",
    "    rl = rl + r\n",
    "    results.append(rl)"
   ]
  },
  {
   "cell_type": "code",
   "execution_count": 30,
   "id": "ef36394f",
   "metadata": {
    "ExecuteTime": {
     "end_time": "2023-02-21T08:14:13.718230Z",
     "start_time": "2023-02-21T08:14:13.695268Z"
    }
   },
   "outputs": [
    {
     "data": {
      "text/plain": [
       "603"
      ]
     },
     "execution_count": 30,
     "metadata": {},
     "output_type": "execute_result"
    }
   ],
   "source": [
    "len(rest_id_list)"
   ]
  },
  {
   "cell_type": "code",
   "execution_count": 22,
   "id": "63238366",
   "metadata": {
    "ExecuteTime": {
     "end_time": "2023-02-21T04:12:05.646256Z",
     "start_time": "2023-02-21T04:12:05.601221Z"
    }
   },
   "outputs": [
    {
     "name": "stdout",
     "output_type": "stream",
     "text": [
      " D 드라이브의 볼륨에는 이름이 없습니다.\n",
      " 볼륨 일련 번호: BC0D-FB82\n",
      "\n",
      " D:\\Pywork\\DataScience\\04_AI\\04_응용\\3차 프로젝트\\후기와 추천시스템 디렉터리\n",
      "\n",
      "2023-02-21  오후 01:12            13,885 id_list.pickle\n",
      "               1개 파일              13,885 바이트\n",
      "               0개 디렉터리  518,716,026,880 바이트 남음\n"
     ]
    }
   ],
   "source": [
    "with open(\"id_list.pickle\",\"wb\") as fw:\n",
    "    pickle.dump(rest_id_list, fw)\n",
    "\n",
    "!dir id_list.pickle"
   ]
  },
  {
   "cell_type": "markdown",
   "id": "a95e442c",
   "metadata": {},
   "source": [
    "# 유사업체 찾기 실행문"
   ]
  },
  {
   "cell_type": "code",
   "execution_count": 23,
   "id": "987ada64",
   "metadata": {
    "ExecuteTime": {
     "end_time": "2023-02-21T04:12:05.739256Z",
     "start_time": "2023-02-21T04:12:05.648224Z"
    }
   },
   "outputs": [],
   "source": [
    "stopwords = ['이다','이네','이라고','이나','인가','이고','싶다','으로','인데','에는',\n",
    "             '하다','하고','에서','비다','알다','라고','달다','다시다','지만','에서는']"
   ]
  },
  {
   "cell_type": "code",
   "execution_count": 24,
   "id": "9c83ab5f",
   "metadata": {
    "ExecuteTime": {
     "end_time": "2023-02-21T04:12:05.832261Z",
     "start_time": "2023-02-21T04:12:05.740162Z"
    }
   },
   "outputs": [],
   "source": [
    "vectorizer = TfidfVectorizer(min_df=2, stop_words= stopwords, ngram_range = (1, 2))"
   ]
  },
  {
   "cell_type": "code",
   "execution_count": 25,
   "id": "e6701712",
   "metadata": {
    "ExecuteTime": {
     "end_time": "2023-02-21T04:12:06.694158Z",
     "start_time": "2023-02-21T04:12:05.833260Z"
    }
   },
   "outputs": [],
   "source": [
    "X = vectorizer.fit_transform(results)\n",
    "feature_names = vectorizer.get_feature_names_out()\n",
    "feature_names\n",
    "tour_sim = cosine_similarity(X)"
   ]
  },
  {
   "cell_type": "markdown",
   "id": "b12774dd",
   "metadata": {},
   "source": [
    "# 태그 검색어 유사업체"
   ]
  },
  {
   "cell_type": "code",
   "execution_count": 26,
   "id": "209e96d6",
   "metadata": {
    "ExecuteTime": {
     "end_time": "2023-02-21T04:12:06.709279Z",
     "start_time": "2023-02-21T04:12:06.695211Z"
    },
    "scrolled": true
   },
   "outputs": [
    {
     "data": {
      "text/html": [
       "<div>\n",
       "<style scoped>\n",
       "    .dataframe tbody tr th:only-of-type {\n",
       "        vertical-align: middle;\n",
       "    }\n",
       "\n",
       "    .dataframe tbody tr th {\n",
       "        vertical-align: top;\n",
       "    }\n",
       "\n",
       "    .dataframe thead th {\n",
       "        text-align: right;\n",
       "    }\n",
       "</style>\n",
       "<table border=\"1\" class=\"dataframe\">\n",
       "  <thead>\n",
       "    <tr style=\"text-align: right;\">\n",
       "      <th></th>\n",
       "      <th>ID</th>\n",
       "      <th>name</th>\n",
       "      <th>tags</th>\n",
       "    </tr>\n",
       "  </thead>\n",
       "  <tbody>\n",
       "    <tr>\n",
       "      <th>0</th>\n",
       "      <td>CNTS_000000000000597</td>\n",
       "      <td>아라고나이트 고온천</td>\n",
       "      <td>온천,실내,휴식/힐링,부모,비.눈,겨울,실내관광지,호텔,숙소,어트랙션,공용주차장</td>\n",
       "    </tr>\n",
       "    <tr>\n",
       "      <th>1</th>\n",
       "      <td>CNTS_000000000000614</td>\n",
       "      <td>비체올린</td>\n",
       "      <td>야영장,캠핑장,액티비티,아이,맑음,체험,레저/체험,어린이,수상레저,언택트,어트랙션,...</td>\n",
       "    </tr>\n",
       "    <tr>\n",
       "      <th>2</th>\n",
       "      <td>CNTS_000000000000970</td>\n",
       "      <td>제주추사관</td>\n",
       "      <td>미술/박물관,흐림,겨울,실내관광지,어트랙션,공용주차장,현금결제,카드결제,화장실,무료...</td>\n",
       "    </tr>\n",
       "    <tr>\n",
       "      <th>3</th>\n",
       "      <td>CNTS_000000000000976</td>\n",
       "      <td>제주동백마을</td>\n",
       "      <td>웰니스,만남,즐김,치유,체험,부모,자연경관,마을산책,마을관광,동백,어트랙션,공용주차...</td>\n",
       "    </tr>\n",
       "    <tr>\n",
       "      <th>4</th>\n",
       "      <td>CNTS_000000000001158</td>\n",
       "      <td>메이즈랜드</td>\n",
       "      <td>부모,아이,테마공원,미술/박물관,경관/포토,전시와 행사,우수관광사업체,실내관광지,포...</td>\n",
       "    </tr>\n",
       "    <tr>\n",
       "      <th>...</th>\n",
       "      <td>...</td>\n",
       "      <td>...</td>\n",
       "      <td>...</td>\n",
       "    </tr>\n",
       "    <tr>\n",
       "      <th>599</th>\n",
       "      <td>CONT_000000000500695</td>\n",
       "      <td>헬로키티아일랜드</td>\n",
       "      <td>실내,테마공원,아이,비.눈,겨울,우수관광사업체,공용주차장,현금결제,카드결제,화장실,...</td>\n",
       "    </tr>\n",
       "    <tr>\n",
       "      <th>600</th>\n",
       "      <td>CONT_000000000500697</td>\n",
       "      <td>협재해수욕장</td>\n",
       "      <td>일몰,해수욕장,액티비티,아이,맑음,여름,자연경관,체험,레저/체험,해변,물놀이,어린이...</td>\n",
       "    </tr>\n",
       "    <tr>\n",
       "      <th>601</th>\n",
       "      <td>CONT_000000000500698</td>\n",
       "      <td>형제섬</td>\n",
       "      <td>커플,친구,혼자,경관/포토,일몰,일출,공용주차장,화장실,편의점,음료대,유도 및 안내...</td>\n",
       "    </tr>\n",
       "    <tr>\n",
       "      <th>602</th>\n",
       "      <td>CONT_000000000500699</td>\n",
       "      <td>혼인지</td>\n",
       "      <td>문화유적지,맑음,문화관광,역사유적,수국,화장실,음료대,유도 및 안내시설,경보 및 피...</td>\n",
       "    </tr>\n",
       "    <tr>\n",
       "      <th>603</th>\n",
       "      <td>CONT_000000000500701</td>\n",
       "      <td>화순금모래해수욕장</td>\n",
       "      <td>해수욕장,액티비티,커플,아이,맑음,여름,자연경관,체험,레저/체험,해변,물놀이,어린이...</td>\n",
       "    </tr>\n",
       "  </tbody>\n",
       "</table>\n",
       "<p>603 rows × 3 columns</p>\n",
       "</div>"
      ],
      "text/plain": [
       "                       ID        name  \\\n",
       "0    CNTS_000000000000597  아라고나이트 고온천   \n",
       "1    CNTS_000000000000614        비체올린   \n",
       "2    CNTS_000000000000970       제주추사관   \n",
       "3    CNTS_000000000000976      제주동백마을   \n",
       "4    CNTS_000000000001158       메이즈랜드   \n",
       "..                    ...         ...   \n",
       "599  CONT_000000000500695    헬로키티아일랜드   \n",
       "600  CONT_000000000500697      협재해수욕장   \n",
       "601  CONT_000000000500698         형제섬   \n",
       "602  CONT_000000000500699         혼인지   \n",
       "603  CONT_000000000500701   화순금모래해수욕장   \n",
       "\n",
       "                                                  tags  \n",
       "0         온천,실내,휴식/힐링,부모,비.눈,겨울,실내관광지,호텔,숙소,어트랙션,공용주차장  \n",
       "1    야영장,캠핑장,액티비티,아이,맑음,체험,레저/체험,어린이,수상레저,언택트,어트랙션,...  \n",
       "2    미술/박물관,흐림,겨울,실내관광지,어트랙션,공용주차장,현금결제,카드결제,화장실,무료...  \n",
       "3    웰니스,만남,즐김,치유,체험,부모,자연경관,마을산책,마을관광,동백,어트랙션,공용주차...  \n",
       "4    부모,아이,테마공원,미술/박물관,경관/포토,전시와 행사,우수관광사업체,실내관광지,포...  \n",
       "..                                                 ...  \n",
       "599  실내,테마공원,아이,비.눈,겨울,우수관광사업체,공용주차장,현금결제,카드결제,화장실,...  \n",
       "600  일몰,해수욕장,액티비티,아이,맑음,여름,자연경관,체험,레저/체험,해변,물놀이,어린이...  \n",
       "601  커플,친구,혼자,경관/포토,일몰,일출,공용주차장,화장실,편의점,음료대,유도 및 안내...  \n",
       "602  문화유적지,맑음,문화관광,역사유적,수국,화장실,음료대,유도 및 안내시설,경보 및 피...  \n",
       "603  해수욕장,액티비티,커플,아이,맑음,여름,자연경관,체험,레저/체험,해변,물놀이,어린이...  \n",
       "\n",
       "[603 rows x 3 columns]"
      ]
     },
     "execution_count": 26,
     "metadata": {},
     "output_type": "execute_result"
    }
   ],
   "source": [
    "df_tag2"
   ]
  },
  {
   "cell_type": "code",
   "execution_count": 27,
   "id": "9c3b13b4",
   "metadata": {
    "ExecuteTime": {
     "end_time": "2023-02-21T04:12:09.098280Z",
     "start_time": "2023-02-21T04:12:06.712271Z"
    }
   },
   "outputs": [],
   "source": [
    "okt = Okt()\n",
    "tag_results = []\n",
    "rest_id_list = []\n",
    "for id,text in enumerate(df_tag2['tags']):\n",
    "    lines = text.split(\",\")\n",
    "    rest_id_list.append(id)\n",
    "    rl = ''\n",
    "    r = ''\n",
    "    for line in lines:\n",
    "        malist = okt.pos(line, norm=True, stem=True)\n",
    "\n",
    "        word_list = ''\n",
    "        for word in malist:\n",
    "            if not word[1] in [\"Josa\", \"Eomi\", \"Punctuation\"]:\n",
    "                if len(word[0]) > 1 :\n",
    "                    word_list = word_list + ' ' + word[0]\n",
    "        r = r + word_list\n",
    "    rl = rl + r\n",
    "    tag_results.append(rl)"
   ]
  },
  {
   "cell_type": "code",
   "execution_count": 28,
   "id": "eaf7ff7e",
   "metadata": {
    "ExecuteTime": {
     "end_time": "2023-02-21T04:12:09.161518Z",
     "start_time": "2023-02-21T04:12:09.100276Z"
    }
   },
   "outputs": [],
   "source": [
    "X = vectorizer.fit_transform(tag_results)\n",
    "feature_names = vectorizer.get_feature_names_out()\n",
    "feature_names\n",
    "tag_sim = cosine_similarity(X)"
   ]
  },
  {
   "cell_type": "markdown",
   "id": "268fd688",
   "metadata": {},
   "source": [
    "# 후기와 태그 유사도 매트릭스를 비율대로 결합"
   ]
  },
  {
   "cell_type": "code",
   "execution_count": 31,
   "id": "c9e63e44",
   "metadata": {
    "ExecuteTime": {
     "end_time": "2023-02-21T08:14:52.701186Z",
     "start_time": "2023-02-21T08:14:52.675166Z"
    }
   },
   "outputs": [],
   "source": [
    "tour_sim2 = (tag_sim * 0.2) + (tour_sim * 0.8)"
   ]
  },
  {
   "cell_type": "code",
   "execution_count": 32,
   "id": "29b14ff2",
   "metadata": {
    "ExecuteTime": {
     "end_time": "2023-02-21T08:14:53.476073Z",
     "start_time": "2023-02-21T08:14:53.426206Z"
    }
   },
   "outputs": [
    {
     "name": "stdout",
     "output_type": "stream",
     "text": [
      " D 드라이브의 볼륨에는 이름이 없습니다.\n",
      " 볼륨 일련 번호: BC0D-FB82\n",
      "\n",
      " D:\\Pywork\\DataScience\\04_AI\\04_응용\\3차 프로젝트\\후기와 추천시스템 디렉터리\n",
      "\n",
      "2023-02-21  오후 05:14         2,909,035 tour_sim2.pickle\n",
      "               1개 파일           2,909,035 바이트\n",
      "               0개 디렉터리  518,692,306,944 바이트 남음\n"
     ]
    }
   ],
   "source": [
    "with open(\"tour_sim2.pickle\",\"wb\") as fw:\n",
    "    pickle.dump(tour_sim2, fw)\n",
    "\n",
    "!dir tour_sim2.pickle"
   ]
  },
  {
   "cell_type": "code",
   "execution_count": 33,
   "id": "97d39014",
   "metadata": {
    "ExecuteTime": {
     "end_time": "2023-02-21T08:14:59.349881Z",
     "start_time": "2023-02-21T08:14:59.338885Z"
    }
   },
   "outputs": [
    {
     "data": {
      "text/plain": [
       "603"
      ]
     },
     "execution_count": 33,
     "metadata": {},
     "output_type": "execute_result"
    }
   ],
   "source": [
    "len(tour_sim2)"
   ]
  },
  {
   "cell_type": "code",
   "execution_count": null,
   "id": "310d8f90",
   "metadata": {},
   "outputs": [],
   "source": []
  }
 ],
 "metadata": {
  "kernelspec": {
   "display_name": "Python 3 (ipykernel)",
   "language": "python",
   "name": "python3"
  },
  "language_info": {
   "codemirror_mode": {
    "name": "ipython",
    "version": 3
   },
   "file_extension": ".py",
   "mimetype": "text/x-python",
   "name": "python",
   "nbconvert_exporter": "python",
   "pygments_lexer": "ipython3",
   "version": "3.9.13"
  }
 },
 "nbformat": 4,
 "nbformat_minor": 5
}
