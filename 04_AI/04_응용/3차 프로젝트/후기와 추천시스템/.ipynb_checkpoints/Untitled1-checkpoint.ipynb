{
 "cells": [
  {
   "cell_type": "code",
   "execution_count": 58,
   "id": "f62dc2a9",
   "metadata": {
    "ExecuteTime": {
     "end_time": "2023-02-21T08:32:37.893234Z",
     "start_time": "2023-02-21T08:32:37.888246Z"
    }
   },
   "outputs": [],
   "source": [
    "import pandas as pd"
   ]
  },
  {
   "cell_type": "code",
   "execution_count": 59,
   "id": "3e154718",
   "metadata": {
    "ExecuteTime": {
     "end_time": "2023-02-21T08:32:38.115370Z",
     "start_time": "2023-02-21T08:32:38.083005Z"
    }
   },
   "outputs": [
    {
     "data": {
      "text/html": [
       "<div>\n",
       "<style scoped>\n",
       "    .dataframe tbody tr th:only-of-type {\n",
       "        vertical-align: middle;\n",
       "    }\n",
       "\n",
       "    .dataframe tbody tr th {\n",
       "        vertical-align: top;\n",
       "    }\n",
       "\n",
       "    .dataframe thead th {\n",
       "        text-align: right;\n",
       "    }\n",
       "</style>\n",
       "<table border=\"1\" class=\"dataframe\">\n",
       "  <thead>\n",
       "    <tr style=\"text-align: right;\">\n",
       "      <th></th>\n",
       "      <th>ID</th>\n",
       "      <th>name</th>\n",
       "      <th>tags</th>\n",
       "    </tr>\n",
       "  </thead>\n",
       "  <tbody>\n",
       "    <tr>\n",
       "      <th>0</th>\n",
       "      <td>CNTS_000000000000597</td>\n",
       "      <td>아라고나이트 고온천</td>\n",
       "      <td>온천,실내,휴식/힐링,부모,비.눈,겨울,실내관광지,호텔,숙소,어트랙션,공용주차장</td>\n",
       "    </tr>\n",
       "    <tr>\n",
       "      <th>1</th>\n",
       "      <td>CNTS_000000000000614</td>\n",
       "      <td>비체올린</td>\n",
       "      <td>야영장,캠핑장,액티비티,아이,맑음,체험,레저/체험,어린이,수상레저,언택트,어트랙션,...</td>\n",
       "    </tr>\n",
       "    <tr>\n",
       "      <th>2</th>\n",
       "      <td>CNTS_000000000000970</td>\n",
       "      <td>제주추사관</td>\n",
       "      <td>미술/박물관,흐림,겨울,실내관광지,어트랙션,공용주차장,현금결제,카드결제,화장실,무료...</td>\n",
       "    </tr>\n",
       "    <tr>\n",
       "      <th>3</th>\n",
       "      <td>CNTS_000000000000976</td>\n",
       "      <td>제주동백마을</td>\n",
       "      <td>웰니스,만남,즐김,치유,체험,부모,자연경관,마을산책,마을관광,동백,어트랙션,공용주차...</td>\n",
       "    </tr>\n",
       "    <tr>\n",
       "      <th>4</th>\n",
       "      <td>CNTS_000000000001158</td>\n",
       "      <td>메이즈랜드</td>\n",
       "      <td>부모,아이,테마공원,미술/박물관,경관/포토,전시와 행사,우수관광사업체,실내관광지,포...</td>\n",
       "    </tr>\n",
       "  </tbody>\n",
       "</table>\n",
       "</div>"
      ],
      "text/plain": [
       "                     ID        name  \\\n",
       "0  CNTS_000000000000597  아라고나이트 고온천   \n",
       "1  CNTS_000000000000614        비체올린   \n",
       "2  CNTS_000000000000970       제주추사관   \n",
       "3  CNTS_000000000000976      제주동백마을   \n",
       "4  CNTS_000000000001158       메이즈랜드   \n",
       "\n",
       "                                                tags  \n",
       "0       온천,실내,휴식/힐링,부모,비.눈,겨울,실내관광지,호텔,숙소,어트랙션,공용주차장  \n",
       "1  야영장,캠핑장,액티비티,아이,맑음,체험,레저/체험,어린이,수상레저,언택트,어트랙션,...  \n",
       "2  미술/박물관,흐림,겨울,실내관광지,어트랙션,공용주차장,현금결제,카드결제,화장실,무료...  \n",
       "3  웰니스,만남,즐김,치유,체험,부모,자연경관,마을산책,마을관광,동백,어트랙션,공용주차...  \n",
       "4  부모,아이,테마공원,미술/박물관,경관/포토,전시와 행사,우수관광사업체,실내관광지,포...  "
      ]
     },
     "execution_count": 59,
     "metadata": {},
     "output_type": "execute_result"
    }
   ],
   "source": [
    "content_df = pd.read_csv('tourplace_info.csv', encoding='cp949')\n",
    "content_df.head()"
   ]
  },
  {
   "cell_type": "code",
   "execution_count": 60,
   "id": "e0e75102",
   "metadata": {
    "ExecuteTime": {
     "end_time": "2023-02-21T08:32:38.499515Z",
     "start_time": "2023-02-21T08:32:38.467760Z"
    }
   },
   "outputs": [
    {
     "data": {
      "text/plain": [
       "(603, 3)"
      ]
     },
     "execution_count": 60,
     "metadata": {},
     "output_type": "execute_result"
    }
   ],
   "source": [
    "content_df.shape"
   ]
  },
  {
   "cell_type": "code",
   "execution_count": 67,
   "id": "acc81f3e",
   "metadata": {
    "ExecuteTime": {
     "end_time": "2023-02-21T08:33:23.830187Z",
     "start_time": "2023-02-21T08:33:23.816299Z"
    }
   },
   "outputs": [
    {
     "data": {
      "text/html": [
       "<div>\n",
       "<style scoped>\n",
       "    .dataframe tbody tr th:only-of-type {\n",
       "        vertical-align: middle;\n",
       "    }\n",
       "\n",
       "    .dataframe tbody tr th {\n",
       "        vertical-align: top;\n",
       "    }\n",
       "\n",
       "    .dataframe thead th {\n",
       "        text-align: right;\n",
       "    }\n",
       "</style>\n",
       "<table border=\"1\" class=\"dataframe\">\n",
       "  <thead>\n",
       "    <tr style=\"text-align: right;\">\n",
       "      <th></th>\n",
       "      <th>ID</th>\n",
       "      <th>name</th>\n",
       "      <th>tags</th>\n",
       "    </tr>\n",
       "  </thead>\n",
       "  <tbody>\n",
       "    <tr>\n",
       "      <th>11</th>\n",
       "      <td>CNTS_000000000018311</td>\n",
       "      <td>서귀포치유의숲</td>\n",
       "      <td>웰니스,자연,숲,치유,숲길,걷기/등산,부모,자연경관,도보여행,럭셔리트래블인제주,공용...</td>\n",
       "    </tr>\n",
       "  </tbody>\n",
       "</table>\n",
       "</div>"
      ],
      "text/plain": [
       "                      ID     name  \\\n",
       "11  CNTS_000000000018311  서귀포치유의숲   \n",
       "\n",
       "                                                 tags  \n",
       "11  웰니스,자연,숲,치유,숲길,걷기/등산,부모,자연경관,도보여행,럭셔리트래블인제주,공용...  "
      ]
     },
     "execution_count": 67,
     "metadata": {},
     "output_type": "execute_result"
    }
   ],
   "source": [
    "content_df.loc[content_df['ID'] == 'CNTS_000000000018311']"
   ]
  },
  {
   "cell_type": "code",
   "execution_count": 80,
   "id": "5e1f5099",
   "metadata": {
    "ExecuteTime": {
     "end_time": "2023-02-21T08:34:11.057121Z",
     "start_time": "2023-02-21T08:34:11.047984Z"
    }
   },
   "outputs": [],
   "source": [
    "input = 'CNTS_000000000018311 CNTS_000000000018332'"
   ]
  },
  {
   "cell_type": "code",
   "execution_count": 81,
   "id": "1a526822",
   "metadata": {
    "ExecuteTime": {
     "end_time": "2023-02-21T08:34:11.378010Z",
     "start_time": "2023-02-21T08:34:11.367191Z"
    }
   },
   "outputs": [],
   "source": [
    "code_list = input.split()"
   ]
  },
  {
   "cell_type": "code",
   "execution_count": 82,
   "id": "803ff527",
   "metadata": {
    "ExecuteTime": {
     "end_time": "2023-02-21T08:34:11.641622Z",
     "start_time": "2023-02-21T08:34:11.631894Z"
    }
   },
   "outputs": [
    {
     "name": "stdout",
     "output_type": "stream",
     "text": [
      "CNTS_000000000018311\n",
      "['웰니스,자연,숲,치유,숲길,걷기/등산,부모,자연경관,도보여행,럭셔리트래블인제주,공용주차장,화장실,아주 어려움,실외,상,기타,숲길 , 산책로']\n",
      "CNTS_000000000018332\n",
      "['실내,미술/박물관,친구,비.눈,겨울,문화관광,어트랙션,엘리베이터,임산부 휴게시설,단독접근가능,단차없음,시각장애인 접근성,장애인 화장실,승강기,장애인 전용 주차장,수동 휠체어 대여 가능,쉬움,하,공연/전시,기타,1시간 미만,무장애관광']\n"
     ]
    }
   ],
   "source": [
    "for input_code in code_list:\n",
    "    print(input_code)\n",
    "    tag_data = content_df.loc[content_df['ID'] == input_code]['tags'].values\n",
    "    print(tag_data)"
   ]
  },
  {
   "cell_type": "code",
   "execution_count": null,
   "id": "3afc2dac",
   "metadata": {},
   "outputs": [],
   "source": []
  },
  {
   "cell_type": "code",
   "execution_count": null,
   "id": "69982f07",
   "metadata": {},
   "outputs": [],
   "source": []
  }
 ],
 "metadata": {
  "kernelspec": {
   "display_name": "Python 3 (ipykernel)",
   "language": "python",
   "name": "python3"
  },
  "language_info": {
   "codemirror_mode": {
    "name": "ipython",
    "version": 3
   },
   "file_extension": ".py",
   "mimetype": "text/x-python",
   "name": "python",
   "nbconvert_exporter": "python",
   "pygments_lexer": "ipython3",
   "version": "3.9.13"
  }
 },
 "nbformat": 4,
 "nbformat_minor": 5
}
