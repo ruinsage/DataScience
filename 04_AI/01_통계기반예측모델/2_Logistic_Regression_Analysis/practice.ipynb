{
 "cells": [
  {
   "cell_type": "markdown",
   "id": "2b077a61",
   "metadata": {},
   "source": [
    "# 1. 기술통계항목_확인"
   ]
  },
  {
   "cell_type": "code",
   "execution_count": 23,
   "id": "4aa4a30f",
   "metadata": {},
   "outputs": [],
   "source": [
    "import numpy as np\n",
    "import pandas as pd"
   ]
  },
  {
   "cell_type": "code",
   "execution_count": 24,
   "id": "2b684b82",
   "metadata": {},
   "outputs": [],
   "source": [
    "churn = pd.read_csv('churn.csv', sep = ',', header = 0)"
   ]
  },
  {
   "cell_type": "code",
   "execution_count": 25,
   "id": "73c7ba01",
   "metadata": {},
   "outputs": [
    {
     "data": {
      "text/html": [
       "<div>\n",
       "<style scoped>\n",
       "    .dataframe tbody tr th:only-of-type {\n",
       "        vertical-align: middle;\n",
       "    }\n",
       "\n",
       "    .dataframe tbody tr th {\n",
       "        vertical-align: top;\n",
       "    }\n",
       "\n",
       "    .dataframe thead th {\n",
       "        text-align: right;\n",
       "    }\n",
       "</style>\n",
       "<table border=\"1\" class=\"dataframe\">\n",
       "  <thead>\n",
       "    <tr style=\"text-align: right;\">\n",
       "      <th></th>\n",
       "      <th>State</th>\n",
       "      <th>Account Length</th>\n",
       "      <th>Area Code</th>\n",
       "      <th>Phone</th>\n",
       "      <th>Int'l Plan</th>\n",
       "      <th>VMail Plan</th>\n",
       "      <th>VMail Message</th>\n",
       "      <th>Day Mins</th>\n",
       "      <th>Day Calls</th>\n",
       "      <th>Day Charge</th>\n",
       "      <th>...</th>\n",
       "      <th>Eve Calls</th>\n",
       "      <th>Eve Charge</th>\n",
       "      <th>Night Mins</th>\n",
       "      <th>Night Calls</th>\n",
       "      <th>Night Charge</th>\n",
       "      <th>Intl Mins</th>\n",
       "      <th>Intl Calls</th>\n",
       "      <th>Intl Charge</th>\n",
       "      <th>CustServ Calls</th>\n",
       "      <th>Churn?</th>\n",
       "    </tr>\n",
       "  </thead>\n",
       "  <tbody>\n",
       "    <tr>\n",
       "      <th>0</th>\n",
       "      <td>KS</td>\n",
       "      <td>128</td>\n",
       "      <td>415</td>\n",
       "      <td>382-4657</td>\n",
       "      <td>no</td>\n",
       "      <td>yes</td>\n",
       "      <td>25</td>\n",
       "      <td>265.1</td>\n",
       "      <td>110</td>\n",
       "      <td>45.07</td>\n",
       "      <td>...</td>\n",
       "      <td>99</td>\n",
       "      <td>16.78</td>\n",
       "      <td>244.7</td>\n",
       "      <td>91</td>\n",
       "      <td>11.01</td>\n",
       "      <td>10.0</td>\n",
       "      <td>3</td>\n",
       "      <td>2.70</td>\n",
       "      <td>1</td>\n",
       "      <td>False.</td>\n",
       "    </tr>\n",
       "    <tr>\n",
       "      <th>1</th>\n",
       "      <td>OH</td>\n",
       "      <td>107</td>\n",
       "      <td>415</td>\n",
       "      <td>371-7191</td>\n",
       "      <td>no</td>\n",
       "      <td>yes</td>\n",
       "      <td>26</td>\n",
       "      <td>161.6</td>\n",
       "      <td>123</td>\n",
       "      <td>27.47</td>\n",
       "      <td>...</td>\n",
       "      <td>103</td>\n",
       "      <td>16.62</td>\n",
       "      <td>254.4</td>\n",
       "      <td>103</td>\n",
       "      <td>11.45</td>\n",
       "      <td>13.7</td>\n",
       "      <td>3</td>\n",
       "      <td>3.70</td>\n",
       "      <td>1</td>\n",
       "      <td>False.</td>\n",
       "    </tr>\n",
       "    <tr>\n",
       "      <th>2</th>\n",
       "      <td>NJ</td>\n",
       "      <td>137</td>\n",
       "      <td>415</td>\n",
       "      <td>358-1921</td>\n",
       "      <td>no</td>\n",
       "      <td>no</td>\n",
       "      <td>0</td>\n",
       "      <td>243.4</td>\n",
       "      <td>114</td>\n",
       "      <td>41.38</td>\n",
       "      <td>...</td>\n",
       "      <td>110</td>\n",
       "      <td>10.30</td>\n",
       "      <td>162.6</td>\n",
       "      <td>104</td>\n",
       "      <td>7.32</td>\n",
       "      <td>12.2</td>\n",
       "      <td>5</td>\n",
       "      <td>3.29</td>\n",
       "      <td>0</td>\n",
       "      <td>False.</td>\n",
       "    </tr>\n",
       "    <tr>\n",
       "      <th>3</th>\n",
       "      <td>OH</td>\n",
       "      <td>84</td>\n",
       "      <td>408</td>\n",
       "      <td>375-9999</td>\n",
       "      <td>yes</td>\n",
       "      <td>no</td>\n",
       "      <td>0</td>\n",
       "      <td>299.4</td>\n",
       "      <td>71</td>\n",
       "      <td>50.90</td>\n",
       "      <td>...</td>\n",
       "      <td>88</td>\n",
       "      <td>5.26</td>\n",
       "      <td>196.9</td>\n",
       "      <td>89</td>\n",
       "      <td>8.86</td>\n",
       "      <td>6.6</td>\n",
       "      <td>7</td>\n",
       "      <td>1.78</td>\n",
       "      <td>2</td>\n",
       "      <td>False.</td>\n",
       "    </tr>\n",
       "    <tr>\n",
       "      <th>4</th>\n",
       "      <td>OK</td>\n",
       "      <td>75</td>\n",
       "      <td>415</td>\n",
       "      <td>330-6626</td>\n",
       "      <td>yes</td>\n",
       "      <td>no</td>\n",
       "      <td>0</td>\n",
       "      <td>166.7</td>\n",
       "      <td>113</td>\n",
       "      <td>28.34</td>\n",
       "      <td>...</td>\n",
       "      <td>122</td>\n",
       "      <td>12.61</td>\n",
       "      <td>186.9</td>\n",
       "      <td>121</td>\n",
       "      <td>8.41</td>\n",
       "      <td>10.1</td>\n",
       "      <td>3</td>\n",
       "      <td>2.73</td>\n",
       "      <td>3</td>\n",
       "      <td>False.</td>\n",
       "    </tr>\n",
       "  </tbody>\n",
       "</table>\n",
       "<p>5 rows × 21 columns</p>\n",
       "</div>"
      ],
      "text/plain": [
       "  State  Account Length  Area Code     Phone Int'l Plan VMail Plan  \\\n",
       "0    KS             128        415  382-4657         no        yes   \n",
       "1    OH             107        415  371-7191         no        yes   \n",
       "2    NJ             137        415  358-1921         no         no   \n",
       "3    OH              84        408  375-9999        yes         no   \n",
       "4    OK              75        415  330-6626        yes         no   \n",
       "\n",
       "   VMail Message  Day Mins  Day Calls  Day Charge  ...  Eve Calls  Eve Charge  \\\n",
       "0             25     265.1        110       45.07  ...         99       16.78   \n",
       "1             26     161.6        123       27.47  ...        103       16.62   \n",
       "2              0     243.4        114       41.38  ...        110       10.30   \n",
       "3              0     299.4         71       50.90  ...         88        5.26   \n",
       "4              0     166.7        113       28.34  ...        122       12.61   \n",
       "\n",
       "   Night Mins  Night Calls  Night Charge  Intl Mins  Intl Calls  Intl Charge  \\\n",
       "0       244.7           91         11.01       10.0           3         2.70   \n",
       "1       254.4          103         11.45       13.7           3         3.70   \n",
       "2       162.6          104          7.32       12.2           5         3.29   \n",
       "3       196.9           89          8.86        6.6           7         1.78   \n",
       "4       186.9          121          8.41       10.1           3         2.73   \n",
       "\n",
       "   CustServ Calls  Churn?  \n",
       "0               1  False.  \n",
       "1               1  False.  \n",
       "2               0  False.  \n",
       "3               2  False.  \n",
       "4               3  False.  \n",
       "\n",
       "[5 rows x 21 columns]"
      ]
     },
     "execution_count": 25,
     "metadata": {},
     "output_type": "execute_result"
    }
   ],
   "source": [
    "churn.head()"
   ]
  },
  {
   "cell_type": "code",
   "execution_count": 26,
   "id": "dda7ea47",
   "metadata": {},
   "outputs": [],
   "source": [
    "churn.columns = [heading.lower() for heading in\n",
    "                 churn.columns.str.replace(' ','_').str.replace('\\'','').str.strip('?')]"
   ]
  },
  {
   "cell_type": "code",
   "execution_count": 27,
   "id": "c4ed2c41",
   "metadata": {},
   "outputs": [],
   "source": [
    "churn['churn01'] = np.where(churn['churn'] == 'True.',1.,0.)"
   ]
  },
  {
   "cell_type": "code",
   "execution_count": 28,
   "id": "689224fe",
   "metadata": {},
   "outputs": [
    {
     "data": {
      "text/html": [
       "<div>\n",
       "<style scoped>\n",
       "    .dataframe tbody tr th:only-of-type {\n",
       "        vertical-align: middle;\n",
       "    }\n",
       "\n",
       "    .dataframe tbody tr th {\n",
       "        vertical-align: top;\n",
       "    }\n",
       "\n",
       "    .dataframe thead tr th {\n",
       "        text-align: left;\n",
       "    }\n",
       "\n",
       "    .dataframe thead tr:last-of-type th {\n",
       "        text-align: right;\n",
       "    }\n",
       "</style>\n",
       "<table border=\"1\" class=\"dataframe\">\n",
       "  <thead>\n",
       "    <tr>\n",
       "      <th></th>\n",
       "      <th colspan=\"3\" halign=\"left\">day_charge</th>\n",
       "      <th colspan=\"3\" halign=\"left\">eve_charge</th>\n",
       "      <th colspan=\"3\" halign=\"left\">night_charge</th>\n",
       "      <th colspan=\"3\" halign=\"left\">intl_charge</th>\n",
       "      <th colspan=\"3\" halign=\"left\">account_length</th>\n",
       "      <th colspan=\"3\" halign=\"left\">custserv_calls</th>\n",
       "    </tr>\n",
       "    <tr>\n",
       "      <th></th>\n",
       "      <th>count</th>\n",
       "      <th>mean</th>\n",
       "      <th>std</th>\n",
       "      <th>count</th>\n",
       "      <th>mean</th>\n",
       "      <th>std</th>\n",
       "      <th>count</th>\n",
       "      <th>mean</th>\n",
       "      <th>std</th>\n",
       "      <th>count</th>\n",
       "      <th>mean</th>\n",
       "      <th>std</th>\n",
       "      <th>count</th>\n",
       "      <th>mean</th>\n",
       "      <th>std</th>\n",
       "      <th>count</th>\n",
       "      <th>mean</th>\n",
       "      <th>std</th>\n",
       "    </tr>\n",
       "    <tr>\n",
       "      <th>churn01</th>\n",
       "      <th></th>\n",
       "      <th></th>\n",
       "      <th></th>\n",
       "      <th></th>\n",
       "      <th></th>\n",
       "      <th></th>\n",
       "      <th></th>\n",
       "      <th></th>\n",
       "      <th></th>\n",
       "      <th></th>\n",
       "      <th></th>\n",
       "      <th></th>\n",
       "      <th></th>\n",
       "      <th></th>\n",
       "      <th></th>\n",
       "      <th></th>\n",
       "      <th></th>\n",
       "      <th></th>\n",
       "    </tr>\n",
       "  </thead>\n",
       "  <tbody>\n",
       "    <tr>\n",
       "      <th>0.0</th>\n",
       "      <td>2850</td>\n",
       "      <td>29.780421</td>\n",
       "      <td>8.530835</td>\n",
       "      <td>2850</td>\n",
       "      <td>16.918909</td>\n",
       "      <td>4.274863</td>\n",
       "      <td>2850</td>\n",
       "      <td>9.006074</td>\n",
       "      <td>2.299768</td>\n",
       "      <td>2850</td>\n",
       "      <td>2.743404</td>\n",
       "      <td>0.751784</td>\n",
       "      <td>2850</td>\n",
       "      <td>100.793684</td>\n",
       "      <td>39.88235</td>\n",
       "      <td>2850</td>\n",
       "      <td>1.449825</td>\n",
       "      <td>1.163883</td>\n",
       "    </tr>\n",
       "    <tr>\n",
       "      <th>1.0</th>\n",
       "      <td>483</td>\n",
       "      <td>35.175921</td>\n",
       "      <td>11.729710</td>\n",
       "      <td>483</td>\n",
       "      <td>18.054969</td>\n",
       "      <td>4.396762</td>\n",
       "      <td>483</td>\n",
       "      <td>9.235528</td>\n",
       "      <td>2.121081</td>\n",
       "      <td>483</td>\n",
       "      <td>2.889545</td>\n",
       "      <td>0.754152</td>\n",
       "      <td>483</td>\n",
       "      <td>102.664596</td>\n",
       "      <td>39.46782</td>\n",
       "      <td>483</td>\n",
       "      <td>2.229814</td>\n",
       "      <td>1.853275</td>\n",
       "    </tr>\n",
       "  </tbody>\n",
       "</table>\n",
       "</div>"
      ],
      "text/plain": [
       "        day_charge                       eve_charge                       \\\n",
       "             count       mean        std      count       mean       std   \n",
       "churn01                                                                    \n",
       "0.0           2850  29.780421   8.530835       2850  16.918909  4.274863   \n",
       "1.0            483  35.175921  11.729710        483  18.054969  4.396762   \n",
       "\n",
       "        night_charge                     intl_charge                      \\\n",
       "               count      mean       std       count      mean       std   \n",
       "churn01                                                                    \n",
       "0.0             2850  9.006074  2.299768        2850  2.743404  0.751784   \n",
       "1.0              483  9.235528  2.121081         483  2.889545  0.754152   \n",
       "\n",
       "        account_length                       custserv_calls            \\\n",
       "                 count        mean       std          count      mean   \n",
       "churn01                                                                 \n",
       "0.0               2850  100.793684  39.88235           2850  1.449825   \n",
       "1.0                483  102.664596  39.46782            483  2.229814   \n",
       "\n",
       "                   \n",
       "              std  \n",
       "churn01            \n",
       "0.0      1.163883  \n",
       "1.0      1.853275  "
      ]
     },
     "execution_count": 28,
     "metadata": {},
     "output_type": "execute_result"
    }
   ],
   "source": [
    "churn.groupby(['churn01'])[['day_charge', 'eve_charge', 'night_charge', 'intl_charge', 'account_length', 'custserv_calls']].agg(['count','mean','std'])"
   ]
  },
  {
   "cell_type": "code",
   "execution_count": 29,
   "id": "a4daa96f",
   "metadata": {},
   "outputs": [
    {
     "data": {
      "text/html": [
       "<div>\n",
       "<style scoped>\n",
       "    .dataframe tbody tr th:only-of-type {\n",
       "        vertical-align: middle;\n",
       "    }\n",
       "\n",
       "    .dataframe tbody tr th {\n",
       "        vertical-align: top;\n",
       "    }\n",
       "\n",
       "    .dataframe thead tr th {\n",
       "        text-align: left;\n",
       "    }\n",
       "\n",
       "    .dataframe thead tr:last-of-type th {\n",
       "        text-align: right;\n",
       "    }\n",
       "</style>\n",
       "<table border=\"1\" class=\"dataframe\">\n",
       "  <thead>\n",
       "    <tr>\n",
       "      <th></th>\n",
       "      <th colspan=\"2\" halign=\"left\">day_charge</th>\n",
       "      <th colspan=\"2\" halign=\"left\">eve_charge</th>\n",
       "      <th colspan=\"2\" halign=\"left\">night_charge</th>\n",
       "      <th colspan=\"2\" halign=\"left\">intl_charge</th>\n",
       "      <th colspan=\"3\" halign=\"left\">account_length</th>\n",
       "      <th colspan=\"3\" halign=\"left\">custserv_calls</th>\n",
       "    </tr>\n",
       "    <tr>\n",
       "      <th></th>\n",
       "      <th>mean</th>\n",
       "      <th>std</th>\n",
       "      <th>mean</th>\n",
       "      <th>std</th>\n",
       "      <th>mean</th>\n",
       "      <th>std</th>\n",
       "      <th>mean</th>\n",
       "      <th>std</th>\n",
       "      <th>count</th>\n",
       "      <th>min</th>\n",
       "      <th>max</th>\n",
       "      <th>count</th>\n",
       "      <th>min</th>\n",
       "      <th>max</th>\n",
       "    </tr>\n",
       "    <tr>\n",
       "      <th>churn01</th>\n",
       "      <th></th>\n",
       "      <th></th>\n",
       "      <th></th>\n",
       "      <th></th>\n",
       "      <th></th>\n",
       "      <th></th>\n",
       "      <th></th>\n",
       "      <th></th>\n",
       "      <th></th>\n",
       "      <th></th>\n",
       "      <th></th>\n",
       "      <th></th>\n",
       "      <th></th>\n",
       "      <th></th>\n",
       "    </tr>\n",
       "  </thead>\n",
       "  <tbody>\n",
       "    <tr>\n",
       "      <th>0.0</th>\n",
       "      <td>29.780421</td>\n",
       "      <td>8.530835</td>\n",
       "      <td>16.918909</td>\n",
       "      <td>4.274863</td>\n",
       "      <td>9.006074</td>\n",
       "      <td>2.299768</td>\n",
       "      <td>2.743404</td>\n",
       "      <td>0.751784</td>\n",
       "      <td>2850</td>\n",
       "      <td>1</td>\n",
       "      <td>243</td>\n",
       "      <td>2850</td>\n",
       "      <td>0</td>\n",
       "      <td>8</td>\n",
       "    </tr>\n",
       "    <tr>\n",
       "      <th>1.0</th>\n",
       "      <td>35.175921</td>\n",
       "      <td>11.729710</td>\n",
       "      <td>18.054969</td>\n",
       "      <td>4.396762</td>\n",
       "      <td>9.235528</td>\n",
       "      <td>2.121081</td>\n",
       "      <td>2.889545</td>\n",
       "      <td>0.754152</td>\n",
       "      <td>483</td>\n",
       "      <td>1</td>\n",
       "      <td>225</td>\n",
       "      <td>483</td>\n",
       "      <td>0</td>\n",
       "      <td>9</td>\n",
       "    </tr>\n",
       "  </tbody>\n",
       "</table>\n",
       "</div>"
      ],
      "text/plain": [
       "        day_charge            eve_charge           night_charge            \\\n",
       "              mean        std       mean       std         mean       std   \n",
       "churn01                                                                     \n",
       "0.0      29.780421   8.530835  16.918909  4.274863     9.006074  2.299768   \n",
       "1.0      35.175921  11.729710  18.054969  4.396762     9.235528  2.121081   \n",
       "\n",
       "        intl_charge           account_length          custserv_calls          \n",
       "               mean       std          count min  max          count min max  \n",
       "churn01                                                                       \n",
       "0.0        2.743404  0.751784           2850   1  243           2850   0   8  \n",
       "1.0        2.889545  0.754152            483   1  225            483   0   9  "
      ]
     },
     "execution_count": 29,
     "metadata": {},
     "output_type": "execute_result"
    }
   ],
   "source": [
    "churn.groupby(['churn01']).agg({'day_charge' : ['mean','std'],'eve_charge' : ['mean','std'],\n",
    "                                'night_charge' : ['mean','std'], 'intl_charge' : ['mean','std'],\n",
    "                               'account_length' : ['count','min','max'],\n",
    "                               'custserv_calls' : ['count','min','max']})"
   ]
  },
  {
   "cell_type": "markdown",
   "id": "6b8f7bc9",
   "metadata": {},
   "source": [
    "## 새로운 독립변수 추가 및 기술툥계항목 확인\n",
    "* 기존의 독립변수로부터 새로운 독립변수를 추가하여 모델의 성능을 개선할 수 있는지 확인\n",
    "* 적용 방법(EDA방식으로 접근)\n",
    " - 새로운 독립변수에 대한 가설 설정\n",
    " - 해당 독립변수에 대한 AB테스트\n",
    " - 모델 성능 개선이 있다면 해당 독립변수 활용"
   ]
  },
  {
   "cell_type": "code",
   "execution_count": 30,
   "id": "5883bb67",
   "metadata": {},
   "outputs": [
    {
     "name": "stdout",
     "output_type": "stream",
     "text": [
      "                min  max   count      mean       std\n",
      "total_charges                                       \n",
      "(22.86, 37.57]  0.0  5.0    70.0  1.528571  1.348337\n",
      "(37.57, 52.22]  0.0  7.0   742.0  1.564690  1.305234\n",
      "(52.22, 66.86]  0.0  9.0  1726.0  1.581692  1.326646\n",
      "(66.86, 81.51]  0.0  9.0   735.0  1.523810  1.295209\n",
      "(81.51, 96.15]  0.0  5.0    60.0  1.516667  1.359108\n"
     ]
    }
   ],
   "source": [
    "churn['total_charges'] = churn['day_charge'] + churn['eve_charge'] + churn['night_charge'] + churn['intl_charge']\n",
    "# cur함수 => pd.cut(데이터 객체, 구간수, precision =)\n",
    "# 데이터객체와 구간수는 필수인자\n",
    "# 구간수: 구간 균등분할 (갯수에 따른 분할은 qcut)\n",
    "# precision : 소수점 이하 자릿수\n",
    "factor_cut = pd.cut(churn.total_charges, 5, precision = 2)\n",
    "def get_stats(group):\n",
    "    return {'min' : group.min(), 'max' : group.max(), 'count' : group.count(),\n",
    "           'mean' : group.mean(), 'std' : group.std()}\n",
    "grouped = churn.custserv_calls.groupby(factor_cut)\n",
    "print(grouped.apply(get_stats).unstack())"
   ]
  },
  {
   "cell_type": "code",
   "execution_count": 34,
   "id": "ac957434",
   "metadata": {
    "scrolled": true
   },
   "outputs": [
    {
     "name": "stdout",
     "output_type": "stream",
     "text": [
      "                min  max  count      mean       std\n",
      "account_length                                     \n",
      "(0.999, 74.0]   0.0  9.0  857.0  1.506418  1.251268\n",
      "(74.0, 101.0]   0.0  7.0  847.0  1.604486  1.359888\n",
      "(101.0, 127.0]  0.0  8.0  803.0  1.652553  1.358479\n",
      "(127.0, 243.0]  0.0  9.0  826.0  1.491525  1.286970\n"
     ]
    }
   ],
   "source": [
    "factor_qcut = pd.qcut(churn.account_length, [0., 0.25, 0.5, 0.75, 1.])\n",
    "grouped = churn.custserv_calls.groupby(factor_qcut)\n",
    "print(grouped.apply(get_stats).unstack())"
   ]
  },
  {
   "cell_type": "markdown",
   "id": "3622e052",
   "metadata": {},
   "source": [
    "# 2. 로지스틱 회귀분석 "
   ]
  },
  {
   "cell_type": "code",
   "execution_count": 35,
   "id": "006265af",
   "metadata": {},
   "outputs": [],
   "source": [
    "import statsmodels.api as sm"
   ]
  },
  {
   "cell_type": "code",
   "execution_count": 37,
   "id": "e0e7133c",
   "metadata": {},
   "outputs": [],
   "source": [
    "churn = pd.read_csv('churn.csv', sep=',', header=0)\n",
    "churn.columns = [heading.lower() for heading in churn.columns.str.replace(' ','_').str.replace('\\'','').str.strip('?')]\n",
    "churn['churn'] = np.where(churn['churn'] == 'True.', 1, 0)\n",
    "churn['total_charges'] = churn['day_charge'] + churn['eve_charge'] + \\\n",
    "\t\t\t\t\t\t churn['night_charge'] + churn['intl_charge']\n",
    "churn['intl_plan'] = np.where(churn['intl_plan'] == 'yes', 1, 0)\n",
    "churn['vmail_plan'] = np.where(churn['vmail_plan'] == 'yes', 1, 0)"
   ]
  },
  {
   "cell_type": "code",
   "execution_count": 38,
   "id": "3e5afa10",
   "metadata": {},
   "outputs": [
    {
     "name": "stdout",
     "output_type": "stream",
     "text": [
      "Optimization terminated successfully.\n",
      "         Current function value: 0.323821\n",
      "         Iterations 7\n"
     ]
    },
    {
     "data": {
      "text/html": [
       "<table class=\"simpletable\">\n",
       "<caption>Logit Regression Results</caption>\n",
       "<tr>\n",
       "  <th>Dep. Variable:</th>         <td>churn</td>      <th>  No. Observations:  </th>   <td>  3333</td>  \n",
       "</tr>\n",
       "<tr>\n",
       "  <th>Model:</th>                 <td>Logit</td>      <th>  Df Residuals:      </th>   <td>  3314</td>  \n",
       "</tr>\n",
       "<tr>\n",
       "  <th>Method:</th>                 <td>MLE</td>       <th>  Df Model:          </th>   <td>    18</td>  \n",
       "</tr>\n",
       "<tr>\n",
       "  <th>Date:</th>            <td>Thu, 19 Jan 2023</td> <th>  Pseudo R-squ.:     </th>   <td>0.2174</td>  \n",
       "</tr>\n",
       "<tr>\n",
       "  <th>Time:</th>                <td>14:30:11</td>     <th>  Log-Likelihood:    </th>  <td> -1079.3</td> \n",
       "</tr>\n",
       "<tr>\n",
       "  <th>converged:</th>             <td>True</td>       <th>  LL-Null:           </th>  <td> -1379.1</td> \n",
       "</tr>\n",
       "<tr>\n",
       "  <th>Covariance Type:</th>     <td>nonrobust</td>    <th>  LLR p-value:       </th> <td>9.950e-116</td>\n",
       "</tr>\n",
       "</table>\n",
       "<table class=\"simpletable\">\n",
       "<tr>\n",
       "         <td></td>           <th>coef</th>     <th>std err</th>      <th>z</th>      <th>P>|z|</th>  <th>[0.025</th>    <th>0.975]</th>  \n",
       "</tr>\n",
       "<tr>\n",
       "  <th>const</th>          <td>   -8.4417</td> <td>    0.926</td> <td>   -9.118</td> <td> 0.000</td> <td>  -10.256</td> <td>   -6.627</td>\n",
       "</tr>\n",
       "<tr>\n",
       "  <th>account_length</th> <td>    0.0008</td> <td>    0.001</td> <td>    0.597</td> <td> 0.550</td> <td>   -0.002</td> <td>    0.004</td>\n",
       "</tr>\n",
       "<tr>\n",
       "  <th>area_code</th>      <td>   -0.0005</td> <td>    0.001</td> <td>   -0.363</td> <td> 0.716</td> <td>   -0.003</td> <td>    0.002</td>\n",
       "</tr>\n",
       "<tr>\n",
       "  <th>intl_plan</th>      <td>    2.0456</td> <td>    0.146</td> <td>   14.038</td> <td> 0.000</td> <td>    1.760</td> <td>    2.331</td>\n",
       "</tr>\n",
       "<tr>\n",
       "  <th>vmail_plan</th>     <td>   -2.0251</td> <td>    0.574</td> <td>   -3.527</td> <td> 0.000</td> <td>   -3.150</td> <td>   -0.900</td>\n",
       "</tr>\n",
       "<tr>\n",
       "  <th>vmail_message</th>  <td>    0.0359</td> <td>    0.018</td> <td>    1.992</td> <td> 0.046</td> <td>    0.001</td> <td>    0.071</td>\n",
       "</tr>\n",
       "<tr>\n",
       "  <th>day_mins</th>       <td>   -0.2567</td> <td>    3.275</td> <td>   -0.078</td> <td> 0.938</td> <td>   -6.675</td> <td>    6.162</td>\n",
       "</tr>\n",
       "<tr>\n",
       "  <th>day_calls</th>      <td>    0.0032</td> <td>    0.003</td> <td>    1.159</td> <td> 0.246</td> <td>   -0.002</td> <td>    0.009</td>\n",
       "</tr>\n",
       "<tr>\n",
       "  <th>day_charge</th>     <td>    1.5861</td> <td>   19.263</td> <td>    0.082</td> <td> 0.934</td> <td>  -36.169</td> <td>   39.342</td>\n",
       "</tr>\n",
       "<tr>\n",
       "  <th>eve_mins</th>       <td>    0.7916</td> <td>    1.637</td> <td>    0.483</td> <td> 0.629</td> <td>   -2.418</td> <td>    4.001</td>\n",
       "</tr>\n",
       "<tr>\n",
       "  <th>eve_calls</th>      <td>    0.0011</td> <td>    0.003</td> <td>    0.378</td> <td> 0.705</td> <td>   -0.004</td> <td>    0.007</td>\n",
       "</tr>\n",
       "<tr>\n",
       "  <th>eve_charge</th>     <td>   -9.2280</td> <td>   19.264</td> <td>   -0.479</td> <td> 0.632</td> <td>  -46.985</td> <td>   28.529</td>\n",
       "</tr>\n",
       "<tr>\n",
       "  <th>night_mins</th>     <td>   -0.1127</td> <td>    0.877</td> <td>   -0.128</td> <td> 0.898</td> <td>   -1.832</td> <td>    1.607</td>\n",
       "</tr>\n",
       "<tr>\n",
       "  <th>night_calls</th>    <td>    0.0007</td> <td>    0.003</td> <td>    0.252</td> <td> 0.801</td> <td>   -0.005</td> <td>    0.006</td>\n",
       "</tr>\n",
       "<tr>\n",
       "  <th>night_charge</th>   <td>    2.5860</td> <td>   19.494</td> <td>    0.133</td> <td> 0.894</td> <td>  -35.621</td> <td>   40.793</td>\n",
       "</tr>\n",
       "<tr>\n",
       "  <th>intl_mins</th>      <td>   -4.2874</td> <td>    5.303</td> <td>   -0.809</td> <td> 0.419</td> <td>  -14.681</td> <td>    6.106</td>\n",
       "</tr>\n",
       "<tr>\n",
       "  <th>intl_calls</th>     <td>   -0.0929</td> <td>    0.025</td> <td>   -3.707</td> <td> 0.000</td> <td>   -0.142</td> <td>   -0.044</td>\n",
       "</tr>\n",
       "<tr>\n",
       "  <th>intl_charge</th>    <td>   16.2027</td> <td>   19.639</td> <td>    0.825</td> <td> 0.409</td> <td>  -22.289</td> <td>   54.694</td>\n",
       "</tr>\n",
       "<tr>\n",
       "  <th>custserv_calls</th> <td>    0.5139</td> <td>    0.039</td> <td>   13.081</td> <td> 0.000</td> <td>    0.437</td> <td>    0.591</td>\n",
       "</tr>\n",
       "</table>"
      ],
      "text/plain": [
       "<class 'statsmodels.iolib.summary.Summary'>\n",
       "\"\"\"\n",
       "                           Logit Regression Results                           \n",
       "==============================================================================\n",
       "Dep. Variable:                  churn   No. Observations:                 3333\n",
       "Model:                          Logit   Df Residuals:                     3314\n",
       "Method:                           MLE   Df Model:                           18\n",
       "Date:                Thu, 19 Jan 2023   Pseudo R-squ.:                  0.2174\n",
       "Time:                        14:30:11   Log-Likelihood:                -1079.3\n",
       "converged:                       True   LL-Null:                       -1379.1\n",
       "Covariance Type:            nonrobust   LLR p-value:                9.950e-116\n",
       "==================================================================================\n",
       "                     coef    std err          z      P>|z|      [0.025      0.975]\n",
       "----------------------------------------------------------------------------------\n",
       "const             -8.4417      0.926     -9.118      0.000     -10.256      -6.627\n",
       "account_length     0.0008      0.001      0.597      0.550      -0.002       0.004\n",
       "area_code         -0.0005      0.001     -0.363      0.716      -0.003       0.002\n",
       "intl_plan          2.0456      0.146     14.038      0.000       1.760       2.331\n",
       "vmail_plan        -2.0251      0.574     -3.527      0.000      -3.150      -0.900\n",
       "vmail_message      0.0359      0.018      1.992      0.046       0.001       0.071\n",
       "day_mins          -0.2567      3.275     -0.078      0.938      -6.675       6.162\n",
       "day_calls          0.0032      0.003      1.159      0.246      -0.002       0.009\n",
       "day_charge         1.5861     19.263      0.082      0.934     -36.169      39.342\n",
       "eve_mins           0.7916      1.637      0.483      0.629      -2.418       4.001\n",
       "eve_calls          0.0011      0.003      0.378      0.705      -0.004       0.007\n",
       "eve_charge        -9.2280     19.264     -0.479      0.632     -46.985      28.529\n",
       "night_mins        -0.1127      0.877     -0.128      0.898      -1.832       1.607\n",
       "night_calls        0.0007      0.003      0.252      0.801      -0.005       0.006\n",
       "night_charge       2.5860     19.494      0.133      0.894     -35.621      40.793\n",
       "intl_mins         -4.2874      5.303     -0.809      0.419     -14.681       6.106\n",
       "intl_calls        -0.0929      0.025     -3.707      0.000      -0.142      -0.044\n",
       "intl_charge       16.2027     19.639      0.825      0.409     -22.289      54.694\n",
       "custserv_calls     0.5139      0.039     13.081      0.000       0.437       0.591\n",
       "==================================================================================\n",
       "\"\"\""
      ]
     },
     "execution_count": 38,
     "metadata": {},
     "output_type": "execute_result"
    }
   ],
   "source": [
    "# Fit a logistic regression model\n",
    "dependent_variable = churn['churn']\n",
    "independent_variables = churn[['account_length', 'area_code', 'intl_plan', 'vmail_plan', 'vmail_message', 'day_mins', 'day_calls', 'day_charge', 'eve_mins', 'eve_calls', 'eve_charge', 'night_mins', 'night_calls', 'night_charge', 'intl_mins', 'intl_calls', 'intl_charge', 'custserv_calls']]\n",
    "independent_variables_with_constant = sm.add_constant(independent_variables, prepend =True)\n",
    "# add_constant 상수항 결합을 위한 함수 => add_constant(독립변수, prepend = True)\n",
    "logit_model = sm.Logit(dependent_variable, independent_variables_with_constant).fit()\n",
    "\n",
    "logit_model.summary()"
   ]
  },
  {
   "cell_type": "code",
   "execution_count": null,
   "id": "6725e424",
   "metadata": {},
   "outputs": [],
   "source": []
  },
  {
   "cell_type": "code",
   "execution_count": null,
   "id": "f81da878",
   "metadata": {},
   "outputs": [],
   "source": []
  },
  {
   "cell_type": "code",
   "execution_count": null,
   "id": "cc7d7ad5",
   "metadata": {},
   "outputs": [],
   "source": []
  },
  {
   "cell_type": "code",
   "execution_count": 68,
   "id": "1140e79d",
   "metadata": {},
   "outputs": [],
   "source": [
    "fish_length = [25.4, 26.3, 26.5, 29.0, 29.0, 29.7, 29.7, 30.0, 30.0, 30.7, 31.0, 31.0, \n",
    "                31.5, 32.0, 32.0, 32.0, 33.0, 33.0, 33.5, 33.5, 34.0, 34.0, 34.5, 35.0, \n",
    "                35.0, 35.0, 35.0, 36.0, 36.0, 37.0, 38.5, 38.5, 39.5, 41.0, 41.0, 9.8, \n",
    "                10.5, 10.6, 11.0, 11.2, 11.3, 11.8, 11.8, 12.0, 12.2, 12.4, 13.0, 14.3, 15.0]\n",
    "fish_weight = [242.0, 290.0, 340.0, 363.0, 430.0, 450.0, 500.0, 390.0, 450.0, 500.0, 475.0, 500.0, \n",
    "                500.0, 340.0, 600.0, 600.0, 700.0, 700.0, 610.0, 650.0, 575.0, 685.0, 620.0, 680.0, \n",
    "                700.0, 725.0, 720.0, 714.0, 850.0, 1000.0, 920.0, 955.0, 925.0, 975.0, 950.0, 6.7, \n",
    "                7.5, 7.0, 9.7, 9.8, 8.7, 10.0, 9.9, 9.8, 12.2, 13.4, 12.2, 19.7, 19.9]"
   ]
  },
  {
   "cell_type": "code",
   "execution_count": null,
   "id": "08e2b601",
   "metadata": {},
   "outputs": [],
   "source": []
  },
  {
   "cell_type": "markdown",
   "id": "4ddcafea",
   "metadata": {},
   "source": [
    "# 2-3 사이킷런 데이터분류_데이터 표준화"
   ]
  },
  {
   "cell_type": "code",
   "execution_count": 69,
   "id": "fbd0302e",
   "metadata": {},
   "outputs": [],
   "source": [
    "import numpy as np\n",
    "import warnings\n",
    "warnings.filterwarnings('ignore')"
   ]
  },
  {
   "cell_type": "code",
   "execution_count": 70,
   "id": "c8105ef2",
   "metadata": {},
   "outputs": [
    {
     "data": {
      "text/plain": [
       "array([[1, 4],\n",
       "       [2, 5],\n",
       "       [3, 6]])"
      ]
     },
     "execution_count": 70,
     "metadata": {},
     "output_type": "execute_result"
    }
   ],
   "source": [
    "np.column_stack(([1,2,3],[4,5,6]))"
   ]
  },
  {
   "cell_type": "code",
   "execution_count": 71,
   "id": "0b7d10d0",
   "metadata": {},
   "outputs": [],
   "source": [
    "fish_data = np.column_stack((fish_length, fish_weight))"
   ]
  },
  {
   "cell_type": "code",
   "execution_count": 72,
   "id": "02f22562",
   "metadata": {},
   "outputs": [
    {
     "name": "stdout",
     "output_type": "stream",
     "text": [
      "[[ 25.4 242. ]\n",
      " [ 26.3 290. ]\n",
      " [ 26.5 340. ]\n",
      " [ 29.  363. ]\n",
      " [ 29.  430. ]]\n"
     ]
    }
   ],
   "source": [
    "print(fish_data[:5])"
   ]
  },
  {
   "cell_type": "code",
   "execution_count": 73,
   "id": "294122ae",
   "metadata": {},
   "outputs": [
    {
     "name": "stdout",
     "output_type": "stream",
     "text": [
      "[1. 1. 1. 1. 1.]\n"
     ]
    }
   ],
   "source": [
    "print(np.ones(5))"
   ]
  },
  {
   "cell_type": "code",
   "execution_count": 74,
   "id": "1b328097",
   "metadata": {},
   "outputs": [],
   "source": [
    "fish_target = np.concatenate((np.ones(35), np.zeros(14)))"
   ]
  },
  {
   "cell_type": "code",
   "execution_count": 75,
   "id": "3b2cba67",
   "metadata": {},
   "outputs": [
    {
     "name": "stdout",
     "output_type": "stream",
     "text": [
      "[1. 1. 1. 1. 1. 1. 1. 1. 1. 1. 1. 1. 1. 1. 1. 1. 1. 1. 1. 1. 1. 1. 1. 1.\n",
      " 1. 1. 1. 1. 1. 1. 1. 1. 1. 1. 1. 0. 0. 0. 0. 0. 0. 0. 0. 0. 0. 0. 0. 0.\n",
      " 0.]\n"
     ]
    }
   ],
   "source": [
    "print(fish_target)"
   ]
  },
  {
   "cell_type": "markdown",
   "id": "e94c7e2c",
   "metadata": {},
   "source": [
    "# 사이킷런으로 훈련 세트와 테스트 세트 나누기"
   ]
  },
  {
   "cell_type": "code",
   "execution_count": 76,
   "id": "e5c3d70e",
   "metadata": {},
   "outputs": [],
   "source": [
    "from sklearn.model_selection import train_test_split"
   ]
  },
  {
   "cell_type": "code",
   "execution_count": 77,
   "id": "6644be23",
   "metadata": {},
   "outputs": [],
   "source": [
    "# sklearn <= 사이킷런, 머신러닝, 데이터 분석 솬련 라이브러리에서 제공\n",
    "# train_test_split() => 훈련 세트와 테스트 세트로 나누어주는 함수\n",
    "train_input, test_input, train_target, test_target = train_test_split(fish_data, fish_target, random_state = 42)"
   ]
  },
  {
   "cell_type": "code",
   "execution_count": 78,
   "id": "fa8056ac",
   "metadata": {},
   "outputs": [
    {
     "name": "stdout",
     "output_type": "stream",
     "text": [
      "(36, 2) (13, 2)\n"
     ]
    }
   ],
   "source": [
    "print(train_input.shape, test_input.shape)"
   ]
  },
  {
   "cell_type": "code",
   "execution_count": 79,
   "id": "68f6f189",
   "metadata": {},
   "outputs": [
    {
     "name": "stdout",
     "output_type": "stream",
     "text": [
      "(36,) (13,)\n"
     ]
    }
   ],
   "source": [
    "print(train_target.shape, test_target.shape)"
   ]
  },
  {
   "cell_type": "code",
   "execution_count": 80,
   "id": "53e4e1c7",
   "metadata": {},
   "outputs": [
    {
     "name": "stdout",
     "output_type": "stream",
     "text": [
      "[1. 0. 0. 0. 1. 1. 1. 1. 1. 1. 1. 1. 1.]\n"
     ]
    }
   ],
   "source": [
    "print(test_target)"
   ]
  },
  {
   "cell_type": "code",
   "execution_count": 81,
   "id": "bb965f85",
   "metadata": {},
   "outputs": [],
   "source": [
    "# 옵션 stratify = [label 데이터] : 훈련셋, 테스트셋에 분류클래스 데이터가 균등하게 배분\n",
    "train_input, test_input, train_target, test_target = train_test_split(fish_data, fish_target, stratify = fish_target, random_state= 42)"
   ]
  },
  {
   "cell_type": "code",
   "execution_count": 82,
   "id": "02baeb4a",
   "metadata": {},
   "outputs": [
    {
     "name": "stdout",
     "output_type": "stream",
     "text": [
      "[0. 0. 1. 0. 1. 0. 1. 1. 1. 1. 1. 1. 1.]\n"
     ]
    }
   ],
   "source": [
    "print(test_target)"
   ]
  },
  {
   "cell_type": "markdown",
   "id": "597824f5",
   "metadata": {},
   "source": [
    "## 수상한 도미 한마리는 빙어로 예측된느 것이 맞는가?"
   ]
  },
  {
   "cell_type": "code",
   "execution_count": 83,
   "id": "73bb2501",
   "metadata": {},
   "outputs": [],
   "source": [
    "from sklearn.neighbors import KNeighborsClassifier"
   ]
  },
  {
   "cell_type": "code",
   "execution_count": 84,
   "id": "5574d299",
   "metadata": {},
   "outputs": [
    {
     "data": {
      "text/plain": [
       "1.0"
      ]
     },
     "execution_count": 84,
     "metadata": {},
     "output_type": "execute_result"
    }
   ],
   "source": [
    "kn = KNeighborsClassifier()\n",
    "kn.fit(train_input, train_target)\n",
    "kn.score(test_input, test_target)"
   ]
  },
  {
   "cell_type": "code",
   "execution_count": 85,
   "id": "f29ace3a",
   "metadata": {},
   "outputs": [
    {
     "name": "stdout",
     "output_type": "stream",
     "text": [
      "[0.]\n"
     ]
    }
   ],
   "source": [
    "print(kn.predict([[25,150]]))\n",
    "# 현재 빙어로 예측됨"
   ]
  },
  {
   "cell_type": "code",
   "execution_count": 86,
   "id": "77be1ada",
   "metadata": {},
   "outputs": [],
   "source": [
    "import matplotlib.pyplot as plt"
   ]
  },
  {
   "cell_type": "code",
   "execution_count": 87,
   "id": "de27ad33",
   "metadata": {},
   "outputs": [
    {
     "data": {
      "image/png": "[encoded data removed]",
      "text/plain": [
       "<Figure size 640x480 with 1 Axes>"
      ]
     },
     "metadata": {},
     "output_type": "display_data"
    }
   ],
   "source": [
    "plt.scatter(train_input[:,0], train_input[:,1])\n",
    "plt.scatter(25,150, marker ='^')\n",
    "plt.xlabel('lenth')\n",
    "plt.ylabel('weight')\n",
    "plt.show()"
   ]
  },
  {
   "cell_type": "code",
   "execution_count": 88,
   "id": "12994b49",
   "metadata": {},
   "outputs": [
    {
     "data": {
      "text/plain": [
       "(array([[ 92.00086956, 130.48375378, 130.73859415, 138.32150953,\n",
       "         138.39320793]]),\n",
       " array([[21, 33, 19, 30,  1]], dtype=int64))"
      ]
     },
     "execution_count": 88,
     "metadata": {},
     "output_type": "execute_result"
    }
   ],
   "source": [
    "# KNeighbors([샘플데이터]) => 해당 샘플데이터의 인점한 이웃의 인덱스와 거리를 반환함 (디폴트 5)\n",
    "distances, indexes = kn.kneighbors([[25,150]])\n",
    "distances, indexes"
   ]
  },
  {
   "cell_type": "code",
   "execution_count": 92,
   "id": "5f93fec0",
   "metadata": {},
   "outputs": [
    {
     "data": {
      "image/png": "[encoded data removed]",
      "text/plain": [
       "<Figure size 640x480 with 1 Axes>"
      ]
     },
     "metadata": {},
     "output_type": "display_data"
    }
   ],
   "source": [
    "plt.scatter(train_input[:,0], train_input[:,1])\n",
    "# 검증하고자하는 데이터는 삼각형으로\n",
    "plt.scatter(25,150, marker ='^')\n",
    "\n",
    "# 검증 데이터의 인접한 5개 이웃은 다이아몬드로 표시\n",
    "plt.scatter(train_input[indexes,0], train_input[indexes,1], marker ='D')\n",
    "plt.xlabel('length')\n",
    "plt.ylabel('weight')\n",
    "plt.show()"
   ]
  },
  {
   "cell_type": "code",
   "execution_count": 93,
   "id": "6a97410c",
   "metadata": {},
   "outputs": [
    {
     "name": "stdout",
     "output_type": "stream",
     "text": [
      "[[[ 25.4 242. ]\n",
      "  [ 15.   19.9]\n",
      "  [ 14.3  19.7]\n",
      "  [ 13.   12.2]\n",
      "  [ 12.2  12.2]]]\n"
     ]
    }
   ],
   "source": [
    "print(train_input[indexes])"
   ]
  },
  {
   "cell_type": "code",
   "execution_count": 94,
   "id": "209e2da1",
   "metadata": {},
   "outputs": [
    {
     "name": "stdout",
     "output_type": "stream",
     "text": [
      "[[1. 0. 0. 0. 0.]]\n"
     ]
    }
   ],
   "source": [
    "print(train_target[indexes])"
   ]
  },
  {
   "cell_type": "code",
   "execution_count": 95,
   "id": "0978778d",
   "metadata": {},
   "outputs": [
    {
     "name": "stdout",
     "output_type": "stream",
     "text": [
      "[[ 92.00086956 130.48375378 130.73859415 138.32150953 138.39320793]]\n"
     ]
    }
   ],
   "source": [
    "print(distances)"
   ]
  },
  {
   "cell_type": "markdown",
   "id": "7e3d7c0f",
   "metadata": {},
   "source": [
    "### 위 시각화로 왜 수상한 도미가 빙어로 도출되었는지 알아낼 수 있나?"
   ]
  },
  {
   "cell_type": "raw",
   "id": "befacb09",
   "metadata": {},
   "source": [
    "문제점: x축의 길이와 y축의 길이의 스케일이 서로 다르다."
   ]
  },
  {
   "cell_type": "markdown",
   "id": "b0060977",
   "metadata": {},
   "source": [
    "#### 기준을 맞춰보기"
   ]
  },
  {
   "cell_type": "code",
   "execution_count": 97,
   "id": "a0acbbad",
   "metadata": {},
   "outputs": [
    {
     "data": {
      "image/png": "[encoded data removed]",
      "text/plain": [
       "<Figure size 640x480 with 1 Axes>"
      ]
     },
     "metadata": {},
     "output_type": "display_data"
    }
   ],
   "source": [
    "plt.scatter(train_input[:,0],train_input[:,1])\n",
    "plt.scatter(25,150,marker ='^')\n",
    "plt.scatter(train_input[indexes,0],train_input[indexes,1], marker = 'D')\n",
    "plt.xlim((0,1000))\n",
    "# x축도 y축의 값에 맞게 지정\n",
    "plt.xlabel('length')\n",
    "plt.ylabel('weight')\n",
    "plt.show()"
   ]
  },
  {
   "cell_type": "raw",
   "id": "b1e1704d",
   "metadata": {},
   "source": [
    "물고기를 결정 지은 독립변수에서 길이보다 몸무게가 더 중요한 요소로 작용했다.\n",
    "따라서 학습 데이터에도 학습 전에 데이터에대한 표준화 작업이 필요해 보인다."
   ]
  },
  {
   "cell_type": "markdown",
   "id": "bf4a50ba",
   "metadata": {},
   "source": [
    "## 데이터 표준화\n",
    "* 데이터 표준화/정규화 (Data Standardization)\n",
    "* (특성 - 평균) / 표준편차 => Z 점수"
   ]
  },
  {
   "cell_type": "code",
   "execution_count": null,
   "id": "32c101e8",
   "metadata": {},
   "outputs": [],
   "source": []
  }
 ],
 "metadata": {
  "kernelspec": {
   "display_name": "Python 3 (ipykernel)",
   "language": "python",
   "name": "python3"
  },
  "language_info": {
   "codemirror_mode": {
    "name": "ipython",
    "version": 3
   },
   "file_extension": ".py",
   "mimetype": "text/x-python",
   "name": "python",
   "nbconvert_exporter": "python",
   "pygments_lexer": "ipython3",
   "version": "3.9.13"
  }
 },
 "nbformat": 4,
 "nbformat_minor": 5
}
