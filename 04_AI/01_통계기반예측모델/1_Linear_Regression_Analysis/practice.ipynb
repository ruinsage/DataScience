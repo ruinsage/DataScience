{
 "cells": [
  {
   "cell_type": "code",
   "execution_count": 1,
   "id": "261fc1e1",
   "metadata": {},
   "outputs": [],
   "source": [
    "import pandas as pd\n",
    "from statsmodels.formula.api import ols"
   ]
  },
  {
   "cell_type": "markdown",
   "id": "af006cfd",
   "metadata": {},
   "source": [
    "## 전체 데이터 셋으로 예측"
   ]
  },
  {
   "cell_type": "code",
   "execution_count": 3,
   "id": "83ca8152",
   "metadata": {},
   "outputs": [],
   "source": [
    "wine = pd.read_csv('winequality-both.csv', sep=',', header = 0)\n",
    "wine.columns = wine.columns.str.replace(' ','_')"
   ]
  },
  {
   "cell_type": "code",
   "execution_count": 4,
   "id": "516e6e25",
   "metadata": {},
   "outputs": [
    {
     "data": {
      "text/html": [
       "<div>\n",
       "<style scoped>\n",
       "    .dataframe tbody tr th:only-of-type {\n",
       "        vertical-align: middle;\n",
       "    }\n",
       "\n",
       "    .dataframe tbody tr th {\n",
       "        vertical-align: top;\n",
       "    }\n",
       "\n",
       "    .dataframe thead th {\n",
       "        text-align: right;\n",
       "    }\n",
       "</style>\n",
       "<table border=\"1\" class=\"dataframe\">\n",
       "  <thead>\n",
       "    <tr style=\"text-align: right;\">\n",
       "      <th></th>\n",
       "      <th>type</th>\n",
       "      <th>fixed_acidity</th>\n",
       "      <th>volatile_acidity</th>\n",
       "      <th>citric_acid</th>\n",
       "      <th>residual_sugar</th>\n",
       "      <th>chlorides</th>\n",
       "      <th>free_sulfur_dioxide</th>\n",
       "      <th>total_sulfur_dioxide</th>\n",
       "      <th>density</th>\n",
       "      <th>pH</th>\n",
       "      <th>sulphates</th>\n",
       "      <th>alcohol</th>\n",
       "      <th>quality</th>\n",
       "    </tr>\n",
       "  </thead>\n",
       "  <tbody>\n",
       "    <tr>\n",
       "      <th>0</th>\n",
       "      <td>red</td>\n",
       "      <td>7.4</td>\n",
       "      <td>0.70</td>\n",
       "      <td>0.00</td>\n",
       "      <td>1.9</td>\n",
       "      <td>0.076</td>\n",
       "      <td>11.0</td>\n",
       "      <td>34.0</td>\n",
       "      <td>0.9978</td>\n",
       "      <td>3.51</td>\n",
       "      <td>0.56</td>\n",
       "      <td>9.4</td>\n",
       "      <td>5</td>\n",
       "    </tr>\n",
       "    <tr>\n",
       "      <th>1</th>\n",
       "      <td>red</td>\n",
       "      <td>7.8</td>\n",
       "      <td>0.88</td>\n",
       "      <td>0.00</td>\n",
       "      <td>2.6</td>\n",
       "      <td>0.098</td>\n",
       "      <td>25.0</td>\n",
       "      <td>67.0</td>\n",
       "      <td>0.9968</td>\n",
       "      <td>3.20</td>\n",
       "      <td>0.68</td>\n",
       "      <td>9.8</td>\n",
       "      <td>5</td>\n",
       "    </tr>\n",
       "    <tr>\n",
       "      <th>2</th>\n",
       "      <td>red</td>\n",
       "      <td>7.8</td>\n",
       "      <td>0.76</td>\n",
       "      <td>0.04</td>\n",
       "      <td>2.3</td>\n",
       "      <td>0.092</td>\n",
       "      <td>15.0</td>\n",
       "      <td>54.0</td>\n",
       "      <td>0.9970</td>\n",
       "      <td>3.26</td>\n",
       "      <td>0.65</td>\n",
       "      <td>9.8</td>\n",
       "      <td>5</td>\n",
       "    </tr>\n",
       "    <tr>\n",
       "      <th>3</th>\n",
       "      <td>red</td>\n",
       "      <td>11.2</td>\n",
       "      <td>0.28</td>\n",
       "      <td>0.56</td>\n",
       "      <td>1.9</td>\n",
       "      <td>0.075</td>\n",
       "      <td>17.0</td>\n",
       "      <td>60.0</td>\n",
       "      <td>0.9980</td>\n",
       "      <td>3.16</td>\n",
       "      <td>0.58</td>\n",
       "      <td>9.8</td>\n",
       "      <td>6</td>\n",
       "    </tr>\n",
       "    <tr>\n",
       "      <th>4</th>\n",
       "      <td>red</td>\n",
       "      <td>7.4</td>\n",
       "      <td>0.70</td>\n",
       "      <td>0.00</td>\n",
       "      <td>1.9</td>\n",
       "      <td>0.076</td>\n",
       "      <td>11.0</td>\n",
       "      <td>34.0</td>\n",
       "      <td>0.9978</td>\n",
       "      <td>3.51</td>\n",
       "      <td>0.56</td>\n",
       "      <td>9.4</td>\n",
       "      <td>5</td>\n",
       "    </tr>\n",
       "  </tbody>\n",
       "</table>\n",
       "</div>"
      ],
      "text/plain": [
       "  type  fixed_acidity  volatile_acidity  citric_acid  residual_sugar  \\\n",
       "0  red            7.4              0.70         0.00             1.9   \n",
       "1  red            7.8              0.88         0.00             2.6   \n",
       "2  red            7.8              0.76         0.04             2.3   \n",
       "3  red           11.2              0.28         0.56             1.9   \n",
       "4  red            7.4              0.70         0.00             1.9   \n",
       "\n",
       "   chlorides  free_sulfur_dioxide  total_sulfur_dioxide  density    pH  \\\n",
       "0      0.076                 11.0                  34.0   0.9978  3.51   \n",
       "1      0.098                 25.0                  67.0   0.9968  3.20   \n",
       "2      0.092                 15.0                  54.0   0.9970  3.26   \n",
       "3      0.075                 17.0                  60.0   0.9980  3.16   \n",
       "4      0.076                 11.0                  34.0   0.9978  3.51   \n",
       "\n",
       "   sulphates  alcohol  quality  \n",
       "0       0.56      9.4        5  \n",
       "1       0.68      9.8        5  \n",
       "2       0.65      9.8        5  \n",
       "3       0.58      9.8        6  \n",
       "4       0.56      9.4        5  "
      ]
     },
     "execution_count": 4,
     "metadata": {},
     "output_type": "execute_result"
    }
   ],
   "source": [
    "wine.head()"
   ]
  },
  {
   "cell_type": "code",
   "execution_count": 5,
   "id": "6cd4acf0",
   "metadata": {},
   "outputs": [],
   "source": [
    "my_formula = 'quality ~ fixed_acidity + volatile_acidity + citric_acid + residual_sugar + chlorides + free_sulfur_dioxide + total_sulfur_dioxide + density + pH + sulphates + alcohol'\n",
    "lm = ols(my_formula, data = wine).fit()"
   ]
  },
  {
   "cell_type": "code",
   "execution_count": 11,
   "id": "3d2d4f47",
   "metadata": {},
   "outputs": [],
   "source": [
    "dependent_variable = wine['quality']\n",
    "independent_variables = wine[wine.columns.difference(['quality','type'])]"
   ]
  },
  {
   "cell_type": "code",
   "execution_count": 12,
   "id": "1767ce78",
   "metadata": {},
   "outputs": [
    {
     "data": {
      "text/plain": [
       "((6497, 11), (6497, 13))"
      ]
     },
     "execution_count": 12,
     "metadata": {},
     "output_type": "execute_result"
    }
   ],
   "source": [
    "all_observations = wine.loc[:, independent_variables.columns]\n",
    "all_observations.shape, wine.shape"
   ]
  },
  {
   "cell_type": "code",
   "execution_count": 13,
   "id": "01313f67",
   "metadata": {},
   "outputs": [
    {
     "data": {
      "text/plain": [
       "0    4.997607\n",
       "1    4.924993\n",
       "2    5.034663\n",
       "3    5.680333\n",
       "4    4.997607\n",
       "dtype: float64"
      ]
     },
     "execution_count": 13,
     "metadata": {},
     "output_type": "execute_result"
    }
   ],
   "source": [
    "y_predicted = lm.predict(all_observations)\n",
    "y_predicted.head()"
   ]
  },
  {
   "cell_type": "code",
   "execution_count": 20,
   "id": "3ee3b6cd",
   "metadata": {},
   "outputs": [
    {
     "data": {
      "text/plain": [
       "[5, 5, 5, 6, 5]"
      ]
     },
     "execution_count": 20,
     "metadata": {},
     "output_type": "execute_result"
    }
   ],
   "source": [
    "y_predicted_rounded = [round(score) for score in y_predicted]\n",
    "y_predicted_rounded[:5]"
   ]
  },
  {
   "cell_type": "code",
   "execution_count": 19,
   "id": "528bfbfd",
   "metadata": {},
   "outputs": [
    {
     "data": {
      "text/plain": [
       "6497"
      ]
     },
     "execution_count": 19,
     "metadata": {},
     "output_type": "execute_result"
    }
   ],
   "source": [
    "len(y_predicted)"
   ]
  },
  {
   "cell_type": "code",
   "execution_count": 21,
   "id": "e7c9d477",
   "metadata": {},
   "outputs": [
    {
     "name": "stdout",
     "output_type": "stream",
     "text": [
      "인덱스\t|예측값\t|실제값\n",
      "1\t|5\t|5\n",
      "2\t|5\t|5\n",
      "3\t|5\t|5\n",
      "4\t|6\t|6\n",
      "5\t|5\t|5\n",
      "6\t|5\t|5\n",
      "7\t|5\t|5\n",
      "8\t|5\t|7\n",
      "9\t|5\t|7\n",
      "10\t|6\t|5\n",
      "\n",
      "전체 관찰 계수: 6497\n",
      "정답수: 3465\n",
      "정답률: 53.33230721871634 %\n"
     ]
    }
   ],
   "source": [
    "total_count = 0\n",
    "index = 0\n",
    "total_number = len(y_predicted_rounded)\n",
    "total_correct = 0\n",
    "print('인덱스\\t|예측값\\t|실제값')\n",
    "while index < total_number:\n",
    "    if index < 10:\n",
    "        print(f'{index+1}\\t|{y_predicted_rounded[index]}\\t|{dependent_variable[index]}')\n",
    "    if y_predicted_rounded[index] == dependent_variable[index]:\n",
    "        total_correct += 1\n",
    "    index += 1\n",
    "print(f'\\n전체 관찰 계수: {total_number}')\n",
    "print(f'정답수: {total_correct}')\n",
    "print(f'정답률: {(total_correct/total_number)*100} %')"
   ]
  },
  {
   "cell_type": "markdown",
   "id": "6d2c0eab",
   "metadata": {},
   "source": [
    "# 화이트 와인 데이터셋 예측"
   ]
  },
  {
   "cell_type": "code",
   "execution_count": 142,
   "id": "36ffb157",
   "metadata": {},
   "outputs": [],
   "source": [
    "wine = pd.read_csv('white_winequality.csv', sep=',', header=0)\n",
    "wine.columns = wine.columns.str.replace(' ','_')"
   ]
  },
  {
   "cell_type": "code",
   "execution_count": 146,
   "id": "22e4898d",
   "metadata": {},
   "outputs": [
    {
     "ename": "InvalidIndexError",
     "evalue": "(slice(None, None, None), Index(['alcohol', 'chlorides', 'citric_acid', 'density', 'fixed_acidity',\n       'free_sulfur_dioxide', 'pH', 'residual_sugar', 'sulphates',\n       'total_sulfur_dioxide', 'volatile_acidity'],\n      dtype='object'))",
     "output_type": "error",
     "traceback": [
      "\u001b[1;31m---------------------------------------------------------------------------\u001b[0m",
      "\u001b[1;31mTypeError\u001b[0m                                 Traceback (most recent call last)",
      "\u001b[1;32m~\\AppData\\Roaming\\Python\\Python39\\site-packages\\pandas\\core\\indexes\\base.py\u001b[0m in \u001b[0;36mget_loc\u001b[1;34m(self, key, method, tolerance)\u001b[0m\n\u001b[0;32m   3802\u001b[0m             \u001b[1;32mtry\u001b[0m\u001b[1;33m:\u001b[0m\u001b[1;33m\u001b[0m\u001b[1;33m\u001b[0m\u001b[0m\n\u001b[1;32m-> 3803\u001b[1;33m                 \u001b[1;32mreturn\u001b[0m \u001b[0mself\u001b[0m\u001b[1;33m.\u001b[0m\u001b[0m_engine\u001b[0m\u001b[1;33m.\u001b[0m\u001b[0mget_loc\u001b[0m\u001b[1;33m(\u001b[0m\u001b[0mcasted_key\u001b[0m\u001b[1;33m)\u001b[0m\u001b[1;33m\u001b[0m\u001b[1;33m\u001b[0m\u001b[0m\n\u001b[0m\u001b[0;32m   3804\u001b[0m             \u001b[1;32mexcept\u001b[0m \u001b[0mKeyError\u001b[0m \u001b[1;32mas\u001b[0m \u001b[0merr\u001b[0m\u001b[1;33m:\u001b[0m\u001b[1;33m\u001b[0m\u001b[1;33m\u001b[0m\u001b[0m\n",
      "\u001b[1;32m~\\AppData\\Roaming\\Python\\Python39\\site-packages\\pandas\\_libs\\index.pyx\u001b[0m in \u001b[0;36mpandas._libs.index.IndexEngine.get_loc\u001b[1;34m()\u001b[0m\n",
      "\u001b[1;32m~\\AppData\\Roaming\\Python\\Python39\\site-packages\\pandas\\_libs\\index.pyx\u001b[0m in \u001b[0;36mpandas._libs.index.IndexEngine.get_loc\u001b[1;34m()\u001b[0m\n",
      "\u001b[1;31mTypeError\u001b[0m: '(slice(None, None, None), Index(['alcohol', 'chlorides', 'citric_acid', 'density', 'fixed_acidity',\n       'free_sulfur_dioxide', 'pH', 'residual_sugar', 'sulphates',\n       'total_sulfur_dioxide', 'volatile_acidity'],\n      dtype='object'))' is an invalid key",
      "\nDuring handling of the above exception, another exception occurred:\n",
      "\u001b[1;31mInvalidIndexError\u001b[0m                         Traceback (most recent call last)",
      "\u001b[1;32m~\\AppData\\Local\\Temp\\ipykernel_3496\\3902358663.py\u001b[0m in \u001b[0;36m<module>\u001b[1;34m\u001b[0m\n\u001b[0;32m      3\u001b[0m \u001b[0mdependent_variable\u001b[0m \u001b[1;33m=\u001b[0m \u001b[0mwine\u001b[0m\u001b[1;33m[\u001b[0m\u001b[1;34m'quality'\u001b[0m\u001b[1;33m]\u001b[0m\u001b[1;33m\u001b[0m\u001b[1;33m\u001b[0m\u001b[0m\n\u001b[0;32m      4\u001b[0m \u001b[0mindependent_variables\u001b[0m \u001b[1;33m=\u001b[0m \u001b[0mwine\u001b[0m\u001b[1;33m[\u001b[0m\u001b[0mwine\u001b[0m\u001b[1;33m.\u001b[0m\u001b[0mcolumns\u001b[0m\u001b[1;33m.\u001b[0m\u001b[0mdifference\u001b[0m\u001b[1;33m(\u001b[0m\u001b[1;33m[\u001b[0m\u001b[1;34m'quality'\u001b[0m\u001b[1;33m,\u001b[0m\u001b[1;34m'type'\u001b[0m\u001b[1;33m]\u001b[0m\u001b[1;33m)\u001b[0m\u001b[1;33m]\u001b[0m\u001b[1;33m\u001b[0m\u001b[1;33m\u001b[0m\u001b[0m\n\u001b[1;32m----> 5\u001b[1;33m \u001b[0mall_observations\u001b[0m \u001b[1;33m=\u001b[0m \u001b[0mwine\u001b[0m\u001b[1;33m[\u001b[0m\u001b[1;33m:\u001b[0m\u001b[1;33m,\u001b[0m \u001b[0mindependent_variables\u001b[0m\u001b[1;33m.\u001b[0m\u001b[0mcolumns\u001b[0m\u001b[1;33m]\u001b[0m\u001b[1;33m\u001b[0m\u001b[1;33m\u001b[0m\u001b[0m\n\u001b[0m\u001b[0;32m      6\u001b[0m \u001b[0my_predicted\u001b[0m \u001b[1;33m=\u001b[0m \u001b[0mlm\u001b[0m\u001b[1;33m.\u001b[0m\u001b[0mpredict\u001b[0m\u001b[1;33m(\u001b[0m\u001b[0mall_observations\u001b[0m\u001b[1;33m)\u001b[0m\u001b[1;33m\u001b[0m\u001b[1;33m\u001b[0m\u001b[0m\n\u001b[0;32m      7\u001b[0m \u001b[0my_predicted_rounded\u001b[0m \u001b[1;33m=\u001b[0m \u001b[1;33m[\u001b[0m\u001b[0mround\u001b[0m\u001b[1;33m(\u001b[0m\u001b[0mscore\u001b[0m\u001b[1;33m)\u001b[0m \u001b[1;32mfor\u001b[0m \u001b[0mscore\u001b[0m \u001b[1;32min\u001b[0m \u001b[0my_predicted\u001b[0m\u001b[1;33m]\u001b[0m\u001b[1;33m\u001b[0m\u001b[1;33m\u001b[0m\u001b[0m\n",
      "\u001b[1;32m~\\AppData\\Roaming\\Python\\Python39\\site-packages\\pandas\\core\\frame.py\u001b[0m in \u001b[0;36m__getitem__\u001b[1;34m(self, key)\u001b[0m\n\u001b[0;32m   3803\u001b[0m             \u001b[1;32mif\u001b[0m \u001b[0mself\u001b[0m\u001b[1;33m.\u001b[0m\u001b[0mcolumns\u001b[0m\u001b[1;33m.\u001b[0m\u001b[0mnlevels\u001b[0m \u001b[1;33m>\u001b[0m \u001b[1;36m1\u001b[0m\u001b[1;33m:\u001b[0m\u001b[1;33m\u001b[0m\u001b[1;33m\u001b[0m\u001b[0m\n\u001b[0;32m   3804\u001b[0m                 \u001b[1;32mreturn\u001b[0m \u001b[0mself\u001b[0m\u001b[1;33m.\u001b[0m\u001b[0m_getitem_multilevel\u001b[0m\u001b[1;33m(\u001b[0m\u001b[0mkey\u001b[0m\u001b[1;33m)\u001b[0m\u001b[1;33m\u001b[0m\u001b[1;33m\u001b[0m\u001b[0m\n\u001b[1;32m-> 3805\u001b[1;33m             \u001b[0mindexer\u001b[0m \u001b[1;33m=\u001b[0m \u001b[0mself\u001b[0m\u001b[1;33m.\u001b[0m\u001b[0mcolumns\u001b[0m\u001b[1;33m.\u001b[0m\u001b[0mget_loc\u001b[0m\u001b[1;33m(\u001b[0m\u001b[0mkey\u001b[0m\u001b[1;33m)\u001b[0m\u001b[1;33m\u001b[0m\u001b[1;33m\u001b[0m\u001b[0m\n\u001b[0m\u001b[0;32m   3806\u001b[0m             \u001b[1;32mif\u001b[0m \u001b[0mis_integer\u001b[0m\u001b[1;33m(\u001b[0m\u001b[0mindexer\u001b[0m\u001b[1;33m)\u001b[0m\u001b[1;33m:\u001b[0m\u001b[1;33m\u001b[0m\u001b[1;33m\u001b[0m\u001b[0m\n\u001b[0;32m   3807\u001b[0m                 \u001b[0mindexer\u001b[0m \u001b[1;33m=\u001b[0m \u001b[1;33m[\u001b[0m\u001b[0mindexer\u001b[0m\u001b[1;33m]\u001b[0m\u001b[1;33m\u001b[0m\u001b[1;33m\u001b[0m\u001b[0m\n",
      "\u001b[1;32m~\\AppData\\Roaming\\Python\\Python39\\site-packages\\pandas\\core\\indexes\\base.py\u001b[0m in \u001b[0;36mget_loc\u001b[1;34m(self, key, method, tolerance)\u001b[0m\n\u001b[0;32m   3808\u001b[0m                 \u001b[1;31m#  InvalidIndexError. Otherwise we fall through and re-raise\u001b[0m\u001b[1;33m\u001b[0m\u001b[1;33m\u001b[0m\u001b[0m\n\u001b[0;32m   3809\u001b[0m                 \u001b[1;31m#  the TypeError.\u001b[0m\u001b[1;33m\u001b[0m\u001b[1;33m\u001b[0m\u001b[0m\n\u001b[1;32m-> 3810\u001b[1;33m                 \u001b[0mself\u001b[0m\u001b[1;33m.\u001b[0m\u001b[0m_check_indexing_error\u001b[0m\u001b[1;33m(\u001b[0m\u001b[0mkey\u001b[0m\u001b[1;33m)\u001b[0m\u001b[1;33m\u001b[0m\u001b[1;33m\u001b[0m\u001b[0m\n\u001b[0m\u001b[0;32m   3811\u001b[0m                 \u001b[1;32mraise\u001b[0m\u001b[1;33m\u001b[0m\u001b[1;33m\u001b[0m\u001b[0m\n\u001b[0;32m   3812\u001b[0m \u001b[1;33m\u001b[0m\u001b[0m\n",
      "\u001b[1;32m~\\AppData\\Roaming\\Python\\Python39\\site-packages\\pandas\\core\\indexes\\base.py\u001b[0m in \u001b[0;36m_check_indexing_error\u001b[1;34m(self, key)\u001b[0m\n\u001b[0;32m   5966\u001b[0m             \u001b[1;31m# if key is not a scalar, directly raise an error (the code below\u001b[0m\u001b[1;33m\u001b[0m\u001b[1;33m\u001b[0m\u001b[0m\n\u001b[0;32m   5967\u001b[0m             \u001b[1;31m# would convert to numpy arrays and raise later any way) - GH29926\u001b[0m\u001b[1;33m\u001b[0m\u001b[1;33m\u001b[0m\u001b[0m\n\u001b[1;32m-> 5968\u001b[1;33m             \u001b[1;32mraise\u001b[0m \u001b[0mInvalidIndexError\u001b[0m\u001b[1;33m(\u001b[0m\u001b[0mkey\u001b[0m\u001b[1;33m)\u001b[0m\u001b[1;33m\u001b[0m\u001b[1;33m\u001b[0m\u001b[0m\n\u001b[0m\u001b[0;32m   5969\u001b[0m \u001b[1;33m\u001b[0m\u001b[0m\n\u001b[0;32m   5970\u001b[0m     \u001b[1;33m@\u001b[0m\u001b[0mcache_readonly\u001b[0m\u001b[1;33m\u001b[0m\u001b[1;33m\u001b[0m\u001b[0m\n",
      "\u001b[1;31mInvalidIndexError\u001b[0m: (slice(None, None, None), Index(['alcohol', 'chlorides', 'citric_acid', 'density', 'fixed_acidity',\n       'free_sulfur_dioxide', 'pH', 'residual_sugar', 'sulphates',\n       'total_sulfur_dioxide', 'volatile_acidity'],\n      dtype='object'))"
     ]
    }
   ],
   "source": [
    "my_formula = 'quality ~ alcohol + chlorides + citric_acid + density + fixed_acidity + free_sulfur_dioxide + pH + residual_sugar + sulphates + total_sulfur_dioxide + volatile_acidity'\n",
    "lm = ols(my_formula, data = wine).fit()\n",
    "dependent_variable = wine['quality']\n",
    "independent_variables = wine[wine.columns.difference(['quality','type'])]\n",
    "all_observations = wine[:, independent_variables.columns]\n",
    "y_predicted = lm.predict(all_observations)\n",
    "y_predicted_rounded = [round(score) for score in y_predicted]"
   ]
  },
  {
   "cell_type": "markdown",
   "id": "db7742c1",
   "metadata": {},
   "source": [
    "## 레드 와인 데이터셋 예측"
   ]
  },
  {
   "cell_type": "code",
   "execution_count": 22,
   "id": "c4e4cd4d",
   "metadata": {},
   "outputs": [],
   "source": [
    "wine = pd.read_csv('red_winequality.csv', sep=',', header = 0)\n",
    "wine.columns = wine.columns.str.replace(' ','_')"
   ]
  },
  {
   "cell_type": "code",
   "execution_count": 23,
   "id": "f86527fc",
   "metadata": {
    "scrolled": true
   },
   "outputs": [
    {
     "data": {
      "text/html": [
       "<div>\n",
       "<style scoped>\n",
       "    .dataframe tbody tr th:only-of-type {\n",
       "        vertical-align: middle;\n",
       "    }\n",
       "\n",
       "    .dataframe tbody tr th {\n",
       "        vertical-align: top;\n",
       "    }\n",
       "\n",
       "    .dataframe thead th {\n",
       "        text-align: right;\n",
       "    }\n",
       "</style>\n",
       "<table border=\"1\" class=\"dataframe\">\n",
       "  <thead>\n",
       "    <tr style=\"text-align: right;\">\n",
       "      <th></th>\n",
       "      <th>type</th>\n",
       "      <th>fixed_acidity</th>\n",
       "      <th>volatile_acidity</th>\n",
       "      <th>citric_acid</th>\n",
       "      <th>residual_sugar</th>\n",
       "      <th>chlorides</th>\n",
       "      <th>free_sulfur_dioxide</th>\n",
       "      <th>total_sulfur_dioxide</th>\n",
       "      <th>density</th>\n",
       "      <th>pH</th>\n",
       "      <th>sulphates</th>\n",
       "      <th>alcohol</th>\n",
       "      <th>quality</th>\n",
       "    </tr>\n",
       "  </thead>\n",
       "  <tbody>\n",
       "    <tr>\n",
       "      <th>0</th>\n",
       "      <td>red</td>\n",
       "      <td>7.4</td>\n",
       "      <td>0.70</td>\n",
       "      <td>0.00</td>\n",
       "      <td>1.9</td>\n",
       "      <td>0.076</td>\n",
       "      <td>11.0</td>\n",
       "      <td>34.0</td>\n",
       "      <td>0.9978</td>\n",
       "      <td>3.51</td>\n",
       "      <td>0.56</td>\n",
       "      <td>9.4</td>\n",
       "      <td>5</td>\n",
       "    </tr>\n",
       "    <tr>\n",
       "      <th>1</th>\n",
       "      <td>red</td>\n",
       "      <td>7.8</td>\n",
       "      <td>0.88</td>\n",
       "      <td>0.00</td>\n",
       "      <td>2.6</td>\n",
       "      <td>0.098</td>\n",
       "      <td>25.0</td>\n",
       "      <td>67.0</td>\n",
       "      <td>0.9968</td>\n",
       "      <td>3.20</td>\n",
       "      <td>0.68</td>\n",
       "      <td>9.8</td>\n",
       "      <td>5</td>\n",
       "    </tr>\n",
       "    <tr>\n",
       "      <th>2</th>\n",
       "      <td>red</td>\n",
       "      <td>7.8</td>\n",
       "      <td>0.76</td>\n",
       "      <td>0.04</td>\n",
       "      <td>2.3</td>\n",
       "      <td>0.092</td>\n",
       "      <td>15.0</td>\n",
       "      <td>54.0</td>\n",
       "      <td>0.9970</td>\n",
       "      <td>3.26</td>\n",
       "      <td>0.65</td>\n",
       "      <td>9.8</td>\n",
       "      <td>5</td>\n",
       "    </tr>\n",
       "    <tr>\n",
       "      <th>3</th>\n",
       "      <td>red</td>\n",
       "      <td>11.2</td>\n",
       "      <td>0.28</td>\n",
       "      <td>0.56</td>\n",
       "      <td>1.9</td>\n",
       "      <td>0.075</td>\n",
       "      <td>17.0</td>\n",
       "      <td>60.0</td>\n",
       "      <td>0.9980</td>\n",
       "      <td>3.16</td>\n",
       "      <td>0.58</td>\n",
       "      <td>9.8</td>\n",
       "      <td>6</td>\n",
       "    </tr>\n",
       "    <tr>\n",
       "      <th>4</th>\n",
       "      <td>red</td>\n",
       "      <td>7.4</td>\n",
       "      <td>0.70</td>\n",
       "      <td>0.00</td>\n",
       "      <td>1.9</td>\n",
       "      <td>0.076</td>\n",
       "      <td>11.0</td>\n",
       "      <td>34.0</td>\n",
       "      <td>0.9978</td>\n",
       "      <td>3.51</td>\n",
       "      <td>0.56</td>\n",
       "      <td>9.4</td>\n",
       "      <td>5</td>\n",
       "    </tr>\n",
       "  </tbody>\n",
       "</table>\n",
       "</div>"
      ],
      "text/plain": [
       "  type  fixed_acidity  volatile_acidity  citric_acid  residual_sugar  \\\n",
       "0  red            7.4              0.70         0.00             1.9   \n",
       "1  red            7.8              0.88         0.00             2.6   \n",
       "2  red            7.8              0.76         0.04             2.3   \n",
       "3  red           11.2              0.28         0.56             1.9   \n",
       "4  red            7.4              0.70         0.00             1.9   \n",
       "\n",
       "   chlorides  free_sulfur_dioxide  total_sulfur_dioxide  density    pH  \\\n",
       "0      0.076                 11.0                  34.0   0.9978  3.51   \n",
       "1      0.098                 25.0                  67.0   0.9968  3.20   \n",
       "2      0.092                 15.0                  54.0   0.9970  3.26   \n",
       "3      0.075                 17.0                  60.0   0.9980  3.16   \n",
       "4      0.076                 11.0                  34.0   0.9978  3.51   \n",
       "\n",
       "   sulphates  alcohol  quality  \n",
       "0       0.56      9.4        5  \n",
       "1       0.68      9.8        5  \n",
       "2       0.65      9.8        5  \n",
       "3       0.58      9.8        6  \n",
       "4       0.56      9.4        5  "
      ]
     },
     "execution_count": 23,
     "metadata": {},
     "output_type": "execute_result"
    }
   ],
   "source": [
    "wine.head()"
   ]
  },
  {
   "cell_type": "code",
   "execution_count": 53,
   "id": "acbccd11",
   "metadata": {},
   "outputs": [],
   "source": [
    "# my_formula = 'quality ~ fixed_acidity + volatile_acidity + citric_acid + residual_sugar + chlorides + free_sulfur_dioxide + total_sulfur_dioxide + density + pH + sulphates + alcohol + quality'\n",
    "my_formula = 'quality ~ alcohol + chlorides + citric_acid + density + fixed_acidity + free_sulfur_dioxide + pH + residual_sugar + sulphates + total_sulfur_dioxide + volatile_acidity'\n",
    "lm = ols(my_formula, data=wine).fit()\n",
    "dependent_variable = wine['quality']\n",
    "independent_variables = wine[wine.columns.difference(['quality', 'type'])]\n",
    "all_observations = wine.loc[:, independent_variables.columns]"
   ]
  },
  {
   "cell_type": "code",
   "execution_count": 55,
   "id": "97989466",
   "metadata": {},
   "outputs": [],
   "source": [
    "y_predicted = lm.predict(all_observations)"
   ]
  },
  {
   "cell_type": "code",
   "execution_count": 46,
   "id": "97fb2818",
   "metadata": {},
   "outputs": [],
   "source": [
    "y_predicted_rounded = [round(score) for score in y_predicted]"
   ]
  },
  {
   "cell_type": "code",
   "execution_count": 59,
   "id": "908560e0",
   "metadata": {},
   "outputs": [
    {
     "data": {
      "text/plain": [
       "1599"
      ]
     },
     "execution_count": 59,
     "metadata": {},
     "output_type": "execute_result"
    }
   ],
   "source": [
    "len(y_predicted_rounded)"
   ]
  },
  {
   "cell_type": "code",
   "execution_count": 63,
   "id": "09ba7190",
   "metadata": {
    "scrolled": true
   },
   "outputs": [
    {
     "name": "stdout",
     "output_type": "stream",
     "text": [
      "1\t|5\t|5\n",
      "2\t|5\t|5\n",
      "3\t|5\t|5\n",
      "4\t|6\t|6\n",
      "5\t|5\t|5\n",
      "6\t|5\t|5\n",
      "7\t|5\t|5\n",
      "8\t|5\t|7\n",
      "9\t|5\t|7\n",
      "10\t|6\t|5\n",
      "\n",
      "전체 관찰 계수 : 1599\n",
      "정답수 : 946\n",
      "정답률 : 59.161976235146966 %\n"
     ]
    }
   ],
   "source": [
    "total_count = 0\n",
    "index = 0\n",
    "total_number = len(y_predicted_rounded)\n",
    "total_correct = 0\n",
    "while index < total_number:\n",
    "    if index < 10:\n",
    "        print(f'{index+1}\\t|{y_predicted_rounded[index]}\\t|{dependent_variable[index]}')\n",
    "    if y_predicted_rounded[index] == dependent_variable[index]:\n",
    "        total_correct += 1\n",
    "    index += 1\n",
    "print(f'\\n전체 관찰 계수 : {total_number}')\n",
    "print(f'정답수 : {total_correct}')\n",
    "print(f'정답률 : {(total_correct/total_number)*100} %')"
   ]
  },
  {
   "cell_type": "markdown",
   "id": "b17fecf8",
   "metadata": {},
   "source": [
    "---"
   ]
  },
  {
   "cell_type": "code",
   "execution_count": 65,
   "id": "5fa28892",
   "metadata": {},
   "outputs": [],
   "source": [
    "from itertools import product\n",
    "from itertools import permutations\n",
    "from itertools import combinations"
   ]
  },
  {
   "cell_type": "code",
   "execution_count": 66,
   "id": "a0a6fab4",
   "metadata": {},
   "outputs": [],
   "source": [
    "items = ['안유진','가을','레이','장원영','리즈','이서']"
   ]
  },
  {
   "cell_type": "markdown",
   "id": "51b1b110",
   "metadata": {},
   "source": [
    "### 전체 데이터셋에서 N개를 골라 순서를 고려해 나열한 모든 경우의 수 => 순열"
   ]
  },
  {
   "cell_type": "code",
   "execution_count": 67,
   "id": "b0b13079",
   "metadata": {},
   "outputs": [
    {
     "data": {
      "text/plain": [
       "<itertools.permutations at 0x137320a59a0>"
      ]
     },
     "execution_count": 67,
     "metadata": {},
     "output_type": "execute_result"
    }
   ],
   "source": [
    "permutations(items,6)"
   ]
  },
  {
   "cell_type": "code",
   "execution_count": 68,
   "id": "30d97208",
   "metadata": {},
   "outputs": [
    {
     "data": {
      "text/plain": [
       "[('안유진', '가을', '레이', '장원영', '리즈', '이서'),\n",
       " ('안유진', '가을', '레이', '장원영', '이서', '리즈'),\n",
       " ('안유진', '가을', '레이', '리즈', '장원영', '이서'),\n",
       " ('안유진', '가을', '레이', '리즈', '이서', '장원영'),\n",
       " ('안유진', '가을', '레이', '이서', '장원영', '리즈'),\n",
       " ('안유진', '가을', '레이', '이서', '리즈', '장원영'),\n",
       " ('안유진', '가을', '장원영', '레이', '리즈', '이서'),\n",
       " ('안유진', '가을', '장원영', '레이', '이서', '리즈'),\n",
       " ('안유진', '가을', '장원영', '리즈', '레이', '이서'),\n",
       " ('안유진', '가을', '장원영', '리즈', '이서', '레이'),\n",
       " ('안유진', '가을', '장원영', '이서', '레이', '리즈'),\n",
       " ('안유진', '가을', '장원영', '이서', '리즈', '레이'),\n",
       " ('안유진', '가을', '리즈', '레이', '장원영', '이서'),\n",
       " ('안유진', '가을', '리즈', '레이', '이서', '장원영'),\n",
       " ('안유진', '가을', '리즈', '장원영', '레이', '이서'),\n",
       " ('안유진', '가을', '리즈', '장원영', '이서', '레이'),\n",
       " ('안유진', '가을', '리즈', '이서', '레이', '장원영'),\n",
       " ('안유진', '가을', '리즈', '이서', '장원영', '레이'),\n",
       " ('안유진', '가을', '이서', '레이', '장원영', '리즈'),\n",
       " ('안유진', '가을', '이서', '레이', '리즈', '장원영'),\n",
       " ('안유진', '가을', '이서', '장원영', '레이', '리즈'),\n",
       " ('안유진', '가을', '이서', '장원영', '리즈', '레이'),\n",
       " ('안유진', '가을', '이서', '리즈', '레이', '장원영'),\n",
       " ('안유진', '가을', '이서', '리즈', '장원영', '레이'),\n",
       " ('안유진', '레이', '가을', '장원영', '리즈', '이서'),\n",
       " ('안유진', '레이', '가을', '장원영', '이서', '리즈'),\n",
       " ('안유진', '레이', '가을', '리즈', '장원영', '이서'),\n",
       " ('안유진', '레이', '가을', '리즈', '이서', '장원영'),\n",
       " ('안유진', '레이', '가을', '이서', '장원영', '리즈'),\n",
       " ('안유진', '레이', '가을', '이서', '리즈', '장원영'),\n",
       " ('안유진', '레이', '장원영', '가을', '리즈', '이서'),\n",
       " ('안유진', '레이', '장원영', '가을', '이서', '리즈'),\n",
       " ('안유진', '레이', '장원영', '리즈', '가을', '이서'),\n",
       " ('안유진', '레이', '장원영', '리즈', '이서', '가을'),\n",
       " ('안유진', '레이', '장원영', '이서', '가을', '리즈'),\n",
       " ('안유진', '레이', '장원영', '이서', '리즈', '가을'),\n",
       " ('안유진', '레이', '리즈', '가을', '장원영', '이서'),\n",
       " ('안유진', '레이', '리즈', '가을', '이서', '장원영'),\n",
       " ('안유진', '레이', '리즈', '장원영', '가을', '이서'),\n",
       " ('안유진', '레이', '리즈', '장원영', '이서', '가을'),\n",
       " ('안유진', '레이', '리즈', '이서', '가을', '장원영'),\n",
       " ('안유진', '레이', '리즈', '이서', '장원영', '가을'),\n",
       " ('안유진', '레이', '이서', '가을', '장원영', '리즈'),\n",
       " ('안유진', '레이', '이서', '가을', '리즈', '장원영'),\n",
       " ('안유진', '레이', '이서', '장원영', '가을', '리즈'),\n",
       " ('안유진', '레이', '이서', '장원영', '리즈', '가을'),\n",
       " ('안유진', '레이', '이서', '리즈', '가을', '장원영'),\n",
       " ('안유진', '레이', '이서', '리즈', '장원영', '가을'),\n",
       " ('안유진', '장원영', '가을', '레이', '리즈', '이서'),\n",
       " ('안유진', '장원영', '가을', '레이', '이서', '리즈'),\n",
       " ('안유진', '장원영', '가을', '리즈', '레이', '이서'),\n",
       " ('안유진', '장원영', '가을', '리즈', '이서', '레이'),\n",
       " ('안유진', '장원영', '가을', '이서', '레이', '리즈'),\n",
       " ('안유진', '장원영', '가을', '이서', '리즈', '레이'),\n",
       " ('안유진', '장원영', '레이', '가을', '리즈', '이서'),\n",
       " ('안유진', '장원영', '레이', '가을', '이서', '리즈'),\n",
       " ('안유진', '장원영', '레이', '리즈', '가을', '이서'),\n",
       " ('안유진', '장원영', '레이', '리즈', '이서', '가을'),\n",
       " ('안유진', '장원영', '레이', '이서', '가을', '리즈'),\n",
       " ('안유진', '장원영', '레이', '이서', '리즈', '가을'),\n",
       " ('안유진', '장원영', '리즈', '가을', '레이', '이서'),\n",
       " ('안유진', '장원영', '리즈', '가을', '이서', '레이'),\n",
       " ('안유진', '장원영', '리즈', '레이', '가을', '이서'),\n",
       " ('안유진', '장원영', '리즈', '레이', '이서', '가을'),\n",
       " ('안유진', '장원영', '리즈', '이서', '가을', '레이'),\n",
       " ('안유진', '장원영', '리즈', '이서', '레이', '가을'),\n",
       " ('안유진', '장원영', '이서', '가을', '레이', '리즈'),\n",
       " ('안유진', '장원영', '이서', '가을', '리즈', '레이'),\n",
       " ('안유진', '장원영', '이서', '레이', '가을', '리즈'),\n",
       " ('안유진', '장원영', '이서', '레이', '리즈', '가을'),\n",
       " ('안유진', '장원영', '이서', '리즈', '가을', '레이'),\n",
       " ('안유진', '장원영', '이서', '리즈', '레이', '가을'),\n",
       " ('안유진', '리즈', '가을', '레이', '장원영', '이서'),\n",
       " ('안유진', '리즈', '가을', '레이', '이서', '장원영'),\n",
       " ('안유진', '리즈', '가을', '장원영', '레이', '이서'),\n",
       " ('안유진', '리즈', '가을', '장원영', '이서', '레이'),\n",
       " ('안유진', '리즈', '가을', '이서', '레이', '장원영'),\n",
       " ('안유진', '리즈', '가을', '이서', '장원영', '레이'),\n",
       " ('안유진', '리즈', '레이', '가을', '장원영', '이서'),\n",
       " ('안유진', '리즈', '레이', '가을', '이서', '장원영'),\n",
       " ('안유진', '리즈', '레이', '장원영', '가을', '이서'),\n",
       " ('안유진', '리즈', '레이', '장원영', '이서', '가을'),\n",
       " ('안유진', '리즈', '레이', '이서', '가을', '장원영'),\n",
       " ('안유진', '리즈', '레이', '이서', '장원영', '가을'),\n",
       " ('안유진', '리즈', '장원영', '가을', '레이', '이서'),\n",
       " ('안유진', '리즈', '장원영', '가을', '이서', '레이'),\n",
       " ('안유진', '리즈', '장원영', '레이', '가을', '이서'),\n",
       " ('안유진', '리즈', '장원영', '레이', '이서', '가을'),\n",
       " ('안유진', '리즈', '장원영', '이서', '가을', '레이'),\n",
       " ('안유진', '리즈', '장원영', '이서', '레이', '가을'),\n",
       " ('안유진', '리즈', '이서', '가을', '레이', '장원영'),\n",
       " ('안유진', '리즈', '이서', '가을', '장원영', '레이'),\n",
       " ('안유진', '리즈', '이서', '레이', '가을', '장원영'),\n",
       " ('안유진', '리즈', '이서', '레이', '장원영', '가을'),\n",
       " ('안유진', '리즈', '이서', '장원영', '가을', '레이'),\n",
       " ('안유진', '리즈', '이서', '장원영', '레이', '가을'),\n",
       " ('안유진', '이서', '가을', '레이', '장원영', '리즈'),\n",
       " ('안유진', '이서', '가을', '레이', '리즈', '장원영'),\n",
       " ('안유진', '이서', '가을', '장원영', '레이', '리즈'),\n",
       " ('안유진', '이서', '가을', '장원영', '리즈', '레이'),\n",
       " ('안유진', '이서', '가을', '리즈', '레이', '장원영'),\n",
       " ('안유진', '이서', '가을', '리즈', '장원영', '레이'),\n",
       " ('안유진', '이서', '레이', '가을', '장원영', '리즈'),\n",
       " ('안유진', '이서', '레이', '가을', '리즈', '장원영'),\n",
       " ('안유진', '이서', '레이', '장원영', '가을', '리즈'),\n",
       " ('안유진', '이서', '레이', '장원영', '리즈', '가을'),\n",
       " ('안유진', '이서', '레이', '리즈', '가을', '장원영'),\n",
       " ('안유진', '이서', '레이', '리즈', '장원영', '가을'),\n",
       " ('안유진', '이서', '장원영', '가을', '레이', '리즈'),\n",
       " ('안유진', '이서', '장원영', '가을', '리즈', '레이'),\n",
       " ('안유진', '이서', '장원영', '레이', '가을', '리즈'),\n",
       " ('안유진', '이서', '장원영', '레이', '리즈', '가을'),\n",
       " ('안유진', '이서', '장원영', '리즈', '가을', '레이'),\n",
       " ('안유진', '이서', '장원영', '리즈', '레이', '가을'),\n",
       " ('안유진', '이서', '리즈', '가을', '레이', '장원영'),\n",
       " ('안유진', '이서', '리즈', '가을', '장원영', '레이'),\n",
       " ('안유진', '이서', '리즈', '레이', '가을', '장원영'),\n",
       " ('안유진', '이서', '리즈', '레이', '장원영', '가을'),\n",
       " ('안유진', '이서', '리즈', '장원영', '가을', '레이'),\n",
       " ('안유진', '이서', '리즈', '장원영', '레이', '가을'),\n",
       " ('가을', '안유진', '레이', '장원영', '리즈', '이서'),\n",
       " ('가을', '안유진', '레이', '장원영', '이서', '리즈'),\n",
       " ('가을', '안유진', '레이', '리즈', '장원영', '이서'),\n",
       " ('가을', '안유진', '레이', '리즈', '이서', '장원영'),\n",
       " ('가을', '안유진', '레이', '이서', '장원영', '리즈'),\n",
       " ('가을', '안유진', '레이', '이서', '리즈', '장원영'),\n",
       " ('가을', '안유진', '장원영', '레이', '리즈', '이서'),\n",
       " ('가을', '안유진', '장원영', '레이', '이서', '리즈'),\n",
       " ('가을', '안유진', '장원영', '리즈', '레이', '이서'),\n",
       " ('가을', '안유진', '장원영', '리즈', '이서', '레이'),\n",
       " ('가을', '안유진', '장원영', '이서', '레이', '리즈'),\n",
       " ('가을', '안유진', '장원영', '이서', '리즈', '레이'),\n",
       " ('가을', '안유진', '리즈', '레이', '장원영', '이서'),\n",
       " ('가을', '안유진', '리즈', '레이', '이서', '장원영'),\n",
       " ('가을', '안유진', '리즈', '장원영', '레이', '이서'),\n",
       " ('가을', '안유진', '리즈', '장원영', '이서', '레이'),\n",
       " ('가을', '안유진', '리즈', '이서', '레이', '장원영'),\n",
       " ('가을', '안유진', '리즈', '이서', '장원영', '레이'),\n",
       " ('가을', '안유진', '이서', '레이', '장원영', '리즈'),\n",
       " ('가을', '안유진', '이서', '레이', '리즈', '장원영'),\n",
       " ('가을', '안유진', '이서', '장원영', '레이', '리즈'),\n",
       " ('가을', '안유진', '이서', '장원영', '리즈', '레이'),\n",
       " ('가을', '안유진', '이서', '리즈', '레이', '장원영'),\n",
       " ('가을', '안유진', '이서', '리즈', '장원영', '레이'),\n",
       " ('가을', '레이', '안유진', '장원영', '리즈', '이서'),\n",
       " ('가을', '레이', '안유진', '장원영', '이서', '리즈'),\n",
       " ('가을', '레이', '안유진', '리즈', '장원영', '이서'),\n",
       " ('가을', '레이', '안유진', '리즈', '이서', '장원영'),\n",
       " ('가을', '레이', '안유진', '이서', '장원영', '리즈'),\n",
       " ('가을', '레이', '안유진', '이서', '리즈', '장원영'),\n",
       " ('가을', '레이', '장원영', '안유진', '리즈', '이서'),\n",
       " ('가을', '레이', '장원영', '안유진', '이서', '리즈'),\n",
       " ('가을', '레이', '장원영', '리즈', '안유진', '이서'),\n",
       " ('가을', '레이', '장원영', '리즈', '이서', '안유진'),\n",
       " ('가을', '레이', '장원영', '이서', '안유진', '리즈'),\n",
       " ('가을', '레이', '장원영', '이서', '리즈', '안유진'),\n",
       " ('가을', '레이', '리즈', '안유진', '장원영', '이서'),\n",
       " ('가을', '레이', '리즈', '안유진', '이서', '장원영'),\n",
       " ('가을', '레이', '리즈', '장원영', '안유진', '이서'),\n",
       " ('가을', '레이', '리즈', '장원영', '이서', '안유진'),\n",
       " ('가을', '레이', '리즈', '이서', '안유진', '장원영'),\n",
       " ('가을', '레이', '리즈', '이서', '장원영', '안유진'),\n",
       " ('가을', '레이', '이서', '안유진', '장원영', '리즈'),\n",
       " ('가을', '레이', '이서', '안유진', '리즈', '장원영'),\n",
       " ('가을', '레이', '이서', '장원영', '안유진', '리즈'),\n",
       " ('가을', '레이', '이서', '장원영', '리즈', '안유진'),\n",
       " ('가을', '레이', '이서', '리즈', '안유진', '장원영'),\n",
       " ('가을', '레이', '이서', '리즈', '장원영', '안유진'),\n",
       " ('가을', '장원영', '안유진', '레이', '리즈', '이서'),\n",
       " ('가을', '장원영', '안유진', '레이', '이서', '리즈'),\n",
       " ('가을', '장원영', '안유진', '리즈', '레이', '이서'),\n",
       " ('가을', '장원영', '안유진', '리즈', '이서', '레이'),\n",
       " ('가을', '장원영', '안유진', '이서', '레이', '리즈'),\n",
       " ('가을', '장원영', '안유진', '이서', '리즈', '레이'),\n",
       " ('가을', '장원영', '레이', '안유진', '리즈', '이서'),\n",
       " ('가을', '장원영', '레이', '안유진', '이서', '리즈'),\n",
       " ('가을', '장원영', '레이', '리즈', '안유진', '이서'),\n",
       " ('가을', '장원영', '레이', '리즈', '이서', '안유진'),\n",
       " ('가을', '장원영', '레이', '이서', '안유진', '리즈'),\n",
       " ('가을', '장원영', '레이', '이서', '리즈', '안유진'),\n",
       " ('가을', '장원영', '리즈', '안유진', '레이', '이서'),\n",
       " ('가을', '장원영', '리즈', '안유진', '이서', '레이'),\n",
       " ('가을', '장원영', '리즈', '레이', '안유진', '이서'),\n",
       " ('가을', '장원영', '리즈', '레이', '이서', '안유진'),\n",
       " ('가을', '장원영', '리즈', '이서', '안유진', '레이'),\n",
       " ('가을', '장원영', '리즈', '이서', '레이', '안유진'),\n",
       " ('가을', '장원영', '이서', '안유진', '레이', '리즈'),\n",
       " ('가을', '장원영', '이서', '안유진', '리즈', '레이'),\n",
       " ('가을', '장원영', '이서', '레이', '안유진', '리즈'),\n",
       " ('가을', '장원영', '이서', '레이', '리즈', '안유진'),\n",
       " ('가을', '장원영', '이서', '리즈', '안유진', '레이'),\n",
       " ('가을', '장원영', '이서', '리즈', '레이', '안유진'),\n",
       " ('가을', '리즈', '안유진', '레이', '장원영', '이서'),\n",
       " ('가을', '리즈', '안유진', '레이', '이서', '장원영'),\n",
       " ('가을', '리즈', '안유진', '장원영', '레이', '이서'),\n",
       " ('가을', '리즈', '안유진', '장원영', '이서', '레이'),\n",
       " ('가을', '리즈', '안유진', '이서', '레이', '장원영'),\n",
       " ('가을', '리즈', '안유진', '이서', '장원영', '레이'),\n",
       " ('가을', '리즈', '레이', '안유진', '장원영', '이서'),\n",
       " ('가을', '리즈', '레이', '안유진', '이서', '장원영'),\n",
       " ('가을', '리즈', '레이', '장원영', '안유진', '이서'),\n",
       " ('가을', '리즈', '레이', '장원영', '이서', '안유진'),\n",
       " ('가을', '리즈', '레이', '이서', '안유진', '장원영'),\n",
       " ('가을', '리즈', '레이', '이서', '장원영', '안유진'),\n",
       " ('가을', '리즈', '장원영', '안유진', '레이', '이서'),\n",
       " ('가을', '리즈', '장원영', '안유진', '이서', '레이'),\n",
       " ('가을', '리즈', '장원영', '레이', '안유진', '이서'),\n",
       " ('가을', '리즈', '장원영', '레이', '이서', '안유진'),\n",
       " ('가을', '리즈', '장원영', '이서', '안유진', '레이'),\n",
       " ('가을', '리즈', '장원영', '이서', '레이', '안유진'),\n",
       " ('가을', '리즈', '이서', '안유진', '레이', '장원영'),\n",
       " ('가을', '리즈', '이서', '안유진', '장원영', '레이'),\n",
       " ('가을', '리즈', '이서', '레이', '안유진', '장원영'),\n",
       " ('가을', '리즈', '이서', '레이', '장원영', '안유진'),\n",
       " ('가을', '리즈', '이서', '장원영', '안유진', '레이'),\n",
       " ('가을', '리즈', '이서', '장원영', '레이', '안유진'),\n",
       " ('가을', '이서', '안유진', '레이', '장원영', '리즈'),\n",
       " ('가을', '이서', '안유진', '레이', '리즈', '장원영'),\n",
       " ('가을', '이서', '안유진', '장원영', '레이', '리즈'),\n",
       " ('가을', '이서', '안유진', '장원영', '리즈', '레이'),\n",
       " ('가을', '이서', '안유진', '리즈', '레이', '장원영'),\n",
       " ('가을', '이서', '안유진', '리즈', '장원영', '레이'),\n",
       " ('가을', '이서', '레이', '안유진', '장원영', '리즈'),\n",
       " ('가을', '이서', '레이', '안유진', '리즈', '장원영'),\n",
       " ('가을', '이서', '레이', '장원영', '안유진', '리즈'),\n",
       " ('가을', '이서', '레이', '장원영', '리즈', '안유진'),\n",
       " ('가을', '이서', '레이', '리즈', '안유진', '장원영'),\n",
       " ('가을', '이서', '레이', '리즈', '장원영', '안유진'),\n",
       " ('가을', '이서', '장원영', '안유진', '레이', '리즈'),\n",
       " ('가을', '이서', '장원영', '안유진', '리즈', '레이'),\n",
       " ('가을', '이서', '장원영', '레이', '안유진', '리즈'),\n",
       " ('가을', '이서', '장원영', '레이', '리즈', '안유진'),\n",
       " ('가을', '이서', '장원영', '리즈', '안유진', '레이'),\n",
       " ('가을', '이서', '장원영', '리즈', '레이', '안유진'),\n",
       " ('가을', '이서', '리즈', '안유진', '레이', '장원영'),\n",
       " ('가을', '이서', '리즈', '안유진', '장원영', '레이'),\n",
       " ('가을', '이서', '리즈', '레이', '안유진', '장원영'),\n",
       " ('가을', '이서', '리즈', '레이', '장원영', '안유진'),\n",
       " ('가을', '이서', '리즈', '장원영', '안유진', '레이'),\n",
       " ('가을', '이서', '리즈', '장원영', '레이', '안유진'),\n",
       " ('레이', '안유진', '가을', '장원영', '리즈', '이서'),\n",
       " ('레이', '안유진', '가을', '장원영', '이서', '리즈'),\n",
       " ('레이', '안유진', '가을', '리즈', '장원영', '이서'),\n",
       " ('레이', '안유진', '가을', '리즈', '이서', '장원영'),\n",
       " ('레이', '안유진', '가을', '이서', '장원영', '리즈'),\n",
       " ('레이', '안유진', '가을', '이서', '리즈', '장원영'),\n",
       " ('레이', '안유진', '장원영', '가을', '리즈', '이서'),\n",
       " ('레이', '안유진', '장원영', '가을', '이서', '리즈'),\n",
       " ('레이', '안유진', '장원영', '리즈', '가을', '이서'),\n",
       " ('레이', '안유진', '장원영', '리즈', '이서', '가을'),\n",
       " ('레이', '안유진', '장원영', '이서', '가을', '리즈'),\n",
       " ('레이', '안유진', '장원영', '이서', '리즈', '가을'),\n",
       " ('레이', '안유진', '리즈', '가을', '장원영', '이서'),\n",
       " ('레이', '안유진', '리즈', '가을', '이서', '장원영'),\n",
       " ('레이', '안유진', '리즈', '장원영', '가을', '이서'),\n",
       " ('레이', '안유진', '리즈', '장원영', '이서', '가을'),\n",
       " ('레이', '안유진', '리즈', '이서', '가을', '장원영'),\n",
       " ('레이', '안유진', '리즈', '이서', '장원영', '가을'),\n",
       " ('레이', '안유진', '이서', '가을', '장원영', '리즈'),\n",
       " ('레이', '안유진', '이서', '가을', '리즈', '장원영'),\n",
       " ('레이', '안유진', '이서', '장원영', '가을', '리즈'),\n",
       " ('레이', '안유진', '이서', '장원영', '리즈', '가을'),\n",
       " ('레이', '안유진', '이서', '리즈', '가을', '장원영'),\n",
       " ('레이', '안유진', '이서', '리즈', '장원영', '가을'),\n",
       " ('레이', '가을', '안유진', '장원영', '리즈', '이서'),\n",
       " ('레이', '가을', '안유진', '장원영', '이서', '리즈'),\n",
       " ('레이', '가을', '안유진', '리즈', '장원영', '이서'),\n",
       " ('레이', '가을', '안유진', '리즈', '이서', '장원영'),\n",
       " ('레이', '가을', '안유진', '이서', '장원영', '리즈'),\n",
       " ('레이', '가을', '안유진', '이서', '리즈', '장원영'),\n",
       " ('레이', '가을', '장원영', '안유진', '리즈', '이서'),\n",
       " ('레이', '가을', '장원영', '안유진', '이서', '리즈'),\n",
       " ('레이', '가을', '장원영', '리즈', '안유진', '이서'),\n",
       " ('레이', '가을', '장원영', '리즈', '이서', '안유진'),\n",
       " ('레이', '가을', '장원영', '이서', '안유진', '리즈'),\n",
       " ('레이', '가을', '장원영', '이서', '리즈', '안유진'),\n",
       " ('레이', '가을', '리즈', '안유진', '장원영', '이서'),\n",
       " ('레이', '가을', '리즈', '안유진', '이서', '장원영'),\n",
       " ('레이', '가을', '리즈', '장원영', '안유진', '이서'),\n",
       " ('레이', '가을', '리즈', '장원영', '이서', '안유진'),\n",
       " ('레이', '가을', '리즈', '이서', '안유진', '장원영'),\n",
       " ('레이', '가을', '리즈', '이서', '장원영', '안유진'),\n",
       " ('레이', '가을', '이서', '안유진', '장원영', '리즈'),\n",
       " ('레이', '가을', '이서', '안유진', '리즈', '장원영'),\n",
       " ('레이', '가을', '이서', '장원영', '안유진', '리즈'),\n",
       " ('레이', '가을', '이서', '장원영', '리즈', '안유진'),\n",
       " ('레이', '가을', '이서', '리즈', '안유진', '장원영'),\n",
       " ('레이', '가을', '이서', '리즈', '장원영', '안유진'),\n",
       " ('레이', '장원영', '안유진', '가을', '리즈', '이서'),\n",
       " ('레이', '장원영', '안유진', '가을', '이서', '리즈'),\n",
       " ('레이', '장원영', '안유진', '리즈', '가을', '이서'),\n",
       " ('레이', '장원영', '안유진', '리즈', '이서', '가을'),\n",
       " ('레이', '장원영', '안유진', '이서', '가을', '리즈'),\n",
       " ('레이', '장원영', '안유진', '이서', '리즈', '가을'),\n",
       " ('레이', '장원영', '가을', '안유진', '리즈', '이서'),\n",
       " ('레이', '장원영', '가을', '안유진', '이서', '리즈'),\n",
       " ('레이', '장원영', '가을', '리즈', '안유진', '이서'),\n",
       " ('레이', '장원영', '가을', '리즈', '이서', '안유진'),\n",
       " ('레이', '장원영', '가을', '이서', '안유진', '리즈'),\n",
       " ('레이', '장원영', '가을', '이서', '리즈', '안유진'),\n",
       " ('레이', '장원영', '리즈', '안유진', '가을', '이서'),\n",
       " ('레이', '장원영', '리즈', '안유진', '이서', '가을'),\n",
       " ('레이', '장원영', '리즈', '가을', '안유진', '이서'),\n",
       " ('레이', '장원영', '리즈', '가을', '이서', '안유진'),\n",
       " ('레이', '장원영', '리즈', '이서', '안유진', '가을'),\n",
       " ('레이', '장원영', '리즈', '이서', '가을', '안유진'),\n",
       " ('레이', '장원영', '이서', '안유진', '가을', '리즈'),\n",
       " ('레이', '장원영', '이서', '안유진', '리즈', '가을'),\n",
       " ('레이', '장원영', '이서', '가을', '안유진', '리즈'),\n",
       " ('레이', '장원영', '이서', '가을', '리즈', '안유진'),\n",
       " ('레이', '장원영', '이서', '리즈', '안유진', '가을'),\n",
       " ('레이', '장원영', '이서', '리즈', '가을', '안유진'),\n",
       " ('레이', '리즈', '안유진', '가을', '장원영', '이서'),\n",
       " ('레이', '리즈', '안유진', '가을', '이서', '장원영'),\n",
       " ('레이', '리즈', '안유진', '장원영', '가을', '이서'),\n",
       " ('레이', '리즈', '안유진', '장원영', '이서', '가을'),\n",
       " ('레이', '리즈', '안유진', '이서', '가을', '장원영'),\n",
       " ('레이', '리즈', '안유진', '이서', '장원영', '가을'),\n",
       " ('레이', '리즈', '가을', '안유진', '장원영', '이서'),\n",
       " ('레이', '리즈', '가을', '안유진', '이서', '장원영'),\n",
       " ('레이', '리즈', '가을', '장원영', '안유진', '이서'),\n",
       " ('레이', '리즈', '가을', '장원영', '이서', '안유진'),\n",
       " ('레이', '리즈', '가을', '이서', '안유진', '장원영'),\n",
       " ('레이', '리즈', '가을', '이서', '장원영', '안유진'),\n",
       " ('레이', '리즈', '장원영', '안유진', '가을', '이서'),\n",
       " ('레이', '리즈', '장원영', '안유진', '이서', '가을'),\n",
       " ('레이', '리즈', '장원영', '가을', '안유진', '이서'),\n",
       " ('레이', '리즈', '장원영', '가을', '이서', '안유진'),\n",
       " ('레이', '리즈', '장원영', '이서', '안유진', '가을'),\n",
       " ('레이', '리즈', '장원영', '이서', '가을', '안유진'),\n",
       " ('레이', '리즈', '이서', '안유진', '가을', '장원영'),\n",
       " ('레이', '리즈', '이서', '안유진', '장원영', '가을'),\n",
       " ('레이', '리즈', '이서', '가을', '안유진', '장원영'),\n",
       " ('레이', '리즈', '이서', '가을', '장원영', '안유진'),\n",
       " ('레이', '리즈', '이서', '장원영', '안유진', '가을'),\n",
       " ('레이', '리즈', '이서', '장원영', '가을', '안유진'),\n",
       " ('레이', '이서', '안유진', '가을', '장원영', '리즈'),\n",
       " ('레이', '이서', '안유진', '가을', '리즈', '장원영'),\n",
       " ('레이', '이서', '안유진', '장원영', '가을', '리즈'),\n",
       " ('레이', '이서', '안유진', '장원영', '리즈', '가을'),\n",
       " ('레이', '이서', '안유진', '리즈', '가을', '장원영'),\n",
       " ('레이', '이서', '안유진', '리즈', '장원영', '가을'),\n",
       " ('레이', '이서', '가을', '안유진', '장원영', '리즈'),\n",
       " ('레이', '이서', '가을', '안유진', '리즈', '장원영'),\n",
       " ('레이', '이서', '가을', '장원영', '안유진', '리즈'),\n",
       " ('레이', '이서', '가을', '장원영', '리즈', '안유진'),\n",
       " ('레이', '이서', '가을', '리즈', '안유진', '장원영'),\n",
       " ('레이', '이서', '가을', '리즈', '장원영', '안유진'),\n",
       " ('레이', '이서', '장원영', '안유진', '가을', '리즈'),\n",
       " ('레이', '이서', '장원영', '안유진', '리즈', '가을'),\n",
       " ('레이', '이서', '장원영', '가을', '안유진', '리즈'),\n",
       " ('레이', '이서', '장원영', '가을', '리즈', '안유진'),\n",
       " ('레이', '이서', '장원영', '리즈', '안유진', '가을'),\n",
       " ('레이', '이서', '장원영', '리즈', '가을', '안유진'),\n",
       " ('레이', '이서', '리즈', '안유진', '가을', '장원영'),\n",
       " ('레이', '이서', '리즈', '안유진', '장원영', '가을'),\n",
       " ('레이', '이서', '리즈', '가을', '안유진', '장원영'),\n",
       " ('레이', '이서', '리즈', '가을', '장원영', '안유진'),\n",
       " ('레이', '이서', '리즈', '장원영', '안유진', '가을'),\n",
       " ('레이', '이서', '리즈', '장원영', '가을', '안유진'),\n",
       " ('장원영', '안유진', '가을', '레이', '리즈', '이서'),\n",
       " ('장원영', '안유진', '가을', '레이', '이서', '리즈'),\n",
       " ('장원영', '안유진', '가을', '리즈', '레이', '이서'),\n",
       " ('장원영', '안유진', '가을', '리즈', '이서', '레이'),\n",
       " ('장원영', '안유진', '가을', '이서', '레이', '리즈'),\n",
       " ('장원영', '안유진', '가을', '이서', '리즈', '레이'),\n",
       " ('장원영', '안유진', '레이', '가을', '리즈', '이서'),\n",
       " ('장원영', '안유진', '레이', '가을', '이서', '리즈'),\n",
       " ('장원영', '안유진', '레이', '리즈', '가을', '이서'),\n",
       " ('장원영', '안유진', '레이', '리즈', '이서', '가을'),\n",
       " ('장원영', '안유진', '레이', '이서', '가을', '리즈'),\n",
       " ('장원영', '안유진', '레이', '이서', '리즈', '가을'),\n",
       " ('장원영', '안유진', '리즈', '가을', '레이', '이서'),\n",
       " ('장원영', '안유진', '리즈', '가을', '이서', '레이'),\n",
       " ('장원영', '안유진', '리즈', '레이', '가을', '이서'),\n",
       " ('장원영', '안유진', '리즈', '레이', '이서', '가을'),\n",
       " ('장원영', '안유진', '리즈', '이서', '가을', '레이'),\n",
       " ('장원영', '안유진', '리즈', '이서', '레이', '가을'),\n",
       " ('장원영', '안유진', '이서', '가을', '레이', '리즈'),\n",
       " ('장원영', '안유진', '이서', '가을', '리즈', '레이'),\n",
       " ('장원영', '안유진', '이서', '레이', '가을', '리즈'),\n",
       " ('장원영', '안유진', '이서', '레이', '리즈', '가을'),\n",
       " ('장원영', '안유진', '이서', '리즈', '가을', '레이'),\n",
       " ('장원영', '안유진', '이서', '리즈', '레이', '가을'),\n",
       " ('장원영', '가을', '안유진', '레이', '리즈', '이서'),\n",
       " ('장원영', '가을', '안유진', '레이', '이서', '리즈'),\n",
       " ('장원영', '가을', '안유진', '리즈', '레이', '이서'),\n",
       " ('장원영', '가을', '안유진', '리즈', '이서', '레이'),\n",
       " ('장원영', '가을', '안유진', '이서', '레이', '리즈'),\n",
       " ('장원영', '가을', '안유진', '이서', '리즈', '레이'),\n",
       " ('장원영', '가을', '레이', '안유진', '리즈', '이서'),\n",
       " ('장원영', '가을', '레이', '안유진', '이서', '리즈'),\n",
       " ('장원영', '가을', '레이', '리즈', '안유진', '이서'),\n",
       " ('장원영', '가을', '레이', '리즈', '이서', '안유진'),\n",
       " ('장원영', '가을', '레이', '이서', '안유진', '리즈'),\n",
       " ('장원영', '가을', '레이', '이서', '리즈', '안유진'),\n",
       " ('장원영', '가을', '리즈', '안유진', '레이', '이서'),\n",
       " ('장원영', '가을', '리즈', '안유진', '이서', '레이'),\n",
       " ('장원영', '가을', '리즈', '레이', '안유진', '이서'),\n",
       " ('장원영', '가을', '리즈', '레이', '이서', '안유진'),\n",
       " ('장원영', '가을', '리즈', '이서', '안유진', '레이'),\n",
       " ('장원영', '가을', '리즈', '이서', '레이', '안유진'),\n",
       " ('장원영', '가을', '이서', '안유진', '레이', '리즈'),\n",
       " ('장원영', '가을', '이서', '안유진', '리즈', '레이'),\n",
       " ('장원영', '가을', '이서', '레이', '안유진', '리즈'),\n",
       " ('장원영', '가을', '이서', '레이', '리즈', '안유진'),\n",
       " ('장원영', '가을', '이서', '리즈', '안유진', '레이'),\n",
       " ('장원영', '가을', '이서', '리즈', '레이', '안유진'),\n",
       " ('장원영', '레이', '안유진', '가을', '리즈', '이서'),\n",
       " ('장원영', '레이', '안유진', '가을', '이서', '리즈'),\n",
       " ('장원영', '레이', '안유진', '리즈', '가을', '이서'),\n",
       " ('장원영', '레이', '안유진', '리즈', '이서', '가을'),\n",
       " ('장원영', '레이', '안유진', '이서', '가을', '리즈'),\n",
       " ('장원영', '레이', '안유진', '이서', '리즈', '가을'),\n",
       " ('장원영', '레이', '가을', '안유진', '리즈', '이서'),\n",
       " ('장원영', '레이', '가을', '안유진', '이서', '리즈'),\n",
       " ('장원영', '레이', '가을', '리즈', '안유진', '이서'),\n",
       " ('장원영', '레이', '가을', '리즈', '이서', '안유진'),\n",
       " ('장원영', '레이', '가을', '이서', '안유진', '리즈'),\n",
       " ('장원영', '레이', '가을', '이서', '리즈', '안유진'),\n",
       " ('장원영', '레이', '리즈', '안유진', '가을', '이서'),\n",
       " ('장원영', '레이', '리즈', '안유진', '이서', '가을'),\n",
       " ('장원영', '레이', '리즈', '가을', '안유진', '이서'),\n",
       " ('장원영', '레이', '리즈', '가을', '이서', '안유진'),\n",
       " ('장원영', '레이', '리즈', '이서', '안유진', '가을'),\n",
       " ('장원영', '레이', '리즈', '이서', '가을', '안유진'),\n",
       " ('장원영', '레이', '이서', '안유진', '가을', '리즈'),\n",
       " ('장원영', '레이', '이서', '안유진', '리즈', '가을'),\n",
       " ('장원영', '레이', '이서', '가을', '안유진', '리즈'),\n",
       " ('장원영', '레이', '이서', '가을', '리즈', '안유진'),\n",
       " ('장원영', '레이', '이서', '리즈', '안유진', '가을'),\n",
       " ('장원영', '레이', '이서', '리즈', '가을', '안유진'),\n",
       " ('장원영', '리즈', '안유진', '가을', '레이', '이서'),\n",
       " ('장원영', '리즈', '안유진', '가을', '이서', '레이'),\n",
       " ('장원영', '리즈', '안유진', '레이', '가을', '이서'),\n",
       " ('장원영', '리즈', '안유진', '레이', '이서', '가을'),\n",
       " ('장원영', '리즈', '안유진', '이서', '가을', '레이'),\n",
       " ('장원영', '리즈', '안유진', '이서', '레이', '가을'),\n",
       " ('장원영', '리즈', '가을', '안유진', '레이', '이서'),\n",
       " ('장원영', '리즈', '가을', '안유진', '이서', '레이'),\n",
       " ('장원영', '리즈', '가을', '레이', '안유진', '이서'),\n",
       " ('장원영', '리즈', '가을', '레이', '이서', '안유진'),\n",
       " ('장원영', '리즈', '가을', '이서', '안유진', '레이'),\n",
       " ('장원영', '리즈', '가을', '이서', '레이', '안유진'),\n",
       " ('장원영', '리즈', '레이', '안유진', '가을', '이서'),\n",
       " ('장원영', '리즈', '레이', '안유진', '이서', '가을'),\n",
       " ('장원영', '리즈', '레이', '가을', '안유진', '이서'),\n",
       " ('장원영', '리즈', '레이', '가을', '이서', '안유진'),\n",
       " ('장원영', '리즈', '레이', '이서', '안유진', '가을'),\n",
       " ('장원영', '리즈', '레이', '이서', '가을', '안유진'),\n",
       " ('장원영', '리즈', '이서', '안유진', '가을', '레이'),\n",
       " ('장원영', '리즈', '이서', '안유진', '레이', '가을'),\n",
       " ('장원영', '리즈', '이서', '가을', '안유진', '레이'),\n",
       " ('장원영', '리즈', '이서', '가을', '레이', '안유진'),\n",
       " ('장원영', '리즈', '이서', '레이', '안유진', '가을'),\n",
       " ('장원영', '리즈', '이서', '레이', '가을', '안유진'),\n",
       " ('장원영', '이서', '안유진', '가을', '레이', '리즈'),\n",
       " ('장원영', '이서', '안유진', '가을', '리즈', '레이'),\n",
       " ('장원영', '이서', '안유진', '레이', '가을', '리즈'),\n",
       " ('장원영', '이서', '안유진', '레이', '리즈', '가을'),\n",
       " ('장원영', '이서', '안유진', '리즈', '가을', '레이'),\n",
       " ('장원영', '이서', '안유진', '리즈', '레이', '가을'),\n",
       " ('장원영', '이서', '가을', '안유진', '레이', '리즈'),\n",
       " ('장원영', '이서', '가을', '안유진', '리즈', '레이'),\n",
       " ('장원영', '이서', '가을', '레이', '안유진', '리즈'),\n",
       " ('장원영', '이서', '가을', '레이', '리즈', '안유진'),\n",
       " ('장원영', '이서', '가을', '리즈', '안유진', '레이'),\n",
       " ('장원영', '이서', '가을', '리즈', '레이', '안유진'),\n",
       " ('장원영', '이서', '레이', '안유진', '가을', '리즈'),\n",
       " ('장원영', '이서', '레이', '안유진', '리즈', '가을'),\n",
       " ('장원영', '이서', '레이', '가을', '안유진', '리즈'),\n",
       " ('장원영', '이서', '레이', '가을', '리즈', '안유진'),\n",
       " ('장원영', '이서', '레이', '리즈', '안유진', '가을'),\n",
       " ('장원영', '이서', '레이', '리즈', '가을', '안유진'),\n",
       " ('장원영', '이서', '리즈', '안유진', '가을', '레이'),\n",
       " ('장원영', '이서', '리즈', '안유진', '레이', '가을'),\n",
       " ('장원영', '이서', '리즈', '가을', '안유진', '레이'),\n",
       " ('장원영', '이서', '리즈', '가을', '레이', '안유진'),\n",
       " ('장원영', '이서', '리즈', '레이', '안유진', '가을'),\n",
       " ('장원영', '이서', '리즈', '레이', '가을', '안유진'),\n",
       " ('리즈', '안유진', '가을', '레이', '장원영', '이서'),\n",
       " ('리즈', '안유진', '가을', '레이', '이서', '장원영'),\n",
       " ('리즈', '안유진', '가을', '장원영', '레이', '이서'),\n",
       " ('리즈', '안유진', '가을', '장원영', '이서', '레이'),\n",
       " ('리즈', '안유진', '가을', '이서', '레이', '장원영'),\n",
       " ('리즈', '안유진', '가을', '이서', '장원영', '레이'),\n",
       " ('리즈', '안유진', '레이', '가을', '장원영', '이서'),\n",
       " ('리즈', '안유진', '레이', '가을', '이서', '장원영'),\n",
       " ('리즈', '안유진', '레이', '장원영', '가을', '이서'),\n",
       " ('리즈', '안유진', '레이', '장원영', '이서', '가을'),\n",
       " ('리즈', '안유진', '레이', '이서', '가을', '장원영'),\n",
       " ('리즈', '안유진', '레이', '이서', '장원영', '가을'),\n",
       " ('리즈', '안유진', '장원영', '가을', '레이', '이서'),\n",
       " ('리즈', '안유진', '장원영', '가을', '이서', '레이'),\n",
       " ('리즈', '안유진', '장원영', '레이', '가을', '이서'),\n",
       " ('리즈', '안유진', '장원영', '레이', '이서', '가을'),\n",
       " ('리즈', '안유진', '장원영', '이서', '가을', '레이'),\n",
       " ('리즈', '안유진', '장원영', '이서', '레이', '가을'),\n",
       " ('리즈', '안유진', '이서', '가을', '레이', '장원영'),\n",
       " ('리즈', '안유진', '이서', '가을', '장원영', '레이'),\n",
       " ('리즈', '안유진', '이서', '레이', '가을', '장원영'),\n",
       " ('리즈', '안유진', '이서', '레이', '장원영', '가을'),\n",
       " ('리즈', '안유진', '이서', '장원영', '가을', '레이'),\n",
       " ('리즈', '안유진', '이서', '장원영', '레이', '가을'),\n",
       " ('리즈', '가을', '안유진', '레이', '장원영', '이서'),\n",
       " ('리즈', '가을', '안유진', '레이', '이서', '장원영'),\n",
       " ('리즈', '가을', '안유진', '장원영', '레이', '이서'),\n",
       " ('리즈', '가을', '안유진', '장원영', '이서', '레이'),\n",
       " ('리즈', '가을', '안유진', '이서', '레이', '장원영'),\n",
       " ('리즈', '가을', '안유진', '이서', '장원영', '레이'),\n",
       " ('리즈', '가을', '레이', '안유진', '장원영', '이서'),\n",
       " ('리즈', '가을', '레이', '안유진', '이서', '장원영'),\n",
       " ('리즈', '가을', '레이', '장원영', '안유진', '이서'),\n",
       " ('리즈', '가을', '레이', '장원영', '이서', '안유진'),\n",
       " ('리즈', '가을', '레이', '이서', '안유진', '장원영'),\n",
       " ('리즈', '가을', '레이', '이서', '장원영', '안유진'),\n",
       " ('리즈', '가을', '장원영', '안유진', '레이', '이서'),\n",
       " ('리즈', '가을', '장원영', '안유진', '이서', '레이'),\n",
       " ('리즈', '가을', '장원영', '레이', '안유진', '이서'),\n",
       " ('리즈', '가을', '장원영', '레이', '이서', '안유진'),\n",
       " ('리즈', '가을', '장원영', '이서', '안유진', '레이'),\n",
       " ('리즈', '가을', '장원영', '이서', '레이', '안유진'),\n",
       " ('리즈', '가을', '이서', '안유진', '레이', '장원영'),\n",
       " ('리즈', '가을', '이서', '안유진', '장원영', '레이'),\n",
       " ('리즈', '가을', '이서', '레이', '안유진', '장원영'),\n",
       " ('리즈', '가을', '이서', '레이', '장원영', '안유진'),\n",
       " ('리즈', '가을', '이서', '장원영', '안유진', '레이'),\n",
       " ('리즈', '가을', '이서', '장원영', '레이', '안유진'),\n",
       " ('리즈', '레이', '안유진', '가을', '장원영', '이서'),\n",
       " ('리즈', '레이', '안유진', '가을', '이서', '장원영'),\n",
       " ('리즈', '레이', '안유진', '장원영', '가을', '이서'),\n",
       " ('리즈', '레이', '안유진', '장원영', '이서', '가을'),\n",
       " ('리즈', '레이', '안유진', '이서', '가을', '장원영'),\n",
       " ('리즈', '레이', '안유진', '이서', '장원영', '가을'),\n",
       " ('리즈', '레이', '가을', '안유진', '장원영', '이서'),\n",
       " ('리즈', '레이', '가을', '안유진', '이서', '장원영'),\n",
       " ('리즈', '레이', '가을', '장원영', '안유진', '이서'),\n",
       " ('리즈', '레이', '가을', '장원영', '이서', '안유진'),\n",
       " ('리즈', '레이', '가을', '이서', '안유진', '장원영'),\n",
       " ('리즈', '레이', '가을', '이서', '장원영', '안유진'),\n",
       " ('리즈', '레이', '장원영', '안유진', '가을', '이서'),\n",
       " ('리즈', '레이', '장원영', '안유진', '이서', '가을'),\n",
       " ('리즈', '레이', '장원영', '가을', '안유진', '이서'),\n",
       " ('리즈', '레이', '장원영', '가을', '이서', '안유진'),\n",
       " ('리즈', '레이', '장원영', '이서', '안유진', '가을'),\n",
       " ('리즈', '레이', '장원영', '이서', '가을', '안유진'),\n",
       " ('리즈', '레이', '이서', '안유진', '가을', '장원영'),\n",
       " ('리즈', '레이', '이서', '안유진', '장원영', '가을'),\n",
       " ('리즈', '레이', '이서', '가을', '안유진', '장원영'),\n",
       " ('리즈', '레이', '이서', '가을', '장원영', '안유진'),\n",
       " ('리즈', '레이', '이서', '장원영', '안유진', '가을'),\n",
       " ('리즈', '레이', '이서', '장원영', '가을', '안유진'),\n",
       " ('리즈', '장원영', '안유진', '가을', '레이', '이서'),\n",
       " ('리즈', '장원영', '안유진', '가을', '이서', '레이'),\n",
       " ('리즈', '장원영', '안유진', '레이', '가을', '이서'),\n",
       " ('리즈', '장원영', '안유진', '레이', '이서', '가을'),\n",
       " ('리즈', '장원영', '안유진', '이서', '가을', '레이'),\n",
       " ('리즈', '장원영', '안유진', '이서', '레이', '가을'),\n",
       " ('리즈', '장원영', '가을', '안유진', '레이', '이서'),\n",
       " ('리즈', '장원영', '가을', '안유진', '이서', '레이'),\n",
       " ('리즈', '장원영', '가을', '레이', '안유진', '이서'),\n",
       " ('리즈', '장원영', '가을', '레이', '이서', '안유진'),\n",
       " ('리즈', '장원영', '가을', '이서', '안유진', '레이'),\n",
       " ('리즈', '장원영', '가을', '이서', '레이', '안유진'),\n",
       " ('리즈', '장원영', '레이', '안유진', '가을', '이서'),\n",
       " ('리즈', '장원영', '레이', '안유진', '이서', '가을'),\n",
       " ('리즈', '장원영', '레이', '가을', '안유진', '이서'),\n",
       " ('리즈', '장원영', '레이', '가을', '이서', '안유진'),\n",
       " ('리즈', '장원영', '레이', '이서', '안유진', '가을'),\n",
       " ('리즈', '장원영', '레이', '이서', '가을', '안유진'),\n",
       " ('리즈', '장원영', '이서', '안유진', '가을', '레이'),\n",
       " ('리즈', '장원영', '이서', '안유진', '레이', '가을'),\n",
       " ('리즈', '장원영', '이서', '가을', '안유진', '레이'),\n",
       " ('리즈', '장원영', '이서', '가을', '레이', '안유진'),\n",
       " ('리즈', '장원영', '이서', '레이', '안유진', '가을'),\n",
       " ('리즈', '장원영', '이서', '레이', '가을', '안유진'),\n",
       " ('리즈', '이서', '안유진', '가을', '레이', '장원영'),\n",
       " ('리즈', '이서', '안유진', '가을', '장원영', '레이'),\n",
       " ('리즈', '이서', '안유진', '레이', '가을', '장원영'),\n",
       " ('리즈', '이서', '안유진', '레이', '장원영', '가을'),\n",
       " ('리즈', '이서', '안유진', '장원영', '가을', '레이'),\n",
       " ('리즈', '이서', '안유진', '장원영', '레이', '가을'),\n",
       " ('리즈', '이서', '가을', '안유진', '레이', '장원영'),\n",
       " ('리즈', '이서', '가을', '안유진', '장원영', '레이'),\n",
       " ('리즈', '이서', '가을', '레이', '안유진', '장원영'),\n",
       " ('리즈', '이서', '가을', '레이', '장원영', '안유진'),\n",
       " ('리즈', '이서', '가을', '장원영', '안유진', '레이'),\n",
       " ('리즈', '이서', '가을', '장원영', '레이', '안유진'),\n",
       " ('리즈', '이서', '레이', '안유진', '가을', '장원영'),\n",
       " ('리즈', '이서', '레이', '안유진', '장원영', '가을'),\n",
       " ('리즈', '이서', '레이', '가을', '안유진', '장원영'),\n",
       " ('리즈', '이서', '레이', '가을', '장원영', '안유진'),\n",
       " ('리즈', '이서', '레이', '장원영', '안유진', '가을'),\n",
       " ('리즈', '이서', '레이', '장원영', '가을', '안유진'),\n",
       " ('리즈', '이서', '장원영', '안유진', '가을', '레이'),\n",
       " ('리즈', '이서', '장원영', '안유진', '레이', '가을'),\n",
       " ('리즈', '이서', '장원영', '가을', '안유진', '레이'),\n",
       " ('리즈', '이서', '장원영', '가을', '레이', '안유진'),\n",
       " ('리즈', '이서', '장원영', '레이', '안유진', '가을'),\n",
       " ('리즈', '이서', '장원영', '레이', '가을', '안유진'),\n",
       " ('이서', '안유진', '가을', '레이', '장원영', '리즈'),\n",
       " ('이서', '안유진', '가을', '레이', '리즈', '장원영'),\n",
       " ('이서', '안유진', '가을', '장원영', '레이', '리즈'),\n",
       " ('이서', '안유진', '가을', '장원영', '리즈', '레이'),\n",
       " ('이서', '안유진', '가을', '리즈', '레이', '장원영'),\n",
       " ('이서', '안유진', '가을', '리즈', '장원영', '레이'),\n",
       " ('이서', '안유진', '레이', '가을', '장원영', '리즈'),\n",
       " ('이서', '안유진', '레이', '가을', '리즈', '장원영'),\n",
       " ('이서', '안유진', '레이', '장원영', '가을', '리즈'),\n",
       " ('이서', '안유진', '레이', '장원영', '리즈', '가을'),\n",
       " ('이서', '안유진', '레이', '리즈', '가을', '장원영'),\n",
       " ('이서', '안유진', '레이', '리즈', '장원영', '가을'),\n",
       " ('이서', '안유진', '장원영', '가을', '레이', '리즈'),\n",
       " ('이서', '안유진', '장원영', '가을', '리즈', '레이'),\n",
       " ('이서', '안유진', '장원영', '레이', '가을', '리즈'),\n",
       " ('이서', '안유진', '장원영', '레이', '리즈', '가을'),\n",
       " ('이서', '안유진', '장원영', '리즈', '가을', '레이'),\n",
       " ('이서', '안유진', '장원영', '리즈', '레이', '가을'),\n",
       " ('이서', '안유진', '리즈', '가을', '레이', '장원영'),\n",
       " ('이서', '안유진', '리즈', '가을', '장원영', '레이'),\n",
       " ('이서', '안유진', '리즈', '레이', '가을', '장원영'),\n",
       " ('이서', '안유진', '리즈', '레이', '장원영', '가을'),\n",
       " ('이서', '안유진', '리즈', '장원영', '가을', '레이'),\n",
       " ('이서', '안유진', '리즈', '장원영', '레이', '가을'),\n",
       " ('이서', '가을', '안유진', '레이', '장원영', '리즈'),\n",
       " ('이서', '가을', '안유진', '레이', '리즈', '장원영'),\n",
       " ('이서', '가을', '안유진', '장원영', '레이', '리즈'),\n",
       " ('이서', '가을', '안유진', '장원영', '리즈', '레이'),\n",
       " ('이서', '가을', '안유진', '리즈', '레이', '장원영'),\n",
       " ('이서', '가을', '안유진', '리즈', '장원영', '레이'),\n",
       " ('이서', '가을', '레이', '안유진', '장원영', '리즈'),\n",
       " ('이서', '가을', '레이', '안유진', '리즈', '장원영'),\n",
       " ('이서', '가을', '레이', '장원영', '안유진', '리즈'),\n",
       " ('이서', '가을', '레이', '장원영', '리즈', '안유진'),\n",
       " ('이서', '가을', '레이', '리즈', '안유진', '장원영'),\n",
       " ('이서', '가을', '레이', '리즈', '장원영', '안유진'),\n",
       " ('이서', '가을', '장원영', '안유진', '레이', '리즈'),\n",
       " ('이서', '가을', '장원영', '안유진', '리즈', '레이'),\n",
       " ('이서', '가을', '장원영', '레이', '안유진', '리즈'),\n",
       " ('이서', '가을', '장원영', '레이', '리즈', '안유진'),\n",
       " ('이서', '가을', '장원영', '리즈', '안유진', '레이'),\n",
       " ('이서', '가을', '장원영', '리즈', '레이', '안유진'),\n",
       " ('이서', '가을', '리즈', '안유진', '레이', '장원영'),\n",
       " ('이서', '가을', '리즈', '안유진', '장원영', '레이'),\n",
       " ('이서', '가을', '리즈', '레이', '안유진', '장원영'),\n",
       " ('이서', '가을', '리즈', '레이', '장원영', '안유진'),\n",
       " ('이서', '가을', '리즈', '장원영', '안유진', '레이'),\n",
       " ('이서', '가을', '리즈', '장원영', '레이', '안유진'),\n",
       " ('이서', '레이', '안유진', '가을', '장원영', '리즈'),\n",
       " ('이서', '레이', '안유진', '가을', '리즈', '장원영'),\n",
       " ('이서', '레이', '안유진', '장원영', '가을', '리즈'),\n",
       " ('이서', '레이', '안유진', '장원영', '리즈', '가을'),\n",
       " ('이서', '레이', '안유진', '리즈', '가을', '장원영'),\n",
       " ('이서', '레이', '안유진', '리즈', '장원영', '가을'),\n",
       " ('이서', '레이', '가을', '안유진', '장원영', '리즈'),\n",
       " ('이서', '레이', '가을', '안유진', '리즈', '장원영'),\n",
       " ('이서', '레이', '가을', '장원영', '안유진', '리즈'),\n",
       " ('이서', '레이', '가을', '장원영', '리즈', '안유진'),\n",
       " ('이서', '레이', '가을', '리즈', '안유진', '장원영'),\n",
       " ('이서', '레이', '가을', '리즈', '장원영', '안유진'),\n",
       " ('이서', '레이', '장원영', '안유진', '가을', '리즈'),\n",
       " ('이서', '레이', '장원영', '안유진', '리즈', '가을'),\n",
       " ('이서', '레이', '장원영', '가을', '안유진', '리즈'),\n",
       " ('이서', '레이', '장원영', '가을', '리즈', '안유진'),\n",
       " ('이서', '레이', '장원영', '리즈', '안유진', '가을'),\n",
       " ('이서', '레이', '장원영', '리즈', '가을', '안유진'),\n",
       " ('이서', '레이', '리즈', '안유진', '가을', '장원영'),\n",
       " ('이서', '레이', '리즈', '안유진', '장원영', '가을'),\n",
       " ('이서', '레이', '리즈', '가을', '안유진', '장원영'),\n",
       " ('이서', '레이', '리즈', '가을', '장원영', '안유진'),\n",
       " ('이서', '레이', '리즈', '장원영', '안유진', '가을'),\n",
       " ('이서', '레이', '리즈', '장원영', '가을', '안유진'),\n",
       " ('이서', '장원영', '안유진', '가을', '레이', '리즈'),\n",
       " ('이서', '장원영', '안유진', '가을', '리즈', '레이'),\n",
       " ('이서', '장원영', '안유진', '레이', '가을', '리즈'),\n",
       " ('이서', '장원영', '안유진', '레이', '리즈', '가을'),\n",
       " ('이서', '장원영', '안유진', '리즈', '가을', '레이'),\n",
       " ('이서', '장원영', '안유진', '리즈', '레이', '가을'),\n",
       " ('이서', '장원영', '가을', '안유진', '레이', '리즈'),\n",
       " ('이서', '장원영', '가을', '안유진', '리즈', '레이'),\n",
       " ('이서', '장원영', '가을', '레이', '안유진', '리즈'),\n",
       " ('이서', '장원영', '가을', '레이', '리즈', '안유진'),\n",
       " ('이서', '장원영', '가을', '리즈', '안유진', '레이'),\n",
       " ('이서', '장원영', '가을', '리즈', '레이', '안유진'),\n",
       " ('이서', '장원영', '레이', '안유진', '가을', '리즈'),\n",
       " ('이서', '장원영', '레이', '안유진', '리즈', '가을'),\n",
       " ('이서', '장원영', '레이', '가을', '안유진', '리즈'),\n",
       " ('이서', '장원영', '레이', '가을', '리즈', '안유진'),\n",
       " ('이서', '장원영', '레이', '리즈', '안유진', '가을'),\n",
       " ('이서', '장원영', '레이', '리즈', '가을', '안유진'),\n",
       " ('이서', '장원영', '리즈', '안유진', '가을', '레이'),\n",
       " ('이서', '장원영', '리즈', '안유진', '레이', '가을'),\n",
       " ('이서', '장원영', '리즈', '가을', '안유진', '레이'),\n",
       " ('이서', '장원영', '리즈', '가을', '레이', '안유진'),\n",
       " ('이서', '장원영', '리즈', '레이', '안유진', '가을'),\n",
       " ('이서', '장원영', '리즈', '레이', '가을', '안유진'),\n",
       " ('이서', '리즈', '안유진', '가을', '레이', '장원영'),\n",
       " ('이서', '리즈', '안유진', '가을', '장원영', '레이'),\n",
       " ('이서', '리즈', '안유진', '레이', '가을', '장원영'),\n",
       " ('이서', '리즈', '안유진', '레이', '장원영', '가을'),\n",
       " ('이서', '리즈', '안유진', '장원영', '가을', '레이'),\n",
       " ('이서', '리즈', '안유진', '장원영', '레이', '가을'),\n",
       " ('이서', '리즈', '가을', '안유진', '레이', '장원영'),\n",
       " ('이서', '리즈', '가을', '안유진', '장원영', '레이'),\n",
       " ('이서', '리즈', '가을', '레이', '안유진', '장원영'),\n",
       " ('이서', '리즈', '가을', '레이', '장원영', '안유진'),\n",
       " ('이서', '리즈', '가을', '장원영', '안유진', '레이'),\n",
       " ('이서', '리즈', '가을', '장원영', '레이', '안유진'),\n",
       " ('이서', '리즈', '레이', '안유진', '가을', '장원영'),\n",
       " ('이서', '리즈', '레이', '안유진', '장원영', '가을'),\n",
       " ('이서', '리즈', '레이', '가을', '안유진', '장원영'),\n",
       " ('이서', '리즈', '레이', '가을', '장원영', '안유진'),\n",
       " ('이서', '리즈', '레이', '장원영', '안유진', '가을'),\n",
       " ('이서', '리즈', '레이', '장원영', '가을', '안유진'),\n",
       " ('이서', '리즈', '장원영', '안유진', '가을', '레이'),\n",
       " ('이서', '리즈', '장원영', '안유진', '레이', '가을'),\n",
       " ('이서', '리즈', '장원영', '가을', '안유진', '레이'),\n",
       " ('이서', '리즈', '장원영', '가을', '레이', '안유진'),\n",
       " ('이서', '리즈', '장원영', '레이', '안유진', '가을'),\n",
       " ('이서', '리즈', '장원영', '레이', '가을', '안유진')]"
      ]
     },
     "execution_count": 68,
     "metadata": {},
     "output_type": "execute_result"
    }
   ],
   "source": [
    "list(permutations(items,6))"
   ]
  },
  {
   "cell_type": "code",
   "execution_count": 69,
   "id": "768cd5f8",
   "metadata": {},
   "outputs": [
    {
     "data": {
      "text/plain": [
       "720"
      ]
     },
     "execution_count": 69,
     "metadata": {},
     "output_type": "execute_result"
    }
   ],
   "source": [
    "len(list(permutations(items,6)))"
   ]
  },
  {
   "cell_type": "markdown",
   "id": "26e252cd",
   "metadata": {},
   "source": [
    "### 아이브 특별 댄스공연 무대에서 총 3개의 센터파트에 대한 멤버 등장 순서 모든 경우의 수"
   ]
  },
  {
   "cell_type": "code",
   "execution_count": 70,
   "id": "34ff69b6",
   "metadata": {},
   "outputs": [
    {
     "data": {
      "text/plain": [
       "<itertools.permutations at 0x137320a5220>"
      ]
     },
     "execution_count": 70,
     "metadata": {},
     "output_type": "execute_result"
    }
   ],
   "source": [
    "permutations(items,3)"
   ]
  },
  {
   "cell_type": "code",
   "execution_count": 71,
   "id": "78b3905b",
   "metadata": {
    "collapsed": true
   },
   "outputs": [
    {
     "data": {
      "text/plain": [
       "[('안유진', '가을', '레이'),\n",
       " ('안유진', '가을', '장원영'),\n",
       " ('안유진', '가을', '리즈'),\n",
       " ('안유진', '가을', '이서'),\n",
       " ('안유진', '레이', '가을'),\n",
       " ('안유진', '레이', '장원영'),\n",
       " ('안유진', '레이', '리즈'),\n",
       " ('안유진', '레이', '이서'),\n",
       " ('안유진', '장원영', '가을'),\n",
       " ('안유진', '장원영', '레이'),\n",
       " ('안유진', '장원영', '리즈'),\n",
       " ('안유진', '장원영', '이서'),\n",
       " ('안유진', '리즈', '가을'),\n",
       " ('안유진', '리즈', '레이'),\n",
       " ('안유진', '리즈', '장원영'),\n",
       " ('안유진', '리즈', '이서'),\n",
       " ('안유진', '이서', '가을'),\n",
       " ('안유진', '이서', '레이'),\n",
       " ('안유진', '이서', '장원영'),\n",
       " ('안유진', '이서', '리즈'),\n",
       " ('가을', '안유진', '레이'),\n",
       " ('가을', '안유진', '장원영'),\n",
       " ('가을', '안유진', '리즈'),\n",
       " ('가을', '안유진', '이서'),\n",
       " ('가을', '레이', '안유진'),\n",
       " ('가을', '레이', '장원영'),\n",
       " ('가을', '레이', '리즈'),\n",
       " ('가을', '레이', '이서'),\n",
       " ('가을', '장원영', '안유진'),\n",
       " ('가을', '장원영', '레이'),\n",
       " ('가을', '장원영', '리즈'),\n",
       " ('가을', '장원영', '이서'),\n",
       " ('가을', '리즈', '안유진'),\n",
       " ('가을', '리즈', '레이'),\n",
       " ('가을', '리즈', '장원영'),\n",
       " ('가을', '리즈', '이서'),\n",
       " ('가을', '이서', '안유진'),\n",
       " ('가을', '이서', '레이'),\n",
       " ('가을', '이서', '장원영'),\n",
       " ('가을', '이서', '리즈'),\n",
       " ('레이', '안유진', '가을'),\n",
       " ('레이', '안유진', '장원영'),\n",
       " ('레이', '안유진', '리즈'),\n",
       " ('레이', '안유진', '이서'),\n",
       " ('레이', '가을', '안유진'),\n",
       " ('레이', '가을', '장원영'),\n",
       " ('레이', '가을', '리즈'),\n",
       " ('레이', '가을', '이서'),\n",
       " ('레이', '장원영', '안유진'),\n",
       " ('레이', '장원영', '가을'),\n",
       " ('레이', '장원영', '리즈'),\n",
       " ('레이', '장원영', '이서'),\n",
       " ('레이', '리즈', '안유진'),\n",
       " ('레이', '리즈', '가을'),\n",
       " ('레이', '리즈', '장원영'),\n",
       " ('레이', '리즈', '이서'),\n",
       " ('레이', '이서', '안유진'),\n",
       " ('레이', '이서', '가을'),\n",
       " ('레이', '이서', '장원영'),\n",
       " ('레이', '이서', '리즈'),\n",
       " ('장원영', '안유진', '가을'),\n",
       " ('장원영', '안유진', '레이'),\n",
       " ('장원영', '안유진', '리즈'),\n",
       " ('장원영', '안유진', '이서'),\n",
       " ('장원영', '가을', '안유진'),\n",
       " ('장원영', '가을', '레이'),\n",
       " ('장원영', '가을', '리즈'),\n",
       " ('장원영', '가을', '이서'),\n",
       " ('장원영', '레이', '안유진'),\n",
       " ('장원영', '레이', '가을'),\n",
       " ('장원영', '레이', '리즈'),\n",
       " ('장원영', '레이', '이서'),\n",
       " ('장원영', '리즈', '안유진'),\n",
       " ('장원영', '리즈', '가을'),\n",
       " ('장원영', '리즈', '레이'),\n",
       " ('장원영', '리즈', '이서'),\n",
       " ('장원영', '이서', '안유진'),\n",
       " ('장원영', '이서', '가을'),\n",
       " ('장원영', '이서', '레이'),\n",
       " ('장원영', '이서', '리즈'),\n",
       " ('리즈', '안유진', '가을'),\n",
       " ('리즈', '안유진', '레이'),\n",
       " ('리즈', '안유진', '장원영'),\n",
       " ('리즈', '안유진', '이서'),\n",
       " ('리즈', '가을', '안유진'),\n",
       " ('리즈', '가을', '레이'),\n",
       " ('리즈', '가을', '장원영'),\n",
       " ('리즈', '가을', '이서'),\n",
       " ('리즈', '레이', '안유진'),\n",
       " ('리즈', '레이', '가을'),\n",
       " ('리즈', '레이', '장원영'),\n",
       " ('리즈', '레이', '이서'),\n",
       " ('리즈', '장원영', '안유진'),\n",
       " ('리즈', '장원영', '가을'),\n",
       " ('리즈', '장원영', '레이'),\n",
       " ('리즈', '장원영', '이서'),\n",
       " ('리즈', '이서', '안유진'),\n",
       " ('리즈', '이서', '가을'),\n",
       " ('리즈', '이서', '레이'),\n",
       " ('리즈', '이서', '장원영'),\n",
       " ('이서', '안유진', '가을'),\n",
       " ('이서', '안유진', '레이'),\n",
       " ('이서', '안유진', '장원영'),\n",
       " ('이서', '안유진', '리즈'),\n",
       " ('이서', '가을', '안유진'),\n",
       " ('이서', '가을', '레이'),\n",
       " ('이서', '가을', '장원영'),\n",
       " ('이서', '가을', '리즈'),\n",
       " ('이서', '레이', '안유진'),\n",
       " ('이서', '레이', '가을'),\n",
       " ('이서', '레이', '장원영'),\n",
       " ('이서', '레이', '리즈'),\n",
       " ('이서', '장원영', '안유진'),\n",
       " ('이서', '장원영', '가을'),\n",
       " ('이서', '장원영', '레이'),\n",
       " ('이서', '장원영', '리즈'),\n",
       " ('이서', '리즈', '안유진'),\n",
       " ('이서', '리즈', '가을'),\n",
       " ('이서', '리즈', '레이'),\n",
       " ('이서', '리즈', '장원영')]"
      ]
     },
     "execution_count": 71,
     "metadata": {},
     "output_type": "execute_result"
    }
   ],
   "source": [
    "list(permutations(items,3))"
   ]
  },
  {
   "cell_type": "code",
   "execution_count": 72,
   "id": "8e595af2",
   "metadata": {},
   "outputs": [
    {
     "data": {
      "text/plain": [
       "120"
      ]
     },
     "execution_count": 72,
     "metadata": {},
     "output_type": "execute_result"
    }
   ],
   "source": [
    "len(list(permutations(items,3)))"
   ]
  },
  {
   "cell_type": "markdown",
   "id": "dc40393e",
   "metadata": {},
   "source": [
    "### 서로 다른 n개 중에서 r개(n≥r) 취하여 조를 만들수 있는 모든 경우의 수 (순서는 고려하지 않는다) => 조합"
   ]
  },
  {
   "cell_type": "markdown",
   "id": "dccc1ef3",
   "metadata": {},
   "source": [
    "### 아이브 전체 멤버중 3명을 선별하여 미니 프로젝트 그룹을 만들고자 한다.  이 경우 조합 가능한 모든 멤버는?"
   ]
  },
  {
   "cell_type": "code",
   "execution_count": 73,
   "id": "1bd39928",
   "metadata": {},
   "outputs": [
    {
     "data": {
      "text/plain": [
       "[('안유진', '가을', '레이'),\n",
       " ('안유진', '가을', '장원영'),\n",
       " ('안유진', '가을', '리즈'),\n",
       " ('안유진', '가을', '이서'),\n",
       " ('안유진', '레이', '장원영'),\n",
       " ('안유진', '레이', '리즈'),\n",
       " ('안유진', '레이', '이서'),\n",
       " ('안유진', '장원영', '리즈'),\n",
       " ('안유진', '장원영', '이서'),\n",
       " ('안유진', '리즈', '이서'),\n",
       " ('가을', '레이', '장원영'),\n",
       " ('가을', '레이', '리즈'),\n",
       " ('가을', '레이', '이서'),\n",
       " ('가을', '장원영', '리즈'),\n",
       " ('가을', '장원영', '이서'),\n",
       " ('가을', '리즈', '이서'),\n",
       " ('레이', '장원영', '리즈'),\n",
       " ('레이', '장원영', '이서'),\n",
       " ('레이', '리즈', '이서'),\n",
       " ('장원영', '리즈', '이서')]"
      ]
     },
     "execution_count": 73,
     "metadata": {},
     "output_type": "execute_result"
    }
   ],
   "source": [
    "list(combinations(items,3))"
   ]
  },
  {
   "cell_type": "code",
   "execution_count": 74,
   "id": "0bb5b57a",
   "metadata": {},
   "outputs": [
    {
     "data": {
      "text/plain": [
       "20"
      ]
     },
     "execution_count": 74,
     "metadata": {},
     "output_type": "execute_result"
    }
   ],
   "source": [
    "len(list(combinations(items,3)))"
   ]
  },
  {
   "cell_type": "markdown",
   "id": "e0876799",
   "metadata": {},
   "source": [
    "# 고급정렬"
   ]
  },
  {
   "cell_type": "markdown",
   "id": "16dd8c7d",
   "metadata": {},
   "source": [
    "### 리스트"
   ]
  },
  {
   "cell_type": "code",
   "execution_count": 128,
   "id": "ca0c7180",
   "metadata": {},
   "outputs": [],
   "source": [
    "students = [\n",
    "    [\"jane\", 22, 'C'],\n",
    "    [\"dave\", 32, 'A'],\n",
    "    [\"sally\", 17, 'B'],\n",
    "]"
   ]
  },
  {
   "cell_type": "code",
   "execution_count": 130,
   "id": "88694145",
   "metadata": {},
   "outputs": [
    {
     "data": {
      "text/plain": [
       "32"
      ]
     },
     "execution_count": 130,
     "metadata": {},
     "output_type": "execute_result"
    }
   ],
   "source": [
    "students[1][1]"
   ]
  },
  {
   "cell_type": "markdown",
   "id": "51c76849",
   "metadata": {},
   "source": [
    "### 위 학생정보를 나이순으로 내림차순 정렬, 학점순으로 오름차순 정렬한 결과를 각각 도출하시오 (시간: 2분)"
   ]
  },
  {
   "cell_type": "code",
   "execution_count": 77,
   "id": "6d09549a",
   "metadata": {},
   "outputs": [],
   "source": [
    "from operator import itemgetter"
   ]
  },
  {
   "cell_type": "code",
   "execution_count": 79,
   "id": "4895f106",
   "metadata": {},
   "outputs": [
    {
     "data": {
      "text/plain": [
       "[['dave', 32, 'A'], ['jane', 22, 'C'], ['sally', 17, 'B']]"
      ]
     },
     "execution_count": 79,
     "metadata": {},
     "output_type": "execute_result"
    }
   ],
   "source": [
    "age_result = sorted(students, key = itemgetter(1), reverse = True)\n",
    "age_result"
   ]
  },
  {
   "cell_type": "code",
   "execution_count": 82,
   "id": "22da84c0",
   "metadata": {},
   "outputs": [
    {
     "data": {
      "text/plain": [
       "[['dave', 32, 'A'], ['sally', 17, 'B'], ['jane', 22, 'C']]"
      ]
     },
     "execution_count": 82,
     "metadata": {},
     "output_type": "execute_result"
    }
   ],
   "source": [
    "score_result = sorted(students, key = itemgetter(2))\n",
    "score_result"
   ]
  },
  {
   "cell_type": "markdown",
   "id": "730286a0",
   "metadata": {},
   "source": [
    "### 딕셔너리"
   ]
  },
  {
   "cell_type": "code",
   "execution_count": 131,
   "id": "3e1ad170",
   "metadata": {},
   "outputs": [],
   "source": [
    "students = [\n",
    "    {\"name\": \"jane\", \"age\": 22, \"grade\": 'C'},\n",
    "    {\"name\": \"dave\", \"age\": 32, \"grade\": 'A'},\n",
    "    {\"name\": \"sally\", \"age\": 17, \"grade\": 'B'}\n",
    "]"
   ]
  },
  {
   "cell_type": "code",
   "execution_count": 132,
   "id": "2e5647ec",
   "metadata": {},
   "outputs": [
    {
     "data": {
      "text/plain": [
       "22"
      ]
     },
     "execution_count": 132,
     "metadata": {},
     "output_type": "execute_result"
    }
   ],
   "source": [
    "students[0]['age']"
   ]
  },
  {
   "cell_type": "markdown",
   "id": "cff1a584",
   "metadata": {},
   "source": [
    "### 위 학생정보를 나이순으로 내림차순 정렬, 학점순으로 오름차순 정렬한 결과를 각각 도출하시오 (시간: 1분)"
   ]
  },
  {
   "cell_type": "code",
   "execution_count": 86,
   "id": "b0b39387",
   "metadata": {},
   "outputs": [
    {
     "data": {
      "text/plain": [
       "[{'name': 'dave', 'age': 32, 'grade': 'A'},\n",
       " {'name': 'jane', 'age': 22, 'grade': 'C'},\n",
       " {'name': 'sally', 'age': 17, 'grade': 'B'}]"
      ]
     },
     "execution_count": 86,
     "metadata": {},
     "output_type": "execute_result"
    }
   ],
   "source": [
    "age_result2 = sorted(students, key = itemgetter('age'), reverse=True)\n",
    "age_result2"
   ]
  },
  {
   "cell_type": "code",
   "execution_count": 87,
   "id": "72a5ea88",
   "metadata": {},
   "outputs": [
    {
     "data": {
      "text/plain": [
       "[{'name': 'dave', 'age': 32, 'grade': 'A'},\n",
       " {'name': 'sally', 'age': 17, 'grade': 'B'},\n",
       " {'name': 'jane', 'age': 22, 'grade': 'C'}]"
      ]
     },
     "execution_count": 87,
     "metadata": {},
     "output_type": "execute_result"
    }
   ],
   "source": [
    "grade_result = sorted(students, key = itemgetter('grade'))\n",
    "grade_result"
   ]
  },
  {
   "cell_type": "markdown",
   "id": "ff235d15",
   "metadata": {},
   "source": [
    "### 응용"
   ]
  },
  {
   "cell_type": "code",
   "execution_count": 133,
   "id": "85fddda2",
   "metadata": {},
   "outputs": [
    {
     "data": {
      "text/plain": [
       "{'jane, 22, C': 3, 'dave, 32, A': 1, 'sally, 17, B': 2}"
      ]
     },
     "execution_count": 133,
     "metadata": {},
     "output_type": "execute_result"
    }
   ],
   "source": [
    "students = {\n",
    "    'jane, 22, C': 3,\n",
    "    'dave, 32, A': 1,\n",
    "    'sally, 17, B': 2\n",
    "}\n",
    "students"
   ]
  },
  {
   "cell_type": "markdown",
   "id": "2f8b2b5e",
   "metadata": {},
   "source": [
    "### 위 자료구조에서 value값(등수)로 정렬해 보세요. (시간: 1분) "
   ]
  },
  {
   "cell_type": "code",
   "execution_count": 108,
   "id": "1438de24",
   "metadata": {},
   "outputs": [
    {
     "data": {
      "text/plain": [
       "dict_items([('jane, 22, C', 3), ('dave, 32, A', 1), ('sally, 17, B', 2)])"
      ]
     },
     "execution_count": 108,
     "metadata": {},
     "output_type": "execute_result"
    }
   ],
   "source": [
    "students.items()"
   ]
  },
  {
   "cell_type": "code",
   "execution_count": 109,
   "id": "72280790",
   "metadata": {},
   "outputs": [
    {
     "data": {
      "text/plain": [
       "[('dave, 32, A', 1), ('sally, 17, B', 2), ('jane, 22, C', 3)]"
      ]
     },
     "execution_count": 109,
     "metadata": {},
     "output_type": "execute_result"
    }
   ],
   "source": [
    "sorted(students.items(), key = itemgetter(1))"
   ]
  },
  {
   "cell_type": "code",
   "execution_count": null,
   "id": "976cb99e",
   "metadata": {},
   "outputs": [],
   "source": []
  }
 ],
 "metadata": {
  "kernelspec": {
   "display_name": "Python 3 (ipykernel)",
   "language": "python",
   "name": "python3"
  },
  "language_info": {
   "codemirror_mode": {
    "name": "ipython",
    "version": 3
   },
   "file_extension": ".py",
   "mimetype": "text/x-python",
   "name": "python",
   "nbconvert_exporter": "python",
   "pygments_lexer": "ipython3",
   "version": "3.9.13"
  }
 },
 "nbformat": 4,
 "nbformat_minor": 5
}
