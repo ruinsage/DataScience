{
 "cells": [
  {
   "cell_type": "markdown",
   "id": "772ac139",
   "metadata": {},
   "source": [
    "#### 열중에 특정값이 있는 열을 filter함수의 like 인자를 통해 필터링"
   ]
  },
  {
   "cell_type": "raw",
   "id": "18a3a0a7",
   "metadata": {},
   "source": [
    "데이터프레임명.filter(like='검색어')"
   ]
  },
  {
   "cell_type": "markdown",
   "id": "105893b6",
   "metadata": {},
   "source": [
    "#### 열 이름에 숫자가 들어간 것을 필터링"
   ]
  },
  {
   "cell_type": "raw",
   "id": "eae27d1a",
   "metadata": {},
   "source": [
    "데이터프레임명.filter(regex='\\d')"
   ]
  },
  {
   "cell_type": "raw",
   "id": "3a9f8cd8",
   "metadata": {},
   "source": [
    "결측값 채우기 fillna함수의 method를 이용\n",
    "method가 ffill이나 pad면 이전 값으로 채우기\n",
    "method가 bfill이나 backfill이면 다음 값으로 채우기"
   ]
  },
  {
   "cell_type": "raw",
   "id": "0b950209",
   "metadata": {},
   "source": [
    "데이터프레임명.fillna(method = 'ffill')\n",
    "데이터프레임명.fillna(method = 'pad')\n",
    "데이터프레임명.fillna(method = 'bfill')\n",
    "데이터프레임명.fillna(method = 'backfill')"
   ]
  },
  {
   "cell_type": "markdown",
   "id": "75a2cea6",
   "metadata": {},
   "source": [
    "#### 전체 열을 대상으로 누락된 값을 집계"
   ]
  },
  {
   "cell_type": "raw",
   "id": "a7d84cf6",
   "metadata": {},
   "source": [
    "데이터프레임명.isnull().sum()"
   ]
  },
  {
   "cell_type": "markdown",
   "id": "d0e305f4",
   "metadata": {},
   "source": [
    "#### 데이터프레임 개별 열의 결측치의 총합"
   ]
  },
  {
   "cell_type": "raw",
   "id": "4e579285",
   "metadata": {},
   "source": [
    "데이터프레임명.isnull().sum().sum()"
   ]
  },
  {
   "cell_type": "markdown",
   "id": "e70549e8",
   "metadata": {},
   "source": [
    "#### 특정 열의 유일 값의 갯수"
   ]
  },
  {
   "cell_type": "raw",
   "id": "74894ca6",
   "metadata": {},
   "source": [
    "데이터프레임명[열이름].value_count.()"
   ]
  },
  {
   "cell_type": "markdown",
   "id": "91ba6f5c",
   "metadata": {},
   "source": [
    "#### 특정 열의 결측치 집계"
   ]
  },
  {
   "cell_type": "raw",
   "id": "06cc0711",
   "metadata": {},
   "source": [
    "데이터프레임명[열이름].value_counts(dropna = False)"
   ]
  },
  {
   "cell_type": "markdown",
   "id": "1599b654",
   "metadata": {},
   "source": [
    "#### 결측치 데이터를 무시해도 될 경우 임의의 값으로 채우기"
   ]
  },
  {
   "cell_type": "raw",
   "id": "5378a2cf",
   "metadata": {},
   "source": [
    "데이터프레임명.fillna(\" \", inplace = True)"
   ]
  },
  {
   "cell_type": "code",
   "execution_count": 3,
   "id": "5a0ffe2f",
   "metadata": {},
   "outputs": [
    {
     "data": {
      "text/plain": [
       "('magic key 1', None, nan, ' ', '')"
      ]
     },
     "execution_count": 3,
     "metadata": {},
     "output_type": "execute_result"
    }
   ],
   "source": [
    "import numpy as np\n",
    "data1 = 'magic key 1'\n",
    "data2 = None\n",
    "data3 = np.nan\n",
    "data4 = ' '\n",
    "data5 = ''\n",
    "data1, data2, data3, data4, data5"
   ]
  },
  {
   "cell_type": "raw",
   "id": "60854b99",
   "metadata": {},
   "source": [
    "# data2와 data3는 미정의데이터기 때문에 stack 영역에서 heap영역을 가리킬 주소가 없다\n",
    "# data4는 stack 영역에 주소가 있으며 이 주소는 heap영역에 공백문자의 의미를 가진 값을 가리킨다\n",
    "# data5는 stack 영역에 주소가 있으며 이 주소는 heap영역에 빈문자의 의미를 가진 값을 가리킨다\n",
    "# data2,3,4,5는 출력 값으로 봤을 때 헷갈릴 수 있으나 구분해야한다"
   ]
  },
  {
   "cell_type": "raw",
   "id": "ded9bd91",
   "metadata": {},
   "source": [
    "# interpolate 함수는 누락된 값 두 사이의 숫자의 중간 값을 할당한다\n",
    "# 선형데이터에 적합하다 (데이터간의 패턴이 일정하게 증가 혹은 감소하여 선으로 표현할 수 있는 데이터)"
   ]
  },
  {
   "cell_type": "raw",
   "id": "7a8b248d",
   "metadata": {},
   "source": [
    "데이터프레임명.interpolate()"
   ]
  },
  {
   "cell_type": "markdown",
   "id": "70fcf7f7",
   "metadata": {},
   "source": [
    "#### 데이터 프레임 각 열의 데이터 수 측정하기"
   ]
  },
  {
   "cell_type": "raw",
   "id": "b6679573",
   "metadata": {},
   "source": [
    "데이터프레임명.count()"
   ]
  },
  {
   "cell_type": "markdown",
   "id": "a7c7d228",
   "metadata": {},
   "source": [
    "#### 결측치가 있는 열 삭제하기"
   ]
  },
  {
   "cell_type": "raw",
   "id": "d04780f7",
   "metadata": {},
   "source": [
    "데이터프레임 명.dropna(axis = 1)\n",
    "# 행삭제는 axis = 0"
   ]
  },
  {
   "cell_type": "raw",
   "id": "fe38a12c",
   "metadata": {},
   "source": [
    "단, 할당할 변수명을 원본데이터 변수명으로 지정했을 경우\n",
    "원본 데이터가 변경될 수 있으며\n",
    "결측치 데이터에 의미가 있을 수 있으므로\n",
    "매우 신중히 검토하고 수행할 것\n",
    "따라서 항상 안전하게 복사본에서 작업하는 것이 좋다"
   ]
  },
  {
   "cell_type": "markdown",
   "id": "d5ebb6f8",
   "metadata": {},
   "source": [
    "#### 결측치가 있는 행 삭제하기"
   ]
  },
  {
   "cell_type": "code",
   "execution_count": 8,
   "id": "0eeb51d6",
   "metadata": {},
   "outputs": [],
   "source": [
    "import numpy as np"
   ]
  },
  {
   "cell_type": "code",
   "execution_count": 11,
   "id": "ab8d8495",
   "metadata": {
    "scrolled": true
   },
   "outputs": [
    {
     "data": {
      "text/plain": [
       "array([False, False,  True])"
      ]
     },
     "execution_count": 11,
     "metadata": {},
     "output_type": "execute_result"
    }
   ],
   "source": [
    "# numpy의 isnan함수는 리스트의 각 요소가 결측치인지 bool형식으로 리턴해준다\n",
    "np.isnan(np.array([1,2,np.nan]))"
   ]
  },
  {
   "cell_type": "raw",
   "id": "45191818",
   "metadata": {},
   "source": [
    "# 열이름 열의 모든 원소에 적용할 방식을 apply함수에서 지정한 함수를 통해 적용\n",
    "# drop 조건이 결측치 이외의 다양한 조건이 발생할 경우 apply 함수를 통하여 사용자 정의 함수를 호출할 수 있다.\n",
    "데이터프레임명['열이름'].apply(np.isnan)"
   ]
  },
  {
   "cell_type": "raw",
   "id": "0f717bee",
   "metadata": {},
   "source": [
    "index_nan = 데이터프레임명['열이름'].index[데이터프레임명['열이름'].apply(np.isnan)]\n",
    "#변수할당   데이터프레임 열이름 열의 인덱스(데이터프레임 열이름 열이 nan값인 열) "
   ]
  },
  {
   "cell_type": "raw",
   "id": "095adbe6",
   "metadata": {},
   "source": [
    "데이터프레임명.drop(index = index_nan)\n",
    "#데이터프레임에서 index_nan과 같은 인덱스 행을 삭제"
   ]
  },
  {
   "cell_type": "raw",
   "id": "c7bcd1b0",
   "metadata": {},
   "source": [
    "# 간단한 조건(결측치 유무에의핸 행, 열삭제)에 유리한 dropna함수\n",
    "데이터프레임 변수 = 데이터프레임.dropna(axis = 0)\n",
    "# axis = 0 이므로 결측치가 있는 행 삭제"
   ]
  },
  {
   "cell_type": "markdown",
   "id": "58714cdb",
   "metadata": {},
   "source": [
    "#### 중복값 확인"
   ]
  },
  {
   "cell_type": "raw",
   "id": "5fc39e77",
   "metadata": {},
   "source": [
    "데이터프레임명.duplicated()\n",
    "# 중복된 값이 있다면 True 없다면 false의 bool형으로 리턴"
   ]
  },
  {
   "cell_type": "raw",
   "id": "b3b5f067",
   "metadata": {},
   "source": [
    "데이터프레임명.loc[데이터프레임명.duplicated()]\n",
    "#중복되는 행을 검색해서 보여줌 (결과값이 True인 행 즉, 두번째 중복된 행)"
   ]
  },
  {
   "cell_type": "markdown",
   "id": "2ed4b367",
   "metadata": {},
   "source": [
    "#### 열의 데이터 종류 확인"
   ]
  },
  {
   "cell_type": "raw",
   "id": "d07efebc",
   "metadata": {},
   "source": [
    "데이터프레임명['열이름'].unique\n",
    "# 동일한 데이터를 제외하여 유일한 데이터만 리턴 "
   ]
  },
  {
   "cell_type": "markdown",
   "id": "85937322",
   "metadata": {},
   "source": [
    "#### 중복값 삭제"
   ]
  },
  {
   "cell_type": "code",
   "execution_count": null,
   "id": "1b83b477",
   "metadata": {},
   "outputs": [],
   "source": [
    "데이터프레임명['열이름'].drop_duplicates()\n",
    "# 열이름 열에서 중복된 데이터는 모두 삭제 (단, 기본옵션으로 수행시 원본에 영향 없음)"
   ]
  },
  {
   "cell_type": "markdown",
   "id": "4fc41e94",
   "metadata": {},
   "source": [
    "#### 행의 모든 내용을 다른 행의 모든 열의 내용으로 갱신하기"
   ]
  },
  {
   "cell_type": "code",
   "execution_count": null,
   "id": "a0e14323",
   "metadata": {},
   "outputs": [],
   "source": [
    "데이터프레임명.iloc[행인덱스,열범위시작:열범위끝] = 데이터프레임명.iloc[행인덱스,열범위시작:열범위끝]"
   ]
  },
  {
   "cell_type": "code",
   "execution_count": null,
   "id": "4420776e",
   "metadata": {},
   "outputs": [],
   "source": [
    "# inplace=True 옵션은 원본에 영향을 미친다.\n",
    "데이터프레임명.drop_duplicates(inplace = True)"
   ]
  },
  {
   "cell_type": "code",
   "execution_count": null,
   "id": "e3ac8e13",
   "metadata": {},
   "outputs": [],
   "source": []
  },
  {
   "cell_type": "code",
   "execution_count": null,
   "id": "236bc37f",
   "metadata": {},
   "outputs": [],
   "source": [
    "# numpy의 random함수\n",
    "# np.random.randint 균일 분포의 정수 난수 1개 생성  \n",
    "#np.random.rand 0부터 1사이의 균일 분포를 보이는 표준정규분포 난수 matrix array생성  \n",
    "#np.random.randn 평균0, 표준편차1의 표준 정규 분포에서 난수 matrix array생성"
   ]
  },
  {
   "cell_type": "code",
   "execution_count": null,
   "id": "5a812e1b",
   "metadata": {},
   "outputs": [],
   "source": []
  },
  {
   "cell_type": "code",
   "execution_count": null,
   "id": "9f41e7b7",
   "metadata": {},
   "outputs": [],
   "source": []
  },
  {
   "cell_type": "code",
   "execution_count": null,
   "id": "0047455a",
   "metadata": {},
   "outputs": [],
   "source": []
  },
  {
   "cell_type": "code",
   "execution_count": null,
   "id": "48040b5f",
   "metadata": {},
   "outputs": [],
   "source": []
  },
  {
   "cell_type": "code",
   "execution_count": null,
   "id": "f7398baf",
   "metadata": {},
   "outputs": [],
   "source": []
  },
  {
   "cell_type": "code",
   "execution_count": null,
   "id": "00d0a293",
   "metadata": {},
   "outputs": [],
   "source": [
    "# 멀티인덱스에서 데이터 검색\n",
    "# 데이터프레임명[상위열인덱스,하위열인덱스]"
   ]
  },
  {
   "cell_type": "code",
   "execution_count": null,
   "id": "cd37bdcb",
   "metadata": {},
   "outputs": [],
   "source": [
    "# 인덱스 정렬방법 (문자열 인덱스인 경우 정렬이 안되어있으면 슬라이싱 연산이 불가능하다)\n",
    "# 단, 데이터프레임 자기 자신을 바꾸지는 않으므로 변수할당이 필요하다\n",
    "데이터프레임명 = 데이터프레임명.sort_index(axis = 1)"
   ]
  },
  {
   "cell_type": "code",
   "execution_count": null,
   "id": "8cce8233",
   "metadata": {},
   "outputs": [],
   "source": [
    "# 행 인덱스 정보를 incdex.names를 사용하여 직접 지정할 수 있다.\n",
    "데이터프레임명[인덱스명:인덱스명]"
   ]
  },
  {
   "cell_type": "code",
   "execution_count": null,
   "id": "d401f460",
   "metadata": {},
   "outputs": [],
   "source": [
    "# 행 인덱스 정보를 index.names를 사용하여 직접 지정할 수 있다\n",
    "데이터프레임명.index.names = [상위인덱스 정보,하위인덱스 정보]"
   ]
  },
  {
   "cell_type": "code",
   "execution_count": null,
   "id": "c80f2746",
   "metadata": {},
   "outputs": [],
   "source": [
    "# 데이터 프레임워크에서는 상위인덱스로 바로 접근이 불가능하다\n",
    "예) 데이터프레임명[상위인덱스명 , :]"
   ]
  },
  {
   "cell_type": "code",
   "execution_count": null,
   "id": "8720acad",
   "metadata": {},
   "outputs": [],
   "source": [
    "# 시리즈로 가져와서 부분합을 구할 수는 있다\n",
    "데이터프레임명.[열이름][상위인덱스 조건,하위인덱스 조건]"
   ]
  },
  {
   "cell_type": "code",
   "execution_count": null,
   "id": "b9f01e9f",
   "metadata": {},
   "outputs": [],
   "source": [
    "# 이를 데이터프레임으로 보고싶다면 시리즈의 분석결과를 다시 데이터 프레임으로 만들어 볼 수 있다\n",
    "변수 = pd.DataFrame(데이터프레임명['열이름'][상위인덱스 조건, 하위인덱스 조건])"
   ]
  },
  {
   "cell_type": "code",
   "execution_count": null,
   "id": "46ecda94",
   "metadata": {},
   "outputs": [],
   "source": []
  },
  {
   "cell_type": "code",
   "execution_count": null,
   "id": "e6683d5c",
   "metadata": {},
   "outputs": [],
   "source": []
  },
  {
   "cell_type": "code",
   "execution_count": null,
   "id": "15863a44",
   "metadata": {},
   "outputs": [],
   "source": []
  },
  {
   "cell_type": "code",
   "execution_count": null,
   "id": "4af5c26f",
   "metadata": {},
   "outputs": [],
   "source": [
    "# IndexSlice 속성을 사용하면 복합인덱스 차원에 맞게 검색이 가능하다.\n",
    "# 데이터프레임명.loc[pd.IndexSlice[상위인덱스 조건,하위인덱스 조건],pd.IndexSlice[상위열조건,하위열조건]]"
   ]
  }
 ],
 "metadata": {
  "kernelspec": {
   "display_name": "Python 3 (ipykernel)",
   "language": "python",
   "name": "python3"
  },
  "language_info": {
   "codemirror_mode": {
    "name": "ipython",
    "version": 3
   },
   "file_extension": ".py",
   "mimetype": "text/x-python",
   "name": "python",
   "nbconvert_exporter": "python",
   "pygments_lexer": "ipython3",
   "version": "3.9.13"
  }
 },
 "nbformat": 4,
 "nbformat_minor": 5
}
