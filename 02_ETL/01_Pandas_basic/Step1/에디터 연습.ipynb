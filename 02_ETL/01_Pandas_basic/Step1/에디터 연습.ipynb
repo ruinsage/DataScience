{
 "cells": [
  {
   "cell_type": "markdown",
   "id": "175a911a",
   "metadata": {},
   "source": [
    "# 첫번째 에디터 연습"
   ]
  },
  {
   "cell_type": "markdown",
   "id": "5af9f41b",
   "metadata": {},
   "source": [
    "## - 폰트 사이즈 연습"
   ]
  },
  {
   "cell_type": "markdown",
   "id": "50d5f98a",
   "metadata": {},
   "source": [
    "### 작은사이즈"
   ]
  },
  {
   "cell_type": "markdown",
   "id": "6bb9db90",
   "metadata": {},
   "source": [
    "#### 더 작은 사이즈"
   ]
  },
  {
   "cell_type": "code",
   "execution_count": null,
   "id": "0c0e77eb",
   "metadata": {},
   "outputs": [],
   "source": [
    "#코드\n",
    "num1 = 100\n",
    "num2 = 100\n",
    "num1 + num2"
   ]
  },
  {
   "cell_type": "code",
   "execution_count": 2,
   "id": "e60e66b4",
   "metadata": {},
   "outputs": [],
   "source": [
    "my_long_variable = 100"
   ]
  },
  {
   "cell_type": "code",
   "execution_count": null,
   "id": "c8cb8c4d",
   "metadata": {},
   "outputs": [],
   "source": [
    "# 자동완성은 Tab, 단 해당 변수가 실행되어 있어야 한다.\n",
    "print(my_long_variable)\n",
    "\n",
    "#함수 설명은 함수에 커서를 이동하고 Shift + Tab"
   ]
  }
 ],
 "metadata": {
  "kernelspec": {
   "display_name": "Python 3 (ipykernel)",
   "language": "python",
   "name": "python3"
  },
  "language_info": {
   "codemirror_mode": {
    "name": "ipython",
    "version": 3
   },
   "file_extension": ".py",
   "mimetype": "text/x-python",
   "name": "python",
   "nbconvert_exporter": "python",
   "pygments_lexer": "ipython3",
   "version": "3.9.13"
  }
 },
 "nbformat": 4,
 "nbformat_minor": 5
}
