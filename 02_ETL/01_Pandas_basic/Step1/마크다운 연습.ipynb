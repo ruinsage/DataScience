{
 "cells": [
  {
   "cell_type": "markdown",
   "id": "0728a71f",
   "metadata": {},
   "source": [
    "# 제목  크기별 표시"
   ]
  },
  {
   "cell_type": "markdown",
   "id": "f8d29679",
   "metadata": {},
   "source": [
    "## (최대 6단계까지 표시)"
   ]
  },
  {
   "cell_type": "code",
   "execution_count": 3,
   "id": "54be630e",
   "metadata": {},
   "outputs": [],
   "source": [
    "# 첫번째 큰 제목\n",
    "## 두번째 큰 제목\n",
    "### 세번째 큰 제목\n",
    "#### 네번째 큰 제목\n",
    "##### 다섯번째 큰 제목\n",
    "###### 여섯번째 큰 제목"
   ]
  },
  {
   "cell_type": "markdown",
   "id": "33f480e5",
   "metadata": {},
   "source": [
    "# 첫번째 큰 제목\n",
    "## 두번째 큰 제목\n",
    "### 세번째 큰 제목\n",
    "#### 네번째 큰 제목\n",
    "##### 다섯번째 큰 제목\n",
    "###### 여섯번째 큰 제목"
   ]
  },
  {
   "cell_type": "markdown",
   "id": "a0160b05",
   "metadata": {},
   "source": [
    "# 단축키 1~6으로 크기 조정"
   ]
  },
  {
   "cell_type": "markdown",
   "id": "24db51d3",
   "metadata": {},
   "source": [
    "# 이 문장의 크기를 단축키로 바꿔보세요"
   ]
  },
  {
   "cell_type": "markdown",
   "id": "0654cdfc",
   "metadata": {},
   "source": [
    "# 파이썬 Code 입력"
   ]
  },
  {
   "cell_type": "raw",
   "id": "74eca6f5",
   "metadata": {},
   "source": [
    "~~~python\n",
    "파이썬 코드입력\n",
    "~~~"
   ]
  },
  {
   "cell_type": "markdown",
   "id": "08fb1d77",
   "metadata": {},
   "source": [
    "~~~python\n",
    "num1 = 10\n",
    "num2 = 20\n",
    "result = num1 + num2\n",
    "result\n",
    "~~~"
   ]
  },
  {
   "cell_type": "markdown",
   "id": "0faaeac5",
   "metadata": {},
   "source": [
    "# 수평선"
   ]
  },
  {
   "cell_type": "markdown",
   "id": "f6c3570a",
   "metadata": {},
   "source": [
    "***"
   ]
  },
  {
   "cell_type": "markdown",
   "id": "bbc8625f",
   "metadata": {},
   "source": [
    "---"
   ]
  },
  {
   "cell_type": "markdown",
   "id": "ef10e2f2",
   "metadata": {},
   "source": [
    "# 목록"
   ]
  },
  {
   "cell_type": "raw",
   "id": "c715df19",
   "metadata": {},
   "source": [
    "+ 첫번째\n",
    "+ 두번째\n",
    "+ 세번째"
   ]
  },
  {
   "cell_type": "markdown",
   "id": "7cd8b371",
   "metadata": {},
   "source": [
    "+ 첫번째\n",
    "+ 두번째\n",
    "+ 세번째"
   ]
  },
  {
   "cell_type": "raw",
   "id": "72ca006d",
   "metadata": {},
   "source": [
    "- 첫번째\n",
    "- 두번째\n",
    "- 세번째"
   ]
  },
  {
   "cell_type": "markdown",
   "id": "923bc9a9",
   "metadata": {},
   "source": [
    "- 첫번째\n",
    "- 두번째\n",
    "- 세번째"
   ]
  },
  {
   "cell_type": "raw",
   "id": "5c833e7a",
   "metadata": {},
   "source": [
    "* 첫번째\n",
    "* 두번째\n",
    "* 세번째"
   ]
  },
  {
   "cell_type": "markdown",
   "id": "0ecb5efc",
   "metadata": {},
   "source": [
    "* 첫번째\n",
    "* 두번째\n",
    "* 세번째"
   ]
  },
  {
   "cell_type": "markdown",
   "id": "782e12d2",
   "metadata": {},
   "source": [
    "# 블릿 계층화"
   ]
  },
  {
   "cell_type": "raw",
   "id": "ff43341d",
   "metadata": {},
   "source": [
    "+ 첫번째 계층 목록\n",
    "    + 두번째 계층 목록\n",
    "        + 세번째 계층 목록"
   ]
  },
  {
   "cell_type": "markdown",
   "id": "c97bbc8b",
   "metadata": {},
   "source": [
    "+ 첫번째 계층 목록\n",
    "    + 두번째 계층 목록\n",
    "        + 세번째 계층 목록"
   ]
  },
  {
   "cell_type": "raw",
   "id": "a6b11a99",
   "metadata": {},
   "source": [
    "- 첫번째 계층 목록\n",
    "    - 두번째 계층 목록\n",
    "        - 세번째 계층 목록"
   ]
  },
  {
   "cell_type": "markdown",
   "id": "4cfd0272",
   "metadata": {},
   "source": [
    "- 첫번째 계층 목록\n",
    "    - 두번째 계층 목록\n",
    "        - 세번째 계층 목록"
   ]
  },
  {
   "cell_type": "raw",
   "id": "f91191ab",
   "metadata": {},
   "source": [
    "* 첫번째 계층 목록\n",
    "    * 두번째 계층 목록\n",
    "        * 세번째 계층 목록"
   ]
  },
  {
   "cell_type": "markdown",
   "id": "b584dc55",
   "metadata": {},
   "source": [
    "* 첫번째 계층 목록\n",
    "    * 두번째 계층 목록\n",
    "        * 세번째 계층 목록"
   ]
  },
  {
   "cell_type": "markdown",
   "id": "a91cd6a3",
   "metadata": {},
   "source": [
    "# 글씨 효과"
   ]
  },
  {
   "cell_type": "raw",
   "id": "feac5585",
   "metadata": {},
   "source": [
    "*기울어진 글씨*"
   ]
  },
  {
   "cell_type": "raw",
   "id": "774bc3a4",
   "metadata": {},
   "source": [
    "기울어진 글씨"
   ]
  },
  {
   "cell_type": "markdown",
   "id": "05e5c651",
   "metadata": {},
   "source": [
    "*기울어진 글씨*"
   ]
  },
  {
   "cell_type": "raw",
   "id": "485c99c8",
   "metadata": {},
   "source": [
    "_기울어진 글씨_"
   ]
  },
  {
   "cell_type": "markdown",
   "id": "baec756c",
   "metadata": {},
   "source": [
    "_기울어진 글씨_"
   ]
  },
  {
   "cell_type": "raw",
   "id": "2ba40219",
   "metadata": {},
   "source": [
    "**굵은 글씨**"
   ]
  },
  {
   "cell_type": "markdown",
   "id": "fd8043ed",
   "metadata": {},
   "source": [
    "**굵은 글씨**"
   ]
  },
  {
   "cell_type": "raw",
   "id": "1c738d67",
   "metadata": {},
   "source": [
    "__굵은 글씨__"
   ]
  },
  {
   "cell_type": "markdown",
   "id": "bbd63952",
   "metadata": {},
   "source": [
    "__굵은 글씨__"
   ]
  },
  {
   "cell_type": "raw",
   "id": "952dfc06",
   "metadata": {},
   "source": [
    "~~줄그어진 글씨~~"
   ]
  },
  {
   "cell_type": "markdown",
   "id": "b7077972",
   "metadata": {},
   "source": [
    "~~줄그어진 글씨~~"
   ]
  },
  {
   "cell_type": "markdown",
   "id": "de5ba0a7",
   "metadata": {},
   "source": [
    "# 하이퍼링크"
   ]
  },
  {
   "cell_type": "raw",
   "id": "705073a5",
   "metadata": {},
   "source": [
    "[홈페이지이름](URL)\n",
    "예)\n",
    "[네이버](http://naver.com)"
   ]
  },
  {
   "cell_type": "markdown",
   "id": "586136eb",
   "metadata": {},
   "source": [
    "[네이버](http://naver.com)"
   ]
  },
  {
   "cell_type": "markdown",
   "id": "59abc9a7",
   "metadata": {},
   "source": [
    "# 줄바꿈"
   ]
  },
  {
   "cell_type": "markdown",
   "id": "8b977f38",
   "metadata": {},
   "source": [
    "나는 자랑스러운 태극기 앞에\n",
    "조국과 민족의 무궁한 영광을 위해"
   ]
  },
  {
   "cell_type": "raw",
   "id": "62beaadf",
   "metadata": {},
   "source": [
    "나는 자랑스러운 태극기 앞에[공백(Space)문자 2개 입력]\n",
    "조국과 민족의 무궁한 영광을 위해"
   ]
  },
  {
   "cell_type": "markdown",
   "id": "1b8af1a0",
   "metadata": {},
   "source": [
    "나는 자랑스러운 태극기 앞에  \n",
    "조국과 민족의 무궁한 영광을 위해"
   ]
  },
  {
   "cell_type": "markdown",
   "id": "5e0d907c",
   "metadata": {},
   "source": [
    "# 테이블"
   ]
  },
  {
   "cell_type": "raw",
   "id": "4451f78c",
   "metadata": {},
   "source": [
    "|  이름  | 국어성적 | 영어성적 | 수학성적 |\n",
    "|--------|----------|----------|----------|\n",
    "| 홍길동 |    90    |    79    |   100    |\n",
    "| 이순신 |    90    |    79    |    90    |\n",
    "| 임꺽정 |    80    |    79    |    80    |"
   ]
  },
  {
   "cell_type": "markdown",
   "id": "0b12ed65",
   "metadata": {},
   "source": [
    "|  이름  | 국어성적 | 영어성적 | 수학성적 |\n",
    "|--------|----------|----------|----------|\n",
    "| 홍길동 |    90    |    79    |   100    |\n",
    "| 이순신 |    90    |    79    |    90    |\n",
    "| 임꺽정 |    80    |    79    |    80    |"
   ]
  },
  {
   "cell_type": "markdown",
   "id": "f5b0e9e9",
   "metadata": {},
   "source": [
    "# 수식(수학공식) 입력"
   ]
  },
  {
   "cell_type": "markdown",
   "id": "b67396fb",
   "metadata": {},
   "source": [
    "[LaTex 문법](https://ko.wikipedia.org/wiki/%EC%9C%84%ED%82%A4%EB%B0%B1%EA%B3%BC:TeX_%EB%AC%B8%EB%B2%95) 을 따름"
   ]
  },
  {
   "cell_type": "raw",
   "id": "5ad87e30",
   "metadata": {},
   "source": [
    "사용예)\n",
    "$$\\sqrt{x^3+y^3 \\over 2}$$"
   ]
  },
  {
   "cell_type": "markdown",
   "id": "29b51246",
   "metadata": {},
   "source": [
    "$$\\sqrt{x^3+y^3 \\over 2}$$"
   ]
  },
  {
   "cell_type": "markdown",
   "id": "71dba709",
   "metadata": {},
   "source": [
    "# HTML 코드"
   ]
  },
  {
   "cell_type": "markdown",
   "id": "261dd06e",
   "metadata": {},
   "source": [
    "## 글자색상"
   ]
  },
  {
   "cell_type": "raw",
   "id": "20fb6c9b",
   "metadata": {},
   "source": [
    "<span style = \"color:red\">빨간색 글씨</span>"
   ]
  },
  {
   "cell_type": "markdown",
   "id": "f237001a",
   "metadata": {},
   "source": [
    "<span style = \"color:red\">빨간색 글씨</span>  \n",
    "<span style = \"color:blue\">파란색 글씨</span>  \n",
    "<span style = \"color:#f8766d\">색상코드 글씨</span>"
   ]
  },
  {
   "cell_type": "markdown",
   "id": "5833736a",
   "metadata": {},
   "source": [
    "## Table"
   ]
  },
  {
   "cell_type": "raw",
   "id": "dcf99345",
   "metadata": {},
   "source": [
    "<table border = \"\">\n",
    "    <th>이름 </th> <th> 나이 </th>\n",
    "        <tr>\n",
    "            <td> 홍길동 </td>\n",
    "            <td> 28 </td>\n",
    "        </tr>\n",
    "        <tr>\n",
    "            <td> 이순신 </td>\n",
    "            <td> 57 </td>\n",
    "        </tr>\n",
    "</table>"
   ]
  },
  {
   "cell_type": "markdown",
   "id": "90066eb5",
   "metadata": {},
   "source": [
    "<table border = \"\" aling = \"center\">\n",
    "    <th>이름 </th> <th> 나이 </th>\n",
    "        <tr>\n",
    "            <td> 홍길동 </td>\n",
    "            <td> 28 </td>\n",
    "        </tr>\n",
    "        <tr>\n",
    "            <td> 이순신 </td>\n",
    "            <td> 57 </td>\n",
    "        </tr>\n",
    "</table>"
   ]
  },
  {
   "cell_type": "code",
   "execution_count": null,
   "id": "24bf80af",
   "metadata": {},
   "outputs": [],
   "source": []
  }
 ],
 "metadata": {
  "kernelspec": {
   "display_name": "Python 3 (ipykernel)",
   "language": "python",
   "name": "python3"
  },
  "language_info": {
   "codemirror_mode": {
    "name": "ipython",
    "version": 3
   },
   "file_extension": ".py",
   "mimetype": "text/x-python",
   "name": "python",
   "nbconvert_exporter": "python",
   "pygments_lexer": "ipython3",
   "version": "3.9.13"
  }
 },
 "nbformat": 4,
 "nbformat_minor": 5
}
