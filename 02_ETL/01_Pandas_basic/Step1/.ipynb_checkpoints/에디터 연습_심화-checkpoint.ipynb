{
 "cells": [
  {
   "cell_type": "markdown",
   "id": "804d0af8",
   "metadata": {},
   "source": [
    "# 키보드 단축키\n",
    "\n",
    "단축키는 아래 모든에서 각각 다르게 동작한다.\n",
    "* 편집모드\n",
    "* 명령모드"
   ]
  },
  {
   "cell_type": "markdown",
   "id": "68206d30",
   "metadata": {},
   "source": [
    "# 두 모드 모두에서 모두 사용할 수 있는 단축키\n",
    "* Ctrl + Enter : 셀 실행\n",
    "* Shift + Enter : 아래의 셀을 선택하고 셀 실행\n",
    "* Alt + Enter : 셀 실행하고 아래에 새 셀 추가\n",
    "* Ctrl + S : 저장"
   ]
  },
  {
   "cell_type": "code",
   "execution_count": 23,
   "id": "0e7c4c4e",
   "metadata": {},
   "outputs": [],
   "source": [
    "number1 = 10\n",
    "number2 = 20\n",
    "result = number1 + number2"
   ]
  },
  {
   "cell_type": "code",
   "execution_count": 24,
   "id": "0c3c00e8",
   "metadata": {
    "scrolled": false
   },
   "outputs": [
    {
     "data": {
      "text/plain": [
       "30"
      ]
     },
     "execution_count": 24,
     "metadata": {},
     "output_type": "execute_result"
    }
   ],
   "source": [
    "result"
   ]
  },
  {
   "cell_type": "markdown",
   "id": "e5b1d41e",
   "metadata": {},
   "source": [
    "# 편집 모드에서만 사용할 수 있는 키보드 단축키"
   ]
  },
  {
   "cell_type": "markdown",
   "id": "575cbb24",
   "metadata": {},
   "source": [
    "* Esc : 명령모드로 전환  \n",
    "* Ctrl + Shift + - : 셀 분할\n",
    "* Ctrl + z : Undo\n",
    "* Ctrl + / : 주석(Comment) 추가\n",
    "  (멀티라인 주석처리는 블럭을 지정하여 Ctrl + / 입력을 한다."
   ]
  },
  {
   "cell_type": "markdown",
   "id": "59c8a294",
   "metadata": {},
   "source": [
    "## 명령 모드에서만 사용할 수 있는 키보드 단축키\n",
    "* Enter: 편집 모드로 전환\n",
    "* k: 이전 셀 선택\n",
    "* j: 다음 셀 선택\n",
    "* y/m/r:  코드 셀/ 마크다운 셀/ Raw 셀로 타입 전환\n",
    "* a/b : 현재 셀의 위/아래에 새 셀 추가\n",
    "* dd : 현재 셀 삭제\n",
    "* x/c/v : 현재 셀에대한 cut/copy/paste\n",
    "* Shift + m : 아래 셀과 병합\n",
    "* z : 삭제한 셀에대한 복원\n",
    "* f : find and replace\n",
    "* l : 셀의 라인을 Toggle\n",
    "* Shift + l : 전체 셀 라인을 Toggle\n",
    "* o : 셀의 아웃풋을 Toggle\n",
    "* Space : 화면 단위로 스크롤 다운\n",
    "* Shift + Space : 화면 단위로 스크롤 업\n",
    "* h : 키보드 단축키 전체 목록 조회"
   ]
  },
  {
   "cell_type": "code",
   "execution_count": 27,
   "id": "ae7709a4",
   "metadata": {},
   "outputs": [],
   "source": [
    "number1 = 10\n",
    "number2 = 20\n",
    "\n",
    "result = number1 + number2"
   ]
  },
  {
   "cell_type": "code",
   "execution_count": 28,
   "id": "d83a5e7a",
   "metadata": {},
   "outputs": [
    {
     "data": {
      "text/plain": [
       "30"
      ]
     },
     "execution_count": 28,
     "metadata": {},
     "output_type": "execute_result"
    }
   ],
   "source": [
    "result"
   ]
  },
  {
   "cell_type": "code",
   "execution_count": null,
   "id": "6ce9055c",
   "metadata": {},
   "outputs": [],
   "source": []
  }
 ],
 "metadata": {
  "kernelspec": {
   "display_name": "Python 3 (ipykernel)",
   "language": "python",
   "name": "python3"
  },
  "language_info": {
   "codemirror_mode": {
    "name": "ipython",
    "version": 3
   },
   "file_extension": ".py",
   "mimetype": "text/x-python",
   "name": "python",
   "nbconvert_exporter": "python",
   "pygments_lexer": "ipython3",
   "version": "3.9.13"
  }
 },
 "nbformat": 4,
 "nbformat_minor": 5
}
