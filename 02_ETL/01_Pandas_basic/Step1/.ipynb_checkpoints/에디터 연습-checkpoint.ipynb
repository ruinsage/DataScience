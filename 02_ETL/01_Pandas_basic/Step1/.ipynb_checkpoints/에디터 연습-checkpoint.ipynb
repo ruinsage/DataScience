{
 "cells": [
  {
   "cell_type": "markdown",
   "id": "175a911a",
   "metadata": {},
   "source": [
    "# 첫번째 에디터 연습"
   ]
  },
  {
   "cell_type": "markdown",
   "id": "5af9f41b",
   "metadata": {},
   "source": [
    "## - 폰트 사이즈 연습"
   ]
  },
  {
   "cell_type": "markdown",
   "id": "50d5f98a",
   "metadata": {},
   "source": [
    "### 작은사이즈"
   ]
  },
  {
   "cell_type": "markdown",
   "id": "6bb9db90",
   "metadata": {},
   "source": [
    "#### 더 작은 사이즈"
   ]
  },
  {
   "cell_type": "code",
   "execution_count": null,
   "id": "0c0e77eb",
   "metadata": {},
   "outputs": [],
   "source": [
    "#코드\n",
    "num1 = 100\n",
    "num2 = 100\n",
    "num1 + num2"
   ]
  },
  {
   "cell_type": "code",
   "execution_count": 2,
   "id": "e60e66b4",
   "metadata": {},
   "outputs": [],
   "source": [
    "my_long_variable = 100"
   ]
  },
  {
   "cell_type": "code",
   "execution_count": null,
   "id": "c8cb8c4d",
   "metadata": {},
   "outputs": [],
   "source": [
    "# 자동완성은 Tab, 단 해당 변수가 실행되어 있어야 한다.\n",
    "print(my_long_variable)\n",
    "\n",
    "#함수 설명은 함수에 커서를 이동하고 Shift + Tab"
   ]
  },
  {
   "cell_type": "markdown",
   "id": "451305d9",
   "metadata": {},
   "source": [
    "#### 코드 모드 단축키: Y"
   ]
  },
  {
   "cell_type": "markdown",
   "id": "97668be9",
   "metadata": {},
   "source": [
    "#### 마크다운 모드 단축키: M"
   ]
  },
  {
   "cell_type": "markdown",
   "id": "66f89552",
   "metadata": {},
   "source": [
    "#### 로우 모드 단축키: R"
   ]
  },
  {
   "cell_type": "markdown",
   "id": "065c423b",
   "metadata": {},
   "source": [
    "# 제목 크기별 표시"
   ]
  },
  {
   "cell_type": "markdown",
   "id": "b150afd8",
   "metadata": {},
   "source": [
    "## (최대 6단계까지 표시)"
   ]
  },
  {
   "cell_type": "markdown",
   "id": "9003a43d",
   "metadata": {},
   "source": [
    "# 첫번째 큰 제목"
   ]
  },
  {
   "cell_type": "markdown",
   "id": "6d7c6552",
   "metadata": {},
   "source": [
    "## 두번째 큰 제목"
   ]
  },
  {
   "cell_type": "markdown",
   "id": "435e1029",
   "metadata": {},
   "source": [
    "### 세번째 큰 제목"
   ]
  },
  {
   "cell_type": "markdown",
   "id": "a3647a90",
   "metadata": {},
   "source": [
    "#### 네번째 큰 제목"
   ]
  },
  {
   "cell_type": "markdown",
   "id": "e57e6541",
   "metadata": {},
   "source": [
    "##### 다섯번째 큰 제목"
   ]
  },
  {
   "cell_type": "markdown",
   "id": "5273e2f6",
   "metadata": {},
   "source": [
    "###### 여섯번째 큰 제목"
   ]
  },
  {
   "cell_type": "raw",
   "id": "82cfd958",
   "metadata": {},
   "source": [
    "~~~python\n",
    "파이썬 코드\n",
    "~~~"
   ]
  },
  {
   "cell_type": "markdown",
   "id": "3347c0fb",
   "metadata": {},
   "source": [
    "~~~python\n",
    "num1 = 10\n",
    "num2 = 20\n",
    "result = num1 * num2\n",
    "result\n",
    "~~~"
   ]
  },
  {
   "cell_type": "code",
   "execution_count": 6,
   "id": "21d4fba4",
   "metadata": {},
   "outputs": [
    {
     "data": {
      "text/plain": [
       "200"
      ]
     },
     "execution_count": 6,
     "metadata": {},
     "output_type": "execute_result"
    }
   ],
   "source": [
    "num1 = 10\n",
    "num2 = 20\n",
    "result = num1 * num2\n",
    "result"
   ]
  },
  {
   "cell_type": "markdown",
   "id": "1f8c5b48",
   "metadata": {},
   "source": [
    "# 수평선"
   ]
  },
  {
   "cell_type": "markdown",
   "id": "eff8db7e",
   "metadata": {},
   "source": [
    "---"
   ]
  },
  {
   "cell_type": "markdown",
   "id": "aa12340a",
   "metadata": {},
   "source": [
    "***"
   ]
  },
  {
   "cell_type": "markdown",
   "id": "78c6972d",
   "metadata": {},
   "source": [
    "# 목록"
   ]
  },
  {
   "cell_type": "markdown",
   "id": "f5f94955",
   "metadata": {},
   "source": [
    "+ 목록1\n",
    "    + 목록 1-1\n",
    "+ 목록2\n",
    "    + 목록 2-1\n",
    "    + 목록 2-2\n",
    "+ 목록 3\n",
    "    + 목록 3-1\n",
    "        + 목록 3-1-1"
   ]
  },
  {
   "cell_type": "markdown",
   "id": "e5590118",
   "metadata": {},
   "source": [
    "# 글씨효과"
   ]
  },
  {
   "cell_type": "markdown",
   "id": "b26739ce",
   "metadata": {},
   "source": [
    "*기울어진 글씨*"
   ]
  },
  {
   "cell_type": "markdown",
   "id": "b6981b64",
   "metadata": {},
   "source": [
    "__기울어진 글씨__"
   ]
  },
  {
   "cell_type": "markdown",
   "id": "83c14be6",
   "metadata": {},
   "source": [
    "**굵은 글씨**"
   ]
  },
  {
   "cell_type": "markdown",
   "id": "8f7f1f12",
   "metadata": {},
   "source": [
    "__굵은 글씨__"
   ]
  },
  {
   "cell_type": "markdown",
   "id": "7a08f0a1",
   "metadata": {},
   "source": [
    "~~줄그어진 글씨~~"
   ]
  },
  {
   "cell_type": "markdown",
   "id": "3d1ca288",
   "metadata": {},
   "source": [
    "# 하이퍼링크"
   ]
  },
  {
   "cell_type": "markdown",
   "id": "fe987d81",
   "metadata": {},
   "source": [
    "[다음](http://daum.net)"
   ]
  },
  {
   "cell_type": "markdown",
   "id": "5636557e",
   "metadata": {},
   "source": [
    "# 줄바꿈"
   ]
  },
  {
   "cell_type": "markdown",
   "id": "5f908bbf",
   "metadata": {},
   "source": [
    "마크다운 모드에서 줄바꿈을 하려면  \n",
    "공백문자(Space)를 두번 입력하면  \n",
    "줄이 바뀌어 표현된다"
   ]
  },
  {
   "cell_type": "markdown",
   "id": "464732e5",
   "metadata": {},
   "source": [
    "# 테이블"
   ]
  },
  {
   "cell_type": "markdown",
   "id": "048a02b0",
   "metadata": {},
   "source": [
    "| 이름 | 나이 |  ID  |\n",
    "|------|------|------|\n",
    "|이순신|  59  |  lee |\n",
    "|홍길동|  28  | hong |"
   ]
  },
  {
   "cell_type": "markdown",
   "id": "867b5ef2",
   "metadata": {},
   "source": [
    "# HTML 코드"
   ]
  },
  {
   "cell_type": "markdown",
   "id": "323a7661",
   "metadata": {},
   "source": [
    "<table border = \"1\">\n",
    "    <th> 이름 </th> <th> 나이 </th> <th> ID </th>\n",
    "        <tr>\n",
    "            <td> 이순신 </td>\n",
    "            <td> 59 </td>\n",
    "            <td> lee </td>\n",
    "        </tr>\n",
    "        <tr>\n",
    "            <td> 홍길동 </td>\n",
    "            <td> 28 </td>\n",
    "            <td> hong </td>\n",
    "        </tr>\n",
    "        <tr>\n",
    "            <td colspan =\"2\" align=\"center\"> 비고 </td>\n",
    "            <td> 변동없음 </td>\n",
    "        </tr>\n",
    "            "
   ]
  }
 ],
 "metadata": {
  "kernelspec": {
   "display_name": "Python 3 (ipykernel)",
   "language": "python",
   "name": "python3"
  },
  "language_info": {
   "codemirror_mode": {
    "name": "ipython",
    "version": 3
   },
   "file_extension": ".py",
   "mimetype": "text/x-python",
   "name": "python",
   "nbconvert_exporter": "python",
   "pygments_lexer": "ipython3",
   "version": "3.9.13"
  }
 },
 "nbformat": 4,
 "nbformat_minor": 5
}
