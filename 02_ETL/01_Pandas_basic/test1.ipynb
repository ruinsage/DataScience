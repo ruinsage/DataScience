{
 "cells": [
  {
   "cell_type": "code",
   "execution_count": 21,
   "id": "838629b9",
   "metadata": {
    "scrolled": true
   },
   "outputs": [
    {
     "name": "stdout",
     "output_type": "stream",
     "text": [
      "Jupyter 테스트1\n"
     ]
    }
   ],
   "source": [
    "print(\"Jupyter 테스트1\")"
   ]
  },
  {
   "cell_type": "code",
   "execution_count": null,
   "id": "d002945d",
   "metadata": {},
   "outputs": [],
   "source": [
    "print(\"Jupyter 테스트1\")\n",
    "\n",
    "# A키는 현재 셀의 위에 새로운 셀을 삽입한다.\n",
    "print('프로그램 실행 준비')\n",
    "\n",
    "num1 = int(input(\"첫 번째 수를 입력하세요\"))\n",
    "# B키는 현재 셀의 아래에 새로운 셀을 삽입한다.\n",
    "\n",
    "type(num1)"
   ]
  },
  {
   "cell_type": "code",
   "execution_count": 24,
   "id": "9a36d81c",
   "metadata": {
    "scrolled": true
   },
   "outputs": [
    {
     "data": {
      "text/plain": [
       "int"
      ]
     },
     "execution_count": 24,
     "metadata": {},
     "output_type": "execute_result"
    }
   ],
   "source": [
    "type(num1)"
   ]
  },
  {
   "cell_type": "code",
   "execution_count": 25,
   "id": "76f45441",
   "metadata": {},
   "outputs": [
    {
     "name": "stdout",
     "output_type": "stream",
     "text": [
      "두 번째 수를 입력하세요200\n"
     ]
    }
   ],
   "source": [
    "num2 = int(input(\"두 번째 수를 입력하세요\"))"
   ]
  },
  {
   "cell_type": "code",
   "execution_count": 21,
   "id": "b425532c",
   "metadata": {
    "scrolled": true
   },
   "outputs": [
    {
     "name": "stdout",
     "output_type": "stream",
     "text": [
      "Jupyter 테스트1\n"
     ]
    }
   ],
   "source": [
    "print(\"Jupyter 테스트1\")"
   ]
  },
  {
   "cell_type": "code",
   "execution_count": 26,
   "id": "3e5e9326",
   "metadata": {},
   "outputs": [
    {
     "data": {
      "text/plain": [
       "200"
      ]
     },
     "execution_count": 26,
     "metadata": {},
     "output_type": "execute_result"
    }
   ],
   "source": [
    "num2"
   ]
  },
  {
   "cell_type": "code",
   "execution_count": 27,
   "id": "a42e4478",
   "metadata": {},
   "outputs": [
    {
     "data": {
      "text/plain": [
       "300"
      ]
     },
     "execution_count": 27,
     "metadata": {},
     "output_type": "execute_result"
    }
   ],
   "source": [
    "num1+num2"
   ]
  },
  {
   "cell_type": "code",
   "execution_count": 20,
   "id": "920cbedf",
   "metadata": {},
   "outputs": [
    {
     "name": "stdout",
     "output_type": "stream",
     "text": [
      "Jupyter 테스트1\n",
      "프로그램 실행 준비\n",
      "첫 번째 수를 입력하세요100\n",
      "두 번째 수를 입력하세요200\n"
     ]
    },
    {
     "data": {
      "text/plain": [
       "300"
      ]
     },
     "execution_count": 20,
     "metadata": {},
     "output_type": "execute_result"
    }
   ],
   "source": [
    "print(\"Jupyter 테스트1\")\n",
    "# A키는 현재 셀의 위에 새로운 셀을 삽입한다.\n",
    "print('프로그램 실행 준비')\n",
    "\n",
    "num1 = int(input(\"첫 번째 수를 입력하세요\"))\n",
    "# B키는 현재 셀의 아래에 새로운 셀을 삽입한다.\n",
    "num2 = int(input(\"두 번째 수를 입력하세요\"))\n",
    "num1+num2"
   ]
  }
 ],
 "metadata": {
  "kernelspec": {
   "display_name": "Python 3 (ipykernel)",
   "language": "python",
   "name": "python3"
  },
  "language_info": {
   "codemirror_mode": {
    "name": "ipython",
    "version": 3
   },
   "file_extension": ".py",
   "mimetype": "text/x-python",
   "name": "python",
   "nbconvert_exporter": "python",
   "pygments_lexer": "ipython3",
   "version": "3.9.13"
  }
 },
 "nbformat": 4,
 "nbformat_minor": 5
}
