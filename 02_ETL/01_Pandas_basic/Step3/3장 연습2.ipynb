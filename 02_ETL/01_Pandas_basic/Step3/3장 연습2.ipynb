{
 "cells": [
  {
   "cell_type": "code",
   "execution_count": 1,
   "id": "f804df07",
   "metadata": {},
   "outputs": [],
   "source": [
    "import pandas as pd"
   ]
  },
  {
   "cell_type": "markdown",
   "id": "3b58b441",
   "metadata": {},
   "source": [
    "# 예제 3-9 특정 열에대한 정보를 가져오기"
   ]
  },
  {
   "cell_type": "code",
   "execution_count": 2,
   "id": "01fb012c",
   "metadata": {},
   "outputs": [],
   "source": [
    "flight_route_info = pd.read_csv('../data/flight_route_info.csv',encoding='cp949')"
   ]
  },
  {
   "cell_type": "code",
   "execution_count": 3,
   "id": "cd690bd1",
   "metadata": {},
   "outputs": [
    {
     "data": {
      "text/plain": [
       "Index(['노선명', '항공사', '출발지', '출발국', '도착지', '도착국', '검수', '2016.6', '2018.5',\n",
       "       '상태', '비고', '운항 횟수', '운항_2016', '운항_2017', '운항_2018', '운항_2016.12',\n",
       "       '운항_2017.1', '운항_2017.2', '운항_2017.12', '운항_2018.1', '운항_2018.2',\n",
       "       '운항_2016겨울', '운항_2017겨울', '운항_겨울 총합', '운항_2017.3', '운항_2017.4',\n",
       "       '운항_2017.5', '운항_2018.3', '운항_2018.4', '운항_2018.5', '운항_2017봄',\n",
       "       '운항_2018봄', '운항_봄 총합', '운항_2016.6', '운항_2016.7', '운항_2016.8',\n",
       "       '운항_2017.6', '운항_2017.7', '운항_2017.8', '운항_2016여름', '운항_2017여름',\n",
       "       '운항_여름 총합', '운항_2016.9', '운항_2016.10', '운항_2016.11', '운항_2017.9',\n",
       "       '운항_2017.10', '운항_2017.11', '운항_2016가을', '운항_2017가을', '운항_가을 총합', '운송량',\n",
       "       '운송량_2016', '운송량_2017', '운송량_2018', '운송량_2016.12', '운송량_2017.1',\n",
       "       '운송량_2017.2', '운송량_2017.12', '운송량_2018.1', '운송량_2018.2', '운송량_2016겨울',\n",
       "       '운송량_2017겨울', '운송량_겨울 총합', '운송량_2017.3', '운송량_2017.4', '운송량_2017.5',\n",
       "       '운송량_2018.3', '운송량_2018.4', '운송량_2018.5', '운송량_2017봄', '운송량_2018봄',\n",
       "       '운송량_봄총합', '운송량_2016.6', '운송량_2016.7', '운송량_2016.8', '운송량_2017.6',\n",
       "       '운송량_2017.7', '운송량_2017.8', '운송량_2016여름', '운송량_2017여름', '운송량_여름 총합',\n",
       "       '운송량_2016.9', '운송량_2016.10', '운송량_2016.11', '운송량_2017.9', '운송량_2017.10',\n",
       "       '운송량_2017.11', '운송량_2016가을', '운송량_2017가을', '운송량_가을 총합'],\n",
       "      dtype='object')"
      ]
     },
     "execution_count": 3,
     "metadata": {},
     "output_type": "execute_result"
    }
   ],
   "source": [
    "flight_route_info.columns"
   ]
  },
  {
   "cell_type": "code",
   "execution_count": 4,
   "id": "3d4328a5",
   "metadata": {},
   "outputs": [
    {
     "data": {
      "text/html": [
       "<div>\n",
       "<style scoped>\n",
       "    .dataframe tbody tr th:only-of-type {\n",
       "        vertical-align: middle;\n",
       "    }\n",
       "\n",
       "    .dataframe tbody tr th {\n",
       "        vertical-align: top;\n",
       "    }\n",
       "\n",
       "    .dataframe thead th {\n",
       "        text-align: right;\n",
       "    }\n",
       "</style>\n",
       "<table border=\"1\" class=\"dataframe\">\n",
       "  <thead>\n",
       "    <tr style=\"text-align: right;\">\n",
       "      <th></th>\n",
       "      <th>2016.6</th>\n",
       "      <th>운항_2016.6</th>\n",
       "      <th>운송량_2016.6</th>\n",
       "    </tr>\n",
       "  </thead>\n",
       "  <tbody>\n",
       "    <tr>\n",
       "      <th>0</th>\n",
       "      <td>O</td>\n",
       "      <td>4</td>\n",
       "      <td>692</td>\n",
       "    </tr>\n",
       "    <tr>\n",
       "      <th>1</th>\n",
       "      <td>O</td>\n",
       "      <td>4</td>\n",
       "      <td>692</td>\n",
       "    </tr>\n",
       "    <tr>\n",
       "      <th>2</th>\n",
       "      <td>O</td>\n",
       "      <td>4</td>\n",
       "      <td>596</td>\n",
       "    </tr>\n",
       "    <tr>\n",
       "      <th>3</th>\n",
       "      <td>O</td>\n",
       "      <td>0</td>\n",
       "      <td>0</td>\n",
       "    </tr>\n",
       "    <tr>\n",
       "      <th>4</th>\n",
       "      <td>O</td>\n",
       "      <td>5</td>\n",
       "      <td>985</td>\n",
       "    </tr>\n",
       "  </tbody>\n",
       "</table>\n",
       "</div>"
      ],
      "text/plain": [
       "  2016.6  운항_2016.6  운송량_2016.6\n",
       "0      O          4         692\n",
       "1      O          4         692\n",
       "2      O          4         596\n",
       "3      O          0           0\n",
       "4      O          5         985"
      ]
     },
     "execution_count": 4,
     "metadata": {},
     "output_type": "execute_result"
    }
   ],
   "source": [
    "# 열 이름에 특정 값이 있는 열을 filter 함수의 like 인자를 통해 필터링\n",
    "flight_route_info.filter(like = '2016.6').head()"
   ]
  },
  {
   "cell_type": "code",
   "execution_count": 5,
   "id": "0da9f8ae",
   "metadata": {},
   "outputs": [],
   "source": [
    "# 열이름에 숫자가 들어간 열을 필터링\n",
    "flight_regex = flight_route_info.filter(regex = '\\d')"
   ]
  },
  {
   "cell_type": "code",
   "execution_count": 7,
   "id": "a651a79f",
   "metadata": {},
   "outputs": [
    {
     "data": {
      "text/plain": [
       "Index(['2016.6', '2018.5', '운항_2016', '운항_2017', '운항_2018', '운항_2016.12',\n",
       "       '운항_2017.1', '운항_2017.2', '운항_2017.12', '운항_2018.1', '운항_2018.2',\n",
       "       '운항_2016겨울', '운항_2017겨울', '운항_2017.3', '운항_2017.4', '운항_2017.5',\n",
       "       '운항_2018.3', '운항_2018.4', '운항_2018.5', '운항_2017봄', '운항_2018봄',\n",
       "       '운항_2016.6', '운항_2016.7', '운항_2016.8', '운항_2017.6', '운항_2017.7',\n",
       "       '운항_2017.8', '운항_2016여름', '운항_2017여름', '운항_2016.9', '운항_2016.10',\n",
       "       '운항_2016.11', '운항_2017.9', '운항_2017.10', '운항_2017.11', '운항_2016가을',\n",
       "       '운항_2017가을', '운송량_2016', '운송량_2017', '운송량_2018', '운송량_2016.12',\n",
       "       '운송량_2017.1', '운송량_2017.2', '운송량_2017.12', '운송량_2018.1', '운송량_2018.2',\n",
       "       '운송량_2016겨울', '운송량_2017겨울', '운송량_2017.3', '운송량_2017.4', '운송량_2017.5',\n",
       "       '운송량_2018.3', '운송량_2018.4', '운송량_2018.5', '운송량_2017봄', '운송량_2018봄',\n",
       "       '운송량_2016.6', '운송량_2016.7', '운송량_2016.8', '운송량_2017.6', '운송량_2017.7',\n",
       "       '운송량_2017.8', '운송량_2016여름', '운송량_2017여름', '운송량_2016.9', '운송량_2016.10',\n",
       "       '운송량_2016.11', '운송량_2017.9', '운송량_2017.10', '운송량_2017.11', '운송량_2016가을',\n",
       "       '운송량_2017가을'],\n",
       "      dtype='object')"
      ]
     },
     "execution_count": 7,
     "metadata": {},
     "output_type": "execute_result"
    }
   ],
   "source": [
    "flight_regex.columns"
   ]
  },
  {
   "cell_type": "code",
   "execution_count": 8,
   "id": "c8811a2d",
   "metadata": {},
   "outputs": [
    {
     "data": {
      "text/html": [
       "<div>\n",
       "<style scoped>\n",
       "    .dataframe tbody tr th:only-of-type {\n",
       "        vertical-align: middle;\n",
       "    }\n",
       "\n",
       "    .dataframe tbody tr th {\n",
       "        vertical-align: top;\n",
       "    }\n",
       "\n",
       "    .dataframe thead th {\n",
       "        text-align: right;\n",
       "    }\n",
       "</style>\n",
       "<table border=\"1\" class=\"dataframe\">\n",
       "  <thead>\n",
       "    <tr style=\"text-align: right;\">\n",
       "      <th></th>\n",
       "      <th>2018.5</th>\n",
       "      <th>운항_2018</th>\n",
       "      <th>운항_2018.1</th>\n",
       "      <th>운항_2018.2</th>\n",
       "      <th>운항_2018.3</th>\n",
       "      <th>운항_2018.4</th>\n",
       "      <th>운항_2018.5</th>\n",
       "      <th>운항_2018봄</th>\n",
       "      <th>운송량_2018</th>\n",
       "      <th>운송량_2018.1</th>\n",
       "      <th>운송량_2018.2</th>\n",
       "      <th>운송량_2018.3</th>\n",
       "      <th>운송량_2018.4</th>\n",
       "      <th>운송량_2018.5</th>\n",
       "      <th>운송량_2018봄</th>\n",
       "    </tr>\n",
       "  </thead>\n",
       "  <tbody>\n",
       "    <tr>\n",
       "      <th>0</th>\n",
       "      <td>O</td>\n",
       "      <td>22</td>\n",
       "      <td>4</td>\n",
       "      <td>5</td>\n",
       "      <td>5</td>\n",
       "      <td>5</td>\n",
       "      <td>3</td>\n",
       "      <td>13</td>\n",
       "      <td>3578</td>\n",
       "      <td>596</td>\n",
       "      <td>820</td>\n",
       "      <td>970</td>\n",
       "      <td>745</td>\n",
       "      <td>447</td>\n",
       "      <td>2162</td>\n",
       "    </tr>\n",
       "    <tr>\n",
       "      <th>1</th>\n",
       "      <td>O</td>\n",
       "      <td>23</td>\n",
       "      <td>5</td>\n",
       "      <td>4</td>\n",
       "      <td>4</td>\n",
       "      <td>6</td>\n",
       "      <td>4</td>\n",
       "      <td>14</td>\n",
       "      <td>4102</td>\n",
       "      <td>895</td>\n",
       "      <td>896</td>\n",
       "      <td>746</td>\n",
       "      <td>969</td>\n",
       "      <td>596</td>\n",
       "      <td>2311</td>\n",
       "    </tr>\n",
       "    <tr>\n",
       "      <th>2</th>\n",
       "      <td>O</td>\n",
       "      <td>16</td>\n",
       "      <td>4</td>\n",
       "      <td>2</td>\n",
       "      <td>4</td>\n",
       "      <td>4</td>\n",
       "      <td>2</td>\n",
       "      <td>10</td>\n",
       "      <td>2459</td>\n",
       "      <td>596</td>\n",
       "      <td>298</td>\n",
       "      <td>596</td>\n",
       "      <td>596</td>\n",
       "      <td>373</td>\n",
       "      <td>1565</td>\n",
       "    </tr>\n",
       "    <tr>\n",
       "      <th>3</th>\n",
       "      <td>O</td>\n",
       "      <td>9</td>\n",
       "      <td>1</td>\n",
       "      <td>2</td>\n",
       "      <td>2</td>\n",
       "      <td>3</td>\n",
       "      <td>1</td>\n",
       "      <td>6</td>\n",
       "      <td>1341</td>\n",
       "      <td>149</td>\n",
       "      <td>298</td>\n",
       "      <td>298</td>\n",
       "      <td>447</td>\n",
       "      <td>149</td>\n",
       "      <td>894</td>\n",
       "    </tr>\n",
       "    <tr>\n",
       "      <th>4</th>\n",
       "      <td>O</td>\n",
       "      <td>9</td>\n",
       "      <td>1</td>\n",
       "      <td>2</td>\n",
       "      <td>2</td>\n",
       "      <td>2</td>\n",
       "      <td>2</td>\n",
       "      <td>6</td>\n",
       "      <td>1416</td>\n",
       "      <td>149</td>\n",
       "      <td>298</td>\n",
       "      <td>373</td>\n",
       "      <td>298</td>\n",
       "      <td>298</td>\n",
       "      <td>969</td>\n",
       "    </tr>\n",
       "  </tbody>\n",
       "</table>\n",
       "</div>"
      ],
      "text/plain": [
       "  2018.5  운항_2018  운항_2018.1  운항_2018.2  운항_2018.3  운항_2018.4  운항_2018.5  \\\n",
       "0      O       22          4          5          5          5          3   \n",
       "1      O       23          5          4          4          6          4   \n",
       "2      O       16          4          2          4          4          2   \n",
       "3      O        9          1          2          2          3          1   \n",
       "4      O        9          1          2          2          2          2   \n",
       "\n",
       "   운항_2018봄  운송량_2018  운송량_2018.1  운송량_2018.2  운송량_2018.3  운송량_2018.4  \\\n",
       "0        13      3578         596         820         970         745   \n",
       "1        14      4102         895         896         746         969   \n",
       "2        10      2459         596         298         596         596   \n",
       "3         6      1341         149         298         298         447   \n",
       "4         6      1416         149         298         373         298   \n",
       "\n",
       "   운송량_2018.5  운송량_2018봄  \n",
       "0         447       2162  \n",
       "1         596       2311  \n",
       "2         373       1565  \n",
       "3         149        894  \n",
       "4         298        969  "
      ]
     },
     "execution_count": 8,
     "metadata": {},
     "output_type": "execute_result"
    }
   ],
   "source": [
    "flight_route_info.filter(like = '2018').head()"
   ]
  },
  {
   "cell_type": "code",
   "execution_count": null,
   "id": "6b980ae9",
   "metadata": {},
   "outputs": [],
   "source": []
  },
  {
   "cell_type": "markdown",
   "id": "b273097e",
   "metadata": {},
   "source": [
    "# 예제 3-10 결측값을 처리하기"
   ]
  },
  {
   "cell_type": "code",
   "execution_count": 9,
   "id": "7dd97690",
   "metadata": {},
   "outputs": [],
   "source": [
    "import numpy as np"
   ]
  },
  {
   "cell_type": "code",
   "execution_count": 10,
   "id": "839265a0",
   "metadata": {},
   "outputs": [],
   "source": [
    "# nan => 결측값으로 처리한다는 것을 의미 (자바의 null, 파이썬의 None과 같음)\n",
    "s = pd.Series([0, 1, np.nan, 3])"
   ]
  },
  {
   "cell_type": "code",
   "execution_count": 11,
   "id": "ff2a69dd",
   "metadata": {},
   "outputs": [
    {
     "data": {
      "text/plain": [
       "0    0.0\n",
       "1    1.0\n",
       "2    1.0\n",
       "3    3.0\n",
       "dtype: float64"
      ]
     },
     "execution_count": 11,
     "metadata": {},
     "output_type": "execute_result"
    }
   ],
   "source": [
    "# fillna 함수는 결측값(na)를 인수값으로 채우는 함수\n",
    "# method에 ffill(foward fill을 의미함) 또는 pad를 준다면\n",
    "# 결측치가 발생하기 이전의 값으로 대체한다\n",
    "s.fillna(method = 'ffill')"
   ]
  },
  {
   "cell_type": "code",
   "execution_count": 12,
   "id": "f16da3b3",
   "metadata": {},
   "outputs": [
    {
     "data": {
      "text/plain": [
       "0    0.0\n",
       "1    1.0\n",
       "2    1.0\n",
       "3    3.0\n",
       "dtype: float64"
      ]
     },
     "execution_count": 12,
     "metadata": {},
     "output_type": "execute_result"
    }
   ],
   "source": [
    "s.fillna(method = 'pad')"
   ]
  },
  {
   "cell_type": "code",
   "execution_count": 13,
   "id": "7ff30ad7",
   "metadata": {},
   "outputs": [
    {
     "data": {
      "text/plain": [
       "0    0.0\n",
       "1    1.0\n",
       "2    3.0\n",
       "3    3.0\n",
       "dtype: float64"
      ]
     },
     "execution_count": 13,
     "metadata": {},
     "output_type": "execute_result"
    }
   ],
   "source": [
    "# method에 bfill 또는 backfill을 준다면 결측치가 발생한 이후의 값으로 대체한다\n",
    "s.fillna(method = 'bfill')"
   ]
  },
  {
   "cell_type": "code",
   "execution_count": 14,
   "id": "efdf3994",
   "metadata": {},
   "outputs": [
    {
     "data": {
      "text/plain": [
       "0    0.0\n",
       "1    1.0\n",
       "2    3.0\n",
       "3    3.0\n",
       "dtype: float64"
      ]
     },
     "execution_count": 14,
     "metadata": {},
     "output_type": "execute_result"
    }
   ],
   "source": [
    "s.fillna(method = 'backfill')"
   ]
  },
  {
   "cell_type": "code",
   "execution_count": 18,
   "id": "cc23f95d",
   "metadata": {},
   "outputs": [
    {
     "data": {
      "text/plain": [
       "노선명          0\n",
       "항공사          0\n",
       "출발지          0\n",
       "출발국          0\n",
       "도착지          0\n",
       "도착국          0\n",
       "검수           0\n",
       "2016.6       0\n",
       "2018.5       0\n",
       "상태           0\n",
       "비고         412\n",
       "운항 횟수        0\n",
       "운항_2016      0\n",
       "dtype: int64"
      ]
     },
     "execution_count": 18,
     "metadata": {},
     "output_type": "execute_result"
    }
   ],
   "source": [
    "# 전체 열을 대상으로 누락된 값을 집계하려면\n",
    "flight_route_info.isnull().sum().head(13)"
   ]
  },
  {
   "cell_type": "code",
   "execution_count": 20,
   "id": "f9d64b93",
   "metadata": {},
   "outputs": [
    {
     "data": {
      "text/plain": [
       "pandas.core.series.Series"
      ]
     },
     "execution_count": 20,
     "metadata": {},
     "output_type": "execute_result"
    }
   ],
   "source": [
    "# 전체 열을 대상으로 누락된 값들의 타입은 시리즈이다\n",
    "type(flight_route_info.isnull().sum())"
   ]
  },
  {
   "cell_type": "code",
   "execution_count": 21,
   "id": "19be4428",
   "metadata": {},
   "outputs": [
    {
     "data": {
      "text/plain": [
       "412"
      ]
     },
     "execution_count": 21,
     "metadata": {},
     "output_type": "execute_result"
    }
   ],
   "source": [
    "# 그러므로 개별 열의 누락된 값의 총합을 구할 수 있다\n",
    "flight_route_info.isnull().sum().sum()"
   ]
  },
  {
   "cell_type": "code",
   "execution_count": 22,
   "id": "9aa6569c",
   "metadata": {},
   "outputs": [
    {
     "data": {
      "text/plain": [
       "2016.11.05. 이후 폐선       4\n",
       "2018.04.24. 이후 기록 없음    3\n",
       "2017.07 한 달             2\n",
       "2017.10.27. 이후 폐선       2\n",
       "2018.04.26. 이후 기록 없음    2\n",
       "Name: 비고, dtype: int64"
      ]
     },
     "execution_count": 22,
     "metadata": {},
     "output_type": "execute_result"
    }
   ],
   "source": [
    "# 특정 열의 유일 값별 개수\n",
    "flight_route_info['비고'].value_counts().head()"
   ]
  },
  {
   "cell_type": "code",
   "execution_count": 23,
   "id": "6fd532f1",
   "metadata": {},
   "outputs": [
    {
     "data": {
      "text/plain": [
       "NaN                     412\n",
       "2016.11.05. 이후 폐선         4\n",
       "2018.04.24. 이후 기록 없음      3\n",
       "2016.10 한 달 운항            2\n",
       "2017.03.24. 이후 폐선         2\n",
       "Name: 비고, dtype: int64"
      ]
     },
     "execution_count": 23,
     "metadata": {},
     "output_type": "execute_result"
    }
   ],
   "source": [
    "# dropna = False 인자를 설정하게 되면 결측치에대한 집계도 가능하다 (기본은 True)\n",
    "flight_route_info['비고'].value_counts(dropna = False).head()"
   ]
  },
  {
   "cell_type": "code",
   "execution_count": 24,
   "id": "16e70b53",
   "metadata": {},
   "outputs": [
    {
     "data": {
      "text/plain": [
       "dtype('O')"
      ]
     },
     "execution_count": 24,
     "metadata": {},
     "output_type": "execute_result"
    }
   ],
   "source": [
    "flight_route_info['비고'].dtype"
   ]
  },
  {
   "cell_type": "code",
   "execution_count": 25,
   "id": "de290486",
   "metadata": {},
   "outputs": [
    {
     "data": {
      "text/html": [
       "<div>\n",
       "<style scoped>\n",
       "    .dataframe tbody tr th:only-of-type {\n",
       "        vertical-align: middle;\n",
       "    }\n",
       "\n",
       "    .dataframe tbody tr th {\n",
       "        vertical-align: top;\n",
       "    }\n",
       "\n",
       "    .dataframe thead th {\n",
       "        text-align: right;\n",
       "    }\n",
       "</style>\n",
       "<table border=\"1\" class=\"dataframe\">\n",
       "  <thead>\n",
       "    <tr style=\"text-align: right;\">\n",
       "      <th></th>\n",
       "      <th>노선명</th>\n",
       "      <th>항공사</th>\n",
       "      <th>출발지</th>\n",
       "      <th>출발국</th>\n",
       "      <th>도착지</th>\n",
       "      <th>도착국</th>\n",
       "      <th>검수</th>\n",
       "      <th>2016.6</th>\n",
       "      <th>2018.5</th>\n",
       "      <th>상태</th>\n",
       "      <th>...</th>\n",
       "      <th>운송량_여름 총합</th>\n",
       "      <th>운송량_2016.9</th>\n",
       "      <th>운송량_2016.10</th>\n",
       "      <th>운송량_2016.11</th>\n",
       "      <th>운송량_2017.9</th>\n",
       "      <th>운송량_2017.10</th>\n",
       "      <th>운송량_2017.11</th>\n",
       "      <th>운송량_2016가을</th>\n",
       "      <th>운송량_2017가을</th>\n",
       "      <th>운송량_가을 총합</th>\n",
       "    </tr>\n",
       "  </thead>\n",
       "  <tbody>\n",
       "    <tr>\n",
       "      <th>0</th>\n",
       "      <td>7J105</td>\n",
       "      <td>Tajik Air</td>\n",
       "      <td>DYU</td>\n",
       "      <td>TJK</td>\n",
       "      <td>IKA</td>\n",
       "      <td>IRI</td>\n",
       "      <td>O</td>\n",
       "      <td>O</td>\n",
       "      <td>O</td>\n",
       "      <td>완료</td>\n",
       "      <td>...</td>\n",
       "      <td>4258</td>\n",
       "      <td>842</td>\n",
       "      <td>985</td>\n",
       "      <td>596</td>\n",
       "      <td>746</td>\n",
       "      <td>597</td>\n",
       "      <td>448</td>\n",
       "      <td>2423</td>\n",
       "      <td>1791</td>\n",
       "      <td>4214</td>\n",
       "    </tr>\n",
       "    <tr>\n",
       "      <th>1</th>\n",
       "      <td>7J117</td>\n",
       "      <td>Tajik Air</td>\n",
       "      <td>DYU</td>\n",
       "      <td>TJK</td>\n",
       "      <td>DEL</td>\n",
       "      <td>IND</td>\n",
       "      <td>O</td>\n",
       "      <td>O</td>\n",
       "      <td>O</td>\n",
       "      <td>완료</td>\n",
       "      <td>...</td>\n",
       "      <td>3440</td>\n",
       "      <td>794</td>\n",
       "      <td>815</td>\n",
       "      <td>990</td>\n",
       "      <td>224</td>\n",
       "      <td>0</td>\n",
       "      <td>0</td>\n",
       "      <td>2599</td>\n",
       "      <td>224</td>\n",
       "      <td>2823</td>\n",
       "    </tr>\n",
       "    <tr>\n",
       "      <th>2</th>\n",
       "      <td>7J4801</td>\n",
       "      <td>Tajik Air</td>\n",
       "      <td>DYU</td>\n",
       "      <td>TJK</td>\n",
       "      <td>SVX</td>\n",
       "      <td>RUS</td>\n",
       "      <td>O</td>\n",
       "      <td>O</td>\n",
       "      <td>O</td>\n",
       "      <td>완료</td>\n",
       "      <td>...</td>\n",
       "      <td>3949</td>\n",
       "      <td>970</td>\n",
       "      <td>896</td>\n",
       "      <td>596</td>\n",
       "      <td>745</td>\n",
       "      <td>448</td>\n",
       "      <td>448</td>\n",
       "      <td>2462</td>\n",
       "      <td>1641</td>\n",
       "      <td>4103</td>\n",
       "    </tr>\n",
       "    <tr>\n",
       "      <th>3</th>\n",
       "      <td>7J4805</td>\n",
       "      <td>Tajik Air</td>\n",
       "      <td>DYU</td>\n",
       "      <td>TJK</td>\n",
       "      <td>SGC</td>\n",
       "      <td>RUS</td>\n",
       "      <td>O</td>\n",
       "      <td>O</td>\n",
       "      <td>O</td>\n",
       "      <td>완료</td>\n",
       "      <td>...</td>\n",
       "      <td>0</td>\n",
       "      <td>0</td>\n",
       "      <td>0</td>\n",
       "      <td>298</td>\n",
       "      <td>0</td>\n",
       "      <td>0</td>\n",
       "      <td>0</td>\n",
       "      <td>298</td>\n",
       "      <td>0</td>\n",
       "      <td>298</td>\n",
       "    </tr>\n",
       "    <tr>\n",
       "      <th>4</th>\n",
       "      <td>7J4849</td>\n",
       "      <td>Tajik Air</td>\n",
       "      <td>DYU</td>\n",
       "      <td>TJK</td>\n",
       "      <td>FRU</td>\n",
       "      <td>KGZ</td>\n",
       "      <td>O</td>\n",
       "      <td>O</td>\n",
       "      <td>O</td>\n",
       "      <td>완료</td>\n",
       "      <td>...</td>\n",
       "      <td>3604</td>\n",
       "      <td>767</td>\n",
       "      <td>788</td>\n",
       "      <td>596</td>\n",
       "      <td>298</td>\n",
       "      <td>0</td>\n",
       "      <td>0</td>\n",
       "      <td>2151</td>\n",
       "      <td>298</td>\n",
       "      <td>2449</td>\n",
       "    </tr>\n",
       "  </tbody>\n",
       "</table>\n",
       "<p>5 rows × 91 columns</p>\n",
       "</div>"
      ],
      "text/plain": [
       "      노선명        항공사  출발지  출발국  도착지  도착국 검수 2016.6 2018.5  상태  ... 운송량_여름 총합  \\\n",
       "0   7J105  Tajik Air  DYU  TJK  IKA  IRI  O      O      O  완료  ...      4258   \n",
       "1   7J117  Tajik Air  DYU  TJK  DEL  IND  O      O      O  완료  ...      3440   \n",
       "2  7J4801  Tajik Air  DYU  TJK  SVX  RUS  O      O      O  완료  ...      3949   \n",
       "3  7J4805  Tajik Air  DYU  TJK  SGC  RUS  O      O      O  완료  ...         0   \n",
       "4  7J4849  Tajik Air  DYU  TJK  FRU  KGZ  O      O      O  완료  ...      3604   \n",
       "\n",
       "   운송량_2016.9  운송량_2016.10  운송량_2016.11  운송량_2017.9  운송량_2017.10  운송량_2017.11  \\\n",
       "0         842          985          596         746          597          448   \n",
       "1         794          815          990         224            0            0   \n",
       "2         970          896          596         745          448          448   \n",
       "3           0            0          298           0            0            0   \n",
       "4         767          788          596         298            0            0   \n",
       "\n",
       "   운송량_2016가을  운송량_2017가을  운송량_가을 총합  \n",
       "0        2423        1791       4214  \n",
       "1        2599         224       2823  \n",
       "2        2462        1641       4103  \n",
       "3         298           0        298  \n",
       "4        2151         298       2449  \n",
       "\n",
       "[5 rows x 91 columns]"
      ]
     },
     "execution_count": 25,
     "metadata": {},
     "output_type": "execute_result"
    }
   ],
   "source": [
    "flight_route_info.head()"
   ]
  },
  {
   "cell_type": "code",
   "execution_count": 26,
   "id": "ca24d54b",
   "metadata": {},
   "outputs": [],
   "source": [
    "# 결측치 데이터를 무시해도 될 경우, 임의의 값으로 채운다.\n",
    "flight_route_info.fillna(\" \",inplace = True)"
   ]
  },
  {
   "cell_type": "code",
   "execution_count": 32,
   "id": "fa67606e",
   "metadata": {},
   "outputs": [
    {
     "data": {
      "text/plain": [
       "0"
      ]
     },
     "execution_count": 32,
     "metadata": {},
     "output_type": "execute_result"
    }
   ],
   "source": [
    "flight_route_info.isnull().sum().sum()"
   ]
  },
  {
   "cell_type": "code",
   "execution_count": 33,
   "id": "c8254199",
   "metadata": {},
   "outputs": [
    {
     "data": {
      "text/plain": [
       "                        412\n",
       "2016.11.05. 이후 폐선         4\n",
       "2018.04.24. 이후 기록 없음      3\n",
       "2016.10 한 달 운항            2\n",
       "2017.03.24. 이후 폐선         2\n",
       "Name: 비고, dtype: int64"
      ]
     },
     "execution_count": 33,
     "metadata": {},
     "output_type": "execute_result"
    }
   ],
   "source": [
    "# 공백이 412건\n",
    "flight_route_info['비고'].value_counts(dropna = False).head()"
   ]
  },
  {
   "cell_type": "code",
   "execution_count": 34,
   "id": "1d2584d0",
   "metadata": {},
   "outputs": [],
   "source": [
    "flight_route_info_2 = pd.read_csv('../data/flight_route_info.csv',encoding='cp949')"
   ]
  },
  {
   "cell_type": "code",
   "execution_count": 35,
   "id": "5d9549cc",
   "metadata": {},
   "outputs": [
    {
     "data": {
      "text/plain": [
       "NaN                     412\n",
       "2016.11.05. 이후 폐선         4\n",
       "2018.04.24. 이후 기록 없음      3\n",
       "2016.10 한 달 운항            2\n",
       "2017.03.24. 이후 폐선         2\n",
       "Name: 비고, dtype: int64"
      ]
     },
     "execution_count": 35,
     "metadata": {},
     "output_type": "execute_result"
    }
   ],
   "source": [
    "# 결측치가 412건\n",
    "flight_route_info_2['비고'].value_counts(dropna = False).head()"
   ]
  },
  {
   "cell_type": "code",
   "execution_count": 37,
   "id": "ee710375",
   "metadata": {
    "scrolled": true
   },
   "outputs": [],
   "source": [
    "# 결측치를 ''로 처리\n",
    "# NaN, ' ', ''의 차이는? (아래 예 참고)\n",
    "flight_route_info_3 = flight_route_info_2.select_dtypes(['object']).fillna('')"
   ]
  },
  {
   "cell_type": "code",
   "execution_count": 39,
   "id": "c6a9340c",
   "metadata": {},
   "outputs": [
    {
     "data": {
      "text/plain": [
       "                        412\n",
       "2016.11.05. 이후 폐선         4\n",
       "2018.04.24. 이후 기록 없음      3\n",
       "2016.10 한 달 운항            2\n",
       "2017.03.24. 이후 폐선         2\n",
       "Name: 비고, dtype: int64"
      ]
     },
     "execution_count": 39,
     "metadata": {},
     "output_type": "execute_result"
    }
   ],
   "source": [
    "flight_route_info_3['비고'].value_counts(dropna =False).head()"
   ]
  },
  {
   "cell_type": "code",
   "execution_count": 40,
   "id": "25cb4e00",
   "metadata": {},
   "outputs": [
    {
     "data": {
      "text/plain": [
       "('magic key 1', None, nan, ' ', '')"
      ]
     },
     "execution_count": 40,
     "metadata": {},
     "output_type": "execute_result"
    }
   ],
   "source": [
    "import numpy as np\n",
    "data1 = 'magic key 1'\n",
    "data2 = None\n",
    "data3 = np.nan\n",
    "data4 = ' '\n",
    "data5 = ''\n",
    "data1,data2,data3,data4,data5"
   ]
  },
  {
   "cell_type": "code",
   "execution_count": null,
   "id": "bcfa6eb1",
   "metadata": {},
   "outputs": [],
   "source": []
  }
 ],
 "metadata": {
  "kernelspec": {
   "display_name": "Python 3 (ipykernel)",
   "language": "python",
   "name": "python3"
  },
  "language_info": {
   "codemirror_mode": {
    "name": "ipython",
    "version": 3
   },
   "file_extension": ".py",
   "mimetype": "text/x-python",
   "name": "python",
   "nbconvert_exporter": "python",
   "pygments_lexer": "ipython3",
   "version": "3.9.13"
  }
 },
 "nbformat": 4,
 "nbformat_minor": 5
}
