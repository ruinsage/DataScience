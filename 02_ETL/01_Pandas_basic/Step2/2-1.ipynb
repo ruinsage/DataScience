{
 "cells": [
  {
   "cell_type": "code",
   "execution_count": 2,
   "id": "4fe64cba",
   "metadata": {},
   "outputs": [],
   "source": [
    "import pandas as pd"
   ]
  },
  {
   "cell_type": "markdown",
   "id": "5636eecf",
   "metadata": {},
   "source": [
    "## 예제 2-1 시리즈 멤버 알아보기"
   ]
  },
  {
   "cell_type": "code",
   "execution_count": 3,
   "id": "2928e38e",
   "metadata": {},
   "outputs": [],
   "source": [
    "sr = pd.Series([1,2,3,4],index = list('abcd'),name = 'SR1')"
   ]
  },
  {
   "cell_type": "code",
   "execution_count": 4,
   "id": "f14a7443",
   "metadata": {},
   "outputs": [
    {
     "data": {
      "text/plain": [
       "a    1\n",
       "b    2\n",
       "c    3\n",
       "d    4\n",
       "Name: SR1, dtype: int64"
      ]
     },
     "execution_count": 4,
     "metadata": {},
     "output_type": "execute_result"
    }
   ],
   "source": [
    "sr"
   ]
  },
  {
   "cell_type": "code",
   "execution_count": 5,
   "id": "d6404de0",
   "metadata": {},
   "outputs": [
    {
     "data": {
      "text/plain": [
       "'SR1'"
      ]
     },
     "execution_count": 5,
     "metadata": {},
     "output_type": "execute_result"
    }
   ],
   "source": [
    "sr.name"
   ]
  },
  {
   "cell_type": "code",
   "execution_count": 6,
   "id": "f589a3c3",
   "metadata": {},
   "outputs": [
    {
     "data": {
      "text/plain": [
       "dtype('int64')"
      ]
     },
     "execution_count": 6,
     "metadata": {},
     "output_type": "execute_result"
    }
   ],
   "source": [
    "# sr 시리즈의 모든 데이터가 int형이므로 dtype은 int64\n",
    "#숫자: int64\n",
    "#실수: float64\n",
    "#문자열: object\n",
    "sr.dtype"
   ]
  },
  {
   "cell_type": "code",
   "execution_count": 9,
   "id": "e8556acd",
   "metadata": {},
   "outputs": [
    {
     "data": {
      "text/plain": [
       "(4,)"
      ]
     },
     "execution_count": 9,
     "metadata": {},
     "output_type": "execute_result"
    }
   ],
   "source": [
    "#shape는 시리즈의 데이터를 ('행숫자','열숫자')로 보여준다\n",
    "sr.shape"
   ]
  },
  {
   "cell_type": "code",
   "execution_count": 10,
   "id": "14587015",
   "metadata": {},
   "outputs": [
    {
     "data": {
      "text/plain": [
       "1"
      ]
     },
     "execution_count": 10,
     "metadata": {},
     "output_type": "execute_result"
    }
   ],
   "source": [
    "# ndim는 시리즈가 몇차원 데이터인지 보여준다 (n차원 데이터)\n",
    "sr.ndim"
   ]
  },
  {
   "cell_type": "code",
   "execution_count": 11,
   "id": "f4cd7b04",
   "metadata": {},
   "outputs": [
    {
     "data": {
      "text/plain": [
       "4"
      ]
     },
     "execution_count": 11,
     "metadata": {},
     "output_type": "execute_result"
    }
   ],
   "source": [
    "# size는 시리즈의 길이를 보여준다\n",
    "sr.size"
   ]
  },
  {
   "cell_type": "code",
   "execution_count": 14,
   "id": "f1d6971b",
   "metadata": {
    "scrolled": true
   },
   "outputs": [
    {
     "data": {
      "text/plain": [
       "Index(['a', 'b', 'c', 'd'], dtype='object')"
      ]
     },
     "execution_count": 14,
     "metadata": {},
     "output_type": "execute_result"
    }
   ],
   "source": [
    "# index는 행의 인덱스를 보여준다\n",
    "sr.index"
   ]
  }
 ],
 "metadata": {
  "kernelspec": {
   "display_name": "Python 3 (ipykernel)",
   "language": "python",
   "name": "python3"
  },
  "language_info": {
   "codemirror_mode": {
    "name": "ipython",
    "version": 3
   },
   "file_extension": ".py",
   "mimetype": "text/x-python",
   "name": "python",
   "nbconvert_exporter": "python",
   "pygments_lexer": "ipython3",
   "version": "3.9.13"
  }
 },
 "nbformat": 4,
 "nbformat_minor": 5
}
