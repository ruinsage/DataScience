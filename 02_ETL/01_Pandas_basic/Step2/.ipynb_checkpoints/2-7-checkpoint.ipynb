{
 "cells": [
  {
   "cell_type": "code",
   "execution_count": 1,
   "id": "0fc681d9",
   "metadata": {},
   "outputs": [],
   "source": [
    "import pandas as pd"
   ]
  },
  {
   "cell_type": "markdown",
   "id": "4fee2320",
   "metadata": {},
   "source": [
    "## 예제 2-7 : 넘파이 모듈 이용해서 생성하기"
   ]
  },
  {
   "cell_type": "code",
   "execution_count": 2,
   "id": "4809e144",
   "metadata": {},
   "outputs": [],
   "source": [
    "import numpy as np"
   ]
  },
  {
   "cell_type": "code",
   "execution_count": 3,
   "id": "2581583b",
   "metadata": {},
   "outputs": [],
   "source": [
    "# randn 메서드는 표준 정규분포 확률을 따르는 난수를 리턴한다\n",
    "# 표준 정규분포란 평균을 0, 표준편차가 1인 정규분포를 의미한다"
   ]
  },
  {
   "cell_type": "code",
   "execution_count": 4,
   "id": "81e4a50c",
   "metadata": {},
   "outputs": [],
   "source": [
    "s = pd.Series(np.random.randn(5))"
   ]
  },
  {
   "cell_type": "code",
   "execution_count": 5,
   "id": "1f666cfa",
   "metadata": {},
   "outputs": [
    {
     "data": {
      "text/plain": [
       "0    1.525188\n",
       "1    0.839485\n",
       "2   -0.637630\n",
       "3    1.719423\n",
       "4    1.898564\n",
       "dtype: float64"
      ]
     },
     "execution_count": 5,
     "metadata": {},
     "output_type": "execute_result"
    }
   ],
   "source": [
    "s"
   ]
  },
  {
   "cell_type": "code",
   "execution_count": null,
   "id": "b9ec5509",
   "metadata": {},
   "outputs": [],
   "source": []
  }
 ],
 "metadata": {
  "kernelspec": {
   "display_name": "Python 3 (ipykernel)",
   "language": "python",
   "name": "python3"
  },
  "language_info": {
   "codemirror_mode": {
    "name": "ipython",
    "version": 3
   },
   "file_extension": ".py",
   "mimetype": "text/x-python",
   "name": "python",
   "nbconvert_exporter": "python",
   "pygments_lexer": "ipython3",
   "version": "3.9.13"
  }
 },
 "nbformat": 4,
 "nbformat_minor": 5
}
