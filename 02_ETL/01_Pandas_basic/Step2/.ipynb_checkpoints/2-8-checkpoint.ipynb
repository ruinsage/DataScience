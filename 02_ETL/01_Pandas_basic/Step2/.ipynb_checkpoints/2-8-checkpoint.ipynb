{
 "cells": [
  {
   "cell_type": "code",
   "execution_count": 1,
   "id": "7ad3a706",
   "metadata": {},
   "outputs": [],
   "source": [
    "import pandas as pd"
   ]
  },
  {
   "cell_type": "markdown",
   "id": "302b47de",
   "metadata": {},
   "source": [
    "## 예제 2-8 : 시리즈의 기본 속성 알아보기"
   ]
  },
  {
   "cell_type": "code",
   "execution_count": 2,
   "id": "b5632912",
   "metadata": {},
   "outputs": [],
   "source": [
    "obj = pd.Series([1,2,3,4],name = 'obj')"
   ]
  },
  {
   "cell_type": "code",
   "execution_count": 8,
   "id": "88752c8b",
   "metadata": {},
   "outputs": [
    {
     "data": {
      "text/plain": [
       "((4,), 1)"
      ]
     },
     "execution_count": 8,
     "metadata": {},
     "output_type": "execute_result"
    }
   ],
   "source": [
    "obj.shape, obj.ndim"
   ]
  },
  {
   "cell_type": "code",
   "execution_count": 3,
   "id": "77124676",
   "metadata": {},
   "outputs": [
    {
     "data": {
      "text/plain": [
       "0    1\n",
       "1    2\n",
       "2    3\n",
       "3    4\n",
       "Name: obj, dtype: int64"
      ]
     },
     "execution_count": 3,
     "metadata": {},
     "output_type": "execute_result"
    }
   ],
   "source": [
    "obj"
   ]
  },
  {
   "cell_type": "code",
   "execution_count": 4,
   "id": "350afc2a",
   "metadata": {},
   "outputs": [
    {
     "data": {
      "text/plain": [
       "array([1, 2, 3, 4], dtype=int64)"
      ]
     },
     "execution_count": 4,
     "metadata": {},
     "output_type": "execute_result"
    }
   ],
   "source": [
    "obj.values"
   ]
  },
  {
   "cell_type": "code",
   "execution_count": 5,
   "id": "bc4e2ed7",
   "metadata": {},
   "outputs": [
    {
     "data": {
      "text/plain": [
       "(dtype('int64'), 32)"
      ]
     },
     "execution_count": 5,
     "metadata": {},
     "output_type": "execute_result"
    }
   ],
   "source": [
    "obj.dtype, obj.nbytes"
   ]
  },
  {
   "cell_type": "code",
   "execution_count": 6,
   "id": "1b470622",
   "metadata": {},
   "outputs": [
    {
     "name": "stderr",
     "output_type": "stream",
     "text": [
      "C:\\Users\\tj\\AppData\\Local\\Temp\\ipykernel_11644\\2444424739.py:1: FutureWarning: The default dtype for empty Series will be 'object' instead of 'float64' in a future version. Specify a dtype explicitly to silence this warning.\n",
      "  obj_emp = pd.Series()\n"
     ]
    }
   ],
   "source": [
    "# 과거에는 값을 채우지 않은 시리즈를 만들 수 있었음\n",
    "# 앞으로는 빈 시리즈를 생성할 수 없을 듯\n",
    "obj_emp = pd.Series()"
   ]
  },
  {
   "cell_type": "code",
   "execution_count": 7,
   "id": "c45fcc9e",
   "metadata": {},
   "outputs": [
    {
     "data": {
      "text/plain": [
       "True"
      ]
     },
     "execution_count": 7,
     "metadata": {},
     "output_type": "execute_result"
    }
   ],
   "source": [
    "obj_emp.empty"
   ]
  },
  {
   "cell_type": "code",
   "execution_count": null,
   "id": "d660f41a",
   "metadata": {},
   "outputs": [],
   "source": []
  }
 ],
 "metadata": {
  "kernelspec": {
   "display_name": "Python 3 (ipykernel)",
   "language": "python",
   "name": "python3"
  },
  "language_info": {
   "codemirror_mode": {
    "name": "ipython",
    "version": 3
   },
   "file_extension": ".py",
   "mimetype": "text/x-python",
   "name": "python",
   "nbconvert_exporter": "python",
   "pygments_lexer": "ipython3",
   "version": "3.9.13"
  }
 },
 "nbformat": 4,
 "nbformat_minor": 5
}
