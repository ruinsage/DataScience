{
 "cells": [
  {
   "cell_type": "code",
   "execution_count": 12,
   "id": "936c32e7",
   "metadata": {},
   "outputs": [],
   "source": [
    "import pandas as pd"
   ]
  },
  {
   "cell_type": "markdown",
   "id": "128476d1",
   "metadata": {},
   "source": [
    "## 예제 2-4 파일에 저장된 멤버 정보를 읽어와서 확인하기"
   ]
  },
  {
   "cell_type": "code",
   "execution_count": 13,
   "id": "946562ae",
   "metadata": {},
   "outputs": [],
   "source": [
    "df_f = pd.read_csv('../data/series_dataframe.csv',usecols=['Member','Series','DataFrame'],encoding = 'euc-kr')"
   ]
  },
  {
   "cell_type": "code",
   "execution_count": 14,
   "id": "630c004e",
   "metadata": {},
   "outputs": [
    {
     "data": {
      "text/html": [
       "<div>\n",
       "<style scoped>\n",
       "    .dataframe tbody tr th:only-of-type {\n",
       "        vertical-align: middle;\n",
       "    }\n",
       "\n",
       "    .dataframe tbody tr th {\n",
       "        vertical-align: top;\n",
       "    }\n",
       "\n",
       "    .dataframe thead th {\n",
       "        text-align: right;\n",
       "    }\n",
       "</style>\n",
       "<table border=\"1\" class=\"dataframe\">\n",
       "  <thead>\n",
       "    <tr style=\"text-align: right;\">\n",
       "      <th></th>\n",
       "      <th>Member</th>\n",
       "      <th>Series</th>\n",
       "      <th>DataFrame</th>\n",
       "    </tr>\n",
       "  </thead>\n",
       "  <tbody>\n",
       "    <tr>\n",
       "      <th>0</th>\n",
       "      <td>T</td>\n",
       "      <td>T</td>\n",
       "      <td>T</td>\n",
       "    </tr>\n",
       "    <tr>\n",
       "      <th>1</th>\n",
       "      <td>abs</td>\n",
       "      <td>abs</td>\n",
       "      <td>abs</td>\n",
       "    </tr>\n",
       "    <tr>\n",
       "      <th>2</th>\n",
       "      <td>add</td>\n",
       "      <td>add</td>\n",
       "      <td>add</td>\n",
       "    </tr>\n",
       "    <tr>\n",
       "      <th>3</th>\n",
       "      <td>add_prefix</td>\n",
       "      <td>add_prefix</td>\n",
       "      <td>add_prefix</td>\n",
       "    </tr>\n",
       "    <tr>\n",
       "      <th>4</th>\n",
       "      <td>add_suffix</td>\n",
       "      <td>add_suffix</td>\n",
       "      <td>add_suffix</td>\n",
       "    </tr>\n",
       "  </tbody>\n",
       "</table>\n",
       "</div>"
      ],
      "text/plain": [
       "       Member      Series   DataFrame\n",
       "0           T           T           T\n",
       "1         abs         abs         abs\n",
       "2         add         add         add\n",
       "3  add_prefix  add_prefix  add_prefix\n",
       "4  add_suffix  add_suffix  add_suffix"
      ]
     },
     "execution_count": 14,
     "metadata": {},
     "output_type": "execute_result"
    }
   ],
   "source": [
    "df_f.head()"
   ]
  },
  {
   "cell_type": "code",
   "execution_count": 15,
   "id": "50ede4a4",
   "metadata": {},
   "outputs": [
    {
     "data": {
      "text/plain": [
       "(264, 3)"
      ]
     },
     "execution_count": 15,
     "metadata": {},
     "output_type": "execute_result"
    }
   ],
   "source": [
    "# 1행을 헤더로 사용하였기 때문에 전체 데이터는 헤더를 제외한 264가 된다.\n",
    "df_f.shape"
   ]
  },
  {
   "cell_type": "code",
   "execution_count": 16,
   "id": "5915f639",
   "metadata": {},
   "outputs": [
    {
     "data": {
      "text/plain": [
       "0             T\n",
       "1           abs\n",
       "2           add\n",
       "3    add_prefix\n",
       "4    add_suffix\n",
       "Name: Series, dtype: object"
      ]
     },
     "execution_count": 16,
     "metadata": {},
     "output_type": "execute_result"
    }
   ],
   "source": [
    "df_f['Series'].head()"
   ]
  },
  {
   "cell_type": "code",
   "execution_count": 17,
   "id": "694c4188",
   "metadata": {},
   "outputs": [
    {
     "data": {
      "text/plain": [
       "29"
      ]
     },
     "execution_count": 17,
     "metadata": {},
     "output_type": "execute_result"
    }
   ],
   "source": [
    "# Series 열에 데이터가 없는 셀의 총합\n",
    "df_f['Series'].isnull().sum()"
   ]
  },
  {
   "cell_type": "code",
   "execution_count": 18,
   "id": "7f16089e",
   "metadata": {},
   "outputs": [
    {
     "data": {
      "text/plain": [
       "0              T\n",
       "1            abs\n",
       "2            add\n",
       "3     add_prefix\n",
       "4     add_suffix\n",
       "5            agg\n",
       "6      aggregate\n",
       "7          align\n",
       "8            all\n",
       "9            any\n",
       "10        append\n",
       "11         apply\n",
       "12           NaN\n",
       "13        argmax\n",
       "14        argmin\n",
       "Name: Series, dtype: object"
      ]
     },
     "execution_count": 18,
     "metadata": {},
     "output_type": "execute_result"
    }
   ],
   "source": [
    "df_f['Series'].head(15)"
   ]
  },
  {
   "cell_type": "code",
   "execution_count": 19,
   "id": "aa049900",
   "metadata": {},
   "outputs": [
    {
     "data": {
      "text/plain": [
       "41"
      ]
     },
     "execution_count": 19,
     "metadata": {},
     "output_type": "execute_result"
    }
   ],
   "source": [
    "# isnull() 결측치를 찾는 함수\n",
    "# 결측치 : 데이터가 없는(정의되지 않는) 값\n",
    "df_f['DataFrame'].isnull().sum()"
   ]
  },
  {
   "cell_type": "code",
   "execution_count": 20,
   "id": "1f129152",
   "metadata": {},
   "outputs": [
    {
     "data": {
      "text/plain": [
       "0    True\n",
       "1    True\n",
       "2    True\n",
       "3    True\n",
       "4    True\n",
       "dtype: bool"
      ]
     },
     "execution_count": 20,
     "metadata": {},
     "output_type": "execute_result"
    }
   ],
   "source": [
    "(df_f['Member'] == df_f['Series']).head()"
   ]
  },
  {
   "cell_type": "code",
   "execution_count": null,
   "id": "cdf04a57",
   "metadata": {},
   "outputs": [],
   "source": []
  }
 ],
 "metadata": {
  "kernelspec": {
   "display_name": "Python 3 (ipykernel)",
   "language": "python",
   "name": "python3"
  },
  "language_info": {
   "codemirror_mode": {
    "name": "ipython",
    "version": 3
   },
   "file_extension": ".py",
   "mimetype": "text/x-python",
   "name": "python",
   "nbconvert_exporter": "python",
   "pygments_lexer": "ipython3",
   "version": "3.9.13"
  }
 },
 "nbformat": 4,
 "nbformat_minor": 5
}
