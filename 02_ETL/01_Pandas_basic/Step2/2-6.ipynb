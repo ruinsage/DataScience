{
 "cells": [
  {
   "cell_type": "code",
   "execution_count": 2,
   "id": "77fe9df7",
   "metadata": {},
   "outputs": [],
   "source": [
    "import pandas as pd"
   ]
  },
  {
   "cell_type": "markdown",
   "id": "0c58ea4c",
   "metadata": {},
   "source": [
    "## 예제 2-6 : 딕셔너리로 시리즈 생성"
   ]
  },
  {
   "cell_type": "code",
   "execution_count": 3,
   "id": "c5786c4c",
   "metadata": {},
   "outputs": [],
   "source": [
    "d = {'a':1,'b':2,'c':3}"
   ]
  },
  {
   "cell_type": "code",
   "execution_count": 4,
   "id": "3de8ed2c",
   "metadata": {},
   "outputs": [],
   "source": [
    "ser = pd.Series(d,name = 'something')"
   ]
  },
  {
   "cell_type": "code",
   "execution_count": 5,
   "id": "f2b48d55",
   "metadata": {},
   "outputs": [
    {
     "data": {
      "text/plain": [
       "a    1\n",
       "b    2\n",
       "c    3\n",
       "Name: something, dtype: int64"
      ]
     },
     "execution_count": 5,
     "metadata": {},
     "output_type": "execute_result"
    }
   ],
   "source": [
    "# 판다스에서는 딕셔너리 데이터를 키는 인덱스, 값은 데이터로 표시한다\n",
    "ser"
   ]
  },
  {
   "cell_type": "code",
   "execution_count": 6,
   "id": "ba002e55",
   "metadata": {},
   "outputs": [],
   "source": [
    "index = ['a','b','c']"
   ]
  },
  {
   "cell_type": "code",
   "execution_count": 7,
   "id": "578917b7",
   "metadata": {},
   "outputs": [],
   "source": [
    "obj1 = pd.Series([1,2,3],index = index,name = \"test\")"
   ]
  },
  {
   "cell_type": "code",
   "execution_count": 8,
   "id": "d2c6979c",
   "metadata": {},
   "outputs": [
    {
     "data": {
      "text/plain": [
       "a    1\n",
       "b    2\n",
       "c    3\n",
       "Name: test, dtype: int64"
      ]
     },
     "execution_count": 8,
     "metadata": {},
     "output_type": "execute_result"
    }
   ],
   "source": [
    "obj1"
   ]
  },
  {
   "cell_type": "code",
   "execution_count": 9,
   "id": "eba33def",
   "metadata": {},
   "outputs": [],
   "source": [
    "d2 = {'200523039':'이순신','200523040':'정약용','200523041':'홍길동'}"
   ]
  },
  {
   "cell_type": "code",
   "execution_count": 23,
   "id": "516372d8",
   "metadata": {},
   "outputs": [],
   "source": [
    "ser2 = pd.Series(d2,name = '학생')"
   ]
  },
  {
   "cell_type": "code",
   "execution_count": 34,
   "id": "d44a1f3f",
   "metadata": {
    "scrolled": true
   },
   "outputs": [
    {
     "data": {
      "text/plain": [
       "200523039    이순신\n",
       "200523040    정약용\n",
       "200523041    홍길동\n",
       "Name: 학생, dtype: object"
      ]
     },
     "execution_count": 34,
     "metadata": {},
     "output_type": "execute_result"
    }
   ],
   "source": [
    "ser2"
   ]
  },
  {
   "cell_type": "code",
   "execution_count": 35,
   "id": "e33135d0",
   "metadata": {},
   "outputs": [],
   "source": [
    "d3 = {'200523036':'임꺽정','200523037':'강감찬','200523038':'이이'}"
   ]
  },
  {
   "cell_type": "code",
   "execution_count": 36,
   "id": "6cec5bd2",
   "metadata": {},
   "outputs": [],
   "source": [
    "ser3 = pd.Series(d3,name = '학생')"
   ]
  },
  {
   "cell_type": "code",
   "execution_count": 41,
   "id": "5ea15fd3",
   "metadata": {},
   "outputs": [
    {
     "data": {
      "text/plain": [
       "200523036    임꺽정\n",
       "200523037    강감찬\n",
       "200523038     이이\n",
       "Name: 학생, dtype: object"
      ]
     },
     "execution_count": 41,
     "metadata": {},
     "output_type": "execute_result"
    }
   ],
   "source": [
    "ser3"
   ]
  }
 ],
 "metadata": {
  "kernelspec": {
   "display_name": "Python 3 (ipykernel)",
   "language": "python",
   "name": "python3"
  },
  "language_info": {
   "codemirror_mode": {
    "name": "ipython",
    "version": 3
   },
   "file_extension": ".py",
   "mimetype": "text/x-python",
   "name": "python",
   "nbconvert_exporter": "python",
   "pygments_lexer": "ipython3",
   "version": "3.9.13"
  }
 },
 "nbformat": 4,
 "nbformat_minor": 5
}
