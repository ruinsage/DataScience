{
 "cells": [
  {
   "cell_type": "markdown",
   "id": "5d7d204a",
   "metadata": {},
   "source": [
    "### 문제1: 회원의 정보를 가진 2차원 배열 만들기"
   ]
  },
  {
   "cell_type": "code",
   "execution_count": 23,
   "id": "f9f852e7",
   "metadata": {},
   "outputs": [
    {
     "data": {
      "text/html": [
       "<div>\n",
       "<style scoped>\n",
       "    .dataframe tbody tr th:only-of-type {\n",
       "        vertical-align: middle;\n",
       "    }\n",
       "\n",
       "    .dataframe tbody tr th {\n",
       "        vertical-align: top;\n",
       "    }\n",
       "\n",
       "    .dataframe thead th {\n",
       "        text-align: right;\n",
       "    }\n",
       "</style>\n",
       "<table border=\"1\" class=\"dataframe\">\n",
       "  <thead>\n",
       "    <tr style=\"text-align: right;\">\n",
       "      <th></th>\n",
       "      <th>아이디</th>\n",
       "      <th>이름</th>\n",
       "      <th>주소</th>\n",
       "    </tr>\n",
       "  </thead>\n",
       "  <tbody>\n",
       "    <tr>\n",
       "      <th>0</th>\n",
       "      <td>red</td>\n",
       "      <td>김레드</td>\n",
       "      <td>서울</td>\n",
       "    </tr>\n",
       "    <tr>\n",
       "      <th>1</th>\n",
       "      <td>orange</td>\n",
       "      <td>오렌지</td>\n",
       "      <td>제주</td>\n",
       "    </tr>\n",
       "    <tr>\n",
       "      <th>2</th>\n",
       "      <td>blue</td>\n",
       "      <td>이블루</td>\n",
       "      <td>울산</td>\n",
       "    </tr>\n",
       "  </tbody>\n",
       "</table>\n",
       "</div>"
      ],
      "text/plain": [
       "      아이디   이름  주소\n",
       "0     red  김레드  서울\n",
       "1  orange  오렌지  제주\n",
       "2    blue  이블루  울산"
      ]
     },
     "execution_count": 23,
     "metadata": {},
     "output_type": "execute_result"
    }
   ],
   "source": [
    "import pandas as pd\n",
    "\n",
    "member_data = [\n",
    "    ['red','김레드','서울'],\n",
    "    ['orange','오렌지','제주'],\n",
    "    ['blue','이블루','울산']\n",
    "]\n",
    "member_df = pd.DataFrame(member_data, \n",
    "                         columns=['아이디','이름','주소'])\n",
    "member_df"
   ]
  },
  {
   "cell_type": "markdown",
   "id": "4a53d6ef",
   "metadata": {},
   "source": [
    "### 문제2 : 회원의 이름 목록 출력하기"
   ]
  },
  {
   "cell_type": "code",
   "execution_count": 5,
   "id": "a97de665",
   "metadata": {},
   "outputs": [
    {
     "data": {
      "text/plain": [
       "0    김레드\n",
       "1    오렌지\n",
       "2    이블루\n",
       "Name: 이름, dtype: object"
      ]
     },
     "execution_count": 5,
     "metadata": {},
     "output_type": "execute_result"
    }
   ],
   "source": [
    "# 코드\n",
    "member_df['이름']"
   ]
  }
 ],
 "metadata": {
  "kernelspec": {
   "display_name": "Python 3 (ipykernel)",
   "language": "python",
   "name": "python3"
  },
  "language_info": {
   "codemirror_mode": {
    "name": "ipython",
    "version": 3
   },
   "file_extension": ".py",
   "mimetype": "text/x-python",
   "name": "python",
   "nbconvert_exporter": "python",
   "pygments_lexer": "ipython3",
   "version": "3.9.13"
  }
 },
 "nbformat": 4,
 "nbformat_minor": 5
}
