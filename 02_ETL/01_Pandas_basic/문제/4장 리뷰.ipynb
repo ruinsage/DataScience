{
 "cells": [
  {
   "cell_type": "code",
   "execution_count": 7,
   "id": "bcda3e39",
   "metadata": {},
   "outputs": [],
   "source": [
    "import pandas as pd"
   ]
  },
  {
   "cell_type": "code",
   "execution_count": 4,
   "id": "015bdfb1",
   "metadata": {},
   "outputs": [],
   "source": [
    "# 서로다른 시리즈를 생성하여 두 시리즈를 더해라 이 때 시리즈는 정렬하여 더하시오\n",
    "# 단 시리즈의 변수명은 각 각 s1,s2로 정하고, s1의 index는 a,c,d,e | s2의 index는 c,e,a,d\n",
    "# 로 정하고 값은 arange 4 만큼 주시오"
   ]
  },
  {
   "cell_type": "code",
   "execution_count": 8,
   "id": "20ba2e79",
   "metadata": {},
   "outputs": [],
   "source": [
    "import numpy as np"
   ]
  },
  {
   "cell_type": "code",
   "execution_count": 26,
   "id": "116205b8",
   "metadata": {},
   "outputs": [],
   "source": [
    "s1 = pd.Series(index=list('acde'), data=np.arange(4))"
   ]
  },
  {
   "cell_type": "code",
   "execution_count": 27,
   "id": "c24fbd96",
   "metadata": {},
   "outputs": [
    {
     "data": {
      "text/plain": [
       "a    0\n",
       "c    1\n",
       "d    2\n",
       "e    3\n",
       "dtype: int32"
      ]
     },
     "execution_count": 27,
     "metadata": {},
     "output_type": "execute_result"
    }
   ],
   "source": [
    "s1"
   ]
  },
  {
   "cell_type": "code",
   "execution_count": 28,
   "id": "e3e766c5",
   "metadata": {},
   "outputs": [],
   "source": [
    "s2=pd.Series(index=list('cead'), data=np.arange(4))"
   ]
  },
  {
   "cell_type": "code",
   "execution_count": 29,
   "id": "650c2a07",
   "metadata": {},
   "outputs": [
    {
     "data": {
      "text/plain": [
       "c    0\n",
       "e    1\n",
       "a    2\n",
       "d    3\n",
       "dtype: int32"
      ]
     },
     "execution_count": 29,
     "metadata": {},
     "output_type": "execute_result"
    }
   ],
   "source": [
    "s2"
   ]
  },
  {
   "cell_type": "code",
   "execution_count": 30,
   "id": "62d07507",
   "metadata": {},
   "outputs": [
    {
     "data": {
      "text/plain": [
       "a    2\n",
       "c    1\n",
       "d    5\n",
       "e    4\n",
       "dtype: int32"
      ]
     },
     "execution_count": 30,
     "metadata": {},
     "output_type": "execute_result"
    }
   ],
   "source": [
    "s1.sort_index().add(s2.sort_index())"
   ]
  }
 ],
 "metadata": {
  "kernelspec": {
   "display_name": "Python 3 (ipykernel)",
   "language": "python",
   "name": "python3"
  },
  "language_info": {
   "codemirror_mode": {
    "name": "ipython",
    "version": 3
   },
   "file_extension": ".py",
   "mimetype": "text/x-python",
   "name": "python",
   "nbconvert_exporter": "python",
   "pygments_lexer": "ipython3",
   "version": "3.9.13"
  }
 },
 "nbformat": 4,
 "nbformat_minor": 5
}
