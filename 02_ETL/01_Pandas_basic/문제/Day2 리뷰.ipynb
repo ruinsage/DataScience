{
 "cells": [
  {
   "cell_type": "markdown",
   "id": "f0379f13",
   "metadata": {},
   "source": [
    "# 문제1"
   ]
  },
  {
   "cell_type": "code",
   "execution_count": 2,
   "id": "aef2b75a",
   "metadata": {},
   "outputs": [],
   "source": [
    "import pandas as pd"
   ]
  },
  {
   "cell_type": "code",
   "execution_count": 3,
   "id": "8b82c620",
   "metadata": {},
   "outputs": [],
   "source": [
    "# 1. market이라는 파일을 열고, 첫번째 열을 고정해라\n",
    "# 2. market의 총 행과 열을 구해라\n",
    "# 3. market의 '10월 가격'만 나타내라\n",
    "# 4. 가격이 500원 이상 감소된 행을 나타내라\n",
    "# 5. 가격이 500원 초가된 값만을 나타내라\n",
    "# 6. 품종 열의 모든값을 나타내라"
   ]
  },
  {
   "cell_type": "code",
   "execution_count": 36,
   "id": "97ae1469",
   "metadata": {},
   "outputs": [],
   "source": [
    "market = pd.read_csv(\"../data/market.csv\", encoding='euc-kr').dropna(axis=1)"
   ]
  },
  {
   "cell_type": "code",
   "execution_count": 37,
   "id": "a0125098",
   "metadata": {},
   "outputs": [
    {
     "data": {
      "text/html": [
       "<div>\n",
       "<style scoped>\n",
       "    .dataframe tbody tr th:only-of-type {\n",
       "        vertical-align: middle;\n",
       "    }\n",
       "\n",
       "    .dataframe tbody tr th {\n",
       "        vertical-align: top;\n",
       "    }\n",
       "\n",
       "    .dataframe thead th {\n",
       "        text-align: right;\n",
       "    }\n",
       "</style>\n",
       "<table border=\"1\" class=\"dataframe\">\n",
       "  <thead>\n",
       "    <tr style=\"text-align: right;\">\n",
       "      <th></th>\n",
       "      <th>품  종</th>\n",
       "      <th>품   목</th>\n",
       "      <th>단 위</th>\n",
       "      <th>10월 가격</th>\n",
       "      <th>9월 가격</th>\n",
       "      <th>증가</th>\n",
       "      <th>감소</th>\n",
       "      <th>등록기준일</th>\n",
       "    </tr>\n",
       "  </thead>\n",
       "  <tbody>\n",
       "    <tr>\n",
       "      <th>0</th>\n",
       "      <td>곡물류</td>\n",
       "      <td>쌀</td>\n",
       "      <td>1포</td>\n",
       "      <td>39000</td>\n",
       "      <td>38000</td>\n",
       "      <td>1000</td>\n",
       "      <td>0</td>\n",
       "      <td>2022-11-08</td>\n",
       "    </tr>\n",
       "    <tr>\n",
       "      <th>1</th>\n",
       "      <td>곡물류</td>\n",
       "      <td>보리쌀</td>\n",
       "      <td>1kg</td>\n",
       "      <td>2500</td>\n",
       "      <td>3000</td>\n",
       "      <td>0</td>\n",
       "      <td>500</td>\n",
       "      <td>2022-11-08</td>\n",
       "    </tr>\n",
       "    <tr>\n",
       "      <th>2</th>\n",
       "      <td>곡물류</td>\n",
       "      <td>찹   쌀</td>\n",
       "      <td>1kg</td>\n",
       "      <td>3000</td>\n",
       "      <td>3000</td>\n",
       "      <td>0</td>\n",
       "      <td>0</td>\n",
       "      <td>2022-11-08</td>\n",
       "    </tr>\n",
       "    <tr>\n",
       "      <th>3</th>\n",
       "      <td>육란류</td>\n",
       "      <td>달   걀</td>\n",
       "      <td>10개</td>\n",
       "      <td>2500</td>\n",
       "      <td>2500</td>\n",
       "      <td>0</td>\n",
       "      <td>0</td>\n",
       "      <td>2022-11-08</td>\n",
       "    </tr>\n",
       "    <tr>\n",
       "      <th>4</th>\n",
       "      <td>육란류</td>\n",
       "      <td>닭고기</td>\n",
       "      <td>1마리</td>\n",
       "      <td>6500</td>\n",
       "      <td>5700</td>\n",
       "      <td>800</td>\n",
       "      <td>0</td>\n",
       "      <td>2022-11-08</td>\n",
       "    </tr>\n",
       "  </tbody>\n",
       "</table>\n",
       "</div>"
      ],
      "text/plain": [
       "  품  종  품   목  단 위  10월 가격  9월 가격    증가   감소       등록기준일\n",
       "0  곡물류      쌀   1포   39000  38000  1000    0  2022-11-08\n",
       "1  곡물류    보리쌀  1kg    2500   3000     0  500  2022-11-08\n",
       "2  곡물류  찹   쌀  1kg    3000   3000     0    0  2022-11-08\n",
       "3  육란류  달   걀  10개    2500   2500     0    0  2022-11-08\n",
       "4  육란류    닭고기  1마리    6500   5700   800    0  2022-11-08"
      ]
     },
     "execution_count": 37,
     "metadata": {},
     "output_type": "execute_result"
    }
   ],
   "source": [
    "market.head()"
   ]
  },
  {
   "cell_type": "code",
   "execution_count": 32,
   "id": "abeaf2d2",
   "metadata": {},
   "outputs": [
    {
     "data": {
      "text/plain": [
       "(34, 8)"
      ]
     },
     "execution_count": 32,
     "metadata": {},
     "output_type": "execute_result"
    }
   ],
   "source": [
    "market.shape"
   ]
  },
  {
   "cell_type": "code",
   "execution_count": 38,
   "id": "101cbe8c",
   "metadata": {},
   "outputs": [
    {
     "data": {
      "text/plain": [
       "0     39000\n",
       "1      2500\n",
       "2      3000\n",
       "3      2500\n",
       "4      6500\n",
       "5     60000\n",
       "6      3500\n",
       "7      5000\n",
       "8     40000\n",
       "9      5000\n",
       "10    11000\n",
       "11     6000\n",
       "12     8000\n",
       "13     4000\n",
       "14     1500\n",
       "15     4000\n",
       "16     1500\n",
       "17     1000\n",
       "18     1000\n",
       "19     5000\n",
       "20     3000\n",
       "21     4000\n",
       "22     1500\n",
       "23     4000\n",
       "24     4000\n",
       "25      700\n",
       "26    13000\n",
       "27     5000\n",
       "28     7000\n",
       "29     8000\n",
       "30     4000\n",
       "31     5000\n",
       "32     5000\n",
       "33     7000\n",
       "Name: 10월 가격, dtype: int64"
      ]
     },
     "execution_count": 38,
     "metadata": {},
     "output_type": "execute_result"
    }
   ],
   "source": [
    "market['10월 가격']"
   ]
  },
  {
   "cell_type": "code",
   "execution_count": 42,
   "id": "b57b5980",
   "metadata": {},
   "outputs": [
    {
     "data": {
      "text/plain": [
       "0     False\n",
       "1      True\n",
       "2     False\n",
       "3     False\n",
       "4     False\n",
       "5     False\n",
       "6     False\n",
       "7     False\n",
       "8     False\n",
       "9     False\n",
       "10    False\n",
       "11    False\n",
       "12     True\n",
       "13    False\n",
       "14    False\n",
       "15     True\n",
       "16    False\n",
       "17    False\n",
       "18     True\n",
       "19    False\n",
       "20    False\n",
       "21    False\n",
       "22    False\n",
       "23    False\n",
       "24    False\n",
       "25    False\n",
       "26    False\n",
       "27    False\n",
       "28    False\n",
       "29    False\n",
       "30    False\n",
       "31    False\n",
       "32    False\n",
       "33    False\n",
       "Name: 감소, dtype: bool"
      ]
     },
     "execution_count": 42,
     "metadata": {},
     "output_type": "execute_result"
    }
   ],
   "source": [
    "(market['감소'] >= 500)"
   ]
  },
  {
   "cell_type": "code",
   "execution_count": 41,
   "id": "3dcdd81b",
   "metadata": {},
   "outputs": [
    {
     "data": {
      "text/html": [
       "<div>\n",
       "<style scoped>\n",
       "    .dataframe tbody tr th:only-of-type {\n",
       "        vertical-align: middle;\n",
       "    }\n",
       "\n",
       "    .dataframe tbody tr th {\n",
       "        vertical-align: top;\n",
       "    }\n",
       "\n",
       "    .dataframe thead th {\n",
       "        text-align: right;\n",
       "    }\n",
       "</style>\n",
       "<table border=\"1\" class=\"dataframe\">\n",
       "  <thead>\n",
       "    <tr style=\"text-align: right;\">\n",
       "      <th></th>\n",
       "      <th>품  종</th>\n",
       "      <th>품   목</th>\n",
       "      <th>단 위</th>\n",
       "      <th>10월 가격</th>\n",
       "      <th>9월 가격</th>\n",
       "      <th>증가</th>\n",
       "      <th>감소</th>\n",
       "      <th>등록기준일</th>\n",
       "    </tr>\n",
       "  </thead>\n",
       "  <tbody>\n",
       "    <tr>\n",
       "      <th>0</th>\n",
       "      <td>곡물류</td>\n",
       "      <td>쌀</td>\n",
       "      <td>1포</td>\n",
       "      <td>39000</td>\n",
       "      <td>38000</td>\n",
       "      <td>1000</td>\n",
       "      <td>0</td>\n",
       "      <td>2022-11-08</td>\n",
       "    </tr>\n",
       "    <tr>\n",
       "      <th>4</th>\n",
       "      <td>육란류</td>\n",
       "      <td>닭고기</td>\n",
       "      <td>1마리</td>\n",
       "      <td>6500</td>\n",
       "      <td>5700</td>\n",
       "      <td>800</td>\n",
       "      <td>0</td>\n",
       "      <td>2022-11-08</td>\n",
       "    </tr>\n",
       "    <tr>\n",
       "      <th>7</th>\n",
       "      <td>채소등</td>\n",
       "      <td>고구마</td>\n",
       "      <td>1kg</td>\n",
       "      <td>5000</td>\n",
       "      <td>4000</td>\n",
       "      <td>1000</td>\n",
       "      <td>0</td>\n",
       "      <td>2022-11-08</td>\n",
       "    </tr>\n",
       "    <tr>\n",
       "      <th>11</th>\n",
       "      <td>채소등</td>\n",
       "      <td>무</td>\n",
       "      <td>1개</td>\n",
       "      <td>6000</td>\n",
       "      <td>5000</td>\n",
       "      <td>1000</td>\n",
       "      <td>0</td>\n",
       "      <td>2022-11-08</td>\n",
       "    </tr>\n",
       "    <tr>\n",
       "      <th>13</th>\n",
       "      <td>채소등</td>\n",
       "      <td>버   섯</td>\n",
       "      <td>100g</td>\n",
       "      <td>4000</td>\n",
       "      <td>2500</td>\n",
       "      <td>1500</td>\n",
       "      <td>0</td>\n",
       "      <td>2022-11-08</td>\n",
       "    </tr>\n",
       "    <tr>\n",
       "      <th>24</th>\n",
       "      <td>과일류</td>\n",
       "      <td>사   과</td>\n",
       "      <td>1개</td>\n",
       "      <td>4000</td>\n",
       "      <td>3000</td>\n",
       "      <td>1000</td>\n",
       "      <td>0</td>\n",
       "      <td>2022-11-08</td>\n",
       "    </tr>\n",
       "    <tr>\n",
       "      <th>26</th>\n",
       "      <td>수산물</td>\n",
       "      <td>갈   치</td>\n",
       "      <td>1마리</td>\n",
       "      <td>13000</td>\n",
       "      <td>10000</td>\n",
       "      <td>3000</td>\n",
       "      <td>0</td>\n",
       "      <td>2022-11-08</td>\n",
       "    </tr>\n",
       "  </tbody>\n",
       "</table>\n",
       "</div>"
      ],
      "text/plain": [
       "   품  종  품   목   단 위  10월 가격  9월 가격    증가  감소       등록기준일\n",
       "0   곡물류      쌀    1포   39000  38000  1000   0  2022-11-08\n",
       "4   육란류    닭고기   1마리    6500   5700   800   0  2022-11-08\n",
       "7   채소등    고구마   1kg    5000   4000  1000   0  2022-11-08\n",
       "11  채소등      무    1개    6000   5000  1000   0  2022-11-08\n",
       "13  채소등  버   섯  100g    4000   2500  1500   0  2022-11-08\n",
       "24  과일류  사   과    1개    4000   3000  1000   0  2022-11-08\n",
       "26  수산물  갈   치   1마리   13000  10000  3000   0  2022-11-08"
      ]
     },
     "execution_count": 41,
     "metadata": {},
     "output_type": "execute_result"
    }
   ],
   "source": [
    "market[market['증가'] > 500]"
   ]
  },
  {
   "cell_type": "code",
   "execution_count": 56,
   "id": "a104d827",
   "metadata": {},
   "outputs": [
    {
     "data": {
      "text/plain": [
       "0     곡물류\n",
       "1     곡물류\n",
       "2     곡물류\n",
       "3     육란류\n",
       "4     육란류\n",
       "5     육란류\n",
       "6     채소등\n",
       "7     채소등\n",
       "8     채소등\n",
       "9     채소등\n",
       "10    채소등\n",
       "11    채소등\n",
       "12    채소등\n",
       "13    채소등\n",
       "14    채소등\n",
       "15    채소등\n",
       "16    채소등\n",
       "17    채소등\n",
       "18    채소등\n",
       "19    채소등\n",
       "20    채소등\n",
       "21    채소등\n",
       "22    채소등\n",
       "23    과일류\n",
       "24    과일류\n",
       "25    과일류\n",
       "26    수산물\n",
       "27    수산물\n",
       "28    수산물\n",
       "29    수산물\n",
       "30    수산물\n",
       "31    수산물\n",
       "32    수산물\n",
       "33    수산물\n",
       "Name: 품  종, dtype: object"
      ]
     },
     "execution_count": 56,
     "metadata": {},
     "output_type": "execute_result"
    }
   ],
   "source": [
    "market.xs(\"품  종\",1)"
   ]
  }
 ],
 "metadata": {
  "kernelspec": {
   "display_name": "Python 3 (ipykernel)",
   "language": "python",
   "name": "python3"
  },
  "language_info": {
   "codemirror_mode": {
    "name": "ipython",
    "version": 3
   },
   "file_extension": ".py",
   "mimetype": "text/x-python",
   "name": "python",
   "nbconvert_exporter": "python",
   "pygments_lexer": "ipython3",
   "version": "3.9.13"
  }
 },
 "nbformat": 4,
 "nbformat_minor": 5
}
