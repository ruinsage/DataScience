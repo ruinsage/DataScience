{
 "cells": [
  {
   "cell_type": "markdown",
   "id": "4a53d6ef",
   "metadata": {},
   "source": [
    "# 문제1"
   ]
  },
  {
   "cell_type": "markdown",
   "id": "dd7ffaf8",
   "metadata": {},
   "source": [
    "학생 A,B,C 의 국어, 영어, 수학 점수를 DataFrame으로 만드세요.\n",
    "\n",
    "A : 국어(80), 영어(90), 수학(100)\n",
    "B : 국어(90), 영어(80), 수학(80)\n",
    "C : 국어(100), 영어(70), 수학(80)"
   ]
  },
  {
   "cell_type": "code",
   "execution_count": 1,
   "id": "a97de665",
   "metadata": {},
   "outputs": [],
   "source": [
    "# 코드\n",
    "import pandas as pd"
   ]
  },
  {
   "cell_type": "code",
   "execution_count": 2,
   "id": "0f67c57e",
   "metadata": {},
   "outputs": [
    {
     "data": {
      "text/html": [
       "<div>\n",
       "<style scoped>\n",
       "    .dataframe tbody tr th:only-of-type {\n",
       "        vertical-align: middle;\n",
       "    }\n",
       "\n",
       "    .dataframe tbody tr th {\n",
       "        vertical-align: top;\n",
       "    }\n",
       "\n",
       "    .dataframe thead th {\n",
       "        text-align: right;\n",
       "    }\n",
       "</style>\n",
       "<table border=\"1\" class=\"dataframe\">\n",
       "  <thead>\n",
       "    <tr style=\"text-align: right;\">\n",
       "      <th></th>\n",
       "      <th>국어</th>\n",
       "      <th>영어</th>\n",
       "      <th>수학</th>\n",
       "    </tr>\n",
       "  </thead>\n",
       "  <tbody>\n",
       "    <tr>\n",
       "      <th>A</th>\n",
       "      <td>80</td>\n",
       "      <td>90</td>\n",
       "      <td>100</td>\n",
       "    </tr>\n",
       "    <tr>\n",
       "      <th>B</th>\n",
       "      <td>90</td>\n",
       "      <td>80</td>\n",
       "      <td>80</td>\n",
       "    </tr>\n",
       "    <tr>\n",
       "      <th>C</th>\n",
       "      <td>100</td>\n",
       "      <td>70</td>\n",
       "      <td>80</td>\n",
       "    </tr>\n",
       "  </tbody>\n",
       "</table>\n",
       "</div>"
      ],
      "text/plain": [
       "    국어  영어   수학\n",
       "A   80  90  100\n",
       "B   90  80   80\n",
       "C  100  70   80"
      ]
     },
     "execution_count": 2,
     "metadata": {},
     "output_type": "execute_result"
    }
   ],
   "source": [
    "score = pd.DataFrame([[80,90,100],[90,80,80],[100,70,80]],\n",
    "                    index = ['A','B','C'],\n",
    "                    columns = ['국어','영어','수학'])\n",
    "score"
   ]
  },
  {
   "cell_type": "markdown",
   "id": "ad67f84e",
   "metadata": {},
   "source": [
    "# 문제2"
   ]
  },
  {
   "cell_type": "markdown",
   "id": "a8920488",
   "metadata": {},
   "source": [
    "위 점수 DataFrame 에서 학생별 과목 총 합을 구하세요."
   ]
  },
  {
   "cell_type": "code",
   "execution_count": 3,
   "id": "25837489",
   "metadata": {},
   "outputs": [
    {
     "data": {
      "text/plain": [
       "A    270\n",
       "B    250\n",
       "C    250\n",
       "dtype: int64"
      ]
     },
     "execution_count": 3,
     "metadata": {},
     "output_type": "execute_result"
    }
   ],
   "source": [
    "# 코드\n",
    "score.sum(axis=1)"
   ]
  }
 ],
 "metadata": {
  "kernelspec": {
   "display_name": "Python 3 (ipykernel)",
   "language": "python",
   "name": "python3"
  },
  "language_info": {
   "codemirror_mode": {
    "name": "ipython",
    "version": 3
   },
   "file_extension": ".py",
   "mimetype": "text/x-python",
   "name": "python",
   "nbconvert_exporter": "python",
   "pygments_lexer": "ipython3",
   "version": "3.9.13"
  }
 },
 "nbformat": 4,
 "nbformat_minor": 5
}
