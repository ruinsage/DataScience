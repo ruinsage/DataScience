{
 "cells": [
  {
   "cell_type": "code",
   "execution_count": 1,
   "id": "60c5a0ac",
   "metadata": {},
   "outputs": [],
   "source": [
    "import pandas as pd"
   ]
  },
  {
   "cell_type": "markdown",
   "id": "0577707f",
   "metadata": {},
   "source": [
    "# 예제 4-5 날짜 인덱스 생성 및 속성 보기"
   ]
  },
  {
   "cell_type": "code",
   "execution_count": 3,
   "id": "1ff135a6",
   "metadata": {},
   "outputs": [],
   "source": [
    "# 날짜를 기준으로 표현한 데이터: 시계열(Time Series) 데이터\n",
    "# 예) 주가정보, 은행거래내역, 환율, 부동산 매매가 등\n",
    "# date_range([기분 Date], periods = N)  => 기준일로 N번째 일까지 DatetimeIndex 생성\n",
    "idx_d = pd.Index(pd.date_range('20130101',periods = 3))"
   ]
  },
  {
   "cell_type": "code",
   "execution_count": 4,
   "id": "de638dc4",
   "metadata": {},
   "outputs": [
    {
     "data": {
      "text/plain": [
       "DatetimeIndex(['2013-01-01', '2013-01-02', '2013-01-03'], dtype='datetime64[ns]', freq='D')"
      ]
     },
     "execution_count": 4,
     "metadata": {},
     "output_type": "execute_result"
    }
   ],
   "source": [
    "idx_d"
   ]
  },
  {
   "cell_type": "code",
   "execution_count": 5,
   "id": "3d945533",
   "metadata": {},
   "outputs": [
    {
     "data": {
      "text/plain": [
       "array(['2013-01-01T00:00:00.000000000', '2013-01-02T00:00:00.000000000',\n",
       "       '2013-01-03T00:00:00.000000000'], dtype='datetime64[ns]')"
      ]
     },
     "execution_count": 5,
     "metadata": {},
     "output_type": "execute_result"
    }
   ],
   "source": [
    "# 년-월-일 T시:분:초.밀리초\n",
    "idx_d.values"
   ]
  },
  {
   "cell_type": "code",
   "execution_count": 6,
   "id": "ec0da330",
   "metadata": {},
   "outputs": [
    {
     "data": {
      "text/plain": [
       "<Day>"
      ]
     },
     "execution_count": 6,
     "metadata": {},
     "output_type": "execute_result"
    }
   ],
   "source": [
    "# date 빈도확인 (freq) (단위)\n",
    "idx_d.freq"
   ]
  },
  {
   "cell_type": "code",
   "execution_count": 8,
   "id": "47fbf318",
   "metadata": {},
   "outputs": [],
   "source": [
    "index = pd.DatetimeIndex(['2014-07-04', '2014-08-04', '2015-07-04', '2015-08-04'])"
   ]
  },
  {
   "cell_type": "code",
   "execution_count": 9,
   "id": "fd315cc9",
   "metadata": {},
   "outputs": [],
   "source": [
    "data = pd.Series([0,1,2,3], index = index)"
   ]
  },
  {
   "cell_type": "code",
   "execution_count": 10,
   "id": "ca8e5829",
   "metadata": {},
   "outputs": [
    {
     "data": {
      "text/plain": [
       "2014-07-04    0\n",
       "2014-08-04    1\n",
       "2015-07-04    2\n",
       "2015-08-04    3\n",
       "dtype: int64"
      ]
     },
     "execution_count": 10,
     "metadata": {},
     "output_type": "execute_result"
    }
   ],
   "source": [
    "data"
   ]
  },
  {
   "cell_type": "code",
   "execution_count": 11,
   "id": "7ba91384",
   "metadata": {},
   "outputs": [
    {
     "data": {
      "text/plain": [
       "DatetimeIndex(['2014-07-04', '2014-08-04', '2015-07-04', '2015-08-04'], dtype='datetime64[ns]', freq=None)"
      ]
     },
     "execution_count": 11,
     "metadata": {},
     "output_type": "execute_result"
    }
   ],
   "source": [
    "index"
   ]
  },
  {
   "cell_type": "code",
   "execution_count": 12,
   "id": "07664b92",
   "metadata": {},
   "outputs": [
    {
     "data": {
      "text/plain": [
       "(4,)"
      ]
     },
     "execution_count": 12,
     "metadata": {},
     "output_type": "execute_result"
    }
   ],
   "source": [
    "index.shape"
   ]
  },
  {
   "cell_type": "code",
   "execution_count": 13,
   "id": "df6283b4",
   "metadata": {},
   "outputs": [
    {
     "data": {
      "text/plain": [
       "dtype('<M8[ns]')"
      ]
     },
     "execution_count": 13,
     "metadata": {},
     "output_type": "execute_result"
    }
   ],
   "source": [
    "# DatetimeIndex 의 dtype은 '<N8[ns]'로 표시\n",
    "index.dtype"
   ]
  },
  {
   "cell_type": "code",
   "execution_count": null,
   "id": "d13228ec",
   "metadata": {},
   "outputs": [],
   "source": []
  },
  {
   "cell_type": "markdown",
   "id": "33300404",
   "metadata": {},
   "source": [
    "# 예제 4-6 타임에대한 빈도 이해하기"
   ]
  },
  {
   "cell_type": "markdown",
   "id": "9aec5a7a",
   "metadata": {},
   "source": [
    "### 시간에대한 코드\n",
    "#### Y: Year, M: Month, W : Week, D: day, h: Hour, m: Minute, s: Second\n",
    "#### ms: Millisecond, us: Microsecond, ns: Nanosecond, ps: Picosecond, fs: Femtosecond"
   ]
  },
  {
   "cell_type": "code",
   "execution_count": 14,
   "id": "085824f4",
   "metadata": {},
   "outputs": [],
   "source": [
    "# date_range(시작일,종료일)는 마지막 날짜를 포함한다\n",
    "dr1 = pd.date_range('2018-07-03','2018-07-10')"
   ]
  },
  {
   "cell_type": "code",
   "execution_count": 15,
   "id": "65e9b2fe",
   "metadata": {},
   "outputs": [
    {
     "data": {
      "text/plain": [
       "DatetimeIndex(['2018-07-03', '2018-07-04', '2018-07-05', '2018-07-06',\n",
       "               '2018-07-07', '2018-07-08', '2018-07-09', '2018-07-10'],\n",
       "              dtype='datetime64[ns]', freq='D')"
      ]
     },
     "execution_count": 15,
     "metadata": {},
     "output_type": "execute_result"
    }
   ],
   "source": [
    "dr1"
   ]
  },
  {
   "cell_type": "code",
   "execution_count": 16,
   "id": "285dabcd",
   "metadata": {},
   "outputs": [],
   "source": [
    "dr2 = pd.date_range('2018-07-03',periods = 8)"
   ]
  },
  {
   "cell_type": "code",
   "execution_count": 17,
   "id": "93dae8cc",
   "metadata": {},
   "outputs": [
    {
     "data": {
      "text/plain": [
       "DatetimeIndex(['2018-07-03', '2018-07-04', '2018-07-05', '2018-07-06',\n",
       "               '2018-07-07', '2018-07-08', '2018-07-09', '2018-07-10'],\n",
       "              dtype='datetime64[ns]', freq='D')"
      ]
     },
     "execution_count": 17,
     "metadata": {},
     "output_type": "execute_result"
    }
   ],
   "source": [
    "dr2"
   ]
  },
  {
   "cell_type": "code",
   "execution_count": 18,
   "id": "f4d954d5",
   "metadata": {},
   "outputs": [],
   "source": [
    "dr3 = pd.date_range('2018-08-03', periods = 24, freq = 'H')"
   ]
  },
  {
   "cell_type": "code",
   "execution_count": 19,
   "id": "473c05c3",
   "metadata": {},
   "outputs": [
    {
     "data": {
      "text/plain": [
       "DatetimeIndex(['2018-08-03 00:00:00', '2018-08-03 01:00:00',\n",
       "               '2018-08-03 02:00:00', '2018-08-03 03:00:00',\n",
       "               '2018-08-03 04:00:00', '2018-08-03 05:00:00',\n",
       "               '2018-08-03 06:00:00', '2018-08-03 07:00:00',\n",
       "               '2018-08-03 08:00:00', '2018-08-03 09:00:00',\n",
       "               '2018-08-03 10:00:00', '2018-08-03 11:00:00',\n",
       "               '2018-08-03 12:00:00', '2018-08-03 13:00:00',\n",
       "               '2018-08-03 14:00:00', '2018-08-03 15:00:00',\n",
       "               '2018-08-03 16:00:00', '2018-08-03 17:00:00',\n",
       "               '2018-08-03 18:00:00', '2018-08-03 19:00:00',\n",
       "               '2018-08-03 20:00:00', '2018-08-03 21:00:00',\n",
       "               '2018-08-03 22:00:00', '2018-08-03 23:00:00'],\n",
       "              dtype='datetime64[ns]', freq='H')"
      ]
     },
     "execution_count": 19,
     "metadata": {},
     "output_type": "execute_result"
    }
   ],
   "source": [
    "dr3"
   ]
  },
  {
   "cell_type": "code",
   "execution_count": 20,
   "id": "fabbda2c",
   "metadata": {},
   "outputs": [
    {
     "data": {
      "text/plain": [
       "PeriodIndex(['2018-08-03', '2018-08-03', '2018-08-03', '2018-08-03',\n",
       "             '2018-08-03', '2018-08-03', '2018-08-03', '2018-08-03',\n",
       "             '2018-08-03', '2018-08-03', '2018-08-03', '2018-08-03',\n",
       "             '2018-08-03', '2018-08-03', '2018-08-03', '2018-08-03',\n",
       "             '2018-08-03', '2018-08-03', '2018-08-03', '2018-08-03',\n",
       "             '2018-08-03', '2018-08-03', '2018-08-03', '2018-08-03'],\n",
       "            dtype='period[D]')"
      ]
     },
     "execution_count": 20,
     "metadata": {},
     "output_type": "execute_result"
    }
   ],
   "source": [
    "# to_period(기간)를 D(날짜)로 변경 => 시간정보 삭제\n",
    "dr3.to_period('D')"
   ]
  },
  {
   "cell_type": "code",
   "execution_count": 22,
   "id": "da80c7c8",
   "metadata": {},
   "outputs": [],
   "source": [
    "# 2018년 1월부터 13기간 단위 월 범위의 기간인덱스를 변수 dr_m 할당\n",
    "dr_m = pd.period_range('2018-01', periods = 13, freq = 'M')"
   ]
  },
  {
   "cell_type": "code",
   "execution_count": 23,
   "id": "e58f1ce3",
   "metadata": {},
   "outputs": [
    {
     "data": {
      "text/plain": [
       "PeriodIndex(['2018-01', '2018-02', '2018-03', '2018-04', '2018-05', '2018-06',\n",
       "             '2018-07', '2018-08', '2018-09', '2018-10', '2018-11', '2018-12',\n",
       "             '2019-01'],\n",
       "            dtype='period[M]')"
      ]
     },
     "execution_count": 23,
     "metadata": {},
     "output_type": "execute_result"
    }
   ],
   "source": [
    "dr_m"
   ]
  },
  {
   "cell_type": "code",
   "execution_count": 24,
   "id": "c3f58d5b",
   "metadata": {},
   "outputs": [],
   "source": [
    "# 0 days 를 기준으로 10기간의 단위 시간 범위의 타임델타 인덱스를 변수 tm_1에 할당\n",
    "tm_1 = pd.timedelta_range(0, periods = 10, freq = 'H')"
   ]
  },
  {
   "cell_type": "code",
   "execution_count": 25,
   "id": "ca8952da",
   "metadata": {},
   "outputs": [
    {
     "data": {
      "text/plain": [
       "TimedeltaIndex(['0 days 00:00:00', '0 days 01:00:00', '0 days 02:00:00',\n",
       "                '0 days 03:00:00', '0 days 04:00:00', '0 days 05:00:00',\n",
       "                '0 days 06:00:00', '0 days 07:00:00', '0 days 08:00:00',\n",
       "                '0 days 09:00:00'],\n",
       "               dtype='timedelta64[ns]', freq='H')"
      ]
     },
     "execution_count": 25,
     "metadata": {},
     "output_type": "execute_result"
    }
   ],
   "source": [
    "tm_1"
   ]
  },
  {
   "cell_type": "code",
   "execution_count": 26,
   "id": "8d294cc8",
   "metadata": {},
   "outputs": [
    {
     "data": {
      "text/plain": [
       "Timedelta('0 days 01:00:00')"
      ]
     },
     "execution_count": 26,
     "metadata": {},
     "output_type": "execute_result"
    }
   ],
   "source": [
    "tm_1[1]"
   ]
  },
  {
   "cell_type": "code",
   "execution_count": 27,
   "id": "50746af4",
   "metadata": {},
   "outputs": [
    {
     "data": {
      "text/plain": [
       "TimedeltaIndex(['-1 days +23:00:00',   '0 days 00:00:00',   '0 days 01:00:00',\n",
       "                  '0 days 02:00:00',   '0 days 03:00:00',   '0 days 04:00:00',\n",
       "                  '0 days 05:00:00',   '0 days 06:00:00',   '0 days 07:00:00',\n",
       "                  '0 days 08:00:00'],\n",
       "               dtype='timedelta64[ns]', freq='H')"
      ]
     },
     "execution_count": 27,
     "metadata": {},
     "output_type": "execute_result"
    }
   ],
   "source": [
    "# tm_1 과 tm_1[1]은 시간 정보를 담고 있으므로 연산자 연산 가능하다.\n",
    "tm_1 - tm_1[1]"
   ]
  },
  {
   "cell_type": "code",
   "execution_count": 28,
   "id": "8cda86bb",
   "metadata": {},
   "outputs": [
    {
     "data": {
      "text/plain": [
       "DatetimeIndex(['2018-07-03', '2018-07-04', '2018-07-05', '2018-07-06',\n",
       "               '2018-07-07', '2018-07-08', '2018-07-09', '2018-07-10'],\n",
       "              dtype='datetime64[ns]', freq='D')"
      ]
     },
     "execution_count": 28,
     "metadata": {},
     "output_type": "execute_result"
    }
   ],
   "source": [
    "dr2"
   ]
  },
  {
   "cell_type": "code",
   "execution_count": 29,
   "id": "552acdae",
   "metadata": {},
   "outputs": [
    {
     "data": {
      "text/plain": [
       "TimedeltaIndex(['0 days', '1 days', '2 days', '3 days', '4 days', '5 days',\n",
       "                '6 days', '7 days'],\n",
       "               dtype='timedelta64[ns]', freq=None)"
      ]
     },
     "execution_count": 29,
     "metadata": {},
     "output_type": "execute_result"
    }
   ],
   "source": [
    "# DatetimeIndex도 시간정보를 담고 있으므로 연산자 연산 가능하다.\n",
    "dr2 - dr2[0]"
   ]
  },
  {
   "cell_type": "markdown",
   "id": "015c9ba1",
   "metadata": {},
   "source": [
    "###### 분단위로 인덱스 만들기"
   ]
  },
  {
   "cell_type": "code",
   "execution_count": 31,
   "id": "0da405af",
   "metadata": {},
   "outputs": [],
   "source": [
    "index = pd.date_range('1/1/2018', periods = 9, freq = 'T')\n",
    "# freq = 'T'의 디폴트는 분단위"
   ]
  },
  {
   "cell_type": "code",
   "execution_count": 32,
   "id": "ab751ea8",
   "metadata": {},
   "outputs": [],
   "source": [
    "series = pd.Series(range(9), index = index)"
   ]
  },
  {
   "cell_type": "code",
   "execution_count": 33,
   "id": "16842a95",
   "metadata": {},
   "outputs": [
    {
     "data": {
      "text/plain": [
       "2018-01-01 00:00:00    0\n",
       "2018-01-01 00:01:00    1\n",
       "2018-01-01 00:02:00    2\n",
       "2018-01-01 00:03:00    3\n",
       "2018-01-01 00:04:00    4\n",
       "2018-01-01 00:05:00    5\n",
       "2018-01-01 00:06:00    6\n",
       "2018-01-01 00:07:00    7\n",
       "2018-01-01 00:08:00    8\n",
       "Freq: T, dtype: int64"
      ]
     },
     "execution_count": 33,
     "metadata": {},
     "output_type": "execute_result"
    }
   ],
   "source": [
    "series"
   ]
  },
  {
   "cell_type": "markdown",
   "id": "7ce41578",
   "metadata": {},
   "source": [
    "# 예제 4-7 날짜 인덱스 활용하기"
   ]
  },
  {
   "cell_type": "code",
   "execution_count": 34,
   "id": "e2b12ba6",
   "metadata": {},
   "outputs": [],
   "source": [
    "# index_col ='Date' 인덱스 열은 Date열 parse_dates = True 시계열 데이터를 자동으로 인덱스화 한다\n",
    "data = pd.read_csv('../data/hanriver_bridge.csv', index_col ='Date', parse_dates = True, encoding = 'cp949' )"
   ]
  },
  {
   "cell_type": "code",
   "execution_count": 35,
   "id": "cb3ff3bc",
   "metadata": {},
   "outputs": [
    {
     "data": {
      "text/html": [
       "<div>\n",
       "<style scoped>\n",
       "    .dataframe tbody tr th:only-of-type {\n",
       "        vertical-align: middle;\n",
       "    }\n",
       "\n",
       "    .dataframe tbody tr th {\n",
       "        vertical-align: top;\n",
       "    }\n",
       "\n",
       "    .dataframe thead th {\n",
       "        text-align: right;\n",
       "    }\n",
       "</style>\n",
       "<table border=\"1\" class=\"dataframe\">\n",
       "  <thead>\n",
       "    <tr style=\"text-align: right;\">\n",
       "      <th></th>\n",
       "      <th>한강 좌측 인도</th>\n",
       "      <th>한강 우측 인도</th>\n",
       "    </tr>\n",
       "    <tr>\n",
       "      <th>Date</th>\n",
       "      <th></th>\n",
       "      <th></th>\n",
       "    </tr>\n",
       "  </thead>\n",
       "  <tbody>\n",
       "    <tr>\n",
       "      <th>2012-10-03 00:00:00</th>\n",
       "      <td>4.0</td>\n",
       "      <td>9.0</td>\n",
       "    </tr>\n",
       "    <tr>\n",
       "      <th>2012-10-03 01:00:00</th>\n",
       "      <td>4.0</td>\n",
       "      <td>6.0</td>\n",
       "    </tr>\n",
       "    <tr>\n",
       "      <th>2012-10-03 02:00:00</th>\n",
       "      <td>1.0</td>\n",
       "      <td>1.0</td>\n",
       "    </tr>\n",
       "    <tr>\n",
       "      <th>2012-10-03 03:00:00</th>\n",
       "      <td>2.0</td>\n",
       "      <td>3.0</td>\n",
       "    </tr>\n",
       "    <tr>\n",
       "      <th>2012-10-03 04:00:00</th>\n",
       "      <td>6.0</td>\n",
       "      <td>1.0</td>\n",
       "    </tr>\n",
       "  </tbody>\n",
       "</table>\n",
       "</div>"
      ],
      "text/plain": [
       "                     한강 좌측 인도  한강 우측 인도\n",
       "Date                                   \n",
       "2012-10-03 00:00:00       4.0       9.0\n",
       "2012-10-03 01:00:00       4.0       6.0\n",
       "2012-10-03 02:00:00       1.0       1.0\n",
       "2012-10-03 03:00:00       2.0       3.0\n",
       "2012-10-03 04:00:00       6.0       1.0"
      ]
     },
     "execution_count": 35,
     "metadata": {},
     "output_type": "execute_result"
    }
   ],
   "source": [
    "data.head()"
   ]
  },
  {
   "cell_type": "code",
   "execution_count": 36,
   "id": "0cc903ec",
   "metadata": {},
   "outputs": [
    {
     "data": {
      "text/plain": [
       "Index(['한강 좌측 인도', '한강 우측 인도'], dtype='object')"
      ]
     },
     "execution_count": 36,
     "metadata": {},
     "output_type": "execute_result"
    }
   ],
   "source": [
    "data.columns"
   ]
  },
  {
   "cell_type": "code",
   "execution_count": 37,
   "id": "75bcf622",
   "metadata": {},
   "outputs": [
    {
     "data": {
      "text/plain": [
       "DatetimeIndex(['2012-10-03 00:00:00', '2012-10-03 01:00:00',\n",
       "               '2012-10-03 02:00:00', '2012-10-03 03:00:00',\n",
       "               '2012-10-03 04:00:00', '2012-10-03 05:00:00',\n",
       "               '2012-10-03 06:00:00', '2012-10-03 07:00:00',\n",
       "               '2012-10-03 08:00:00', '2012-10-03 09:00:00',\n",
       "               ...\n",
       "               '2018-05-31 14:00:00', '2018-05-31 15:00:00',\n",
       "               '2018-05-31 16:00:00', '2018-05-31 17:00:00',\n",
       "               '2018-05-31 18:00:00', '2018-05-31 19:00:00',\n",
       "               '2018-05-31 20:00:00', '2018-05-31 21:00:00',\n",
       "               '2018-05-31 22:00:00', '2018-05-31 23:00:00'],\n",
       "              dtype='datetime64[ns]', name='Date', length=49608, freq=None)"
      ]
     },
     "execution_count": 37,
     "metadata": {},
     "output_type": "execute_result"
    }
   ],
   "source": [
    "data.index"
   ]
  },
  {
   "cell_type": "code",
   "execution_count": 38,
   "id": "4b865b93",
   "metadata": {},
   "outputs": [],
   "source": [
    "data.columns=['좌측','우측']"
   ]
  },
  {
   "cell_type": "code",
   "execution_count": 40,
   "id": "fc2ac2fc",
   "metadata": {},
   "outputs": [],
   "source": [
    "# eval(열이름 연산자 열이름) : 열이름의 값들을 연산자로 연산하여 열로 배치한다\n",
    "data['합산'] = data.eval('좌측 + 우측')"
   ]
  },
  {
   "cell_type": "code",
   "execution_count": 41,
   "id": "e691c7ea",
   "metadata": {},
   "outputs": [
    {
     "data": {
      "text/html": [
       "<div>\n",
       "<style scoped>\n",
       "    .dataframe tbody tr th:only-of-type {\n",
       "        vertical-align: middle;\n",
       "    }\n",
       "\n",
       "    .dataframe tbody tr th {\n",
       "        vertical-align: top;\n",
       "    }\n",
       "\n",
       "    .dataframe thead th {\n",
       "        text-align: right;\n",
       "    }\n",
       "</style>\n",
       "<table border=\"1\" class=\"dataframe\">\n",
       "  <thead>\n",
       "    <tr style=\"text-align: right;\">\n",
       "      <th></th>\n",
       "      <th>좌측</th>\n",
       "      <th>우측</th>\n",
       "      <th>합산</th>\n",
       "    </tr>\n",
       "    <tr>\n",
       "      <th>Date</th>\n",
       "      <th></th>\n",
       "      <th></th>\n",
       "      <th></th>\n",
       "    </tr>\n",
       "  </thead>\n",
       "  <tbody>\n",
       "    <tr>\n",
       "      <th>2012-10-03 00:00:00</th>\n",
       "      <td>4.0</td>\n",
       "      <td>9.0</td>\n",
       "      <td>13.0</td>\n",
       "    </tr>\n",
       "    <tr>\n",
       "      <th>2012-10-03 01:00:00</th>\n",
       "      <td>4.0</td>\n",
       "      <td>6.0</td>\n",
       "      <td>10.0</td>\n",
       "    </tr>\n",
       "    <tr>\n",
       "      <th>2012-10-03 02:00:00</th>\n",
       "      <td>1.0</td>\n",
       "      <td>1.0</td>\n",
       "      <td>2.0</td>\n",
       "    </tr>\n",
       "    <tr>\n",
       "      <th>2012-10-03 03:00:00</th>\n",
       "      <td>2.0</td>\n",
       "      <td>3.0</td>\n",
       "      <td>5.0</td>\n",
       "    </tr>\n",
       "    <tr>\n",
       "      <th>2012-10-03 04:00:00</th>\n",
       "      <td>6.0</td>\n",
       "      <td>1.0</td>\n",
       "      <td>7.0</td>\n",
       "    </tr>\n",
       "  </tbody>\n",
       "</table>\n",
       "</div>"
      ],
      "text/plain": [
       "                      좌측   우측    합산\n",
       "Date                               \n",
       "2012-10-03 00:00:00  4.0  9.0  13.0\n",
       "2012-10-03 01:00:00  4.0  6.0  10.0\n",
       "2012-10-03 02:00:00  1.0  1.0   2.0\n",
       "2012-10-03 03:00:00  2.0  3.0   5.0\n",
       "2012-10-03 04:00:00  6.0  1.0   7.0"
      ]
     },
     "execution_count": 41,
     "metadata": {},
     "output_type": "execute_result"
    }
   ],
   "source": [
    "data.head()"
   ]
  },
  {
   "cell_type": "code",
   "execution_count": 42,
   "id": "0496b29d",
   "metadata": {},
   "outputs": [
    {
     "data": {
      "text/plain": [
       "좌측    8\n",
       "우측    8\n",
       "합산    8\n",
       "dtype: int64"
      ]
     },
     "execution_count": 42,
     "metadata": {},
     "output_type": "execute_result"
    }
   ],
   "source": [
    "data.isnull().sum()"
   ]
  },
  {
   "cell_type": "code",
   "execution_count": 43,
   "id": "ff922b0a",
   "metadata": {},
   "outputs": [
    {
     "data": {
      "text/plain": [
       "(49608, 3)"
      ]
     },
     "execution_count": 43,
     "metadata": {},
     "output_type": "execute_result"
    }
   ],
   "source": [
    "data.shape"
   ]
  },
  {
   "cell_type": "code",
   "execution_count": 44,
   "id": "7ce6d205",
   "metadata": {},
   "outputs": [],
   "source": [
    "data_dp = data.dropna()"
   ]
  },
  {
   "cell_type": "code",
   "execution_count": 45,
   "id": "c51807a0",
   "metadata": {},
   "outputs": [
    {
     "data": {
      "text/plain": [
       "(49600, 3)"
      ]
     },
     "execution_count": 45,
     "metadata": {},
     "output_type": "execute_result"
    }
   ],
   "source": [
    "data_dp.shape"
   ]
  },
  {
   "cell_type": "code",
   "execution_count": 46,
   "id": "435ffc4c",
   "metadata": {},
   "outputs": [],
   "source": [
    "# resample('D') 일단위로 데이터 집계\n",
    "daily = data.resample('D').sum()"
   ]
  },
  {
   "cell_type": "code",
   "execution_count": 47,
   "id": "cee1c7c8",
   "metadata": {},
   "outputs": [
    {
     "data": {
      "text/html": [
       "<div>\n",
       "<style scoped>\n",
       "    .dataframe tbody tr th:only-of-type {\n",
       "        vertical-align: middle;\n",
       "    }\n",
       "\n",
       "    .dataframe tbody tr th {\n",
       "        vertical-align: top;\n",
       "    }\n",
       "\n",
       "    .dataframe thead th {\n",
       "        text-align: right;\n",
       "    }\n",
       "</style>\n",
       "<table border=\"1\" class=\"dataframe\">\n",
       "  <thead>\n",
       "    <tr style=\"text-align: right;\">\n",
       "      <th></th>\n",
       "      <th>좌측</th>\n",
       "      <th>우측</th>\n",
       "      <th>합산</th>\n",
       "    </tr>\n",
       "    <tr>\n",
       "      <th>Date</th>\n",
       "      <th></th>\n",
       "      <th></th>\n",
       "      <th></th>\n",
       "    </tr>\n",
       "  </thead>\n",
       "  <tbody>\n",
       "    <tr>\n",
       "      <th>2012-10-03</th>\n",
       "      <td>1760.0</td>\n",
       "      <td>1761.0</td>\n",
       "      <td>3521.0</td>\n",
       "    </tr>\n",
       "    <tr>\n",
       "      <th>2012-10-04</th>\n",
       "      <td>1708.0</td>\n",
       "      <td>1767.0</td>\n",
       "      <td>3475.0</td>\n",
       "    </tr>\n",
       "    <tr>\n",
       "      <th>2012-10-05</th>\n",
       "      <td>1558.0</td>\n",
       "      <td>1590.0</td>\n",
       "      <td>3148.0</td>\n",
       "    </tr>\n",
       "    <tr>\n",
       "      <th>2012-10-06</th>\n",
       "      <td>1080.0</td>\n",
       "      <td>926.0</td>\n",
       "      <td>2006.0</td>\n",
       "    </tr>\n",
       "    <tr>\n",
       "      <th>2012-10-07</th>\n",
       "      <td>1191.0</td>\n",
       "      <td>951.0</td>\n",
       "      <td>2142.0</td>\n",
       "    </tr>\n",
       "  </tbody>\n",
       "</table>\n",
       "</div>"
      ],
      "text/plain": [
       "                좌측      우측      합산\n",
       "Date                              \n",
       "2012-10-03  1760.0  1761.0  3521.0\n",
       "2012-10-04  1708.0  1767.0  3475.0\n",
       "2012-10-05  1558.0  1590.0  3148.0\n",
       "2012-10-06  1080.0   926.0  2006.0\n",
       "2012-10-07  1191.0   951.0  2142.0"
      ]
     },
     "execution_count": 47,
     "metadata": {},
     "output_type": "execute_result"
    }
   ],
   "source": [
    "daily.head()"
   ]
  },
  {
   "cell_type": "code",
   "execution_count": 48,
   "id": "3832fcd8",
   "metadata": {},
   "outputs": [],
   "source": [
    "# 주단위로 다시 샘플링(resample('W'))하고 평균을 계산(mean())하여 변수 weekly_r에 할당\n",
    "weekly_r = data.resample('W').mean()"
   ]
  },
  {
   "cell_type": "code",
   "execution_count": 50,
   "id": "196d68b1",
   "metadata": {},
   "outputs": [
    {
     "data": {
      "text/html": [
       "<div>\n",
       "<style scoped>\n",
       "    .dataframe tbody tr th:only-of-type {\n",
       "        vertical-align: middle;\n",
       "    }\n",
       "\n",
       "    .dataframe tbody tr th {\n",
       "        vertical-align: top;\n",
       "    }\n",
       "\n",
       "    .dataframe thead th {\n",
       "        text-align: right;\n",
       "    }\n",
       "</style>\n",
       "<table border=\"1\" class=\"dataframe\">\n",
       "  <thead>\n",
       "    <tr style=\"text-align: right;\">\n",
       "      <th></th>\n",
       "      <th>좌측</th>\n",
       "      <th>우측</th>\n",
       "      <th>합산</th>\n",
       "    </tr>\n",
       "    <tr>\n",
       "      <th>Date</th>\n",
       "      <th></th>\n",
       "      <th></th>\n",
       "      <th></th>\n",
       "    </tr>\n",
       "  </thead>\n",
       "  <tbody>\n",
       "    <tr>\n",
       "      <th>2012-10-07</th>\n",
       "      <td>60.808333</td>\n",
       "      <td>58.291667</td>\n",
       "      <td>119.100000</td>\n",
       "    </tr>\n",
       "    <tr>\n",
       "      <th>2012-10-14</th>\n",
       "      <td>51.660714</td>\n",
       "      <td>48.309524</td>\n",
       "      <td>99.970238</td>\n",
       "    </tr>\n",
       "    <tr>\n",
       "      <th>2012-10-21</th>\n",
       "      <td>47.297619</td>\n",
       "      <td>45.017857</td>\n",
       "      <td>92.315476</td>\n",
       "    </tr>\n",
       "    <tr>\n",
       "      <th>2012-10-28</th>\n",
       "      <td>41.077381</td>\n",
       "      <td>38.904762</td>\n",
       "      <td>79.982143</td>\n",
       "    </tr>\n",
       "    <tr>\n",
       "      <th>2012-11-04</th>\n",
       "      <td>38.142857</td>\n",
       "      <td>34.440476</td>\n",
       "      <td>72.583333</td>\n",
       "    </tr>\n",
       "  </tbody>\n",
       "</table>\n",
       "</div>"
      ],
      "text/plain": [
       "                   좌측         우측          합산\n",
       "Date                                        \n",
       "2012-10-07  60.808333  58.291667  119.100000\n",
       "2012-10-14  51.660714  48.309524   99.970238\n",
       "2012-10-21  47.297619  45.017857   92.315476\n",
       "2012-10-28  41.077381  38.904762   79.982143\n",
       "2012-11-04  38.142857  34.440476   72.583333"
      ]
     },
     "execution_count": 50,
     "metadata": {},
     "output_type": "execute_result"
    }
   ],
   "source": [
    "weekly_r.head()"
   ]
  },
  {
   "cell_type": "code",
   "execution_count": 52,
   "id": "b70c63b8",
   "metadata": {},
   "outputs": [],
   "source": [
    "# asfreq(빈도) : 빈도별로 데이터 샘플링\n",
    "weekly_f = data.asfreq('W')"
   ]
  },
  {
   "cell_type": "code",
   "execution_count": 53,
   "id": "280e72bc",
   "metadata": {},
   "outputs": [
    {
     "data": {
      "text/html": [
       "<div>\n",
       "<style scoped>\n",
       "    .dataframe tbody tr th:only-of-type {\n",
       "        vertical-align: middle;\n",
       "    }\n",
       "\n",
       "    .dataframe tbody tr th {\n",
       "        vertical-align: top;\n",
       "    }\n",
       "\n",
       "    .dataframe thead th {\n",
       "        text-align: right;\n",
       "    }\n",
       "</style>\n",
       "<table border=\"1\" class=\"dataframe\">\n",
       "  <thead>\n",
       "    <tr style=\"text-align: right;\">\n",
       "      <th></th>\n",
       "      <th>좌측</th>\n",
       "      <th>우측</th>\n",
       "      <th>합산</th>\n",
       "    </tr>\n",
       "    <tr>\n",
       "      <th>Date</th>\n",
       "      <th></th>\n",
       "      <th></th>\n",
       "      <th></th>\n",
       "    </tr>\n",
       "  </thead>\n",
       "  <tbody>\n",
       "    <tr>\n",
       "      <th>2012-10-07</th>\n",
       "      <td>6.0</td>\n",
       "      <td>5.0</td>\n",
       "      <td>11.0</td>\n",
       "    </tr>\n",
       "    <tr>\n",
       "      <th>2012-10-14</th>\n",
       "      <td>3.0</td>\n",
       "      <td>3.0</td>\n",
       "      <td>6.0</td>\n",
       "    </tr>\n",
       "    <tr>\n",
       "      <th>2012-10-21</th>\n",
       "      <td>5.0</td>\n",
       "      <td>12.0</td>\n",
       "      <td>17.0</td>\n",
       "    </tr>\n",
       "    <tr>\n",
       "      <th>2012-10-28</th>\n",
       "      <td>5.0</td>\n",
       "      <td>5.0</td>\n",
       "      <td>10.0</td>\n",
       "    </tr>\n",
       "    <tr>\n",
       "      <th>2012-11-04</th>\n",
       "      <td>7.0</td>\n",
       "      <td>11.0</td>\n",
       "      <td>18.0</td>\n",
       "    </tr>\n",
       "    <tr>\n",
       "      <th>...</th>\n",
       "      <td>...</td>\n",
       "      <td>...</td>\n",
       "      <td>...</td>\n",
       "    </tr>\n",
       "    <tr>\n",
       "      <th>2018-04-29</th>\n",
       "      <td>5.0</td>\n",
       "      <td>15.0</td>\n",
       "      <td>20.0</td>\n",
       "    </tr>\n",
       "    <tr>\n",
       "      <th>2018-05-06</th>\n",
       "      <td>6.0</td>\n",
       "      <td>5.0</td>\n",
       "      <td>11.0</td>\n",
       "    </tr>\n",
       "    <tr>\n",
       "      <th>2018-05-13</th>\n",
       "      <td>10.0</td>\n",
       "      <td>14.0</td>\n",
       "      <td>24.0</td>\n",
       "    </tr>\n",
       "    <tr>\n",
       "      <th>2018-05-20</th>\n",
       "      <td>3.0</td>\n",
       "      <td>11.0</td>\n",
       "      <td>14.0</td>\n",
       "    </tr>\n",
       "    <tr>\n",
       "      <th>2018-05-27</th>\n",
       "      <td>2.0</td>\n",
       "      <td>3.0</td>\n",
       "      <td>5.0</td>\n",
       "    </tr>\n",
       "  </tbody>\n",
       "</table>\n",
       "<p>295 rows × 3 columns</p>\n",
       "</div>"
      ],
      "text/plain": [
       "              좌측    우측    합산\n",
       "Date                        \n",
       "2012-10-07   6.0   5.0  11.0\n",
       "2012-10-14   3.0   3.0   6.0\n",
       "2012-10-21   5.0  12.0  17.0\n",
       "2012-10-28   5.0   5.0  10.0\n",
       "2012-11-04   7.0  11.0  18.0\n",
       "...          ...   ...   ...\n",
       "2018-04-29   5.0  15.0  20.0\n",
       "2018-05-06   6.0   5.0  11.0\n",
       "2018-05-13  10.0  14.0  24.0\n",
       "2018-05-20   3.0  11.0  14.0\n",
       "2018-05-27   2.0   3.0   5.0\n",
       "\n",
       "[295 rows x 3 columns]"
      ]
     },
     "execution_count": 53,
     "metadata": {},
     "output_type": "execute_result"
    }
   ],
   "source": [
    "weekly_f"
   ]
  },
  {
   "cell_type": "code",
   "execution_count": 54,
   "id": "7ad1800e",
   "metadata": {},
   "outputs": [
    {
     "data": {
      "text/html": [
       "<div>\n",
       "<style scoped>\n",
       "    .dataframe tbody tr th:only-of-type {\n",
       "        vertical-align: middle;\n",
       "    }\n",
       "\n",
       "    .dataframe tbody tr th {\n",
       "        vertical-align: top;\n",
       "    }\n",
       "\n",
       "    .dataframe thead th {\n",
       "        text-align: right;\n",
       "    }\n",
       "</style>\n",
       "<table border=\"1\" class=\"dataframe\">\n",
       "  <thead>\n",
       "    <tr style=\"text-align: right;\">\n",
       "      <th></th>\n",
       "      <th>좌측</th>\n",
       "      <th>우측</th>\n",
       "      <th>합산</th>\n",
       "    </tr>\n",
       "    <tr>\n",
       "      <th>Date</th>\n",
       "      <th></th>\n",
       "      <th></th>\n",
       "      <th></th>\n",
       "    </tr>\n",
       "  </thead>\n",
       "  <tbody>\n",
       "    <tr>\n",
       "      <th>2012-10-07 00:00:00</th>\n",
       "      <td>6.0</td>\n",
       "      <td>5.0</td>\n",
       "      <td>11.0</td>\n",
       "    </tr>\n",
       "    <tr>\n",
       "      <th>2012-10-07 01:00:00</th>\n",
       "      <td>12.0</td>\n",
       "      <td>5.0</td>\n",
       "      <td>17.0</td>\n",
       "    </tr>\n",
       "    <tr>\n",
       "      <th>2012-10-07 02:00:00</th>\n",
       "      <td>2.0</td>\n",
       "      <td>1.0</td>\n",
       "      <td>3.0</td>\n",
       "    </tr>\n",
       "    <tr>\n",
       "      <th>2012-10-07 03:00:00</th>\n",
       "      <td>4.0</td>\n",
       "      <td>2.0</td>\n",
       "      <td>6.0</td>\n",
       "    </tr>\n",
       "    <tr>\n",
       "      <th>2012-10-07 04:00:00</th>\n",
       "      <td>1.0</td>\n",
       "      <td>2.0</td>\n",
       "      <td>3.0</td>\n",
       "    </tr>\n",
       "  </tbody>\n",
       "</table>\n",
       "</div>"
      ],
      "text/plain": [
       "                       좌측   우측    합산\n",
       "Date                                \n",
       "2012-10-07 00:00:00   6.0  5.0  11.0\n",
       "2012-10-07 01:00:00  12.0  5.0  17.0\n",
       "2012-10-07 02:00:00   2.0  1.0   3.0\n",
       "2012-10-07 03:00:00   4.0  2.0   6.0\n",
       "2012-10-07 04:00:00   1.0  2.0   3.0"
      ]
     },
     "execution_count": 54,
     "metadata": {},
     "output_type": "execute_result"
    }
   ],
   "source": [
    "data.loc['2012-10-07'].head()"
   ]
  },
  {
   "cell_type": "code",
   "execution_count": null,
   "id": "4fda37a0",
   "metadata": {},
   "outputs": [],
   "source": []
  }
 ],
 "metadata": {
  "kernelspec": {
   "display_name": "Python 3 (ipykernel)",
   "language": "python",
   "name": "python3"
  },
  "language_info": {
   "codemirror_mode": {
    "name": "ipython",
    "version": 3
   },
   "file_extension": ".py",
   "mimetype": "text/x-python",
   "name": "python",
   "nbconvert_exporter": "python",
   "pygments_lexer": "ipython3",
   "version": "3.9.13"
  }
 },
 "nbformat": 4,
 "nbformat_minor": 5
}
