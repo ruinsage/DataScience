{
 "cells": [
  {
   "cell_type": "markdown",
   "id": "6ef7ace3",
   "metadata": {},
   "source": [
    "## 문제1"
   ]
  },
  {
   "cell_type": "code",
   "execution_count": null,
   "id": "8d7e29a1",
   "metadata": {},
   "outputs": [],
   "source": [
    "# 타이타닉 데이터를 불러와서 pclass등급이 3 이고 \n",
    "#나이가 30이상인 남성의 생존율을 구하라."
   ]
  },
  {
   "cell_type": "code",
   "execution_count": null,
   "id": "1570a698",
   "metadata": {},
   "outputs": [],
   "source": [
    "총승선인원 891명, 생존인원9명 -> 생존율 1%"
   ]
  },
  {
   "cell_type": "code",
   "execution_count": 3,
   "id": "4906bd28",
   "metadata": {},
   "outputs": [],
   "source": [
    "import seaborn as sns"
   ]
  },
  {
   "cell_type": "code",
   "execution_count": 4,
   "id": "949d4afc",
   "metadata": {},
   "outputs": [],
   "source": [
    "titanic = sns.load_dataset('titanic')"
   ]
  },
  {
   "cell_type": "code",
   "execution_count": 74,
   "id": "579fc013",
   "metadata": {},
   "outputs": [
    {
     "data": {
      "text/html": [
       "<div>\n",
       "<style scoped>\n",
       "    .dataframe tbody tr th:only-of-type {\n",
       "        vertical-align: middle;\n",
       "    }\n",
       "\n",
       "    .dataframe tbody tr th {\n",
       "        vertical-align: top;\n",
       "    }\n",
       "\n",
       "    .dataframe thead th {\n",
       "        text-align: right;\n",
       "    }\n",
       "</style>\n",
       "<table border=\"1\" class=\"dataframe\">\n",
       "  <thead>\n",
       "    <tr style=\"text-align: right;\">\n",
       "      <th></th>\n",
       "      <th>survived</th>\n",
       "      <th>pclass</th>\n",
       "      <th>sex</th>\n",
       "      <th>age</th>\n",
       "      <th>sibsp</th>\n",
       "      <th>parch</th>\n",
       "      <th>fare</th>\n",
       "      <th>embarked</th>\n",
       "      <th>class</th>\n",
       "      <th>who</th>\n",
       "      <th>adult_male</th>\n",
       "      <th>deck</th>\n",
       "      <th>embark_town</th>\n",
       "      <th>alive</th>\n",
       "      <th>alone</th>\n",
       "    </tr>\n",
       "  </thead>\n",
       "  <tbody>\n",
       "    <tr>\n",
       "      <th>0</th>\n",
       "      <td>0</td>\n",
       "      <td>3</td>\n",
       "      <td>male</td>\n",
       "      <td>22.0</td>\n",
       "      <td>1</td>\n",
       "      <td>0</td>\n",
       "      <td>7.2500</td>\n",
       "      <td>S</td>\n",
       "      <td>Third</td>\n",
       "      <td>man</td>\n",
       "      <td>True</td>\n",
       "      <td>NaN</td>\n",
       "      <td>Southampton</td>\n",
       "      <td>no</td>\n",
       "      <td>False</td>\n",
       "    </tr>\n",
       "    <tr>\n",
       "      <th>1</th>\n",
       "      <td>1</td>\n",
       "      <td>1</td>\n",
       "      <td>female</td>\n",
       "      <td>38.0</td>\n",
       "      <td>1</td>\n",
       "      <td>0</td>\n",
       "      <td>71.2833</td>\n",
       "      <td>C</td>\n",
       "      <td>First</td>\n",
       "      <td>woman</td>\n",
       "      <td>False</td>\n",
       "      <td>C</td>\n",
       "      <td>Cherbourg</td>\n",
       "      <td>yes</td>\n",
       "      <td>False</td>\n",
       "    </tr>\n",
       "    <tr>\n",
       "      <th>2</th>\n",
       "      <td>1</td>\n",
       "      <td>3</td>\n",
       "      <td>female</td>\n",
       "      <td>26.0</td>\n",
       "      <td>0</td>\n",
       "      <td>0</td>\n",
       "      <td>7.9250</td>\n",
       "      <td>S</td>\n",
       "      <td>Third</td>\n",
       "      <td>woman</td>\n",
       "      <td>False</td>\n",
       "      <td>NaN</td>\n",
       "      <td>Southampton</td>\n",
       "      <td>yes</td>\n",
       "      <td>True</td>\n",
       "    </tr>\n",
       "    <tr>\n",
       "      <th>3</th>\n",
       "      <td>1</td>\n",
       "      <td>1</td>\n",
       "      <td>female</td>\n",
       "      <td>35.0</td>\n",
       "      <td>1</td>\n",
       "      <td>0</td>\n",
       "      <td>53.1000</td>\n",
       "      <td>S</td>\n",
       "      <td>First</td>\n",
       "      <td>woman</td>\n",
       "      <td>False</td>\n",
       "      <td>C</td>\n",
       "      <td>Southampton</td>\n",
       "      <td>yes</td>\n",
       "      <td>False</td>\n",
       "    </tr>\n",
       "    <tr>\n",
       "      <th>4</th>\n",
       "      <td>0</td>\n",
       "      <td>3</td>\n",
       "      <td>male</td>\n",
       "      <td>35.0</td>\n",
       "      <td>0</td>\n",
       "      <td>0</td>\n",
       "      <td>8.0500</td>\n",
       "      <td>S</td>\n",
       "      <td>Third</td>\n",
       "      <td>man</td>\n",
       "      <td>True</td>\n",
       "      <td>NaN</td>\n",
       "      <td>Southampton</td>\n",
       "      <td>no</td>\n",
       "      <td>True</td>\n",
       "    </tr>\n",
       "  </tbody>\n",
       "</table>\n",
       "</div>"
      ],
      "text/plain": [
       "   survived  pclass     sex   age  sibsp  parch     fare embarked  class  \\\n",
       "0         0       3    male  22.0      1      0   7.2500        S  Third   \n",
       "1         1       1  female  38.0      1      0  71.2833        C  First   \n",
       "2         1       3  female  26.0      0      0   7.9250        S  Third   \n",
       "3         1       1  female  35.0      1      0  53.1000        S  First   \n",
       "4         0       3    male  35.0      0      0   8.0500        S  Third   \n",
       "\n",
       "     who  adult_male deck  embark_town alive  alone  \n",
       "0    man        True  NaN  Southampton    no  False  \n",
       "1  woman       False    C    Cherbourg   yes  False  \n",
       "2  woman       False  NaN  Southampton   yes   True  \n",
       "3  woman       False    C  Southampton   yes  False  \n",
       "4    man        True  NaN  Southampton    no   True  "
      ]
     },
     "execution_count": 74,
     "metadata": {},
     "output_type": "execute_result"
    }
   ],
   "source": [
    "titanic.head()"
   ]
  },
  {
   "cell_type": "code",
   "execution_count": 71,
   "id": "e1238385",
   "metadata": {},
   "outputs": [
    {
     "data": {
      "text/plain": [
       "(891, 15)"
      ]
     },
     "execution_count": 71,
     "metadata": {},
     "output_type": "execute_result"
    }
   ],
   "source": [
    "titanic.shape"
   ]
  },
  {
   "cell_type": "code",
   "execution_count": 84,
   "id": "631d7eaa",
   "metadata": {},
   "outputs": [],
   "source": [
    "#loc활용 검색가능\n",
    "titanic_surv = titanic.loc[((titanic['pclass']==3) & \n",
    "              (titanic['sex']=='male') &\n",
    "              (titanic['alive']=='yes')&\n",
    "              (titanic['age'] > 30)),\n",
    "             ['class', 'who','alive','age']]"
   ]
  },
  {
   "cell_type": "code",
   "execution_count": 85,
   "id": "48ac9762",
   "metadata": {},
   "outputs": [
    {
     "data": {
      "text/plain": [
       "(9, 4)"
      ]
     },
     "execution_count": 85,
     "metadata": {},
     "output_type": "execute_result"
    }
   ],
   "source": [
    "titanic_surv.shape"
   ]
  },
  {
   "cell_type": "code",
   "execution_count": 78,
   "id": "0f838504",
   "metadata": {},
   "outputs": [
    {
     "data": {
      "text/html": [
       "<div>\n",
       "<style scoped>\n",
       "    .dataframe tbody tr th:only-of-type {\n",
       "        vertical-align: middle;\n",
       "    }\n",
       "\n",
       "    .dataframe tbody tr th {\n",
       "        vertical-align: top;\n",
       "    }\n",
       "\n",
       "    .dataframe thead th {\n",
       "        text-align: right;\n",
       "    }\n",
       "</style>\n",
       "<table border=\"1\" class=\"dataframe\">\n",
       "  <thead>\n",
       "    <tr style=\"text-align: right;\">\n",
       "      <th></th>\n",
       "      <th>class</th>\n",
       "      <th>who</th>\n",
       "      <th>alive</th>\n",
       "      <th>age</th>\n",
       "    </tr>\n",
       "  </thead>\n",
       "  <tbody>\n",
       "    <tr>\n",
       "      <th>74</th>\n",
       "      <td>Third</td>\n",
       "      <td>man</td>\n",
       "      <td>yes</td>\n",
       "      <td>32.0</td>\n",
       "    </tr>\n",
       "    <tr>\n",
       "      <th>338</th>\n",
       "      <td>Third</td>\n",
       "      <td>man</td>\n",
       "      <td>yes</td>\n",
       "      <td>45.0</td>\n",
       "    </tr>\n",
       "    <tr>\n",
       "      <th>400</th>\n",
       "      <td>Third</td>\n",
       "      <td>man</td>\n",
       "      <td>yes</td>\n",
       "      <td>39.0</td>\n",
       "    </tr>\n",
       "    <tr>\n",
       "      <th>414</th>\n",
       "      <td>Third</td>\n",
       "      <td>man</td>\n",
       "      <td>yes</td>\n",
       "      <td>44.0</td>\n",
       "    </tr>\n",
       "    <tr>\n",
       "      <th>429</th>\n",
       "      <td>Third</td>\n",
       "      <td>man</td>\n",
       "      <td>yes</td>\n",
       "      <td>32.0</td>\n",
       "    </tr>\n",
       "  </tbody>\n",
       "</table>\n",
       "</div>"
      ],
      "text/plain": [
       "     class  who alive   age\n",
       "74   Third  man   yes  32.0\n",
       "338  Third  man   yes  45.0\n",
       "400  Third  man   yes  39.0\n",
       "414  Third  man   yes  44.0\n",
       "429  Third  man   yes  32.0"
      ]
     },
     "execution_count": 78,
     "metadata": {},
     "output_type": "execute_result"
    }
   ],
   "source": [
    "titanic_surv.head()"
   ]
  },
  {
   "cell_type": "code",
   "execution_count": 79,
   "id": "b377d5c8",
   "metadata": {},
   "outputs": [
    {
     "data": {
      "text/html": [
       "<div>\n",
       "<style scoped>\n",
       "    .dataframe tbody tr th:only-of-type {\n",
       "        vertical-align: middle;\n",
       "    }\n",
       "\n",
       "    .dataframe tbody tr th {\n",
       "        vertical-align: top;\n",
       "    }\n",
       "\n",
       "    .dataframe thead th {\n",
       "        text-align: right;\n",
       "    }\n",
       "</style>\n",
       "<table border=\"1\" class=\"dataframe\">\n",
       "  <thead>\n",
       "    <tr style=\"text-align: right;\">\n",
       "      <th></th>\n",
       "      <th>class</th>\n",
       "      <th>who</th>\n",
       "      <th>alive</th>\n",
       "      <th>age</th>\n",
       "    </tr>\n",
       "  </thead>\n",
       "  <tbody>\n",
       "    <tr>\n",
       "      <th>74</th>\n",
       "      <td>Third</td>\n",
       "      <td>man</td>\n",
       "      <td>yes</td>\n",
       "      <td>32.0</td>\n",
       "    </tr>\n",
       "    <tr>\n",
       "      <th>338</th>\n",
       "      <td>Third</td>\n",
       "      <td>man</td>\n",
       "      <td>yes</td>\n",
       "      <td>45.0</td>\n",
       "    </tr>\n",
       "    <tr>\n",
       "      <th>400</th>\n",
       "      <td>Third</td>\n",
       "      <td>man</td>\n",
       "      <td>yes</td>\n",
       "      <td>39.0</td>\n",
       "    </tr>\n",
       "    <tr>\n",
       "      <th>414</th>\n",
       "      <td>Third</td>\n",
       "      <td>man</td>\n",
       "      <td>yes</td>\n",
       "      <td>44.0</td>\n",
       "    </tr>\n",
       "    <tr>\n",
       "      <th>429</th>\n",
       "      <td>Third</td>\n",
       "      <td>man</td>\n",
       "      <td>yes</td>\n",
       "      <td>32.0</td>\n",
       "    </tr>\n",
       "    <tr>\n",
       "      <th>569</th>\n",
       "      <td>Third</td>\n",
       "      <td>man</td>\n",
       "      <td>yes</td>\n",
       "      <td>32.0</td>\n",
       "    </tr>\n",
       "    <tr>\n",
       "      <th>579</th>\n",
       "      <td>Third</td>\n",
       "      <td>man</td>\n",
       "      <td>yes</td>\n",
       "      <td>32.0</td>\n",
       "    </tr>\n",
       "    <tr>\n",
       "      <th>744</th>\n",
       "      <td>Third</td>\n",
       "      <td>man</td>\n",
       "      <td>yes</td>\n",
       "      <td>31.0</td>\n",
       "    </tr>\n",
       "    <tr>\n",
       "      <th>838</th>\n",
       "      <td>Third</td>\n",
       "      <td>man</td>\n",
       "      <td>yes</td>\n",
       "      <td>32.0</td>\n",
       "    </tr>\n",
       "  </tbody>\n",
       "</table>\n",
       "</div>"
      ],
      "text/plain": [
       "     class  who alive   age\n",
       "74   Third  man   yes  32.0\n",
       "338  Third  man   yes  45.0\n",
       "400  Third  man   yes  39.0\n",
       "414  Third  man   yes  44.0\n",
       "429  Third  man   yes  32.0\n",
       "569  Third  man   yes  32.0\n",
       "579  Third  man   yes  32.0\n",
       "744  Third  man   yes  31.0\n",
       "838  Third  man   yes  32.0"
      ]
     },
     "execution_count": 79,
     "metadata": {},
     "output_type": "execute_result"
    }
   ],
   "source": [
    "titanic_surv.loc[:,['class', 'who','alive','age']]"
   ]
  },
  {
   "cell_type": "code",
   "execution_count": null,
   "id": "4ad02e54",
   "metadata": {},
   "outputs": [],
   "source": []
  },
  {
   "cell_type": "markdown",
   "id": "751d3940",
   "metadata": {},
   "source": [
    "## 문제2"
   ]
  },
  {
   "cell_type": "code",
   "execution_count": 181,
   "id": "be11b8b2",
   "metadata": {},
   "outputs": [],
   "source": [
    "# Worldwide Gross를 원화를 환산하여 필드를 추가하여라(원화는 $당 1300원)"
   ]
  },
  {
   "cell_type": "code",
   "execution_count": 182,
   "id": "dc0cbfea",
   "metadata": {},
   "outputs": [],
   "source": [
    "movies= pd.read_csv(\"data/movies.csv\",usecols = ['Film','Genre','Year','Worldwide Gross'])"
   ]
  },
  {
   "cell_type": "code",
   "execution_count": 183,
   "id": "8f3772d5",
   "metadata": {},
   "outputs": [
    {
     "data": {
      "text/html": [
       "<div>\n",
       "<style scoped>\n",
       "    .dataframe tbody tr th:only-of-type {\n",
       "        vertical-align: middle;\n",
       "    }\n",
       "\n",
       "    .dataframe tbody tr th {\n",
       "        vertical-align: top;\n",
       "    }\n",
       "\n",
       "    .dataframe thead th {\n",
       "        text-align: right;\n",
       "    }\n",
       "</style>\n",
       "<table border=\"1\" class=\"dataframe\">\n",
       "  <thead>\n",
       "    <tr style=\"text-align: right;\">\n",
       "      <th></th>\n",
       "      <th>Film</th>\n",
       "      <th>Genre</th>\n",
       "      <th>Worldwide Gross</th>\n",
       "      <th>Year</th>\n",
       "    </tr>\n",
       "  </thead>\n",
       "  <tbody>\n",
       "    <tr>\n",
       "      <th>0</th>\n",
       "      <td>Zack and Miri Make a Porno</td>\n",
       "      <td>Romance</td>\n",
       "      <td>$41.94</td>\n",
       "      <td>2008</td>\n",
       "    </tr>\n",
       "    <tr>\n",
       "      <th>1</th>\n",
       "      <td>Youth in Revolt</td>\n",
       "      <td>Comedy</td>\n",
       "      <td>$19.62</td>\n",
       "      <td>2010</td>\n",
       "    </tr>\n",
       "    <tr>\n",
       "      <th>2</th>\n",
       "      <td>You Will Meet a Tall Dark Stranger</td>\n",
       "      <td>Comedy</td>\n",
       "      <td>$26.66</td>\n",
       "      <td>2010</td>\n",
       "    </tr>\n",
       "    <tr>\n",
       "      <th>3</th>\n",
       "      <td>When in Rome</td>\n",
       "      <td>Comedy</td>\n",
       "      <td>$43.04</td>\n",
       "      <td>2010</td>\n",
       "    </tr>\n",
       "    <tr>\n",
       "      <th>4</th>\n",
       "      <td>What Happens in Vegas</td>\n",
       "      <td>Comedy</td>\n",
       "      <td>$219.37</td>\n",
       "      <td>2008</td>\n",
       "    </tr>\n",
       "  </tbody>\n",
       "</table>\n",
       "</div>"
      ],
      "text/plain": [
       "                                 Film    Genre Worldwide Gross  Year\n",
       "0          Zack and Miri Make a Porno  Romance         $41.94   2008\n",
       "1                     Youth in Revolt   Comedy         $19.62   2010\n",
       "2  You Will Meet a Tall Dark Stranger   Comedy         $26.66   2010\n",
       "3                        When in Rome   Comedy         $43.04   2010\n",
       "4               What Happens in Vegas   Comedy        $219.37   2008"
      ]
     },
     "execution_count": 183,
     "metadata": {},
     "output_type": "execute_result"
    }
   ],
   "source": [
    "movies.head()"
   ]
  },
  {
   "cell_type": "code",
   "execution_count": 184,
   "id": "d03e38b0",
   "metadata": {},
   "outputs": [],
   "source": [
    "movies_add  = pd.read_csv(\"data/movies.csv\")"
   ]
  },
  {
   "cell_type": "code",
   "execution_count": 185,
   "id": "e602c828",
   "metadata": {},
   "outputs": [
    {
     "data": {
      "text/html": [
       "<div>\n",
       "<style scoped>\n",
       "    .dataframe tbody tr th:only-of-type {\n",
       "        vertical-align: middle;\n",
       "    }\n",
       "\n",
       "    .dataframe tbody tr th {\n",
       "        vertical-align: top;\n",
       "    }\n",
       "\n",
       "    .dataframe thead th {\n",
       "        text-align: right;\n",
       "    }\n",
       "</style>\n",
       "<table border=\"1\" class=\"dataframe\">\n",
       "  <thead>\n",
       "    <tr style=\"text-align: right;\">\n",
       "      <th></th>\n",
       "      <th>Film</th>\n",
       "      <th>Genre</th>\n",
       "      <th>Lead Studio</th>\n",
       "      <th>Audience score %</th>\n",
       "      <th>Profitability</th>\n",
       "      <th>Rotten Tomatoes %</th>\n",
       "      <th>Worldwide Gross</th>\n",
       "      <th>Year</th>\n",
       "    </tr>\n",
       "  </thead>\n",
       "  <tbody>\n",
       "    <tr>\n",
       "      <th>0</th>\n",
       "      <td>Zack and Miri Make a Porno</td>\n",
       "      <td>Romance</td>\n",
       "      <td>The Weinstein Company</td>\n",
       "      <td>70</td>\n",
       "      <td>1.747542</td>\n",
       "      <td>64</td>\n",
       "      <td>$41.94</td>\n",
       "      <td>2008</td>\n",
       "    </tr>\n",
       "    <tr>\n",
       "      <th>1</th>\n",
       "      <td>Youth in Revolt</td>\n",
       "      <td>Comedy</td>\n",
       "      <td>The Weinstein Company</td>\n",
       "      <td>52</td>\n",
       "      <td>1.090000</td>\n",
       "      <td>68</td>\n",
       "      <td>$19.62</td>\n",
       "      <td>2010</td>\n",
       "    </tr>\n",
       "    <tr>\n",
       "      <th>2</th>\n",
       "      <td>You Will Meet a Tall Dark Stranger</td>\n",
       "      <td>Comedy</td>\n",
       "      <td>Independent</td>\n",
       "      <td>35</td>\n",
       "      <td>1.211818</td>\n",
       "      <td>43</td>\n",
       "      <td>$26.66</td>\n",
       "      <td>2010</td>\n",
       "    </tr>\n",
       "    <tr>\n",
       "      <th>3</th>\n",
       "      <td>When in Rome</td>\n",
       "      <td>Comedy</td>\n",
       "      <td>Disney</td>\n",
       "      <td>44</td>\n",
       "      <td>0.000000</td>\n",
       "      <td>15</td>\n",
       "      <td>$43.04</td>\n",
       "      <td>2010</td>\n",
       "    </tr>\n",
       "    <tr>\n",
       "      <th>4</th>\n",
       "      <td>What Happens in Vegas</td>\n",
       "      <td>Comedy</td>\n",
       "      <td>Fox</td>\n",
       "      <td>72</td>\n",
       "      <td>6.267647</td>\n",
       "      <td>28</td>\n",
       "      <td>$219.37</td>\n",
       "      <td>2008</td>\n",
       "    </tr>\n",
       "  </tbody>\n",
       "</table>\n",
       "</div>"
      ],
      "text/plain": [
       "                                 Film    Genre            Lead Studio  \\\n",
       "0          Zack and Miri Make a Porno  Romance  The Weinstein Company   \n",
       "1                     Youth in Revolt   Comedy  The Weinstein Company   \n",
       "2  You Will Meet a Tall Dark Stranger   Comedy            Independent   \n",
       "3                        When in Rome   Comedy                 Disney   \n",
       "4               What Happens in Vegas   Comedy                    Fox   \n",
       "\n",
       "   Audience score %  Profitability  Rotten Tomatoes % Worldwide Gross  Year  \n",
       "0                70       1.747542                 64         $41.94   2008  \n",
       "1                52       1.090000                 68         $19.62   2010  \n",
       "2                35       1.211818                 43         $26.66   2010  \n",
       "3                44       0.000000                 15         $43.04   2010  \n",
       "4                72       6.267647                 28        $219.37   2008  "
      ]
     },
     "execution_count": 185,
     "metadata": {},
     "output_type": "execute_result"
    }
   ],
   "source": [
    "movies_add.head()"
   ]
  },
  {
   "cell_type": "code",
   "execution_count": 186,
   "id": "2f692231",
   "metadata": {},
   "outputs": [],
   "source": [
    "movies_add['has_seen'] = 0"
   ]
  },
  {
   "cell_type": "code",
   "execution_count": 187,
   "id": "2bc3a998",
   "metadata": {},
   "outputs": [
    {
     "data": {
      "text/plain": [
       "Index(['Film', 'Genre', 'Lead Studio', 'Audience score %', 'Profitability',\n",
       "       'Rotten Tomatoes %', 'Worldwide Gross', 'Year', 'has_seen'],\n",
       "      dtype='object')"
      ]
     },
     "execution_count": 187,
     "metadata": {},
     "output_type": "execute_result"
    }
   ],
   "source": [
    "movies_add.columns"
   ]
  },
  {
   "cell_type": "code",
   "execution_count": 188,
   "id": "a3b1cca3",
   "metadata": {},
   "outputs": [],
   "source": [
    "movies_add['has_seen'] = (movies_add['Audience score %'] + movies_add['Rotten Tomatoes %'])// 2"
   ]
  },
  {
   "cell_type": "code",
   "execution_count": 189,
   "id": "b0eeb73b",
   "metadata": {},
   "outputs": [],
   "source": [
    "d=movies_add['Worldwide Gross'].str.replace('$','', regex=False).astype('float64')"
   ]
  },
  {
   "cell_type": "code",
   "execution_count": 190,
   "id": "8cdfe08d",
   "metadata": {},
   "outputs": [
    {
     "data": {
      "text/plain": [
       "0      41.94\n",
       "1      19.62\n",
       "2      26.66\n",
       "3      43.04\n",
       "4     219.37\n",
       "       ...  \n",
       "72     29.37\n",
       "73     30.68\n",
       "74      8.97\n",
       "75    160.31\n",
       "76     60.72\n",
       "Name: Worldwide Gross, Length: 77, dtype: float64"
      ]
     },
     "execution_count": 190,
     "metadata": {},
     "output_type": "execute_result"
    }
   ],
   "source": [
    "d"
   ]
  },
  {
   "cell_type": "code",
   "execution_count": 191,
   "id": "36c1dcff",
   "metadata": {},
   "outputs": [],
   "source": [
    "movies_add.insert(movies_add.columns.get_loc('has_seen')+1, \"원화환산\", d * 1300)"
   ]
  },
  {
   "cell_type": "code",
   "execution_count": 192,
   "id": "cec1256d",
   "metadata": {},
   "outputs": [
    {
     "data": {
      "text/html": [
       "<div>\n",
       "<style scoped>\n",
       "    .dataframe tbody tr th:only-of-type {\n",
       "        vertical-align: middle;\n",
       "    }\n",
       "\n",
       "    .dataframe tbody tr th {\n",
       "        vertical-align: top;\n",
       "    }\n",
       "\n",
       "    .dataframe thead th {\n",
       "        text-align: right;\n",
       "    }\n",
       "</style>\n",
       "<table border=\"1\" class=\"dataframe\">\n",
       "  <thead>\n",
       "    <tr style=\"text-align: right;\">\n",
       "      <th></th>\n",
       "      <th>Film</th>\n",
       "      <th>Genre</th>\n",
       "      <th>Lead Studio</th>\n",
       "      <th>Audience score %</th>\n",
       "      <th>Profitability</th>\n",
       "      <th>Rotten Tomatoes %</th>\n",
       "      <th>Worldwide Gross</th>\n",
       "      <th>Year</th>\n",
       "      <th>has_seen</th>\n",
       "      <th>원화환산</th>\n",
       "    </tr>\n",
       "  </thead>\n",
       "  <tbody>\n",
       "    <tr>\n",
       "      <th>0</th>\n",
       "      <td>Zack and Miri Make a Porno</td>\n",
       "      <td>Romance</td>\n",
       "      <td>The Weinstein Company</td>\n",
       "      <td>70</td>\n",
       "      <td>1.747542</td>\n",
       "      <td>64</td>\n",
       "      <td>$41.94</td>\n",
       "      <td>2008</td>\n",
       "      <td>67</td>\n",
       "      <td>54522.0</td>\n",
       "    </tr>\n",
       "    <tr>\n",
       "      <th>1</th>\n",
       "      <td>Youth in Revolt</td>\n",
       "      <td>Comedy</td>\n",
       "      <td>The Weinstein Company</td>\n",
       "      <td>52</td>\n",
       "      <td>1.090000</td>\n",
       "      <td>68</td>\n",
       "      <td>$19.62</td>\n",
       "      <td>2010</td>\n",
       "      <td>60</td>\n",
       "      <td>25506.0</td>\n",
       "    </tr>\n",
       "    <tr>\n",
       "      <th>2</th>\n",
       "      <td>You Will Meet a Tall Dark Stranger</td>\n",
       "      <td>Comedy</td>\n",
       "      <td>Independent</td>\n",
       "      <td>35</td>\n",
       "      <td>1.211818</td>\n",
       "      <td>43</td>\n",
       "      <td>$26.66</td>\n",
       "      <td>2010</td>\n",
       "      <td>39</td>\n",
       "      <td>34658.0</td>\n",
       "    </tr>\n",
       "    <tr>\n",
       "      <th>3</th>\n",
       "      <td>When in Rome</td>\n",
       "      <td>Comedy</td>\n",
       "      <td>Disney</td>\n",
       "      <td>44</td>\n",
       "      <td>0.000000</td>\n",
       "      <td>15</td>\n",
       "      <td>$43.04</td>\n",
       "      <td>2010</td>\n",
       "      <td>29</td>\n",
       "      <td>55952.0</td>\n",
       "    </tr>\n",
       "    <tr>\n",
       "      <th>4</th>\n",
       "      <td>What Happens in Vegas</td>\n",
       "      <td>Comedy</td>\n",
       "      <td>Fox</td>\n",
       "      <td>72</td>\n",
       "      <td>6.267647</td>\n",
       "      <td>28</td>\n",
       "      <td>$219.37</td>\n",
       "      <td>2008</td>\n",
       "      <td>50</td>\n",
       "      <td>285181.0</td>\n",
       "    </tr>\n",
       "  </tbody>\n",
       "</table>\n",
       "</div>"
      ],
      "text/plain": [
       "                                 Film    Genre            Lead Studio  \\\n",
       "0          Zack and Miri Make a Porno  Romance  The Weinstein Company   \n",
       "1                     Youth in Revolt   Comedy  The Weinstein Company   \n",
       "2  You Will Meet a Tall Dark Stranger   Comedy            Independent   \n",
       "3                        When in Rome   Comedy                 Disney   \n",
       "4               What Happens in Vegas   Comedy                    Fox   \n",
       "\n",
       "   Audience score %  Profitability  Rotten Tomatoes % Worldwide Gross  Year  \\\n",
       "0                70       1.747542                 64         $41.94   2008   \n",
       "1                52       1.090000                 68         $19.62   2010   \n",
       "2                35       1.211818                 43         $26.66   2010   \n",
       "3                44       0.000000                 15         $43.04   2010   \n",
       "4                72       6.267647                 28        $219.37   2008   \n",
       "\n",
       "   has_seen      원화환산  \n",
       "0        67   54522.0  \n",
       "1        60   25506.0  \n",
       "2        39   34658.0  \n",
       "3        29   55952.0  \n",
       "4        50  285181.0  "
      ]
     },
     "execution_count": 192,
     "metadata": {},
     "output_type": "execute_result"
    }
   ],
   "source": [
    "movies_add.head()"
   ]
  }
 ],
 "metadata": {
  "kernelspec": {
   "display_name": "Python 3 (ipykernel)",
   "language": "python",
   "name": "python3"
  },
  "language_info": {
   "codemirror_mode": {
    "name": "ipython",
    "version": 3
   },
   "file_extension": ".py",
   "mimetype": "text/x-python",
   "name": "python",
   "nbconvert_exporter": "python",
   "pygments_lexer": "ipython3",
   "version": "3.9.13"
  }
 },
 "nbformat": 4,
 "nbformat_minor": 5
}
