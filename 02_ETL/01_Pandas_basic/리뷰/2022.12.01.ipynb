{
 "cells": [
  {
   "cell_type": "code",
   "execution_count": 884,
   "id": "b4211a84",
   "metadata": {},
   "outputs": [],
   "source": [
    "import pandas as pd"
   ]
  },
  {
   "cell_type": "code",
   "execution_count": 885,
   "id": "a0d11e4f",
   "metadata": {},
   "outputs": [],
   "source": [
    "import numpy as np"
   ]
  },
  {
   "cell_type": "code",
   "execution_count": 886,
   "id": "a2f87c70",
   "metadata": {},
   "outputs": [],
   "source": [
    "data = ['73','72','72','71','72','71','70','69','68','67','67','66','66','67','66','65']"
   ]
  },
  {
   "cell_type": "code",
   "execution_count": 887,
   "id": "a52c6b40",
   "metadata": {},
   "outputs": [],
   "source": [
    "def make_index(n,w):\n",
    "    index_list = []\n",
    "    for month in range(1,n+1):\n",
    "        for week in range(1,w+1):\n",
    "            index = str(month) + '월' + str(week) + '주'\n",
    "            index_list.append(index)"
   ]
  },
  {
   "cell_type": "code",
   "execution_count": 888,
   "id": "d7554c59",
   "metadata": {},
   "outputs": [],
   "source": [
    "make_index(4,4)"
   ]
  },
  {
   "cell_type": "code",
   "execution_count": 889,
   "id": "a5b4a2ca",
   "metadata": {
    "scrolled": true
   },
   "outputs": [
    {
     "data": {
      "text/plain": [
       "['1월1주',\n",
       " '1월2주',\n",
       " '1월3주',\n",
       " '1월4주',\n",
       " '2월1주',\n",
       " '2월2주',\n",
       " '2월3주',\n",
       " '2월4주',\n",
       " '3월1주',\n",
       " '3월2주',\n",
       " '3월3주',\n",
       " '3월4주',\n",
       " '4월1주',\n",
       " '4월2주',\n",
       " '4월3주',\n",
       " '4월4주']"
      ]
     },
     "execution_count": 889,
     "metadata": {},
     "output_type": "execute_result"
    }
   ],
   "source": [
    "index_list"
   ]
  },
  {
   "cell_type": "code",
   "execution_count": 890,
   "id": "1e3d53c5",
   "metadata": {
    "scrolled": true
   },
   "outputs": [
    {
     "data": {
      "text/html": [
       "<div>\n",
       "<style scoped>\n",
       "    .dataframe tbody tr th:only-of-type {\n",
       "        vertical-align: middle;\n",
       "    }\n",
       "\n",
       "    .dataframe tbody tr th {\n",
       "        vertical-align: top;\n",
       "    }\n",
       "\n",
       "    .dataframe thead th {\n",
       "        text-align: right;\n",
       "    }\n",
       "</style>\n",
       "<table border=\"1\" class=\"dataframe\">\n",
       "  <thead>\n",
       "    <tr style=\"text-align: right;\">\n",
       "      <th></th>\n",
       "      <th>석훈</th>\n",
       "    </tr>\n",
       "  </thead>\n",
       "  <tbody>\n",
       "    <tr>\n",
       "      <th>1월1주</th>\n",
       "      <td>73</td>\n",
       "    </tr>\n",
       "    <tr>\n",
       "      <th>1월2주</th>\n",
       "      <td>72</td>\n",
       "    </tr>\n",
       "    <tr>\n",
       "      <th>1월3주</th>\n",
       "      <td>72</td>\n",
       "    </tr>\n",
       "    <tr>\n",
       "      <th>1월4주</th>\n",
       "      <td>71</td>\n",
       "    </tr>\n",
       "    <tr>\n",
       "      <th>2월1주</th>\n",
       "      <td>72</td>\n",
       "    </tr>\n",
       "  </tbody>\n",
       "</table>\n",
       "</div>"
      ],
      "text/plain": [
       "      석훈\n",
       "1월1주  73\n",
       "1월2주  72\n",
       "1월3주  72\n",
       "1월4주  71\n",
       "2월1주  72"
      ]
     },
     "execution_count": 890,
     "metadata": {},
     "output_type": "execute_result"
    }
   ],
   "source": [
    "weight = pd.DataFrame(data ,\n",
    "                      index = index_list,\n",
    "                      columns = ['석훈'])\n",
    "weight.head()"
   ]
  },
  {
   "cell_type": "code",
   "execution_count": 891,
   "id": "aa8b4339",
   "metadata": {},
   "outputs": [
    {
     "data": {
      "text/plain": [
       "석훈    object\n",
       "dtype: object"
      ]
     },
     "execution_count": 891,
     "metadata": {},
     "output_type": "execute_result"
    }
   ],
   "source": [
    "weight.dtypes"
   ]
  },
  {
   "cell_type": "code",
   "execution_count": 892,
   "id": "863e05f1",
   "metadata": {
    "scrolled": true
   },
   "outputs": [
    {
     "data": {
      "text/html": [
       "<div>\n",
       "<style scoped>\n",
       "    .dataframe tbody tr th:only-of-type {\n",
       "        vertical-align: middle;\n",
       "    }\n",
       "\n",
       "    .dataframe tbody tr th {\n",
       "        vertical-align: top;\n",
       "    }\n",
       "\n",
       "    .dataframe thead th {\n",
       "        text-align: right;\n",
       "    }\n",
       "</style>\n",
       "<table border=\"1\" class=\"dataframe\">\n",
       "  <thead>\n",
       "    <tr style=\"text-align: right;\">\n",
       "      <th></th>\n",
       "      <th>석훈</th>\n",
       "    </tr>\n",
       "  </thead>\n",
       "  <tbody>\n",
       "    <tr>\n",
       "      <th>1월1주</th>\n",
       "      <td>73</td>\n",
       "    </tr>\n",
       "    <tr>\n",
       "      <th>1월2주</th>\n",
       "      <td>72</td>\n",
       "    </tr>\n",
       "    <tr>\n",
       "      <th>1월3주</th>\n",
       "      <td>72</td>\n",
       "    </tr>\n",
       "    <tr>\n",
       "      <th>1월4주</th>\n",
       "      <td>71</td>\n",
       "    </tr>\n",
       "    <tr>\n",
       "      <th>2월1주</th>\n",
       "      <td>72</td>\n",
       "    </tr>\n",
       "  </tbody>\n",
       "</table>\n",
       "</div>"
      ],
      "text/plain": [
       "      석훈\n",
       "1월1주  73\n",
       "1월2주  72\n",
       "1월3주  72\n",
       "1월4주  71\n",
       "2월1주  72"
      ]
     },
     "execution_count": 892,
     "metadata": {},
     "output_type": "execute_result"
    }
   ],
   "source": [
    "weight = weight.astype('int64')\n",
    "weight.head()"
   ]
  },
  {
   "cell_type": "code",
   "execution_count": 893,
   "id": "b1b23d76",
   "metadata": {},
   "outputs": [
    {
     "data": {
      "text/plain": [
       "1월1주    73\n",
       "1월2주    72\n",
       "1월3주    72\n",
       "1월4주    71\n",
       "2월1주    72\n",
       "2월2주    71\n",
       "2월3주    70\n",
       "2월4주    69\n",
       "3월1주    68\n",
       "3월2주    67\n",
       "3월3주    67\n",
       "3월4주    66\n",
       "4월1주    66\n",
       "4월2주    67\n",
       "4월3주    66\n",
       "4월4주    65\n",
       "Name: 석훈, dtype: int64"
      ]
     },
     "execution_count": 893,
     "metadata": {},
     "output_type": "execute_result"
    }
   ],
   "source": [
    "weight['석훈']"
   ]
  },
  {
   "cell_type": "code",
   "execution_count": 894,
   "id": "4b4cbaf4",
   "metadata": {},
   "outputs": [],
   "source": [
    "def weight_target(weight):\n",
    "    return weight['석훈'] - 1"
   ]
  },
  {
   "cell_type": "code",
   "execution_count": 895,
   "id": "30d00daf",
   "metadata": {},
   "outputs": [],
   "source": [
    "weight['목표체중'] = weight.apply(weight_target,axis = 1)"
   ]
  },
  {
   "cell_type": "code",
   "execution_count": 896,
   "id": "67aa4ccd",
   "metadata": {},
   "outputs": [
    {
     "data": {
      "text/html": [
       "<div>\n",
       "<style scoped>\n",
       "    .dataframe tbody tr th:only-of-type {\n",
       "        vertical-align: middle;\n",
       "    }\n",
       "\n",
       "    .dataframe tbody tr th {\n",
       "        vertical-align: top;\n",
       "    }\n",
       "\n",
       "    .dataframe thead th {\n",
       "        text-align: right;\n",
       "    }\n",
       "</style>\n",
       "<table border=\"1\" class=\"dataframe\">\n",
       "  <thead>\n",
       "    <tr style=\"text-align: right;\">\n",
       "      <th></th>\n",
       "      <th>석훈</th>\n",
       "      <th>목표체중</th>\n",
       "    </tr>\n",
       "  </thead>\n",
       "  <tbody>\n",
       "    <tr>\n",
       "      <th>1월1주</th>\n",
       "      <td>73</td>\n",
       "      <td>72</td>\n",
       "    </tr>\n",
       "    <tr>\n",
       "      <th>1월2주</th>\n",
       "      <td>72</td>\n",
       "      <td>71</td>\n",
       "    </tr>\n",
       "    <tr>\n",
       "      <th>1월3주</th>\n",
       "      <td>72</td>\n",
       "      <td>71</td>\n",
       "    </tr>\n",
       "    <tr>\n",
       "      <th>1월4주</th>\n",
       "      <td>71</td>\n",
       "      <td>70</td>\n",
       "    </tr>\n",
       "    <tr>\n",
       "      <th>2월1주</th>\n",
       "      <td>72</td>\n",
       "      <td>71</td>\n",
       "    </tr>\n",
       "  </tbody>\n",
       "</table>\n",
       "</div>"
      ],
      "text/plain": [
       "      석훈  목표체중\n",
       "1월1주  73    72\n",
       "1월2주  72    71\n",
       "1월3주  72    71\n",
       "1월4주  71    70\n",
       "2월1주  72    71"
      ]
     },
     "execution_count": 896,
     "metadata": {},
     "output_type": "execute_result"
    }
   ],
   "source": [
    "weight.head()"
   ]
  },
  {
   "cell_type": "code",
   "execution_count": 897,
   "id": "ae5b92d8",
   "metadata": {},
   "outputs": [
    {
     "data": {
      "text/plain": [
       "66"
      ]
     },
     "execution_count": 897,
     "metadata": {},
     "output_type": "execute_result"
    }
   ],
   "source": [
    " weight.iloc[i]['석훈']"
   ]
  },
  {
   "cell_type": "code",
   "execution_count": 898,
   "id": "9f71e772",
   "metadata": {},
   "outputs": [],
   "source": [
    "loss_list = []\n",
    "for i in range(0,15):\n",
    "    loss =  weight.iloc[i+1]['석훈'] - weight.iloc[i]['석훈']\n",
    "    loss_list.append(loss)"
   ]
  },
  {
   "cell_type": "code",
   "execution_count": 899,
   "id": "4992b2f1",
   "metadata": {
    "scrolled": true
   },
   "outputs": [],
   "source": [
    "loss_list.append(0)"
   ]
  },
  {
   "cell_type": "code",
   "execution_count": 900,
   "id": "4752dfdc",
   "metadata": {},
   "outputs": [
    {
     "data": {
      "text/plain": [
       "[-1, 0, -1, 1, -1, -1, -1, -1, -1, 0, -1, 0, 1, -1, -1, 0]"
      ]
     },
     "execution_count": 900,
     "metadata": {},
     "output_type": "execute_result"
    }
   ],
   "source": [
    "loss_list"
   ]
  },
  {
   "cell_type": "code",
   "execution_count": 901,
   "id": "7af2a9ee",
   "metadata": {},
   "outputs": [],
   "source": [
    "weight['체중증감'] = loss_list"
   ]
  },
  {
   "cell_type": "code",
   "execution_count": 902,
   "id": "142990f7",
   "metadata": {},
   "outputs": [
    {
     "data": {
      "text/html": [
       "<div>\n",
       "<style scoped>\n",
       "    .dataframe tbody tr th:only-of-type {\n",
       "        vertical-align: middle;\n",
       "    }\n",
       "\n",
       "    .dataframe tbody tr th {\n",
       "        vertical-align: top;\n",
       "    }\n",
       "\n",
       "    .dataframe thead th {\n",
       "        text-align: right;\n",
       "    }\n",
       "</style>\n",
       "<table border=\"1\" class=\"dataframe\">\n",
       "  <thead>\n",
       "    <tr style=\"text-align: right;\">\n",
       "      <th></th>\n",
       "      <th>석훈</th>\n",
       "      <th>목표체중</th>\n",
       "      <th>체중증감</th>\n",
       "    </tr>\n",
       "  </thead>\n",
       "  <tbody>\n",
       "    <tr>\n",
       "      <th>1월1주</th>\n",
       "      <td>73</td>\n",
       "      <td>72</td>\n",
       "      <td>-1</td>\n",
       "    </tr>\n",
       "    <tr>\n",
       "      <th>1월2주</th>\n",
       "      <td>72</td>\n",
       "      <td>71</td>\n",
       "      <td>0</td>\n",
       "    </tr>\n",
       "    <tr>\n",
       "      <th>1월3주</th>\n",
       "      <td>72</td>\n",
       "      <td>71</td>\n",
       "      <td>-1</td>\n",
       "    </tr>\n",
       "    <tr>\n",
       "      <th>1월4주</th>\n",
       "      <td>71</td>\n",
       "      <td>70</td>\n",
       "      <td>1</td>\n",
       "    </tr>\n",
       "    <tr>\n",
       "      <th>2월1주</th>\n",
       "      <td>72</td>\n",
       "      <td>71</td>\n",
       "      <td>-1</td>\n",
       "    </tr>\n",
       "  </tbody>\n",
       "</table>\n",
       "</div>"
      ],
      "text/plain": [
       "      석훈  목표체중  체중증감\n",
       "1월1주  73    72    -1\n",
       "1월2주  72    71     0\n",
       "1월3주  72    71    -1\n",
       "1월4주  71    70     1\n",
       "2월1주  72    71    -1"
      ]
     },
     "execution_count": 902,
     "metadata": {},
     "output_type": "execute_result"
    }
   ],
   "source": [
    "weight.head()"
   ]
  },
  {
   "cell_type": "code",
   "execution_count": 903,
   "id": "d462745d",
   "metadata": {},
   "outputs": [],
   "source": [
    "weight = weight[['석훈','체중증감','목표체중']]"
   ]
  },
  {
   "cell_type": "code",
   "execution_count": 904,
   "id": "f5f6f0bd",
   "metadata": {},
   "outputs": [
    {
     "data": {
      "text/html": [
       "<div>\n",
       "<style scoped>\n",
       "    .dataframe tbody tr th:only-of-type {\n",
       "        vertical-align: middle;\n",
       "    }\n",
       "\n",
       "    .dataframe tbody tr th {\n",
       "        vertical-align: top;\n",
       "    }\n",
       "\n",
       "    .dataframe thead th {\n",
       "        text-align: right;\n",
       "    }\n",
       "</style>\n",
       "<table border=\"1\" class=\"dataframe\">\n",
       "  <thead>\n",
       "    <tr style=\"text-align: right;\">\n",
       "      <th></th>\n",
       "      <th>석훈</th>\n",
       "      <th>체중증감</th>\n",
       "      <th>목표체중</th>\n",
       "    </tr>\n",
       "  </thead>\n",
       "  <tbody>\n",
       "    <tr>\n",
       "      <th>1월1주</th>\n",
       "      <td>73</td>\n",
       "      <td>-1</td>\n",
       "      <td>72</td>\n",
       "    </tr>\n",
       "    <tr>\n",
       "      <th>1월2주</th>\n",
       "      <td>72</td>\n",
       "      <td>0</td>\n",
       "      <td>71</td>\n",
       "    </tr>\n",
       "    <tr>\n",
       "      <th>1월3주</th>\n",
       "      <td>72</td>\n",
       "      <td>-1</td>\n",
       "      <td>71</td>\n",
       "    </tr>\n",
       "    <tr>\n",
       "      <th>1월4주</th>\n",
       "      <td>71</td>\n",
       "      <td>1</td>\n",
       "      <td>70</td>\n",
       "    </tr>\n",
       "    <tr>\n",
       "      <th>2월1주</th>\n",
       "      <td>72</td>\n",
       "      <td>-1</td>\n",
       "      <td>71</td>\n",
       "    </tr>\n",
       "  </tbody>\n",
       "</table>\n",
       "</div>"
      ],
      "text/plain": [
       "      석훈  체중증감  목표체중\n",
       "1월1주  73    -1    72\n",
       "1월2주  72     0    71\n",
       "1월3주  72    -1    71\n",
       "1월4주  71     1    70\n",
       "2월1주  72    -1    71"
      ]
     },
     "execution_count": 904,
     "metadata": {},
     "output_type": "execute_result"
    }
   ],
   "source": [
    "weight.head()"
   ]
  },
  {
   "cell_type": "code",
   "execution_count": 905,
   "id": "4cb41939",
   "metadata": {
    "scrolled": true
   },
   "outputs": [
    {
     "data": {
      "text/plain": [
       "석훈      int64\n",
       "체중증감    int64\n",
       "목표체중    int64\n",
       "dtype: object"
      ]
     },
     "execution_count": 905,
     "metadata": {},
     "output_type": "execute_result"
    }
   ],
   "source": [
    "weight.dtypes"
   ]
  },
  {
   "cell_type": "code",
   "execution_count": 906,
   "id": "6d133936",
   "metadata": {},
   "outputs": [],
   "source": [
    "def target_clear(weight):\n",
    "    a = weight['석훈'] + weight['체중증감']\n",
    "    if a == weight['목표체중']:\n",
    "        return '성공'\n",
    "    else:\n",
    "        return '실패'"
   ]
  },
  {
   "cell_type": "code",
   "execution_count": 907,
   "id": "60e9822f",
   "metadata": {
    "scrolled": true
   },
   "outputs": [],
   "source": [
    "weight['목표달성여부'] = weight.apply(target_clear,axis = 1)"
   ]
  },
  {
   "cell_type": "code",
   "execution_count": 908,
   "id": "b72b4aa2",
   "metadata": {},
   "outputs": [
    {
     "data": {
      "text/html": [
       "<div>\n",
       "<style scoped>\n",
       "    .dataframe tbody tr th:only-of-type {\n",
       "        vertical-align: middle;\n",
       "    }\n",
       "\n",
       "    .dataframe tbody tr th {\n",
       "        vertical-align: top;\n",
       "    }\n",
       "\n",
       "    .dataframe thead th {\n",
       "        text-align: right;\n",
       "    }\n",
       "</style>\n",
       "<table border=\"1\" class=\"dataframe\">\n",
       "  <thead>\n",
       "    <tr style=\"text-align: right;\">\n",
       "      <th></th>\n",
       "      <th>석훈</th>\n",
       "      <th>체중증감</th>\n",
       "      <th>목표체중</th>\n",
       "      <th>목표달성여부</th>\n",
       "    </tr>\n",
       "  </thead>\n",
       "  <tbody>\n",
       "    <tr>\n",
       "      <th>1월1주</th>\n",
       "      <td>73</td>\n",
       "      <td>-1</td>\n",
       "      <td>72</td>\n",
       "      <td>성공</td>\n",
       "    </tr>\n",
       "    <tr>\n",
       "      <th>1월2주</th>\n",
       "      <td>72</td>\n",
       "      <td>0</td>\n",
       "      <td>71</td>\n",
       "      <td>실패</td>\n",
       "    </tr>\n",
       "    <tr>\n",
       "      <th>1월3주</th>\n",
       "      <td>72</td>\n",
       "      <td>-1</td>\n",
       "      <td>71</td>\n",
       "      <td>성공</td>\n",
       "    </tr>\n",
       "    <tr>\n",
       "      <th>1월4주</th>\n",
       "      <td>71</td>\n",
       "      <td>1</td>\n",
       "      <td>70</td>\n",
       "      <td>실패</td>\n",
       "    </tr>\n",
       "    <tr>\n",
       "      <th>2월1주</th>\n",
       "      <td>72</td>\n",
       "      <td>-1</td>\n",
       "      <td>71</td>\n",
       "      <td>성공</td>\n",
       "    </tr>\n",
       "  </tbody>\n",
       "</table>\n",
       "</div>"
      ],
      "text/plain": [
       "      석훈  체중증감  목표체중 목표달성여부\n",
       "1월1주  73    -1    72     성공\n",
       "1월2주  72     0    71     실패\n",
       "1월3주  72    -1    71     성공\n",
       "1월4주  71     1    70     실패\n",
       "2월1주  72    -1    71     성공"
      ]
     },
     "execution_count": 908,
     "metadata": {},
     "output_type": "execute_result"
    }
   ],
   "source": [
    "weight.head()"
   ]
  },
  {
   "cell_type": "code",
   "execution_count": 909,
   "id": "edc52b94",
   "metadata": {
    "scrolled": true
   },
   "outputs": [
    {
     "data": {
      "text/plain": [
       "0.625"
      ]
     },
     "execution_count": 909,
     "metadata": {},
     "output_type": "execute_result"
    }
   ],
   "source": [
    "clear = weight['목표달성여부'].value_counts(normalize = True)\n",
    "clear[0]"
   ]
  },
  {
   "cell_type": "code",
   "execution_count": 910,
   "id": "ff73de29",
   "metadata": {},
   "outputs": [
    {
     "data": {
      "text/plain": [
       "62.5"
      ]
     },
     "execution_count": 910,
     "metadata": {},
     "output_type": "execute_result"
    }
   ],
   "source": [
    "clear_rate = clear[0]*100\n",
    "clear_rate"
   ]
  },
  {
   "cell_type": "code",
   "execution_count": 911,
   "id": "a164077c",
   "metadata": {},
   "outputs": [
    {
     "data": {
      "text/plain": [
       "16"
      ]
     },
     "execution_count": 911,
     "metadata": {},
     "output_type": "execute_result"
    }
   ],
   "source": [
    "weight['석훈'].count()"
   ]
  },
  {
   "cell_type": "code",
   "execution_count": 912,
   "id": "4b04e20b",
   "metadata": {},
   "outputs": [
    {
     "data": {
      "text/plain": [
       "8"
      ]
     },
     "execution_count": 912,
     "metadata": {},
     "output_type": "execute_result"
    }
   ],
   "source": [
    "result = weight['석훈'][0] - weight['석훈'][weight['석훈'].count()-1]\n",
    "result"
   ]
  },
  {
   "cell_type": "code",
   "execution_count": 913,
   "id": "c6ffaa02",
   "metadata": {},
   "outputs": [],
   "source": [
    "weight_result = pd.DataFrame([clear_rate,result],\n",
    "                             index = ['목표달성률','기간내 결과'],\n",
    "                             columns =  ['석훈'])"
   ]
  },
  {
   "cell_type": "code",
   "execution_count": 914,
   "id": "d683784a",
   "metadata": {
    "scrolled": true
   },
   "outputs": [
    {
     "data": {
      "text/html": [
       "<div>\n",
       "<style scoped>\n",
       "    .dataframe tbody tr th:only-of-type {\n",
       "        vertical-align: middle;\n",
       "    }\n",
       "\n",
       "    .dataframe tbody tr th {\n",
       "        vertical-align: top;\n",
       "    }\n",
       "\n",
       "    .dataframe thead th {\n",
       "        text-align: right;\n",
       "    }\n",
       "</style>\n",
       "<table border=\"1\" class=\"dataframe\">\n",
       "  <thead>\n",
       "    <tr style=\"text-align: right;\">\n",
       "      <th></th>\n",
       "      <th>석훈</th>\n",
       "    </tr>\n",
       "  </thead>\n",
       "  <tbody>\n",
       "    <tr>\n",
       "      <th>목표달성률</th>\n",
       "      <td>62.5</td>\n",
       "    </tr>\n",
       "    <tr>\n",
       "      <th>기간내 결과</th>\n",
       "      <td>8.0</td>\n",
       "    </tr>\n",
       "  </tbody>\n",
       "</table>\n",
       "</div>"
      ],
      "text/plain": [
       "          석훈\n",
       "목표달성률   62.5\n",
       "기간내 결과   8.0"
      ]
     },
     "execution_count": 914,
     "metadata": {},
     "output_type": "execute_result"
    }
   ],
   "source": [
    "weight_result"
   ]
  },
  {
   "cell_type": "code",
   "execution_count": null,
   "id": "0aa520f2",
   "metadata": {},
   "outputs": [],
   "source": []
  }
 ],
 "metadata": {
  "kernelspec": {
   "display_name": "Python 3 (ipykernel)",
   "language": "python",
   "name": "python3"
  },
  "language_info": {
   "codemirror_mode": {
    "name": "ipython",
    "version": 3
   },
   "file_extension": ".py",
   "mimetype": "text/x-python",
   "name": "python",
   "nbconvert_exporter": "python",
   "pygments_lexer": "ipython3",
   "version": "3.9.13"
  }
 },
 "nbformat": 4,
 "nbformat_minor": 5
}
