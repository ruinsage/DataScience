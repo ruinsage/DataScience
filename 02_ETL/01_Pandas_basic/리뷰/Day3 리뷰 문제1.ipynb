{
 "cells": [
  {
   "cell_type": "markdown",
   "id": "6b04d9de",
   "metadata": {},
   "source": [
    "## 문제1"
   ]
  },
  {
   "cell_type": "code",
   "execution_count": 2,
   "id": "434b92c8",
   "metadata": {},
   "outputs": [
    {
     "data": {
      "text/html": [
       "<div>\n",
       "<style scoped>\n",
       "    .dataframe tbody tr th:only-of-type {\n",
       "        vertical-align: middle;\n",
       "    }\n",
       "\n",
       "    .dataframe tbody tr th {\n",
       "        vertical-align: top;\n",
       "    }\n",
       "\n",
       "    .dataframe thead th {\n",
       "        text-align: right;\n",
       "    }\n",
       "</style>\n",
       "<table border=\"1\" class=\"dataframe\">\n",
       "  <thead>\n",
       "    <tr style=\"text-align: right;\">\n",
       "      <th></th>\n",
       "      <th>book_name</th>\n",
       "      <th>book_writer</th>\n",
       "      <th>book_date</th>\n",
       "      <th>book_price</th>\n",
       "      <th>book_cover</th>\n",
       "      <th>book_page</th>\n",
       "      <th>book_size</th>\n",
       "      <th>book_weight</th>\n",
       "      <th>book_category</th>\n",
       "      <th>book_publisher</th>\n",
       "      <th>sales_point</th>\n",
       "    </tr>\n",
       "  </thead>\n",
       "  <tbody>\n",
       "    <tr>\n",
       "      <th>0</th>\n",
       "      <td>올 더 빌딩스 인 런던</td>\n",
       "      <td>제임스 걸리버 핸콕</td>\n",
       "      <td>2018-08-25</td>\n",
       "      <td>14,400</td>\n",
       "      <td>양장본</td>\n",
       "      <td>140</td>\n",
       "      <td>225*280mm</td>\n",
       "      <td>476</td>\n",
       "      <td>예술/대중문화</td>\n",
       "      <td>책발전소</td>\n",
       "      <td>110</td>\n",
       "    </tr>\n",
       "    <tr>\n",
       "      <th>1</th>\n",
       "      <td>렛 잇 블리드</td>\n",
       "      <td>이언 랜킨</td>\n",
       "      <td>2018-08-19</td>\n",
       "      <td>13,320</td>\n",
       "      <td>반양장본</td>\n",
       "      <td>476</td>\n",
       "      <td>128*188mm</td>\n",
       "      <td>476</td>\n",
       "      <td>소설/시/희곡</td>\n",
       "      <td>오픈하우스</td>\n",
       "      <td>110</td>\n",
       "    </tr>\n",
       "    <tr>\n",
       "      <th>2</th>\n",
       "      <td>은유로 사회 읽기</td>\n",
       "      <td>대니얼 리그니</td>\n",
       "      <td>2018-08-20</td>\n",
       "      <td>39,500</td>\n",
       "      <td>양장본</td>\n",
       "      <td>416</td>\n",
       "      <td>152*223mm</td>\n",
       "      <td>749</td>\n",
       "      <td>사회과학</td>\n",
       "      <td>한울(한울아카데미)</td>\n",
       "      <td>10</td>\n",
       "    </tr>\n",
       "    <tr>\n",
       "      <th>3</th>\n",
       "      <td>유럽 맥주 여행</td>\n",
       "      <td>백경학</td>\n",
       "      <td>2018-08-24</td>\n",
       "      <td>14,400</td>\n",
       "      <td>반양장본</td>\n",
       "      <td>308</td>\n",
       "      <td>150*220mm</td>\n",
       "      <td>400</td>\n",
       "      <td>역사</td>\n",
       "      <td>글항아리</td>\n",
       "      <td>10</td>\n",
       "    </tr>\n",
       "    <tr>\n",
       "      <th>4</th>\n",
       "      <td>이게, 행복이 아니면 무엇이지</td>\n",
       "      <td>김혜령</td>\n",
       "      <td>2018-08-20</td>\n",
       "      <td>13,050</td>\n",
       "      <td>NaN</td>\n",
       "      <td>288</td>\n",
       "      <td>135*200mm</td>\n",
       "      <td>374</td>\n",
       "      <td>인문학</td>\n",
       "      <td>웨일북</td>\n",
       "      <td>10</td>\n",
       "    </tr>\n",
       "  </tbody>\n",
       "</table>\n",
       "</div>"
      ],
      "text/plain": [
       "          book_name book_writer   book_date book_price book_cover book_page  \\\n",
       "0      올 더 빌딩스 인 런던  제임스 걸리버 핸콕  2018-08-25     14,400        양장본       140   \n",
       "1           렛 잇 블리드       이언 랜킨  2018-08-19     13,320       반양장본       476   \n",
       "2         은유로 사회 읽기     대니얼 리그니  2018-08-20     39,500        양장본       416   \n",
       "3          유럽 맥주 여행         백경학  2018-08-24     14,400       반양장본       308   \n",
       "4  이게, 행복이 아니면 무엇이지         김혜령  2018-08-20     13,050        NaN       288   \n",
       "\n",
       "   book_size  book_weight book_category book_publisher sales_point  \n",
       "0  225*280mm          476       예술/대중문화           책발전소         110  \n",
       "1  128*188mm          476       소설/시/희곡          오픈하우스         110  \n",
       "2  152*223mm          749          사회과학     한울(한울아카데미)          10  \n",
       "3  150*220mm          400            역사           글항아리          10  \n",
       "4  135*200mm          374           인문학            웨일북          10  "
      ]
     },
     "execution_count": 2,
     "metadata": {},
     "output_type": "execute_result"
    }
   ],
   "source": [
    "import pandas as pd\n",
    "book = pd.read_csv('../data/book_data.csv',encoding='cp949')\n",
    "book.head()"
   ]
  },
  {
   "cell_type": "markdown",
   "id": "6ca87d97",
   "metadata": {},
   "source": [
    "### 특정값이 있는 열 필터링 (예제 3-9)"
   ]
  },
  {
   "cell_type": "code",
   "execution_count": 3,
   "id": "98df2321",
   "metadata": {},
   "outputs": [
    {
     "data": {
      "text/html": [
       "<div>\n",
       "<style scoped>\n",
       "    .dataframe tbody tr th:only-of-type {\n",
       "        vertical-align: middle;\n",
       "    }\n",
       "\n",
       "    .dataframe tbody tr th {\n",
       "        vertical-align: top;\n",
       "    }\n",
       "\n",
       "    .dataframe thead th {\n",
       "        text-align: right;\n",
       "    }\n",
       "</style>\n",
       "<table border=\"1\" class=\"dataframe\">\n",
       "  <thead>\n",
       "    <tr style=\"text-align: right;\">\n",
       "      <th></th>\n",
       "      <th>book_category</th>\n",
       "    </tr>\n",
       "  </thead>\n",
       "  <tbody>\n",
       "    <tr>\n",
       "      <th>0</th>\n",
       "      <td>예술/대중문화</td>\n",
       "    </tr>\n",
       "    <tr>\n",
       "      <th>1</th>\n",
       "      <td>소설/시/희곡</td>\n",
       "    </tr>\n",
       "    <tr>\n",
       "      <th>2</th>\n",
       "      <td>사회과학</td>\n",
       "    </tr>\n",
       "    <tr>\n",
       "      <th>3</th>\n",
       "      <td>역사</td>\n",
       "    </tr>\n",
       "    <tr>\n",
       "      <th>4</th>\n",
       "      <td>인문학</td>\n",
       "    </tr>\n",
       "  </tbody>\n",
       "</table>\n",
       "</div>"
      ],
      "text/plain": [
       "  book_category\n",
       "0       예술/대중문화\n",
       "1       소설/시/희곡\n",
       "2          사회과학\n",
       "3            역사\n",
       "4           인문학"
      ]
     },
     "execution_count": 3,
     "metadata": {},
     "output_type": "execute_result"
    }
   ],
   "source": [
    "book.filter(like='book_category').head()"
   ]
  },
  {
   "cell_type": "markdown",
   "id": "c491652e",
   "metadata": {},
   "source": [
    "### 결측치 치환 (예제 3-10)"
   ]
  },
  {
   "cell_type": "code",
   "execution_count": 4,
   "id": "40e23461",
   "metadata": {},
   "outputs": [
    {
     "data": {
      "text/plain": [
       "book_name           0\n",
       "book_writer         0\n",
       "book_date           0\n",
       "book_price          0\n",
       "book_cover        317\n",
       "book_page           0\n",
       "book_size           1\n",
       "book_weight         0\n",
       "book_category       0\n",
       "book_publisher      0\n",
       "sales_point         0\n",
       "dtype: int64"
      ]
     },
     "execution_count": 4,
     "metadata": {},
     "output_type": "execute_result"
    }
   ],
   "source": [
    "book.isnull().sum()"
   ]
  },
  {
   "cell_type": "markdown",
   "id": "a7012c53",
   "metadata": {},
   "source": [
    "##### book_cover 열의 NaN 값을 \"자료없음\" 으로 바꾸기"
   ]
  },
  {
   "cell_type": "code",
   "execution_count": 5,
   "id": "96a70799",
   "metadata": {},
   "outputs": [],
   "source": [
    "book['book_cover'].fillna(\"자료없음\",inplace=True)"
   ]
  },
  {
   "cell_type": "code",
   "execution_count": 6,
   "id": "057e31d8",
   "metadata": {},
   "outputs": [
    {
     "data": {
      "text/html": [
       "<div>\n",
       "<style scoped>\n",
       "    .dataframe tbody tr th:only-of-type {\n",
       "        vertical-align: middle;\n",
       "    }\n",
       "\n",
       "    .dataframe tbody tr th {\n",
       "        vertical-align: top;\n",
       "    }\n",
       "\n",
       "    .dataframe thead th {\n",
       "        text-align: right;\n",
       "    }\n",
       "</style>\n",
       "<table border=\"1\" class=\"dataframe\">\n",
       "  <thead>\n",
       "    <tr style=\"text-align: right;\">\n",
       "      <th></th>\n",
       "      <th>book_cover</th>\n",
       "    </tr>\n",
       "  </thead>\n",
       "  <tbody>\n",
       "    <tr>\n",
       "      <th>0</th>\n",
       "      <td>양장본</td>\n",
       "    </tr>\n",
       "    <tr>\n",
       "      <th>1</th>\n",
       "      <td>반양장본</td>\n",
       "    </tr>\n",
       "    <tr>\n",
       "      <th>2</th>\n",
       "      <td>양장본</td>\n",
       "    </tr>\n",
       "    <tr>\n",
       "      <th>3</th>\n",
       "      <td>반양장본</td>\n",
       "    </tr>\n",
       "    <tr>\n",
       "      <th>4</th>\n",
       "      <td>자료없음</td>\n",
       "    </tr>\n",
       "    <tr>\n",
       "      <th>...</th>\n",
       "      <td>...</td>\n",
       "    </tr>\n",
       "    <tr>\n",
       "      <th>1995</th>\n",
       "      <td>반양장본</td>\n",
       "    </tr>\n",
       "    <tr>\n",
       "      <th>1996</th>\n",
       "      <td>반양장본</td>\n",
       "    </tr>\n",
       "    <tr>\n",
       "      <th>1997</th>\n",
       "      <td>양장본</td>\n",
       "    </tr>\n",
       "    <tr>\n",
       "      <th>1998</th>\n",
       "      <td>반양장본</td>\n",
       "    </tr>\n",
       "    <tr>\n",
       "      <th>1999</th>\n",
       "      <td>반양장본</td>\n",
       "    </tr>\n",
       "  </tbody>\n",
       "</table>\n",
       "<p>2000 rows × 1 columns</p>\n",
       "</div>"
      ],
      "text/plain": [
       "     book_cover\n",
       "0           양장본\n",
       "1          반양장본\n",
       "2           양장본\n",
       "3          반양장본\n",
       "4          자료없음\n",
       "...         ...\n",
       "1995       반양장본\n",
       "1996       반양장본\n",
       "1997        양장본\n",
       "1998       반양장본\n",
       "1999       반양장본\n",
       "\n",
       "[2000 rows x 1 columns]"
      ]
     },
     "execution_count": 6,
     "metadata": {},
     "output_type": "execute_result"
    }
   ],
   "source": [
    "book[['book_cover']]"
   ]
  }
 ],
 "metadata": {
  "kernelspec": {
   "display_name": "Python 3 (ipykernel)",
   "language": "python",
   "name": "python3"
  },
  "language_info": {
   "codemirror_mode": {
    "name": "ipython",
    "version": 3
   },
   "file_extension": ".py",
   "mimetype": "text/x-python",
   "name": "python",
   "nbconvert_exporter": "python",
   "pygments_lexer": "ipython3",
   "version": "3.9.13"
  }
 },
 "nbformat": 4,
 "nbformat_minor": 5
}
