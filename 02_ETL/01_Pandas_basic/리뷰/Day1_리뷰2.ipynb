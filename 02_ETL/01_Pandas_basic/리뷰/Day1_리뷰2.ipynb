{
 "cells": [
  {
   "cell_type": "markdown",
   "id": "dc646299",
   "metadata": {},
   "source": [
    "- 기본 데이터"
   ]
  },
  {
   "cell_type": "code",
   "execution_count": 50,
   "id": "f5be5e87",
   "metadata": {},
   "outputs": [],
   "source": [
    "import pandas as pd\n",
    "\n",
    "data = { '학교명' : ['서울대', '연세대', '고려대', '중앙대', '아주대', '충남대', '한양대', '한국대'],\n",
    "    '남자 비율' : [5.6, 4.3, 5.5, 3.4, 6.3, 5.0, 2.1, 9.9],  # 100% -> 10.0\n",
    "    '학생 수' : [10030, 10400, 8900, 5678, 3457, 27545, 2354, 12345] }\n",
    "\n",
    "df = pd.DataFrame(data)"
   ]
  },
  {
   "cell_type": "markdown",
   "id": "4302bca9",
   "metadata": {},
   "source": [
    "# 문제 1\n",
    "\n",
    "- 학생수가 10000명이 넘는 학교의 학교 명과 남자 비율을 추출 하시오"
   ]
  },
  {
   "cell_type": "code",
   "execution_count": 51,
   "id": "98224676",
   "metadata": {},
   "outputs": [
    {
     "data": {
      "text/html": [
       "<div>\n",
       "<style scoped>\n",
       "    .dataframe tbody tr th:only-of-type {\n",
       "        vertical-align: middle;\n",
       "    }\n",
       "\n",
       "    .dataframe tbody tr th {\n",
       "        vertical-align: top;\n",
       "    }\n",
       "\n",
       "    .dataframe thead th {\n",
       "        text-align: right;\n",
       "    }\n",
       "</style>\n",
       "<table border=\"1\" class=\"dataframe\">\n",
       "  <thead>\n",
       "    <tr style=\"text-align: right;\">\n",
       "      <th></th>\n",
       "      <th>학교명</th>\n",
       "      <th>남자 비율</th>\n",
       "    </tr>\n",
       "  </thead>\n",
       "  <tbody>\n",
       "    <tr>\n",
       "      <th>0</th>\n",
       "      <td>서울대</td>\n",
       "      <td>5.6</td>\n",
       "    </tr>\n",
       "    <tr>\n",
       "      <th>1</th>\n",
       "      <td>연세대</td>\n",
       "      <td>4.3</td>\n",
       "    </tr>\n",
       "    <tr>\n",
       "      <th>5</th>\n",
       "      <td>충남대</td>\n",
       "      <td>5.0</td>\n",
       "    </tr>\n",
       "    <tr>\n",
       "      <th>7</th>\n",
       "      <td>한국대</td>\n",
       "      <td>9.9</td>\n",
       "    </tr>\n",
       "  </tbody>\n",
       "</table>\n",
       "</div>"
      ],
      "text/plain": [
       "   학교명  남자 비율\n",
       "0  서울대    5.6\n",
       "1  연세대    4.3\n",
       "5  충남대    5.0\n",
       "7  한국대    9.9"
      ]
     },
     "execution_count": 51,
     "metadata": {},
     "output_type": "execute_result"
    }
   ],
   "source": [
    "\n",
    "df.loc[df['학생 수']>10000,['학교명','남자 비율']]"
   ]
  },
  {
   "cell_type": "markdown",
   "id": "083c518e",
   "metadata": {},
   "source": [
    "# 문제 2\n",
    "- 위의 데이터에서 남자 학생의 명수를 추출 하시오"
   ]
  },
  {
   "cell_type": "code",
   "execution_count": 57,
   "id": "1f980b50",
   "metadata": {},
   "outputs": [],
   "source": [
    "ser=pd.Series(df['학생 수']*(df['남자 비율']*0.1))"
   ]
  },
  {
   "cell_type": "code",
   "execution_count": 58,
   "id": "e70beb49",
   "metadata": {},
   "outputs": [
    {
     "data": {
      "text/plain": [
       "0     5616.80\n",
       "1     4472.00\n",
       "2     4895.00\n",
       "3     1930.52\n",
       "4     2177.91\n",
       "5    13772.50\n",
       "6      494.34\n",
       "7    12221.55\n",
       "dtype: float64"
      ]
     },
     "execution_count": 58,
     "metadata": {},
     "output_type": "execute_result"
    }
   ],
   "source": [
    "ser"
   ]
  },
  {
   "cell_type": "code",
   "execution_count": null,
   "id": "0a1a3373",
   "metadata": {},
   "outputs": [],
   "source": []
  }
 ],
 "metadata": {
  "kernelspec": {
   "display_name": "Python 3 (ipykernel)",
   "language": "python",
   "name": "python3"
  },
  "language_info": {
   "codemirror_mode": {
    "name": "ipython",
    "version": 3
   },
   "file_extension": ".py",
   "mimetype": "text/x-python",
   "name": "python",
   "nbconvert_exporter": "python",
   "pygments_lexer": "ipython3",
   "version": "3.9.13"
  }
 },
 "nbformat": 4,
 "nbformat_minor": 5
}
