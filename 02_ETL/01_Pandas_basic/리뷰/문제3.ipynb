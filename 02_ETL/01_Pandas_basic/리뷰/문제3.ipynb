{
 "cells": [
  {
   "cell_type": "code",
   "execution_count": 1,
   "id": "ea4c7407",
   "metadata": {},
   "outputs": [],
   "source": [
    "import pandas as pd"
   ]
  },
  {
   "cell_type": "markdown",
   "id": "f563af14",
   "metadata": {},
   "source": [
    "# 대학별 평균 등록금 데이터를 가공하여 설립 구분별 평균 데이터를 출력하라"
   ]
  },
  {
   "cell_type": "code",
   "execution_count": 12,
   "id": "5fced385",
   "metadata": {},
   "outputs": [],
   "source": [
    "tuition = pd.read_csv('../data/2017_college_tuition.csv',encoding='euc-kr')"
   ]
  },
  {
   "cell_type": "code",
   "execution_count": 11,
   "id": "ecd10729",
   "metadata": {},
   "outputs": [
    {
     "data": {
      "text/plain": [
       "설립구분\n",
       "국공립    3865\n",
       "사립     7011\n",
       "Name: 평균등록금, dtype: int32"
      ]
     },
     "execution_count": 11,
     "metadata": {},
     "output_type": "execute_result"
    }
   ],
   "source": [
    "tuition"
   ]
  },
  {
   "cell_type": "code",
   "execution_count": 13,
   "id": "5a770b4b",
   "metadata": {},
   "outputs": [],
   "source": [
    "tuition = tuition.groupby('설립구분').mean()"
   ]
  },
  {
   "cell_type": "code",
   "execution_count": 15,
   "id": "da55eff8",
   "metadata": {},
   "outputs": [
    {
     "data": {
      "text/html": [
       "<div>\n",
       "<style scoped>\n",
       "    .dataframe tbody tr th:only-of-type {\n",
       "        vertical-align: middle;\n",
       "    }\n",
       "\n",
       "    .dataframe tbody tr th {\n",
       "        vertical-align: top;\n",
       "    }\n",
       "\n",
       "    .dataframe thead th {\n",
       "        text-align: right;\n",
       "    }\n",
       "</style>\n",
       "<table border=\"1\" class=\"dataframe\">\n",
       "  <thead>\n",
       "    <tr style=\"text-align: right;\">\n",
       "      <th></th>\n",
       "      <th>평균등록금</th>\n",
       "    </tr>\n",
       "    <tr>\n",
       "      <th>설립구분</th>\n",
       "      <th></th>\n",
       "    </tr>\n",
       "  </thead>\n",
       "  <tbody>\n",
       "    <tr>\n",
       "      <th>국공립</th>\n",
       "      <td>3865.450000</td>\n",
       "    </tr>\n",
       "    <tr>\n",
       "      <th>사립</th>\n",
       "      <td>7011.282051</td>\n",
       "    </tr>\n",
       "  </tbody>\n",
       "</table>\n",
       "</div>"
      ],
      "text/plain": [
       "            평균등록금\n",
       "설립구분             \n",
       "국공립   3865.450000\n",
       "사립    7011.282051"
      ]
     },
     "execution_count": 15,
     "metadata": {},
     "output_type": "execute_result"
    }
   ],
   "source": [
    "tuition"
   ]
  },
  {
   "cell_type": "code",
   "execution_count": 16,
   "id": "a1a91804",
   "metadata": {},
   "outputs": [],
   "source": [
    "tuition['평균등록금'] = tuition['평균등록금'].astype('int')"
   ]
  },
  {
   "cell_type": "code",
   "execution_count": 17,
   "id": "8d16c577",
   "metadata": {},
   "outputs": [
    {
     "data": {
      "text/html": [
       "<div>\n",
       "<style scoped>\n",
       "    .dataframe tbody tr th:only-of-type {\n",
       "        vertical-align: middle;\n",
       "    }\n",
       "\n",
       "    .dataframe tbody tr th {\n",
       "        vertical-align: top;\n",
       "    }\n",
       "\n",
       "    .dataframe thead th {\n",
       "        text-align: right;\n",
       "    }\n",
       "</style>\n",
       "<table border=\"1\" class=\"dataframe\">\n",
       "  <thead>\n",
       "    <tr style=\"text-align: right;\">\n",
       "      <th></th>\n",
       "      <th>평균등록금</th>\n",
       "    </tr>\n",
       "    <tr>\n",
       "      <th>설립구분</th>\n",
       "      <th></th>\n",
       "    </tr>\n",
       "  </thead>\n",
       "  <tbody>\n",
       "    <tr>\n",
       "      <th>국공립</th>\n",
       "      <td>3865</td>\n",
       "    </tr>\n",
       "    <tr>\n",
       "      <th>사립</th>\n",
       "      <td>7011</td>\n",
       "    </tr>\n",
       "  </tbody>\n",
       "</table>\n",
       "</div>"
      ],
      "text/plain": [
       "      평균등록금\n",
       "설립구분       \n",
       "국공립    3865\n",
       "사립     7011"
      ]
     },
     "execution_count": 17,
     "metadata": {},
     "output_type": "execute_result"
    }
   ],
   "source": [
    "tuition"
   ]
  },
  {
   "cell_type": "code",
   "execution_count": null,
   "id": "ed73c551",
   "metadata": {},
   "outputs": [],
   "source": []
  }
 ],
 "metadata": {
  "kernelspec": {
   "display_name": "Python 3 (ipykernel)",
   "language": "python",
   "name": "python3"
  },
  "language_info": {
   "codemirror_mode": {
    "name": "ipython",
    "version": 3
   },
   "file_extension": ".py",
   "mimetype": "text/x-python",
   "name": "python",
   "nbconvert_exporter": "python",
   "pygments_lexer": "ipython3",
   "version": "3.9.12"
  }
 },
 "nbformat": 4,
 "nbformat_minor": 5
}
