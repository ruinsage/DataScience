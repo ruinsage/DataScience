{
 "cells": [
  {
   "cell_type": "markdown",
   "id": "e795deae",
   "metadata": {},
   "source": [
    "---"
   ]
  },
  {
   "cell_type": "code",
   "execution_count": 1,
   "id": "ff39a170",
   "metadata": {},
   "outputs": [],
   "source": [
    "import pandas as pd"
   ]
  },
  {
   "cell_type": "code",
   "execution_count": 2,
   "id": "fda5c9e2",
   "metadata": {},
   "outputs": [],
   "source": [
    "weight = pd.read_csv('../data/weight_loss.csv',encoding='cp949')"
   ]
  },
  {
   "cell_type": "code",
   "execution_count": 3,
   "id": "8a876d5b",
   "metadata": {},
   "outputs": [
    {
     "data": {
      "text/html": [
       "<div>\n",
       "<style scoped>\n",
       "    .dataframe tbody tr th:only-of-type {\n",
       "        vertical-align: middle;\n",
       "    }\n",
       "\n",
       "    .dataframe tbody tr th {\n",
       "        vertical-align: top;\n",
       "    }\n",
       "\n",
       "    .dataframe thead th {\n",
       "        text-align: right;\n",
       "    }\n",
       "</style>\n",
       "<table border=\"1\" class=\"dataframe\">\n",
       "  <thead>\n",
       "    <tr style=\"text-align: right;\">\n",
       "      <th></th>\n",
       "      <th>이름</th>\n",
       "      <th>월</th>\n",
       "      <th>주</th>\n",
       "      <th>몸무게</th>\n",
       "    </tr>\n",
       "  </thead>\n",
       "  <tbody>\n",
       "    <tr>\n",
       "      <th>0</th>\n",
       "      <td>지완</td>\n",
       "      <td>1월</td>\n",
       "      <td>1주</td>\n",
       "      <td>70</td>\n",
       "    </tr>\n",
       "    <tr>\n",
       "      <th>1</th>\n",
       "      <td>찬준</td>\n",
       "      <td>1월</td>\n",
       "      <td>1주</td>\n",
       "      <td>60</td>\n",
       "    </tr>\n",
       "    <tr>\n",
       "      <th>2</th>\n",
       "      <td>지완</td>\n",
       "      <td>1월</td>\n",
       "      <td>2주</td>\n",
       "      <td>69</td>\n",
       "    </tr>\n",
       "    <tr>\n",
       "      <th>3</th>\n",
       "      <td>찬준</td>\n",
       "      <td>1월</td>\n",
       "      <td>2주</td>\n",
       "      <td>59</td>\n",
       "    </tr>\n",
       "    <tr>\n",
       "      <th>4</th>\n",
       "      <td>지완</td>\n",
       "      <td>1월</td>\n",
       "      <td>3주</td>\n",
       "      <td>69</td>\n",
       "    </tr>\n",
       "  </tbody>\n",
       "</table>\n",
       "</div>"
      ],
      "text/plain": [
       "   이름   월   주  몸무게\n",
       "0  지완  1월  1주   70\n",
       "1  찬준  1월  1주   60\n",
       "2  지완  1월  2주   69\n",
       "3  찬준  1월  2주   59\n",
       "4  지완  1월  3주   69"
      ]
     },
     "execution_count": 3,
     "metadata": {},
     "output_type": "execute_result"
    }
   ],
   "source": [
    "weight.head()"
   ]
  },
  {
   "cell_type": "markdown",
   "id": "8f33946c",
   "metadata": {},
   "source": [
    "## 문제1: \n",
    "### 위 데이터프레임을 바탕으로 이름을 행으로 월을 열로 \n",
    "###      몸무게 값의 평균을 값으로하는 데이터프레임을 구성해보자"
   ]
  },
  {
   "cell_type": "code",
   "execution_count": 4,
   "id": "bcf5d0b5",
   "metadata": {},
   "outputs": [],
   "source": [
    "weight2 = weight.pivot_table(values = '몸무게',index = '이름',columns = '월', aggfunc='mean')"
   ]
  },
  {
   "cell_type": "code",
   "execution_count": 5,
   "id": "7811bd19",
   "metadata": {
    "scrolled": true
   },
   "outputs": [
    {
     "data": {
      "text/html": [
       "<div>\n",
       "<style scoped>\n",
       "    .dataframe tbody tr th:only-of-type {\n",
       "        vertical-align: middle;\n",
       "    }\n",
       "\n",
       "    .dataframe tbody tr th {\n",
       "        vertical-align: top;\n",
       "    }\n",
       "\n",
       "    .dataframe thead th {\n",
       "        text-align: right;\n",
       "    }\n",
       "</style>\n",
       "<table border=\"1\" class=\"dataframe\">\n",
       "  <thead>\n",
       "    <tr style=\"text-align: right;\">\n",
       "      <th>월</th>\n",
       "      <th>1월</th>\n",
       "      <th>2월</th>\n",
       "      <th>3월</th>\n",
       "      <th>4월</th>\n",
       "    </tr>\n",
       "    <tr>\n",
       "      <th>이름</th>\n",
       "      <th></th>\n",
       "      <th></th>\n",
       "      <th></th>\n",
       "      <th></th>\n",
       "    </tr>\n",
       "  </thead>\n",
       "  <tbody>\n",
       "    <tr>\n",
       "      <th>지완</th>\n",
       "      <td>69.25</td>\n",
       "      <td>67.5</td>\n",
       "      <td>65.25</td>\n",
       "      <td>62.75</td>\n",
       "    </tr>\n",
       "    <tr>\n",
       "      <th>찬준</th>\n",
       "      <td>59.25</td>\n",
       "      <td>57.5</td>\n",
       "      <td>55.25</td>\n",
       "      <td>52.75</td>\n",
       "    </tr>\n",
       "  </tbody>\n",
       "</table>\n",
       "</div>"
      ],
      "text/plain": [
       "월      1월    2월     3월     4월\n",
       "이름                           \n",
       "지완  69.25  67.5  65.25  62.75\n",
       "찬준  59.25  57.5  55.25  52.75"
      ]
     },
     "execution_count": 5,
     "metadata": {},
     "output_type": "execute_result"
    }
   ],
   "source": [
    "weight2"
   ]
  },
  {
   "cell_type": "markdown",
   "id": "d320249b",
   "metadata": {},
   "source": [
    "---"
   ]
  },
  {
   "cell_type": "markdown",
   "id": "345f1668",
   "metadata": {},
   "source": [
    "## 문제2: weight2 데이터프레임의 행과 열 위치를 바꾸어보자"
   ]
  },
  {
   "cell_type": "code",
   "execution_count": 6,
   "id": "57cb7854",
   "metadata": {},
   "outputs": [],
   "source": [
    "weight2_un = weight2.unstack()"
   ]
  },
  {
   "cell_type": "code",
   "execution_count": 7,
   "id": "c8629ca4",
   "metadata": {},
   "outputs": [
    {
     "data": {
      "text/plain": [
       "월   이름\n",
       "1월  지완    69.25\n",
       "    찬준    59.25\n",
       "2월  지완    67.50\n",
       "    찬준    57.50\n",
       "3월  지완    65.25\n",
       "    찬준    55.25\n",
       "4월  지완    62.75\n",
       "    찬준    52.75\n",
       "dtype: float64"
      ]
     },
     "execution_count": 7,
     "metadata": {},
     "output_type": "execute_result"
    }
   ],
   "source": [
    "weight2_un"
   ]
  },
  {
   "cell_type": "code",
   "execution_count": 8,
   "id": "6785283f",
   "metadata": {
    "scrolled": true
   },
   "outputs": [
    {
     "data": {
      "text/html": [
       "<div>\n",
       "<style scoped>\n",
       "    .dataframe tbody tr th:only-of-type {\n",
       "        vertical-align: middle;\n",
       "    }\n",
       "\n",
       "    .dataframe tbody tr th {\n",
       "        vertical-align: top;\n",
       "    }\n",
       "\n",
       "    .dataframe thead th {\n",
       "        text-align: right;\n",
       "    }\n",
       "</style>\n",
       "<table border=\"1\" class=\"dataframe\">\n",
       "  <thead>\n",
       "    <tr style=\"text-align: right;\">\n",
       "      <th></th>\n",
       "      <th></th>\n",
       "      <th>0</th>\n",
       "    </tr>\n",
       "    <tr>\n",
       "      <th>월</th>\n",
       "      <th>이름</th>\n",
       "      <th></th>\n",
       "    </tr>\n",
       "  </thead>\n",
       "  <tbody>\n",
       "    <tr>\n",
       "      <th rowspan=\"2\" valign=\"top\">1월</th>\n",
       "      <th>지완</th>\n",
       "      <td>69.25</td>\n",
       "    </tr>\n",
       "    <tr>\n",
       "      <th>찬준</th>\n",
       "      <td>59.25</td>\n",
       "    </tr>\n",
       "    <tr>\n",
       "      <th rowspan=\"2\" valign=\"top\">2월</th>\n",
       "      <th>지완</th>\n",
       "      <td>67.50</td>\n",
       "    </tr>\n",
       "    <tr>\n",
       "      <th>찬준</th>\n",
       "      <td>57.50</td>\n",
       "    </tr>\n",
       "    <tr>\n",
       "      <th rowspan=\"2\" valign=\"top\">3월</th>\n",
       "      <th>지완</th>\n",
       "      <td>65.25</td>\n",
       "    </tr>\n",
       "    <tr>\n",
       "      <th>찬준</th>\n",
       "      <td>55.25</td>\n",
       "    </tr>\n",
       "    <tr>\n",
       "      <th rowspan=\"2\" valign=\"top\">4월</th>\n",
       "      <th>지완</th>\n",
       "      <td>62.75</td>\n",
       "    </tr>\n",
       "    <tr>\n",
       "      <th>찬준</th>\n",
       "      <td>52.75</td>\n",
       "    </tr>\n",
       "  </tbody>\n",
       "</table>\n",
       "</div>"
      ],
      "text/plain": [
       "           0\n",
       "월  이름       \n",
       "1월 지완  69.25\n",
       "   찬준  59.25\n",
       "2월 지완  67.50\n",
       "   찬준  57.50\n",
       "3월 지완  65.25\n",
       "   찬준  55.25\n",
       "4월 지완  62.75\n",
       "   찬준  52.75"
      ]
     },
     "execution_count": 8,
     "metadata": {},
     "output_type": "execute_result"
    }
   ],
   "source": [
    "weight2_un.to_frame()"
   ]
  },
  {
   "cell_type": "code",
   "execution_count": 9,
   "id": "86e85f2c",
   "metadata": {},
   "outputs": [
    {
     "data": {
      "text/html": [
       "<div>\n",
       "<style scoped>\n",
       "    .dataframe tbody tr th:only-of-type {\n",
       "        vertical-align: middle;\n",
       "    }\n",
       "\n",
       "    .dataframe tbody tr th {\n",
       "        vertical-align: top;\n",
       "    }\n",
       "\n",
       "    .dataframe thead th {\n",
       "        text-align: right;\n",
       "    }\n",
       "</style>\n",
       "<table border=\"1\" class=\"dataframe\">\n",
       "  <thead>\n",
       "    <tr style=\"text-align: right;\">\n",
       "      <th>이름</th>\n",
       "      <th>지완</th>\n",
       "      <th>찬준</th>\n",
       "    </tr>\n",
       "    <tr>\n",
       "      <th>월</th>\n",
       "      <th></th>\n",
       "      <th></th>\n",
       "    </tr>\n",
       "  </thead>\n",
       "  <tbody>\n",
       "    <tr>\n",
       "      <th>1월</th>\n",
       "      <td>69.25</td>\n",
       "      <td>59.25</td>\n",
       "    </tr>\n",
       "    <tr>\n",
       "      <th>2월</th>\n",
       "      <td>67.50</td>\n",
       "      <td>57.50</td>\n",
       "    </tr>\n",
       "    <tr>\n",
       "      <th>3월</th>\n",
       "      <td>65.25</td>\n",
       "      <td>55.25</td>\n",
       "    </tr>\n",
       "    <tr>\n",
       "      <th>4월</th>\n",
       "      <td>62.75</td>\n",
       "      <td>52.75</td>\n",
       "    </tr>\n",
       "  </tbody>\n",
       "</table>\n",
       "</div>"
      ],
      "text/plain": [
       "이름     지완     찬준\n",
       "월               \n",
       "1월  69.25  59.25\n",
       "2월  67.50  57.50\n",
       "3월  65.25  55.25\n",
       "4월  62.75  52.75"
      ]
     },
     "execution_count": 9,
     "metadata": {},
     "output_type": "execute_result"
    }
   ],
   "source": [
    "weight2_un.unstack()"
   ]
  },
  {
   "cell_type": "markdown",
   "id": "97e8d2f4",
   "metadata": {},
   "source": [
    "#### 답1"
   ]
  },
  {
   "cell_type": "code",
   "execution_count": 10,
   "id": "8a18f96d",
   "metadata": {},
   "outputs": [],
   "source": [
    "weight_st = weight2.stack()"
   ]
  },
  {
   "cell_type": "code",
   "execution_count": 11,
   "id": "d441bdad",
   "metadata": {},
   "outputs": [
    {
     "data": {
      "text/plain": [
       "이름  월 \n",
       "지완  1월    69.25\n",
       "    2월    67.50\n",
       "    3월    65.25\n",
       "    4월    62.75\n",
       "찬준  1월    59.25\n",
       "    2월    57.50\n",
       "    3월    55.25\n",
       "    4월    52.75\n",
       "dtype: float64"
      ]
     },
     "execution_count": 11,
     "metadata": {},
     "output_type": "execute_result"
    }
   ],
   "source": [
    "weight_st"
   ]
  },
  {
   "cell_type": "markdown",
   "id": "9273cd47",
   "metadata": {},
   "source": [
    "#### 답 2"
   ]
  },
  {
   "cell_type": "code",
   "execution_count": 12,
   "id": "cb869b96",
   "metadata": {},
   "outputs": [],
   "source": [
    "weight3 = weight_st.to_frame()"
   ]
  },
  {
   "cell_type": "code",
   "execution_count": 13,
   "id": "ffdcc2c7",
   "metadata": {
    "scrolled": true
   },
   "outputs": [
    {
     "data": {
      "text/html": [
       "<div>\n",
       "<style scoped>\n",
       "    .dataframe tbody tr th:only-of-type {\n",
       "        vertical-align: middle;\n",
       "    }\n",
       "\n",
       "    .dataframe tbody tr th {\n",
       "        vertical-align: top;\n",
       "    }\n",
       "\n",
       "    .dataframe thead th {\n",
       "        text-align: right;\n",
       "    }\n",
       "</style>\n",
       "<table border=\"1\" class=\"dataframe\">\n",
       "  <thead>\n",
       "    <tr style=\"text-align: right;\">\n",
       "      <th></th>\n",
       "      <th></th>\n",
       "      <th>0</th>\n",
       "    </tr>\n",
       "    <tr>\n",
       "      <th>이름</th>\n",
       "      <th>월</th>\n",
       "      <th></th>\n",
       "    </tr>\n",
       "  </thead>\n",
       "  <tbody>\n",
       "    <tr>\n",
       "      <th rowspan=\"4\" valign=\"top\">지완</th>\n",
       "      <th>1월</th>\n",
       "      <td>69.25</td>\n",
       "    </tr>\n",
       "    <tr>\n",
       "      <th>2월</th>\n",
       "      <td>67.50</td>\n",
       "    </tr>\n",
       "    <tr>\n",
       "      <th>3월</th>\n",
       "      <td>65.25</td>\n",
       "    </tr>\n",
       "    <tr>\n",
       "      <th>4월</th>\n",
       "      <td>62.75</td>\n",
       "    </tr>\n",
       "    <tr>\n",
       "      <th rowspan=\"4\" valign=\"top\">찬준</th>\n",
       "      <th>1월</th>\n",
       "      <td>59.25</td>\n",
       "    </tr>\n",
       "    <tr>\n",
       "      <th>2월</th>\n",
       "      <td>57.50</td>\n",
       "    </tr>\n",
       "    <tr>\n",
       "      <th>3월</th>\n",
       "      <td>55.25</td>\n",
       "    </tr>\n",
       "    <tr>\n",
       "      <th>4월</th>\n",
       "      <td>52.75</td>\n",
       "    </tr>\n",
       "  </tbody>\n",
       "</table>\n",
       "</div>"
      ],
      "text/plain": [
       "           0\n",
       "이름 월        \n",
       "지완 1월  69.25\n",
       "   2월  67.50\n",
       "   3월  65.25\n",
       "   4월  62.75\n",
       "찬준 1월  59.25\n",
       "   2월  57.50\n",
       "   3월  55.25\n",
       "   4월  52.75"
      ]
     },
     "execution_count": 13,
     "metadata": {},
     "output_type": "execute_result"
    }
   ],
   "source": [
    "weight3"
   ]
  },
  {
   "cell_type": "code",
   "execution_count": 14,
   "id": "b7fc3674",
   "metadata": {},
   "outputs": [
    {
     "data": {
      "text/html": [
       "<div>\n",
       "<style scoped>\n",
       "    .dataframe tbody tr th:only-of-type {\n",
       "        vertical-align: middle;\n",
       "    }\n",
       "\n",
       "    .dataframe tbody tr th {\n",
       "        vertical-align: top;\n",
       "    }\n",
       "\n",
       "    .dataframe thead tr th {\n",
       "        text-align: left;\n",
       "    }\n",
       "\n",
       "    .dataframe thead tr:last-of-type th {\n",
       "        text-align: right;\n",
       "    }\n",
       "</style>\n",
       "<table border=\"1\" class=\"dataframe\">\n",
       "  <thead>\n",
       "    <tr>\n",
       "      <th></th>\n",
       "      <th colspan=\"2\" halign=\"left\">0</th>\n",
       "    </tr>\n",
       "    <tr>\n",
       "      <th>이름</th>\n",
       "      <th>지완</th>\n",
       "      <th>찬준</th>\n",
       "    </tr>\n",
       "    <tr>\n",
       "      <th>월</th>\n",
       "      <th></th>\n",
       "      <th></th>\n",
       "    </tr>\n",
       "  </thead>\n",
       "  <tbody>\n",
       "    <tr>\n",
       "      <th>1월</th>\n",
       "      <td>69.25</td>\n",
       "      <td>59.25</td>\n",
       "    </tr>\n",
       "    <tr>\n",
       "      <th>2월</th>\n",
       "      <td>67.50</td>\n",
       "      <td>57.50</td>\n",
       "    </tr>\n",
       "    <tr>\n",
       "      <th>3월</th>\n",
       "      <td>65.25</td>\n",
       "      <td>55.25</td>\n",
       "    </tr>\n",
       "    <tr>\n",
       "      <th>4월</th>\n",
       "      <td>62.75</td>\n",
       "      <td>52.75</td>\n",
       "    </tr>\n",
       "  </tbody>\n",
       "</table>\n",
       "</div>"
      ],
      "text/plain": [
       "        0       \n",
       "이름     지완     찬준\n",
       "월               \n",
       "1월  69.25  59.25\n",
       "2월  67.50  57.50\n",
       "3월  65.25  55.25\n",
       "4월  62.75  52.75"
      ]
     },
     "execution_count": 14,
     "metadata": {},
     "output_type": "execute_result"
    }
   ],
   "source": [
    "weight3.unstack(0)"
   ]
  },
  {
   "cell_type": "markdown",
   "id": "65bd8ddc",
   "metadata": {},
   "source": [
    "#### 답2 보완점: 자동으로 생성된 상위 열 이름(0)이 남아있다. "
   ]
  },
  {
   "cell_type": "markdown",
   "id": "5020d110",
   "metadata": {},
   "source": [
    "---"
   ]
  },
  {
   "cell_type": "code",
   "execution_count": 15,
   "id": "8fc605e1",
   "metadata": {},
   "outputs": [
    {
     "data": {
      "text/html": [
       "<div>\n",
       "<style scoped>\n",
       "    .dataframe tbody tr th:only-of-type {\n",
       "        vertical-align: middle;\n",
       "    }\n",
       "\n",
       "    .dataframe tbody tr th {\n",
       "        vertical-align: top;\n",
       "    }\n",
       "\n",
       "    .dataframe thead th {\n",
       "        text-align: right;\n",
       "    }\n",
       "</style>\n",
       "<table border=\"1\" class=\"dataframe\">\n",
       "  <thead>\n",
       "    <tr style=\"text-align: right;\">\n",
       "      <th></th>\n",
       "      <th>도시</th>\n",
       "      <th>연도</th>\n",
       "      <th>인구</th>\n",
       "      <th>지역</th>\n",
       "    </tr>\n",
       "  </thead>\n",
       "  <tbody>\n",
       "    <tr>\n",
       "      <th>0</th>\n",
       "      <td>서울</td>\n",
       "      <td>2015</td>\n",
       "      <td>9904312</td>\n",
       "      <td>수도권</td>\n",
       "    </tr>\n",
       "    <tr>\n",
       "      <th>1</th>\n",
       "      <td>서울</td>\n",
       "      <td>2010</td>\n",
       "      <td>9631482</td>\n",
       "      <td>수도권</td>\n",
       "    </tr>\n",
       "    <tr>\n",
       "      <th>2</th>\n",
       "      <td>서울</td>\n",
       "      <td>2005</td>\n",
       "      <td>9762546</td>\n",
       "      <td>수도권</td>\n",
       "    </tr>\n",
       "    <tr>\n",
       "      <th>3</th>\n",
       "      <td>부산</td>\n",
       "      <td>2015</td>\n",
       "      <td>3448737</td>\n",
       "      <td>경상권</td>\n",
       "    </tr>\n",
       "    <tr>\n",
       "      <th>4</th>\n",
       "      <td>부산</td>\n",
       "      <td>2010</td>\n",
       "      <td>3393191</td>\n",
       "      <td>경상권</td>\n",
       "    </tr>\n",
       "    <tr>\n",
       "      <th>5</th>\n",
       "      <td>부산</td>\n",
       "      <td>2005</td>\n",
       "      <td>3512547</td>\n",
       "      <td>경상권</td>\n",
       "    </tr>\n",
       "    <tr>\n",
       "      <th>6</th>\n",
       "      <td>인천</td>\n",
       "      <td>2015</td>\n",
       "      <td>2890451</td>\n",
       "      <td>수도권</td>\n",
       "    </tr>\n",
       "    <tr>\n",
       "      <th>7</th>\n",
       "      <td>인천</td>\n",
       "      <td>2010</td>\n",
       "      <td>2632003</td>\n",
       "      <td>수도권</td>\n",
       "    </tr>\n",
       "    <tr>\n",
       "      <th>8</th>\n",
       "      <td>부산</td>\n",
       "      <td>2015</td>\n",
       "      <td>1000000</td>\n",
       "      <td>경상권</td>\n",
       "    </tr>\n",
       "  </tbody>\n",
       "</table>\n",
       "</div>"
      ],
      "text/plain": [
       "   도시    연도       인구   지역\n",
       "0  서울  2015  9904312  수도권\n",
       "1  서울  2010  9631482  수도권\n",
       "2  서울  2005  9762546  수도권\n",
       "3  부산  2015  3448737  경상권\n",
       "4  부산  2010  3393191  경상권\n",
       "5  부산  2005  3512547  경상권\n",
       "6  인천  2015  2890451  수도권\n",
       "7  인천  2010  2632003  수도권\n",
       "8  부산  2015  1000000  경상권"
      ]
     },
     "execution_count": 15,
     "metadata": {},
     "output_type": "execute_result"
    }
   ],
   "source": [
    "data = {\n",
    "    \"도시\": [\"서울\", \"서울\", \"서울\", \"부산\", \"부산\", \"부산\", \"인천\", \"인천\",\"부산\"],\n",
    "    \"연도\": [\"2015\", \"2010\", \"2005\", \"2015\", \"2010\", \"2005\", \"2015\", \"2010\",\"2015\"],\n",
    "    \"인구\": [9904312, 9631482, 9762546, 3448737, 3393191, 3512547, 2890451, 2632003,1000000],\n",
    "    \"지역\": [\"수도권\", \"수도권\", \"수도권\", \"경상권\", \"경상권\", \"경상권\", \"수도권\", \"수도권\",\"경상권\"]\n",
    "}\n",
    "columns = [\"도시\", \"연도\", \"인구\", \"지역\"]\n",
    "df1 = pd.DataFrame(data, columns=columns)\n",
    "df1"
   ]
  },
  {
   "cell_type": "markdown",
   "id": "5feb5f96",
   "metadata": {},
   "source": [
    "## 문제3: \n",
    "### 지역을 기준으로 피벗테이블을 만들어보고  \n",
    "### 그룹바이함수를 통해서도 만들어보자"
   ]
  },
  {
   "cell_type": "markdown",
   "id": "4918af31",
   "metadata": {},
   "source": [
    "#### 답1"
   ]
  },
  {
   "cell_type": "code",
   "execution_count": 16,
   "id": "6e3ba2db",
   "metadata": {
    "scrolled": true
   },
   "outputs": [
    {
     "data": {
      "text/html": [
       "<div>\n",
       "<style scoped>\n",
       "    .dataframe tbody tr th:only-of-type {\n",
       "        vertical-align: middle;\n",
       "    }\n",
       "\n",
       "    .dataframe tbody tr th {\n",
       "        vertical-align: top;\n",
       "    }\n",
       "\n",
       "    .dataframe thead th {\n",
       "        text-align: right;\n",
       "    }\n",
       "</style>\n",
       "<table border=\"1\" class=\"dataframe\">\n",
       "  <thead>\n",
       "    <tr style=\"text-align: right;\">\n",
       "      <th>연도</th>\n",
       "      <th>2005</th>\n",
       "      <th>2010</th>\n",
       "      <th>2015</th>\n",
       "    </tr>\n",
       "    <tr>\n",
       "      <th>지역</th>\n",
       "      <th></th>\n",
       "      <th></th>\n",
       "      <th></th>\n",
       "    </tr>\n",
       "  </thead>\n",
       "  <tbody>\n",
       "    <tr>\n",
       "      <th>경상권</th>\n",
       "      <td>3512547</td>\n",
       "      <td>3393191</td>\n",
       "      <td>4448737</td>\n",
       "    </tr>\n",
       "    <tr>\n",
       "      <th>수도권</th>\n",
       "      <td>9762546</td>\n",
       "      <td>12263485</td>\n",
       "      <td>12794763</td>\n",
       "    </tr>\n",
       "  </tbody>\n",
       "</table>\n",
       "</div>"
      ],
      "text/plain": [
       "연도      2005      2010      2015\n",
       "지역                              \n",
       "경상권  3512547   3393191   4448737\n",
       "수도권  9762546  12263485  12794763"
      ]
     },
     "execution_count": 16,
     "metadata": {},
     "output_type": "execute_result"
    }
   ],
   "source": [
    "df2 = df1.pivot_table('인구','지역','연도', aggfunc = 'sum')\n",
    "df2"
   ]
  },
  {
   "cell_type": "markdown",
   "id": "394432c7",
   "metadata": {},
   "source": [
    "#### 답2"
   ]
  },
  {
   "cell_type": "code",
   "execution_count": 17,
   "id": "5847b522",
   "metadata": {},
   "outputs": [
    {
     "data": {
      "text/html": [
       "<div>\n",
       "<style scoped>\n",
       "    .dataframe tbody tr th:only-of-type {\n",
       "        vertical-align: middle;\n",
       "    }\n",
       "\n",
       "    .dataframe tbody tr th {\n",
       "        vertical-align: top;\n",
       "    }\n",
       "\n",
       "    .dataframe thead th {\n",
       "        text-align: right;\n",
       "    }\n",
       "</style>\n",
       "<table border=\"1\" class=\"dataframe\">\n",
       "  <thead>\n",
       "    <tr style=\"text-align: right;\">\n",
       "      <th>연도</th>\n",
       "      <th>2005</th>\n",
       "      <th>2010</th>\n",
       "      <th>2015</th>\n",
       "    </tr>\n",
       "    <tr>\n",
       "      <th>지역</th>\n",
       "      <th></th>\n",
       "      <th></th>\n",
       "      <th></th>\n",
       "    </tr>\n",
       "  </thead>\n",
       "  <tbody>\n",
       "    <tr>\n",
       "      <th>경상권</th>\n",
       "      <td>3512547</td>\n",
       "      <td>3393191</td>\n",
       "      <td>4448737</td>\n",
       "    </tr>\n",
       "    <tr>\n",
       "      <th>수도권</th>\n",
       "      <td>9762546</td>\n",
       "      <td>12263485</td>\n",
       "      <td>12794763</td>\n",
       "    </tr>\n",
       "  </tbody>\n",
       "</table>\n",
       "</div>"
      ],
      "text/plain": [
       "연도      2005      2010      2015\n",
       "지역                              \n",
       "경상권  3512547   3393191   4448737\n",
       "수도권  9762546  12263485  12794763"
      ]
     },
     "execution_count": 17,
     "metadata": {},
     "output_type": "execute_result"
    }
   ],
   "source": [
    "df2.groupby('지역').sum()"
   ]
  },
  {
   "cell_type": "markdown",
   "id": "d9edb60f",
   "metadata": {},
   "source": [
    "---"
   ]
  },
  {
   "cell_type": "code",
   "execution_count": 18,
   "id": "9f839168",
   "metadata": {
    "scrolled": true
   },
   "outputs": [],
   "source": [
    "data2 = {\n",
    "    \"도시\": [\"서울\", \"서울\", \"서울\", \"부산\", \"부산\", \"부산\", \"인천\", \"인천\",\"부산\"],\n",
    "    \"연도\": [\"2015\", \"2010\", \"2005\", \"2015\", \"2010\", \"2005\", \"2015\", \"2010\",\"2015\"],\n",
    "    \"인구\": [9904312, 9631482, 9762546, 3448737, 3393191, 3512547, 2890451, 2632003,1000000],\n",
    "    \"지역\": [\"수도권\", \"수도권\", \"수도권\", \"경상권\", \"경상권\", \"경상권\", \"수도권\", \"수도권\",\"경상권\"]\n",
    "}\n",
    "columns = [\"도시\", \"연도\", \"인구\", \"지역\"]\n",
    "df3 = pd.DataFrame(data2, columns=columns)"
   ]
  },
  {
   "cell_type": "code",
   "execution_count": 19,
   "id": "0cb1d9d7",
   "metadata": {
    "scrolled": false
   },
   "outputs": [
    {
     "data": {
      "text/html": [
       "<div>\n",
       "<style scoped>\n",
       "    .dataframe tbody tr th:only-of-type {\n",
       "        vertical-align: middle;\n",
       "    }\n",
       "\n",
       "    .dataframe tbody tr th {\n",
       "        vertical-align: top;\n",
       "    }\n",
       "\n",
       "    .dataframe thead th {\n",
       "        text-align: right;\n",
       "    }\n",
       "</style>\n",
       "<table border=\"1\" class=\"dataframe\">\n",
       "  <thead>\n",
       "    <tr style=\"text-align: right;\">\n",
       "      <th>연도</th>\n",
       "      <th>2005</th>\n",
       "      <th>2010</th>\n",
       "      <th>2015</th>\n",
       "    </tr>\n",
       "    <tr>\n",
       "      <th>도시</th>\n",
       "      <th></th>\n",
       "      <th></th>\n",
       "      <th></th>\n",
       "    </tr>\n",
       "  </thead>\n",
       "  <tbody>\n",
       "    <tr>\n",
       "      <th>부산</th>\n",
       "      <td>3512547.0</td>\n",
       "      <td>3393191.0</td>\n",
       "      <td>4448737.0</td>\n",
       "    </tr>\n",
       "    <tr>\n",
       "      <th>서울</th>\n",
       "      <td>9762546.0</td>\n",
       "      <td>9631482.0</td>\n",
       "      <td>9904312.0</td>\n",
       "    </tr>\n",
       "    <tr>\n",
       "      <th>인천</th>\n",
       "      <td>NaN</td>\n",
       "      <td>2632003.0</td>\n",
       "      <td>2890451.0</td>\n",
       "    </tr>\n",
       "  </tbody>\n",
       "</table>\n",
       "</div>"
      ],
      "text/plain": [
       "연도       2005       2010       2015\n",
       "도시                                 \n",
       "부산  3512547.0  3393191.0  4448737.0\n",
       "서울  9762546.0  9631482.0  9904312.0\n",
       "인천        NaN  2632003.0  2890451.0"
      ]
     },
     "execution_count": 19,
     "metadata": {},
     "output_type": "execute_result"
    }
   ],
   "source": [
    "df4=df3.pivot_table(values='인구', index='도시', columns='연도', aggfunc='sum')\n",
    "df4"
   ]
  },
  {
   "cell_type": "markdown",
   "id": "b0ea7ea4",
   "metadata": {},
   "source": [
    "## 문제4(복습): 인천의 2005년 결측치를 합리적인 방법으로 채워보자 "
   ]
  },
  {
   "cell_type": "code",
   "execution_count": 20,
   "id": "c62a0d06",
   "metadata": {},
   "outputs": [
    {
     "data": {
      "text/plain": [
       "nan"
      ]
     },
     "execution_count": 20,
     "metadata": {},
     "output_type": "execute_result"
    }
   ],
   "source": [
    "incheon_2005 = df4['2005']['인천']\n",
    "incheon_2005"
   ]
  },
  {
   "cell_type": "code",
   "execution_count": 21,
   "id": "fe441ef4",
   "metadata": {},
   "outputs": [
    {
     "data": {
      "text/plain": [
       "2632003.0"
      ]
     },
     "execution_count": 21,
     "metadata": {},
     "output_type": "execute_result"
    }
   ],
   "source": [
    "incheon_2010 = df4['2010']['인천']\n",
    "incheon_2010"
   ]
  },
  {
   "cell_type": "code",
   "execution_count": 22,
   "id": "8158f8bb",
   "metadata": {},
   "outputs": [
    {
     "data": {
      "text/plain": [
       "2890451.0"
      ]
     },
     "execution_count": 22,
     "metadata": {},
     "output_type": "execute_result"
    }
   ],
   "source": [
    "incheon_2015 = df4['2015']['인천']\n",
    "incheon_2015"
   ]
  },
  {
   "cell_type": "code",
   "execution_count": 23,
   "id": "7f017f51",
   "metadata": {},
   "outputs": [],
   "source": [
    "diff = incheon_2010 - (incheon_2015 - incheon_2010)"
   ]
  },
  {
   "cell_type": "code",
   "execution_count": 24,
   "id": "d831453f",
   "metadata": {},
   "outputs": [],
   "source": [
    "df4['2005']['인천'] = diff"
   ]
  },
  {
   "cell_type": "code",
   "execution_count": 25,
   "id": "b6b1fa45",
   "metadata": {},
   "outputs": [
    {
     "data": {
      "text/html": [
       "<div>\n",
       "<style scoped>\n",
       "    .dataframe tbody tr th:only-of-type {\n",
       "        vertical-align: middle;\n",
       "    }\n",
       "\n",
       "    .dataframe tbody tr th {\n",
       "        vertical-align: top;\n",
       "    }\n",
       "\n",
       "    .dataframe thead th {\n",
       "        text-align: right;\n",
       "    }\n",
       "</style>\n",
       "<table border=\"1\" class=\"dataframe\">\n",
       "  <thead>\n",
       "    <tr style=\"text-align: right;\">\n",
       "      <th>연도</th>\n",
       "      <th>2005</th>\n",
       "      <th>2010</th>\n",
       "      <th>2015</th>\n",
       "    </tr>\n",
       "    <tr>\n",
       "      <th>도시</th>\n",
       "      <th></th>\n",
       "      <th></th>\n",
       "      <th></th>\n",
       "    </tr>\n",
       "  </thead>\n",
       "  <tbody>\n",
       "    <tr>\n",
       "      <th>부산</th>\n",
       "      <td>3512547.0</td>\n",
       "      <td>3393191.0</td>\n",
       "      <td>4448737.0</td>\n",
       "    </tr>\n",
       "    <tr>\n",
       "      <th>서울</th>\n",
       "      <td>9762546.0</td>\n",
       "      <td>9631482.0</td>\n",
       "      <td>9904312.0</td>\n",
       "    </tr>\n",
       "    <tr>\n",
       "      <th>인천</th>\n",
       "      <td>2373555.0</td>\n",
       "      <td>2632003.0</td>\n",
       "      <td>2890451.0</td>\n",
       "    </tr>\n",
       "  </tbody>\n",
       "</table>\n",
       "</div>"
      ],
      "text/plain": [
       "연도       2005       2010       2015\n",
       "도시                                 \n",
       "부산  3512547.0  3393191.0  4448737.0\n",
       "서울  9762546.0  9631482.0  9904312.0\n",
       "인천  2373555.0  2632003.0  2890451.0"
      ]
     },
     "execution_count": 25,
     "metadata": {},
     "output_type": "execute_result"
    }
   ],
   "source": [
    "df4"
   ]
  },
  {
   "cell_type": "markdown",
   "id": "9205ddb8",
   "metadata": {},
   "source": [
    "---"
   ]
  },
  {
   "cell_type": "code",
   "execution_count": 26,
   "id": "2773ceae",
   "metadata": {},
   "outputs": [],
   "source": [
    "import numpy as np"
   ]
  },
  {
   "cell_type": "code",
   "execution_count": 27,
   "id": "a9498ad4",
   "metadata": {},
   "outputs": [
    {
     "data": {
      "text/html": [
       "<div>\n",
       "<style scoped>\n",
       "    .dataframe tbody tr th:only-of-type {\n",
       "        vertical-align: middle;\n",
       "    }\n",
       "\n",
       "    .dataframe tbody tr th {\n",
       "        vertical-align: top;\n",
       "    }\n",
       "\n",
       "    .dataframe thead th {\n",
       "        text-align: right;\n",
       "    }\n",
       "</style>\n",
       "<table border=\"1\" class=\"dataframe\">\n",
       "  <thead>\n",
       "    <tr style=\"text-align: right;\">\n",
       "      <th></th>\n",
       "      <th>total_bill</th>\n",
       "      <th>tip</th>\n",
       "      <th>sex</th>\n",
       "      <th>smoker</th>\n",
       "      <th>day</th>\n",
       "      <th>time</th>\n",
       "      <th>size</th>\n",
       "    </tr>\n",
       "  </thead>\n",
       "  <tbody>\n",
       "    <tr>\n",
       "      <th>0</th>\n",
       "      <td>16.99</td>\n",
       "      <td>1.01</td>\n",
       "      <td>Female</td>\n",
       "      <td>No</td>\n",
       "      <td>Sun</td>\n",
       "      <td>Dinner</td>\n",
       "      <td>2</td>\n",
       "    </tr>\n",
       "    <tr>\n",
       "      <th>1</th>\n",
       "      <td>10.34</td>\n",
       "      <td>1.66</td>\n",
       "      <td>Male</td>\n",
       "      <td>No</td>\n",
       "      <td>Sun</td>\n",
       "      <td>Dinner</td>\n",
       "      <td>3</td>\n",
       "    </tr>\n",
       "    <tr>\n",
       "      <th>2</th>\n",
       "      <td>21.01</td>\n",
       "      <td>3.50</td>\n",
       "      <td>Male</td>\n",
       "      <td>No</td>\n",
       "      <td>Sun</td>\n",
       "      <td>Dinner</td>\n",
       "      <td>3</td>\n",
       "    </tr>\n",
       "    <tr>\n",
       "      <th>3</th>\n",
       "      <td>23.68</td>\n",
       "      <td>3.31</td>\n",
       "      <td>Male</td>\n",
       "      <td>No</td>\n",
       "      <td>Sun</td>\n",
       "      <td>Dinner</td>\n",
       "      <td>2</td>\n",
       "    </tr>\n",
       "    <tr>\n",
       "      <th>4</th>\n",
       "      <td>24.59</td>\n",
       "      <td>3.61</td>\n",
       "      <td>Female</td>\n",
       "      <td>No</td>\n",
       "      <td>Sun</td>\n",
       "      <td>Dinner</td>\n",
       "      <td>4</td>\n",
       "    </tr>\n",
       "    <tr>\n",
       "      <th>...</th>\n",
       "      <td>...</td>\n",
       "      <td>...</td>\n",
       "      <td>...</td>\n",
       "      <td>...</td>\n",
       "      <td>...</td>\n",
       "      <td>...</td>\n",
       "      <td>...</td>\n",
       "    </tr>\n",
       "    <tr>\n",
       "      <th>239</th>\n",
       "      <td>29.03</td>\n",
       "      <td>5.92</td>\n",
       "      <td>Male</td>\n",
       "      <td>No</td>\n",
       "      <td>Sat</td>\n",
       "      <td>Dinner</td>\n",
       "      <td>3</td>\n",
       "    </tr>\n",
       "    <tr>\n",
       "      <th>240</th>\n",
       "      <td>27.18</td>\n",
       "      <td>2.00</td>\n",
       "      <td>Female</td>\n",
       "      <td>Yes</td>\n",
       "      <td>Sat</td>\n",
       "      <td>Dinner</td>\n",
       "      <td>2</td>\n",
       "    </tr>\n",
       "    <tr>\n",
       "      <th>241</th>\n",
       "      <td>22.67</td>\n",
       "      <td>2.00</td>\n",
       "      <td>Male</td>\n",
       "      <td>Yes</td>\n",
       "      <td>Sat</td>\n",
       "      <td>Dinner</td>\n",
       "      <td>2</td>\n",
       "    </tr>\n",
       "    <tr>\n",
       "      <th>242</th>\n",
       "      <td>17.82</td>\n",
       "      <td>1.75</td>\n",
       "      <td>Male</td>\n",
       "      <td>No</td>\n",
       "      <td>Sat</td>\n",
       "      <td>Dinner</td>\n",
       "      <td>2</td>\n",
       "    </tr>\n",
       "    <tr>\n",
       "      <th>243</th>\n",
       "      <td>18.78</td>\n",
       "      <td>3.00</td>\n",
       "      <td>Female</td>\n",
       "      <td>No</td>\n",
       "      <td>Thur</td>\n",
       "      <td>Dinner</td>\n",
       "      <td>2</td>\n",
       "    </tr>\n",
       "  </tbody>\n",
       "</table>\n",
       "<p>244 rows × 7 columns</p>\n",
       "</div>"
      ],
      "text/plain": [
       "     total_bill   tip     sex smoker   day    time  size\n",
       "0         16.99  1.01  Female     No   Sun  Dinner     2\n",
       "1         10.34  1.66    Male     No   Sun  Dinner     3\n",
       "2         21.01  3.50    Male     No   Sun  Dinner     3\n",
       "3         23.68  3.31    Male     No   Sun  Dinner     2\n",
       "4         24.59  3.61  Female     No   Sun  Dinner     4\n",
       "..          ...   ...     ...    ...   ...     ...   ...\n",
       "239       29.03  5.92    Male     No   Sat  Dinner     3\n",
       "240       27.18  2.00  Female    Yes   Sat  Dinner     2\n",
       "241       22.67  2.00    Male    Yes   Sat  Dinner     2\n",
       "242       17.82  1.75    Male     No   Sat  Dinner     2\n",
       "243       18.78  3.00  Female     No  Thur  Dinner     2\n",
       "\n",
       "[244 rows x 7 columns]"
      ]
     },
     "execution_count": 27,
     "metadata": {},
     "output_type": "execute_result"
    }
   ],
   "source": [
    "import seaborn as sns\n",
    "df = sns.load_dataset('tips')\n",
    "df"
   ]
  },
  {
   "cell_type": "markdown",
   "id": "197aad6b",
   "metadata": {},
   "source": [
    "## 문제5:\n",
    "##    tip의 가격에 영향을 미친 요인으로 sex,smoker,day,time을 선정했을 때,\n",
    "##    각 요인의 비중이 더 큰요인을 나타내는 데이터프레임을 구성해보자"
   ]
  },
  {
   "cell_type": "markdown",
   "id": "303ce6cc",
   "metadata": {},
   "source": [
    "#### 답:"
   ]
  },
  {
   "cell_type": "code",
   "execution_count": 28,
   "id": "4fc89217",
   "metadata": {
    "scrolled": false
   },
   "outputs": [
    {
     "data": {
      "text/html": [
       "<div>\n",
       "<style scoped>\n",
       "    .dataframe tbody tr th:only-of-type {\n",
       "        vertical-align: middle;\n",
       "    }\n",
       "\n",
       "    .dataframe tbody tr th {\n",
       "        vertical-align: top;\n",
       "    }\n",
       "\n",
       "    .dataframe thead th {\n",
       "        text-align: right;\n",
       "    }\n",
       "</style>\n",
       "<table border=\"1\" class=\"dataframe\">\n",
       "  <thead>\n",
       "    <tr style=\"text-align: right;\">\n",
       "      <th></th>\n",
       "      <th>total_bill</th>\n",
       "      <th>tip</th>\n",
       "      <th>size</th>\n",
       "    </tr>\n",
       "    <tr>\n",
       "      <th>sex</th>\n",
       "      <th></th>\n",
       "      <th></th>\n",
       "      <th></th>\n",
       "    </tr>\n",
       "  </thead>\n",
       "  <tbody>\n",
       "    <tr>\n",
       "      <th>Male</th>\n",
       "      <td>20.744076</td>\n",
       "      <td>3.089618</td>\n",
       "      <td>2.630573</td>\n",
       "    </tr>\n",
       "    <tr>\n",
       "      <th>Female</th>\n",
       "      <td>18.056897</td>\n",
       "      <td>2.833448</td>\n",
       "      <td>2.459770</td>\n",
       "    </tr>\n",
       "  </tbody>\n",
       "</table>\n",
       "</div>"
      ],
      "text/plain": [
       "        total_bill       tip      size\n",
       "sex                                   \n",
       "Male     20.744076  3.089618  2.630573\n",
       "Female   18.056897  2.833448  2.459770"
      ]
     },
     "execution_count": 28,
     "metadata": {},
     "output_type": "execute_result"
    }
   ],
   "source": [
    "df_sex = df.groupby('sex').mean()\n",
    "df_sex"
   ]
  },
  {
   "cell_type": "code",
   "execution_count": 29,
   "id": "97139347",
   "metadata": {},
   "outputs": [
    {
     "data": {
      "text/plain": [
       "['Male']\n",
       "Categories (2, object): ['Male', 'Female']"
      ]
     },
     "execution_count": 29,
     "metadata": {},
     "output_type": "execute_result"
    }
   ],
   "source": [
    "df_sex_index = df_sex['tip'].nlargest(1).index.values\n",
    "df_sex_index"
   ]
  },
  {
   "cell_type": "code",
   "execution_count": 30,
   "id": "493853cd",
   "metadata": {
    "scrolled": true
   },
   "outputs": [
    {
     "data": {
      "text/html": [
       "<div>\n",
       "<style scoped>\n",
       "    .dataframe tbody tr th:only-of-type {\n",
       "        vertical-align: middle;\n",
       "    }\n",
       "\n",
       "    .dataframe tbody tr th {\n",
       "        vertical-align: top;\n",
       "    }\n",
       "\n",
       "    .dataframe thead th {\n",
       "        text-align: right;\n",
       "    }\n",
       "</style>\n",
       "<table border=\"1\" class=\"dataframe\">\n",
       "  <thead>\n",
       "    <tr style=\"text-align: right;\">\n",
       "      <th></th>\n",
       "      <th>total_bill</th>\n",
       "      <th>tip</th>\n",
       "      <th>size</th>\n",
       "    </tr>\n",
       "    <tr>\n",
       "      <th>smoker</th>\n",
       "      <th></th>\n",
       "      <th></th>\n",
       "      <th></th>\n",
       "    </tr>\n",
       "  </thead>\n",
       "  <tbody>\n",
       "    <tr>\n",
       "      <th>Yes</th>\n",
       "      <td>20.756344</td>\n",
       "      <td>3.008710</td>\n",
       "      <td>2.408602</td>\n",
       "    </tr>\n",
       "    <tr>\n",
       "      <th>No</th>\n",
       "      <td>19.188278</td>\n",
       "      <td>2.991854</td>\n",
       "      <td>2.668874</td>\n",
       "    </tr>\n",
       "  </tbody>\n",
       "</table>\n",
       "</div>"
      ],
      "text/plain": [
       "        total_bill       tip      size\n",
       "smoker                                \n",
       "Yes      20.756344  3.008710  2.408602\n",
       "No       19.188278  2.991854  2.668874"
      ]
     },
     "execution_count": 30,
     "metadata": {},
     "output_type": "execute_result"
    }
   ],
   "source": [
    "df_smoker = df.groupby('smoker').mean()\n",
    "df_smoker"
   ]
  },
  {
   "cell_type": "code",
   "execution_count": 31,
   "id": "af7471e2",
   "metadata": {},
   "outputs": [
    {
     "data": {
      "text/plain": [
       "['Yes']\n",
       "Categories (2, object): ['Yes', 'No']"
      ]
     },
     "execution_count": 31,
     "metadata": {},
     "output_type": "execute_result"
    }
   ],
   "source": [
    "df_smoker_index = df_smoker['tip'].nlargest(1).index.values\n",
    "df_smoker_index"
   ]
  },
  {
   "cell_type": "code",
   "execution_count": 32,
   "id": "b1a44fa9",
   "metadata": {},
   "outputs": [
    {
     "data": {
      "text/html": [
       "<div>\n",
       "<style scoped>\n",
       "    .dataframe tbody tr th:only-of-type {\n",
       "        vertical-align: middle;\n",
       "    }\n",
       "\n",
       "    .dataframe tbody tr th {\n",
       "        vertical-align: top;\n",
       "    }\n",
       "\n",
       "    .dataframe thead th {\n",
       "        text-align: right;\n",
       "    }\n",
       "</style>\n",
       "<table border=\"1\" class=\"dataframe\">\n",
       "  <thead>\n",
       "    <tr style=\"text-align: right;\">\n",
       "      <th></th>\n",
       "      <th>total_bill</th>\n",
       "      <th>tip</th>\n",
       "      <th>size</th>\n",
       "    </tr>\n",
       "    <tr>\n",
       "      <th>day</th>\n",
       "      <th></th>\n",
       "      <th></th>\n",
       "      <th></th>\n",
       "    </tr>\n",
       "  </thead>\n",
       "  <tbody>\n",
       "    <tr>\n",
       "      <th>Thur</th>\n",
       "      <td>17.682742</td>\n",
       "      <td>2.771452</td>\n",
       "      <td>2.451613</td>\n",
       "    </tr>\n",
       "    <tr>\n",
       "      <th>Fri</th>\n",
       "      <td>17.151579</td>\n",
       "      <td>2.734737</td>\n",
       "      <td>2.105263</td>\n",
       "    </tr>\n",
       "    <tr>\n",
       "      <th>Sat</th>\n",
       "      <td>20.441379</td>\n",
       "      <td>2.993103</td>\n",
       "      <td>2.517241</td>\n",
       "    </tr>\n",
       "    <tr>\n",
       "      <th>Sun</th>\n",
       "      <td>21.410000</td>\n",
       "      <td>3.255132</td>\n",
       "      <td>2.842105</td>\n",
       "    </tr>\n",
       "  </tbody>\n",
       "</table>\n",
       "</div>"
      ],
      "text/plain": [
       "      total_bill       tip      size\n",
       "day                                 \n",
       "Thur   17.682742  2.771452  2.451613\n",
       "Fri    17.151579  2.734737  2.105263\n",
       "Sat    20.441379  2.993103  2.517241\n",
       "Sun    21.410000  3.255132  2.842105"
      ]
     },
     "execution_count": 32,
     "metadata": {},
     "output_type": "execute_result"
    }
   ],
   "source": [
    "df_day = df.groupby('day').mean()\n",
    "df_day"
   ]
  },
  {
   "cell_type": "code",
   "execution_count": 33,
   "id": "11c10d4f",
   "metadata": {},
   "outputs": [
    {
     "data": {
      "text/plain": [
       "['Sun']\n",
       "Categories (4, object): ['Thur', 'Fri', 'Sat', 'Sun']"
      ]
     },
     "execution_count": 33,
     "metadata": {},
     "output_type": "execute_result"
    }
   ],
   "source": [
    "df_day_index = df_day['tip'].nlargest(1).index.values\n",
    "df_day_index"
   ]
  },
  {
   "cell_type": "code",
   "execution_count": 34,
   "id": "027afb36",
   "metadata": {
    "scrolled": true
   },
   "outputs": [
    {
     "data": {
      "text/html": [
       "<div>\n",
       "<style scoped>\n",
       "    .dataframe tbody tr th:only-of-type {\n",
       "        vertical-align: middle;\n",
       "    }\n",
       "\n",
       "    .dataframe tbody tr th {\n",
       "        vertical-align: top;\n",
       "    }\n",
       "\n",
       "    .dataframe thead th {\n",
       "        text-align: right;\n",
       "    }\n",
       "</style>\n",
       "<table border=\"1\" class=\"dataframe\">\n",
       "  <thead>\n",
       "    <tr style=\"text-align: right;\">\n",
       "      <th></th>\n",
       "      <th>total_bill</th>\n",
       "      <th>tip</th>\n",
       "      <th>size</th>\n",
       "    </tr>\n",
       "    <tr>\n",
       "      <th>time</th>\n",
       "      <th></th>\n",
       "      <th></th>\n",
       "      <th></th>\n",
       "    </tr>\n",
       "  </thead>\n",
       "  <tbody>\n",
       "    <tr>\n",
       "      <th>Lunch</th>\n",
       "      <td>17.168676</td>\n",
       "      <td>2.728088</td>\n",
       "      <td>2.411765</td>\n",
       "    </tr>\n",
       "    <tr>\n",
       "      <th>Dinner</th>\n",
       "      <td>20.797159</td>\n",
       "      <td>3.102670</td>\n",
       "      <td>2.630682</td>\n",
       "    </tr>\n",
       "  </tbody>\n",
       "</table>\n",
       "</div>"
      ],
      "text/plain": [
       "        total_bill       tip      size\n",
       "time                                  \n",
       "Lunch    17.168676  2.728088  2.411765\n",
       "Dinner   20.797159  3.102670  2.630682"
      ]
     },
     "execution_count": 34,
     "metadata": {},
     "output_type": "execute_result"
    }
   ],
   "source": [
    "df_time = df.groupby('time').mean()\n",
    "df_time"
   ]
  },
  {
   "cell_type": "code",
   "execution_count": 35,
   "id": "ca3443f1",
   "metadata": {
    "scrolled": true
   },
   "outputs": [
    {
     "data": {
      "text/plain": [
       "['Dinner']\n",
       "Categories (2, object): ['Lunch', 'Dinner']"
      ]
     },
     "execution_count": 35,
     "metadata": {},
     "output_type": "execute_result"
    }
   ],
   "source": [
    "df_time_index = df_time['tip'].nlargest(1).index.values\n",
    "df_time_index"
   ]
  },
  {
   "cell_type": "code",
   "execution_count": 36,
   "id": "a3d95736",
   "metadata": {},
   "outputs": [
    {
     "name": "stderr",
     "output_type": "stream",
     "text": [
      "C:\\Users\\tj\\AppData\\Local\\Temp\\ipykernel_12352\\683114584.py:1: DeprecationWarning: `np.object` is a deprecated alias for the builtin `object`. To silence this warning, use `object` by itself. Doing this will not modify any behavior and is safe. \n",
      "Deprecated in NumPy 1.20; for more details and guidance: https://numpy.org/devdocs/release/1.20.0-notes.html#deprecations\n",
      "  sex_index = df_sex_index.astype(np.object)\n"
     ]
    },
    {
     "data": {
      "text/plain": [
       "array(['Male'], dtype=object)"
      ]
     },
     "execution_count": 36,
     "metadata": {},
     "output_type": "execute_result"
    }
   ],
   "source": [
    "sex_index = df_sex_index.astype(np.object)\n",
    "sex_index"
   ]
  },
  {
   "cell_type": "code",
   "execution_count": 37,
   "id": "1431cac0",
   "metadata": {},
   "outputs": [
    {
     "name": "stderr",
     "output_type": "stream",
     "text": [
      "C:\\Users\\tj\\AppData\\Local\\Temp\\ipykernel_12352\\3295270402.py:1: DeprecationWarning: `np.object` is a deprecated alias for the builtin `object`. To silence this warning, use `object` by itself. Doing this will not modify any behavior and is safe. \n",
      "Deprecated in NumPy 1.20; for more details and guidance: https://numpy.org/devdocs/release/1.20.0-notes.html#deprecations\n",
      "  smoker_index = df_smoker_index.astype(np.object)\n"
     ]
    },
    {
     "data": {
      "text/plain": [
       "array(['Yes'], dtype=object)"
      ]
     },
     "execution_count": 37,
     "metadata": {},
     "output_type": "execute_result"
    }
   ],
   "source": [
    "smoker_index = df_smoker_index.astype(np.object)\n",
    "smoker_index"
   ]
  },
  {
   "cell_type": "code",
   "execution_count": 38,
   "id": "91864481",
   "metadata": {},
   "outputs": [
    {
     "name": "stderr",
     "output_type": "stream",
     "text": [
      "C:\\Users\\tj\\AppData\\Local\\Temp\\ipykernel_12352\\4061752470.py:1: DeprecationWarning: `np.object` is a deprecated alias for the builtin `object`. To silence this warning, use `object` by itself. Doing this will not modify any behavior and is safe. \n",
      "Deprecated in NumPy 1.20; for more details and guidance: https://numpy.org/devdocs/release/1.20.0-notes.html#deprecations\n",
      "  day_index = df_day_index.astype(np.object)\n"
     ]
    },
    {
     "data": {
      "text/plain": [
       "array(['Sun'], dtype=object)"
      ]
     },
     "execution_count": 38,
     "metadata": {},
     "output_type": "execute_result"
    }
   ],
   "source": [
    "day_index = df_day_index.astype(np.object)\n",
    "day_index"
   ]
  },
  {
   "cell_type": "code",
   "execution_count": 39,
   "id": "bf8a97be",
   "metadata": {
    "scrolled": true
   },
   "outputs": [
    {
     "name": "stderr",
     "output_type": "stream",
     "text": [
      "C:\\Users\\tj\\AppData\\Local\\Temp\\ipykernel_12352\\816711128.py:1: DeprecationWarning: `np.object` is a deprecated alias for the builtin `object`. To silence this warning, use `object` by itself. Doing this will not modify any behavior and is safe. \n",
      "Deprecated in NumPy 1.20; for more details and guidance: https://numpy.org/devdocs/release/1.20.0-notes.html#deprecations\n",
      "  time_index = df_time_index.astype(np.object)\n"
     ]
    },
    {
     "data": {
      "text/plain": [
       "array(['Dinner'], dtype=object)"
      ]
     },
     "execution_count": 39,
     "metadata": {},
     "output_type": "execute_result"
    }
   ],
   "source": [
    "time_index = df_time_index.astype(np.object)\n",
    "time_index"
   ]
  },
  {
   "cell_type": "code",
   "execution_count": 40,
   "id": "5078cde3",
   "metadata": {},
   "outputs": [],
   "source": [
    "data22 = [sex_index,smoker_index,day_index,time_index]"
   ]
  },
  {
   "cell_type": "code",
   "execution_count": 41,
   "id": "932674c3",
   "metadata": {
    "scrolled": true
   },
   "outputs": [
    {
     "data": {
      "text/plain": [
       "[array(['Male'], dtype=object),\n",
       " array(['Yes'], dtype=object),\n",
       " array(['Sun'], dtype=object),\n",
       " array(['Dinner'], dtype=object)]"
      ]
     },
     "execution_count": 41,
     "metadata": {},
     "output_type": "execute_result"
    }
   ],
   "source": [
    "data22"
   ]
  },
  {
   "cell_type": "code",
   "execution_count": 42,
   "id": "c02e516d",
   "metadata": {
    "scrolled": false
   },
   "outputs": [],
   "source": [
    "df22 = pd.DataFrame(data22,\n",
    "                   index = ['sex','smoker','day','time'],\n",
    "                   columns = ['most_factor'])"
   ]
  },
  {
   "cell_type": "code",
   "execution_count": 43,
   "id": "2d2e939b",
   "metadata": {
    "scrolled": true
   },
   "outputs": [
    {
     "data": {
      "text/html": [
       "<div>\n",
       "<style scoped>\n",
       "    .dataframe tbody tr th:only-of-type {\n",
       "        vertical-align: middle;\n",
       "    }\n",
       "\n",
       "    .dataframe tbody tr th {\n",
       "        vertical-align: top;\n",
       "    }\n",
       "\n",
       "    .dataframe thead th {\n",
       "        text-align: right;\n",
       "    }\n",
       "</style>\n",
       "<table border=\"1\" class=\"dataframe\">\n",
       "  <thead>\n",
       "    <tr style=\"text-align: right;\">\n",
       "      <th></th>\n",
       "      <th>most_factor</th>\n",
       "    </tr>\n",
       "  </thead>\n",
       "  <tbody>\n",
       "    <tr>\n",
       "      <th>sex</th>\n",
       "      <td>Male</td>\n",
       "    </tr>\n",
       "    <tr>\n",
       "      <th>smoker</th>\n",
       "      <td>Yes</td>\n",
       "    </tr>\n",
       "    <tr>\n",
       "      <th>day</th>\n",
       "      <td>Sun</td>\n",
       "    </tr>\n",
       "    <tr>\n",
       "      <th>time</th>\n",
       "      <td>Dinner</td>\n",
       "    </tr>\n",
       "  </tbody>\n",
       "</table>\n",
       "</div>"
      ],
      "text/plain": [
       "       most_factor\n",
       "sex           Male\n",
       "smoker         Yes\n",
       "day            Sun\n",
       "time        Dinner"
      ]
     },
     "execution_count": 43,
     "metadata": {},
     "output_type": "execute_result"
    }
   ],
   "source": [
    "df22"
   ]
  },
  {
   "cell_type": "markdown",
   "id": "7386422a",
   "metadata": {},
   "source": [
    "#### 답의 보완점: warnning 메시지 회피 방법, 어레이 형식을 풀고 오브젝트로 데이터를 구성해보자"
   ]
  },
  {
   "cell_type": "markdown",
   "id": "92245210",
   "metadata": {},
   "source": [
    "---"
   ]
  },
  {
   "cell_type": "code",
   "execution_count": 44,
   "id": "0ce51aa5",
   "metadata": {
    "scrolled": true
   },
   "outputs": [
    {
     "name": "stdout",
     "output_type": "stream",
     "text": [
      "Requirement already satisfied: chardet in c:\\users\\tj\\anaconda3\\lib\\site-packages (4.0.0)\n"
     ]
    }
   ],
   "source": [
    "get_ipython().system('pip install chardet')"
   ]
  },
  {
   "cell_type": "code",
   "execution_count": 45,
   "id": "79d40338",
   "metadata": {},
   "outputs": [],
   "source": [
    "import chardet"
   ]
  },
  {
   "cell_type": "code",
   "execution_count": 46,
   "id": "6ca47dd6",
   "metadata": {},
   "outputs": [],
   "source": [
    "\n",
    "def find_encoding(fname):\n",
    "    r_file = open(fname,'rb').read()\n",
    "    result = chardet.detect(r_file)\n",
    "    charenc = result['encoding']\n",
    "    return charenc"
   ]
  },
  {
   "cell_type": "code",
   "execution_count": 47,
   "id": "c2ce47ae",
   "metadata": {},
   "outputs": [
    {
     "data": {
      "text/plain": [
       "'UTF-8-SIG'"
      ]
     },
     "execution_count": 47,
     "metadata": {},
     "output_type": "execute_result"
    }
   ],
   "source": [
    "my_encoding1 = find_encoding('../data/musicData.csv')\n",
    "my_encoding1"
   ]
  },
  {
   "cell_type": "code",
   "execution_count": 48,
   "id": "d87d03d6",
   "metadata": {},
   "outputs": [],
   "source": [
    "jdf = pd.read_csv('../data/musicData.csv', encoding = my_encoding1)"
   ]
  },
  {
   "cell_type": "code",
   "execution_count": 49,
   "id": "063aeefd",
   "metadata": {
    "scrolled": false
   },
   "outputs": [
    {
     "data": {
      "text/html": [
       "<div>\n",
       "<style scoped>\n",
       "    .dataframe tbody tr th:only-of-type {\n",
       "        vertical-align: middle;\n",
       "    }\n",
       "\n",
       "    .dataframe tbody tr th {\n",
       "        vertical-align: top;\n",
       "    }\n",
       "\n",
       "    .dataframe thead th {\n",
       "        text-align: right;\n",
       "    }\n",
       "</style>\n",
       "<table border=\"1\" class=\"dataframe\">\n",
       "  <thead>\n",
       "    <tr style=\"text-align: right;\">\n",
       "      <th></th>\n",
       "      <th>Album Title</th>\n",
       "      <th>Artist Name</th>\n",
       "      <th>Genre</th>\n",
       "      <th>Date</th>\n",
       "      <th>Distribution</th>\n",
       "      <th>Rating</th>\n",
       "      <th>Music Count</th>\n",
       "    </tr>\n",
       "  </thead>\n",
       "  <tbody>\n",
       "    <tr>\n",
       "      <th>0</th>\n",
       "      <td>거기가 어딘데?? OST</td>\n",
       "      <td>Various Artists</td>\n",
       "      <td>O.S.T</td>\n",
       "      <td>2018.09.01</td>\n",
       "      <td>워너뮤직코리아</td>\n",
       "      <td>6.4</td>\n",
       "      <td>8</td>\n",
       "    </tr>\n",
       "    <tr>\n",
       "      <th>1</th>\n",
       "      <td>얍</td>\n",
       "      <td>갈릭스(Garlixx)</td>\n",
       "      <td>인디뮤직,  락</td>\n",
       "      <td>2018.09.01</td>\n",
       "      <td>(주)미러볼뮤직</td>\n",
       "      <td>3.8</td>\n",
       "      <td>2</td>\n",
       "    </tr>\n",
       "    <tr>\n",
       "      <th>2</th>\n",
       "      <td>너와 나</td>\n",
       "      <td>파란</td>\n",
       "      <td>발라드</td>\n",
       "      <td>2018.09.01</td>\n",
       "      <td>(주)지니뮤직</td>\n",
       "      <td>7.7</td>\n",
       "      <td>2</td>\n",
       "    </tr>\n",
       "    <tr>\n",
       "      <th>3</th>\n",
       "      <td>PRODUCE 48 - FINAL</td>\n",
       "      <td>PRODUCE 48</td>\n",
       "      <td>댄스</td>\n",
       "      <td>2018.09.01</td>\n",
       "      <td>Stone Music Entertainment</td>\n",
       "      <td>7.0</td>\n",
       "      <td>4</td>\n",
       "    </tr>\n",
       "    <tr>\n",
       "      <th>4</th>\n",
       "      <td>Weather : 오늘 당신의 날씨는 어떤가요? Part 4</td>\n",
       "      <td>이진아</td>\n",
       "      <td>재즈</td>\n",
       "      <td>2018.09.01</td>\n",
       "      <td>(주)지니뮤직</td>\n",
       "      <td>6.7</td>\n",
       "      <td>1</td>\n",
       "    </tr>\n",
       "  </tbody>\n",
       "</table>\n",
       "</div>"
      ],
      "text/plain": [
       "                         Album Title      Artist Name     Genre        Date  \\\n",
       "0                      거기가 어딘데?? OST  Various Artists     O.S.T  2018.09.01   \n",
       "1                                  얍     갈릭스(Garlixx)  인디뮤직,  락  2018.09.01   \n",
       "2                               너와 나              파란        발라드  2018.09.01   \n",
       "3                 PRODUCE 48 - FINAL       PRODUCE 48        댄스  2018.09.01   \n",
       "4  Weather : 오늘 당신의 날씨는 어떤가요? Part 4              이진아        재즈  2018.09.01   \n",
       "\n",
       "                Distribution  Rating  Music Count  \n",
       "0                    워너뮤직코리아     6.4            8  \n",
       "1                   (주)미러볼뮤직     3.8            2  \n",
       "2                    (주)지니뮤직     7.7            2  \n",
       "3  Stone Music Entertainment     7.0            4  \n",
       "4                    (주)지니뮤직     6.7            1  "
      ]
     },
     "execution_count": 49,
     "metadata": {},
     "output_type": "execute_result"
    }
   ],
   "source": [
    "jdf.head()"
   ]
  },
  {
   "cell_type": "code",
   "execution_count": 50,
   "id": "70433fe3",
   "metadata": {},
   "outputs": [],
   "source": [
    "jdf2 = pd.read_csv('../data/musicData2.csv', encoding = my_encoding1)"
   ]
  },
  {
   "cell_type": "code",
   "execution_count": 51,
   "id": "71edccc2",
   "metadata": {},
   "outputs": [
    {
     "data": {
      "text/html": [
       "<div>\n",
       "<style scoped>\n",
       "    .dataframe tbody tr th:only-of-type {\n",
       "        vertical-align: middle;\n",
       "    }\n",
       "\n",
       "    .dataframe tbody tr th {\n",
       "        vertical-align: top;\n",
       "    }\n",
       "\n",
       "    .dataframe thead th {\n",
       "        text-align: right;\n",
       "    }\n",
       "</style>\n",
       "<table border=\"1\" class=\"dataframe\">\n",
       "  <thead>\n",
       "    <tr style=\"text-align: right;\">\n",
       "      <th></th>\n",
       "      <th>Year</th>\n",
       "      <th>Month</th>\n",
       "      <th>Album Title</th>\n",
       "      <th>Artist Name</th>\n",
       "      <th>Genre</th>\n",
       "      <th>Date</th>\n",
       "      <th>Distribution</th>\n",
       "      <th>Rating</th>\n",
       "      <th>Music Count</th>\n",
       "    </tr>\n",
       "  </thead>\n",
       "  <tbody>\n",
       "    <tr>\n",
       "      <th>0</th>\n",
       "      <td>2017</td>\n",
       "      <td>1</td>\n",
       "      <td>Boys and Girls Music Vol. 1</td>\n",
       "      <td>샘김</td>\n",
       "      <td>알앤비/어반</td>\n",
       "      <td>2017.01.25</td>\n",
       "      <td>로엔 엔터테인먼트</td>\n",
       "      <td>8.6</td>\n",
       "      <td>2</td>\n",
       "    </tr>\n",
       "    <tr>\n",
       "      <th>1</th>\n",
       "      <td>2017</td>\n",
       "      <td>1</td>\n",
       "      <td>여자친구 The 1st Album 'LOL'</td>\n",
       "      <td>여자친구(GFRIEND)</td>\n",
       "      <td>댄스</td>\n",
       "      <td>2016.07.11</td>\n",
       "      <td>로엔엔터테인먼트</td>\n",
       "      <td>8.1</td>\n",
       "      <td>12</td>\n",
       "    </tr>\n",
       "    <tr>\n",
       "      <th>2</th>\n",
       "      <td>2017</td>\n",
       "      <td>1</td>\n",
       "      <td>Collage (EP)</td>\n",
       "      <td>The Chainsmokers</td>\n",
       "      <td>일렉트로니카</td>\n",
       "      <td>2016.11.05</td>\n",
       "      <td>소니뮤직</td>\n",
       "      <td>7.5</td>\n",
       "      <td>5</td>\n",
       "    </tr>\n",
       "    <tr>\n",
       "      <th>3</th>\n",
       "      <td>2017</td>\n",
       "      <td>1</td>\n",
       "      <td>If You</td>\n",
       "      <td>에일리</td>\n",
       "      <td>발라드</td>\n",
       "      <td>2016.08.23</td>\n",
       "      <td>로엔 엔터테인먼트</td>\n",
       "      <td>6.9</td>\n",
       "      <td>1</td>\n",
       "    </tr>\n",
       "    <tr>\n",
       "      <th>4</th>\n",
       "      <td>2017</td>\n",
       "      <td>1</td>\n",
       "      <td>세 단어</td>\n",
       "      <td>젝스키스</td>\n",
       "      <td>발라드</td>\n",
       "      <td>2016.10.07</td>\n",
       "      <td>YG PLUS</td>\n",
       "      <td>9.0</td>\n",
       "      <td>1</td>\n",
       "    </tr>\n",
       "  </tbody>\n",
       "</table>\n",
       "</div>"
      ],
      "text/plain": [
       "   Year  Month                  Album Title       Artist Name   Genre  \\\n",
       "0  2017      1  Boys and Girls Music Vol. 1                샘김  알앤비/어반   \n",
       "1  2017      1     여자친구 The 1st Album 'LOL'     여자친구(GFRIEND)      댄스   \n",
       "2  2017      1                 Collage (EP)  The Chainsmokers  일렉트로니카   \n",
       "3  2017      1                       If You               에일리     발라드   \n",
       "4  2017      1                         세 단어              젝스키스     발라드   \n",
       "\n",
       "         Date Distribution  Rating  Music Count  \n",
       "0  2017.01.25    로엔 엔터테인먼트     8.6            2  \n",
       "1  2016.07.11     로엔엔터테인먼트     8.1           12  \n",
       "2  2016.11.05         소니뮤직     7.5            5  \n",
       "3  2016.08.23    로엔 엔터테인먼트     6.9            1  \n",
       "4  2016.10.07      YG PLUS     9.0            1  "
      ]
     },
     "execution_count": 51,
     "metadata": {},
     "output_type": "execute_result"
    }
   ],
   "source": [
    "jdf2.head()"
   ]
  },
  {
   "cell_type": "markdown",
   "id": "bfba3a29",
   "metadata": {},
   "source": [
    "## 문제6 : 두 데이터 프레임에서 공통되는 열만 합쳐 하나의 데이터 프레임으로 만드세요"
   ]
  },
  {
   "cell_type": "code",
   "execution_count": 52,
   "id": "5d80cb3d",
   "metadata": {
    "scrolled": true
   },
   "outputs": [],
   "source": [
    "jdf2_copy = jdf2.copy()"
   ]
  },
  {
   "cell_type": "code",
   "execution_count": 53,
   "id": "f86979de",
   "metadata": {},
   "outputs": [],
   "source": [
    "jdf2_copy = jdf2_copy.sort_index(axis = 1)"
   ]
  },
  {
   "cell_type": "code",
   "execution_count": 54,
   "id": "df58051f",
   "metadata": {
    "scrolled": false
   },
   "outputs": [
    {
     "data": {
      "text/html": [
       "<div>\n",
       "<style scoped>\n",
       "    .dataframe tbody tr th:only-of-type {\n",
       "        vertical-align: middle;\n",
       "    }\n",
       "\n",
       "    .dataframe tbody tr th {\n",
       "        vertical-align: top;\n",
       "    }\n",
       "\n",
       "    .dataframe thead th {\n",
       "        text-align: right;\n",
       "    }\n",
       "</style>\n",
       "<table border=\"1\" class=\"dataframe\">\n",
       "  <thead>\n",
       "    <tr style=\"text-align: right;\">\n",
       "      <th></th>\n",
       "      <th>Album Title</th>\n",
       "      <th>Artist Name</th>\n",
       "      <th>Date</th>\n",
       "      <th>Distribution</th>\n",
       "      <th>Genre</th>\n",
       "      <th>Month</th>\n",
       "      <th>Music Count</th>\n",
       "      <th>Rating</th>\n",
       "      <th>Year</th>\n",
       "    </tr>\n",
       "  </thead>\n",
       "  <tbody>\n",
       "    <tr>\n",
       "      <th>0</th>\n",
       "      <td>Boys and Girls Music Vol. 1</td>\n",
       "      <td>샘김</td>\n",
       "      <td>2017.01.25</td>\n",
       "      <td>로엔 엔터테인먼트</td>\n",
       "      <td>알앤비/어반</td>\n",
       "      <td>1</td>\n",
       "      <td>2</td>\n",
       "      <td>8.6</td>\n",
       "      <td>2017</td>\n",
       "    </tr>\n",
       "    <tr>\n",
       "      <th>1</th>\n",
       "      <td>여자친구 The 1st Album 'LOL'</td>\n",
       "      <td>여자친구(GFRIEND)</td>\n",
       "      <td>2016.07.11</td>\n",
       "      <td>로엔엔터테인먼트</td>\n",
       "      <td>댄스</td>\n",
       "      <td>1</td>\n",
       "      <td>12</td>\n",
       "      <td>8.1</td>\n",
       "      <td>2017</td>\n",
       "    </tr>\n",
       "    <tr>\n",
       "      <th>2</th>\n",
       "      <td>Collage (EP)</td>\n",
       "      <td>The Chainsmokers</td>\n",
       "      <td>2016.11.05</td>\n",
       "      <td>소니뮤직</td>\n",
       "      <td>일렉트로니카</td>\n",
       "      <td>1</td>\n",
       "      <td>5</td>\n",
       "      <td>7.5</td>\n",
       "      <td>2017</td>\n",
       "    </tr>\n",
       "    <tr>\n",
       "      <th>3</th>\n",
       "      <td>If You</td>\n",
       "      <td>에일리</td>\n",
       "      <td>2016.08.23</td>\n",
       "      <td>로엔 엔터테인먼트</td>\n",
       "      <td>발라드</td>\n",
       "      <td>1</td>\n",
       "      <td>1</td>\n",
       "      <td>6.9</td>\n",
       "      <td>2017</td>\n",
       "    </tr>\n",
       "    <tr>\n",
       "      <th>4</th>\n",
       "      <td>세 단어</td>\n",
       "      <td>젝스키스</td>\n",
       "      <td>2016.10.07</td>\n",
       "      <td>YG PLUS</td>\n",
       "      <td>발라드</td>\n",
       "      <td>1</td>\n",
       "      <td>1</td>\n",
       "      <td>9.0</td>\n",
       "      <td>2017</td>\n",
       "    </tr>\n",
       "  </tbody>\n",
       "</table>\n",
       "</div>"
      ],
      "text/plain": [
       "                   Album Title       Artist Name        Date Distribution  \\\n",
       "0  Boys and Girls Music Vol. 1                샘김  2017.01.25    로엔 엔터테인먼트   \n",
       "1     여자친구 The 1st Album 'LOL'     여자친구(GFRIEND)  2016.07.11     로엔엔터테인먼트   \n",
       "2                 Collage (EP)  The Chainsmokers  2016.11.05         소니뮤직   \n",
       "3                       If You               에일리  2016.08.23    로엔 엔터테인먼트   \n",
       "4                         세 단어              젝스키스  2016.10.07      YG PLUS   \n",
       "\n",
       "    Genre  Month  Music Count  Rating  Year  \n",
       "0  알앤비/어반      1            2     8.6  2017  \n",
       "1      댄스      1           12     8.1  2017  \n",
       "2  일렉트로니카      1            5     7.5  2017  \n",
       "3     발라드      1            1     6.9  2017  \n",
       "4     발라드      1            1     9.0  2017  "
      ]
     },
     "execution_count": 54,
     "metadata": {},
     "output_type": "execute_result"
    }
   ],
   "source": [
    "jdf2_copy.head()"
   ]
  },
  {
   "cell_type": "code",
   "execution_count": 55,
   "id": "9a0966b6",
   "metadata": {},
   "outputs": [],
   "source": [
    "jdf2_cut1 = jdf2_copy.loc[:,'Album Title':'Genre']"
   ]
  },
  {
   "cell_type": "code",
   "execution_count": 56,
   "id": "f4f5ba4d",
   "metadata": {
    "scrolled": true
   },
   "outputs": [
    {
     "data": {
      "text/html": [
       "<div>\n",
       "<style scoped>\n",
       "    .dataframe tbody tr th:only-of-type {\n",
       "        vertical-align: middle;\n",
       "    }\n",
       "\n",
       "    .dataframe tbody tr th {\n",
       "        vertical-align: top;\n",
       "    }\n",
       "\n",
       "    .dataframe thead th {\n",
       "        text-align: right;\n",
       "    }\n",
       "</style>\n",
       "<table border=\"1\" class=\"dataframe\">\n",
       "  <thead>\n",
       "    <tr style=\"text-align: right;\">\n",
       "      <th></th>\n",
       "      <th>Album Title</th>\n",
       "      <th>Artist Name</th>\n",
       "      <th>Date</th>\n",
       "      <th>Distribution</th>\n",
       "      <th>Genre</th>\n",
       "    </tr>\n",
       "  </thead>\n",
       "  <tbody>\n",
       "    <tr>\n",
       "      <th>0</th>\n",
       "      <td>Boys and Girls Music Vol. 1</td>\n",
       "      <td>샘김</td>\n",
       "      <td>2017.01.25</td>\n",
       "      <td>로엔 엔터테인먼트</td>\n",
       "      <td>알앤비/어반</td>\n",
       "    </tr>\n",
       "    <tr>\n",
       "      <th>1</th>\n",
       "      <td>여자친구 The 1st Album 'LOL'</td>\n",
       "      <td>여자친구(GFRIEND)</td>\n",
       "      <td>2016.07.11</td>\n",
       "      <td>로엔엔터테인먼트</td>\n",
       "      <td>댄스</td>\n",
       "    </tr>\n",
       "    <tr>\n",
       "      <th>2</th>\n",
       "      <td>Collage (EP)</td>\n",
       "      <td>The Chainsmokers</td>\n",
       "      <td>2016.11.05</td>\n",
       "      <td>소니뮤직</td>\n",
       "      <td>일렉트로니카</td>\n",
       "    </tr>\n",
       "    <tr>\n",
       "      <th>3</th>\n",
       "      <td>If You</td>\n",
       "      <td>에일리</td>\n",
       "      <td>2016.08.23</td>\n",
       "      <td>로엔 엔터테인먼트</td>\n",
       "      <td>발라드</td>\n",
       "    </tr>\n",
       "    <tr>\n",
       "      <th>4</th>\n",
       "      <td>세 단어</td>\n",
       "      <td>젝스키스</td>\n",
       "      <td>2016.10.07</td>\n",
       "      <td>YG PLUS</td>\n",
       "      <td>발라드</td>\n",
       "    </tr>\n",
       "  </tbody>\n",
       "</table>\n",
       "</div>"
      ],
      "text/plain": [
       "                   Album Title       Artist Name        Date Distribution  \\\n",
       "0  Boys and Girls Music Vol. 1                샘김  2017.01.25    로엔 엔터테인먼트   \n",
       "1     여자친구 The 1st Album 'LOL'     여자친구(GFRIEND)  2016.07.11     로엔엔터테인먼트   \n",
       "2                 Collage (EP)  The Chainsmokers  2016.11.05         소니뮤직   \n",
       "3                       If You               에일리  2016.08.23    로엔 엔터테인먼트   \n",
       "4                         세 단어              젝스키스  2016.10.07      YG PLUS   \n",
       "\n",
       "    Genre  \n",
       "0  알앤비/어반  \n",
       "1      댄스  \n",
       "2  일렉트로니카  \n",
       "3     발라드  \n",
       "4     발라드  "
      ]
     },
     "execution_count": 56,
     "metadata": {},
     "output_type": "execute_result"
    }
   ],
   "source": [
    "jdf2_cut1.head()"
   ]
  },
  {
   "cell_type": "code",
   "execution_count": 57,
   "id": "f02a706f",
   "metadata": {},
   "outputs": [],
   "source": [
    "jdf2_cut2 = jdf2_copy.loc[:,'Music Count':'Rating']"
   ]
  },
  {
   "cell_type": "code",
   "execution_count": 58,
   "id": "252eee5d",
   "metadata": {},
   "outputs": [
    {
     "data": {
      "text/html": [
       "<div>\n",
       "<style scoped>\n",
       "    .dataframe tbody tr th:only-of-type {\n",
       "        vertical-align: middle;\n",
       "    }\n",
       "\n",
       "    .dataframe tbody tr th {\n",
       "        vertical-align: top;\n",
       "    }\n",
       "\n",
       "    .dataframe thead th {\n",
       "        text-align: right;\n",
       "    }\n",
       "</style>\n",
       "<table border=\"1\" class=\"dataframe\">\n",
       "  <thead>\n",
       "    <tr style=\"text-align: right;\">\n",
       "      <th></th>\n",
       "      <th>Music Count</th>\n",
       "      <th>Rating</th>\n",
       "    </tr>\n",
       "  </thead>\n",
       "  <tbody>\n",
       "    <tr>\n",
       "      <th>0</th>\n",
       "      <td>2</td>\n",
       "      <td>8.6</td>\n",
       "    </tr>\n",
       "    <tr>\n",
       "      <th>1</th>\n",
       "      <td>12</td>\n",
       "      <td>8.1</td>\n",
       "    </tr>\n",
       "    <tr>\n",
       "      <th>2</th>\n",
       "      <td>5</td>\n",
       "      <td>7.5</td>\n",
       "    </tr>\n",
       "    <tr>\n",
       "      <th>3</th>\n",
       "      <td>1</td>\n",
       "      <td>6.9</td>\n",
       "    </tr>\n",
       "    <tr>\n",
       "      <th>4</th>\n",
       "      <td>1</td>\n",
       "      <td>9.0</td>\n",
       "    </tr>\n",
       "  </tbody>\n",
       "</table>\n",
       "</div>"
      ],
      "text/plain": [
       "   Music Count  Rating\n",
       "0            2     8.6\n",
       "1           12     8.1\n",
       "2            5     7.5\n",
       "3            1     6.9\n",
       "4            1     9.0"
      ]
     },
     "execution_count": 58,
     "metadata": {},
     "output_type": "execute_result"
    }
   ],
   "source": [
    "jdf2_cut2.head()"
   ]
  },
  {
   "cell_type": "code",
   "execution_count": 59,
   "id": "d57cd440",
   "metadata": {},
   "outputs": [],
   "source": [
    "jdf2_cut = pd.concat([jdf2_cut1,jdf2_cut2], axis = 1)"
   ]
  },
  {
   "cell_type": "code",
   "execution_count": 60,
   "id": "82744455",
   "metadata": {},
   "outputs": [
    {
     "data": {
      "text/html": [
       "<div>\n",
       "<style scoped>\n",
       "    .dataframe tbody tr th:only-of-type {\n",
       "        vertical-align: middle;\n",
       "    }\n",
       "\n",
       "    .dataframe tbody tr th {\n",
       "        vertical-align: top;\n",
       "    }\n",
       "\n",
       "    .dataframe thead th {\n",
       "        text-align: right;\n",
       "    }\n",
       "</style>\n",
       "<table border=\"1\" class=\"dataframe\">\n",
       "  <thead>\n",
       "    <tr style=\"text-align: right;\">\n",
       "      <th></th>\n",
       "      <th>Album Title</th>\n",
       "      <th>Artist Name</th>\n",
       "      <th>Date</th>\n",
       "      <th>Distribution</th>\n",
       "      <th>Genre</th>\n",
       "      <th>Music Count</th>\n",
       "      <th>Rating</th>\n",
       "    </tr>\n",
       "  </thead>\n",
       "  <tbody>\n",
       "    <tr>\n",
       "      <th>0</th>\n",
       "      <td>Boys and Girls Music Vol. 1</td>\n",
       "      <td>샘김</td>\n",
       "      <td>2017.01.25</td>\n",
       "      <td>로엔 엔터테인먼트</td>\n",
       "      <td>알앤비/어반</td>\n",
       "      <td>2</td>\n",
       "      <td>8.6</td>\n",
       "    </tr>\n",
       "    <tr>\n",
       "      <th>1</th>\n",
       "      <td>여자친구 The 1st Album 'LOL'</td>\n",
       "      <td>여자친구(GFRIEND)</td>\n",
       "      <td>2016.07.11</td>\n",
       "      <td>로엔엔터테인먼트</td>\n",
       "      <td>댄스</td>\n",
       "      <td>12</td>\n",
       "      <td>8.1</td>\n",
       "    </tr>\n",
       "    <tr>\n",
       "      <th>2</th>\n",
       "      <td>Collage (EP)</td>\n",
       "      <td>The Chainsmokers</td>\n",
       "      <td>2016.11.05</td>\n",
       "      <td>소니뮤직</td>\n",
       "      <td>일렉트로니카</td>\n",
       "      <td>5</td>\n",
       "      <td>7.5</td>\n",
       "    </tr>\n",
       "    <tr>\n",
       "      <th>3</th>\n",
       "      <td>If You</td>\n",
       "      <td>에일리</td>\n",
       "      <td>2016.08.23</td>\n",
       "      <td>로엔 엔터테인먼트</td>\n",
       "      <td>발라드</td>\n",
       "      <td>1</td>\n",
       "      <td>6.9</td>\n",
       "    </tr>\n",
       "    <tr>\n",
       "      <th>4</th>\n",
       "      <td>세 단어</td>\n",
       "      <td>젝스키스</td>\n",
       "      <td>2016.10.07</td>\n",
       "      <td>YG PLUS</td>\n",
       "      <td>발라드</td>\n",
       "      <td>1</td>\n",
       "      <td>9.0</td>\n",
       "    </tr>\n",
       "  </tbody>\n",
       "</table>\n",
       "</div>"
      ],
      "text/plain": [
       "                   Album Title       Artist Name        Date Distribution  \\\n",
       "0  Boys and Girls Music Vol. 1                샘김  2017.01.25    로엔 엔터테인먼트   \n",
       "1     여자친구 The 1st Album 'LOL'     여자친구(GFRIEND)  2016.07.11     로엔엔터테인먼트   \n",
       "2                 Collage (EP)  The Chainsmokers  2016.11.05         소니뮤직   \n",
       "3                       If You               에일리  2016.08.23    로엔 엔터테인먼트   \n",
       "4                         세 단어              젝스키스  2016.10.07      YG PLUS   \n",
       "\n",
       "    Genre  Music Count  Rating  \n",
       "0  알앤비/어반            2     8.6  \n",
       "1      댄스           12     8.1  \n",
       "2  일렉트로니카            5     7.5  \n",
       "3     발라드            1     6.9  \n",
       "4     발라드            1     9.0  "
      ]
     },
     "execution_count": 60,
     "metadata": {},
     "output_type": "execute_result"
    }
   ],
   "source": [
    "jdf2_cut.head()"
   ]
  },
  {
   "cell_type": "code",
   "execution_count": 61,
   "id": "f7f18e14",
   "metadata": {},
   "outputs": [],
   "source": [
    "jdf_copy = jdf.sort_index(axis = 1)"
   ]
  },
  {
   "cell_type": "code",
   "execution_count": 62,
   "id": "9e6cc3e8",
   "metadata": {
    "scrolled": false
   },
   "outputs": [
    {
     "data": {
      "text/html": [
       "<div>\n",
       "<style scoped>\n",
       "    .dataframe tbody tr th:only-of-type {\n",
       "        vertical-align: middle;\n",
       "    }\n",
       "\n",
       "    .dataframe tbody tr th {\n",
       "        vertical-align: top;\n",
       "    }\n",
       "\n",
       "    .dataframe thead th {\n",
       "        text-align: right;\n",
       "    }\n",
       "</style>\n",
       "<table border=\"1\" class=\"dataframe\">\n",
       "  <thead>\n",
       "    <tr style=\"text-align: right;\">\n",
       "      <th></th>\n",
       "      <th>Album Title</th>\n",
       "      <th>Artist Name</th>\n",
       "      <th>Date</th>\n",
       "      <th>Distribution</th>\n",
       "      <th>Genre</th>\n",
       "      <th>Music Count</th>\n",
       "      <th>Rating</th>\n",
       "    </tr>\n",
       "  </thead>\n",
       "  <tbody>\n",
       "    <tr>\n",
       "      <th>0</th>\n",
       "      <td>거기가 어딘데?? OST</td>\n",
       "      <td>Various Artists</td>\n",
       "      <td>2018.09.01</td>\n",
       "      <td>워너뮤직코리아</td>\n",
       "      <td>O.S.T</td>\n",
       "      <td>8</td>\n",
       "      <td>6.4</td>\n",
       "    </tr>\n",
       "    <tr>\n",
       "      <th>1</th>\n",
       "      <td>얍</td>\n",
       "      <td>갈릭스(Garlixx)</td>\n",
       "      <td>2018.09.01</td>\n",
       "      <td>(주)미러볼뮤직</td>\n",
       "      <td>인디뮤직,  락</td>\n",
       "      <td>2</td>\n",
       "      <td>3.8</td>\n",
       "    </tr>\n",
       "    <tr>\n",
       "      <th>2</th>\n",
       "      <td>너와 나</td>\n",
       "      <td>파란</td>\n",
       "      <td>2018.09.01</td>\n",
       "      <td>(주)지니뮤직</td>\n",
       "      <td>발라드</td>\n",
       "      <td>2</td>\n",
       "      <td>7.7</td>\n",
       "    </tr>\n",
       "    <tr>\n",
       "      <th>3</th>\n",
       "      <td>PRODUCE 48 - FINAL</td>\n",
       "      <td>PRODUCE 48</td>\n",
       "      <td>2018.09.01</td>\n",
       "      <td>Stone Music Entertainment</td>\n",
       "      <td>댄스</td>\n",
       "      <td>4</td>\n",
       "      <td>7.0</td>\n",
       "    </tr>\n",
       "    <tr>\n",
       "      <th>4</th>\n",
       "      <td>Weather : 오늘 당신의 날씨는 어떤가요? Part 4</td>\n",
       "      <td>이진아</td>\n",
       "      <td>2018.09.01</td>\n",
       "      <td>(주)지니뮤직</td>\n",
       "      <td>재즈</td>\n",
       "      <td>1</td>\n",
       "      <td>6.7</td>\n",
       "    </tr>\n",
       "  </tbody>\n",
       "</table>\n",
       "</div>"
      ],
      "text/plain": [
       "                         Album Title      Artist Name        Date  \\\n",
       "0                      거기가 어딘데?? OST  Various Artists  2018.09.01   \n",
       "1                                  얍     갈릭스(Garlixx)  2018.09.01   \n",
       "2                               너와 나              파란   2018.09.01   \n",
       "3                 PRODUCE 48 - FINAL       PRODUCE 48  2018.09.01   \n",
       "4  Weather : 오늘 당신의 날씨는 어떤가요? Part 4              이진아  2018.09.01   \n",
       "\n",
       "                Distribution     Genre  Music Count  Rating  \n",
       "0                    워너뮤직코리아     O.S.T            8     6.4  \n",
       "1                   (주)미러볼뮤직  인디뮤직,  락            2     3.8  \n",
       "2                    (주)지니뮤직       발라드            2     7.7  \n",
       "3  Stone Music Entertainment        댄스            4     7.0  \n",
       "4                    (주)지니뮤직        재즈            1     6.7  "
      ]
     },
     "execution_count": 62,
     "metadata": {},
     "output_type": "execute_result"
    }
   ],
   "source": [
    "jdf_copy.head()"
   ]
  },
  {
   "cell_type": "code",
   "execution_count": 63,
   "id": "1caca873",
   "metadata": {},
   "outputs": [],
   "source": [
    "jdf3 = pd.concat([jdf,jdf2_cut],axis = 0, ignore_index = True)"
   ]
  },
  {
   "cell_type": "code",
   "execution_count": 64,
   "id": "18ebf6ea",
   "metadata": {
    "scrolled": false
   },
   "outputs": [
    {
     "data": {
      "text/html": [
       "<div>\n",
       "<style scoped>\n",
       "    .dataframe tbody tr th:only-of-type {\n",
       "        vertical-align: middle;\n",
       "    }\n",
       "\n",
       "    .dataframe tbody tr th {\n",
       "        vertical-align: top;\n",
       "    }\n",
       "\n",
       "    .dataframe thead th {\n",
       "        text-align: right;\n",
       "    }\n",
       "</style>\n",
       "<table border=\"1\" class=\"dataframe\">\n",
       "  <thead>\n",
       "    <tr style=\"text-align: right;\">\n",
       "      <th></th>\n",
       "      <th>Album Title</th>\n",
       "      <th>Artist Name</th>\n",
       "      <th>Genre</th>\n",
       "      <th>Date</th>\n",
       "      <th>Distribution</th>\n",
       "      <th>Rating</th>\n",
       "      <th>Music Count</th>\n",
       "    </tr>\n",
       "  </thead>\n",
       "  <tbody>\n",
       "    <tr>\n",
       "      <th>0</th>\n",
       "      <td>거기가 어딘데?? OST</td>\n",
       "      <td>Various Artists</td>\n",
       "      <td>O.S.T</td>\n",
       "      <td>2018.09.01</td>\n",
       "      <td>워너뮤직코리아</td>\n",
       "      <td>6.4</td>\n",
       "      <td>8</td>\n",
       "    </tr>\n",
       "    <tr>\n",
       "      <th>1</th>\n",
       "      <td>얍</td>\n",
       "      <td>갈릭스(Garlixx)</td>\n",
       "      <td>인디뮤직,  락</td>\n",
       "      <td>2018.09.01</td>\n",
       "      <td>(주)미러볼뮤직</td>\n",
       "      <td>3.8</td>\n",
       "      <td>2</td>\n",
       "    </tr>\n",
       "    <tr>\n",
       "      <th>2</th>\n",
       "      <td>너와 나</td>\n",
       "      <td>파란</td>\n",
       "      <td>발라드</td>\n",
       "      <td>2018.09.01</td>\n",
       "      <td>(주)지니뮤직</td>\n",
       "      <td>7.7</td>\n",
       "      <td>2</td>\n",
       "    </tr>\n",
       "    <tr>\n",
       "      <th>3</th>\n",
       "      <td>PRODUCE 48 - FINAL</td>\n",
       "      <td>PRODUCE 48</td>\n",
       "      <td>댄스</td>\n",
       "      <td>2018.09.01</td>\n",
       "      <td>Stone Music Entertainment</td>\n",
       "      <td>7.0</td>\n",
       "      <td>4</td>\n",
       "    </tr>\n",
       "    <tr>\n",
       "      <th>4</th>\n",
       "      <td>Weather : 오늘 당신의 날씨는 어떤가요? Part 4</td>\n",
       "      <td>이진아</td>\n",
       "      <td>재즈</td>\n",
       "      <td>2018.09.01</td>\n",
       "      <td>(주)지니뮤직</td>\n",
       "      <td>6.7</td>\n",
       "      <td>1</td>\n",
       "    </tr>\n",
       "  </tbody>\n",
       "</table>\n",
       "</div>"
      ],
      "text/plain": [
       "                         Album Title      Artist Name     Genre        Date  \\\n",
       "0                      거기가 어딘데?? OST  Various Artists     O.S.T  2018.09.01   \n",
       "1                                  얍     갈릭스(Garlixx)  인디뮤직,  락  2018.09.01   \n",
       "2                               너와 나              파란        발라드  2018.09.01   \n",
       "3                 PRODUCE 48 - FINAL       PRODUCE 48        댄스  2018.09.01   \n",
       "4  Weather : 오늘 당신의 날씨는 어떤가요? Part 4              이진아        재즈  2018.09.01   \n",
       "\n",
       "                Distribution  Rating  Music Count  \n",
       "0                    워너뮤직코리아     6.4            8  \n",
       "1                   (주)미러볼뮤직     3.8            2  \n",
       "2                    (주)지니뮤직     7.7            2  \n",
       "3  Stone Music Entertainment     7.0            4  \n",
       "4                    (주)지니뮤직     6.7            1  "
      ]
     },
     "execution_count": 64,
     "metadata": {},
     "output_type": "execute_result"
    }
   ],
   "source": [
    "jdf3.head()"
   ]
  },
  {
   "cell_type": "markdown",
   "id": "310ace21",
   "metadata": {},
   "source": [
    "---"
   ]
  },
  {
   "cell_type": "code",
   "execution_count": 65,
   "id": "f40fe128",
   "metadata": {
    "scrolled": false
   },
   "outputs": [
    {
     "data": {
      "text/html": [
       "<div>\n",
       "<style scoped>\n",
       "    .dataframe tbody tr th:only-of-type {\n",
       "        vertical-align: middle;\n",
       "    }\n",
       "\n",
       "    .dataframe tbody tr th {\n",
       "        vertical-align: top;\n",
       "    }\n",
       "\n",
       "    .dataframe thead th {\n",
       "        text-align: right;\n",
       "    }\n",
       "</style>\n",
       "<table border=\"1\" class=\"dataframe\">\n",
       "  <thead>\n",
       "    <tr style=\"text-align: right;\">\n",
       "      <th></th>\n",
       "      <th>Album Title</th>\n",
       "      <th>Artist Name</th>\n",
       "      <th>Genre</th>\n",
       "      <th>Date</th>\n",
       "      <th>Distribution</th>\n",
       "      <th>Rating</th>\n",
       "      <th>Music Count</th>\n",
       "    </tr>\n",
       "  </thead>\n",
       "  <tbody>\n",
       "    <tr>\n",
       "      <th>0</th>\n",
       "      <td>거기가 어딘데?? OST</td>\n",
       "      <td>Various Artists</td>\n",
       "      <td>O.S.T</td>\n",
       "      <td>2018.09.01</td>\n",
       "      <td>워너뮤직코리아</td>\n",
       "      <td>6.4</td>\n",
       "      <td>8</td>\n",
       "    </tr>\n",
       "    <tr>\n",
       "      <th>1</th>\n",
       "      <td>얍</td>\n",
       "      <td>갈릭스(Garlixx)</td>\n",
       "      <td>인디뮤직,  락</td>\n",
       "      <td>2018.09.01</td>\n",
       "      <td>(주)미러볼뮤직</td>\n",
       "      <td>3.8</td>\n",
       "      <td>2</td>\n",
       "    </tr>\n",
       "    <tr>\n",
       "      <th>2</th>\n",
       "      <td>너와 나</td>\n",
       "      <td>파란</td>\n",
       "      <td>발라드</td>\n",
       "      <td>2018.09.01</td>\n",
       "      <td>(주)지니뮤직</td>\n",
       "      <td>7.7</td>\n",
       "      <td>2</td>\n",
       "    </tr>\n",
       "    <tr>\n",
       "      <th>3</th>\n",
       "      <td>PRODUCE 48 - FINAL</td>\n",
       "      <td>PRODUCE 48</td>\n",
       "      <td>댄스</td>\n",
       "      <td>2018.09.01</td>\n",
       "      <td>Stone Music Entertainment</td>\n",
       "      <td>7.0</td>\n",
       "      <td>4</td>\n",
       "    </tr>\n",
       "    <tr>\n",
       "      <th>4</th>\n",
       "      <td>Weather : 오늘 당신의 날씨는 어떤가요? Part 4</td>\n",
       "      <td>이진아</td>\n",
       "      <td>재즈</td>\n",
       "      <td>2018.09.01</td>\n",
       "      <td>(주)지니뮤직</td>\n",
       "      <td>6.7</td>\n",
       "      <td>1</td>\n",
       "    </tr>\n",
       "  </tbody>\n",
       "</table>\n",
       "</div>"
      ],
      "text/plain": [
       "                         Album Title      Artist Name     Genre        Date  \\\n",
       "0                      거기가 어딘데?? OST  Various Artists     O.S.T  2018.09.01   \n",
       "1                                  얍     갈릭스(Garlixx)  인디뮤직,  락  2018.09.01   \n",
       "2                               너와 나              파란        발라드  2018.09.01   \n",
       "3                 PRODUCE 48 - FINAL       PRODUCE 48        댄스  2018.09.01   \n",
       "4  Weather : 오늘 당신의 날씨는 어떤가요? Part 4              이진아        재즈  2018.09.01   \n",
       "\n",
       "                Distribution  Rating  Music Count  \n",
       "0                    워너뮤직코리아     6.4            8  \n",
       "1                   (주)미러볼뮤직     3.8            2  \n",
       "2                    (주)지니뮤직     7.7            2  \n",
       "3  Stone Music Entertainment     7.0            4  \n",
       "4                    (주)지니뮤직     6.7            1  "
      ]
     },
     "execution_count": 65,
     "metadata": {},
     "output_type": "execute_result"
    }
   ],
   "source": [
    "jdf3.head()"
   ]
  },
  {
   "cell_type": "markdown",
   "id": "e953e790",
   "metadata": {},
   "source": [
    "## 문제7: 위 데이터 프레임에 순위 열을 추가하고 Genre 그룹별로\n",
    "## Rating이 높은 데이터부터 순위를 선정하여 표시해보자"
   ]
  },
  {
   "cell_type": "code",
   "execution_count": 66,
   "id": "3f47104f",
   "metadata": {},
   "outputs": [],
   "source": [
    "jdf3['순위'] = jdf3.groupby('Genre')['Rating'].rank(ascending = False, method = 'min')"
   ]
  },
  {
   "cell_type": "code",
   "execution_count": 67,
   "id": "c914447d",
   "metadata": {
    "scrolled": true
   },
   "outputs": [
    {
     "data": {
      "text/html": [
       "<div>\n",
       "<style scoped>\n",
       "    .dataframe tbody tr th:only-of-type {\n",
       "        vertical-align: middle;\n",
       "    }\n",
       "\n",
       "    .dataframe tbody tr th {\n",
       "        vertical-align: top;\n",
       "    }\n",
       "\n",
       "    .dataframe thead th {\n",
       "        text-align: right;\n",
       "    }\n",
       "</style>\n",
       "<table border=\"1\" class=\"dataframe\">\n",
       "  <thead>\n",
       "    <tr style=\"text-align: right;\">\n",
       "      <th></th>\n",
       "      <th>Album Title</th>\n",
       "      <th>Artist Name</th>\n",
       "      <th>Genre</th>\n",
       "      <th>Date</th>\n",
       "      <th>Distribution</th>\n",
       "      <th>Rating</th>\n",
       "      <th>Music Count</th>\n",
       "      <th>순위</th>\n",
       "    </tr>\n",
       "  </thead>\n",
       "  <tbody>\n",
       "    <tr>\n",
       "      <th>0</th>\n",
       "      <td>거기가 어딘데?? OST</td>\n",
       "      <td>Various Artists</td>\n",
       "      <td>O.S.T</td>\n",
       "      <td>2018.09.01</td>\n",
       "      <td>워너뮤직코리아</td>\n",
       "      <td>6.4</td>\n",
       "      <td>8</td>\n",
       "      <td>3.0</td>\n",
       "    </tr>\n",
       "    <tr>\n",
       "      <th>1</th>\n",
       "      <td>얍</td>\n",
       "      <td>갈릭스(Garlixx)</td>\n",
       "      <td>인디뮤직,  락</td>\n",
       "      <td>2018.09.01</td>\n",
       "      <td>(주)미러볼뮤직</td>\n",
       "      <td>3.8</td>\n",
       "      <td>2</td>\n",
       "      <td>44.0</td>\n",
       "    </tr>\n",
       "    <tr>\n",
       "      <th>2</th>\n",
       "      <td>너와 나</td>\n",
       "      <td>파란</td>\n",
       "      <td>발라드</td>\n",
       "      <td>2018.09.01</td>\n",
       "      <td>(주)지니뮤직</td>\n",
       "      <td>7.7</td>\n",
       "      <td>2</td>\n",
       "      <td>367.0</td>\n",
       "    </tr>\n",
       "    <tr>\n",
       "      <th>3</th>\n",
       "      <td>PRODUCE 48 - FINAL</td>\n",
       "      <td>PRODUCE 48</td>\n",
       "      <td>댄스</td>\n",
       "      <td>2018.09.01</td>\n",
       "      <td>Stone Music Entertainment</td>\n",
       "      <td>7.0</td>\n",
       "      <td>4</td>\n",
       "      <td>497.0</td>\n",
       "    </tr>\n",
       "    <tr>\n",
       "      <th>4</th>\n",
       "      <td>Weather : 오늘 당신의 날씨는 어떤가요? Part 4</td>\n",
       "      <td>이진아</td>\n",
       "      <td>재즈</td>\n",
       "      <td>2018.09.01</td>\n",
       "      <td>(주)지니뮤직</td>\n",
       "      <td>6.7</td>\n",
       "      <td>1</td>\n",
       "      <td>3.0</td>\n",
       "    </tr>\n",
       "  </tbody>\n",
       "</table>\n",
       "</div>"
      ],
      "text/plain": [
       "                         Album Title      Artist Name     Genre        Date  \\\n",
       "0                      거기가 어딘데?? OST  Various Artists     O.S.T  2018.09.01   \n",
       "1                                  얍     갈릭스(Garlixx)  인디뮤직,  락  2018.09.01   \n",
       "2                               너와 나              파란        발라드  2018.09.01   \n",
       "3                 PRODUCE 48 - FINAL       PRODUCE 48        댄스  2018.09.01   \n",
       "4  Weather : 오늘 당신의 날씨는 어떤가요? Part 4              이진아        재즈  2018.09.01   \n",
       "\n",
       "                Distribution  Rating  Music Count     순위  \n",
       "0                    워너뮤직코리아     6.4            8    3.0  \n",
       "1                   (주)미러볼뮤직     3.8            2   44.0  \n",
       "2                    (주)지니뮤직     7.7            2  367.0  \n",
       "3  Stone Music Entertainment     7.0            4  497.0  \n",
       "4                    (주)지니뮤직     6.7            1    3.0  "
      ]
     },
     "execution_count": 67,
     "metadata": {},
     "output_type": "execute_result"
    }
   ],
   "source": [
    "jdf3.head()"
   ]
  },
  {
   "cell_type": "code",
   "execution_count": 68,
   "id": "0b7d9ec7",
   "metadata": {},
   "outputs": [],
   "source": [
    "jdf4 = jdf3.sort_values(by = '순위')"
   ]
  },
  {
   "cell_type": "code",
   "execution_count": 69,
   "id": "d60f5178",
   "metadata": {
    "scrolled": true
   },
   "outputs": [
    {
     "data": {
      "text/html": [
       "<div>\n",
       "<style scoped>\n",
       "    .dataframe tbody tr th:only-of-type {\n",
       "        vertical-align: middle;\n",
       "    }\n",
       "\n",
       "    .dataframe tbody tr th {\n",
       "        vertical-align: top;\n",
       "    }\n",
       "\n",
       "    .dataframe thead th {\n",
       "        text-align: right;\n",
       "    }\n",
       "</style>\n",
       "<table border=\"1\" class=\"dataframe\">\n",
       "  <thead>\n",
       "    <tr style=\"text-align: right;\">\n",
       "      <th></th>\n",
       "      <th>Album Title</th>\n",
       "      <th>Artist Name</th>\n",
       "      <th>Genre</th>\n",
       "      <th>Date</th>\n",
       "      <th>Distribution</th>\n",
       "      <th>Rating</th>\n",
       "      <th>Music Count</th>\n",
       "      <th>순위</th>\n",
       "    </tr>\n",
       "  </thead>\n",
       "  <tbody>\n",
       "    <tr>\n",
       "      <th>1289</th>\n",
       "      <td>4집 Viva La Vida Or Death And All His Friends</td>\n",
       "      <td>Coldplay</td>\n",
       "      <td>얼터너티브 락</td>\n",
       "      <td>2008.06.16</td>\n",
       "      <td>워너뮤직코리아</td>\n",
       "      <td>9.2</td>\n",
       "      <td>10</td>\n",
       "      <td>1.0</td>\n",
       "    </tr>\n",
       "    <tr>\n",
       "      <th>2828</th>\n",
       "      <td>‘The Story of Light’ EP.3 - The 6th Album</td>\n",
       "      <td>SHINee (샤이니)</td>\n",
       "      <td>알앤비/어반,  발라드,  댄스</td>\n",
       "      <td>2018.06.25</td>\n",
       "      <td>(주)아이리버</td>\n",
       "      <td>8.7</td>\n",
       "      <td>5</td>\n",
       "      <td>1.0</td>\n",
       "    </tr>\n",
       "    <tr>\n",
       "      <th>2829</th>\n",
       "      <td>‘The Story of Light’ EP.2 - The 6th Album</td>\n",
       "      <td>SHINee (샤이니)</td>\n",
       "      <td>일렉트로니카,  댄스,  알앤비/어반</td>\n",
       "      <td>2018.06.11</td>\n",
       "      <td>(주)아이리버</td>\n",
       "      <td>8.8</td>\n",
       "      <td>5</td>\n",
       "      <td>1.0</td>\n",
       "    </tr>\n",
       "    <tr>\n",
       "      <th>2830</th>\n",
       "      <td>‘The Story of Light’ EP.1 - The 6th Album</td>\n",
       "      <td>SHINee (샤이니)</td>\n",
       "      <td>댄스,  알앤비/어반,  일렉트로니카</td>\n",
       "      <td>2018.05.28</td>\n",
       "      <td>(주)아이리버</td>\n",
       "      <td>8.9</td>\n",
       "      <td>5</td>\n",
       "      <td>1.0</td>\n",
       "    </tr>\n",
       "    <tr>\n",
       "      <th>2182</th>\n",
       "      <td>Red Pill Blues (Deluxe Edition)</td>\n",
       "      <td>Maroon 5</td>\n",
       "      <td>팝,  얼터너티브 락</td>\n",
       "      <td>2017.11.03</td>\n",
       "      <td>유니버설뮤직</td>\n",
       "      <td>6.9</td>\n",
       "      <td>21</td>\n",
       "      <td>1.0</td>\n",
       "    </tr>\n",
       "  </tbody>\n",
       "</table>\n",
       "</div>"
      ],
      "text/plain": [
       "                                       Album Title   Artist Name  \\\n",
       "1289  4집 Viva La Vida Or Death And All His Friends      Coldplay   \n",
       "2828     ‘The Story of Light’ EP.3 - The 6th Album  SHINee (샤이니)   \n",
       "2829     ‘The Story of Light’ EP.2 - The 6th Album  SHINee (샤이니)   \n",
       "2830     ‘The Story of Light’ EP.1 - The 6th Album  SHINee (샤이니)   \n",
       "2182               Red Pill Blues (Deluxe Edition)      Maroon 5   \n",
       "\n",
       "                     Genre        Date Distribution  Rating  Music Count   순위  \n",
       "1289               얼터너티브 락  2008.06.16      워너뮤직코리아     9.2           10  1.0  \n",
       "2828     알앤비/어반,  발라드,  댄스  2018.06.25      (주)아이리버     8.7            5  1.0  \n",
       "2829  일렉트로니카,  댄스,  알앤비/어반  2018.06.11      (주)아이리버     8.8            5  1.0  \n",
       "2830  댄스,  알앤비/어반,  일렉트로니카  2018.05.28      (주)아이리버     8.9            5  1.0  \n",
       "2182           팝,  얼터너티브 락  2017.11.03       유니버설뮤직     6.9           21  1.0  "
      ]
     },
     "execution_count": 69,
     "metadata": {},
     "output_type": "execute_result"
    }
   ],
   "source": [
    "jdf4.head()"
   ]
  },
  {
   "cell_type": "markdown",
   "id": "74bb064d",
   "metadata": {},
   "source": [
    "---"
   ]
  }
 ],
 "metadata": {
  "kernelspec": {
   "display_name": "Python 3 (ipykernel)",
   "language": "python",
   "name": "python3"
  },
  "language_info": {
   "codemirror_mode": {
    "name": "ipython",
    "version": 3
   },
   "file_extension": ".py",
   "mimetype": "text/x-python",
   "name": "python",
   "nbconvert_exporter": "python",
   "pygments_lexer": "ipython3",
   "version": "3.9.13"
  }
 },
 "nbformat": 4,
 "nbformat_minor": 5
}
