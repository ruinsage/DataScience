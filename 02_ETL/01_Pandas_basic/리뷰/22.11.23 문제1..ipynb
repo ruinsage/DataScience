{
 "cells": [
  {
   "cell_type": "markdown",
   "id": "23e7b33b",
   "metadata": {},
   "source": [
    "## 문제1"
   ]
  },
  {
   "cell_type": "code",
   "execution_count": null,
   "id": "10fb7e79",
   "metadata": {},
   "outputs": [],
   "source": [
    "#1. 1~10까지 임의의 수를 4*4배열로 생성하시오\n",
    "#2. 중첩 된 숫자 빼고 생성"
   ]
  },
  {
   "cell_type": "code",
   "execution_count": 1,
   "id": "d12b376f",
   "metadata": {},
   "outputs": [],
   "source": [
    "import numpy as np"
   ]
  },
  {
   "cell_type": "code",
   "execution_count": 3,
   "id": "a459b594",
   "metadata": {},
   "outputs": [
    {
     "data": {
      "text/plain": [
       "array([[11,  9, 14, 16],\n",
       "       [ 2,  4,  8,  9],\n",
       "       [15,  5,  2,  5],\n",
       "       [ 2, 11,  2, 12]])"
      ]
     },
     "execution_count": 3,
     "metadata": {},
     "output_type": "execute_result"
    }
   ],
   "source": [
    "np.random.randint(1,17,(4,4))"
   ]
  }
 ],
 "metadata": {
  "kernelspec": {
   "display_name": "Python 3 (ipykernel)",
   "language": "python",
   "name": "python3"
  },
  "language_info": {
   "codemirror_mode": {
    "name": "ipython",
    "version": 3
   },
   "file_extension": ".py",
   "mimetype": "text/x-python",
   "name": "python",
   "nbconvert_exporter": "python",
   "pygments_lexer": "ipython3",
   "version": "3.9.13"
  }
 },
 "nbformat": 4,
 "nbformat_minor": 5
}
