{
 "cells": [
  {
   "cell_type": "code",
   "execution_count": 1,
   "metadata": {},
   "outputs": [],
   "source": [
    "import pandas as pd"
   ]
  },
  {
   "cell_type": "markdown",
   "metadata": {},
   "source": [
    "## 예제 8-7  eval 함수와 메소드 처리하기"
   ]
  },
  {
   "cell_type": "code",
   "execution_count": 2,
   "metadata": {},
   "outputs": [],
   "source": [
    "import numpy as np"
   ]
  },
  {
   "cell_type": "code",
   "execution_count": 3,
   "metadata": {},
   "outputs": [],
   "source": [
    "rng = np.random.RandomState(42)"
   ]
  },
  {
   "cell_type": "code",
   "execution_count": 4,
   "metadata": {},
   "outputs": [],
   "source": [
    "nrows, ncols = 100000, 10"
   ]
  },
  {
   "cell_type": "code",
   "execution_count": 5,
   "metadata": {
    "scrolled": true
   },
   "outputs": [
    {
     "name": "stdout",
     "output_type": "stream",
     "text": [
      "<class 'generator'>\n"
     ]
    }
   ],
   "source": [
    "print(type(pd.DataFrame(rng.rand(nrows, ncols)) for i in range(2)))"
   ]
  },
  {
   "cell_type": "code",
   "execution_count": null,
   "metadata": {},
   "outputs": [],
   "source": []
  },
  {
   "cell_type": "code",
   "execution_count": 6,
   "metadata": {},
   "outputs": [],
   "source": [
    "# 0,1 두번 for문의 루프가 반복되면서 nrows, ncols 크기의 데이터 프레임을 각각 생성한다.\n",
    "df1, df2 = (pd.DataFrame(rng.rand(nrows, ncols))for i in range(2))"
   ]
  },
  {
   "cell_type": "code",
   "execution_count": 7,
   "metadata": {},
   "outputs": [
    {
     "data": {
      "text/html": [
       "<div>\n",
       "<style scoped>\n",
       "    .dataframe tbody tr th:only-of-type {\n",
       "        vertical-align: middle;\n",
       "    }\n",
       "\n",
       "    .dataframe tbody tr th {\n",
       "        vertical-align: top;\n",
       "    }\n",
       "\n",
       "    .dataframe thead th {\n",
       "        text-align: right;\n",
       "    }\n",
       "</style>\n",
       "<table border=\"1\" class=\"dataframe\">\n",
       "  <thead>\n",
       "    <tr style=\"text-align: right;\">\n",
       "      <th></th>\n",
       "      <th>0</th>\n",
       "      <th>1</th>\n",
       "      <th>2</th>\n",
       "      <th>3</th>\n",
       "      <th>4</th>\n",
       "      <th>5</th>\n",
       "      <th>6</th>\n",
       "      <th>7</th>\n",
       "      <th>8</th>\n",
       "      <th>9</th>\n",
       "    </tr>\n",
       "  </thead>\n",
       "  <tbody>\n",
       "    <tr>\n",
       "      <th>0</th>\n",
       "      <td>0.374540</td>\n",
       "      <td>0.950714</td>\n",
       "      <td>0.731994</td>\n",
       "      <td>0.598658</td>\n",
       "      <td>0.156019</td>\n",
       "      <td>0.155995</td>\n",
       "      <td>0.058084</td>\n",
       "      <td>0.866176</td>\n",
       "      <td>0.601115</td>\n",
       "      <td>0.708073</td>\n",
       "    </tr>\n",
       "    <tr>\n",
       "      <th>1</th>\n",
       "      <td>0.020584</td>\n",
       "      <td>0.969910</td>\n",
       "      <td>0.832443</td>\n",
       "      <td>0.212339</td>\n",
       "      <td>0.181825</td>\n",
       "      <td>0.183405</td>\n",
       "      <td>0.304242</td>\n",
       "      <td>0.524756</td>\n",
       "      <td>0.431945</td>\n",
       "      <td>0.291229</td>\n",
       "    </tr>\n",
       "    <tr>\n",
       "      <th>2</th>\n",
       "      <td>0.611853</td>\n",
       "      <td>0.139494</td>\n",
       "      <td>0.292145</td>\n",
       "      <td>0.366362</td>\n",
       "      <td>0.456070</td>\n",
       "      <td>0.785176</td>\n",
       "      <td>0.199674</td>\n",
       "      <td>0.514234</td>\n",
       "      <td>0.592415</td>\n",
       "      <td>0.046450</td>\n",
       "    </tr>\n",
       "    <tr>\n",
       "      <th>3</th>\n",
       "      <td>0.607545</td>\n",
       "      <td>0.170524</td>\n",
       "      <td>0.065052</td>\n",
       "      <td>0.948886</td>\n",
       "      <td>0.965632</td>\n",
       "      <td>0.808397</td>\n",
       "      <td>0.304614</td>\n",
       "      <td>0.097672</td>\n",
       "      <td>0.684233</td>\n",
       "      <td>0.440152</td>\n",
       "    </tr>\n",
       "    <tr>\n",
       "      <th>4</th>\n",
       "      <td>0.122038</td>\n",
       "      <td>0.495177</td>\n",
       "      <td>0.034389</td>\n",
       "      <td>0.909320</td>\n",
       "      <td>0.258780</td>\n",
       "      <td>0.662522</td>\n",
       "      <td>0.311711</td>\n",
       "      <td>0.520068</td>\n",
       "      <td>0.546710</td>\n",
       "      <td>0.184854</td>\n",
       "    </tr>\n",
       "  </tbody>\n",
       "</table>\n",
       "</div>"
      ],
      "text/plain": [
       "          0         1         2         3         4         5         6  \\\n",
       "0  0.374540  0.950714  0.731994  0.598658  0.156019  0.155995  0.058084   \n",
       "1  0.020584  0.969910  0.832443  0.212339  0.181825  0.183405  0.304242   \n",
       "2  0.611853  0.139494  0.292145  0.366362  0.456070  0.785176  0.199674   \n",
       "3  0.607545  0.170524  0.065052  0.948886  0.965632  0.808397  0.304614   \n",
       "4  0.122038  0.495177  0.034389  0.909320  0.258780  0.662522  0.311711   \n",
       "\n",
       "          7         8         9  \n",
       "0  0.866176  0.601115  0.708073  \n",
       "1  0.524756  0.431945  0.291229  \n",
       "2  0.514234  0.592415  0.046450  \n",
       "3  0.097672  0.684233  0.440152  \n",
       "4  0.520068  0.546710  0.184854  "
      ]
     },
     "execution_count": 7,
     "metadata": {},
     "output_type": "execute_result"
    }
   ],
   "source": [
    "df1.head()"
   ]
  },
  {
   "cell_type": "code",
   "execution_count": 8,
   "metadata": {},
   "outputs": [
    {
     "data": {
      "text/html": [
       "<div>\n",
       "<style scoped>\n",
       "    .dataframe tbody tr th:only-of-type {\n",
       "        vertical-align: middle;\n",
       "    }\n",
       "\n",
       "    .dataframe tbody tr th {\n",
       "        vertical-align: top;\n",
       "    }\n",
       "\n",
       "    .dataframe thead th {\n",
       "        text-align: right;\n",
       "    }\n",
       "</style>\n",
       "<table border=\"1\" class=\"dataframe\">\n",
       "  <thead>\n",
       "    <tr style=\"text-align: right;\">\n",
       "      <th></th>\n",
       "      <th>0</th>\n",
       "      <th>1</th>\n",
       "      <th>2</th>\n",
       "      <th>3</th>\n",
       "      <th>4</th>\n",
       "      <th>5</th>\n",
       "      <th>6</th>\n",
       "      <th>7</th>\n",
       "      <th>8</th>\n",
       "      <th>9</th>\n",
       "    </tr>\n",
       "  </thead>\n",
       "  <tbody>\n",
       "    <tr>\n",
       "      <th>0</th>\n",
       "      <td>0.595156</td>\n",
       "      <td>0.364717</td>\n",
       "      <td>0.005376</td>\n",
       "      <td>0.561088</td>\n",
       "      <td>0.896570</td>\n",
       "      <td>0.531717</td>\n",
       "      <td>0.780488</td>\n",
       "      <td>0.161954</td>\n",
       "      <td>0.137298</td>\n",
       "      <td>0.893944</td>\n",
       "    </tr>\n",
       "    <tr>\n",
       "      <th>1</th>\n",
       "      <td>0.782998</td>\n",
       "      <td>0.347410</td>\n",
       "      <td>0.800172</td>\n",
       "      <td>0.075326</td>\n",
       "      <td>0.517900</td>\n",
       "      <td>0.881456</td>\n",
       "      <td>0.843601</td>\n",
       "      <td>0.371253</td>\n",
       "      <td>0.228849</td>\n",
       "      <td>0.867865</td>\n",
       "    </tr>\n",
       "    <tr>\n",
       "      <th>2</th>\n",
       "      <td>0.266901</td>\n",
       "      <td>0.822025</td>\n",
       "      <td>0.266517</td>\n",
       "      <td>0.984533</td>\n",
       "      <td>0.360120</td>\n",
       "      <td>0.255362</td>\n",
       "      <td>0.599228</td>\n",
       "      <td>0.359710</td>\n",
       "      <td>0.810427</td>\n",
       "      <td>0.732750</td>\n",
       "    </tr>\n",
       "    <tr>\n",
       "      <th>3</th>\n",
       "      <td>0.632495</td>\n",
       "      <td>0.422013</td>\n",
       "      <td>0.834611</td>\n",
       "      <td>0.306137</td>\n",
       "      <td>0.295722</td>\n",
       "      <td>0.091476</td>\n",
       "      <td>0.563500</td>\n",
       "      <td>0.696945</td>\n",
       "      <td>0.712998</td>\n",
       "      <td>0.861404</td>\n",
       "    </tr>\n",
       "    <tr>\n",
       "      <th>4</th>\n",
       "      <td>0.567160</td>\n",
       "      <td>0.025521</td>\n",
       "      <td>0.175390</td>\n",
       "      <td>0.561330</td>\n",
       "      <td>0.317477</td>\n",
       "      <td>0.864216</td>\n",
       "      <td>0.228547</td>\n",
       "      <td>0.255269</td>\n",
       "      <td>0.842986</td>\n",
       "      <td>0.581316</td>\n",
       "    </tr>\n",
       "  </tbody>\n",
       "</table>\n",
       "</div>"
      ],
      "text/plain": [
       "          0         1         2         3         4         5         6  \\\n",
       "0  0.595156  0.364717  0.005376  0.561088  0.896570  0.531717  0.780488   \n",
       "1  0.782998  0.347410  0.800172  0.075326  0.517900  0.881456  0.843601   \n",
       "2  0.266901  0.822025  0.266517  0.984533  0.360120  0.255362  0.599228   \n",
       "3  0.632495  0.422013  0.834611  0.306137  0.295722  0.091476  0.563500   \n",
       "4  0.567160  0.025521  0.175390  0.561330  0.317477  0.864216  0.228547   \n",
       "\n",
       "          7         8         9  \n",
       "0  0.161954  0.137298  0.893944  \n",
       "1  0.371253  0.228849  0.867865  \n",
       "2  0.359710  0.810427  0.732750  \n",
       "3  0.696945  0.712998  0.861404  \n",
       "4  0.255269  0.842986  0.581316  "
      ]
     },
     "execution_count": 8,
     "metadata": {},
     "output_type": "execute_result"
    }
   ],
   "source": [
    "df2.head()"
   ]
  },
  {
   "cell_type": "code",
   "execution_count": 9,
   "metadata": {},
   "outputs": [
    {
     "data": {
      "text/html": [
       "<div>\n",
       "<style scoped>\n",
       "    .dataframe tbody tr th:only-of-type {\n",
       "        vertical-align: middle;\n",
       "    }\n",
       "\n",
       "    .dataframe tbody tr th {\n",
       "        vertical-align: top;\n",
       "    }\n",
       "\n",
       "    .dataframe thead th {\n",
       "        text-align: right;\n",
       "    }\n",
       "</style>\n",
       "<table border=\"1\" class=\"dataframe\">\n",
       "  <thead>\n",
       "    <tr style=\"text-align: right;\">\n",
       "      <th></th>\n",
       "      <th>0</th>\n",
       "      <th>1</th>\n",
       "      <th>2</th>\n",
       "      <th>3</th>\n",
       "      <th>4</th>\n",
       "      <th>5</th>\n",
       "      <th>6</th>\n",
       "      <th>7</th>\n",
       "      <th>8</th>\n",
       "      <th>9</th>\n",
       "    </tr>\n",
       "  </thead>\n",
       "  <tbody>\n",
       "    <tr>\n",
       "      <th>0</th>\n",
       "      <td>0.969696</td>\n",
       "      <td>1.315431</td>\n",
       "      <td>0.737370</td>\n",
       "      <td>1.159746</td>\n",
       "      <td>1.052589</td>\n",
       "      <td>0.687711</td>\n",
       "      <td>0.838571</td>\n",
       "      <td>1.028130</td>\n",
       "      <td>0.738413</td>\n",
       "      <td>1.602016</td>\n",
       "    </tr>\n",
       "    <tr>\n",
       "      <th>1</th>\n",
       "      <td>0.803583</td>\n",
       "      <td>1.317320</td>\n",
       "      <td>1.632615</td>\n",
       "      <td>0.287665</td>\n",
       "      <td>0.699725</td>\n",
       "      <td>1.064861</td>\n",
       "      <td>1.147843</td>\n",
       "      <td>0.896010</td>\n",
       "      <td>0.660794</td>\n",
       "      <td>1.159094</td>\n",
       "    </tr>\n",
       "    <tr>\n",
       "      <th>2</th>\n",
       "      <td>0.878754</td>\n",
       "      <td>0.961518</td>\n",
       "      <td>0.558662</td>\n",
       "      <td>1.350895</td>\n",
       "      <td>0.816190</td>\n",
       "      <td>1.040538</td>\n",
       "      <td>0.798902</td>\n",
       "      <td>0.873944</td>\n",
       "      <td>1.402842</td>\n",
       "      <td>0.779200</td>\n",
       "    </tr>\n",
       "    <tr>\n",
       "      <th>3</th>\n",
       "      <td>1.240040</td>\n",
       "      <td>0.592538</td>\n",
       "      <td>0.899663</td>\n",
       "      <td>1.255023</td>\n",
       "      <td>1.261354</td>\n",
       "      <td>0.899873</td>\n",
       "      <td>0.868114</td>\n",
       "      <td>0.794617</td>\n",
       "      <td>1.397231</td>\n",
       "      <td>1.301557</td>\n",
       "    </tr>\n",
       "    <tr>\n",
       "      <th>4</th>\n",
       "      <td>0.689199</td>\n",
       "      <td>0.520698</td>\n",
       "      <td>0.209779</td>\n",
       "      <td>1.470651</td>\n",
       "      <td>0.576257</td>\n",
       "      <td>1.526738</td>\n",
       "      <td>0.540258</td>\n",
       "      <td>0.775337</td>\n",
       "      <td>1.389696</td>\n",
       "      <td>0.766170</td>\n",
       "    </tr>\n",
       "  </tbody>\n",
       "</table>\n",
       "</div>"
      ],
      "text/plain": [
       "          0         1         2         3         4         5         6  \\\n",
       "0  0.969696  1.315431  0.737370  1.159746  1.052589  0.687711  0.838571   \n",
       "1  0.803583  1.317320  1.632615  0.287665  0.699725  1.064861  1.147843   \n",
       "2  0.878754  0.961518  0.558662  1.350895  0.816190  1.040538  0.798902   \n",
       "3  1.240040  0.592538  0.899663  1.255023  1.261354  0.899873  0.868114   \n",
       "4  0.689199  0.520698  0.209779  1.470651  0.576257  1.526738  0.540258   \n",
       "\n",
       "          7         8         9  \n",
       "0  1.028130  0.738413  1.602016  \n",
       "1  0.896010  0.660794  1.159094  \n",
       "2  0.873944  1.402842  0.779200  \n",
       "3  0.794617  1.397231  1.301557  \n",
       "4  0.775337  1.389696  0.766170  "
      ]
     },
     "execution_count": 9,
     "metadata": {},
     "output_type": "execute_result"
    }
   ],
   "source": [
    "(df1+df2).head(5)"
   ]
  },
  {
   "cell_type": "code",
   "execution_count": 10,
   "metadata": {},
   "outputs": [
    {
     "data": {
      "text/html": [
       "<div>\n",
       "<style scoped>\n",
       "    .dataframe tbody tr th:only-of-type {\n",
       "        vertical-align: middle;\n",
       "    }\n",
       "\n",
       "    .dataframe tbody tr th {\n",
       "        vertical-align: top;\n",
       "    }\n",
       "\n",
       "    .dataframe thead th {\n",
       "        text-align: right;\n",
       "    }\n",
       "</style>\n",
       "<table border=\"1\" class=\"dataframe\">\n",
       "  <thead>\n",
       "    <tr style=\"text-align: right;\">\n",
       "      <th></th>\n",
       "      <th>0</th>\n",
       "      <th>1</th>\n",
       "      <th>2</th>\n",
       "      <th>3</th>\n",
       "      <th>4</th>\n",
       "      <th>5</th>\n",
       "      <th>6</th>\n",
       "      <th>7</th>\n",
       "      <th>8</th>\n",
       "      <th>9</th>\n",
       "    </tr>\n",
       "  </thead>\n",
       "  <tbody>\n",
       "    <tr>\n",
       "      <th>0</th>\n",
       "      <td>0.969696</td>\n",
       "      <td>1.315431</td>\n",
       "      <td>0.737370</td>\n",
       "      <td>1.159746</td>\n",
       "      <td>1.052589</td>\n",
       "      <td>0.687711</td>\n",
       "      <td>0.838571</td>\n",
       "      <td>1.028130</td>\n",
       "      <td>0.738413</td>\n",
       "      <td>1.602016</td>\n",
       "    </tr>\n",
       "    <tr>\n",
       "      <th>1</th>\n",
       "      <td>0.803583</td>\n",
       "      <td>1.317320</td>\n",
       "      <td>1.632615</td>\n",
       "      <td>0.287665</td>\n",
       "      <td>0.699725</td>\n",
       "      <td>1.064861</td>\n",
       "      <td>1.147843</td>\n",
       "      <td>0.896010</td>\n",
       "      <td>0.660794</td>\n",
       "      <td>1.159094</td>\n",
       "    </tr>\n",
       "    <tr>\n",
       "      <th>2</th>\n",
       "      <td>0.878754</td>\n",
       "      <td>0.961518</td>\n",
       "      <td>0.558662</td>\n",
       "      <td>1.350895</td>\n",
       "      <td>0.816190</td>\n",
       "      <td>1.040538</td>\n",
       "      <td>0.798902</td>\n",
       "      <td>0.873944</td>\n",
       "      <td>1.402842</td>\n",
       "      <td>0.779200</td>\n",
       "    </tr>\n",
       "    <tr>\n",
       "      <th>3</th>\n",
       "      <td>1.240040</td>\n",
       "      <td>0.592538</td>\n",
       "      <td>0.899663</td>\n",
       "      <td>1.255023</td>\n",
       "      <td>1.261354</td>\n",
       "      <td>0.899873</td>\n",
       "      <td>0.868114</td>\n",
       "      <td>0.794617</td>\n",
       "      <td>1.397231</td>\n",
       "      <td>1.301557</td>\n",
       "    </tr>\n",
       "    <tr>\n",
       "      <th>4</th>\n",
       "      <td>0.689199</td>\n",
       "      <td>0.520698</td>\n",
       "      <td>0.209779</td>\n",
       "      <td>1.470651</td>\n",
       "      <td>0.576257</td>\n",
       "      <td>1.526738</td>\n",
       "      <td>0.540258</td>\n",
       "      <td>0.775337</td>\n",
       "      <td>1.389696</td>\n",
       "      <td>0.766170</td>\n",
       "    </tr>\n",
       "  </tbody>\n",
       "</table>\n",
       "</div>"
      ],
      "text/plain": [
       "          0         1         2         3         4         5         6  \\\n",
       "0  0.969696  1.315431  0.737370  1.159746  1.052589  0.687711  0.838571   \n",
       "1  0.803583  1.317320  1.632615  0.287665  0.699725  1.064861  1.147843   \n",
       "2  0.878754  0.961518  0.558662  1.350895  0.816190  1.040538  0.798902   \n",
       "3  1.240040  0.592538  0.899663  1.255023  1.261354  0.899873  0.868114   \n",
       "4  0.689199  0.520698  0.209779  1.470651  0.576257  1.526738  0.540258   \n",
       "\n",
       "          7         8         9  \n",
       "0  1.028130  0.738413  1.602016  \n",
       "1  0.896010  0.660794  1.159094  \n",
       "2  0.873944  1.402842  0.779200  \n",
       "3  0.794617  1.397231  1.301557  \n",
       "4  0.775337  1.389696  0.766170  "
      ]
     },
     "execution_count": 10,
     "metadata": {},
     "output_type": "execute_result"
    }
   ],
   "source": [
    " pd.eval('df1 + df2').head(5)"
   ]
  },
  {
   "cell_type": "code",
   "execution_count": 11,
   "metadata": {},
   "outputs": [
    {
     "name": "stdout",
     "output_type": "stream",
     "text": [
      "3.73 ms ± 312 µs per loop (mean ± std. dev. of 7 runs, 100 loops each)\n"
     ]
    }
   ],
   "source": [
    "%timeit df1 + df2"
   ]
  },
  {
   "cell_type": "code",
   "execution_count": 12,
   "metadata": {},
   "outputs": [
    {
     "name": "stdout",
     "output_type": "stream",
     "text": [
      "4.26 ms ± 121 µs per loop (mean ± std. dev. of 7 runs, 100 loops each)\n"
     ]
    }
   ],
   "source": [
    "%timeit pd.eval('df1 + df2')"
   ]
  },
  {
   "cell_type": "code",
   "execution_count": 14,
   "metadata": {},
   "outputs": [
    {
     "data": {
      "text/plain": [
       "True"
      ]
     },
     "execution_count": 14,
     "metadata": {},
     "output_type": "execute_result"
    }
   ],
   "source": [
    "# allclose() 함수는 두 연산의 결과가 같은지 판단하여 True/False를 반환함\n",
    "np.allclose(df1 + df2 ,pd.eval('df1 + df2 '))"
   ]
  },
  {
   "cell_type": "code",
   "execution_count": null,
   "metadata": {},
   "outputs": [],
   "source": []
  },
  {
   "cell_type": "code",
   "execution_count": 15,
   "metadata": {},
   "outputs": [],
   "source": [
    "nrows1, ncols1 = 100000, 100"
   ]
  },
  {
   "cell_type": "code",
   "execution_count": 16,
   "metadata": {},
   "outputs": [],
   "source": [
    "df11, df12,df13, df14 = (pd.DataFrame(rng.rand(nrows1, ncols1))for i in range(4))"
   ]
  },
  {
   "cell_type": "code",
   "execution_count": 17,
   "metadata": {},
   "outputs": [
    {
     "name": "stdout",
     "output_type": "stream",
     "text": [
      "99 ms ± 2.15 ms per loop (mean ± std. dev. of 7 runs, 10 loops each)\n"
     ]
    }
   ],
   "source": [
    "%timeit df11 + df12 + df13 + df14"
   ]
  },
  {
   "cell_type": "code",
   "execution_count": 18,
   "metadata": {},
   "outputs": [
    {
     "name": "stdout",
     "output_type": "stream",
     "text": [
      "42.5 ms ± 810 µs per loop (mean ± std. dev. of 7 runs, 10 loops each)\n"
     ]
    }
   ],
   "source": [
    "# 보다 많은 데이터를 생성하고 데이터 프레임도 확대되는 경우 eval()함수가 더 좋은 성능을 낼 수 있다.\n",
    "%timeit pd.eval('df11 + df12 + df13 + df14')"
   ]
  },
  {
   "cell_type": "code",
   "execution_count": null,
   "metadata": {},
   "outputs": [],
   "source": []
  },
  {
   "cell_type": "code",
   "execution_count": 19,
   "metadata": {},
   "outputs": [],
   "source": [
    "dfa1 = pd. DataFrame(np.random.randn(10, 2), columns=['평균','분산'])"
   ]
  },
  {
   "cell_type": "code",
   "execution_count": 20,
   "metadata": {},
   "outputs": [
    {
     "data": {
      "text/html": [
       "<div>\n",
       "<style scoped>\n",
       "    .dataframe tbody tr th:only-of-type {\n",
       "        vertical-align: middle;\n",
       "    }\n",
       "\n",
       "    .dataframe tbody tr th {\n",
       "        vertical-align: top;\n",
       "    }\n",
       "\n",
       "    .dataframe thead th {\n",
       "        text-align: right;\n",
       "    }\n",
       "</style>\n",
       "<table border=\"1\" class=\"dataframe\">\n",
       "  <thead>\n",
       "    <tr style=\"text-align: right;\">\n",
       "      <th></th>\n",
       "      <th>평균</th>\n",
       "      <th>분산</th>\n",
       "    </tr>\n",
       "  </thead>\n",
       "  <tbody>\n",
       "    <tr>\n",
       "      <th>0</th>\n",
       "      <td>2.127161</td>\n",
       "      <td>1.725737</td>\n",
       "    </tr>\n",
       "    <tr>\n",
       "      <th>1</th>\n",
       "      <td>0.919797</td>\n",
       "      <td>0.462978</td>\n",
       "    </tr>\n",
       "    <tr>\n",
       "      <th>2</th>\n",
       "      <td>0.330995</td>\n",
       "      <td>-0.436098</td>\n",
       "    </tr>\n",
       "    <tr>\n",
       "      <th>3</th>\n",
       "      <td>0.951220</td>\n",
       "      <td>-0.175106</td>\n",
       "    </tr>\n",
       "    <tr>\n",
       "      <th>4</th>\n",
       "      <td>1.499247</td>\n",
       "      <td>0.071633</td>\n",
       "    </tr>\n",
       "    <tr>\n",
       "      <th>5</th>\n",
       "      <td>-0.856722</td>\n",
       "      <td>-0.044947</td>\n",
       "    </tr>\n",
       "    <tr>\n",
       "      <th>6</th>\n",
       "      <td>0.793738</td>\n",
       "      <td>-0.796826</td>\n",
       "    </tr>\n",
       "    <tr>\n",
       "      <th>7</th>\n",
       "      <td>-0.222263</td>\n",
       "      <td>0.774164</td>\n",
       "    </tr>\n",
       "    <tr>\n",
       "      <th>8</th>\n",
       "      <td>-0.020249</td>\n",
       "      <td>-0.548496</td>\n",
       "    </tr>\n",
       "    <tr>\n",
       "      <th>9</th>\n",
       "      <td>1.115690</td>\n",
       "      <td>0.053478</td>\n",
       "    </tr>\n",
       "  </tbody>\n",
       "</table>\n",
       "</div>"
      ],
      "text/plain": [
       "         평균        분산\n",
       "0  2.127161  1.725737\n",
       "1  0.919797  0.462978\n",
       "2  0.330995 -0.436098\n",
       "3  0.951220 -0.175106\n",
       "4  1.499247  0.071633\n",
       "5 -0.856722 -0.044947\n",
       "6  0.793738 -0.796826\n",
       "7 -0.222263  0.774164\n",
       "8 -0.020249 -0.548496\n",
       "9  1.115690  0.053478"
      ]
     },
     "execution_count": 20,
     "metadata": {},
     "output_type": "execute_result"
    }
   ],
   "source": [
    "dfa1"
   ]
  },
  {
   "cell_type": "code",
   "execution_count": 21,
   "metadata": {},
   "outputs": [
    {
     "data": {
      "text/plain": [
       "0    3.852898\n",
       "1    1.382775\n",
       "2   -0.105103\n",
       "3    0.776114\n",
       "4    1.570880\n",
       "5   -0.901669\n",
       "6   -0.003088\n",
       "7    0.551901\n",
       "8   -0.568745\n",
       "9    1.169168\n",
       "dtype: float64"
      ]
     },
     "execution_count": 21,
     "metadata": {},
     "output_type": "execute_result"
    }
   ],
   "source": [
    "dfa1.eval( '평균 + 분산 ')"
   ]
  },
  {
   "cell_type": "code",
   "execution_count": 22,
   "metadata": {},
   "outputs": [
    {
     "data": {
      "text/html": [
       "<div>\n",
       "<style scoped>\n",
       "    .dataframe tbody tr th:only-of-type {\n",
       "        vertical-align: middle;\n",
       "    }\n",
       "\n",
       "    .dataframe tbody tr th {\n",
       "        vertical-align: top;\n",
       "    }\n",
       "\n",
       "    .dataframe thead th {\n",
       "        text-align: right;\n",
       "    }\n",
       "</style>\n",
       "<table border=\"1\" class=\"dataframe\">\n",
       "  <thead>\n",
       "    <tr style=\"text-align: right;\">\n",
       "      <th></th>\n",
       "      <th>평균</th>\n",
       "      <th>분산</th>\n",
       "      <th>편차</th>\n",
       "    </tr>\n",
       "  </thead>\n",
       "  <tbody>\n",
       "    <tr>\n",
       "      <th>0</th>\n",
       "      <td>2.127161</td>\n",
       "      <td>1.725737</td>\n",
       "      <td>0.401424</td>\n",
       "    </tr>\n",
       "    <tr>\n",
       "      <th>1</th>\n",
       "      <td>0.919797</td>\n",
       "      <td>0.462978</td>\n",
       "      <td>0.456819</td>\n",
       "    </tr>\n",
       "    <tr>\n",
       "      <th>2</th>\n",
       "      <td>0.330995</td>\n",
       "      <td>-0.436098</td>\n",
       "      <td>0.767093</td>\n",
       "    </tr>\n",
       "    <tr>\n",
       "      <th>3</th>\n",
       "      <td>0.951220</td>\n",
       "      <td>-0.175106</td>\n",
       "      <td>1.126325</td>\n",
       "    </tr>\n",
       "    <tr>\n",
       "      <th>4</th>\n",
       "      <td>1.499247</td>\n",
       "      <td>0.071633</td>\n",
       "      <td>1.427615</td>\n",
       "    </tr>\n",
       "    <tr>\n",
       "      <th>5</th>\n",
       "      <td>-0.856722</td>\n",
       "      <td>-0.044947</td>\n",
       "      <td>-0.811775</td>\n",
       "    </tr>\n",
       "    <tr>\n",
       "      <th>6</th>\n",
       "      <td>0.793738</td>\n",
       "      <td>-0.796826</td>\n",
       "      <td>1.590564</td>\n",
       "    </tr>\n",
       "    <tr>\n",
       "      <th>7</th>\n",
       "      <td>-0.222263</td>\n",
       "      <td>0.774164</td>\n",
       "      <td>-0.996427</td>\n",
       "    </tr>\n",
       "    <tr>\n",
       "      <th>8</th>\n",
       "      <td>-0.020249</td>\n",
       "      <td>-0.548496</td>\n",
       "      <td>0.528247</td>\n",
       "    </tr>\n",
       "    <tr>\n",
       "      <th>9</th>\n",
       "      <td>1.115690</td>\n",
       "      <td>0.053478</td>\n",
       "      <td>1.062212</td>\n",
       "    </tr>\n",
       "  </tbody>\n",
       "</table>\n",
       "</div>"
      ],
      "text/plain": [
       "         평균        분산        편차\n",
       "0  2.127161  1.725737  0.401424\n",
       "1  0.919797  0.462978  0.456819\n",
       "2  0.330995 -0.436098  0.767093\n",
       "3  0.951220 -0.175106  1.126325\n",
       "4  1.499247  0.071633  1.427615\n",
       "5 -0.856722 -0.044947 -0.811775\n",
       "6  0.793738 -0.796826  1.590564\n",
       "7 -0.222263  0.774164 -0.996427\n",
       "8 -0.020249 -0.548496  0.528247\n",
       "9  1.115690  0.053478  1.062212"
      ]
     },
     "execution_count": 22,
     "metadata": {},
     "output_type": "execute_result"
    }
   ],
   "source": [
    "# eval()함수로 열생성도 가능하다\n",
    "dfa1.eval( '편차  = 평균 - 분산 ')"
   ]
  },
  {
   "cell_type": "code",
   "execution_count": 18,
   "metadata": {},
   "outputs": [
    {
     "data": {
      "text/html": [
       "<div>\n",
       "<style scoped>\n",
       "    .dataframe tbody tr th:only-of-type {\n",
       "        vertical-align: middle;\n",
       "    }\n",
       "\n",
       "    .dataframe tbody tr th {\n",
       "        vertical-align: top;\n",
       "    }\n",
       "\n",
       "    .dataframe thead th {\n",
       "        text-align: right;\n",
       "    }\n",
       "</style>\n",
       "<table border=\"1\" class=\"dataframe\">\n",
       "  <thead>\n",
       "    <tr style=\"text-align: right;\">\n",
       "      <th></th>\n",
       "      <th>평균</th>\n",
       "      <th>분산</th>\n",
       "    </tr>\n",
       "  </thead>\n",
       "  <tbody>\n",
       "    <tr>\n",
       "      <th>0</th>\n",
       "      <td>0.685033</td>\n",
       "      <td>-0.066239</td>\n",
       "    </tr>\n",
       "    <tr>\n",
       "      <th>1</th>\n",
       "      <td>-0.383512</td>\n",
       "      <td>1.675153</td>\n",
       "    </tr>\n",
       "    <tr>\n",
       "      <th>2</th>\n",
       "      <td>0.436180</td>\n",
       "      <td>-0.373146</td>\n",
       "    </tr>\n",
       "    <tr>\n",
       "      <th>3</th>\n",
       "      <td>-0.401405</td>\n",
       "      <td>0.482832</td>\n",
       "    </tr>\n",
       "    <tr>\n",
       "      <th>4</th>\n",
       "      <td>-0.145430</td>\n",
       "      <td>2.371629</td>\n",
       "    </tr>\n",
       "    <tr>\n",
       "      <th>5</th>\n",
       "      <td>-0.137704</td>\n",
       "      <td>0.072546</td>\n",
       "    </tr>\n",
       "    <tr>\n",
       "      <th>6</th>\n",
       "      <td>-0.701751</td>\n",
       "      <td>0.224541</td>\n",
       "    </tr>\n",
       "    <tr>\n",
       "      <th>7</th>\n",
       "      <td>-1.140720</td>\n",
       "      <td>-0.539446</td>\n",
       "    </tr>\n",
       "    <tr>\n",
       "      <th>8</th>\n",
       "      <td>-1.295745</td>\n",
       "      <td>0.531430</td>\n",
       "    </tr>\n",
       "    <tr>\n",
       "      <th>9</th>\n",
       "      <td>-0.430147</td>\n",
       "      <td>-2.090892</td>\n",
       "    </tr>\n",
       "  </tbody>\n",
       "</table>\n",
       "</div>"
      ],
      "text/plain": [
       "         평균        분산\n",
       "0  0.685033 -0.066239\n",
       "1 -0.383512  1.675153\n",
       "2  0.436180 -0.373146\n",
       "3 -0.401405  0.482832\n",
       "4 -0.145430  2.371629\n",
       "5 -0.137704  0.072546\n",
       "6 -0.701751  0.224541\n",
       "7 -1.140720 -0.539446\n",
       "8 -1.295745  0.531430\n",
       "9 -0.430147 -2.090892"
      ]
     },
     "execution_count": 18,
     "metadata": {},
     "output_type": "execute_result"
    }
   ],
   "source": [
    "# 자기 자신을 바꾸지는 않는다.\n",
    "dfa1"
   ]
  },
  {
   "cell_type": "code",
   "execution_count": 24,
   "metadata": {},
   "outputs": [],
   "source": [
    "# 자기 자신을 바꾸려면\n",
    "dfa1.eval( '편차 = 평균 - 분산 ', inplace=True)"
   ]
  },
  {
   "cell_type": "code",
   "execution_count": 25,
   "metadata": {},
   "outputs": [
    {
     "data": {
      "text/html": [
       "<div>\n",
       "<style scoped>\n",
       "    .dataframe tbody tr th:only-of-type {\n",
       "        vertical-align: middle;\n",
       "    }\n",
       "\n",
       "    .dataframe tbody tr th {\n",
       "        vertical-align: top;\n",
       "    }\n",
       "\n",
       "    .dataframe thead th {\n",
       "        text-align: right;\n",
       "    }\n",
       "</style>\n",
       "<table border=\"1\" class=\"dataframe\">\n",
       "  <thead>\n",
       "    <tr style=\"text-align: right;\">\n",
       "      <th></th>\n",
       "      <th>평균</th>\n",
       "      <th>분산</th>\n",
       "      <th>편차</th>\n",
       "    </tr>\n",
       "  </thead>\n",
       "  <tbody>\n",
       "    <tr>\n",
       "      <th>0</th>\n",
       "      <td>2.127161</td>\n",
       "      <td>1.725737</td>\n",
       "      <td>0.401424</td>\n",
       "    </tr>\n",
       "    <tr>\n",
       "      <th>1</th>\n",
       "      <td>0.919797</td>\n",
       "      <td>0.462978</td>\n",
       "      <td>0.456819</td>\n",
       "    </tr>\n",
       "    <tr>\n",
       "      <th>2</th>\n",
       "      <td>0.330995</td>\n",
       "      <td>-0.436098</td>\n",
       "      <td>0.767093</td>\n",
       "    </tr>\n",
       "    <tr>\n",
       "      <th>3</th>\n",
       "      <td>0.951220</td>\n",
       "      <td>-0.175106</td>\n",
       "      <td>1.126325</td>\n",
       "    </tr>\n",
       "    <tr>\n",
       "      <th>4</th>\n",
       "      <td>1.499247</td>\n",
       "      <td>0.071633</td>\n",
       "      <td>1.427615</td>\n",
       "    </tr>\n",
       "    <tr>\n",
       "      <th>5</th>\n",
       "      <td>-0.856722</td>\n",
       "      <td>-0.044947</td>\n",
       "      <td>-0.811775</td>\n",
       "    </tr>\n",
       "    <tr>\n",
       "      <th>6</th>\n",
       "      <td>0.793738</td>\n",
       "      <td>-0.796826</td>\n",
       "      <td>1.590564</td>\n",
       "    </tr>\n",
       "    <tr>\n",
       "      <th>7</th>\n",
       "      <td>-0.222263</td>\n",
       "      <td>0.774164</td>\n",
       "      <td>-0.996427</td>\n",
       "    </tr>\n",
       "    <tr>\n",
       "      <th>8</th>\n",
       "      <td>-0.020249</td>\n",
       "      <td>-0.548496</td>\n",
       "      <td>0.528247</td>\n",
       "    </tr>\n",
       "    <tr>\n",
       "      <th>9</th>\n",
       "      <td>1.115690</td>\n",
       "      <td>0.053478</td>\n",
       "      <td>1.062212</td>\n",
       "    </tr>\n",
       "  </tbody>\n",
       "</table>\n",
       "</div>"
      ],
      "text/plain": [
       "         평균        분산        편차\n",
       "0  2.127161  1.725737  0.401424\n",
       "1  0.919797  0.462978  0.456819\n",
       "2  0.330995 -0.436098  0.767093\n",
       "3  0.951220 -0.175106  1.126325\n",
       "4  1.499247  0.071633  1.427615\n",
       "5 -0.856722 -0.044947 -0.811775\n",
       "6  0.793738 -0.796826  1.590564\n",
       "7 -0.222263  0.774164 -0.996427\n",
       "8 -0.020249 -0.548496  0.528247\n",
       "9  1.115690  0.053478  1.062212"
      ]
     },
     "execution_count": 25,
     "metadata": {},
     "output_type": "execute_result"
    }
   ],
   "source": [
    "dfa1"
   ]
  },
  {
   "cell_type": "code",
   "execution_count": null,
   "metadata": {},
   "outputs": [],
   "source": []
  },
  {
   "cell_type": "code",
   "execution_count": 26,
   "metadata": {},
   "outputs": [],
   "source": [
    "dfa2 = pd. DataFrame(np.random.randn(10, 2), columns=range(0,2))"
   ]
  },
  {
   "cell_type": "code",
   "execution_count": 27,
   "metadata": {},
   "outputs": [
    {
     "data": {
      "text/html": [
       "<div>\n",
       "<style scoped>\n",
       "    .dataframe tbody tr th:only-of-type {\n",
       "        vertical-align: middle;\n",
       "    }\n",
       "\n",
       "    .dataframe tbody tr th {\n",
       "        vertical-align: top;\n",
       "    }\n",
       "\n",
       "    .dataframe thead th {\n",
       "        text-align: right;\n",
       "    }\n",
       "</style>\n",
       "<table border=\"1\" class=\"dataframe\">\n",
       "  <thead>\n",
       "    <tr style=\"text-align: right;\">\n",
       "      <th></th>\n",
       "      <th>0</th>\n",
       "      <th>1</th>\n",
       "    </tr>\n",
       "  </thead>\n",
       "  <tbody>\n",
       "    <tr>\n",
       "      <th>0</th>\n",
       "      <td>-0.677338</td>\n",
       "      <td>0.013977</td>\n",
       "    </tr>\n",
       "    <tr>\n",
       "      <th>1</th>\n",
       "      <td>-0.528464</td>\n",
       "      <td>1.731028</td>\n",
       "    </tr>\n",
       "    <tr>\n",
       "      <th>2</th>\n",
       "      <td>-0.645646</td>\n",
       "      <td>0.992643</td>\n",
       "    </tr>\n",
       "    <tr>\n",
       "      <th>3</th>\n",
       "      <td>-0.747729</td>\n",
       "      <td>-0.051618</td>\n",
       "    </tr>\n",
       "    <tr>\n",
       "      <th>4</th>\n",
       "      <td>-0.280198</td>\n",
       "      <td>-0.603017</td>\n",
       "    </tr>\n",
       "    <tr>\n",
       "      <th>5</th>\n",
       "      <td>0.810376</td>\n",
       "      <td>1.138192</td>\n",
       "    </tr>\n",
       "    <tr>\n",
       "      <th>6</th>\n",
       "      <td>0.845177</td>\n",
       "      <td>0.983522</td>\n",
       "    </tr>\n",
       "    <tr>\n",
       "      <th>7</th>\n",
       "      <td>0.171737</td>\n",
       "      <td>0.398911</td>\n",
       "    </tr>\n",
       "    <tr>\n",
       "      <th>8</th>\n",
       "      <td>0.982550</td>\n",
       "      <td>-1.131646</td>\n",
       "    </tr>\n",
       "    <tr>\n",
       "      <th>9</th>\n",
       "      <td>-0.490990</td>\n",
       "      <td>-0.504788</td>\n",
       "    </tr>\n",
       "  </tbody>\n",
       "</table>\n",
       "</div>"
      ],
      "text/plain": [
       "          0         1\n",
       "0 -0.677338  0.013977\n",
       "1 -0.528464  1.731028\n",
       "2 -0.645646  0.992643\n",
       "3 -0.747729 -0.051618\n",
       "4 -0.280198 -0.603017\n",
       "5  0.810376  1.138192\n",
       "6  0.845177  0.983522\n",
       "7  0.171737  0.398911\n",
       "8  0.982550 -1.131646\n",
       "9 -0.490990 -0.504788"
      ]
     },
     "execution_count": 27,
     "metadata": {},
     "output_type": "execute_result"
    }
   ],
   "source": [
    "dfa2"
   ]
  },
  {
   "cell_type": "code",
   "execution_count": 28,
   "metadata": {},
   "outputs": [
    {
     "data": {
      "text/plain": [
       "1"
      ]
     },
     "execution_count": 28,
     "metadata": {},
     "output_type": "execute_result"
    }
   ],
   "source": [
    "# 열이름을 사용하여 연산을 할 수 있을까?\n",
    "dfa2.eval( '0 +1 ')\n",
    "# 열이름이 아니라 숫자로 인식하는 듯"
   ]
  },
  {
   "cell_type": "code",
   "execution_count": 29,
   "metadata": {},
   "outputs": [
    {
     "name": "stdout",
     "output_type": "stream",
     "text": [
      "exception  invalid syntax (<unknown>, line 1)\n"
     ]
    }
   ],
   "source": [
    "# .을 통해 열 접근은?\n",
    "try :\n",
    "    pd.eval('dfa2.0 + dfa2.1')\n",
    "except Exception as e  :\n",
    "    print(\"exception \", e)"
   ]
  },
  {
   "cell_type": "code",
   "execution_count": null,
   "metadata": {},
   "outputs": [],
   "source": []
  },
  {
   "cell_type": "code",
   "execution_count": 30,
   "metadata": {},
   "outputs": [],
   "source": [
    "# 올바른 사용예\n",
    "try :\n",
    "    df_add = pd.eval('dfa2[0] + dfa2[1]')\n",
    "except Exception as e  :\n",
    "    print(\"exception \", e)"
   ]
  },
  {
   "cell_type": "code",
   "execution_count": 31,
   "metadata": {},
   "outputs": [
    {
     "data": {
      "text/plain": [
       "0   -0.663362\n",
       "1    1.202563\n",
       "2    0.346997\n",
       "3   -0.799347\n",
       "4   -0.883215\n",
       "5    1.948568\n",
       "6    1.828699\n",
       "7    0.570647\n",
       "8   -0.149097\n",
       "9   -0.995778\n",
       "dtype: float64"
      ]
     },
     "execution_count": 31,
     "metadata": {},
     "output_type": "execute_result"
    }
   ],
   "source": [
    "df_add"
   ]
  },
  {
   "cell_type": "code",
   "execution_count": null,
   "metadata": {},
   "outputs": [],
   "source": []
  },
  {
   "cell_type": "code",
   "execution_count": 32,
   "metadata": {},
   "outputs": [],
   "source": [
    "df1, df2, df3, df4, df5 = (pd.DataFrame(rng.randint(0, 1000, (100, 3)))\n",
    "                           for i in range(5))"
   ]
  },
  {
   "cell_type": "code",
   "execution_count": 33,
   "metadata": {},
   "outputs": [],
   "source": [
    "result1 = -df1 * df2 / (df3 + df4) - df5"
   ]
  },
  {
   "cell_type": "code",
   "execution_count": 34,
   "metadata": {},
   "outputs": [],
   "source": [
    "result2 = pd.eval('-df1 * df2 / (df3 + df4) - df5')"
   ]
  },
  {
   "cell_type": "code",
   "execution_count": 35,
   "metadata": {},
   "outputs": [
    {
     "data": {
      "text/plain": [
       "True"
      ]
     },
     "execution_count": 35,
     "metadata": {},
     "output_type": "execute_result"
    }
   ],
   "source": [
    "np.allclose(result1, result2)"
   ]
  },
  {
   "cell_type": "code",
   "execution_count": null,
   "metadata": {},
   "outputs": [],
   "source": []
  },
  {
   "cell_type": "code",
   "execution_count": 36,
   "metadata": {},
   "outputs": [],
   "source": [
    "result1 = (df1 < 0.5) & (df2 < 0.5) | (df3 < df4)"
   ]
  },
  {
   "cell_type": "code",
   "execution_count": 37,
   "metadata": {},
   "outputs": [],
   "source": [
    "result2 = pd.eval('(df1 < 0.5) & (df2 < 0.5) | (df3 < df4)')"
   ]
  },
  {
   "cell_type": "code",
   "execution_count": 38,
   "metadata": {},
   "outputs": [
    {
     "data": {
      "text/plain": [
       "True"
      ]
     },
     "execution_count": 38,
     "metadata": {},
     "output_type": "execute_result"
    }
   ],
   "source": [
    "np.allclose(result1, result2)"
   ]
  },
  {
   "cell_type": "code",
   "execution_count": null,
   "metadata": {},
   "outputs": [],
   "source": []
  },
  {
   "cell_type": "code",
   "execution_count": 39,
   "metadata": {},
   "outputs": [],
   "source": [
    "result3 = pd.eval('(df1 < 0.5) and (df2 < 0.5) or (df3 < df4)')"
   ]
  },
  {
   "cell_type": "code",
   "execution_count": 40,
   "metadata": {},
   "outputs": [
    {
     "data": {
      "text/plain": [
       "True"
      ]
     },
     "execution_count": 40,
     "metadata": {},
     "output_type": "execute_result"
    }
   ],
   "source": [
    "np.allclose(result1, result3)"
   ]
  },
  {
   "cell_type": "code",
   "execution_count": null,
   "metadata": {},
   "outputs": [],
   "source": []
  },
  {
   "cell_type": "code",
   "execution_count": 41,
   "metadata": {},
   "outputs": [],
   "source": [
    "df = pd. DataFrame(np.random.randn(10, 2), columns=list('AB'))"
   ]
  },
  {
   "cell_type": "code",
   "execution_count": 42,
   "metadata": {},
   "outputs": [
    {
     "data": {
      "text/html": [
       "<div>\n",
       "<style scoped>\n",
       "    .dataframe tbody tr th:only-of-type {\n",
       "        vertical-align: middle;\n",
       "    }\n",
       "\n",
       "    .dataframe tbody tr th {\n",
       "        vertical-align: top;\n",
       "    }\n",
       "\n",
       "    .dataframe thead th {\n",
       "        text-align: right;\n",
       "    }\n",
       "</style>\n",
       "<table border=\"1\" class=\"dataframe\">\n",
       "  <thead>\n",
       "    <tr style=\"text-align: right;\">\n",
       "      <th></th>\n",
       "      <th>A</th>\n",
       "      <th>B</th>\n",
       "    </tr>\n",
       "  </thead>\n",
       "  <tbody>\n",
       "    <tr>\n",
       "      <th>0</th>\n",
       "      <td>2.155530</td>\n",
       "      <td>-0.199492</td>\n",
       "    </tr>\n",
       "    <tr>\n",
       "      <th>1</th>\n",
       "      <td>-1.224215</td>\n",
       "      <td>0.334196</td>\n",
       "    </tr>\n",
       "    <tr>\n",
       "      <th>2</th>\n",
       "      <td>-0.377404</td>\n",
       "      <td>2.204358</td>\n",
       "    </tr>\n",
       "    <tr>\n",
       "      <th>3</th>\n",
       "      <td>-0.674241</td>\n",
       "      <td>0.484246</td>\n",
       "    </tr>\n",
       "    <tr>\n",
       "      <th>4</th>\n",
       "      <td>-1.191949</td>\n",
       "      <td>-0.079402</td>\n",
       "    </tr>\n",
       "    <tr>\n",
       "      <th>5</th>\n",
       "      <td>-1.404599</td>\n",
       "      <td>-0.773367</td>\n",
       "    </tr>\n",
       "    <tr>\n",
       "      <th>6</th>\n",
       "      <td>-2.150820</td>\n",
       "      <td>-1.518945</td>\n",
       "    </tr>\n",
       "    <tr>\n",
       "      <th>7</th>\n",
       "      <td>-1.251807</td>\n",
       "      <td>-1.293833</td>\n",
       "    </tr>\n",
       "    <tr>\n",
       "      <th>8</th>\n",
       "      <td>0.285222</td>\n",
       "      <td>-0.003301</td>\n",
       "    </tr>\n",
       "    <tr>\n",
       "      <th>9</th>\n",
       "      <td>-0.210425</td>\n",
       "      <td>0.617361</td>\n",
       "    </tr>\n",
       "  </tbody>\n",
       "</table>\n",
       "</div>"
      ],
      "text/plain": [
       "          A         B\n",
       "0  2.155530 -0.199492\n",
       "1 -1.224215  0.334196\n",
       "2 -0.377404  2.204358\n",
       "3 -0.674241  0.484246\n",
       "4 -1.191949 -0.079402\n",
       "5 -1.404599 -0.773367\n",
       "6 -2.150820 -1.518945\n",
       "7 -1.251807 -1.293833\n",
       "8  0.285222 -0.003301\n",
       "9 -0.210425  0.617361"
      ]
     },
     "execution_count": 42,
     "metadata": {},
     "output_type": "execute_result"
    }
   ],
   "source": [
    "df"
   ]
  },
  {
   "cell_type": "code",
   "execution_count": 43,
   "metadata": {},
   "outputs": [],
   "source": [
    "column_mean = df.mean(axis=1)"
   ]
  },
  {
   "cell_type": "code",
   "execution_count": 44,
   "metadata": {},
   "outputs": [
    {
     "data": {
      "text/plain": [
       "0    0.978019\n",
       "1   -0.445009\n",
       "2    0.913477\n",
       "3   -0.094997\n",
       "4   -0.635676\n",
       "dtype: float64"
      ]
     },
     "execution_count": 44,
     "metadata": {},
     "output_type": "execute_result"
    }
   ],
   "source": [
    "column_mean.head()"
   ]
  },
  {
   "cell_type": "code",
   "execution_count": null,
   "metadata": {},
   "outputs": [],
   "source": []
  },
  {
   "cell_type": "code",
   "execution_count": 45,
   "metadata": {},
   "outputs": [],
   "source": [
    "result1 = df['A'] + column_mean"
   ]
  },
  {
   "cell_type": "code",
   "execution_count": 46,
   "metadata": {},
   "outputs": [],
   "source": [
    "result2 = df.eval('A + @column_mean')"
   ]
  },
  {
   "cell_type": "code",
   "execution_count": 47,
   "metadata": {},
   "outputs": [
    {
     "data": {
      "text/plain": [
       "True"
      ]
     },
     "execution_count": 47,
     "metadata": {},
     "output_type": "execute_result"
    }
   ],
   "source": [
    "np.allclose(result1, result2)"
   ]
  },
  {
   "cell_type": "markdown",
   "metadata": {},
   "source": [
    "### eval 함수 장점\n",
    "* 대규모 복잡한 데이터프레임워크 간의 연산에서 좋은 성능을 낼 수 있다.\n",
    "* 연산시 변수 처리를 할 수 있어 대화형 검색을 할 수 있다."
   ]
  },
  {
   "cell_type": "markdown",
   "metadata": {},
   "source": [
    "### eval 함수 단점\n",
    "* 간단한 연산 수행시 성능상의 차이가 없다. 또는 나쁠 수 있다.\n",
    "* 특정 연산에 제약이 있을 수 있다."
   ]
  },
  {
   "cell_type": "code",
   "execution_count": null,
   "metadata": {},
   "outputs": [],
   "source": []
  },
  {
   "cell_type": "code",
   "execution_count": null,
   "metadata": {},
   "outputs": [],
   "source": []
  }
 ],
 "metadata": {
  "kernelspec": {
   "display_name": "Python 3 (ipykernel)",
   "language": "python",
   "name": "python3"
  },
  "language_info": {
   "codemirror_mode": {
    "name": "ipython",
    "version": 3
   },
   "file_extension": ".py",
   "mimetype": "text/x-python",
   "name": "python",
   "nbconvert_exporter": "python",
   "pygments_lexer": "ipython3",
   "version": "3.9.13"
  }
 },
 "nbformat": 4,
 "nbformat_minor": 2
}
