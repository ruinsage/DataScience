{
 "cells": [
  {
   "cell_type": "code",
   "execution_count": 1,
   "id": "699d64ba",
   "metadata": {},
   "outputs": [],
   "source": [
    "import pandas as pd\n",
    "import numpy as np\n",
    "import datetime\n",
    "import time"
   ]
  },
  {
   "cell_type": "code",
   "execution_count": 2,
   "id": "7375ab32",
   "metadata": {
    "scrolled": true
   },
   "outputs": [
    {
     "data": {
      "text/html": [
       "<div>\n",
       "<style scoped>\n",
       "    .dataframe tbody tr th:only-of-type {\n",
       "        vertical-align: middle;\n",
       "    }\n",
       "\n",
       "    .dataframe tbody tr th {\n",
       "        vertical-align: top;\n",
       "    }\n",
       "\n",
       "    .dataframe thead th {\n",
       "        text-align: right;\n",
       "    }\n",
       "</style>\n",
       "<table border=\"1\" class=\"dataframe\">\n",
       "  <thead>\n",
       "    <tr style=\"text-align: right;\">\n",
       "      <th></th>\n",
       "      <th>0</th>\n",
       "    </tr>\n",
       "  </thead>\n",
       "  <tbody>\n",
       "    <tr>\n",
       "      <th>0</th>\n",
       "      <td>1</td>\n",
       "    </tr>\n",
       "    <tr>\n",
       "      <th>1</th>\n",
       "      <td>2</td>\n",
       "    </tr>\n",
       "    <tr>\n",
       "      <th>2</th>\n",
       "      <td>3</td>\n",
       "    </tr>\n",
       "  </tbody>\n",
       "</table>\n",
       "</div>"
      ],
      "text/plain": [
       "   0\n",
       "0  1\n",
       "1  2\n",
       "2  3"
      ]
     },
     "execution_count": 2,
     "metadata": {},
     "output_type": "execute_result"
    }
   ],
   "source": [
    "pd.DataFrame([1,2,3])"
   ]
  },
  {
   "cell_type": "code",
   "execution_count": 3,
   "id": "e9ee3830",
   "metadata": {
    "scrolled": false
   },
   "outputs": [
    {
     "data": {
      "text/plain": [
       "datetime.date(2022, 8, 28)"
      ]
     },
     "execution_count": 3,
     "metadata": {},
     "output_type": "execute_result"
    }
   ],
   "source": [
    "date1 = datetime.date(2022,8,28)\n",
    "date1"
   ]
  },
  {
   "cell_type": "code",
   "execution_count": 4,
   "id": "175d6550",
   "metadata": {},
   "outputs": [
    {
     "data": {
      "text/plain": [
       "datetime.date(2023, 2, 28)"
      ]
     },
     "execution_count": 4,
     "metadata": {},
     "output_type": "execute_result"
    }
   ],
   "source": [
    "date2 = datetime.date(2023,2,28)\n",
    "date2"
   ]
  },
  {
   "cell_type": "code",
   "execution_count": 148,
   "id": "21265fcf",
   "metadata": {},
   "outputs": [
    {
     "data": {
      "text/plain": [
       "[2023, 2, 28]"
      ]
     },
     "execution_count": 148,
     "metadata": {},
     "output_type": "execute_result"
    }
   ],
   "source": [
    "date_info =[]\n",
    "date_info.append(date2.year)\n",
    "date_info.append(date2.month)\n",
    "date_info.append(date2.day)\n",
    "date_info"
   ]
  },
  {
   "cell_type": "code",
   "execution_count": 11,
   "id": "45697044",
   "metadata": {},
   "outputs": [
    {
     "data": {
      "text/html": [
       "<div>\n",
       "<style scoped>\n",
       "    .dataframe tbody tr th:only-of-type {\n",
       "        vertical-align: middle;\n",
       "    }\n",
       "\n",
       "    .dataframe tbody tr th {\n",
       "        vertical-align: top;\n",
       "    }\n",
       "\n",
       "    .dataframe thead th {\n",
       "        text-align: right;\n",
       "    }\n",
       "</style>\n",
       "<table border=\"1\" class=\"dataframe\">\n",
       "  <thead>\n",
       "    <tr style=\"text-align: right;\">\n",
       "      <th></th>\n",
       "      <th>더조은 6기</th>\n",
       "    </tr>\n",
       "  </thead>\n",
       "  <tbody>\n",
       "    <tr>\n",
       "      <th>개강일</th>\n",
       "      <td>2022-08-28</td>\n",
       "    </tr>\n",
       "    <tr>\n",
       "      <th>종강일</th>\n",
       "      <td>2023-02-28</td>\n",
       "    </tr>\n",
       "  </tbody>\n",
       "</table>\n",
       "</div>"
      ],
      "text/plain": [
       "         더조은 6기\n",
       "개강일  2022-08-28\n",
       "종강일  2023-02-28"
      ]
     },
     "execution_count": 11,
     "metadata": {},
     "output_type": "execute_result"
    }
   ],
   "source": [
    "df = pd.DataFrame([date1,date2], index = ['개강일','종강일'] , columns = ['더조은 6기'])\n",
    "df"
   ]
  },
  {
   "cell_type": "markdown",
   "id": "5ad5112e",
   "metadata": {},
   "source": [
    "#### 문제: 위 데이터프레임은 더조은학원 6기반의 개강일과 종강일이다.\n",
    "#### 이 반의 총 강의 일자를 구하고 현재시간의 일자를 통해 지금까지 강의 받은 날짜와 앞으로 강의 받을 날짜를 구해보자. "
   ]
  },
  {
   "cell_type": "raw",
   "id": "66e98788",
   "metadata": {},
   "source": [
    "답1"
   ]
  },
  {
   "cell_type": "code",
   "execution_count": 21,
   "id": "2c7dceb9",
   "metadata": {},
   "outputs": [
    {
     "name": "stdout",
     "output_type": "stream",
     "text": [
      "총 강의 일자: 184일\n"
     ]
    }
   ],
   "source": [
    "total_day = df.iloc[1][0] - df.iloc[0][0]\n",
    "print(f'총 강의 일자: {total_day.days}일')"
   ]
  },
  {
   "cell_type": "code",
   "execution_count": 22,
   "id": "26830390",
   "metadata": {},
   "outputs": [
    {
     "data": {
      "text/html": [
       "<div>\n",
       "<style scoped>\n",
       "    .dataframe tbody tr th:only-of-type {\n",
       "        vertical-align: middle;\n",
       "    }\n",
       "\n",
       "    .dataframe tbody tr th {\n",
       "        vertical-align: top;\n",
       "    }\n",
       "\n",
       "    .dataframe thead th {\n",
       "        text-align: right;\n",
       "    }\n",
       "</style>\n",
       "<table border=\"1\" class=\"dataframe\">\n",
       "  <thead>\n",
       "    <tr style=\"text-align: right;\">\n",
       "      <th></th>\n",
       "      <th>더조은 6기</th>\n",
       "    </tr>\n",
       "  </thead>\n",
       "  <tbody>\n",
       "    <tr>\n",
       "      <th>개강일</th>\n",
       "      <td>2022-08-28</td>\n",
       "    </tr>\n",
       "    <tr>\n",
       "      <th>종강일</th>\n",
       "      <td>2023-02-28</td>\n",
       "    </tr>\n",
       "  </tbody>\n",
       "</table>\n",
       "</div>"
      ],
      "text/plain": [
       "         더조은 6기\n",
       "개강일  2022-08-28\n",
       "종강일  2023-02-28"
      ]
     },
     "execution_count": 22,
     "metadata": {},
     "output_type": "execute_result"
    }
   ],
   "source": [
    "df"
   ]
  },
  {
   "cell_type": "code",
   "execution_count": 23,
   "id": "1bcd99c9",
   "metadata": {},
   "outputs": [
    {
     "data": {
      "text/plain": [
       "'2022,12,09'"
      ]
     },
     "execution_count": 23,
     "metadata": {},
     "output_type": "execute_result"
    }
   ],
   "source": [
    "'2022,12,09'"
   ]
  },
  {
   "cell_type": "raw",
   "id": "3a389911",
   "metadata": {},
   "source": [
    "답 2-1"
   ]
  },
  {
   "cell_type": "code",
   "execution_count": 24,
   "id": "f27b484f",
   "metadata": {
    "scrolled": true
   },
   "outputs": [
    {
     "data": {
      "text/plain": [
       "2022"
      ]
     },
     "execution_count": 24,
     "metadata": {},
     "output_type": "execute_result"
    }
   ],
   "source": [
    "year1 = int(time.strftime('%Y',time.localtime(time.time())))\n",
    "year1"
   ]
  },
  {
   "cell_type": "code",
   "execution_count": 25,
   "id": "23d2c2c3",
   "metadata": {},
   "outputs": [
    {
     "data": {
      "text/plain": [
       "12"
      ]
     },
     "execution_count": 25,
     "metadata": {},
     "output_type": "execute_result"
    }
   ],
   "source": [
    "month1 = int(time.strftime('%m',time.localtime(time.time())))\n",
    "month1"
   ]
  },
  {
   "cell_type": "code",
   "execution_count": 30,
   "id": "4ab96e99",
   "metadata": {},
   "outputs": [
    {
     "data": {
      "text/plain": [
       "9"
      ]
     },
     "execution_count": 30,
     "metadata": {},
     "output_type": "execute_result"
    }
   ],
   "source": [
    "day1 = int(time.strftime('%d',time.localtime(time.time())))\n",
    "day1"
   ]
  },
  {
   "cell_type": "code",
   "execution_count": 31,
   "id": "6af91e37",
   "metadata": {},
   "outputs": [
    {
     "data": {
      "text/plain": [
       "datetime.date(2022, 12, 9)"
      ]
     },
     "execution_count": 31,
     "metadata": {},
     "output_type": "execute_result"
    }
   ],
   "source": [
    "current_day = datetime.date(year1,month1,day1)\n",
    "current_day"
   ]
  },
  {
   "cell_type": "code",
   "execution_count": 32,
   "id": "d1e9bff4",
   "metadata": {},
   "outputs": [
    {
     "name": "stdout",
     "output_type": "stream",
     "text": [
      "지금까지 강의 받은 날짜: 103일\n"
     ]
    }
   ],
   "source": [
    "before_day = current_day - df.iloc[0][0]\n",
    "print(f'지금까지 강의 받은 날짜: {before_day.days}일')"
   ]
  },
  {
   "cell_type": "code",
   "execution_count": 36,
   "id": "9ccd8ae1",
   "metadata": {},
   "outputs": [
    {
     "name": "stdout",
     "output_type": "stream",
     "text": [
      "앞으로 강의 받을 날짜: 81일\n"
     ]
    }
   ],
   "source": [
    "next_day = df.iloc[1][0] - current_day\n",
    "print(f'앞으로 강의 받을 날짜: {next_day.days}일')"
   ]
  },
  {
   "cell_type": "code",
   "execution_count": null,
   "id": "e46e28ed",
   "metadata": {},
   "outputs": [],
   "source": []
  },
  {
   "cell_type": "raw",
   "id": "ffbb934b",
   "metadata": {},
   "source": [
    "답 2-2"
   ]
  },
  {
   "cell_type": "code",
   "execution_count": 37,
   "id": "70a6f947",
   "metadata": {},
   "outputs": [
    {
     "data": {
      "text/plain": [
       "time.struct_time(tm_year=2022, tm_mon=12, tm_mday=9, tm_hour=18, tm_min=23, tm_sec=11, tm_wday=4, tm_yday=343, tm_isdst=0)"
      ]
     },
     "execution_count": 37,
     "metadata": {},
     "output_type": "execute_result"
    }
   ],
   "source": [
    "time.localtime(time.time())"
   ]
  },
  {
   "cell_type": "code",
   "execution_count": 38,
   "id": "f7511ae6",
   "metadata": {},
   "outputs": [
    {
     "data": {
      "text/plain": [
       "2022"
      ]
     },
     "execution_count": 38,
     "metadata": {},
     "output_type": "execute_result"
    }
   ],
   "source": [
    "year2 = time.localtime(time.time()).tm_year\n",
    "year2"
   ]
  },
  {
   "cell_type": "code",
   "execution_count": 39,
   "id": "c50ad164",
   "metadata": {},
   "outputs": [
    {
     "data": {
      "text/plain": [
       "12"
      ]
     },
     "execution_count": 39,
     "metadata": {},
     "output_type": "execute_result"
    }
   ],
   "source": [
    "month2 = time.localtime(time.time()).tm_mon\n",
    "month2"
   ]
  },
  {
   "cell_type": "code",
   "execution_count": 40,
   "id": "10e8666f",
   "metadata": {},
   "outputs": [
    {
     "data": {
      "text/plain": [
       "9"
      ]
     },
     "execution_count": 40,
     "metadata": {},
     "output_type": "execute_result"
    }
   ],
   "source": [
    "day2 = time.localtime(time.time()).tm_mday\n",
    "day2"
   ]
  },
  {
   "cell_type": "code",
   "execution_count": 41,
   "id": "836a3cc3",
   "metadata": {},
   "outputs": [
    {
     "data": {
      "text/plain": [
       "datetime.date(2022, 12, 9)"
      ]
     },
     "execution_count": 41,
     "metadata": {},
     "output_type": "execute_result"
    }
   ],
   "source": [
    "current_day2 = datetime.date(year2,month2,day2)\n",
    "current_day2"
   ]
  },
  {
   "cell_type": "code",
   "execution_count": 42,
   "id": "53eb62f7",
   "metadata": {},
   "outputs": [
    {
     "name": "stdout",
     "output_type": "stream",
     "text": [
      "지금까지 강의 받은 날짜: 103일\n"
     ]
    }
   ],
   "source": [
    "before_day = current_day2 - df.iloc[0][0]\n",
    "print(f'지금까지 강의 받은 날짜: {before_day.days}일')"
   ]
  },
  {
   "cell_type": "code",
   "execution_count": 44,
   "id": "ab17a039",
   "metadata": {},
   "outputs": [
    {
     "name": "stdout",
     "output_type": "stream",
     "text": [
      "앞으로 강의 받을 날짜: 81일\n"
     ]
    }
   ],
   "source": [
    "next_day = df.iloc[1][0] - current_day2\n",
    "print(f'앞으로 강의 받을 날짜: {next_day.days}일')"
   ]
  },
  {
   "cell_type": "code",
   "execution_count": null,
   "id": "32eb52d8",
   "metadata": {},
   "outputs": [],
   "source": []
  }
 ],
 "metadata": {
  "kernelspec": {
   "display_name": "Python 3 (ipykernel)",
   "language": "python",
   "name": "python3"
  },
  "language_info": {
   "codemirror_mode": {
    "name": "ipython",
    "version": 3
   },
   "file_extension": ".py",
   "mimetype": "text/x-python",
   "name": "python",
   "nbconvert_exporter": "python",
   "pygments_lexer": "ipython3",
   "version": "3.9.13"
  }
 },
 "nbformat": 4,
 "nbformat_minor": 5
}
