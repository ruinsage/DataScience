{
 "cells": [
  {
   "cell_type": "code",
   "execution_count": 36,
   "id": "e81df2d4",
   "metadata": {},
   "outputs": [],
   "source": [
    "import pandas as pd"
   ]
  },
  {
   "cell_type": "code",
   "execution_count": 37,
   "id": "6df3254f",
   "metadata": {},
   "outputs": [],
   "source": [
    "input_file = 'supplier_data.csv'\n",
    "output_file = 'output/3output_basic.csv'"
   ]
  },
  {
   "cell_type": "code",
   "execution_count": 38,
   "id": "26f2be50",
   "metadata": {},
   "outputs": [
    {
     "data": {
      "text/html": [
       "<div>\n",
       "<style scoped>\n",
       "    .dataframe tbody tr th:only-of-type {\n",
       "        vertical-align: middle;\n",
       "    }\n",
       "\n",
       "    .dataframe tbody tr th {\n",
       "        vertical-align: top;\n",
       "    }\n",
       "\n",
       "    .dataframe thead th {\n",
       "        text-align: right;\n",
       "    }\n",
       "</style>\n",
       "<table border=\"1\" class=\"dataframe\">\n",
       "  <thead>\n",
       "    <tr style=\"text-align: right;\">\n",
       "      <th></th>\n",
       "      <th>Supplier Name</th>\n",
       "      <th>Invoice Number</th>\n",
       "      <th>Part Number</th>\n",
       "      <th>Cost</th>\n",
       "      <th>Purchase Date</th>\n",
       "    </tr>\n",
       "  </thead>\n",
       "  <tbody>\n",
       "    <tr>\n",
       "      <th>0</th>\n",
       "      <td>Supplier X</td>\n",
       "      <td>001-1001</td>\n",
       "      <td>2341</td>\n",
       "      <td>$500.00</td>\n",
       "      <td>1/20/14</td>\n",
       "    </tr>\n",
       "    <tr>\n",
       "      <th>1</th>\n",
       "      <td>Supplier X</td>\n",
       "      <td>001-1001</td>\n",
       "      <td>2341</td>\n",
       "      <td>$500.00</td>\n",
       "      <td>1/20/14</td>\n",
       "    </tr>\n",
       "    <tr>\n",
       "      <th>2</th>\n",
       "      <td>Supplier X</td>\n",
       "      <td>001-1001</td>\n",
       "      <td>5467</td>\n",
       "      <td>$750.00</td>\n",
       "      <td>1/20/14</td>\n",
       "    </tr>\n",
       "    <tr>\n",
       "      <th>3</th>\n",
       "      <td>Supplier X</td>\n",
       "      <td>001-1001</td>\n",
       "      <td>5467</td>\n",
       "      <td>$750.00</td>\n",
       "      <td>1/20/14</td>\n",
       "    </tr>\n",
       "    <tr>\n",
       "      <th>4</th>\n",
       "      <td>Supplier Y</td>\n",
       "      <td>50-9501</td>\n",
       "      <td>7009</td>\n",
       "      <td>$250.00</td>\n",
       "      <td>1/30/14</td>\n",
       "    </tr>\n",
       "    <tr>\n",
       "      <th>5</th>\n",
       "      <td>Supplier Y</td>\n",
       "      <td>50-9501</td>\n",
       "      <td>7009</td>\n",
       "      <td>$250.00</td>\n",
       "      <td>1/30/14</td>\n",
       "    </tr>\n",
       "    <tr>\n",
       "      <th>6</th>\n",
       "      <td>Supplier Y</td>\n",
       "      <td>50-9505</td>\n",
       "      <td>6650</td>\n",
       "      <td>$125.00</td>\n",
       "      <td>2/3/14</td>\n",
       "    </tr>\n",
       "    <tr>\n",
       "      <th>7</th>\n",
       "      <td>Supplier Y</td>\n",
       "      <td>50-9505</td>\n",
       "      <td>6650</td>\n",
       "      <td>$125.00</td>\n",
       "      <td>2/3/14</td>\n",
       "    </tr>\n",
       "    <tr>\n",
       "      <th>8</th>\n",
       "      <td>Supplier Z</td>\n",
       "      <td>920-4803</td>\n",
       "      <td>3321</td>\n",
       "      <td>$610.00</td>\n",
       "      <td>2/3/14</td>\n",
       "    </tr>\n",
       "    <tr>\n",
       "      <th>9</th>\n",
       "      <td>Supplier Z</td>\n",
       "      <td>920-4804</td>\n",
       "      <td>3321</td>\n",
       "      <td>$615.00</td>\n",
       "      <td>2/10/14</td>\n",
       "    </tr>\n",
       "    <tr>\n",
       "      <th>10</th>\n",
       "      <td>Supplier Z</td>\n",
       "      <td>920-4805</td>\n",
       "      <td>3321</td>\n",
       "      <td>$615.00</td>\n",
       "      <td>2/17/14</td>\n",
       "    </tr>\n",
       "    <tr>\n",
       "      <th>11</th>\n",
       "      <td>Supplier Z</td>\n",
       "      <td>920-4806</td>\n",
       "      <td>3321</td>\n",
       "      <td>$615.00</td>\n",
       "      <td>2/24/14</td>\n",
       "    </tr>\n",
       "  </tbody>\n",
       "</table>\n",
       "</div>"
      ],
      "text/plain": [
       "   Supplier Name Invoice Number  Part Number     Cost Purchase Date\n",
       "0     Supplier X       001-1001         2341  $500.00       1/20/14\n",
       "1     Supplier X       001-1001         2341  $500.00       1/20/14\n",
       "2     Supplier X       001-1001         5467  $750.00       1/20/14\n",
       "3     Supplier X       001-1001         5467  $750.00       1/20/14\n",
       "4     Supplier Y        50-9501         7009  $250.00       1/30/14\n",
       "5     Supplier Y        50-9501         7009  $250.00       1/30/14\n",
       "6     Supplier Y        50-9505         6650  $125.00        2/3/14\n",
       "7     Supplier Y        50-9505         6650  $125.00        2/3/14\n",
       "8     Supplier Z       920-4803         3321  $610.00        2/3/14\n",
       "9     Supplier Z       920-4804         3321  $615.00       2/10/14\n",
       "10    Supplier Z       920-4805         3321  $615.00       2/17/14\n",
       "11    Supplier Z       920-4806         3321  $615.00       2/24/14"
      ]
     },
     "execution_count": 38,
     "metadata": {},
     "output_type": "execute_result"
    }
   ],
   "source": [
    "df_supplier = pd.read_csv(input_file)\n",
    "df_supplier"
   ]
  },
  {
   "cell_type": "markdown",
   "id": "c930da87",
   "metadata": {},
   "source": [
    "# 문제 : Purchase Date가 1/20/14인 행을 검색하고 그중 마지막 두개행을 출력하라"
   ]
  },
  {
   "cell_type": "code",
   "execution_count": 39,
   "id": "d15d0aa3",
   "metadata": {
    "scrolled": true
   },
   "outputs": [
    {
     "data": {
      "text/html": [
       "<div>\n",
       "<style scoped>\n",
       "    .dataframe tbody tr th:only-of-type {\n",
       "        vertical-align: middle;\n",
       "    }\n",
       "\n",
       "    .dataframe tbody tr th {\n",
       "        vertical-align: top;\n",
       "    }\n",
       "\n",
       "    .dataframe thead th {\n",
       "        text-align: right;\n",
       "    }\n",
       "</style>\n",
       "<table border=\"1\" class=\"dataframe\">\n",
       "  <thead>\n",
       "    <tr style=\"text-align: right;\">\n",
       "      <th></th>\n",
       "      <th>Supplier Name</th>\n",
       "      <th>Invoice Number</th>\n",
       "      <th>Part Number</th>\n",
       "      <th>Cost</th>\n",
       "      <th>Purchase Date</th>\n",
       "    </tr>\n",
       "  </thead>\n",
       "  <tbody>\n",
       "    <tr>\n",
       "      <th>0</th>\n",
       "      <td>Supplier X</td>\n",
       "      <td>001-1001</td>\n",
       "      <td>2341</td>\n",
       "      <td>$500.00</td>\n",
       "      <td>1/20/14</td>\n",
       "    </tr>\n",
       "    <tr>\n",
       "      <th>1</th>\n",
       "      <td>Supplier X</td>\n",
       "      <td>001-1001</td>\n",
       "      <td>2341</td>\n",
       "      <td>$500.00</td>\n",
       "      <td>1/20/14</td>\n",
       "    </tr>\n",
       "    <tr>\n",
       "      <th>2</th>\n",
       "      <td>Supplier X</td>\n",
       "      <td>001-1001</td>\n",
       "      <td>5467</td>\n",
       "      <td>$750.00</td>\n",
       "      <td>1/20/14</td>\n",
       "    </tr>\n",
       "    <tr>\n",
       "      <th>3</th>\n",
       "      <td>Supplier X</td>\n",
       "      <td>001-1001</td>\n",
       "      <td>5467</td>\n",
       "      <td>$750.00</td>\n",
       "      <td>1/20/14</td>\n",
       "    </tr>\n",
       "  </tbody>\n",
       "</table>\n",
       "</div>"
      ],
      "text/plain": [
       "  Supplier Name Invoice Number  Part Number     Cost Purchase Date\n",
       "0    Supplier X       001-1001         2341  $500.00       1/20/14\n",
       "1    Supplier X       001-1001         2341  $500.00       1/20/14\n",
       "2    Supplier X       001-1001         5467  $750.00       1/20/14\n",
       "3    Supplier X       001-1001         5467  $750.00       1/20/14"
      ]
     },
     "execution_count": 39,
     "metadata": {},
     "output_type": "execute_result"
    }
   ],
   "source": [
    "result1 = df_supplier.loc[df_supplier['Purchase Date'] == '1/20/14', : ]\n",
    "result1"
   ]
  },
  {
   "cell_type": "code",
   "execution_count": 40,
   "id": "b290d64d",
   "metadata": {},
   "outputs": [
    {
     "data": {
      "text/plain": [
       "Int64Index([0, 1, 2, 3], dtype='int64')"
      ]
     },
     "execution_count": 40,
     "metadata": {},
     "output_type": "execute_result"
    }
   ],
   "source": [
    "result1.index"
   ]
  },
  {
   "cell_type": "code",
   "execution_count": 41,
   "id": "8675b199",
   "metadata": {},
   "outputs": [
    {
     "data": {
      "text/html": [
       "<div>\n",
       "<style scoped>\n",
       "    .dataframe tbody tr th:only-of-type {\n",
       "        vertical-align: middle;\n",
       "    }\n",
       "\n",
       "    .dataframe tbody tr th {\n",
       "        vertical-align: top;\n",
       "    }\n",
       "\n",
       "    .dataframe thead th {\n",
       "        text-align: right;\n",
       "    }\n",
       "</style>\n",
       "<table border=\"1\" class=\"dataframe\">\n",
       "  <thead>\n",
       "    <tr style=\"text-align: right;\">\n",
       "      <th></th>\n",
       "      <th>Supplier Name</th>\n",
       "      <th>Invoice Number</th>\n",
       "      <th>Part Number</th>\n",
       "      <th>Cost</th>\n",
       "      <th>Purchase Date</th>\n",
       "    </tr>\n",
       "  </thead>\n",
       "  <tbody>\n",
       "    <tr>\n",
       "      <th>2</th>\n",
       "      <td>Supplier X</td>\n",
       "      <td>001-1001</td>\n",
       "      <td>5467</td>\n",
       "      <td>$750.00</td>\n",
       "      <td>1/20/14</td>\n",
       "    </tr>\n",
       "    <tr>\n",
       "      <th>3</th>\n",
       "      <td>Supplier X</td>\n",
       "      <td>001-1001</td>\n",
       "      <td>5467</td>\n",
       "      <td>$750.00</td>\n",
       "      <td>1/20/14</td>\n",
       "    </tr>\n",
       "  </tbody>\n",
       "</table>\n",
       "</div>"
      ],
      "text/plain": [
       "  Supplier Name Invoice Number  Part Number     Cost Purchase Date\n",
       "2    Supplier X       001-1001         5467  $750.00       1/20/14\n",
       "3    Supplier X       001-1001         5467  $750.00       1/20/14"
      ]
     },
     "execution_count": 41,
     "metadata": {},
     "output_type": "execute_result"
    }
   ],
   "source": [
    "result2 = a[a.index > 1]\n",
    "result2"
   ]
  },
  {
   "cell_type": "code",
   "execution_count": null,
   "id": "2e05e10f",
   "metadata": {},
   "outputs": [],
   "source": []
  }
 ],
 "metadata": {
  "kernelspec": {
   "display_name": "Python 3 (ipykernel)",
   "language": "python",
   "name": "python3"
  },
  "language_info": {
   "codemirror_mode": {
    "name": "ipython",
    "version": 3
   },
   "file_extension": ".py",
   "mimetype": "text/x-python",
   "name": "python",
   "nbconvert_exporter": "python",
   "pygments_lexer": "ipython3",
   "version": "3.9.13"
  }
 },
 "nbformat": 4,
 "nbformat_minor": 5
}
