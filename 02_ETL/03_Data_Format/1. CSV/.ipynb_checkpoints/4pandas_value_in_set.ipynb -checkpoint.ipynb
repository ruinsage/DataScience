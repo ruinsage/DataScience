{
 "cells": [
  {
   "cell_type": "code",
   "execution_count": 1,
   "id": "7a1178a1",
   "metadata": {},
   "outputs": [],
   "source": [
    "import pandas as pd"
   ]
  },
  {
   "cell_type": "code",
   "execution_count": 2,
   "id": "b6a95d19",
   "metadata": {},
   "outputs": [],
   "source": [
    "input_file = 'supplier_data.csv'\n",
    "output_file = 'output_files/3output_basic.csv'"
   ]
  },
  {
   "cell_type": "code",
   "execution_count": 5,
   "id": "b36c7194",
   "metadata": {
    "scrolled": true
   },
   "outputs": [
    {
     "data": {
      "text/html": [
       "<div>\n",
       "<style scoped>\n",
       "    .dataframe tbody tr th:only-of-type {\n",
       "        vertical-align: middle;\n",
       "    }\n",
       "\n",
       "    .dataframe tbody tr th {\n",
       "        vertical-align: top;\n",
       "    }\n",
       "\n",
       "    .dataframe thead th {\n",
       "        text-align: right;\n",
       "    }\n",
       "</style>\n",
       "<table border=\"1\" class=\"dataframe\">\n",
       "  <thead>\n",
       "    <tr style=\"text-align: right;\">\n",
       "      <th></th>\n",
       "      <th>Supplier Name</th>\n",
       "      <th>Invoice Number</th>\n",
       "      <th>Part Number</th>\n",
       "      <th>Cost</th>\n",
       "      <th>Purchase Date</th>\n",
       "    </tr>\n",
       "  </thead>\n",
       "  <tbody>\n",
       "    <tr>\n",
       "      <th>0</th>\n",
       "      <td>Supplier X</td>\n",
       "      <td>001-1001</td>\n",
       "      <td>2341</td>\n",
       "      <td>$500.00</td>\n",
       "      <td>1/20/14</td>\n",
       "    </tr>\n",
       "    <tr>\n",
       "      <th>1</th>\n",
       "      <td>Supplier X</td>\n",
       "      <td>001-1001</td>\n",
       "      <td>2341</td>\n",
       "      <td>$500.00</td>\n",
       "      <td>1/20/14</td>\n",
       "    </tr>\n",
       "    <tr>\n",
       "      <th>2</th>\n",
       "      <td>Supplier X</td>\n",
       "      <td>001-1001</td>\n",
       "      <td>5467</td>\n",
       "      <td>$750.00</td>\n",
       "      <td>1/20/14</td>\n",
       "    </tr>\n",
       "    <tr>\n",
       "      <th>3</th>\n",
       "      <td>Supplier X</td>\n",
       "      <td>001-1001</td>\n",
       "      <td>5467</td>\n",
       "      <td>$750.00</td>\n",
       "      <td>1/20/14</td>\n",
       "    </tr>\n",
       "    <tr>\n",
       "      <th>4</th>\n",
       "      <td>Supplier Y</td>\n",
       "      <td>50-9501</td>\n",
       "      <td>7009</td>\n",
       "      <td>$250.00</td>\n",
       "      <td>1/30/14</td>\n",
       "    </tr>\n",
       "    <tr>\n",
       "      <th>5</th>\n",
       "      <td>Supplier Y</td>\n",
       "      <td>50-9501</td>\n",
       "      <td>7009</td>\n",
       "      <td>$250.00</td>\n",
       "      <td>1/30/14</td>\n",
       "    </tr>\n",
       "    <tr>\n",
       "      <th>6</th>\n",
       "      <td>Supplier Y</td>\n",
       "      <td>50-9505</td>\n",
       "      <td>6650</td>\n",
       "      <td>$125.00</td>\n",
       "      <td>2/3/14</td>\n",
       "    </tr>\n",
       "    <tr>\n",
       "      <th>7</th>\n",
       "      <td>Supplier Y</td>\n",
       "      <td>50-9505</td>\n",
       "      <td>6650</td>\n",
       "      <td>$125.00</td>\n",
       "      <td>2/3/14</td>\n",
       "    </tr>\n",
       "    <tr>\n",
       "      <th>8</th>\n",
       "      <td>Supplier Z</td>\n",
       "      <td>920-4803</td>\n",
       "      <td>3321</td>\n",
       "      <td>$610.00</td>\n",
       "      <td>2/3/14</td>\n",
       "    </tr>\n",
       "    <tr>\n",
       "      <th>9</th>\n",
       "      <td>Supplier Z</td>\n",
       "      <td>920-4804</td>\n",
       "      <td>3321</td>\n",
       "      <td>$615.00</td>\n",
       "      <td>2/10/14</td>\n",
       "    </tr>\n",
       "    <tr>\n",
       "      <th>10</th>\n",
       "      <td>Supplier Z</td>\n",
       "      <td>920-4805</td>\n",
       "      <td>3321</td>\n",
       "      <td>$615.00</td>\n",
       "      <td>2/17/14</td>\n",
       "    </tr>\n",
       "    <tr>\n",
       "      <th>11</th>\n",
       "      <td>Supplier Z</td>\n",
       "      <td>920-4806</td>\n",
       "      <td>3321</td>\n",
       "      <td>$615.00</td>\n",
       "      <td>2/24/14</td>\n",
       "    </tr>\n",
       "  </tbody>\n",
       "</table>\n",
       "</div>"
      ],
      "text/plain": [
       "   Supplier Name Invoice Number  Part Number     Cost Purchase Date\n",
       "0     Supplier X       001-1001         2341  $500.00       1/20/14\n",
       "1     Supplier X       001-1001         2341  $500.00       1/20/14\n",
       "2     Supplier X       001-1001         5467  $750.00       1/20/14\n",
       "3     Supplier X       001-1001         5467  $750.00       1/20/14\n",
       "4     Supplier Y        50-9501         7009  $250.00       1/30/14\n",
       "5     Supplier Y        50-9501         7009  $250.00       1/30/14\n",
       "6     Supplier Y        50-9505         6650  $125.00        2/3/14\n",
       "7     Supplier Y        50-9505         6650  $125.00        2/3/14\n",
       "8     Supplier Z       920-4803         3321  $610.00        2/3/14\n",
       "9     Supplier Z       920-4804         3321  $615.00       2/10/14\n",
       "10    Supplier Z       920-4805         3321  $615.00       2/17/14\n",
       "11    Supplier Z       920-4806         3321  $615.00       2/24/14"
      ]
     },
     "execution_count": 5,
     "metadata": {},
     "output_type": "execute_result"
    }
   ],
   "source": [
    "df_supplier = pd.read_csv(input_file)\n",
    "df_supplier"
   ]
  },
  {
   "cell_type": "code",
   "execution_count": 11,
   "id": "a4d04ac1",
   "metadata": {},
   "outputs": [
    {
     "data": {
      "text/plain": [
       "0      True\n",
       "1      True\n",
       "2      True\n",
       "3      True\n",
       "4     False\n",
       "5     False\n",
       "6     False\n",
       "7     False\n",
       "8     False\n",
       "9     False\n",
       "10    False\n",
       "11    False\n",
       "Name: Purchase Date, dtype: bool"
      ]
     },
     "execution_count": 11,
     "metadata": {},
     "output_type": "execute_result"
    }
   ],
   "source": [
    "df_supplier['Purchase Date'] == '1/20/14'"
   ]
  },
  {
   "cell_type": "code",
   "execution_count": 20,
   "id": "1f69857a",
   "metadata": {
    "scrolled": false
   },
   "outputs": [],
   "source": [
    "result = df_supplier.loc[(df_supplier['Purchase Date'] == '1/20/14') | \n",
    "                (df_supplier['Purchase Date'] == '1/30/14'), : ]"
   ]
  },
  {
   "cell_type": "code",
   "execution_count": 21,
   "id": "22564ca3",
   "metadata": {},
   "outputs": [
    {
     "data": {
      "text/html": [
       "<div>\n",
       "<style scoped>\n",
       "    .dataframe tbody tr th:only-of-type {\n",
       "        vertical-align: middle;\n",
       "    }\n",
       "\n",
       "    .dataframe tbody tr th {\n",
       "        vertical-align: top;\n",
       "    }\n",
       "\n",
       "    .dataframe thead th {\n",
       "        text-align: right;\n",
       "    }\n",
       "</style>\n",
       "<table border=\"1\" class=\"dataframe\">\n",
       "  <thead>\n",
       "    <tr style=\"text-align: right;\">\n",
       "      <th></th>\n",
       "      <th>Supplier Name</th>\n",
       "      <th>Invoice Number</th>\n",
       "      <th>Part Number</th>\n",
       "      <th>Cost</th>\n",
       "      <th>Purchase Date</th>\n",
       "    </tr>\n",
       "  </thead>\n",
       "  <tbody>\n",
       "    <tr>\n",
       "      <th>0</th>\n",
       "      <td>Supplier X</td>\n",
       "      <td>001-1001</td>\n",
       "      <td>2341</td>\n",
       "      <td>$500.00</td>\n",
       "      <td>1/20/14</td>\n",
       "    </tr>\n",
       "    <tr>\n",
       "      <th>1</th>\n",
       "      <td>Supplier X</td>\n",
       "      <td>001-1001</td>\n",
       "      <td>2341</td>\n",
       "      <td>$500.00</td>\n",
       "      <td>1/20/14</td>\n",
       "    </tr>\n",
       "    <tr>\n",
       "      <th>2</th>\n",
       "      <td>Supplier X</td>\n",
       "      <td>001-1001</td>\n",
       "      <td>5467</td>\n",
       "      <td>$750.00</td>\n",
       "      <td>1/20/14</td>\n",
       "    </tr>\n",
       "    <tr>\n",
       "      <th>3</th>\n",
       "      <td>Supplier X</td>\n",
       "      <td>001-1001</td>\n",
       "      <td>5467</td>\n",
       "      <td>$750.00</td>\n",
       "      <td>1/20/14</td>\n",
       "    </tr>\n",
       "    <tr>\n",
       "      <th>4</th>\n",
       "      <td>Supplier Y</td>\n",
       "      <td>50-9501</td>\n",
       "      <td>7009</td>\n",
       "      <td>$250.00</td>\n",
       "      <td>1/30/14</td>\n",
       "    </tr>\n",
       "    <tr>\n",
       "      <th>5</th>\n",
       "      <td>Supplier Y</td>\n",
       "      <td>50-9501</td>\n",
       "      <td>7009</td>\n",
       "      <td>$250.00</td>\n",
       "      <td>1/30/14</td>\n",
       "    </tr>\n",
       "  </tbody>\n",
       "</table>\n",
       "</div>"
      ],
      "text/plain": [
       "  Supplier Name Invoice Number  Part Number     Cost Purchase Date\n",
       "0    Supplier X       001-1001         2341  $500.00       1/20/14\n",
       "1    Supplier X       001-1001         2341  $500.00       1/20/14\n",
       "2    Supplier X       001-1001         5467  $750.00       1/20/14\n",
       "3    Supplier X       001-1001         5467  $750.00       1/20/14\n",
       "4    Supplier Y        50-9501         7009  $250.00       1/30/14\n",
       "5    Supplier Y        50-9501         7009  $250.00       1/30/14"
      ]
     },
     "execution_count": 21,
     "metadata": {},
     "output_type": "execute_result"
    }
   ],
   "source": [
    "result"
   ]
  },
  {
   "cell_type": "code",
   "execution_count": 22,
   "id": "34588e2d",
   "metadata": {},
   "outputs": [],
   "source": [
    "result.to_csv('output_files/4output_pandas.csv ')"
   ]
  },
  {
   "cell_type": "code",
   "execution_count": null,
   "id": "9494d194",
   "metadata": {},
   "outputs": [],
   "source": []
  }
 ],
 "metadata": {
  "kernelspec": {
   "display_name": "Python 3 (ipykernel)",
   "language": "python",
   "name": "python3"
  },
  "language_info": {
   "codemirror_mode": {
    "name": "ipython",
    "version": 3
   },
   "file_extension": ".py",
   "mimetype": "text/x-python",
   "name": "python",
   "nbconvert_exporter": "python",
   "pygments_lexer": "ipython3",
   "version": "3.9.13"
  }
 },
 "nbformat": 4,
 "nbformat_minor": 5
}
