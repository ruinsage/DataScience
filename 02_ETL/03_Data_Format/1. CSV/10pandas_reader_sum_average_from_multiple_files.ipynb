{
 "cells": [
  {
   "cell_type": "code",
   "execution_count": 3,
   "id": "2ce57293",
   "metadata": {},
   "outputs": [],
   "source": [
    "import pandas as pd\n",
    "import glob\n",
    "import os"
   ]
  },
  {
   "cell_type": "code",
   "execution_count": 4,
   "id": "c06671c5",
   "metadata": {},
   "outputs": [
    {
     "data": {
      "text/plain": [
       "['.\\\\sales_february_2014.csv',\n",
       " '.\\\\sales_january_2014.csv',\n",
       " '.\\\\sales_march_2014.csv']"
      ]
     },
     "execution_count": 4,
     "metadata": {},
     "output_type": "execute_result"
    }
   ],
   "source": [
    "input_path = '.'\n",
    "file_list = glob.glob(os.path.join(input_path,'sales_*'))\n",
    "file_list"
   ]
  },
  {
   "cell_type": "code",
   "execution_count": 29,
   "id": "526ec16f",
   "metadata": {
    "scrolled": true
   },
   "outputs": [
    {
     "data": {
      "text/plain": [
       "9375.0"
      ]
     },
     "execution_count": 29,
     "metadata": {},
     "output_type": "execute_result"
    }
   ],
   "source": [
    "sales_february_2014_df = pd.read_csv(file_list[0])\n",
    "result1 = sales_february_2014_df['Sale Amount'].str.strip('$').str.replace(',','').astype('float64')\n",
    "result1_sum = result1.sum()\n",
    "result1_sum"
   ]
  },
  {
   "cell_type": "code",
   "execution_count": 30,
   "id": "95f03022",
   "metadata": {},
   "outputs": [
    {
     "data": {
      "text/plain": [
       "1562.5"
      ]
     },
     "execution_count": 30,
     "metadata": {},
     "output_type": "execute_result"
    }
   ],
   "source": [
    "result1_average = result1.mean()\n",
    "result1_average"
   ]
  },
  {
   "cell_type": "code",
   "execution_count": null,
   "id": "f22eee56",
   "metadata": {},
   "outputs": [],
   "source": [
    "sales_february_2014_df"
   ]
  },
  {
   "cell_type": "code",
   "execution_count": 6,
   "id": "c0ac7f1f",
   "metadata": {
    "scrolled": true
   },
   "outputs": [
    {
     "data": {
      "text/html": [
       "<div>\n",
       "<style scoped>\n",
       "    .dataframe tbody tr th:only-of-type {\n",
       "        vertical-align: middle;\n",
       "    }\n",
       "\n",
       "    .dataframe tbody tr th {\n",
       "        vertical-align: top;\n",
       "    }\n",
       "\n",
       "    .dataframe thead th {\n",
       "        text-align: right;\n",
       "    }\n",
       "</style>\n",
       "<table border=\"1\" class=\"dataframe\">\n",
       "  <thead>\n",
       "    <tr style=\"text-align: right;\">\n",
       "      <th></th>\n",
       "      <th>Customer ID</th>\n",
       "      <th>Customer Name</th>\n",
       "      <th>Invoice Number</th>\n",
       "      <th>Sale Amount</th>\n",
       "      <th>Purchase Date</th>\n",
       "    </tr>\n",
       "  </thead>\n",
       "  <tbody>\n",
       "    <tr>\n",
       "      <th>0</th>\n",
       "      <td>1234</td>\n",
       "      <td>John Smith</td>\n",
       "      <td>100-0002</td>\n",
       "      <td>$1,200.00</td>\n",
       "      <td>1/1/14</td>\n",
       "    </tr>\n",
       "    <tr>\n",
       "      <th>1</th>\n",
       "      <td>2345</td>\n",
       "      <td>Mary Harrison</td>\n",
       "      <td>100-0003</td>\n",
       "      <td>$1,425.00</td>\n",
       "      <td>1/6/14</td>\n",
       "    </tr>\n",
       "    <tr>\n",
       "      <th>2</th>\n",
       "      <td>3456</td>\n",
       "      <td>Lucy Gomez</td>\n",
       "      <td>100-0004</td>\n",
       "      <td>$1,390.00</td>\n",
       "      <td>1/11/14</td>\n",
       "    </tr>\n",
       "    <tr>\n",
       "      <th>3</th>\n",
       "      <td>4567</td>\n",
       "      <td>Rupert Jones</td>\n",
       "      <td>100-0005</td>\n",
       "      <td>$1,257.00</td>\n",
       "      <td>1/18/14</td>\n",
       "    </tr>\n",
       "    <tr>\n",
       "      <th>4</th>\n",
       "      <td>5678</td>\n",
       "      <td>Jenny Walters</td>\n",
       "      <td>100-0006</td>\n",
       "      <td>$1,725.00</td>\n",
       "      <td>1/24/14</td>\n",
       "    </tr>\n",
       "    <tr>\n",
       "      <th>5</th>\n",
       "      <td>6789</td>\n",
       "      <td>Samantha Donaldson</td>\n",
       "      <td>100-0007</td>\n",
       "      <td>$1,995.00</td>\n",
       "      <td>1/31/14</td>\n",
       "    </tr>\n",
       "  </tbody>\n",
       "</table>\n",
       "</div>"
      ],
      "text/plain": [
       "   Customer ID       Customer Name Invoice Number Sale Amount Purchase Date\n",
       "0         1234          John Smith       100-0002   $1,200.00        1/1/14\n",
       "1         2345       Mary Harrison       100-0003   $1,425.00        1/6/14\n",
       "2         3456          Lucy Gomez       100-0004   $1,390.00       1/11/14\n",
       "3         4567        Rupert Jones       100-0005   $1,257.00       1/18/14\n",
       "4         5678       Jenny Walters       100-0006   $1,725.00       1/24/14\n",
       "5         6789  Samantha Donaldson       100-0007   $1,995.00       1/31/14"
      ]
     },
     "execution_count": 6,
     "metadata": {},
     "output_type": "execute_result"
    }
   ],
   "source": [
    "sales_january_2014_df = pd.read_csv(file_list[1])\n",
    "sales_january_2014_df"
   ]
  },
  {
   "cell_type": "code",
   "execution_count": 7,
   "id": "2db432af",
   "metadata": {},
   "outputs": [
    {
     "data": {
      "text/html": [
       "<div>\n",
       "<style scoped>\n",
       "    .dataframe tbody tr th:only-of-type {\n",
       "        vertical-align: middle;\n",
       "    }\n",
       "\n",
       "    .dataframe tbody tr th {\n",
       "        vertical-align: top;\n",
       "    }\n",
       "\n",
       "    .dataframe thead th {\n",
       "        text-align: right;\n",
       "    }\n",
       "</style>\n",
       "<table border=\"1\" class=\"dataframe\">\n",
       "  <thead>\n",
       "    <tr style=\"text-align: right;\">\n",
       "      <th></th>\n",
       "      <th>Customer ID</th>\n",
       "      <th>Customer Name</th>\n",
       "      <th>Invoice Number</th>\n",
       "      <th>Sale Amount</th>\n",
       "      <th>Purchase Date</th>\n",
       "    </tr>\n",
       "  </thead>\n",
       "  <tbody>\n",
       "    <tr>\n",
       "      <th>0</th>\n",
       "      <td>1234</td>\n",
       "      <td>John Smith</td>\n",
       "      <td>100-0014</td>\n",
       "      <td>$1,350.00</td>\n",
       "      <td>3/4/14</td>\n",
       "    </tr>\n",
       "    <tr>\n",
       "      <th>1</th>\n",
       "      <td>8765</td>\n",
       "      <td>Tony Song</td>\n",
       "      <td>100-0015</td>\n",
       "      <td>$1,167.00</td>\n",
       "      <td>3/8/14</td>\n",
       "    </tr>\n",
       "    <tr>\n",
       "      <th>2</th>\n",
       "      <td>2345</td>\n",
       "      <td>Mary Harrison</td>\n",
       "      <td>100-0016</td>\n",
       "      <td>$1,789.00</td>\n",
       "      <td>3/17/14</td>\n",
       "    </tr>\n",
       "    <tr>\n",
       "      <th>3</th>\n",
       "      <td>6543</td>\n",
       "      <td>Rachel Paz</td>\n",
       "      <td>100-0017</td>\n",
       "      <td>$2,042.00</td>\n",
       "      <td>3/22/14</td>\n",
       "    </tr>\n",
       "    <tr>\n",
       "      <th>4</th>\n",
       "      <td>3456</td>\n",
       "      <td>Lucy Gomez</td>\n",
       "      <td>100-0018</td>\n",
       "      <td>$1,511.00</td>\n",
       "      <td>3/28/14</td>\n",
       "    </tr>\n",
       "    <tr>\n",
       "      <th>5</th>\n",
       "      <td>4321</td>\n",
       "      <td>Susan Wallace</td>\n",
       "      <td>100-0019</td>\n",
       "      <td>$2,280.00</td>\n",
       "      <td>3/30/14</td>\n",
       "    </tr>\n",
       "  </tbody>\n",
       "</table>\n",
       "</div>"
      ],
      "text/plain": [
       "   Customer ID  Customer Name Invoice Number Sale Amount Purchase Date\n",
       "0         1234     John Smith       100-0014   $1,350.00        3/4/14\n",
       "1         8765      Tony Song       100-0015   $1,167.00        3/8/14\n",
       "2         2345  Mary Harrison       100-0016   $1,789.00       3/17/14\n",
       "3         6543     Rachel Paz       100-0017   $2,042.00       3/22/14\n",
       "4         3456     Lucy Gomez       100-0018   $1,511.00       3/28/14\n",
       "5         4321  Susan Wallace       100-0019   $2,280.00       3/30/14"
      ]
     },
     "execution_count": 7,
     "metadata": {},
     "output_type": "execute_result"
    }
   ],
   "source": [
    "sales_march_2014_df = pd.read_csv(file_list[2])\n",
    "sales_march_2014_df"
   ]
  },
  {
   "cell_type": "code",
   "execution_count": 20,
   "id": "c1a66d90",
   "metadata": {},
   "outputs": [
    {
     "data": {
      "text/plain": [
       "0     1115.0\n",
       "1     1367.0\n",
       "2     2135.0\n",
       "3     1346.0\n",
       "4     1560.0\n",
       "5     1852.0\n",
       "6     1200.0\n",
       "7     1425.0\n",
       "8     1390.0\n",
       "9     1257.0\n",
       "10    1725.0\n",
       "11    1995.0\n",
       "12    1350.0\n",
       "13    1167.0\n",
       "14    1789.0\n",
       "15    2042.0\n",
       "16    1511.0\n",
       "17    2280.0\n",
       "Name: Sale Amount, dtype: float64"
      ]
     },
     "execution_count": 20,
     "metadata": {},
     "output_type": "execute_result"
    }
   ],
   "source": [
    "result2 = result1['Sale Amount'].str.strip('$').str.replace(',','').astype('float64')\n",
    "result2"
   ]
  },
  {
   "cell_type": "code",
   "execution_count": null,
   "id": "15477e40",
   "metadata": {},
   "outputs": [],
   "source": []
  }
 ],
 "metadata": {
  "kernelspec": {
   "display_name": "Python 3 (ipykernel)",
   "language": "python",
   "name": "python3"
  },
  "language_info": {
   "codemirror_mode": {
    "name": "ipython",
    "version": 3
   },
   "file_extension": ".py",
   "mimetype": "text/x-python",
   "name": "python",
   "nbconvert_exporter": "python",
   "pygments_lexer": "ipython3",
   "version": "3.9.13"
  }
 },
 "nbformat": 4,
 "nbformat_minor": 5
}
