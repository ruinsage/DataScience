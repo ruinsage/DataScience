{
 "cells": [
  {
   "cell_type": "code",
   "execution_count": 29,
   "id": "16ed1cf0",
   "metadata": {},
   "outputs": [],
   "source": [
    "import json\n",
    "import pandas as pd"
   ]
  },
  {
   "cell_type": "code",
   "execution_count": 30,
   "id": "24018683",
   "metadata": {},
   "outputs": [],
   "source": [
    "def open_json(file_name, encoding_type):\n",
    "    with open(file_name, encoding = encoding_type) as json_file: \n",
    "        json_object = json.load(json_file)\n",
    "        json_string = json.dumps(json_object)\n",
    "        json_data = json.loads(json_string)\n",
    "    return json_data"
   ]
  },
  {
   "cell_type": "code",
   "execution_count": 31,
   "id": "c75c14a3",
   "metadata": {
    "scrolled": true
   },
   "outputs": [
    {
     "data": {
      "text/plain": [
       "{'response': {'body': {'student_list': [{'age': 45,\n",
       "     'major': '경영학',\n",
       "     'name': '영호',\n",
       "     'sex': '남'},\n",
       "    {'age': 30, 'major': '정치외교', 'name': '세중', 'sex': '남'},\n",
       "    {'age': 30, 'major': '신문방송학', 'name': '치우', 'sex': '남'}]}}}"
      ]
     },
     "execution_count": 31,
     "metadata": {},
     "output_type": "execute_result"
    }
   ],
   "source": [
    "json_data = open_json('student_zero2.json','cp949')\n",
    "json_data"
   ]
  },
  {
   "cell_type": "code",
   "execution_count": 32,
   "id": "a70f0131",
   "metadata": {},
   "outputs": [],
   "source": [
    "column_list = []\n",
    "all_data = []\n",
    "is_first = True\n",
    "for student in json_data['response']['body']['student_list']:\n",
    "    row_list = []\n",
    "    for key,value in student.items():\n",
    "        if is_first:\n",
    "            column_list.append(key)\n",
    "        row_list.append(value)\n",
    "    all_data.append(row_list)\n",
    "    is_first = False    "
   ]
  },
  {
   "cell_type": "code",
   "execution_count": 33,
   "id": "0c9c79cd",
   "metadata": {},
   "outputs": [
    {
     "data": {
      "text/plain": [
       "[[45, '경영학', '영호', '남'], [30, '정치외교', '세중', '남'], [30, '신문방송학', '치우', '남']]"
      ]
     },
     "execution_count": 33,
     "metadata": {},
     "output_type": "execute_result"
    }
   ],
   "source": [
    "all_data"
   ]
  },
  {
   "cell_type": "code",
   "execution_count": 34,
   "id": "aa935c13",
   "metadata": {},
   "outputs": [
    {
     "data": {
      "text/plain": [
       "['age', 'major', 'name', 'sex']"
      ]
     },
     "execution_count": 34,
     "metadata": {},
     "output_type": "execute_result"
    }
   ],
   "source": [
    "column_list"
   ]
  },
  {
   "cell_type": "code",
   "execution_count": 35,
   "id": "8063fbfe",
   "metadata": {},
   "outputs": [
    {
     "data": {
      "text/html": [
       "<div>\n",
       "<style scoped>\n",
       "    .dataframe tbody tr th:only-of-type {\n",
       "        vertical-align: middle;\n",
       "    }\n",
       "\n",
       "    .dataframe tbody tr th {\n",
       "        vertical-align: top;\n",
       "    }\n",
       "\n",
       "    .dataframe thead th {\n",
       "        text-align: right;\n",
       "    }\n",
       "</style>\n",
       "<table border=\"1\" class=\"dataframe\">\n",
       "  <thead>\n",
       "    <tr style=\"text-align: right;\">\n",
       "      <th></th>\n",
       "      <th>age</th>\n",
       "      <th>major</th>\n",
       "      <th>name</th>\n",
       "      <th>sex</th>\n",
       "    </tr>\n",
       "  </thead>\n",
       "  <tbody>\n",
       "    <tr>\n",
       "      <th>0</th>\n",
       "      <td>45</td>\n",
       "      <td>경영학</td>\n",
       "      <td>영호</td>\n",
       "      <td>남</td>\n",
       "    </tr>\n",
       "    <tr>\n",
       "      <th>1</th>\n",
       "      <td>30</td>\n",
       "      <td>정치외교</td>\n",
       "      <td>세중</td>\n",
       "      <td>남</td>\n",
       "    </tr>\n",
       "    <tr>\n",
       "      <th>2</th>\n",
       "      <td>30</td>\n",
       "      <td>신문방송학</td>\n",
       "      <td>치우</td>\n",
       "      <td>남</td>\n",
       "    </tr>\n",
       "  </tbody>\n",
       "</table>\n",
       "</div>"
      ],
      "text/plain": [
       "   age  major name sex\n",
       "0   45    경영학   영호   남\n",
       "1   30   정치외교   세중   남\n",
       "2   30  신문방송학   치우   남"
      ]
     },
     "execution_count": 35,
     "metadata": {},
     "output_type": "execute_result"
    }
   ],
   "source": [
    "df = pd.DataFrame(all_data,\n",
    "                 columns = column_list)\n",
    "df"
   ]
  },
  {
   "cell_type": "code",
   "execution_count": 36,
   "id": "ae140562",
   "metadata": {},
   "outputs": [],
   "source": [
    "df.to_csv('student_zero2.csv', encoding = 'utf-8', index = False)"
   ]
  },
  {
   "cell_type": "code",
   "execution_count": null,
   "id": "b16f6607",
   "metadata": {},
   "outputs": [],
   "source": []
  }
 ],
 "metadata": {
  "kernelspec": {
   "display_name": "Python 3 (ipykernel)",
   "language": "python",
   "name": "python3"
  },
  "language_info": {
   "codemirror_mode": {
    "name": "ipython",
    "version": 3
   },
   "file_extension": ".py",
   "mimetype": "text/x-python",
   "name": "python",
   "nbconvert_exporter": "python",
   "pygments_lexer": "ipython3",
   "version": "3.9.13"
  }
 },
 "nbformat": 4,
 "nbformat_minor": 5
}
