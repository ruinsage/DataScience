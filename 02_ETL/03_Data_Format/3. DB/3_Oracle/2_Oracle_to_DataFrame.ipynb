{
 "cells": [
  {
   "cell_type": "code",
   "execution_count": 7,
   "id": "70c00776",
   "metadata": {},
   "outputs": [],
   "source": [
    "import cx_Oracle\n",
    "import pandas as pd"
   ]
  },
  {
   "cell_type": "code",
   "execution_count": 8,
   "id": "88c0fddf",
   "metadata": {},
   "outputs": [
    {
     "data": {
      "text/plain": [
       "<cx_Oracle.Cursor on <cx_Oracle.Connection to open_source@localhost:1521/xe>>"
      ]
     },
     "execution_count": 8,
     "metadata": {},
     "output_type": "execute_result"
    }
   ],
   "source": [
    "conn = cx_Oracle.connect('open_source/1111@localhost:1521/xe')\n",
    "cur = conn.cursor()\n",
    "cur.execute(\"\"\"\n",
    "SELECT column_name from cols\n",
    "where table_name = 'MUSEUM'\n",
    "\"\"\")"
   ]
  },
  {
   "cell_type": "code",
   "execution_count": 9,
   "id": "7f8a9589",
   "metadata": {},
   "outputs": [
    {
     "data": {
      "text/plain": [
       "['시설명',\n",
       " '박물관미술관구분',\n",
       " '소재지도로명주소',\n",
       " '위도',\n",
       " '경도',\n",
       " '운영기관명',\n",
       " '편의시설정보',\n",
       " '어른관람료',\n",
       " '청소년관람료',\n",
       " '어린이관람료',\n",
       " '관리기관명',\n",
       " '제공기관코드']"
      ]
     },
     "execution_count": 9,
     "metadata": {},
     "output_type": "execute_result"
    }
   ],
   "source": [
    "column_list = [record[0] for record in cur]\n",
    "column_list"
   ]
  },
  {
   "cell_type": "code",
   "execution_count": 11,
   "id": "dc2d8a0d",
   "metadata": {},
   "outputs": [
    {
     "data": {
      "text/html": [
       "<div>\n",
       "<style scoped>\n",
       "    .dataframe tbody tr th:only-of-type {\n",
       "        vertical-align: middle;\n",
       "    }\n",
       "\n",
       "    .dataframe tbody tr th {\n",
       "        vertical-align: top;\n",
       "    }\n",
       "\n",
       "    .dataframe thead th {\n",
       "        text-align: right;\n",
       "    }\n",
       "</style>\n",
       "<table border=\"1\" class=\"dataframe\">\n",
       "  <thead>\n",
       "    <tr style=\"text-align: right;\">\n",
       "      <th></th>\n",
       "      <th>시설명</th>\n",
       "      <th>박물관미술관구분</th>\n",
       "      <th>소재지도로명주소</th>\n",
       "      <th>위도</th>\n",
       "      <th>경도</th>\n",
       "      <th>운영기관명</th>\n",
       "      <th>편의시설정보</th>\n",
       "      <th>어른관람료</th>\n",
       "      <th>청소년관람료</th>\n",
       "      <th>어린이관람료</th>\n",
       "      <th>관리기관명</th>\n",
       "      <th>제공기관코드</th>\n",
       "    </tr>\n",
       "  </thead>\n",
       "  <tbody>\n",
       "    <tr>\n",
       "      <th>0</th>\n",
       "      <td>양구인문학박물관</td>\n",
       "      <td>공립</td>\n",
       "      <td>강원도 양구군 양구읍 파로호로 869번길 101</td>\n",
       "      <td>38.121961</td>\n",
       "      <td>127.981208</td>\n",
       "      <td>양구인문학박물관</td>\n",
       "      <td>자동차전기충전소,테라스 등</td>\n",
       "      <td>3000</td>\n",
       "      <td>3000</td>\n",
       "      <td>3000</td>\n",
       "      <td>양구인문학박물관</td>\n",
       "      <td>4320000</td>\n",
       "    </tr>\n",
       "    <tr>\n",
       "      <th>1</th>\n",
       "      <td>한국족보박물관</td>\n",
       "      <td>공립</td>\n",
       "      <td>대전광역시 중구 뿌리공원로 79(침산동)</td>\n",
       "      <td>36.285380</td>\n",
       "      <td>127.388300</td>\n",
       "      <td>대전광역시 중구 효문화마을관리원</td>\n",
       "      <td>휠체어+유모차+모유수유실+매점</td>\n",
       "      <td>0</td>\n",
       "      <td>0</td>\n",
       "      <td>0</td>\n",
       "      <td>대전광역시 중구 효문화마을관리원</td>\n",
       "      <td>3650000</td>\n",
       "    </tr>\n",
       "    <tr>\n",
       "      <th>2</th>\n",
       "      <td>박을복자수박물관</td>\n",
       "      <td>사립</td>\n",
       "      <td>서울특별시 강북구 삼양로 149가길53</td>\n",
       "      <td>37.653816</td>\n",
       "      <td>127.008490</td>\n",
       "      <td>박을복자수박물관</td>\n",
       "      <td>None</td>\n",
       "      <td>6000</td>\n",
       "      <td>4000</td>\n",
       "      <td>4000</td>\n",
       "      <td>서울특별시 강북구청</td>\n",
       "      <td>3080000</td>\n",
       "    </tr>\n",
       "    <tr>\n",
       "      <th>3</th>\n",
       "      <td>동아대학교석당박물관</td>\n",
       "      <td>대학</td>\n",
       "      <td>부산광역시 서구 구덕로 225</td>\n",
       "      <td>35.103747</td>\n",
       "      <td>129.019416</td>\n",
       "      <td>동아대학교석당박물관</td>\n",
       "      <td>문화상품 판매+카페테리아+화장실(장애인용 포함)+엘리베이터+음성안내기+유모차 및 휠...</td>\n",
       "      <td>0</td>\n",
       "      <td>0</td>\n",
       "      <td>0</td>\n",
       "      <td>동아대학교석당박물관</td>\n",
       "      <td>3260000</td>\n",
       "    </tr>\n",
       "    <tr>\n",
       "      <th>4</th>\n",
       "      <td>계양아트갤러리</td>\n",
       "      <td>공립</td>\n",
       "      <td>인천광역시 계양구 계산새로 88</td>\n",
       "      <td>37.537442</td>\n",
       "      <td>126.737759</td>\n",
       "      <td>인천광역시 계양구청</td>\n",
       "      <td>None</td>\n",
       "      <td>0</td>\n",
       "      <td>0</td>\n",
       "      <td>0</td>\n",
       "      <td>인천광역시 계양구청</td>\n",
       "      <td>3550000</td>\n",
       "    </tr>\n",
       "  </tbody>\n",
       "</table>\n",
       "</div>"
      ],
      "text/plain": [
       "          시설명 박물관미술관구분                    소재지도로명주소         위도          경도  \\\n",
       "0    양구인문학박물관       공립  강원도 양구군 양구읍 파로호로 869번길 101  38.121961  127.981208   \n",
       "1     한국족보박물관       공립      대전광역시 중구 뿌리공원로 79(침산동)  36.285380  127.388300   \n",
       "2    박을복자수박물관       사립       서울특별시 강북구 삼양로 149가길53  37.653816  127.008490   \n",
       "3  동아대학교석당박물관       대학            부산광역시 서구 구덕로 225  35.103747  129.019416   \n",
       "4     계양아트갤러리       공립           인천광역시 계양구 계산새로 88  37.537442  126.737759   \n",
       "\n",
       "               운영기관명                                             편의시설정보  \\\n",
       "0           양구인문학박물관                                     자동차전기충전소,테라스 등   \n",
       "1  대전광역시 중구 효문화마을관리원                                   휠체어+유모차+모유수유실+매점   \n",
       "2           박을복자수박물관                                               None   \n",
       "3         동아대학교석당박물관  문화상품 판매+카페테리아+화장실(장애인용 포함)+엘리베이터+음성안내기+유모차 및 휠...   \n",
       "4         인천광역시 계양구청                                               None   \n",
       "\n",
       "   어른관람료  청소년관람료  어린이관람료              관리기관명   제공기관코드  \n",
       "0   3000    3000    3000           양구인문학박물관  4320000  \n",
       "1      0       0       0  대전광역시 중구 효문화마을관리원  3650000  \n",
       "2   6000    4000    4000         서울특별시 강북구청  3080000  \n",
       "3      0       0       0         동아대학교석당박물관  3260000  \n",
       "4      0       0       0         인천광역시 계양구청  3550000  "
      ]
     },
     "execution_count": 11,
     "metadata": {},
     "output_type": "execute_result"
    }
   ],
   "source": [
    "cur.execute('select * from museum')\n",
    "df = pd.DataFrame(cur, columns=column_list)\n",
    "df.head()"
   ]
  },
  {
   "cell_type": "code",
   "execution_count": 12,
   "id": "04c94cf6",
   "metadata": {},
   "outputs": [
    {
     "name": "stdout",
     "output_type": "stream",
     "text": [
      "<class 'pandas.core.frame.DataFrame'>\n",
      "RangeIndex: 2079 entries, 0 to 2078\n",
      "Data columns (total 12 columns):\n",
      " #   Column    Non-Null Count  Dtype  \n",
      "---  ------    --------------  -----  \n",
      " 0   시설명       2079 non-null   object \n",
      " 1   박물관미술관구분  2079 non-null   object \n",
      " 2   소재지도로명주소  2078 non-null   object \n",
      " 3   위도        2079 non-null   float64\n",
      " 4   경도        2078 non-null   float64\n",
      " 5   운영기관명     2079 non-null   object \n",
      " 6   편의시설정보    404 non-null    object \n",
      " 7   어른관람료     2079 non-null   int64  \n",
      " 8   청소년관람료    2079 non-null   int64  \n",
      " 9   어린이관람료    2079 non-null   int64  \n",
      " 10  관리기관명     2079 non-null   object \n",
      " 11  제공기관코드    2079 non-null   object \n",
      "dtypes: float64(2), int64(3), object(7)\n",
      "memory usage: 1.3 MB\n"
     ]
    }
   ],
   "source": [
    "df.info(memory_usage=\"deep\")"
   ]
  },
  {
   "cell_type": "code",
   "execution_count": 13,
   "id": "338aff64",
   "metadata": {},
   "outputs": [
    {
     "data": {
      "text/plain": [
       "Index          128\n",
       "시설명         203614\n",
       "박물관미술관구분    178794\n",
       "소재지도로명주소    256286\n",
       "위도           16632\n",
       "경도           16632\n",
       "운영기관명       202371\n",
       "편의시설정보       83392\n",
       "어른관람료        16632\n",
       "청소년관람료       16632\n",
       "어린이관람료       16632\n",
       "관리기관명       205142\n",
       "제공기관코드      133056\n",
       "dtype: int64"
      ]
     },
     "execution_count": 13,
     "metadata": {},
     "output_type": "execute_result"
    }
   ],
   "source": [
    "df.memory_usage(deep=True)"
   ]
  },
  {
   "cell_type": "code",
   "execution_count": 14,
   "id": "352eb4c7",
   "metadata": {},
   "outputs": [],
   "source": [
    "del df"
   ]
  },
  {
   "cell_type": "code",
   "execution_count": null,
   "id": "2a2db26e",
   "metadata": {},
   "outputs": [],
   "source": []
  },
  {
   "cell_type": "markdown",
   "id": "8e4de080",
   "metadata": {},
   "source": [
    "---"
   ]
  },
  {
   "cell_type": "markdown",
   "id": "549eb27e",
   "metadata": {},
   "source": [
    "## Selection and Projection Query"
   ]
  },
  {
   "cell_type": "code",
   "execution_count": 18,
   "id": "079c5df5",
   "metadata": {},
   "outputs": [
    {
     "data": {
      "text/plain": [
       "<cx_Oracle.Cursor on <cx_Oracle.Connection to open_source@localhost:1521/xe>>"
      ]
     },
     "execution_count": 18,
     "metadata": {},
     "output_type": "execute_result"
    }
   ],
   "source": [
    "cur.execute(\"\"\"\n",
    "SELECT 시설명, 박물관미술관구분,청소년관람료\n",
    "from museum\n",
    "where 청소년관람료 > 1500\n",
    "\"\"\")"
   ]
  },
  {
   "cell_type": "code",
   "execution_count": 19,
   "id": "74aaa9bf",
   "metadata": {},
   "outputs": [
    {
     "name": "stdout",
     "output_type": "stream",
     "text": [
      "Selection and Projection Query\n"
     ]
    },
    {
     "data": {
      "text/html": [
       "<div>\n",
       "<style scoped>\n",
       "    .dataframe tbody tr th:only-of-type {\n",
       "        vertical-align: middle;\n",
       "    }\n",
       "\n",
       "    .dataframe tbody tr th {\n",
       "        vertical-align: top;\n",
       "    }\n",
       "\n",
       "    .dataframe thead th {\n",
       "        text-align: right;\n",
       "    }\n",
       "</style>\n",
       "<table border=\"1\" class=\"dataframe\">\n",
       "  <thead>\n",
       "    <tr style=\"text-align: right;\">\n",
       "      <th></th>\n",
       "      <th>시설명</th>\n",
       "      <th>박물관미술관구분</th>\n",
       "      <th>청소년관람료</th>\n",
       "    </tr>\n",
       "  </thead>\n",
       "  <tbody>\n",
       "    <tr>\n",
       "      <th>0</th>\n",
       "      <td>양구인문학박물관</td>\n",
       "      <td>공립</td>\n",
       "      <td>3000</td>\n",
       "    </tr>\n",
       "    <tr>\n",
       "      <th>1</th>\n",
       "      <td>박을복자수박물관</td>\n",
       "      <td>사립</td>\n",
       "      <td>4000</td>\n",
       "    </tr>\n",
       "    <tr>\n",
       "      <th>2</th>\n",
       "      <td>애니메이션박물관</td>\n",
       "      <td>공립</td>\n",
       "      <td>7000</td>\n",
       "    </tr>\n",
       "    <tr>\n",
       "      <th>3</th>\n",
       "      <td>이상원미술관</td>\n",
       "      <td>사립</td>\n",
       "      <td>4000</td>\n",
       "    </tr>\n",
       "    <tr>\n",
       "      <th>4</th>\n",
       "      <td>인형극박물관</td>\n",
       "      <td>공립</td>\n",
       "      <td>2000</td>\n",
       "    </tr>\n",
       "  </tbody>\n",
       "</table>\n",
       "</div>"
      ],
      "text/plain": [
       "        시설명 박물관미술관구분  청소년관람료\n",
       "0  양구인문학박물관       공립    3000\n",
       "1  박을복자수박물관       사립    4000\n",
       "2  애니메이션박물관       공립    7000\n",
       "3    이상원미술관       사립    4000\n",
       "4    인형극박물관       공립    2000"
      ]
     },
     "execution_count": 19,
     "metadata": {},
     "output_type": "execute_result"
    }
   ],
   "source": [
    "print(\"Selection and Projection Query\")\n",
    "df = pd.DataFrame(cur, columns=['시설명', '박물관미술관구분','청소년관람료'])\n",
    "df.head()"
   ]
  },
  {
   "cell_type": "code",
   "execution_count": 20,
   "id": "5c29b14b",
   "metadata": {},
   "outputs": [
    {
     "name": "stdout",
     "output_type": "stream",
     "text": [
      "<class 'pandas.core.frame.DataFrame'>\n",
      "RangeIndex: 562 entries, 0 to 561\n",
      "Data columns (total 3 columns):\n",
      " #   Column    Non-Null Count  Dtype \n",
      "---  ------    --------------  ----- \n",
      " 0   시설명       562 non-null    object\n",
      " 1   박물관미술관구분  562 non-null    object\n",
      " 2   청소년관람료    562 non-null    int64 \n",
      "dtypes: int64(1), object(2)\n",
      "memory usage: 105.3 KB\n"
     ]
    }
   ],
   "source": [
    "df.info(memory_usage=\"deep\")"
   ]
  },
  {
   "cell_type": "code",
   "execution_count": null,
   "id": "a965b09a",
   "metadata": {},
   "outputs": [],
   "source": []
  }
 ],
 "metadata": {
  "kernelspec": {
   "display_name": "Python 3 (ipykernel)",
   "language": "python",
   "name": "python3"
  },
  "language_info": {
   "codemirror_mode": {
    "name": "ipython",
    "version": 3
   },
   "file_extension": ".py",
   "mimetype": "text/x-python",
   "name": "python",
   "nbconvert_exporter": "python",
   "pygments_lexer": "ipython3",
   "version": "3.9.13"
  }
 },
 "nbformat": 4,
 "nbformat_minor": 5
}
