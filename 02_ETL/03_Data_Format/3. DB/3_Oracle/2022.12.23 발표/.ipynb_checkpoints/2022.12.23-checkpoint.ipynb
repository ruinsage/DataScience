{
 "cells": [
  {
   "cell_type": "markdown",
   "id": "3ec93d00",
   "metadata": {},
   "source": [
    "# 가설"
   ]
  },
  {
   "cell_type": "markdown",
   "id": "55824335",
   "metadata": {},
   "source": [
    "* 소비자에게 맞게 추천할 수 있는 가공식품을 찾으시오\n",
    "        * 다이어터에게 추천할 수 있는 가공 식품\n",
    "        * 효과적으로 근육을 늘릴 수 있는 식품\n",
    "        * 성장기 청소년에게 유용한 식품"
   ]
  },
  {
   "cell_type": "markdown",
   "id": "c66a1410",
   "metadata": {},
   "source": [
    "---"
   ]
  },
  {
   "cell_type": "markdown",
   "id": "4e1881bc",
   "metadata": {},
   "source": [
    "## 2조 데이터 선정 방식"
   ]
  },
  {
   "cell_type": "markdown",
   "id": "f7fe0b3f",
   "metadata": {},
   "source": [
    "#### 1. 숫자열이 많은 데이터\n",
    "#### 2. 열간의 관계나 계산이 많은것."
   ]
  },
  {
   "cell_type": "code",
   "execution_count": 5,
   "id": "d0380bae",
   "metadata": {},
   "outputs": [],
   "source": [
    "import pandas as pd\n",
    "import numpy as np\n",
    "import matplotlib.pyplot as plt\n",
    "import seaborn as sns\n",
    "from matplotlib import font_manager,rc\n",
    "\n",
    "import random\n",
    "\n",
    "font_location = \"C:\\Windows\\Fonts\\malgun.ttf\"\n",
    "font_name = font_manager.FontProperties(fname=font_location).get_name()\n",
    "rc('font',family=font_name)\n",
    "plt.rcParams['axes.unicode_minus'] = False\n",
    "\n",
    "# read_csv 함수로 데이터를 Dataframe 형태로 불러옵니다.\n",
    "file_path = '전국통합식품영양성분정보(가공식품)표준데이터.csv'\n",
    "food = pd.read_csv(file_path, encoding = 'MS949')"
   ]
  },
  {
   "cell_type": "code",
   "execution_count": 6,
   "id": "8b862191",
   "metadata": {},
   "outputs": [
    {
     "data": {
      "text/html": [
       "<div>\n",
       "<style scoped>\n",
       "    .dataframe tbody tr th:only-of-type {\n",
       "        vertical-align: middle;\n",
       "    }\n",
       "\n",
       "    .dataframe tbody tr th {\n",
       "        vertical-align: top;\n",
       "    }\n",
       "\n",
       "    .dataframe thead th {\n",
       "        text-align: right;\n",
       "    }\n",
       "</style>\n",
       "<table border=\"1\" class=\"dataframe\">\n",
       "  <thead>\n",
       "    <tr style=\"text-align: right;\">\n",
       "      <th></th>\n",
       "      <th>식품코드</th>\n",
       "      <th>식품명</th>\n",
       "      <th>데이터구분코드</th>\n",
       "      <th>데이터구분명</th>\n",
       "      <th>식품기원명</th>\n",
       "      <th>식품대분류명</th>\n",
       "      <th>대표식품명</th>\n",
       "      <th>식품중분류명</th>\n",
       "      <th>식품소분류명</th>\n",
       "      <th>식품세분류명</th>\n",
       "      <th>...</th>\n",
       "      <th>1회 섭취참고량</th>\n",
       "      <th>제조사명</th>\n",
       "      <th>식품중량</th>\n",
       "      <th>수입업체명</th>\n",
       "      <th>수입여부</th>\n",
       "      <th>원산지국명</th>\n",
       "      <th>데이터생성방법명</th>\n",
       "      <th>데이터생성일자</th>\n",
       "      <th>데이터기준일자</th>\n",
       "      <th>제공기관명</th>\n",
       "    </tr>\n",
       "  </thead>\n",
       "  <tbody>\n",
       "    <tr>\n",
       "      <th>0</th>\n",
       "      <td>P123-226020100-0088</td>\n",
       "      <td>샐러드_비프불고기샐러드</td>\n",
       "      <td>P</td>\n",
       "      <td>가공식품</td>\n",
       "      <td>가공식품</td>\n",
       "      <td>즉석식품류</td>\n",
       "      <td>샐러드</td>\n",
       "      <td>즉석섭취·편의식품류</td>\n",
       "      <td>신선편의식품</td>\n",
       "      <td>해당없음</td>\n",
       "      <td>...</td>\n",
       "      <td>1식</td>\n",
       "      <td>농업회사법인(주)정진에프피씨</td>\n",
       "      <td>160g</td>\n",
       "      <td>NaN</td>\n",
       "      <td>N</td>\n",
       "      <td>NaN</td>\n",
       "      <td>수집</td>\n",
       "      <td>2021-06-30</td>\n",
       "      <td>2022-11-23</td>\n",
       "      <td>식품의약품안전처</td>\n",
       "    </tr>\n",
       "    <tr>\n",
       "      <th>1</th>\n",
       "      <td>P123-226020100-0089</td>\n",
       "      <td>샐러드_비프타코샐러드랩의질투</td>\n",
       "      <td>P</td>\n",
       "      <td>가공식품</td>\n",
       "      <td>가공식품</td>\n",
       "      <td>즉석식품류</td>\n",
       "      <td>샐러드</td>\n",
       "      <td>즉석섭취·편의식품류</td>\n",
       "      <td>신선편의식품</td>\n",
       "      <td>해당없음</td>\n",
       "      <td>...</td>\n",
       "      <td>1식</td>\n",
       "      <td>(주)샐러드판다</td>\n",
       "      <td>263g</td>\n",
       "      <td>NaN</td>\n",
       "      <td>N</td>\n",
       "      <td>NaN</td>\n",
       "      <td>수집</td>\n",
       "      <td>2021-06-30</td>\n",
       "      <td>2022-11-23</td>\n",
       "      <td>식품의약품안전처</td>\n",
       "    </tr>\n",
       "    <tr>\n",
       "      <th>2</th>\n",
       "      <td>P123-226020100-0090</td>\n",
       "      <td>샐러드_샐러드에빠진연어</td>\n",
       "      <td>P</td>\n",
       "      <td>가공식품</td>\n",
       "      <td>가공식품</td>\n",
       "      <td>즉석식품류</td>\n",
       "      <td>샐러드</td>\n",
       "      <td>즉석섭취·편의식품류</td>\n",
       "      <td>신선편의식품</td>\n",
       "      <td>해당없음</td>\n",
       "      <td>...</td>\n",
       "      <td>1식</td>\n",
       "      <td>(주)샐러드판다</td>\n",
       "      <td>200g</td>\n",
       "      <td>NaN</td>\n",
       "      <td>N</td>\n",
       "      <td>NaN</td>\n",
       "      <td>수집</td>\n",
       "      <td>2020-06-30</td>\n",
       "      <td>2022-11-23</td>\n",
       "      <td>식품의약품안전처</td>\n",
       "    </tr>\n",
       "    <tr>\n",
       "      <th>3</th>\n",
       "      <td>P123-226020100-0091</td>\n",
       "      <td>샐러드_수삼초계샐러드</td>\n",
       "      <td>P</td>\n",
       "      <td>가공식품</td>\n",
       "      <td>가공식품</td>\n",
       "      <td>즉석식품류</td>\n",
       "      <td>샐러드</td>\n",
       "      <td>즉석섭취·편의식품류</td>\n",
       "      <td>신선편의식품</td>\n",
       "      <td>해당없음</td>\n",
       "      <td>...</td>\n",
       "      <td>1식</td>\n",
       "      <td>(주)성원푸드</td>\n",
       "      <td>171g</td>\n",
       "      <td>NaN</td>\n",
       "      <td>N</td>\n",
       "      <td>NaN</td>\n",
       "      <td>수집</td>\n",
       "      <td>2020-06-30</td>\n",
       "      <td>2022-11-23</td>\n",
       "      <td>식품의약품안전처</td>\n",
       "    </tr>\n",
       "    <tr>\n",
       "      <th>4</th>\n",
       "      <td>P123-226020100-0092</td>\n",
       "      <td>샐러드_쉬림프크림파스타샐러드</td>\n",
       "      <td>P</td>\n",
       "      <td>가공식품</td>\n",
       "      <td>가공식품</td>\n",
       "      <td>즉석식품류</td>\n",
       "      <td>샐러드</td>\n",
       "      <td>즉석섭취·편의식품류</td>\n",
       "      <td>신선편의식품</td>\n",
       "      <td>해당없음</td>\n",
       "      <td>...</td>\n",
       "      <td>1식</td>\n",
       "      <td>(주)샐푸드</td>\n",
       "      <td>255g</td>\n",
       "      <td>NaN</td>\n",
       "      <td>N</td>\n",
       "      <td>NaN</td>\n",
       "      <td>수집</td>\n",
       "      <td>2021-06-30</td>\n",
       "      <td>2022-11-23</td>\n",
       "      <td>식품의약품안전처</td>\n",
       "    </tr>\n",
       "  </tbody>\n",
       "</table>\n",
       "<p>5 rows × 22 columns</p>\n",
       "</div>"
      ],
      "text/plain": [
       "                  식품코드              식품명 데이터구분코드 데이터구분명 식품기원명 식품대분류명 대표식품명  \\\n",
       "0  P123-226020100-0088     샐러드_비프불고기샐러드       P   가공식품  가공식품  즉석식품류   샐러드   \n",
       "1  P123-226020100-0089  샐러드_비프타코샐러드랩의질투       P   가공식품  가공식품  즉석식품류   샐러드   \n",
       "2  P123-226020100-0090     샐러드_샐러드에빠진연어       P   가공식품  가공식품  즉석식품류   샐러드   \n",
       "3  P123-226020100-0091      샐러드_수삼초계샐러드       P   가공식품  가공식품  즉석식품류   샐러드   \n",
       "4  P123-226020100-0092  샐러드_쉬림프크림파스타샐러드       P   가공식품  가공식품  즉석식품류   샐러드   \n",
       "\n",
       "       식품중분류명  식품소분류명 식품세분류명  ... 1회 섭취참고량             제조사명  식품중량 수입업체명 수입여부  \\\n",
       "0  즉석섭취·편의식품류  신선편의식품   해당없음  ...       1식  농업회사법인(주)정진에프피씨  160g   NaN    N   \n",
       "1  즉석섭취·편의식품류  신선편의식품   해당없음  ...       1식         (주)샐러드판다  263g   NaN    N   \n",
       "2  즉석섭취·편의식품류  신선편의식품   해당없음  ...       1식         (주)샐러드판다  200g   NaN    N   \n",
       "3  즉석섭취·편의식품류  신선편의식품   해당없음  ...       1식          (주)성원푸드  171g   NaN    N   \n",
       "4  즉석섭취·편의식품류  신선편의식품   해당없음  ...       1식           (주)샐푸드  255g   NaN    N   \n",
       "\n",
       "  원산지국명 데이터생성방법명     데이터생성일자     데이터기준일자     제공기관명  \n",
       "0   NaN       수집  2021-06-30  2022-11-23  식품의약품안전처  \n",
       "1   NaN       수집  2021-06-30  2022-11-23  식품의약품안전처  \n",
       "2   NaN       수집  2020-06-30  2022-11-23  식품의약품안전처  \n",
       "3   NaN       수집  2020-06-30  2022-11-23  식품의약품안전처  \n",
       "4   NaN       수집  2021-06-30  2022-11-23  식품의약품안전처  \n",
       "\n",
       "[5 rows x 22 columns]"
      ]
     },
     "execution_count": 6,
     "metadata": {},
     "output_type": "execute_result"
    }
   ],
   "source": [
    "object_col = food.select_dtypes(include = ['object'])\n",
    "object_col.head()"
   ]
  },
  {
   "cell_type": "code",
   "execution_count": 7,
   "id": "cb1d189b",
   "metadata": {},
   "outputs": [
    {
     "name": "stdout",
     "output_type": "stream",
     "text": [
      "식품코드 19\n",
      "식품명 45\n",
      "데이터구분코드 1\n",
      "데이터구분명 4\n",
      "식품기원명 4\n",
      "식품대분류명 15\n",
      "대표식품명 13\n",
      "식품중분류명 29\n",
      "식품소분류명 17\n",
      "식품세분류명 4\n",
      "영양성분함량기준량 5\n",
      "출처명 16\n",
      "1회 섭취참고량 8\n",
      "제조사명 43\n",
      "식품중량 10\n",
      "수입업체명 91\n",
      "수입여부 1\n",
      "원산지국명 10\n",
      "데이터생성방법명 2\n",
      "데이터생성일자 10\n",
      "데이터기준일자 10\n",
      "제공기관명 8\n"
     ]
    }
   ],
   "source": [
    "for col_name in object_col.columns:\n",
    "    try:\n",
    "        print(f'{col_name} {max([len(str(content)) for content in object_col[col_name].values])}')  \n",
    "    except Exception as e:\n",
    "        print(f'{col_name} {e}')"
   ]
  },
  {
   "cell_type": "code",
   "execution_count": 8,
   "id": "ca2914f2",
   "metadata": {},
   "outputs": [
    {
     "data": {
      "text/plain": [
       "Index(['식품코드', '식품명', '데이터구분코드', '데이터구분명', '식품기원코드', '식품기원명', '식품대분류코드',\n",
       "       '식품대분류명', '대표식품코드', '대표식품명', '식품중분류코드', '식품중분류명', '식품소분류코드', '식품소분류명',\n",
       "       '식품세분류코드', '식품세분류명', '영양성분함량기준량', '에너지', '수분', '단백질', '지방', '회분(g)',\n",
       "       '탄수화물', '당류', '식이섬유(g)', '칼슘(mg)', '철(mg)', '인(mg)', '칼륨(mg)', '나트륨',\n",
       "       '비타민 A(μg RAE)', '레티놀(μg)', '베타카로틴(μg)', '티아민(mg)', '리보플라빈(mg)',\n",
       "       '니아신(mg)', '비타민 C(mg)', '비타민 D(μg)', '콜레스테롤', '포화지방산', '트랜스지방산', '출처코드',\n",
       "       '출처명', '1회 섭취참고량', '제조사명', '식품중량', '수입업체명', '유통업체명', '수입여부', '원산지국코드',\n",
       "       '원산지국명', '데이터생성방법코드', '데이터생성방법명', '데이터생성일자', '데이터기준일자', '제공기관코드',\n",
       "       '제공기관명'],\n",
       "      dtype='object')"
      ]
     },
     "execution_count": 8,
     "metadata": {},
     "output_type": "execute_result"
    }
   ],
   "source": [
    "food.rename(columns={'에너지(kcal)':'에너지','수분(g)':'수분','단백질(g)':'단백질',\n",
    "                     '탄수화물(g)':'탄수화물','지방(g)':'지방','당류(g)':'당류',\n",
    "                     '콜레스테롤(mg)':'콜레스테롤','포화지방산(g)':'포화지방산',\n",
    "                     '트랜스지방산(g)':'트랜스지방산','나트륨(mg)':'나트륨'},inplace=True)\n",
    "\n",
    "food.columns"
   ]
  },
  {
   "cell_type": "code",
   "execution_count": null,
   "id": "cd9b899f",
   "metadata": {},
   "outputs": [],
   "source": [
    "# food.to_csv('전국통합식품영양성분정보(가공식품)표준데이터_수정.csv',encoding='MS949',index=False)"
   ]
  },
  {
   "cell_type": "markdown",
   "id": "88cce03c",
   "metadata": {},
   "source": [
    "---"
   ]
  },
  {
   "cell_type": "code",
   "execution_count": 11,
   "id": "4ec40508",
   "metadata": {},
   "outputs": [],
   "source": [
    "import cx_Oracle"
   ]
  },
  {
   "cell_type": "code",
   "execution_count": 12,
   "id": "e8081e7a",
   "metadata": {},
   "outputs": [
    {
     "data": {
      "text/plain": [
       "<cx_Oracle.Cursor on <cx_Oracle.Connection to open_source@localhost:1521/xe>>"
      ]
     },
     "execution_count": 12,
     "metadata": {},
     "output_type": "execute_result"
    }
   ],
   "source": [
    "conn = cx_Oracle.connect('open_source/1111@localhost:1521/xe')\n",
    "cur = conn.cursor()\n",
    "cur.execute(\"\"\"\n",
    "SELECT column_name from cols\n",
    "where table_name = 'PROCESSED_FOOD'\n",
    "\"\"\")"
   ]
  },
  {
   "cell_type": "code",
   "execution_count": 13,
   "id": "a52a23de",
   "metadata": {},
   "outputs": [
    {
     "data": {
      "text/plain": [
       "['식품명',\n",
       " '식품대분류명',\n",
       " '대표식품명',\n",
       " '식품중분류명',\n",
       " '식품소분류명',\n",
       " '영양성분함량기준량',\n",
       " '에너지',\n",
       " '수분',\n",
       " '단백질',\n",
       " '지방',\n",
       " '탄수화물',\n",
       " '당류',\n",
       " '나트륨',\n",
       " '콜레스테롤',\n",
       " '포화지방산',\n",
       " '트랜스지방산',\n",
       " '제조사명',\n",
       " '수입여부']"
      ]
     },
     "execution_count": 13,
     "metadata": {},
     "output_type": "execute_result"
    }
   ],
   "source": [
    "column_list = [record[0] for record in cur]\n",
    "column_list"
   ]
  },
  {
   "cell_type": "code",
   "execution_count": 14,
   "id": "81b88373",
   "metadata": {},
   "outputs": [
    {
     "data": {
      "text/html": [
       "<div>\n",
       "<style scoped>\n",
       "    .dataframe tbody tr th:only-of-type {\n",
       "        vertical-align: middle;\n",
       "    }\n",
       "\n",
       "    .dataframe tbody tr th {\n",
       "        vertical-align: top;\n",
       "    }\n",
       "\n",
       "    .dataframe thead th {\n",
       "        text-align: right;\n",
       "    }\n",
       "</style>\n",
       "<table border=\"1\" class=\"dataframe\">\n",
       "  <thead>\n",
       "    <tr style=\"text-align: right;\">\n",
       "      <th></th>\n",
       "      <th>식품명</th>\n",
       "      <th>식품대분류명</th>\n",
       "      <th>대표식품명</th>\n",
       "      <th>식품중분류명</th>\n",
       "      <th>식품소분류명</th>\n",
       "      <th>영양성분함량기준량</th>\n",
       "      <th>에너지</th>\n",
       "      <th>수분</th>\n",
       "      <th>단백질</th>\n",
       "      <th>지방</th>\n",
       "      <th>탄수화물</th>\n",
       "      <th>당류</th>\n",
       "      <th>나트륨</th>\n",
       "      <th>콜레스테롤</th>\n",
       "      <th>포화지방산</th>\n",
       "      <th>트랜스지방산</th>\n",
       "      <th>제조사명</th>\n",
       "      <th>수입여부</th>\n",
       "    </tr>\n",
       "  </thead>\n",
       "  <tbody>\n",
       "    <tr>\n",
       "      <th>0</th>\n",
       "      <td>샐러드_[정크레페)연어크레페샐러드</td>\n",
       "      <td>즉석식품류</td>\n",
       "      <td>샐러드</td>\n",
       "      <td>즉석섭취·편의식품류</td>\n",
       "      <td>신선편의식품</td>\n",
       "      <td>100g</td>\n",
       "      <td>188</td>\n",
       "      <td>NaN</td>\n",
       "      <td>5.25</td>\n",
       "      <td>9.62</td>\n",
       "      <td>20.14</td>\n",
       "      <td>7.80</td>\n",
       "      <td>244</td>\n",
       "      <td>9.70</td>\n",
       "      <td>1.90</td>\n",
       "      <td>0.09</td>\n",
       "      <td>정크레페</td>\n",
       "      <td>N</td>\n",
       "    </tr>\n",
       "    <tr>\n",
       "      <th>1</th>\n",
       "      <td>샐러드_[정크레페)참치크레페샐러드</td>\n",
       "      <td>즉석식품류</td>\n",
       "      <td>샐러드</td>\n",
       "      <td>즉석섭취·편의식품류</td>\n",
       "      <td>신선편의식품</td>\n",
       "      <td>100g</td>\n",
       "      <td>163</td>\n",
       "      <td>NaN</td>\n",
       "      <td>6.98</td>\n",
       "      <td>6.46</td>\n",
       "      <td>19.33</td>\n",
       "      <td>6.82</td>\n",
       "      <td>206</td>\n",
       "      <td>12.11</td>\n",
       "      <td>1.28</td>\n",
       "      <td>0.07</td>\n",
       "      <td>정크레페</td>\n",
       "      <td>N</td>\n",
       "    </tr>\n",
       "    <tr>\n",
       "      <th>2</th>\n",
       "      <td>샐러드_[정크레페)훈제오리크레페샐러드</td>\n",
       "      <td>즉석식품류</td>\n",
       "      <td>샐러드</td>\n",
       "      <td>즉석섭취·편의식품류</td>\n",
       "      <td>신선편의식품</td>\n",
       "      <td>100g</td>\n",
       "      <td>181</td>\n",
       "      <td>NaN</td>\n",
       "      <td>4.69</td>\n",
       "      <td>9.36</td>\n",
       "      <td>19.61</td>\n",
       "      <td>5.83</td>\n",
       "      <td>258</td>\n",
       "      <td>19.81</td>\n",
       "      <td>2.16</td>\n",
       "      <td>0.08</td>\n",
       "      <td>정크레페</td>\n",
       "      <td>N</td>\n",
       "    </tr>\n",
       "    <tr>\n",
       "      <th>3</th>\n",
       "      <td>샐러드_[쥬청과)바로먹는간편과일(중)</td>\n",
       "      <td>즉석식품류</td>\n",
       "      <td>샐러드</td>\n",
       "      <td>즉석섭취·편의식품류</td>\n",
       "      <td>신선편의식품</td>\n",
       "      <td>100g</td>\n",
       "      <td>63</td>\n",
       "      <td>NaN</td>\n",
       "      <td>0.66</td>\n",
       "      <td>0.17</td>\n",
       "      <td>14.59</td>\n",
       "      <td>11.04</td>\n",
       "      <td>0</td>\n",
       "      <td>0.00</td>\n",
       "      <td>0.03</td>\n",
       "      <td>0.00</td>\n",
       "      <td>베스토피아(주)</td>\n",
       "      <td>N</td>\n",
       "    </tr>\n",
       "    <tr>\n",
       "      <th>4</th>\n",
       "      <td>샐러드_[프레쉬홈)그린샐러드</td>\n",
       "      <td>즉석식품류</td>\n",
       "      <td>샐러드</td>\n",
       "      <td>즉석섭취·편의식품류</td>\n",
       "      <td>신선편의식품</td>\n",
       "      <td>100g</td>\n",
       "      <td>20</td>\n",
       "      <td>NaN</td>\n",
       "      <td>1.94</td>\n",
       "      <td>0.17</td>\n",
       "      <td>2.70</td>\n",
       "      <td>0.55</td>\n",
       "      <td>43</td>\n",
       "      <td>0.00</td>\n",
       "      <td>0.05</td>\n",
       "      <td>0.00</td>\n",
       "      <td>농업회사법인담푸른</td>\n",
       "      <td>N</td>\n",
       "    </tr>\n",
       "  </tbody>\n",
       "</table>\n",
       "</div>"
      ],
      "text/plain": [
       "                    식품명 식품대분류명 대표식품명      식품중분류명  식품소분류명 영양성분함량기준량  에너지  수분  \\\n",
       "0    샐러드_[정크레페)연어크레페샐러드  즉석식품류   샐러드  즉석섭취·편의식품류  신선편의식품      100g  188 NaN   \n",
       "1    샐러드_[정크레페)참치크레페샐러드  즉석식품류   샐러드  즉석섭취·편의식품류  신선편의식품      100g  163 NaN   \n",
       "2  샐러드_[정크레페)훈제오리크레페샐러드  즉석식품류   샐러드  즉석섭취·편의식품류  신선편의식품      100g  181 NaN   \n",
       "3  샐러드_[쥬청과)바로먹는간편과일(중)  즉석식품류   샐러드  즉석섭취·편의식품류  신선편의식품      100g   63 NaN   \n",
       "4       샐러드_[프레쉬홈)그린샐러드  즉석식품류   샐러드  즉석섭취·편의식품류  신선편의식품      100g   20 NaN   \n",
       "\n",
       "    단백질    지방   탄수화물     당류  나트륨  콜레스테롤  포화지방산  트랜스지방산       제조사명 수입여부  \n",
       "0  5.25  9.62  20.14   7.80  244   9.70   1.90    0.09       정크레페    N  \n",
       "1  6.98  6.46  19.33   6.82  206  12.11   1.28    0.07       정크레페    N  \n",
       "2  4.69  9.36  19.61   5.83  258  19.81   2.16    0.08       정크레페    N  \n",
       "3  0.66  0.17  14.59  11.04    0   0.00   0.03    0.00   베스토피아(주)    N  \n",
       "4  1.94  0.17   2.70   0.55   43   0.00   0.05    0.00  농업회사법인담푸른    N  "
      ]
     },
     "execution_count": 14,
     "metadata": {},
     "output_type": "execute_result"
    }
   ],
   "source": [
    "cur.execute('select * from PROCESSED_FOOD')\n",
    "df = pd.DataFrame(cur, columns=column_list)\n",
    "df.head()"
   ]
  },
  {
   "cell_type": "code",
   "execution_count": 15,
   "id": "e8a84edd",
   "metadata": {},
   "outputs": [
    {
     "name": "stdout",
     "output_type": "stream",
     "text": [
      "<class 'pandas.core.frame.DataFrame'>\n",
      "RangeIndex: 42607 entries, 0 to 42606\n",
      "Data columns (total 18 columns):\n",
      " #   Column     Non-Null Count  Dtype  \n",
      "---  ------     --------------  -----  \n",
      " 0   식품명        42607 non-null  object \n",
      " 1   식품대분류명     42607 non-null  object \n",
      " 2   대표식품명      42607 non-null  object \n",
      " 3   식품중분류명     42607 non-null  object \n",
      " 4   식품소분류명     42607 non-null  object \n",
      " 5   영양성분함량기준량  42607 non-null  object \n",
      " 6   에너지        42607 non-null  int64  \n",
      " 7   수분         248 non-null    float64\n",
      " 8   단백질        42607 non-null  float64\n",
      " 9   지방         42607 non-null  float64\n",
      " 10  탄수화물       42607 non-null  float64\n",
      " 11  당류         42607 non-null  float64\n",
      " 12  나트륨        42607 non-null  int64  \n",
      " 13  콜레스테롤      42607 non-null  float64\n",
      " 14  포화지방산      42607 non-null  float64\n",
      " 15  트랜스지방산     42607 non-null  float64\n",
      " 16  제조사명       33634 non-null  object \n",
      " 17  수입여부       42607 non-null  object \n",
      "dtypes: float64(8), int64(2), object(8)\n",
      "memory usage: 5.9+ MB\n"
     ]
    }
   ],
   "source": [
    "df.info()"
   ]
  },
  {
   "cell_type": "code",
   "execution_count": 16,
   "id": "eac90350",
   "metadata": {},
   "outputs": [
    {
     "data": {
      "text/plain": [
       "(42607, 18)"
      ]
     },
     "execution_count": 16,
     "metadata": {},
     "output_type": "execute_result"
    }
   ],
   "source": [
    "df.shape"
   ]
  },
  {
   "cell_type": "code",
   "execution_count": 17,
   "id": "98ec132d",
   "metadata": {},
   "outputs": [
    {
     "name": "stdout",
     "output_type": "stream",
     "text": [
      "<class 'pandas.core.frame.DataFrame'>\n",
      "RangeIndex: 42607 entries, 0 to 42606\n",
      "Data columns (total 18 columns):\n",
      " #   Column     Non-Null Count  Dtype  \n",
      "---  ------     --------------  -----  \n",
      " 0   식품명        42607 non-null  object \n",
      " 1   식품대분류명     42607 non-null  object \n",
      " 2   대표식품명      42607 non-null  object \n",
      " 3   식품중분류명     42607 non-null  object \n",
      " 4   식품소분류명     42607 non-null  object \n",
      " 5   영양성분함량기준량  42607 non-null  object \n",
      " 6   에너지        42607 non-null  int64  \n",
      " 7   수분         248 non-null    float64\n",
      " 8   단백질        42607 non-null  float64\n",
      " 9   지방         42607 non-null  float64\n",
      " 10  탄수화물       42607 non-null  float64\n",
      " 11  당류         42607 non-null  float64\n",
      " 12  나트륨        42607 non-null  int64  \n",
      " 13  콜레스테롤      42607 non-null  float64\n",
      " 14  포화지방산      42607 non-null  float64\n",
      " 15  트랜스지방산     42607 non-null  float64\n",
      " 16  제조사명       33634 non-null  object \n",
      " 17  수입여부       42607 non-null  object \n",
      "dtypes: float64(8), int64(2), object(8)\n",
      "memory usage: 31.0 MB\n"
     ]
    }
   ],
   "source": [
    "df.info(memory_usage=\"deep\")"
   ]
  },
  {
   "cell_type": "code",
   "execution_count": 18,
   "id": "239afd05",
   "metadata": {},
   "outputs": [
    {
     "data": {
      "text/plain": [
       "Index            128\n",
       "식품명          4656792\n",
       "식품대분류명       4117912\n",
       "대표식품명        3810524\n",
       "식품중분류명       4049538\n",
       "식품소분류명       3857262\n",
       "영양성분함량기준량    2609119\n",
       "에너지           340856\n",
       "수분            340856\n",
       "단백질           340856\n",
       "지방            340856\n",
       "탄수화물          340856\n",
       "당류            340856\n",
       "나트륨           340856\n",
       "콜레스테롤         340856\n",
       "포화지방산         340856\n",
       "트랜스지방산        340856\n",
       "제조사명         3494908\n",
       "수입여부         2471206\n",
       "dtype: int64"
      ]
     },
     "execution_count": 18,
     "metadata": {},
     "output_type": "execute_result"
    }
   ],
   "source": [
    "df.memory_usage(deep=True)"
   ]
  },
  {
   "cell_type": "code",
   "execution_count": 19,
   "id": "481ad785",
   "metadata": {},
   "outputs": [
    {
     "data": {
      "text/plain": [
       "Index            128\n",
       "식품명          4656792\n",
       "식품대분류명       4117912\n",
       "대표식품명        3810524\n",
       "식품중분류명       4049538\n",
       "식품소분류명       3857262\n",
       "영양성분함량기준량    2609119\n",
       "에너지           340856\n",
       "수분            340856\n",
       "단백질           340856\n",
       "지방            340856\n",
       "탄수화물          340856\n",
       "당류            340856\n",
       "나트륨           340856\n",
       "콜레스테롤         340856\n",
       "포화지방산         340856\n",
       "트랜스지방산        340856\n",
       "제조사명         3494908\n",
       "수입여부         2471206\n",
       "dtype: int64"
      ]
     },
     "execution_count": 19,
     "metadata": {},
     "output_type": "execute_result"
    }
   ],
   "source": [
    "df.memory_usage(deep=True)"
   ]
  },
  {
   "cell_type": "code",
   "execution_count": 20,
   "id": "0d57881c",
   "metadata": {},
   "outputs": [],
   "source": [
    "del df"
   ]
  },
  {
   "cell_type": "code",
   "execution_count": null,
   "id": "301ecb80",
   "metadata": {},
   "outputs": [],
   "source": []
  }
 ],
 "metadata": {
  "kernelspec": {
   "display_name": "Python 3 (ipykernel)",
   "language": "python",
   "name": "python3"
  },
  "language_info": {
   "codemirror_mode": {
    "name": "ipython",
    "version": 3
   },
   "file_extension": ".py",
   "mimetype": "text/x-python",
   "name": "python",
   "nbconvert_exporter": "python",
   "pygments_lexer": "ipython3",
   "version": "3.9.13"
  }
 },
 "nbformat": 4,
 "nbformat_minor": 5
}
