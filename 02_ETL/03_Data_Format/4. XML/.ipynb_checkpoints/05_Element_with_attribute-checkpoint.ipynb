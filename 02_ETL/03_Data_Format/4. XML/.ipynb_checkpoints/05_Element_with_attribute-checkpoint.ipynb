{
 "cells": [
  {
   "cell_type": "code",
   "execution_count": 2,
   "id": "3176257c",
   "metadata": {},
   "outputs": [],
   "source": [
    "from xml.etree.ElementTree import Element,dump, SubElement"
   ]
  },
  {
   "cell_type": "code",
   "execution_count": 3,
   "id": "cac7770e",
   "metadata": {},
   "outputs": [
    {
     "name": "stdout",
     "output_type": "stream",
     "text": [
      "<note date=\"20120104\"><to>Tove</to><from>Jani</from></note>\n"
     ]
    }
   ],
   "source": [
    "# 노드 선언시 속성과 값을 넣을 수 있다.\n",
    "note = Element('note', date=\"20120104\")\n",
    "to = Element('to')\n",
    "to.text =\"Tove\"\n",
    "note.append(to)\n",
    "SubElement(note,\"from\").text=\"Jani\" #SubElement를 활용하여 자식 노드 추가\n",
    "\n",
    "\n",
    "dump(note)"
   ]
  },
  {
   "cell_type": "code",
   "execution_count": null,
   "id": "bb031b92",
   "metadata": {},
   "outputs": [],
   "source": []
  }
 ],
 "metadata": {
  "kernelspec": {
   "display_name": "Python 3 (ipykernel)",
   "language": "python",
   "name": "python3"
  },
  "language_info": {
   "codemirror_mode": {
    "name": "ipython",
    "version": 3
   },
   "file_extension": ".py",
   "mimetype": "text/x-python",
   "name": "python",
   "nbconvert_exporter": "python",
   "pygments_lexer": "ipython3",
   "version": "3.9.13"
  }
 },
 "nbformat": 4,
 "nbformat_minor": 5
}
