{
 "cells": [
  {
   "cell_type": "markdown",
   "id": "59bdbb6e",
   "metadata": {},
   "source": [
    "# 1. XML 구조 "
   ]
  },
  {
   "cell_type": "raw",
   "id": "c3f8dc34",
   "metadata": {},
   "source": [
    "<note date ='20190722' method = 'gmail'>   <= 노드 중 최상위 노드\n",
    "    <to>Tove</to>                          <= 자식 노드\n",
    "    <from>Jani</from>                      <= <from name=\"Jani/> 다음과 같이 속성으로 표현할 수 있음\n",
    "    <heading>Reminder</heading>\n",
    "    <Body>Don`t forget me this weekend!</body>\n",
    "</note>\n",
    "# XML은 노드를 통해 데이터에 대해 스스로 정의하는 것이다."
   ]
  },
  {
   "cell_type": "markdown",
   "id": "3126aa41",
   "metadata": {},
   "source": [
    "# 노드 추가"
   ]
  },
  {
   "cell_type": "code",
   "execution_count": 29,
   "id": "157fe6c5",
   "metadata": {},
   "outputs": [],
   "source": [
    "from xml.etree.ElementTree import Element,dump"
   ]
  },
  {
   "cell_type": "code",
   "execution_count": 30,
   "id": "bada8af5",
   "metadata": {},
   "outputs": [
    {
     "data": {
      "text/plain": [
       "<Element 'note' at 0x00000147A9A4CD10>"
      ]
     },
     "execution_count": 30,
     "metadata": {},
     "output_type": "execute_result"
    }
   ],
   "source": [
    "# Element : 노드를 생성하는 함수\n",
    "note = Element('note')\n",
    "note  # note를 호출하면 객체로 보여준다"
   ]
  },
  {
   "cell_type": "code",
   "execution_count": 31,
   "id": "32628469",
   "metadata": {},
   "outputs": [
    {
     "name": "stdout",
     "output_type": "stream",
     "text": [
      "<note />\n"
     ]
    }
   ],
   "source": [
    "# 실제 XML값을 조회하려면 dump 함수로 해당 노드를 조회해야한다.\n",
    "dump(note)"
   ]
  },
  {
   "cell_type": "code",
   "execution_count": 33,
   "id": "4f2e4c5a",
   "metadata": {},
   "outputs": [
    {
     "name": "stdout",
     "output_type": "stream",
     "text": [
      "<to />\n"
     ]
    }
   ],
   "source": [
    "to = Element('to') #노드 생성\n",
    "dump(to)"
   ]
  },
  {
   "cell_type": "code",
   "execution_count": 34,
   "id": "aff4d407",
   "metadata": {},
   "outputs": [
    {
     "name": "stdout",
     "output_type": "stream",
     "text": [
      "<to>Tove</to>\n"
     ]
    }
   ],
   "source": [
    "to.text = 'Tove' # 현재 엘리먼드(To)에 text 속성으로 값(Tove) 추가\n",
    "dump(to)"
   ]
  },
  {
   "cell_type": "code",
   "execution_count": 35,
   "id": "44d3fc2a",
   "metadata": {},
   "outputs": [
    {
     "name": "stdout",
     "output_type": "stream",
     "text": [
      "<note><to>Tove</to></note>\n"
     ]
    }
   ],
   "source": [
    "note.append(to) # to노드를 자식으로써 note노드에 추가\n",
    "dump(note)"
   ]
  },
  {
   "cell_type": "markdown",
   "id": "92c42378",
   "metadata": {},
   "source": [
    "# 2. SubElement로 자식 노드 추가"
   ]
  },
  {
   "cell_type": "code",
   "execution_count": 38,
   "id": "2e32fcc1",
   "metadata": {},
   "outputs": [],
   "source": [
    "from xml.etree.ElementTree import Element,dump, SubElement"
   ]
  },
  {
   "cell_type": "code",
   "execution_count": 39,
   "id": "f9338cd7",
   "metadata": {},
   "outputs": [
    {
     "name": "stdout",
     "output_type": "stream",
     "text": [
      "<note><to>Tove</to></note>\n"
     ]
    }
   ],
   "source": [
    "note = Element('note')\n",
    "to = Element('to')\n",
    "to.text = 'Tove'\n",
    "note.append(to)\n",
    "dump(note)"
   ]
  },
  {
   "cell_type": "code",
   "execution_count": 40,
   "id": "91c8f655",
   "metadata": {},
   "outputs": [
    {
     "name": "stdout",
     "output_type": "stream",
     "text": [
      "<note><to>Tove</to><form>Jani</form></note>\n"
     ]
    }
   ],
   "source": [
    "SubElement(note,'form').text = 'Jani' # SubElement를 활용하여 자식 노드 추가\n",
    "# SubElement(부모노드,'자식노드이름').텍스트속성 = '텍스트내용'\n",
    "dump(note)"
   ]
  },
  {
   "cell_type": "code",
   "execution_count": 41,
   "id": "4c509c52",
   "metadata": {},
   "outputs": [],
   "source": [
    "# 위와 동일한 결과\n",
    "from_tag = Element('from2')\n",
    "from_tag.text = 'Jani2'\n",
    "note.append(from_tag)"
   ]
  },
  {
   "cell_type": "code",
   "execution_count": 42,
   "id": "009fb34a",
   "metadata": {},
   "outputs": [
    {
     "name": "stdout",
     "output_type": "stream",
     "text": [
      "<note><to>Tove</to><form>Jani</form><from2>Jani2</from2></note>\n"
     ]
    }
   ],
   "source": [
    "dump(note)"
   ]
  },
  {
   "cell_type": "markdown",
   "id": "71db9cb5",
   "metadata": {},
   "source": [
    "## 연습"
   ]
  },
  {
   "cell_type": "code",
   "execution_count": 43,
   "id": "0071b904",
   "metadata": {},
   "outputs": [
    {
     "name": "stdout",
     "output_type": "stream",
     "text": [
      "<note><to>Tove</to><form>Jani</form><from2>Jani2</from2><dust>anja</dust></note>\n"
     ]
    }
   ],
   "source": [
    "tag = Element('dust')\n",
    "tag.text = 'anja'\n",
    "note.append(tag)\n",
    "dump(note)"
   ]
  },
  {
   "cell_type": "code",
   "execution_count": 44,
   "id": "62789636",
   "metadata": {},
   "outputs": [
    {
     "name": "stdout",
     "output_type": "stream",
     "text": [
      "<note><to>Tove</to><form>Jani</form><from2>Jani2</from2><dust>anja</dust><flex>joly</flex></note>\n"
     ]
    }
   ],
   "source": [
    "SubElement(note,'flex').text = 'joly'\n",
    "dump(note)"
   ]
  },
  {
   "cell_type": "markdown",
   "id": "a2e0e020",
   "metadata": {},
   "source": [
    "## 3. insert_remove"
   ]
  },
  {
   "cell_type": "code",
   "execution_count": 45,
   "id": "e0d2bca4",
   "metadata": {},
   "outputs": [
    {
     "name": "stdout",
     "output_type": "stream",
     "text": [
      "<note><to>Tove</to><from>Jani</from></note>\n"
     ]
    }
   ],
   "source": [
    "note = Element('note')\n",
    "to = Element('to')\n",
    "to.text = 'Tove'\n",
    "note.append(to)\n",
    "\n",
    "SubElement(note,'from').text = 'Jani'\n",
    "dump(note)"
   ]
  },
  {
   "cell_type": "code",
   "execution_count": 46,
   "id": "c578f6f0",
   "metadata": {},
   "outputs": [
    {
     "name": "stdout",
     "output_type": "stream",
     "text": [
      "<note><dummy /><to>Tove</to><from>Jani</from></note>\n"
     ]
    }
   ],
   "source": [
    "dummy = Element('dummy')\n",
    "note.insert(0,dummy)  # insert(삽입할 위치, 자식노드)\n",
    "dump(note)"
   ]
  },
  {
   "cell_type": "code",
   "execution_count": 47,
   "id": "fc006948",
   "metadata": {},
   "outputs": [
    {
     "name": "stdout",
     "output_type": "stream",
     "text": [
      "<note><to>Tove</to><from>Jani</from></note>\n"
     ]
    }
   ],
   "source": [
    "note.remove(dummy) # 부모 노드에 있는 자식 노드를 인자로 넘겨줘야한다.\n",
    "dump(note)"
   ]
  },
  {
   "cell_type": "code",
   "execution_count": 48,
   "id": "ab9f04f6",
   "metadata": {},
   "outputs": [
    {
     "name": "stdout",
     "output_type": "stream",
     "text": [
      "<note><to>Tove</to><from>Jani</from><dummy /></note>\n"
     ]
    }
   ],
   "source": [
    "dummy = Element('dummy')\n",
    "note.insert(2,dummy)\n",
    "dump(note)"
   ]
  },
  {
   "cell_type": "code",
   "execution_count": 49,
   "id": "980a7a7d",
   "metadata": {},
   "outputs": [
    {
     "name": "stdout",
     "output_type": "stream",
     "text": [
      "<note><to>Tove</to><from>Jani</from></note>\n"
     ]
    }
   ],
   "source": [
    "note.remove(dummy)\n",
    "dump(note)"
   ]
  },
  {
   "cell_type": "code",
   "execution_count": null,
   "id": "bc8fa645",
   "metadata": {},
   "outputs": [],
   "source": []
  },
  {
   "cell_type": "code",
   "execution_count": null,
   "id": "82af4c56",
   "metadata": {},
   "outputs": [],
   "source": []
  },
  {
   "cell_type": "code",
   "execution_count": 1,
   "id": "a168b0e5",
   "metadata": {},
   "outputs": [],
   "source": [
    "from xml.etree.ElementTree import parse # 읽어들일 때 필요한 임포트\n",
    "from xml.etree.ElementTree import dump "
   ]
  },
  {
   "cell_type": "markdown",
   "id": "4a6c1de9",
   "metadata": {},
   "source": [
    "##### 08. XML 파일 파싱"
   ]
  },
  {
   "cell_type": "code",
   "execution_count": 2,
   "id": "b822e81c",
   "metadata": {},
   "outputs": [
    {
     "name": "stdout",
     "output_type": "stream",
     "text": [
      "<note date=\"20120104\">\n",
      " <to>Tove</to>\n",
      " <from>Jani</from>\n",
      " <heading>Reminder</heading>\n",
      " <body>Don't forget me this weekend!</body>\n",
      "</note>\n"
     ]
    }
   ],
   "source": [
    "tree = parse('note.xml')  # note.xml 파일을 읽어와서 변수에 할당\n",
    "note = tree.getroot()  # 할당된 변수의 루트를 반환한다.\n",
    "dump(note)   # note 노드 출력"
   ]
  },
  {
   "cell_type": "code",
   "execution_count": 3,
   "id": "1156ee38",
   "metadata": {},
   "outputs": [
    {
     "name": "stdout",
     "output_type": "stream",
     "text": [
      "<note date=\"20120104\">\n",
      " <to>Tove</to>\n",
      " <from>Jani</from>\n",
      " <heading>Reminder</heading>\n",
      " <body>Don't forget me this weekend!</body>\n",
      "</note>\n"
     ]
    }
   ],
   "source": [
    "dump(parse('note.xml'))"
   ]
  },
  {
   "cell_type": "code",
   "execution_count": 4,
   "id": "d90c2d78",
   "metadata": {},
   "outputs": [
    {
     "data": {
      "text/plain": [
       "'20120104'"
      ]
     },
     "execution_count": 4,
     "metadata": {},
     "output_type": "execute_result"
    }
   ],
   "source": [
    "note.get('date') # 현재 노드의 속성 이름을 get의 인자로 넣어주면 해당 속성의 값을 반환한다."
   ]
  },
  {
   "cell_type": "code",
   "execution_count": 6,
   "id": "30e950ae",
   "metadata": {},
   "outputs": [],
   "source": [
    "note.get('method') # 없는 속성값에대서는 None을 반환한다."
   ]
  },
  {
   "cell_type": "code",
   "execution_count": 22,
   "id": "48358ff9",
   "metadata": {},
   "outputs": [
    {
     "data": {
      "text/plain": [
       "'gmail2'"
      ]
     },
     "execution_count": 22,
     "metadata": {},
     "output_type": "execute_result"
    }
   ],
   "source": [
    "note.get('method','gmail') # 없는 속성값에대한 default값을 지정한다.\n",
    "                           # 결측치 처리와 비슷하다."
   ]
  },
  {
   "cell_type": "code",
   "execution_count": 23,
   "id": "8816f3b3",
   "metadata": {},
   "outputs": [
    {
     "name": "stdout",
     "output_type": "stream",
     "text": [
      "<note date=\"20120104\" method=\"gmail2\">\n",
      " <to>Tove</to>\n",
      " <from>Jani</from>\n",
      " <heading>Reminder</heading>\n",
      " <body>Don't forget me this weekend!</body>\n",
      "</note>\n"
     ]
    }
   ],
   "source": [
    "dump(note)"
   ]
  },
  {
   "cell_type": "code",
   "execution_count": 26,
   "id": "ea9c2f2e",
   "metadata": {},
   "outputs": [
    {
     "name": "stdout",
     "output_type": "stream",
     "text": [
      "<note date=\"20120104\" method=\"gmail\">\n",
      " <to>Tove</to>\n",
      " <from>Jani</from>\n",
      " <heading>Reminder</heading>\n",
      " <body>Don't forget me this weekend!</body>\n",
      "</note>\n"
     ]
    }
   ],
   "source": [
    "note.attrib['method'] = 'gmail' # 실제 속성 및 값 추가\n",
    "dump(note)"
   ]
  },
  {
   "cell_type": "markdown",
   "id": "06655a2f",
   "metadata": {},
   "source": [
    "### 특정 노드의 전체 속성 값 출력"
   ]
  },
  {
   "cell_type": "code",
   "execution_count": 11,
   "id": "c1363181",
   "metadata": {},
   "outputs": [
    {
     "name": "stdout",
     "output_type": "stream",
     "text": [
      "20120104\n",
      "gmail\n"
     ]
    }
   ],
   "source": [
    "# note.keys() 현재 노드의 모든 속성 이름을 반환한다.\n",
    "for key in note.keys():\n",
    "    print(note.get(key))"
   ]
  },
  {
   "cell_type": "markdown",
   "id": "e628814b",
   "metadata": {},
   "source": [
    "### 특정 노드 직접 검색"
   ]
  },
  {
   "cell_type": "code",
   "execution_count": 12,
   "id": "d6e3e5f5",
   "metadata": {},
   "outputs": [
    {
     "data": {
      "text/plain": [
       "'Jani'"
      ]
     },
     "execution_count": 12,
     "metadata": {},
     "output_type": "execute_result"
    }
   ],
   "source": [
    "from_tag = note.find('from') \n",
    "from_tag.text"
   ]
  },
  {
   "cell_type": "code",
   "execution_count": 13,
   "id": "ded0e81f",
   "metadata": {},
   "outputs": [
    {
     "data": {
      "text/plain": [
       "'Jani'"
      ]
     },
     "execution_count": 13,
     "metadata": {},
     "output_type": "execute_result"
    }
   ],
   "source": [
    "note.find('from').text"
   ]
  },
  {
   "cell_type": "markdown",
   "id": "74eb224a",
   "metadata": {},
   "source": [
    "### 모든 자식 노드의 값 접근"
   ]
  },
  {
   "cell_type": "code",
   "execution_count": 14,
   "id": "b6d682b2",
   "metadata": {},
   "outputs": [
    {
     "name": "stdout",
     "output_type": "stream",
     "text": [
      "<note date=\"20120104\" method=\"gmail\">\n",
      " <to>Tove</to>\n",
      " <from>Jani</from>\n",
      " <heading>Reminder</heading>\n",
      " <body>Don't forget me this weekend!</body>\n",
      "</note>\n"
     ]
    }
   ],
   "source": [
    "dump(note)"
   ]
  },
  {
   "cell_type": "code",
   "execution_count": 15,
   "id": "44642d60",
   "metadata": {},
   "outputs": [
    {
     "name": "stdout",
     "output_type": "stream",
     "text": [
      "Tove\n",
      "Jani\n",
      "Reminder\n",
      "Don't forget me this weekend!\n"
     ]
    }
   ],
   "source": [
    "for parent in tree.iter(): # 노드.iter() => 노드의 자식 노드를 가져온다.\n",
    "    for child in parent:\n",
    "        print(child.text)"
   ]
  },
  {
   "cell_type": "markdown",
   "id": "1a09d610",
   "metadata": {},
   "source": [
    "### 특정 태그 자식 노드 접근"
   ]
  },
  {
   "cell_type": "code",
   "execution_count": 18,
   "id": "974e8fe1",
   "metadata": {},
   "outputs": [
    {
     "name": "stdout",
     "output_type": "stream",
     "text": [
      "\n",
      " \n",
      "Tove\n",
      "Jani\n",
      "Reminder\n",
      "Don't forget me this weekend!\n"
     ]
    }
   ],
   "source": [
    "for child in note.iter():\n",
    "    print(child.text)"
   ]
  },
  {
   "cell_type": "code",
   "execution_count": null,
   "id": "acad5734",
   "metadata": {},
   "outputs": [],
   "source": []
  }
 ],
 "metadata": {
  "kernelspec": {
   "display_name": "Python 3 (ipykernel)",
   "language": "python",
   "name": "python3"
  },
  "language_info": {
   "codemirror_mode": {
    "name": "ipython",
    "version": 3
   },
   "file_extension": ".py",
   "mimetype": "text/x-python",
   "name": "python",
   "nbconvert_exporter": "python",
   "pygments_lexer": "ipython3",
   "version": "3.9.13"
  }
 },
 "nbformat": 4,
 "nbformat_minor": 5
}
