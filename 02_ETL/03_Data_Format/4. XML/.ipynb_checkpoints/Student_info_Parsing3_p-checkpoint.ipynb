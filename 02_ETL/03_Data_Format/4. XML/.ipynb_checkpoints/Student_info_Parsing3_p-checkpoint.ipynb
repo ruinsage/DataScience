{
 "cells": [
  {
   "cell_type": "code",
   "execution_count": 268,
   "id": "bab60fd8",
   "metadata": {},
   "outputs": [],
   "source": [
    "import pandas as pd\n",
    "import numpy as np\n",
    "import matplotlib.pyplot as plt\n",
    "import seaborn as sns\n",
    "import datetime\n",
    "from matplotlib import font_manager,rc\n",
    "\n",
    "import random\n",
    "\n",
    "font_location = \"C:\\Windows\\Fonts\\malgun.ttf\"\n",
    "font_name = font_manager.FontProperties(fname=font_location).get_name()\n",
    "rc('font',family=font_name)\n",
    "plt.rcParams['axes.unicode_minus'] = False"
   ]
  },
  {
   "cell_type": "code",
   "execution_count": 269,
   "id": "deff8881",
   "metadata": {},
   "outputs": [
    {
     "data": {
      "text/html": [
       "<div>\n",
       "<style scoped>\n",
       "    .dataframe tbody tr th:only-of-type {\n",
       "        vertical-align: middle;\n",
       "    }\n",
       "\n",
       "    .dataframe tbody tr th {\n",
       "        vertical-align: top;\n",
       "    }\n",
       "\n",
       "    .dataframe thead th {\n",
       "        text-align: right;\n",
       "    }\n",
       "</style>\n",
       "<table border=\"1\" class=\"dataframe\">\n",
       "  <thead>\n",
       "    <tr style=\"text-align: right;\">\n",
       "      <th></th>\n",
       "      <th>이름</th>\n",
       "      <th>성별</th>\n",
       "      <th>나이</th>\n",
       "      <th>전공</th>\n",
       "      <th>컴퓨터언어</th>\n",
       "      <th>레벨</th>\n",
       "      <th>사용기간</th>\n",
       "    </tr>\n",
       "  </thead>\n",
       "  <tbody>\n",
       "    <tr>\n",
       "      <th>0</th>\n",
       "      <td>영호</td>\n",
       "      <td>남</td>\n",
       "      <td>45</td>\n",
       "      <td>경영학</td>\n",
       "      <td>NaN</td>\n",
       "      <td>NaN</td>\n",
       "      <td>NaN</td>\n",
       "    </tr>\n",
       "    <tr>\n",
       "      <th>1</th>\n",
       "      <td>민선</td>\n",
       "      <td>여</td>\n",
       "      <td>25</td>\n",
       "      <td>컴퓨터 공학</td>\n",
       "      <td>C</td>\n",
       "      <td>중</td>\n",
       "      <td>1년</td>\n",
       "    </tr>\n",
       "    <tr>\n",
       "      <th>2</th>\n",
       "      <td>민선</td>\n",
       "      <td>여</td>\n",
       "      <td>25</td>\n",
       "      <td>컴퓨터 공학</td>\n",
       "      <td>Java</td>\n",
       "      <td>하</td>\n",
       "      <td>1년</td>\n",
       "    </tr>\n",
       "    <tr>\n",
       "      <th>3</th>\n",
       "      <td>민선</td>\n",
       "      <td>여</td>\n",
       "      <td>25</td>\n",
       "      <td>컴퓨터 공학</td>\n",
       "      <td>C++</td>\n",
       "      <td>하</td>\n",
       "      <td>6개월</td>\n",
       "    </tr>\n",
       "    <tr>\n",
       "      <th>4</th>\n",
       "      <td>상민</td>\n",
       "      <td>남</td>\n",
       "      <td>30</td>\n",
       "      <td>전자 공학</td>\n",
       "      <td>C</td>\n",
       "      <td>하</td>\n",
       "      <td>6개월</td>\n",
       "    </tr>\n",
       "    <tr>\n",
       "      <th>5</th>\n",
       "      <td>상민</td>\n",
       "      <td>남</td>\n",
       "      <td>30</td>\n",
       "      <td>전자 공학</td>\n",
       "      <td>C++</td>\n",
       "      <td>하</td>\n",
       "      <td>6개월</td>\n",
       "    </tr>\n",
       "    <tr>\n",
       "      <th>6</th>\n",
       "      <td>세중</td>\n",
       "      <td>남</td>\n",
       "      <td>30</td>\n",
       "      <td>정치외교</td>\n",
       "      <td>NaN</td>\n",
       "      <td>NaN</td>\n",
       "      <td>NaN</td>\n",
       "    </tr>\n",
       "    <tr>\n",
       "      <th>7</th>\n",
       "      <td>규동</td>\n",
       "      <td>남</td>\n",
       "      <td>29</td>\n",
       "      <td>천문우주과학</td>\n",
       "      <td>Java</td>\n",
       "      <td>중</td>\n",
       "      <td>2년 6개월</td>\n",
       "    </tr>\n",
       "    <tr>\n",
       "      <th>8</th>\n",
       "      <td>규동</td>\n",
       "      <td>남</td>\n",
       "      <td>29</td>\n",
       "      <td>천문우주과학</td>\n",
       "      <td>Ruby</td>\n",
       "      <td>중하</td>\n",
       "      <td>6개월</td>\n",
       "    </tr>\n",
       "    <tr>\n",
       "      <th>9</th>\n",
       "      <td>치우</td>\n",
       "      <td>남</td>\n",
       "      <td>30</td>\n",
       "      <td>신문방송학</td>\n",
       "      <td>NaN</td>\n",
       "      <td>NaN</td>\n",
       "      <td>NaN</td>\n",
       "    </tr>\n",
       "    <tr>\n",
       "      <th>10</th>\n",
       "      <td>현기</td>\n",
       "      <td>남</td>\n",
       "      <td>28</td>\n",
       "      <td>통계빅데이터</td>\n",
       "      <td>sas</td>\n",
       "      <td>중</td>\n",
       "      <td>1년</td>\n",
       "    </tr>\n",
       "    <tr>\n",
       "      <th>11</th>\n",
       "      <td>현기</td>\n",
       "      <td>남</td>\n",
       "      <td>28</td>\n",
       "      <td>통계빅데이터</td>\n",
       "      <td>R</td>\n",
       "      <td>하</td>\n",
       "      <td>1년</td>\n",
       "    </tr>\n",
       "    <tr>\n",
       "      <th>12</th>\n",
       "      <td>정헌</td>\n",
       "      <td>남</td>\n",
       "      <td>30</td>\n",
       "      <td>전자 공학</td>\n",
       "      <td>C</td>\n",
       "      <td>중</td>\n",
       "      <td>1년</td>\n",
       "    </tr>\n",
       "    <tr>\n",
       "      <th>13</th>\n",
       "      <td>정헌</td>\n",
       "      <td>남</td>\n",
       "      <td>30</td>\n",
       "      <td>전자 공학</td>\n",
       "      <td>Verilog</td>\n",
       "      <td>하</td>\n",
       "      <td>3개월</td>\n",
       "    </tr>\n",
       "  </tbody>\n",
       "</table>\n",
       "</div>"
      ],
      "text/plain": [
       "    이름 성별  나이      전공    컴퓨터언어   레벨    사용기간\n",
       "0   영호  남  45     경영학      NaN  NaN     NaN\n",
       "1   민선  여  25  컴퓨터 공학        C    중      1년\n",
       "2   민선  여  25  컴퓨터 공학     Java    하      1년\n",
       "3   민선  여  25  컴퓨터 공학      C++    하     6개월\n",
       "4   상민  남  30   전자 공학        C    하     6개월\n",
       "5   상민  남  30   전자 공학      C++    하     6개월\n",
       "6   세중  남  30    정치외교      NaN  NaN     NaN\n",
       "7   규동  남  29  천문우주과학     Java    중  2년 6개월\n",
       "8   규동  남  29  천문우주과학     Ruby   중하     6개월\n",
       "9   치우  남  30   신문방송학      NaN  NaN     NaN\n",
       "10  현기  남  28  통계빅데이터      sas    중      1년\n",
       "11  현기  남  28  통계빅데이터        R    하      1년\n",
       "12  정헌  남  30   전자 공학        C    중      1년\n",
       "13  정헌  남  30   전자 공학  Verilog    하     3개월"
      ]
     },
     "execution_count": 269,
     "metadata": {},
     "output_type": "execute_result"
    }
   ],
   "source": [
    "df = pd.read_csv('students_info.csv', encoding = 'cp949')\n",
    "df"
   ]
  },
  {
   "cell_type": "code",
   "execution_count": 270,
   "id": "55ff888e",
   "metadata": {},
   "outputs": [
    {
     "data": {
      "text/plain": [
       "남    7\n",
       "여    1\n",
       "Name: 성별, dtype: int64"
      ]
     },
     "execution_count": 270,
     "metadata": {},
     "output_type": "execute_result"
    }
   ],
   "source": [
    "df2 = df[['이름','성별']].drop_duplicates()\n",
    "df2['성별'].value_counts()"
   ]
  },
  {
   "cell_type": "code",
   "execution_count": 271,
   "id": "216ef43e",
   "metadata": {
    "scrolled": false
   },
   "outputs": [
    {
     "data": {
      "text/plain": [
       "<function matplotlib.pyplot.show(close=None, block=None)>"
      ]
     },
     "execution_count": 271,
     "metadata": {},
     "output_type": "execute_result"
    },
    {
     "data": {
      "image/png": "[encoded data removed]",
      "text/plain": [
       "<Figure size 640x480 with 1 Axes>"
      ]
     },
     "metadata": {},
     "output_type": "display_data"
    }
   ],
   "source": [
    "label_list = ['남','여']\n",
    "explode = [0, 0.10]\n",
    "plt.pie(df2['성별'].value_counts(), labels = label_list,autopct='%.1f%%', explode = explode )\n",
    "plt.show"
   ]
  },
  {
   "cell_type": "code",
   "execution_count": 272,
   "id": "94063905",
   "metadata": {
    "scrolled": true
   },
   "outputs": [
    {
     "data": {
      "text/html": [
       "<div>\n",
       "<style scoped>\n",
       "    .dataframe tbody tr th:only-of-type {\n",
       "        vertical-align: middle;\n",
       "    }\n",
       "\n",
       "    .dataframe tbody tr th {\n",
       "        vertical-align: top;\n",
       "    }\n",
       "\n",
       "    .dataframe thead th {\n",
       "        text-align: right;\n",
       "    }\n",
       "</style>\n",
       "<table border=\"1\" class=\"dataframe\">\n",
       "  <thead>\n",
       "    <tr style=\"text-align: right;\">\n",
       "      <th></th>\n",
       "      <th>나이</th>\n",
       "      <th>컴퓨터언어</th>\n",
       "    </tr>\n",
       "  </thead>\n",
       "  <tbody>\n",
       "    <tr>\n",
       "      <th>0</th>\n",
       "      <td>45</td>\n",
       "      <td>NaN</td>\n",
       "    </tr>\n",
       "    <tr>\n",
       "      <th>1</th>\n",
       "      <td>25</td>\n",
       "      <td>C</td>\n",
       "    </tr>\n",
       "    <tr>\n",
       "      <th>4</th>\n",
       "      <td>30</td>\n",
       "      <td>C</td>\n",
       "    </tr>\n",
       "    <tr>\n",
       "      <th>6</th>\n",
       "      <td>30</td>\n",
       "      <td>NaN</td>\n",
       "    </tr>\n",
       "    <tr>\n",
       "      <th>7</th>\n",
       "      <td>29</td>\n",
       "      <td>Java</td>\n",
       "    </tr>\n",
       "    <tr>\n",
       "      <th>9</th>\n",
       "      <td>30</td>\n",
       "      <td>NaN</td>\n",
       "    </tr>\n",
       "    <tr>\n",
       "      <th>10</th>\n",
       "      <td>28</td>\n",
       "      <td>sas</td>\n",
       "    </tr>\n",
       "    <tr>\n",
       "      <th>12</th>\n",
       "      <td>30</td>\n",
       "      <td>C</td>\n",
       "    </tr>\n",
       "  </tbody>\n",
       "</table>\n",
       "</div>"
      ],
      "text/plain": [
       "    나이 컴퓨터언어\n",
       "0   45   NaN\n",
       "1   25     C\n",
       "4   30     C\n",
       "6   30   NaN\n",
       "7   29  Java\n",
       "9   30   NaN\n",
       "10  28   sas\n",
       "12  30     C"
      ]
     },
     "execution_count": 272,
     "metadata": {},
     "output_type": "execute_result"
    }
   ],
   "source": [
    "df = df.drop_duplicates('이름')\n",
    "df3 = df[['나이','컴퓨터언어']]\n",
    "df3"
   ]
  },
  {
   "cell_type": "code",
   "execution_count": 273,
   "id": "e98d2588",
   "metadata": {},
   "outputs": [
    {
     "data": {
      "text/plain": [
       "True     5\n",
       "False    3\n",
       "Name: 컴퓨터언어, dtype: int64"
      ]
     },
     "execution_count": 273,
     "metadata": {},
     "output_type": "execute_result"
    }
   ],
   "source": [
    "df3['컴퓨터언어'].notnull().value_counts()"
   ]
  },
  {
   "cell_type": "code",
   "execution_count": 274,
   "id": "29ea9abd",
   "metadata": {},
   "outputs": [
    {
     "data": {
      "text/plain": [
       "<function matplotlib.pyplot.show(close=None, block=None)>"
      ]
     },
     "execution_count": 274,
     "metadata": {},
     "output_type": "execute_result"
    },
    {
     "data": {
      "image/png": "[encoded data removed]",
      "text/plain": [
       "<Figure size 640x480 with 1 Axes>"
      ]
     },
     "metadata": {},
     "output_type": "display_data"
    }
   ],
   "source": [
    "label_list = ['경험자','비경험자']\n",
    "explode = [0, 0.10]\n",
    "plt.pie(df3['컴퓨터언어'].notnull().value_counts(), labels = label_list,autopct='%.1f%%', explode = explode )\n",
    "plt.show"
   ]
  },
  {
   "cell_type": "code",
   "execution_count": 275,
   "id": "afe690c6",
   "metadata": {
    "scrolled": true
   },
   "outputs": [
    {
     "data": {
      "text/html": [
       "<div>\n",
       "<style scoped>\n",
       "    .dataframe tbody tr th:only-of-type {\n",
       "        vertical-align: middle;\n",
       "    }\n",
       "\n",
       "    .dataframe tbody tr th {\n",
       "        vertical-align: top;\n",
       "    }\n",
       "\n",
       "    .dataframe thead th {\n",
       "        text-align: right;\n",
       "    }\n",
       "</style>\n",
       "<table border=\"1\" class=\"dataframe\">\n",
       "  <thead>\n",
       "    <tr style=\"text-align: right;\">\n",
       "      <th></th>\n",
       "      <th>나이</th>\n",
       "      <th>컴퓨터언어</th>\n",
       "    </tr>\n",
       "  </thead>\n",
       "  <tbody>\n",
       "    <tr>\n",
       "      <th>0</th>\n",
       "      <td>45</td>\n",
       "      <td>NaN</td>\n",
       "    </tr>\n",
       "    <tr>\n",
       "      <th>1</th>\n",
       "      <td>25</td>\n",
       "      <td>C</td>\n",
       "    </tr>\n",
       "    <tr>\n",
       "      <th>4</th>\n",
       "      <td>30</td>\n",
       "      <td>C</td>\n",
       "    </tr>\n",
       "    <tr>\n",
       "      <th>6</th>\n",
       "      <td>30</td>\n",
       "      <td>NaN</td>\n",
       "    </tr>\n",
       "    <tr>\n",
       "      <th>7</th>\n",
       "      <td>29</td>\n",
       "      <td>Java</td>\n",
       "    </tr>\n",
       "    <tr>\n",
       "      <th>9</th>\n",
       "      <td>30</td>\n",
       "      <td>NaN</td>\n",
       "    </tr>\n",
       "    <tr>\n",
       "      <th>10</th>\n",
       "      <td>28</td>\n",
       "      <td>sas</td>\n",
       "    </tr>\n",
       "    <tr>\n",
       "      <th>12</th>\n",
       "      <td>30</td>\n",
       "      <td>C</td>\n",
       "    </tr>\n",
       "  </tbody>\n",
       "</table>\n",
       "</div>"
      ],
      "text/plain": [
       "    나이 컴퓨터언어\n",
       "0   45   NaN\n",
       "1   25     C\n",
       "4   30     C\n",
       "6   30   NaN\n",
       "7   29  Java\n",
       "9   30   NaN\n",
       "10  28   sas\n",
       "12  30     C"
      ]
     },
     "execution_count": 275,
     "metadata": {},
     "output_type": "execute_result"
    }
   ],
   "source": [
    "df3"
   ]
  },
  {
   "cell_type": "code",
   "execution_count": 276,
   "id": "b24bab23",
   "metadata": {},
   "outputs": [],
   "source": [
    "def age(x):\n",
    "    if x < 50 and x >= 40:\n",
    "        x = 40\n",
    "    elif x < 40 and x >= 30:\n",
    "        x = 30\n",
    "    elif x < 30  and x >= 20:\n",
    "        x = 20\n",
    "    else:\n",
    "        x = 10\n",
    "    return x"
   ]
  },
  {
   "cell_type": "code",
   "execution_count": 277,
   "id": "afb84122",
   "metadata": {},
   "outputs": [
    {
     "data": {
      "text/html": [
       "<div>\n",
       "<style scoped>\n",
       "    .dataframe tbody tr th:only-of-type {\n",
       "        vertical-align: middle;\n",
       "    }\n",
       "\n",
       "    .dataframe tbody tr th {\n",
       "        vertical-align: top;\n",
       "    }\n",
       "\n",
       "    .dataframe thead th {\n",
       "        text-align: right;\n",
       "    }\n",
       "</style>\n",
       "<table border=\"1\" class=\"dataframe\">\n",
       "  <thead>\n",
       "    <tr style=\"text-align: right;\">\n",
       "      <th></th>\n",
       "      <th>나이</th>\n",
       "      <th>컴퓨터언어</th>\n",
       "    </tr>\n",
       "  </thead>\n",
       "  <tbody>\n",
       "    <tr>\n",
       "      <th>0</th>\n",
       "      <td>40</td>\n",
       "      <td>NaN</td>\n",
       "    </tr>\n",
       "    <tr>\n",
       "      <th>1</th>\n",
       "      <td>20</td>\n",
       "      <td>C</td>\n",
       "    </tr>\n",
       "    <tr>\n",
       "      <th>4</th>\n",
       "      <td>30</td>\n",
       "      <td>C</td>\n",
       "    </tr>\n",
       "    <tr>\n",
       "      <th>6</th>\n",
       "      <td>30</td>\n",
       "      <td>NaN</td>\n",
       "    </tr>\n",
       "    <tr>\n",
       "      <th>7</th>\n",
       "      <td>20</td>\n",
       "      <td>Java</td>\n",
       "    </tr>\n",
       "    <tr>\n",
       "      <th>9</th>\n",
       "      <td>30</td>\n",
       "      <td>NaN</td>\n",
       "    </tr>\n",
       "    <tr>\n",
       "      <th>10</th>\n",
       "      <td>20</td>\n",
       "      <td>sas</td>\n",
       "    </tr>\n",
       "    <tr>\n",
       "      <th>12</th>\n",
       "      <td>30</td>\n",
       "      <td>C</td>\n",
       "    </tr>\n",
       "  </tbody>\n",
       "</table>\n",
       "</div>"
      ],
      "text/plain": [
       "    나이 컴퓨터언어\n",
       "0   40   NaN\n",
       "1   20     C\n",
       "4   30     C\n",
       "6   30   NaN\n",
       "7   20  Java\n",
       "9   30   NaN\n",
       "10  20   sas\n",
       "12  30     C"
      ]
     },
     "execution_count": 277,
     "metadata": {},
     "output_type": "execute_result"
    }
   ],
   "source": [
    "df4 = df3.copy()\n",
    "df4['나이'] = df3['나이'].apply(age)\n",
    "df4"
   ]
  },
  {
   "cell_type": "code",
   "execution_count": 283,
   "id": "5494909a",
   "metadata": {},
   "outputs": [
    {
     "data": {
      "text/plain": [
       "30    4\n",
       "20    3\n",
       "40    1\n",
       "Name: 나이, dtype: int64"
      ]
     },
     "execution_count": 283,
     "metadata": {},
     "output_type": "execute_result"
    }
   ],
   "source": [
    "df4['나이'].value_counts()"
   ]
  },
  {
   "cell_type": "code",
   "execution_count": 284,
   "id": "2b31043a",
   "metadata": {},
   "outputs": [
    {
     "data": {
      "text/plain": [
       "<function matplotlib.pyplot.show(close=None, block=None)>"
      ]
     },
     "execution_count": 284,
     "metadata": {},
     "output_type": "execute_result"
    },
    {
     "data": {
      "image/png": "[encoded data removed]",
      "text/plain": [
       "<Figure size 640x480 with 1 Axes>"
      ]
     },
     "metadata": {},
     "output_type": "display_data"
    }
   ],
   "source": [
    "label_list = ['30대','20대','40대']\n",
    "explode = [0.10, 0, 0]\n",
    "plt.pie(df4['나이'].value_counts(), labels = label_list, autopct = '%.1f%%', explode = explode )\n",
    "plt.show"
   ]
  },
  {
   "cell_type": "code",
   "execution_count": null,
   "id": "fff62a84",
   "metadata": {},
   "outputs": [],
   "source": []
  }
 ],
 "metadata": {
  "kernelspec": {
   "display_name": "Python 3 (ipykernel)",
   "language": "python",
   "name": "python3"
  },
  "language_info": {
   "codemirror_mode": {
    "name": "ipython",
    "version": 3
   },
   "file_extension": ".py",
   "mimetype": "text/x-python",
   "name": "python",
   "nbconvert_exporter": "python",
   "pygments_lexer": "ipython3",
   "version": "3.9.13"
  }
 },
 "nbformat": 4,
 "nbformat_minor": 5
}
