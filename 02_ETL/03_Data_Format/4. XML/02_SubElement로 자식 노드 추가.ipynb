{
 "cells": [
  {
   "cell_type": "code",
   "execution_count": 7,
   "id": "d52da0df",
   "metadata": {},
   "outputs": [
    {
     "name": "stdout",
     "output_type": "stream",
     "text": [
      "<note><to>Tove</to></note>\n"
     ]
    }
   ],
   "source": [
    "from xml.etree.ElementTree import Element,dump, SubElement\n",
    "\n",
    "note = Element('note')\n",
    "\n",
    "to = Element('to')\n",
    "to.text =\"Tove\"\n",
    "note.append(to)\n",
    "dump(note)"
   ]
  },
  {
   "cell_type": "code",
   "execution_count": 8,
   "id": "be96f009",
   "metadata": {},
   "outputs": [
    {
     "name": "stdout",
     "output_type": "stream",
     "text": [
      "<note><to>Tove</to><from>Jani</from></note>\n"
     ]
    }
   ],
   "source": [
    "SubElement(note,\"from\").text=\"Jani\" #SubElement를 활용하여 자식 노드 추가\n",
    "# SubElement(부모노드,자식노드이름).텍스트속성 = 'Jani'\n",
    "dump(note)"
   ]
  },
  {
   "cell_type": "code",
   "execution_count": 9,
   "id": "d5074961",
   "metadata": {},
   "outputs": [],
   "source": [
    "# 아래와 동일한 결과이다.\n",
    "from_tag = Element(\"from2\")\n",
    "from_tag.text = \"Jani2\"\n",
    "note.append(from_tag)"
   ]
  },
  {
   "cell_type": "code",
   "execution_count": 10,
   "id": "a3186b5b",
   "metadata": {},
   "outputs": [
    {
     "name": "stdout",
     "output_type": "stream",
     "text": [
      "<note><to>Tove</to><from>Jani</from><from2>Jani2</from2></note>\n"
     ]
    }
   ],
   "source": [
    "dump(note)"
   ]
  },
  {
   "cell_type": "markdown",
   "id": "338a2085",
   "metadata": {},
   "source": [
    "# 연습"
   ]
  },
  {
   "cell_type": "code",
   "execution_count": 11,
   "id": "8df539e1",
   "metadata": {},
   "outputs": [
    {
     "name": "stdout",
     "output_type": "stream",
     "text": [
      "<note><to>Tove</to><from>Jani</from><from2>Jani2</from2><dust>anja</dust></note>\n"
     ]
    }
   ],
   "source": [
    "tag = Element('dust')\n",
    "tag.text = 'anja'\n",
    "note.append(tag)\n",
    "dump(note)"
   ]
  },
  {
   "cell_type": "code",
   "execution_count": 13,
   "id": "86f98f99",
   "metadata": {},
   "outputs": [
    {
     "name": "stdout",
     "output_type": "stream",
     "text": [
      "<note><to>Tove</to><from>Jani</from><from2>Jani2</from2><dust>anja</dust><flex>joly</flex><flex>joly</flex></note>\n"
     ]
    }
   ],
   "source": [
    "SubElement(note,'flex').text = 'joly'\n",
    "dump(note)"
   ]
  },
  {
   "cell_type": "code",
   "execution_count": null,
   "id": "6fa27336",
   "metadata": {},
   "outputs": [],
   "source": []
  }
 ],
 "metadata": {
  "kernelspec": {
   "display_name": "Python 3 (ipykernel)",
   "language": "python",
   "name": "python3"
  },
  "language_info": {
   "codemirror_mode": {
    "name": "ipython",
    "version": 3
   },
   "file_extension": ".py",
   "mimetype": "text/x-python",
   "name": "python",
   "nbconvert_exporter": "python",
   "pygments_lexer": "ipython3",
   "version": "3.9.13"
  }
 },
 "nbformat": 4,
 "nbformat_minor": 5
}
