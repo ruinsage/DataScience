{
 "cells": [
  {
   "cell_type": "markdown",
   "id": "d7029196",
   "metadata": {},
   "source": [
    "# 비 정규식 풀이"
   ]
  },
  {
   "cell_type": "raw",
   "id": "cfcba0e8",
   "metadata": {},
   "source": [
    "문제] 아래 문자열에서 주민등록번호 뒤 7자리를 ******* 로 변경 할 것\n",
    "park 800905-1049118\n",
    "kim 700905-1059119\n",
    "\n",
    "예) \n",
    "park 800905-*******\n",
    "kim 700905-*******\n",
    "\n",
    "제한시간 5분"
   ]
  },
  {
   "cell_type": "code",
   "execution_count": 4,
   "id": "c1e4a3b8",
   "metadata": {},
   "outputs": [],
   "source": [
    "data = \"\"\"\n",
    "    park 800905-1049118\n",
    "    kim 700905-1059119\n",
    "    \"\"\""
   ]
  },
  {
   "cell_type": "code",
   "execution_count": 5,
   "id": "43943389",
   "metadata": {},
   "outputs": [
    {
     "name": "stdout",
     "output_type": "stream",
     "text": [
      "\n",
      "    park 800905-*******\n",
      "    kim 700905-*******\n",
      "    \n"
     ]
    }
   ],
   "source": [
    "result = []\n",
    "for line in data.split(\"\\n\"):\n",
    "    word_result = []\n",
    "\n",
    "    for word in line.split(\" \"):\n",
    "        if len(word) == 14 and word[:6].isdigit() and word[7:].isdigit():\n",
    "            word = word[:6]+\"-\"+\"*******\"\n",
    "        word_result.append(word)\n",
    "\n",
    "    result.append(\" \".join(word_result))\n",
    "\n",
    "print(\"\\n\".join(result))"
   ]
  },
  {
   "cell_type": "markdown",
   "id": "b9571e62",
   "metadata": {},
   "source": [
    "# 정규식 풀이"
   ]
  },
  {
   "cell_type": "code",
   "execution_count": 6,
   "id": "b16b3649",
   "metadata": {},
   "outputs": [],
   "source": [
    "import re"
   ]
  },
  {
   "cell_type": "code",
   "execution_count": 7,
   "id": "78c0d615",
   "metadata": {},
   "outputs": [
    {
     "name": "stdout",
     "output_type": "stream",
     "text": [
      "\n",
      "    park 800905-1049118\n",
      "    kim 700905-1059119\n",
      "    \n"
     ]
    }
   ],
   "source": [
    "pat = re.compile(\"(Wd{6})[-]Wd{7}\")\n",
    "print(pat.sub(\"Wg<1>-*******\",data))"
   ]
  },
  {
   "cell_type": "code",
   "execution_count": 8,
   "id": "6ca8d850",
   "metadata": {},
   "outputs": [],
   "source": [
    "# 정규식을 사용하면 코드가 한줄로 줄어든다"
   ]
  },
  {
   "cell_type": "markdown",
   "id": "bea6b413",
   "metadata": {},
   "source": [
    "---"
   ]
  },
  {
   "cell_type": "markdown",
   "id": "68cb071e",
   "metadata": {},
   "source": [
    "## 파이썬에서 정규식 적요하는 방식"
   ]
  },
  {
   "cell_type": "code",
   "execution_count": 9,
   "id": "60a6a194",
   "metadata": {},
   "outputs": [
    {
     "data": {
      "text/plain": [
       "<re.Match object; span=(0, 3), match='abc'>"
      ]
     },
     "execution_count": 9,
     "metadata": {},
     "output_type": "execute_result"
    }
   ],
   "source": [
    "pattern = re.compile('abc') # complie 함수 안에 정규 표현식 입력\n",
    "result = pattern.match('abc') # 컴파일한 인스턴스에서 제공하는 함수 안에\n",
    "                              # 검색하고자하는 문자열 원본을 입력한다.\n",
    "result"
   ]
  },
  {
   "cell_type": "raw",
   "id": "f1a7e1a5",
   "metadata": {},
   "source": [
    "<re.Match object; span=(0, 3), match='abc'> <= 검색결과는 Match 오브젝트로 반환한다.\n",
    "span 속성은 매치되는 인덱스 정보를 튜플로 반환한다. (시작인덱스,끝인덱스)\n",
    "match 속성에 매치되는 문자열을 반환한다."
   ]
  },
  {
   "cell_type": "code",
   "execution_count": 12,
   "id": "592e2b79",
   "metadata": {},
   "outputs": [],
   "source": [
    "pattern = re.compile('abc') \n",
    "result = pattern.match('ab') \n",
    "result  # 매치가 되지 않은 경우에는 None을 반환한다.\n",
    "        # 하지만 주피터에서는 None은 출력되지 않는다."
   ]
  },
  {
   "cell_type": "code",
   "execution_count": null,
   "id": "a42126cb",
   "metadata": {},
   "outputs": [],
   "source": [
    "# print(result) # 명시적으로 None 결과를 확인하기 위해 print함수를 사용한다."
   ]
  },
  {
   "cell_type": "markdown",
   "id": "9385e103",
   "metadata": {},
   "source": [
    "---"
   ]
  },
  {
   "cell_type": "markdown",
   "id": "f2327ca2",
   "metadata": {},
   "source": [
    "# 문자 클래스"
   ]
  },
  {
   "cell_type": "markdown",
   "id": "c9a5064d",
   "metadata": {},
   "source": [
    "* 문자 클래스로 만들어진 정규식은 \"[ ] 사이의 문자들과 매치\"라는 의미\n",
    "* 정규 표현식이 [abc]라면 이 표현식의 의미는 \"a, b, c 중 한 개의 문자와 매치\""
   ]
  },
  {
   "cell_type": "code",
   "execution_count": 14,
   "id": "0b725356",
   "metadata": {},
   "outputs": [],
   "source": [
    "pattern = re.compile('abc')\n",
    "match_result = pattern.match('a') # 원본이 a인데 여기에 abc문자가 있는지 검색\n",
    "match_result"
   ]
  },
  {
   "cell_type": "code",
   "execution_count": 16,
   "id": "bd0fc55e",
   "metadata": {},
   "outputs": [
    {
     "data": {
      "text/plain": [
       "<re.Match object; span=(0, 1), match='a'>"
      ]
     },
     "execution_count": 16,
     "metadata": {},
     "output_type": "execute_result"
    }
   ],
   "source": [
    "pattern = re.compile('[abc]')\n",
    "match_result = pattern.match('a')\n",
    "# 원본이 a인데 여기에 abc중 하나의 문자가 있는지 검색\n",
    "match_result"
   ]
  },
  {
   "cell_type": "code",
   "execution_count": 17,
   "id": "e0837067",
   "metadata": {},
   "outputs": [
    {
     "data": {
      "text/plain": [
       "<re.Match object; span=(0, 1), match='a'>"
      ]
     },
     "execution_count": 17,
     "metadata": {},
     "output_type": "execute_result"
    }
   ],
   "source": [
    "p = re.compile('[abc]') # 관용적으로 변수명을 p로 사용한다.\n",
    "                        # abc문자중 원본의 첫번째 글자와 매치\n",
    "p.match('a')"
   ]
  },
  {
   "cell_type": "code",
   "execution_count": 18,
   "id": "94222362",
   "metadata": {},
   "outputs": [
    {
     "data": {
      "text/plain": [
       "<re.Match object; span=(0, 1), match='b'>"
      ]
     },
     "execution_count": 18,
     "metadata": {},
     "output_type": "execute_result"
    }
   ],
   "source": [
    "p.match('before')"
   ]
  },
  {
   "cell_type": "code",
   "execution_count": 19,
   "id": "df567336",
   "metadata": {},
   "outputs": [
    {
     "data": {
      "text/plain": [
       "<re.Match object; span=(0, 1), match='c'>"
      ]
     },
     "execution_count": 19,
     "metadata": {},
     "output_type": "execute_result"
    }
   ],
   "source": [
    "p.match('climb') # abc 문자열 중 c와 매치"
   ]
  },
  {
   "cell_type": "code",
   "execution_count": 22,
   "id": "19157a9b",
   "metadata": {},
   "outputs": [],
   "source": [
    "p.match('dumb') # 문자열 클래스는 단 하나의 문자와 매치. 즉 첫글자만 확인\n",
    "                # d는 정규식에서 지정한 패턴에 있지 않아서 매치되지 않음"
   ]
  },
  {
   "cell_type": "code",
   "execution_count": 23,
   "id": "39a18a6e",
   "metadata": {},
   "outputs": [
    {
     "data": {
      "text/plain": [
       "<re.Match object; span=(0, 4), match='dumb'>"
      ]
     },
     "execution_count": 23,
     "metadata": {},
     "output_type": "execute_result"
    }
   ],
   "source": [
    "p = re.compile('dum[abc]') # dum으로 시작하고 네번째 글자가 abc중 하나인 패턴\n",
    "p.match('dumb')"
   ]
  },
  {
   "cell_type": "markdown",
   "id": "7d7d3aa4",
   "metadata": {},
   "source": [
    "## 문자 클래스와 일반 문자 조합"
   ]
  },
  {
   "cell_type": "code",
   "execution_count": 56,
   "id": "9f675e79",
   "metadata": {},
   "outputs": [
    {
     "data": {
      "text/plain": [
       "<re.Match object; span=(0, 2), match='Sa'>"
      ]
     },
     "execution_count": 56,
     "metadata": {},
     "output_type": "execute_result"
    }
   ],
   "source": [
    "p = re.compile('S[abc]')\n",
    "p.match('Sang')"
   ]
  },
  {
   "cell_type": "code",
   "execution_count": 26,
   "id": "3b0e7aca",
   "metadata": {},
   "outputs": [
    {
     "name": "stdout",
     "output_type": "stream",
     "text": [
      "None\n"
     ]
    }
   ],
   "source": [
    "p = re.compile('s[abc]')\n",
    "print(p.match('Sang')) # 정규식은 대소문자를 구분한다."
   ]
  },
  {
   "cell_type": "markdown",
   "id": "bf7e7d42",
   "metadata": {},
   "source": [
    "## 하이픈"
   ]
  },
  {
   "cell_type": "raw",
   "id": "9ccfd27c",
   "metadata": {},
   "source": [
    "[ ] 안의 두 문자 사이에 하이픈(-)을 사용하면 두 문자 사이의 범위(From - To)를 의미\n",
    "예를 들어 [a-c]라는 정규 표현식은 [abc]와 동일하고 [0-5]는 [012345]와 동일"
   ]
  },
  {
   "cell_type": "code",
   "execution_count": 29,
   "id": "a8425426",
   "metadata": {},
   "outputs": [
    {
     "data": {
      "text/plain": [
       "<re.Match object; span=(0, 1), match='a'>"
      ]
     },
     "execution_count": 29,
     "metadata": {},
     "output_type": "execute_result"
    }
   ],
   "source": [
    "p = re.compile('[a-c]')\n",
    "p.match('apple')"
   ]
  },
  {
   "cell_type": "code",
   "execution_count": 31,
   "id": "3139e86a",
   "metadata": {},
   "outputs": [],
   "source": [
    "p.match('Nanayang')"
   ]
  },
  {
   "cell_type": "code",
   "execution_count": 32,
   "id": "47c3e563",
   "metadata": {},
   "outputs": [],
   "source": [
    "p = re.compile('[a-z]')\n",
    "p.match('Nanayang')"
   ]
  },
  {
   "cell_type": "code",
   "execution_count": 33,
   "id": "7a0fae61",
   "metadata": {},
   "outputs": [
    {
     "data": {
      "text/plain": [
       "<re.Match object; span=(0, 1), match='n'>"
      ]
     },
     "execution_count": 33,
     "metadata": {},
     "output_type": "execute_result"
    }
   ],
   "source": [
    "p.match('nanayang')"
   ]
  },
  {
   "cell_type": "code",
   "execution_count": 37,
   "id": "cbea9bcc",
   "metadata": {},
   "outputs": [
    {
     "name": "stdout",
     "output_type": "stream",
     "text": [
      "<re.Match object; span=(0, 1), match='N'>\n",
      "<re.Match object; span=(0, 1), match='n'>\n"
     ]
    }
   ],
   "source": [
    "p = re.compile('[a-zA-Z]') #  모든 알파벳을 표현\n",
    "print(p.match('Nanayang'))\n",
    "print(p.match('nanayang'))"
   ]
  },
  {
   "cell_type": "code",
   "execution_count": 38,
   "id": "1d75989d",
   "metadata": {},
   "outputs": [
    {
     "data": {
      "text/plain": [
       "<re.Match object; span=(0, 1), match='1'>"
      ]
     },
     "execution_count": 38,
     "metadata": {},
     "output_type": "execute_result"
    }
   ],
   "source": [
    "p = re.compile('[1-9]')\n",
    "p.match('1st')"
   ]
  },
  {
   "cell_type": "code",
   "execution_count": 39,
   "id": "5b802185",
   "metadata": {},
   "outputs": [],
   "source": [
    "p.match('first')"
   ]
  },
  {
   "cell_type": "code",
   "execution_count": 40,
   "id": "03d093e9",
   "metadata": {},
   "outputs": [
    {
     "data": {
      "text/plain": [
       "<re.Match object; span=(0, 1), match='2'>"
      ]
     },
     "execution_count": 40,
     "metadata": {},
     "output_type": "execute_result"
    }
   ],
   "source": [
    "p.match('2nd')"
   ]
  },
  {
   "cell_type": "code",
   "execution_count": 41,
   "id": "1e829593",
   "metadata": {},
   "outputs": [
    {
     "data": {
      "text/plain": [
       "<re.Match object; span=(0, 2), match='1s'>"
      ]
     },
     "execution_count": 41,
     "metadata": {},
     "output_type": "execute_result"
    }
   ],
   "source": [
    "# 첫번째는 숫자[1-9](문자클래스)이고 두번째 문자는 소문자 알파벳[a-z](두번째 문자클래스)과 매칭\n",
    "p = re.compile('[1-9][a-z]')\n",
    "p.match('1st')"
   ]
  },
  {
   "cell_type": "markdown",
   "id": "13e8787e",
   "metadata": {},
   "source": [
    "## ^(not) 연산"
   ]
  },
  {
   "cell_type": "markdown",
   "id": "a2306efa",
   "metadata": {},
   "source": [
    "* 문자 클래스 안에 ^ 메타 문자를 사용할 경우에는 반대(not)의 의미\n",
    "* Not의 의미는 문자클래스 안에서 적용하는 문법"
   ]
  },
  {
   "cell_type": "code",
   "execution_count": 44,
   "id": "aaebacc5",
   "metadata": {},
   "outputs": [],
   "source": [
    "p = re.compile('[0-9]')\n",
    "p.match('Good Bye 2022!')"
   ]
  },
  {
   "cell_type": "code",
   "execution_count": 45,
   "id": "c927f0fd",
   "metadata": {},
   "outputs": [
    {
     "data": {
      "text/plain": [
       "<re.Match object; span=(0, 1), match='G'>"
      ]
     },
     "execution_count": 45,
     "metadata": {},
     "output_type": "execute_result"
    }
   ],
   "source": [
    "p = re.compile('[^0-9]')\n",
    "p.match('Good Bye 2022!')"
   ]
  },
  {
   "cell_type": "code",
   "execution_count": 46,
   "id": "1753b607",
   "metadata": {},
   "outputs": [
    {
     "data": {
      "text/plain": [
       "<re.Match object; span=(0, 4), match='Good'>"
      ]
     },
     "execution_count": 46,
     "metadata": {},
     "output_type": "execute_result"
    }
   ],
   "source": [
    "p = re.compile('[^0-9][^0-9][^0-9][^0-9]')\n",
    "p.match('Good Bye 2022!')"
   ]
  },
  {
   "cell_type": "markdown",
   "id": "2b6e91a4",
   "metadata": {},
   "source": [
    "## 자주 사용하는 문자 클래스 표현식"
   ]
  },
  {
   "cell_type": "markdown",
   "id": "5f02ecce",
   "metadata": {},
   "source": [
    "* \\d - 숫자와 매치, [0-9]와 동일한 표현식이다.\n",
    "* \\D - 숫자가 아닌 것과 매치, [^0-9]와 동일한 표현식이다.\n",
    "* \\s - whitespace 문자와 매치, [ \\t\\n\\r\\f\\v]와 동일한 표현식이다. 맨 앞의 빈 칸은 공백문자(space)를 의미한다.\n",
    "* \\S - whitespace 문자가 아닌 것과 매치, [^ \\t\\n\\r\\f\\v]와 동일한 표현식이다.\n",
    "* \\w - 문자+숫자(alphanumeric)와 매치, [a-zA-Z0-9_]와 동일한 표현식이다.\n",
    "* \\W - 문자+숫자(alphanumeric)가 아닌 문자와 매치, [^a-zA-Z0-9_]와 동일한 표현식이다."
   ]
  },
  {
   "cell_type": "code",
   "execution_count": 47,
   "id": "066ef075",
   "metadata": {},
   "outputs": [
    {
     "name": "stdout",
     "output_type": "stream",
     "text": [
      "<re.Match object; span=(0, 1), match='1'>\n",
      "<re.Match object; span=(0, 1), match='5'>\n",
      "None\n"
     ]
    }
   ],
   "source": [
    "p = re.compile('[\\d]')\n",
    "m = p.match('1')\n",
    "print(m)\n",
    "m = p.match('5')\n",
    "print(m)\n",
    "m = p.match('a')\n",
    "print(m)"
   ]
  },
  {
   "cell_type": "code",
   "execution_count": 48,
   "id": "58505ea9",
   "metadata": {},
   "outputs": [
    {
     "name": "stdout",
     "output_type": "stream",
     "text": [
      "None\n",
      "None\n",
      "<re.Match object; span=(0, 1), match='a'>\n"
     ]
    }
   ],
   "source": [
    "p = re.compile('[\\D]')\n",
    "m = p.match('1')\n",
    "print(m)\n",
    "m = p.match('5')\n",
    "print(m)\n",
    "m = p.match('a')\n",
    "print(m)"
   ]
  },
  {
   "cell_type": "code",
   "execution_count": 52,
   "id": "39607cf2",
   "metadata": {},
   "outputs": [
    {
     "name": "stdout",
     "output_type": "stream",
     "text": [
      "None\n",
      "<re.Match object; span=(0, 1), match=' '>\n",
      "<re.Match object; span=(0, 1), match='\\t'>\n",
      "<re.Match object; span=(0, 1), match='\\n'>\n"
     ]
    }
   ],
   "source": [
    "p = re.compile('[\\s]')\n",
    "m = p.match('1')\n",
    "print(m)\n",
    "m = p.match(' 1') # 공백\n",
    "print(m)\n",
    "m = p.match('\\t1') # 탭(\\t)\n",
    "print(m)\n",
    "m = p.match('''\n",
    "            1''') # 엔터(\\n)\n",
    "print(m)"
   ]
  },
  {
   "cell_type": "code",
   "execution_count": 53,
   "id": "b99ab7eb",
   "metadata": {},
   "outputs": [
    {
     "name": "stdout",
     "output_type": "stream",
     "text": [
      "<re.Match object; span=(0, 1), match='1'>\n",
      "None\n",
      "None\n",
      "None\n"
     ]
    }
   ],
   "source": [
    "p = re.compile('[\\S]')\n",
    "m = p.match('1')\n",
    "print(m)\n",
    "m = p.match(' 1') # 공백\n",
    "print(m)\n",
    "m = p.match('\\t1') # 탭(\\t)\n",
    "print(m)\n",
    "m = p.match('''\n",
    "            1''') # 엔터(\\n)\n",
    "print(m)"
   ]
  },
  {
   "cell_type": "code",
   "execution_count": 54,
   "id": "d4f9df27",
   "metadata": {},
   "outputs": [
    {
     "name": "stdout",
     "output_type": "stream",
     "text": [
      "<re.Match object; span=(0, 1), match='1'>\n",
      "<re.Match object; span=(0, 1), match='a'>\n",
      "<re.Match object; span=(0, 1), match='K'>\n",
      "None\n",
      "None\n",
      "None\n"
     ]
    }
   ],
   "source": [
    "p = re.compile('[\\w]')\n",
    "m = p.match('1')\n",
    "print(m)\n",
    "m = p.match('a') \n",
    "print(m)\n",
    "m = p.match('K') \n",
    "print(m)\n",
    "m = p.match('-') \n",
    "print(m)\n",
    "m = p.match('$') \n",
    "print(m)\n",
    "m = p.match(' ') \n",
    "print(m)"
   ]
  },
  {
   "cell_type": "code",
   "execution_count": 55,
   "id": "d273914b",
   "metadata": {},
   "outputs": [
    {
     "name": "stdout",
     "output_type": "stream",
     "text": [
      "None\n",
      "None\n",
      "None\n",
      "<re.Match object; span=(0, 1), match='-'>\n",
      "<re.Match object; span=(0, 1), match='$'>\n",
      "<re.Match object; span=(0, 1), match=' '>\n"
     ]
    }
   ],
   "source": [
    "p = re.compile('[\\W]')\n",
    "m = p.match('1')\n",
    "print(m)\n",
    "m = p.match('a') \n",
    "print(m)\n",
    "m = p.match('K') \n",
    "print(m)\n",
    "m = p.match('-') \n",
    "print(m)\n",
    "m = p.match('$') \n",
    "print(m)\n",
    "m = p.match(' ') \n",
    "print(m)"
   ]
  },
  {
   "cell_type": "code",
   "execution_count": null,
   "id": "997a2f85",
   "metadata": {},
   "outputs": [],
   "source": []
  }
 ],
 "metadata": {
  "kernelspec": {
   "display_name": "Python 3 (ipykernel)",
   "language": "python",
   "name": "python3"
  },
  "language_info": {
   "codemirror_mode": {
    "name": "ipython",
    "version": 3
   },
   "file_extension": ".py",
   "mimetype": "text/x-python",
   "name": "python",
   "nbconvert_exporter": "python",
   "pygments_lexer": "ipython3",
   "version": "3.9.13"
  }
 },
 "nbformat": 4,
 "nbformat_minor": 5
}
