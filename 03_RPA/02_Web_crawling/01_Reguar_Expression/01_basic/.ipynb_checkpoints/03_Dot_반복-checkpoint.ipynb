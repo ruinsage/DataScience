{
 "cells": [
  {
   "cell_type": "markdown",
   "id": "1c3b7fdb",
   "metadata": {},
   "source": [
    "# Dot ."
   ]
  },
  {
   "cell_type": "markdown",
   "id": "28df7971",
   "metadata": {},
   "source": [
    "* 정규 표현식의 Dot(.) 메타 문자는 줄바꿈문자 '\\n'을 제외한 모든 문자와 매치된다\n",
    "* 이 문법은 문자열 클래스에 적용되지는 않는다."
   ]
  },
  {
   "cell_type": "code",
   "execution_count": 23,
   "id": "f59c32d2",
   "metadata": {},
   "outputs": [],
   "source": [
    "import re"
   ]
  },
  {
   "cell_type": "code",
   "execution_count": 6,
   "id": "1bd86db2",
   "metadata": {},
   "outputs": [
    {
     "name": "stdout",
     "output_type": "stream",
     "text": [
      "<re.Match object; span=(0, 3), match='aab'>\n",
      "<re.Match object; span=(0, 3), match='a0b'>\n",
      "None\n"
     ]
    }
   ],
   "source": [
    "p = re.compile('a.b') \n",
    "# 첫번째 글자가 a 두번째글자가 아무문자(\\n 제외) 세번째글자가 b인 표현식\n",
    "m = p.match('aab')\n",
    "print(m)\n",
    "m = p.match('a0b')\n",
    "print(m)\n",
    "m = p.match('abc') # ab 사이에 문자가 있어야 하는데 없으므로 매치되지 않음\n",
    "print(m)"
   ]
  },
  {
   "cell_type": "code",
   "execution_count": 7,
   "id": "e8baf0e2",
   "metadata": {},
   "outputs": [
    {
     "name": "stdout",
     "output_type": "stream",
     "text": [
      "None\n",
      "None\n",
      "None\n",
      "<re.Match object; span=(0, 3), match='a.b'>\n"
     ]
    }
   ],
   "source": [
    "p = re.compile('a[.]b') # 문자 클래스에서 '.'은 하나의 문자 '.'이다.\n",
    "m = p.match('aab')\n",
    "print(m)\n",
    "m = p.match('a0b')\n",
    "print(m)\n",
    "m = p.match('abc') \n",
    "print(m)\n",
    "m = p.match('a.bc')\n",
    "print(m)"
   ]
  },
  {
   "cell_type": "code",
   "execution_count": 8,
   "id": "b100bcd3",
   "metadata": {},
   "outputs": [
    {
     "name": "stdout",
     "output_type": "stream",
     "text": [
      "<re.Match object; span=(0, 7), match='aab.txt'>\n",
      "None\n"
     ]
    }
   ],
   "source": [
    "p = re.compile('a..[.]txt')\n",
    "# 첫번째 글자가 a, 두번째와 세번째 글자는 아무글자, 네번째글자가 . 나머지글자가 txt\n",
    "m = p.match('aab.txt') \n",
    "print(m)\n",
    "m = p.match('a1.txt')\n",
    "print(m)"
   ]
  },
  {
   "cell_type": "code",
   "execution_count": 9,
   "id": "32966f4c",
   "metadata": {},
   "outputs": [
    {
     "name": "stdout",
     "output_type": "stream",
     "text": [
      "<re.Match object; span=(0, 4), match='pen.'>\n",
      "<re.Match object; span=(0, 4), match='pen!'>\n"
     ]
    }
   ],
   "source": [
    "p = re.compile('....')\n",
    "m = p.match('pen.') \n",
    "print(m)\n",
    "m = p.match('pen!')\n",
    "print(m)"
   ]
  },
  {
   "cell_type": "code",
   "execution_count": 10,
   "id": "1dd40d11",
   "metadata": {},
   "outputs": [
    {
     "name": "stdout",
     "output_type": "stream",
     "text": [
      "<re.Match object; span=(0, 4), match='pen.'>\n",
      "None\n"
     ]
    }
   ],
   "source": [
    "p = re.compile('...[.]')\n",
    "m = p.match('pen.') \n",
    "print(m)\n",
    "m = p.match('pen!')\n",
    "print(m)"
   ]
  },
  {
   "cell_type": "markdown",
   "id": "a7f04c2d",
   "metadata": {},
   "source": [
    "---"
   ]
  },
  {
   "cell_type": "markdown",
   "id": "83b329ee",
   "metadata": {},
   "source": [
    "# 반복 (*)"
   ]
  },
  {
   "cell_type": "markdown",
   "id": "444d9d65",
   "metadata": {},
   "source": [
    "* '*'은 바로 앞에 있는 문자가 0(없거나)부터 무한대로 반복되는 패턴  \n",
    "  (하지만 알려진 바로는 반복회수는 메모르 제약사항으로 약 2억개 정도만 가능)"
   ]
  },
  {
   "cell_type": "code",
   "execution_count": 13,
   "id": "31b96e36",
   "metadata": {},
   "outputs": [],
   "source": [
    "p = re.compile('ca*t')"
   ]
  },
  {
   "cell_type": "code",
   "execution_count": 15,
   "id": "193459f4",
   "metadata": {},
   "outputs": [
    {
     "data": {
      "text/plain": [
       "<re.Match object; span=(0, 2), match='ct'>"
      ]
     },
     "execution_count": 15,
     "metadata": {},
     "output_type": "execute_result"
    }
   ],
   "source": [
    "p.match('ct') # 반복이 없는 조건"
   ]
  },
  {
   "cell_type": "code",
   "execution_count": 16,
   "id": "dfd02e09",
   "metadata": {},
   "outputs": [
    {
     "data": {
      "text/plain": [
       "<re.Match object; span=(0, 3), match='cat'>"
      ]
     },
     "execution_count": 16,
     "metadata": {},
     "output_type": "execute_result"
    }
   ],
   "source": [
    "p.match('cat') # 1번 반복되는 조건"
   ]
  },
  {
   "cell_type": "code",
   "execution_count": 17,
   "id": "6250f7b4",
   "metadata": {},
   "outputs": [
    {
     "data": {
      "text/plain": [
       "<re.Match object; span=(0, 10), match='caaaaaaaat'>"
      ]
     },
     "execution_count": 17,
     "metadata": {},
     "output_type": "execute_result"
    }
   ],
   "source": [
    "p.match('caaaaaaaat') # 반복이 많은 조건"
   ]
  },
  {
   "cell_type": "code",
   "execution_count": 19,
   "id": "56f087d2",
   "metadata": {},
   "outputs": [],
   "source": [
    "p.match('caaaaaaaa') # 문자열 마지막에 t가 없으므로 매치되지 않음"
   ]
  },
  {
   "cell_type": "markdown",
   "id": "eda378dc",
   "metadata": {},
   "source": [
    "# 반복(+)"
   ]
  },
  {
   "cell_type": "markdown",
   "id": "4036147b",
   "metadata": {},
   "source": [
    "* '*'은 바로 앞에 있는 문자가 1부터 무한대로 반복되는 패턴  \n",
    "  (하지만 알려진 바로는 반복회수는 메모르 제약사항으로 약 2억개 정도만 가능)"
   ]
  },
  {
   "cell_type": "code",
   "execution_count": 20,
   "id": "90ca68be",
   "metadata": {},
   "outputs": [
    {
     "name": "stdout",
     "output_type": "stream",
     "text": [
      "None\n",
      "<re.Match object; span=(0, 3), match='cat'>\n",
      "<re.Match object; span=(0, 4), match='caat'>\n",
      "<re.Match object; span=(0, 12), match='caaaaaaaaaat'>\n",
      "None\n"
     ]
    }
   ],
   "source": [
    "p = re.compile('ca+t')\n",
    "m = p.match('ct')\n",
    "print(m)\n",
    "m = p.match('cat')\n",
    "print(m)\n",
    "m = p.match('caat')\n",
    "print(m)\n",
    "m = p.match('caaaaaaaaaat')\n",
    "print(m)\n",
    "m = p.match('caaaaaaaaaaa')\n",
    "print(m)"
   ]
  },
  {
   "cell_type": "code",
   "execution_count": 21,
   "id": "475c0b1e",
   "metadata": {},
   "outputs": [
    {
     "name": "stdout",
     "output_type": "stream",
     "text": [
      "None\n",
      "<re.Match object; span=(0, 6), match='google'>\n",
      "<re.Match object; span=(0, 17), match='gooooooooooooogle'>\n"
     ]
    }
   ],
   "source": [
    "p = re.compile('goo+gle')\n",
    "m = p.match('gogle')\n",
    "print(m)\n",
    "m = p.match('google')\n",
    "print(m)\n",
    "m = p.match('gooooooooooooogle')\n",
    "print(m)"
   ]
  },
  {
   "cell_type": "markdown",
   "id": "1f288995",
   "metadata": {},
   "source": [
    "# 반복 {m,n}"
   ]
  },
  {
   "cell_type": "markdown",
   "id": "db6929e6",
   "metadata": {},
   "source": [
    "* {m, n} 정규식을 사용하면 반복 횟수가 m부터 n까지 매치\n",
    "* m 또는 n을 생략할 수도 있다.\n",
    "* 숫자가 하나만 올 경우 반복 횟수를 의미한다.\n",
    "* {3,}처럼 사용하면 반복 횟수가 3 이상인 경우이고 {,3}처럼 사용하면 반복 횟수가 3 이하를 의미\n",
    "* {1,}은 +와 동일하고, {0,}은 *와 동일"
   ]
  },
  {
   "cell_type": "code",
   "execution_count": 25,
   "id": "a520ff53",
   "metadata": {},
   "outputs": [
    {
     "name": "stdout",
     "output_type": "stream",
     "text": [
      "None\n",
      "None\n",
      "<re.Match object; span=(0, 4), match='caat'>\n",
      "None\n"
     ]
    }
   ],
   "source": [
    "p = re.compile('ca{2}t') # a가 2번 반복되는 경우에 매치\n",
    "m = p.match('ct')\n",
    "print(m)\n",
    "m = p.match('cat')\n",
    "print(m)\n",
    "m = p.match('caat')\n",
    "print(m)\n",
    "m = p.match('caaaat')\n",
    "print(m)"
   ]
  },
  {
   "cell_type": "code",
   "execution_count": 26,
   "id": "10312eef",
   "metadata": {},
   "outputs": [
    {
     "name": "stdout",
     "output_type": "stream",
     "text": [
      "None\n",
      "<re.Match object; span=(0, 4), match='caat'>\n",
      "<re.Match object; span=(0, 6), match='caaaat'>\n",
      "<re.Match object; span=(0, 7), match='caaaaat'>\n"
     ]
    }
   ],
   "source": [
    "p = re.compile('ca{2,5}t') # a가 2~5 사이의 반복되는 경우에 매치\n",
    "m = p.match('ct')\n",
    "print(m)\n",
    "m = p.match('caat')\n",
    "print(m)\n",
    "m = p.match('caaaat')\n",
    "print(m)\n",
    "m = p.match('caaaaat')\n",
    "print(m)"
   ]
  },
  {
   "cell_type": "code",
   "execution_count": 27,
   "id": "d6ff2ee3",
   "metadata": {},
   "outputs": [
    {
     "name": "stdout",
     "output_type": "stream",
     "text": [
      "None\n",
      "<re.Match object; span=(0, 4), match='caat'>\n",
      "<re.Match object; span=(0, 6), match='caaaat'>\n",
      "<re.Match object; span=(0, 8), match='caaaaaat'>\n",
      "<re.Match object; span=(0, 17), match='caaaaaaaaaaaaaaat'>\n"
     ]
    }
   ],
   "source": [
    "p = re.compile('ca{2,}t') # a가 2이상 반복되는 경우에 매치\n",
    "m = p.match('cat')\n",
    "print(m)\n",
    "m = p.match('caat')\n",
    "print(m)\n",
    "m = p.match('caaaat')\n",
    "print(m)\n",
    "m = p.match('caaaaaat')\n",
    "print(m)\n",
    "m = p.match('caaaaaaaaaaaaaaat')\n",
    "print(m)"
   ]
  },
  {
   "cell_type": "code",
   "execution_count": 30,
   "id": "fb5668a6",
   "metadata": {},
   "outputs": [
    {
     "name": "stdout",
     "output_type": "stream",
     "text": [
      "<re.Match object; span=(0, 2), match='ct'>\n",
      "<re.Match object; span=(0, 4), match='caat'>\n",
      "<re.Match object; span=(0, 5), match='caaat'>\n",
      "<re.Match object; span=(0, 7), match='caaaaat'>\n",
      "None\n"
     ]
    }
   ],
   "source": [
    "p = re.compile('ca{,5}t') # a가 5 이하로 반복되는 경우에 매치\n",
    "m = p.match('ct') # 이하의 조건이므로 a가 0번 반복되는 경우도 만족\n",
    "print(m)\n",
    "m = p.match('caat')\n",
    "print(m)\n",
    "m = p.match('caaat')\n",
    "print(m)\n",
    "m = p.match('caaaaat')\n",
    "print(m)\n",
    "m = p.match('caaaaaaaaaaaaat')\n",
    "print(m)"
   ]
  },
  {
   "cell_type": "markdown",
   "id": "49775a21",
   "metadata": {},
   "source": [
    "# 선택사항?"
   ]
  },
  {
   "cell_type": "markdown",
   "id": "5f4f1493",
   "metadata": {},
   "source": [
    "* ?메타문자가 의미하는 것은 {0,1}"
   ]
  },
  {
   "cell_type": "code",
   "execution_count": 33,
   "id": "8d736a29",
   "metadata": {},
   "outputs": [
    {
     "name": "stdout",
     "output_type": "stream",
     "text": [
      "<re.Match object; span=(0, 2), match='ac'>\n",
      "<re.Match object; span=(0, 3), match='abc'>\n",
      "None\n",
      "None\n",
      "<re.Match object; span=(0, 3), match='abc'>\n"
     ]
    }
   ],
   "source": [
    "p = re.compile('ab?c')\n",
    "# 첫번째 글자가 a 두번째글자는 b이거나 아닌 경우 그 다음 글자가 c (반드시 3번째는 아님)\n",
    "m = p.match('ac') # 문자열중 정규식에 일치하는 ac만 매치\n",
    "print(m)\n",
    "m = p.match('abc') \n",
    "print(m)\n",
    "m = p.match('abbc') # b가 매치 되었다면 다음 글자는 c가 와야하므로 매치 안됨\n",
    "print(m)\n",
    "m = p.match('abbbbc') # b가 매치 되었다면 다음 글자는 c가 와야하므로 매치 안됨\n",
    "print(m)\n",
    "m = p.match('abcd') # 문자열중 정규식에 일치하는 abc만 매치\n",
    "print(m)"
   ]
  },
  {
   "cell_type": "code",
   "execution_count": null,
   "id": "d0c49f8c",
   "metadata": {},
   "outputs": [],
   "source": []
  }
 ],
 "metadata": {
  "kernelspec": {
   "display_name": "Python 3 (ipykernel)",
   "language": "python",
   "name": "python3"
  },
  "language_info": {
   "codemirror_mode": {
    "name": "ipython",
    "version": 3
   },
   "file_extension": ".py",
   "mimetype": "text/x-python",
   "name": "python",
   "nbconvert_exporter": "python",
   "pygments_lexer": "ipython3",
   "version": "3.9.13"
  }
 },
 "nbformat": 4,
 "nbformat_minor": 5
}
