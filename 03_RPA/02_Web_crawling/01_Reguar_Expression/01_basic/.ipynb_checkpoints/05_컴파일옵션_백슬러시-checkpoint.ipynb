{
 "cells": [
  {
   "cell_type": "markdown",
   "id": "cb1dd8ab",
   "metadata": {},
   "source": [
    "# 정규식을 컴파일할 경우 다음 옵션을 사용할 수 있다.  \n",
    "* DOTALL(S) - . 이 줄바꿈 문자를 포함하여 모든 문자와 매치할 수 있도록 한다.\n",
    "* IGNORECASE(I) - 대소문자에 관계없이 매치할 수 있도록 한다.\n",
    "* MULTILINE(M) - 여러줄과 매치할 수 있도록 한다. (^, $ 메타문자의 사용과 관계가 있는 옵션이다)\n",
    "* VERBOSE(X) - verbose 모드를 사용할 수 있도록 한다. (정규식을 보기 편하게 만들수 있고 주석등을 사용할 수 있게된다.)"
   ]
  },
  {
   "cell_type": "markdown",
   "id": "4607b822",
   "metadata": {},
   "source": [
    "# DOTALL(S)"
   ]
  },
  {
   "cell_type": "code",
   "execution_count": 2,
   "id": "e6a670f8",
   "metadata": {},
   "outputs": [],
   "source": [
    "import re"
   ]
  },
  {
   "cell_type": "code",
   "execution_count": 3,
   "id": "825c6a40",
   "metadata": {},
   "outputs": [
    {
     "name": "stdout",
     "output_type": "stream",
     "text": [
      "None\n"
     ]
    }
   ],
   "source": [
    "original_text = \"\"\"a\n",
    "b\"\"\"\n",
    "p = re.compile('a.b')           # <= .은 모든 문자지만 \\n을 제외한 모든 문자이다.\n",
    "m = p.match(original_text)\n",
    "print(m)"
   ]
  },
  {
   "cell_type": "code",
   "execution_count": 4,
   "id": "5131548c",
   "metadata": {},
   "outputs": [
    {
     "name": "stdout",
     "output_type": "stream",
     "text": [
      "<re.Match object; span=(0, 3), match='a\\nb'>\n"
     ]
    }
   ],
   "source": [
    "original_text = \"\"\"a\n",
    "b\"\"\"\n",
    "p = re.compile('a\\nb')\n",
    "m = p.match(original_text)\n",
    "print(m)"
   ]
  },
  {
   "cell_type": "code",
   "execution_count": 6,
   "id": "7e45059f",
   "metadata": {},
   "outputs": [
    {
     "name": "stdout",
     "output_type": "stream",
     "text": [
      "<re.Match object; span=(0, 3), match='a\\nb'>\n"
     ]
    }
   ],
   "source": [
    "p = re.compile('a.b', re.DOTALL)\n",
    "m = p.match(original_text)\n",
    "print(m)"
   ]
  },
  {
   "cell_type": "code",
   "execution_count": 7,
   "id": "a3d26ecd",
   "metadata": {},
   "outputs": [
    {
     "name": "stdout",
     "output_type": "stream",
     "text": [
      "<re.Match object; span=(0, 3), match='a\\nb'>\n"
     ]
    }
   ],
   "source": [
    "p = re.compile('a.b', re.S)\n",
    "m = p.match(original_text)\n",
    "print(m)"
   ]
  },
  {
   "cell_type": "markdown",
   "id": "79db7d10",
   "metadata": {},
   "source": [
    "# IGNORECASE (I)"
   ]
  },
  {
   "cell_type": "markdown",
   "id": "30f3d196",
   "metadata": {},
   "source": [
    "* 해당 옵션은 대소문자 구별 없이 매치를 수행할 때 사용하는 옵션"
   ]
  },
  {
   "cell_type": "code",
   "execution_count": 10,
   "id": "42010197",
   "metadata": {},
   "outputs": [
    {
     "name": "stdout",
     "output_type": "stream",
     "text": [
      "<re.Match object; span=(0, 6), match='python'>\n",
      "<re.Match object; span=(0, 6), match='Python'>\n",
      "<re.Match object; span=(0, 6), match='PYTHON'>\n"
     ]
    }
   ],
   "source": [
    "p = re.compile('[a-z]+', re.I)\n",
    "print(p.match('python'))\n",
    "print(p.match('Python'))\n",
    "print(p.match('PYTHON'))"
   ]
  },
  {
   "cell_type": "markdown",
   "id": "4b5b3a23",
   "metadata": {},
   "source": [
    "# MULTILINE (M)"
   ]
  },
  {
   "cell_type": "raw",
   "id": "bdedcd6b",
   "metadata": {},
   "source": [
    "후에 설명할 메타 문자인 ^, $와 연관된 옵션이다.   \n",
    "^는 문자열의 처음을 의미하고, $는 문자열의 마지막을 의미한다.   \n",
    "예를 들어 정규식이 ^python인 경우 문자열의 처음은 항상 python으로 시작해야 매치되고,\n",
    "만약 정규식이 python$이라면 문자열의 마지막은 항상 python으로 끝나야 매치된다는 의미이다."
   ]
  },
  {
   "cell_type": "code",
   "execution_count": 11,
   "id": "7170e7ac",
   "metadata": {},
   "outputs": [],
   "source": [
    "data = \"\"\"python one\n",
    "life is too shor\n",
    "python two\n",
    "you need python\n",
    "python tree\"\"\""
   ]
  },
  {
   "cell_type": "code",
   "execution_count": 12,
   "id": "311f1ec8",
   "metadata": {},
   "outputs": [
    {
     "name": "stdout",
     "output_type": "stream",
     "text": [
      "['python one']\n"
     ]
    }
   ],
   "source": [
    "p = re.compile('^python\\s\\w+')\n",
    "print(p.findall(data))"
   ]
  },
  {
   "cell_type": "markdown",
   "id": "fd0aea59",
   "metadata": {},
   "source": [
    "### 위 정규식의 문제점 : findall은 전체 문자열을 대상으로 검색을 하지만\n",
    "### default로 컴파일시 첫째라인의 결과만 반환한다.\n",
    "### 따라서 멀티라인 옵션이 필요하다"
   ]
  },
  {
   "cell_type": "code",
   "execution_count": 13,
   "id": "dc7f8476",
   "metadata": {},
   "outputs": [
    {
     "name": "stdout",
     "output_type": "stream",
     "text": [
      "['python one', 'python two', 'python tree']\n"
     ]
    }
   ],
   "source": [
    "p = re.compile('^python\\s\\w+', re.MULTILINE)\n",
    "print(p.findall(data))"
   ]
  },
  {
   "cell_type": "markdown",
   "id": "74610daa",
   "metadata": {},
   "source": [
    "# VERBOSE(X)\n",
    "* 정규식 가독성을 위해 한 줄로 표현하는 정규식을 여러줄로 표현할 수 있다."
   ]
  },
  {
   "cell_type": "code",
   "execution_count": null,
   "id": "e4850ed3",
   "metadata": {},
   "outputs": [],
   "source": [
    "charref = re.compile(r'&[#](0[0-7]+|[0-9]+|x[0-9a-fA-F]+);')"
   ]
  },
  {
   "cell_type": "code",
   "execution_count": 15,
   "id": "6011c86a",
   "metadata": {},
   "outputs": [],
   "source": [
    "charref = re.compile(r\"\"\"\n",
    "&[#]                 # Start of a numeric entity reference\n",
    "(\n",
    "    0[0-7]+          # Octal form\n",
    "   | [0-9]+          # Decimal form\n",
    "   | x[0-9a-fA-F]+   # Hexadecimal form\n",
    ")\n",
    ";                    # Trailing semicolon\n",
    "\"\"\"\n",
    ", re.X)              # 줄바꿈 이후의 공백문자는 컴파일시 제거된다."
   ]
  },
  {
   "cell_type": "markdown",
   "id": "fec4546e",
   "metadata": {},
   "source": [
    "# 백슬러시 (\\\\ 문제)"
   ]
  },
  {
   "cell_type": "code",
   "execution_count": null,
   "id": "29307731",
   "metadata": {},
   "outputs": [],
   "source": [
    "'\\section' 이라는 문자열을 검색하고자 한다."
   ]
  },
  {
   "cell_type": "code",
   "execution_count": 20,
   "id": "5e14fc98",
   "metadata": {},
   "outputs": [],
   "source": [
    "p = re.compile('\\section')\n",
    "p.match('\\section')   # <= 파이썬에서 \\는 escape 문자로 활용된다."
   ]
  },
  {
   "cell_type": "code",
   "execution_count": 21,
   "id": "d0c65a53",
   "metadata": {},
   "outputs": [],
   "source": [
    "# 아래와 같이 \\\\ 정규식이 동작하지 않는 것은 파이썬에서만 발생하는 문제임\n",
    "# 파이썬의 리터럴 규칙 때문에 발생, 유닉스나 vi에서는 문제가 없음\n",
    "p = re.compile('\\\\section')\n",
    "p.match('\\\\section')"
   ]
  },
  {
   "cell_type": "code",
   "execution_count": 22,
   "id": "aa937ec8",
   "metadata": {},
   "outputs": [
    {
     "data": {
      "text/plain": [
       "<re.Match object; span=(0, 8), match='\\\\section'>"
      ]
     },
     "execution_count": 22,
     "metadata": {},
     "output_type": "execute_result"
    }
   ],
   "source": [
    "# 파이썬 정규식 컴파일 구문에서 \\\\를 표현하기위해 4개가 필요함\n",
    "p = re.compile('\\\\\\\\section')\n",
    "p.match('\\\\section')"
   ]
  },
  {
   "cell_type": "markdown",
   "id": "ba375fa7",
   "metadata": {},
   "source": [
    "# r 옵션: compile 구문에서 \\\\\\를 raw타입으로 활용하는 옵션\n",
    "* r 옵션을 사용하면 원문에있는 표현과 같은 형태로 컴파일할 수 있음"
   ]
  },
  {
   "cell_type": "code",
   "execution_count": 24,
   "id": "8e33f430",
   "metadata": {},
   "outputs": [
    {
     "data": {
      "text/plain": [
       "<re.Match object; span=(0, 8), match='\\\\section'>"
      ]
     },
     "execution_count": 24,
     "metadata": {},
     "output_type": "execute_result"
    }
   ],
   "source": [
    "p = re.compile(r'\\\\section')\n",
    "p.match('\\\\section')"
   ]
  },
  {
   "cell_type": "markdown",
   "id": "232493e9",
   "metadata": {},
   "source": [
    "### '\\\\' 문자(데이터원본)를 검색하는 정규식을 작성할 때에는 r옵션을 사용해야 함"
   ]
  },
  {
   "cell_type": "code",
   "execution_count": null,
   "id": "7e7ea362",
   "metadata": {},
   "outputs": [],
   "source": []
  }
 ],
 "metadata": {
  "kernelspec": {
   "display_name": "Python 3 (ipykernel)",
   "language": "python",
   "name": "python3"
  },
  "language_info": {
   "codemirror_mode": {
    "name": "ipython",
    "version": 3
   },
   "file_extension": ".py",
   "mimetype": "text/x-python",
   "name": "python",
   "nbconvert_exporter": "python",
   "pygments_lexer": "ipython3",
   "version": "3.9.13"
  }
 },
 "nbformat": 4,
 "nbformat_minor": 5
}
