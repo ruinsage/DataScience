{
 "cells": [
  {
   "cell_type": "markdown",
   "id": "18fcada9",
   "metadata": {},
   "source": [
    "# |\n",
    "* or의 의미로 사용한다."
   ]
  },
  {
   "cell_type": "code",
   "execution_count": 1,
   "id": "bb4290a1",
   "metadata": {},
   "outputs": [],
   "source": [
    "import re"
   ]
  },
  {
   "cell_type": "code",
   "execution_count": 3,
   "id": "dd58a4b4",
   "metadata": {},
   "outputs": [
    {
     "name": "stdout",
     "output_type": "stream",
     "text": [
      "None\n",
      "<re.Match object; span=(0, 4), match='Crow'>\n",
      "<re.Match object; span=(0, 5), match='Servo'>\n",
      "<re.Match object; span=(0, 4), match='Crow'>\n"
     ]
    }
   ],
   "source": [
    "p = re.compile('Crow|Servo') # 첫번째문자가 Crow 이거나 Servo 이면 매칭\n",
    "m = p.match('Nothing')\n",
    "print(m)\n",
    "m = p.match('Crow') # Crow 매칭\n",
    "print(m)\n",
    "m = p.match('Servo') # Servo 매칭\n",
    "print(m)\n",
    "m = p.match('CrowServo') # Crow 매칭\n",
    "print(m)"
   ]
  },
  {
   "cell_type": "code",
   "execution_count": 5,
   "id": "d17755c1",
   "metadata": {},
   "outputs": [
    {
     "name": "stdout",
     "output_type": "stream",
     "text": [
      "None\n",
      "None\n"
     ]
    }
   ],
   "source": [
    "m = p.match('Cro') # Cro(원문)은 Crow(표현식)에서 w가 없으므로 매칭 안됨\n",
    "print(m)\n",
    "m = p.match('Serv') # Serv(원문)은 Servo (표현식)에서 w가 없으므로 매칭 안됨\n",
    "print(m)"
   ]
  },
  {
   "cell_type": "code",
   "execution_count": 6,
   "id": "e0fb330b",
   "metadata": {},
   "outputs": [
    {
     "name": "stdout",
     "output_type": "stream",
     "text": [
      "<re.Match object; span=(0, 3), match='Cro'>\n",
      "<re.Match object; span=(0, 4), match='Serv'>\n"
     ]
    }
   ],
   "source": [
    "p = re.compile('Cro|Serv')\n",
    "m = p.match('Cro') \n",
    "print(m)\n",
    "m = p.match('Serv') \n",
    "print(m)"
   ]
  },
  {
   "cell_type": "markdown",
   "id": "966ce26f",
   "metadata": {},
   "source": [
    "# ^\n",
    "* 문자열의 맨 처음과 일치여부 확인\n",
    "* 컴파일 옵션. re.MULTILINE을 사용할 경우 여러줄의 문자열의 처음과 일치여부 확인"
   ]
  },
  {
   "cell_type": "code",
   "execution_count": 10,
   "id": "186ed482",
   "metadata": {},
   "outputs": [
    {
     "data": {
      "text/plain": [
       "<re.Match object; span=(0, 4), match='Life'>"
      ]
     },
     "execution_count": 10,
     "metadata": {},
     "output_type": "execute_result"
    }
   ],
   "source": [
    "# search(정규식,문자열 원본)으로도 표현할 수 있다.\n",
    "re.search('^Life','Life is too short') "
   ]
  },
  {
   "cell_type": "code",
   "execution_count": 12,
   "id": "b8eb55c3",
   "metadata": {},
   "outputs": [
    {
     "name": "stdout",
     "output_type": "stream",
     "text": [
      "None\n"
     ]
    }
   ],
   "source": [
    "print(re.search('^Life','Bravo! Your Life!'))  # search 함수이지만 MULTILINE옵션이 없으므로 맨 처음만 매칭한다."
   ]
  },
  {
   "cell_type": "code",
   "execution_count": 21,
   "id": "3c03d4bc",
   "metadata": {},
   "outputs": [],
   "source": [
    "multiline_str = \"\"\"Life is goo.\n",
    "Bravo! My Life\n",
    "Life is too short\n",
    "\"\"\""
   ]
  },
  {
   "cell_type": "code",
   "execution_count": 22,
   "id": "f444fdb2",
   "metadata": {},
   "outputs": [
    {
     "name": "stdout",
     "output_type": "stream",
     "text": [
      "['Life', 'Life', 'Life']\n"
     ]
    }
   ],
   "source": [
    "p = re.compile('Life')\n",
    "print(p.findall(multiline_str))"
   ]
  },
  {
   "cell_type": "code",
   "execution_count": 23,
   "id": "382ee014",
   "metadata": {},
   "outputs": [
    {
     "name": "stdout",
     "output_type": "stream",
     "text": [
      "['Life']\n"
     ]
    }
   ],
   "source": [
    "p = re.compile('^Life')\n",
    "print(p.findall(multiline_str))"
   ]
  },
  {
   "cell_type": "code",
   "execution_count": 24,
   "id": "3e9077e4",
   "metadata": {},
   "outputs": [
    {
     "name": "stdout",
     "output_type": "stream",
     "text": [
      "['Life', 'Life']\n"
     ]
    }
   ],
   "source": [
    "p = re.compile('^Life', re.MULTILINE)\n",
    "print(p.findall(multiline_str))"
   ]
  },
  {
   "cell_type": "code",
   "execution_count": 25,
   "id": "e0b085d3",
   "metadata": {},
   "outputs": [
    {
     "name": "stdout",
     "output_type": "stream",
     "text": [
      "<re.Match object; span=(0, 4), match='Life'>\n",
      "<re.Match object; span=(28, 32), match='Life'>\n"
     ]
    }
   ],
   "source": [
    "for find_info in p.finditer(multiline_str): # 멀티라인 옵션이 적용된 p, finditer는 매치가 되는 문자열을 \n",
    "    print(find_info)"
   ]
  },
  {
   "cell_type": "markdown",
   "id": "ca0f0652",
   "metadata": {},
   "source": [
    "# \\\\A\n",
    "* 문자열의 처음과 매치됨을 의미한다. \n",
    "* ^ 메타 문자와 동일한 의미이지만 re.MULTILINE 옵션을 사용할 경우에는 다르게 해석된다.\n",
    "* re.MULTILINE 옵션을 사용할 경우 ^은 각 줄의 문자열의 처음과 매치되지만 \\A는 줄과 상관없이 전체 문자열의 처음하고만 매치\n",
    "* 즉 \\\\A는 MULTILINE 옵션이 통하지 않는다."
   ]
  },
  {
   "cell_type": "code",
   "execution_count": 29,
   "id": "2fcec97a",
   "metadata": {},
   "outputs": [],
   "source": [
    "multiline_str = \"\"\"Life is goo.\n",
    "Bravo! My Life\n",
    "Life is too short\n",
    "\"\"\""
   ]
  },
  {
   "cell_type": "code",
   "execution_count": 30,
   "id": "ad5d3ced",
   "metadata": {},
   "outputs": [
    {
     "name": "stdout",
     "output_type": "stream",
     "text": [
      "['Life']\n"
     ]
    }
   ],
   "source": [
    "p = re.compile('\\ALife', re.MULTILINE)\n",
    "print(p.findall(multiline_str))"
   ]
  },
  {
   "cell_type": "code",
   "execution_count": 31,
   "id": "7b590d51",
   "metadata": {},
   "outputs": [
    {
     "name": "stdout",
     "output_type": "stream",
     "text": [
      "<re.Match object; span=(0, 4), match='Life'>\n"
     ]
    }
   ],
   "source": [
    "for find_info in p.finditer(multiline_str): # 멀티라인 옵션이 적용된 p, finditer는 매치가 되는 문자열을 'Match object' 리스트로 반환\n",
    "    print(find_info)"
   ]
  },
  {
   "cell_type": "code",
   "execution_count": 62,
   "id": "1187ec6e",
   "metadata": {},
   "outputs": [],
   "source": [
    "multiline_str = \"\"\"\n",
    "Life is goo.\n",
    "Bravo! My Life\n",
    "Life is too short\n",
    "\"\"\""
   ]
  },
  {
   "cell_type": "code",
   "execution_count": 64,
   "id": "158f4f8e",
   "metadata": {},
   "outputs": [
    {
     "name": "stdout",
     "output_type": "stream",
     "text": [
      "['\\nLife']\n"
     ]
    }
   ],
   "source": [
    "p = re.compile('\\A\\nLife', re.MULTILINE)  # <= 원문에서 줄바꿈 이후에 Life문자열이 시작되므로\n",
    "print(p.findall(multiline_str))"
   ]
  },
  {
   "cell_type": "markdown",
   "id": "86ce8fff",
   "metadata": {},
   "source": [
    "# $\n",
    "* 문자열의 끝과 매칭 여부 확인"
   ]
  },
  {
   "cell_type": "code",
   "execution_count": 32,
   "id": "08fdf917",
   "metadata": {},
   "outputs": [
    {
     "name": "stdout",
     "output_type": "stream",
     "text": [
      "None\n",
      "None\n",
      "None\n",
      "<re.Match object; span=(12, 17), match='short'>\n",
      "None\n"
     ]
    }
   ],
   "source": [
    "print(re.search('Life$','Life is too short'))\n",
    "print(re.search('is$','Life is too short'))\n",
    "print(re.search('too$','Life is too short'))\n",
    "print(re.search('short$','Life is too short'))\n",
    "print(re.search('short$','Life is too short, you need python'))"
   ]
  },
  {
   "cell_type": "code",
   "execution_count": 33,
   "id": "7f0b69e3",
   "metadata": {},
   "outputs": [
    {
     "name": "stdout",
     "output_type": "stream",
     "text": [
      "<re.Match object; span=(28, 34), match='python'>\n"
     ]
    }
   ],
   "source": [
    "print(re.search('python$','Life is too short, you need python'))"
   ]
  },
  {
   "cell_type": "code",
   "execution_count": 34,
   "id": "ca9e5edb",
   "metadata": {},
   "outputs": [
    {
     "name": "stdout",
     "output_type": "stream",
     "text": [
      "None\n"
     ]
    }
   ],
   "source": [
    "print(re.search('python$','Life is too short, you need python.'))"
   ]
  },
  {
   "cell_type": "code",
   "execution_count": 37,
   "id": "19f28f35",
   "metadata": {},
   "outputs": [
    {
     "name": "stdout",
     "output_type": "stream",
     "text": [
      "<re.Match object; span=(28, 35), match='python!'>\n"
     ]
    }
   ],
   "source": [
    "print(re.search('python.$','Life is too short, you need python.'))  # <= .은 \\n을 제외한 모든 문자"
   ]
  },
  {
   "cell_type": "code",
   "execution_count": 40,
   "id": "d0c16ff1",
   "metadata": {},
   "outputs": [
    {
     "name": "stdout",
     "output_type": "stream",
     "text": [
      "<re.Match object; span=(28, 35), match='python.'>\n"
     ]
    }
   ],
   "source": [
    "print(re.search('python[.]$','Life is too short, you need python.'))  # [.]은 .문자"
   ]
  },
  {
   "cell_type": "markdown",
   "id": "1e8fc013",
   "metadata": {},
   "source": [
    "# \\\\Z\n"
   ]
  },
  {
   "cell_type": "raw",
   "id": "8a29de35",
   "metadata": {},
   "source": [
    "* 문자열의 마지막과 매치됨을 의미한다.\n",
    "* $ 메타 문자와 동일한 의미이지만 re.MULTILINE 옵션을 사용할 경우에는 다르게 해석된다.  \n",
    "* re.MULTILINE 옵션을 사용할 경우 $은 각 줄의 문자열의 마지막과 매치되지만 \\Z는 줄과 상관없이 전체 문자열의 마지막하고만 매치\n",
    "* 즉 \\Z는 MULTILINE 옵션이 통하지 않는다."
   ]
  },
  {
   "cell_type": "code",
   "execution_count": 53,
   "id": "fd1c6004",
   "metadata": {},
   "outputs": [],
   "source": [
    "multiline_str = \"\"\"Good. Your Life\n",
    "Life is too short\n",
    "Bravo! My Life\"\"\""
   ]
  },
  {
   "cell_type": "code",
   "execution_count": 54,
   "id": "d596a445",
   "metadata": {},
   "outputs": [
    {
     "name": "stdout",
     "output_type": "stream",
     "text": [
      "['Life']\n"
     ]
    }
   ],
   "source": [
    "p = re.compile('Life\\Z', re.MULTILINE)\n",
    "print(p.findall(multiline_str))"
   ]
  },
  {
   "cell_type": "code",
   "execution_count": 56,
   "id": "07b1b6bd",
   "metadata": {},
   "outputs": [
    {
     "name": "stdout",
     "output_type": "stream",
     "text": [
      "<re.Match object; span=(44, 48), match='Life'>\n"
     ]
    }
   ],
   "source": [
    "for find_info in p.finditer(multiline_str): # 멀티라인 옵션이 적용된 p, finditer는 매치가 되는 문자열을 'Match object' 리스트로 반환\n",
    "    print(find_info)"
   ]
  },
  {
   "cell_type": "code",
   "execution_count": 57,
   "id": "5557218c",
   "metadata": {},
   "outputs": [],
   "source": [
    "multiline_str = \"\"\"\n",
    "Good. Your Life\n",
    "Life is too short\n",
    "Bravo! My Life\n",
    "\"\"\""
   ]
  },
  {
   "cell_type": "code",
   "execution_count": 59,
   "id": "d571be06",
   "metadata": {},
   "outputs": [
    {
     "name": "stdout",
     "output_type": "stream",
     "text": [
      "['Life\\n']\n"
     ]
    }
   ],
   "source": [
    "p = re.compile('Life\\n\\Z', re.MULTILINE) # <= 원문에서 Life문자열 이후에 줄바꿈으로 끝나므로\n",
    "print(p.findall(multiline_str))"
   ]
  },
  {
   "cell_type": "markdown",
   "id": "2a89bff4",
   "metadata": {},
   "source": [
    "# \\\\b"
   ]
  },
  {
   "cell_type": "markdown",
   "id": "52f7c45b",
   "metadata": {},
   "source": [
    "* 단어 구분자(whitespace)로 활용\n",
    "* \\s와 같은 개념"
   ]
  },
  {
   "cell_type": "code",
   "execution_count": 69,
   "id": "37a05b72",
   "metadata": {},
   "outputs": [],
   "source": [
    "p = re.compile('\\bclass\\b')"
   ]
  },
  {
   "cell_type": "code",
   "execution_count": 70,
   "id": "f1dfb332",
   "metadata": {},
   "outputs": [],
   "source": [
    "p.search('no class at all')"
   ]
  },
  {
   "cell_type": "code",
   "execution_count": 71,
   "id": "c517789a",
   "metadata": {},
   "outputs": [
    {
     "data": {
      "text/plain": [
       "<re.Match object; span=(3, 8), match='class'>"
      ]
     },
     "execution_count": 71,
     "metadata": {},
     "output_type": "execute_result"
    }
   ],
   "source": [
    "p = re.compile(r'\\bclass\\b') # \\b 표현식을 사용하기 위해서는 r옵션을 사용한다.\n",
    "p.search('no class at all')"
   ]
  },
  {
   "cell_type": "code",
   "execution_count": null,
   "id": "ebcdc7e7",
   "metadata": {},
   "outputs": [],
   "source": []
  }
 ],
 "metadata": {
  "kernelspec": {
   "display_name": "Python 3 (ipykernel)",
   "language": "python",
   "name": "python3"
  },
  "language_info": {
   "codemirror_mode": {
    "name": "ipython",
    "version": 3
   },
   "file_extension": ".py",
   "mimetype": "text/x-python",
   "name": "python",
   "nbconvert_exporter": "python",
   "pygments_lexer": "ipython3",
   "version": "3.9.13"
  }
 },
 "nbformat": 4,
 "nbformat_minor": 5
}
