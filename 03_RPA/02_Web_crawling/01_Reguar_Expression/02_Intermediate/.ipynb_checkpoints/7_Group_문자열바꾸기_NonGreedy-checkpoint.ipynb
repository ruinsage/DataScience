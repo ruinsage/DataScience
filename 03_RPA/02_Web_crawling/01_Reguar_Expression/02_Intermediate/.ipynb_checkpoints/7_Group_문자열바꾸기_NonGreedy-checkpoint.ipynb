{
 "cells": [
  {
   "cell_type": "markdown",
   "id": "44478a6d",
   "metadata": {},
   "source": [
    "# 그룹 => ()\n",
    "* 문자열 패턴의 반복을 지정\n",
    "* 그룹을 지정하면 문자열 전체에서 매칭되는 패턴을 그룹단위로 찾아준다."
   ]
  },
  {
   "cell_type": "code",
   "execution_count": 1,
   "id": "55377ef1",
   "metadata": {},
   "outputs": [],
   "source": [
    "import re"
   ]
  },
  {
   "cell_type": "code",
   "execution_count": 4,
   "id": "321d3d14",
   "metadata": {},
   "outputs": [
    {
     "name": "stdout",
     "output_type": "stream",
     "text": [
      "<re.Match object; span=(0, 9), match='ABCABCABC'>\n",
      "ABCABCABC\n",
      "ABC\n"
     ]
    }
   ],
   "source": [
    "p = re.compile('(ABC)+')\n",
    "m = p.search('ABCABCABC OK? ABC')\n",
    "print(m)          # 매치 오브젝트를 출력하면 첫번째 매치되는 정보만 표시\n",
    "print(m.group(0)) # 첫번째로 매칭된 그룹 => ABCABCABC\n",
    "print(m.group(1)) # 두번째로 매칭된 그룹 => ABC"
   ]
  },
  {
   "cell_type": "code",
   "execution_count": 5,
   "id": "cfeda570",
   "metadata": {},
   "outputs": [
    {
     "name": "stdout",
     "output_type": "stream",
     "text": [
      "<re.Match object; span=(0, 6), match='ABCABC'>\n"
     ]
    }
   ],
   "source": [
    "m = p.search('ABCABCAB OK?')\n",
    "print(m)"
   ]
  },
  {
   "cell_type": "code",
   "execution_count": 8,
   "id": "081ce42e",
   "metadata": {},
   "outputs": [],
   "source": [
    "p=re.compile(\"\\w+\\s+\\d+[-]\\d+[-]\\d+\")\n",
    "m=p.search(\"park 010-1234-1234\")"
   ]
  },
  {
   "cell_type": "code",
   "execution_count": 9,
   "id": "1e413c78",
   "metadata": {},
   "outputs": [
    {
     "name": "stdout",
     "output_type": "stream",
     "text": [
      "<re.Match object; span=(0, 18), match='park 010-1234-1234'>\n"
     ]
    }
   ],
   "source": [
    "print(m)"
   ]
  },
  {
   "cell_type": "code",
   "execution_count": 11,
   "id": "f7edbb83",
   "metadata": {},
   "outputs": [
    {
     "name": "stdout",
     "output_type": "stream",
     "text": [
      "park 010-1234-1234\n"
     ]
    }
   ],
   "source": [
    "print(m.group(0)) # 매치가 되는 결과가 첫번째 그룹의 결과임"
   ]
  },
  {
   "cell_type": "code",
   "execution_count": 12,
   "id": "39fbd120",
   "metadata": {},
   "outputs": [
    {
     "ename": "IndexError",
     "evalue": "no such group",
     "output_type": "error",
     "traceback": [
      "\u001b[1;31m---------------------------------------------------------------------------\u001b[0m",
      "\u001b[1;31mIndexError\u001b[0m                                Traceback (most recent call last)",
      "\u001b[1;32m~\\AppData\\Local\\Temp\\ipykernel_9840\\3730113328.py\u001b[0m in \u001b[0;36m<module>\u001b[1;34m\u001b[0m\n\u001b[1;32m----> 1\u001b[1;33m \u001b[0mprint\u001b[0m\u001b[1;33m(\u001b[0m\u001b[0mm\u001b[0m\u001b[1;33m.\u001b[0m\u001b[0mgroup\u001b[0m\u001b[1;33m(\u001b[0m\u001b[1;36m1\u001b[0m\u001b[1;33m)\u001b[0m\u001b[1;33m)\u001b[0m \u001b[1;31m# 없는 그룹을 참조하려고 하면 에러가 발생한다.\u001b[0m\u001b[1;33m\u001b[0m\u001b[1;33m\u001b[0m\u001b[0m\n\u001b[0m",
      "\u001b[1;31mIndexError\u001b[0m: no such group"
     ]
    }
   ],
   "source": [
    "print(m.group(1)) # 없는 그룹을 참조하려고 하면 에러가 발생한다."
   ]
  },
  {
   "cell_type": "code",
   "execution_count": 13,
   "id": "b997b873",
   "metadata": {},
   "outputs": [
    {
     "name": "stdout",
     "output_type": "stream",
     "text": [
      "<re.Match object; span=(0, 18), match='park 010-1234-1234'>\n",
      "park 010-1234-1234\n",
      "park\n",
      "010\n",
      "1234\n",
      "1234\n"
     ]
    }
   ],
   "source": [
    "p = re.compile('(\\w+)\\s+(\\d+)[-](\\d+)[-](\\d+)')\n",
    "m=p.search(\"park 010-1234-1234\")\n",
    "print(m)\n",
    "print(m.group(0))\n",
    "print(m.group(1))\n",
    "print(m.group(2))\n",
    "print(m.group(3))\n",
    "print(m.group(4))"
   ]
  },
  {
   "cell_type": "markdown",
   "id": "7ee5c8c0",
   "metadata": {},
   "source": [
    "# 그루핑된 문자열에 이름 붙이기  \n",
    "* (?P<그룹명>...)\n",
    "* 정규식안에 그룹이 많아 질 경우 구분하기 위한 식별자로 활용"
   ]
  },
  {
   "cell_type": "code",
   "execution_count": 20,
   "id": "3291230a",
   "metadata": {},
   "outputs": [
    {
     "name": "stdout",
     "output_type": "stream",
     "text": [
      "park\n"
     ]
    }
   ],
   "source": [
    "p = re.compile('(?P<name>\\w+)\\s+(\\d+)[-](\\d+)[-](\\d+)')\n",
    "m=p.search(\"park 010-1234-1234\")\n",
    "print(m.group('name'))"
   ]
  },
  {
   "cell_type": "code",
   "execution_count": 21,
   "id": "e4fb924d",
   "metadata": {},
   "outputs": [],
   "source": [
    "### 문제] 위 예제를 참고해서 이름,첫번째번호,두번째번호,세번째번호\n",
    "### 그룹이름을 지어보세요"
   ]
  },
  {
   "cell_type": "code",
   "execution_count": 29,
   "id": "a4c58317",
   "metadata": {},
   "outputs": [
    {
     "name": "stdout",
     "output_type": "stream",
     "text": [
      "park\n",
      "010\n",
      "1234\n",
      "1234\n"
     ]
    }
   ],
   "source": [
    "p = re.compile('(?P<name>\\w+)\\s+(?P<first_Num>\\d+)[-](?P<second_Num>\\d+)[-](?P<third_Num>\\d+)')\n",
    "m=p.search(\"park 010-1234-1234\")\n",
    "print(m.group('name'))\n",
    "print(m.group('first_Num'))\n",
    "print(m.group('second_Num'))\n",
    "print(m.group('third_Num'))"
   ]
  },
  {
   "cell_type": "code",
   "execution_count": 30,
   "id": "98157591",
   "metadata": {},
   "outputs": [
    {
     "name": "stdout",
     "output_type": "stream",
     "text": [
      "park\n",
      "010\n",
      "1234\n",
      "5678\n"
     ]
    }
   ],
   "source": [
    "p = re.compile(r\"\"\"\n",
    "(?P<name>\\w+)       # park를 매칭하기 위한 정규식\n",
    "\\s+                 # park 다음 공백 문자를 매칭하기 위한 정규식\n",
    "(?P<first_num>\\d+)  # 010 첫번째 숫자 그룹을 매칭하기 위한 정규식\n",
    "[-]                 # 첫 번쨰와 두번째 숫자 그룹 사이의 - 문자를 매칭하기 위한 정규식\n",
    "(?P<middle_num>\\d+) # 1234 두번째 숫자 그룹을 매칭하기 위한 정규식\n",
    "[-]                 # 두 번쨰와 세번째 숫자 그룹 사이의 - 문자를 매칭하기 위한 정규식\n",
    "(?P<last_num>\\d+)   # 5678 세번째 숫자 그룹을 매칭하기 위한 정규식\n",
    "\"\"\",re.VERBOSE)\n",
    "m = p.search(\"park 010-1234-5678\")\n",
    "print(m.group(\"name\"))\n",
    "print(m.group(\"first_num\"))\n",
    "print(m.group(\"middle_num\"))\n",
    "print(m.group(\"last_num\"))"
   ]
  },
  {
   "cell_type": "markdown",
   "id": "9ff4c518",
   "metadata": {},
   "source": [
    "# 전방 탐색 (Lookahead Assertions)"
   ]
  },
  {
   "cell_type": "code",
   "execution_count": null,
   "id": "3b527e42",
   "metadata": {},
   "outputs": [],
   "source": [
    "'http://google.com' 문자열에서 .을 활용하여 http만 매치하고자 한다면?"
   ]
  },
  {
   "cell_type": "code",
   "execution_count": 31,
   "id": "10d40c05",
   "metadata": {},
   "outputs": [
    {
     "name": "stdout",
     "output_type": "stream",
     "text": [
      "http:\n"
     ]
    }
   ],
   "source": [
    "p = re.compile('.+:')\n",
    "m = p.search('http://google.com')\n",
    "print(m.group())  # <= : 이 같이 출력되는 문제가 있다."
   ]
  },
  {
   "cell_type": "markdown",
   "id": "bb8defc6",
   "metadata": {},
   "source": [
    "* 긍정형 전방 탐색((?=...)) : 해당 정규식과 매치되어야 하며 조건이 통과되어도 문자열이 소비되지 않는다. 즉 해당 문자열을 버린다.\n",
    "* 부정형 전방 탐색((?!...))  : 해당 정규식과 매치되지 않아야 하며 조건이 통과되어도 문자열이 소비되지 않는다."
   ]
  },
  {
   "cell_type": "markdown",
   "id": "a466dab6",
   "metadata": {},
   "source": [
    "## 긍정형 전방 탐색 (Positive Lookahead Assertions)"
   ]
  },
  {
   "cell_type": "code",
   "execution_count": 34,
   "id": "1d06c788",
   "metadata": {},
   "outputs": [
    {
     "name": "stdout",
     "output_type": "stream",
     "text": [
      "http\n"
     ]
    }
   ],
   "source": [
    "p = re.compile('.+(?=:)')\n",
    "m = p.search('http://google.com')\n",
    "print(m.group())"
   ]
  },
  {
   "cell_type": "markdown",
   "id": "e554b8fc",
   "metadata": {},
   "source": [
    "# 부정형 전방 탐색 (Negative Lookahead Assertions)"
   ]
  },
  {
   "cell_type": "markdown",
   "id": "c4724605",
   "metadata": {},
   "source": [
    "### Ver 1. 파일을 검색하는 정규식"
   ]
  },
  {
   "cell_type": "code",
   "execution_count": 38,
   "id": "192655fe",
   "metadata": {},
   "outputs": [],
   "source": [
    "file_name_list=[\"foo.bar\",\"autoexec.bat\",\"sendmail.cf\"]"
   ]
  },
  {
   "cell_type": "code",
   "execution_count": 41,
   "id": "4a741cbc",
   "metadata": {},
   "outputs": [
    {
     "name": "stdout",
     "output_type": "stream",
     "text": [
      "<re.Match object; span=(0, 7), match='foo.bar'>\n",
      "<re.Match object; span=(0, 12), match='autoexec.bat'>\n",
      "<re.Match object; span=(0, 11), match='sendmail.cf'>\n"
     ]
    }
   ],
   "source": [
    "p = re.compile('.*[.].*$')\n",
    "for file_name in file_name_list:\n",
    "    print(p.search(file_name))"
   ]
  },
  {
   "cell_type": "markdown",
   "id": "04775a17",
   "metadata": {},
   "source": [
    "### Ver 2. 확장자가 bat인 파일을 제외하는 정규식 작성 시도1"
   ]
  },
  {
   "cell_type": "code",
   "execution_count": 46,
   "id": "5acf31a8",
   "metadata": {},
   "outputs": [
    {
     "name": "stdout",
     "output_type": "stream",
     "text": [
      "None\n",
      "None\n",
      "<re.Match object; span=(0, 11), match='sendmail.cf'>\n"
     ]
    }
   ],
   "source": [
    "p = re.compile('.*[.][^b].*$')\n",
    "for file_name in file_name_list:\n",
    "    print(p.search(file_name))"
   ]
  },
  {
   "cell_type": "markdown",
   "id": "69a58e89",
   "metadata": {},
   "source": [
    "foo.bar도 제외 됐으므로 실패!"
   ]
  },
  {
   "cell_type": "code",
   "execution_count": 50,
   "id": "f1ccf3aa",
   "metadata": {},
   "outputs": [
    {
     "name": "stdout",
     "output_type": "stream",
     "text": [
      "<re.Match object; span=(0, 7), match='foo.bar'>\n",
      "None\n",
      "None\n"
     ]
    }
   ],
   "source": [
    "p = re.compile('.*[.]([^b]..|.[^a].|..[^t])$')\n",
    "for file_name in file_name_list:\n",
    "    print(p.search(file_name))"
   ]
  },
  {
   "cell_type": "markdown",
   "id": "a6c76ff5",
   "metadata": {},
   "source": [
    "sendmail.cf도 제외됐으므로 실패!"
   ]
  },
  {
   "cell_type": "markdown",
   "id": "7ff7016b",
   "metadata": {},
   "source": [
    "## ver4. 확장자가 bat인 파일을 제외하는 정규식 작성 마지막 시도"
   ]
  },
  {
   "cell_type": "code",
   "execution_count": 53,
   "id": "4cefb843",
   "metadata": {},
   "outputs": [
    {
     "name": "stdout",
     "output_type": "stream",
     "text": [
      "<re.Match object; span=(0, 7), match='foo.bar'>\n",
      "None\n",
      "<re.Match object; span=(0, 11), match='sendmail.cf'>\n"
     ]
    }
   ],
   "source": [
    "p = re.compile('.*[.]([^b].?.?|.[^a]?.?|..?[^t]?)$')\n",
    "for file_name in file_name_list:\n",
    "    print(p.search(file_name))"
   ]
  },
  {
   "cell_type": "markdown",
   "id": "76584d6f",
   "metadata": {},
   "source": [
    "### 성공....그런데 정규식 어렵네요"
   ]
  },
  {
   "cell_type": "markdown",
   "id": "2bcd5ca7",
   "metadata": {},
   "source": [
    "## ver5. 부정형 전방 탐색 적용"
   ]
  },
  {
   "cell_type": "code",
   "execution_count": 57,
   "id": "23e2f7ad",
   "metadata": {},
   "outputs": [
    {
     "name": "stdout",
     "output_type": "stream",
     "text": [
      "<re.Match object; span=(0, 7), match='foo.bar'>\n",
      "None\n",
      "<re.Match object; span=(0, 11), match='sendmail.cf'>\n"
     ]
    }
   ],
   "source": [
    "p = re.compile('.*[.](?!bat$).*$')\n",
    "for file_name in file_name_list:\n",
    "    print(p.search(file_name))"
   ]
  },
  {
   "cell_type": "markdown",
   "id": "11dd3cea",
   "metadata": {},
   "source": [
    "부정형 전방탐색은 제외하는 조건이 많아질수록 더 유용하다."
   ]
  },
  {
   "cell_type": "code",
   "execution_count": 58,
   "id": "b4b306b7",
   "metadata": {},
   "outputs": [
    {
     "name": "stdout",
     "output_type": "stream",
     "text": [
      "None\n",
      "None\n",
      "<re.Match object; span=(0, 11), match='sendmail.cf'>\n"
     ]
    }
   ],
   "source": [
    "p = re.compile('.*[.](?!bat$|bar$).*$')\n",
    "for file_name in file_name_list:\n",
    "    print(p.search(file_name))"
   ]
  },
  {
   "cell_type": "markdown",
   "id": "cdcd393b",
   "metadata": {},
   "source": [
    "## sub 메서드"
   ]
  },
  {
   "cell_type": "code",
   "execution_count": 61,
   "id": "29a1662f",
   "metadata": {},
   "outputs": [
    {
     "name": "stdout",
     "output_type": "stream",
     "text": [
      "color socks and color shoes\n",
      "color socks and red shoes\n",
      "color socks and color shoes\n"
     ]
    }
   ],
   "source": [
    "p = re.compile('(blue|white|red)')\n",
    "# 매칭된 결과를 sub함수의 첫번째 인자로 바꾼다.\n",
    "print(p.sub('color','blue socks and red shoes'))\n",
    "print(p.sub('color','blue socks and red shoes',count=1)) # 1번까지 바꾸는 조건\n",
    "print(p.sub('color','blue socks and red shoes',count=2)) # 2번까지 바꾸는 조건"
   ]
  },
  {
   "cell_type": "markdown",
   "id": "519226a4",
   "metadata": {},
   "source": [
    "## subn 메서드"
   ]
  },
  {
   "cell_type": "code",
   "execution_count": 63,
   "id": "a7cff9dd",
   "metadata": {},
   "outputs": [
    {
     "data": {
      "text/plain": [
       "('color socks and color shoes', 2)"
      ]
     },
     "execution_count": 63,
     "metadata": {},
     "output_type": "execute_result"
    }
   ],
   "source": [
    "p.subn('color','blue socks and red shoes') # 바꾼 문자열과 바꾼 횟수를 반환"
   ]
  },
  {
   "cell_type": "markdown",
   "id": "47a25430",
   "metadata": {},
   "source": [
    "## sub 메서드 사용시 참조 구문 활용하기"
   ]
  },
  {
   "cell_type": "code",
   "execution_count": 64,
   "id": "dcd5c898",
   "metadata": {},
   "outputs": [
    {
     "name": "stdout",
     "output_type": "stream",
     "text": [
      "010-1234-1234 park\n"
     ]
    }
   ],
   "source": [
    "p = re.compile(r\"(?P<name>\\w+)\\s+(?P<phone>(\\d+)[-]\\d+[-]\\d+)\")\n",
    "print(p.sub(\"\\g<phone> \\g<name>\", \"park 010-1234-1234\"))"
   ]
  },
  {
   "cell_type": "code",
   "execution_count": 65,
   "id": "bcf95fdd",
   "metadata": {},
   "outputs": [
    {
     "name": "stdout",
     "output_type": "stream",
     "text": [
      "010-1234-1234 park\n"
     ]
    }
   ],
   "source": [
    "print(p.sub(\"\\g<2> \\g<1>\", \"park 010-1234-1234\"))"
   ]
  },
  {
   "cell_type": "markdown",
   "id": "94626723",
   "metadata": {},
   "source": [
    "## sub 메서드의 매개변수로 함수 넣기"
   ]
  },
  {
   "cell_type": "code",
   "execution_count": 69,
   "id": "4550bdfa",
   "metadata": {},
   "outputs": [],
   "source": [
    "def hexrepl(match):\n",
    "    \"Return the hex string for a decimal number\"\n",
    "    value = int(match.group())\n",
    "    print(value)\n",
    "    return hex(value)"
   ]
  },
  {
   "cell_type": "code",
   "execution_count": 70,
   "id": "2f4a6d5f",
   "metadata": {},
   "outputs": [
    {
     "name": "stdout",
     "output_type": "stream",
     "text": [
      "65490\n",
      "49152\n",
      "Call 0xffd2 for printing, 0xc000 for user code.\n"
     ]
    }
   ],
   "source": [
    "p = re.compile('\\d+')\n",
    "print(p.sub(hexrepl,'Call 65490 for printing, 49152 for user code.'))"
   ]
  },
  {
   "cell_type": "markdown",
   "id": "4f3fa8e5",
   "metadata": {},
   "source": [
    "# Greedy vs Non-Greedy"
   ]
  },
  {
   "cell_type": "markdown",
   "id": "85812b70",
   "metadata": {},
   "source": [
    "### Greedy의 의미"
   ]
  },
  {
   "cell_type": "code",
   "execution_count": 71,
   "id": "fdc04d8e",
   "metadata": {},
   "outputs": [],
   "source": [
    "s = '<html><head><title>Title</title>'"
   ]
  },
  {
   "cell_type": "code",
   "execution_count": 77,
   "id": "0904e041",
   "metadata": {},
   "outputs": [
    {
     "data": {
      "text/plain": [
       "<re.Match object; span=(0, 32), match='<html><head><title>Title</title>'>"
      ]
     },
     "execution_count": 77,
     "metadata": {},
     "output_type": "execute_result"
    }
   ],
   "source": [
    "# 매치가 되는 조건을 계속 찾는다 <= 이것이 Greedy의 의미\n",
    "re.match('<.*>',s)"
   ]
  },
  {
   "cell_type": "code",
   "execution_count": 75,
   "id": "31c3ac02",
   "metadata": {},
   "outputs": [
    {
     "name": "stdout",
     "output_type": "stream",
     "text": [
      "<html>\n"
     ]
    }
   ],
   "source": [
    "p = re.compile('<.*l>')\n",
    "m = p.match(s)\n",
    "print(m.group(0))"
   ]
  },
  {
   "cell_type": "markdown",
   "id": "67e25be2",
   "metadata": {},
   "source": [
    "# Non-Greedy\n",
    "* non-greedy 문자인 ?을 사용하면 *의 탐욕을 제한할 수 있다."
   ]
  },
  {
   "cell_type": "code",
   "execution_count": 79,
   "id": "d8370f50",
   "metadata": {},
   "outputs": [
    {
     "data": {
      "text/plain": [
       "<re.Match object; span=(0, 6), match='<html>'>"
      ]
     },
     "execution_count": 79,
     "metadata": {},
     "output_type": "execute_result"
    }
   ],
   "source": [
    "re.match('<.*?>', s)"
   ]
  },
  {
   "cell_type": "markdown",
   "id": "24e901c6",
   "metadata": {},
   "source": [
    "https://regexone.com/"
   ]
  },
  {
   "cell_type": "code",
   "execution_count": null,
   "id": "e6dc0f7e",
   "metadata": {},
   "outputs": [],
   "source": []
  }
 ],
 "metadata": {
  "kernelspec": {
   "display_name": "Python 3 (ipykernel)",
   "language": "python",
   "name": "python3"
  },
  "language_info": {
   "codemirror_mode": {
    "name": "ipython",
    "version": 3
   },
   "file_extension": ".py",
   "mimetype": "text/x-python",
   "name": "python",
   "nbconvert_exporter": "python",
   "pygments_lexer": "ipython3",
   "version": "3.9.13"
  }
 },
 "nbformat": 4,
 "nbformat_minor": 5
}
