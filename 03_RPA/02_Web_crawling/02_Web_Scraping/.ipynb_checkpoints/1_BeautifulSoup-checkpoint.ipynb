{
 "cells": [
  {
   "cell_type": "code",
   "execution_count": 4,
   "id": "556a3e68",
   "metadata": {},
   "outputs": [],
   "source": [
    "# BeautifulSoup : HTML 태그를 파싱하는 파서 제공\n",
    "from bs4 import BeautifulSoup"
   ]
  },
  {
   "cell_type": "code",
   "execution_count": 5,
   "id": "313ed42f",
   "metadata": {},
   "outputs": [],
   "source": [
    "html='''\n",
    "<td class=\"title\">\n",
    "    <div class=\"tit3\">\n",
    "        <a href=\"/movie/bi/mi/basic.naver?code=74977\" title=\"아바타: 물의 길\">아바타: 물의 길</a>\n",
    "    </div>\n",
    "</td>\n",
    "'''"
   ]
  },
  {
   "cell_type": "code",
   "execution_count": 6,
   "id": "8d24e75f",
   "metadata": {},
   "outputs": [],
   "source": [
    "soup=BeautifulSoup(html,'html.parser')"
   ]
  },
  {
   "cell_type": "code",
   "execution_count": 7,
   "id": "1b29209f",
   "metadata": {},
   "outputs": [
    {
     "data": {
      "text/plain": [
       "\n",
       "<td class=\"title\">\n",
       "<div class=\"tit3\">\n",
       "<a href=\"/movie/bi/mi/basic.naver?code=74977\" title=\"아바타: 물의 길\">아바타: 물의 길</a>\n",
       "</div>\n",
       "</td>"
      ]
     },
     "execution_count": 7,
     "metadata": {},
     "output_type": "execute_result"
    }
   ],
   "source": [
    "soup"
   ]
  },
  {
   "cell_type": "code",
   "execution_count": 8,
   "id": "9fdb1106",
   "metadata": {},
   "outputs": [
    {
     "data": {
      "text/plain": [
       "bs4.BeautifulSoup"
      ]
     },
     "execution_count": 8,
     "metadata": {},
     "output_type": "execute_result"
    }
   ],
   "source": [
    "type(soup)"
   ]
  },
  {
   "cell_type": "code",
   "execution_count": 9,
   "id": "282518ce",
   "metadata": {},
   "outputs": [
    {
     "data": {
      "text/plain": [
       "'<td class=\"title\">\\n <div class=\"tit3\">\\n  <a href=\"/movie/bi/mi/basic.naver?code=74977\" title=\"아바타: 물의 길\">\\n   아바타: 물의 길\\n  </a>\\n </div>\\n</td>\\n'"
      ]
     },
     "execution_count": 9,
     "metadata": {},
     "output_type": "execute_result"
    }
   ],
   "source": [
    "# 원본 html의 indentation을 복원하는 함수 (print로 봐야함)\n",
    "soup.prettify()"
   ]
  },
  {
   "cell_type": "code",
   "execution_count": 10,
   "id": "a9ec9bc5",
   "metadata": {},
   "outputs": [
    {
     "name": "stdout",
     "output_type": "stream",
     "text": [
      "<td class=\"title\">\n",
      " <div class=\"tit3\">\n",
      "  <a href=\"/movie/bi/mi/basic.naver?code=74977\" title=\"아바타: 물의 길\">\n",
      "   아바타: 물의 길\n",
      "  </a>\n",
      " </div>\n",
      "</td>\n",
      "\n"
     ]
    }
   ],
   "source": [
    "print(soup.prettify())"
   ]
  },
  {
   "cell_type": "code",
   "execution_count": 11,
   "id": "dd2fd8f4",
   "metadata": {},
   "outputs": [
    {
     "data": {
      "text/plain": [
       "\n",
       "<td class=\"title\">\n",
       "<div class=\"tit3\">\n",
       "<a href=\"/movie/bi/mi/basic.naver?code=74977\" title=\"아바타: 물의 길\">아바타: 물의 길</a>\n",
       "</div>\n",
       "</td>"
      ]
     },
     "execution_count": 11,
     "metadata": {},
     "output_type": "execute_result"
    }
   ],
   "source": [
    "soup"
   ]
  },
  {
   "cell_type": "code",
   "execution_count": 32,
   "id": "63959e34",
   "metadata": {},
   "outputs": [
    {
     "data": {
      "text/plain": [
       "<td class=\"title\">\n",
       "<div class=\"tit3\">\n",
       "<a href=\"/movie/bi/mi/basic.naver?code=74977\" title=\"아바타: 물의 길\">아바타: 물의 길</a>\n",
       "</div>\n",
       "</td>"
      ]
     },
     "execution_count": 32,
     "metadata": {},
     "output_type": "execute_result"
    }
   ],
   "source": [
    "# html의 자식 노드(tag)는 부모 노드(tag)에서 .으로 접근가능\n",
    "# 최상위에서 동일한 노드가 존재할 때에는 제일 앞에있는 노드를 반환\n",
    "soup.td"
   ]
  },
  {
   "cell_type": "code",
   "execution_count": 33,
   "id": "6cb76fa4",
   "metadata": {},
   "outputs": [
    {
     "data": {
      "text/plain": [
       "'td'"
      ]
     },
     "execution_count": 33,
     "metadata": {},
     "output_type": "execute_result"
    }
   ],
   "source": [
    "# Tag이름 조회는 name으로 조회\n",
    "soup.td.name"
   ]
  },
  {
   "cell_type": "code",
   "execution_count": 34,
   "id": "7a07e57d",
   "metadata": {},
   "outputs": [
    {
     "data": {
      "text/plain": [
       "{'class': ['title']}"
      ]
     },
     "execution_count": 34,
     "metadata": {},
     "output_type": "execute_result"
    }
   ],
   "source": [
    "# 현재 노드(tag)의 속성은 attrs로 조회 ({속성명 : 값} <= dict형태로 반환)\n",
    "soup.td.attrs"
   ]
  },
  {
   "cell_type": "code",
   "execution_count": 35,
   "id": "bbff9fb5",
   "metadata": {},
   "outputs": [
    {
     "data": {
      "text/plain": [
       "['title']"
      ]
     },
     "execution_count": 35,
     "metadata": {},
     "output_type": "execute_result"
    }
   ],
   "source": [
    "# 속성값이 dictionary 타입이므로 키값으로 접근한다.\n",
    "soup.td.attrs['class']"
   ]
  },
  {
   "cell_type": "code",
   "execution_count": 36,
   "id": "8bd04fd9",
   "metadata": {},
   "outputs": [
    {
     "data": {
      "text/plain": [
       "'title'"
      ]
     },
     "execution_count": 36,
     "metadata": {},
     "output_type": "execute_result"
    }
   ],
   "source": [
    "soup.td.attrs['class'][0]"
   ]
  },
  {
   "cell_type": "code",
   "execution_count": 12,
   "id": "f54590ad",
   "metadata": {},
   "outputs": [
    {
     "data": {
      "text/plain": [
       "<td class=\"title\">\n",
       "<div class=\"tit3\">\n",
       "<a href=\"/movie/bi/mi/basic.naver?code=74977\" title=\"아바타: 물의 길\">아바타: 물의 길</a>\n",
       "</div>\n",
       "</td>"
      ]
     },
     "execution_count": 12,
     "metadata": {},
     "output_type": "execute_result"
    }
   ],
   "source": [
    "tag = soup.td\n",
    "tag"
   ]
  },
  {
   "cell_type": "code",
   "execution_count": 13,
   "id": "12c33fd0",
   "metadata": {},
   "outputs": [
    {
     "data": {
      "text/plain": [
       "'td'"
      ]
     },
     "execution_count": 13,
     "metadata": {},
     "output_type": "execute_result"
    }
   ],
   "source": [
    "tag.name"
   ]
  },
  {
   "cell_type": "code",
   "execution_count": 14,
   "id": "4f28e441",
   "metadata": {},
   "outputs": [
    {
     "data": {
      "text/plain": [
       "'title'"
      ]
     },
     "execution_count": 14,
     "metadata": {},
     "output_type": "execute_result"
    }
   ],
   "source": [
    "tag.attrs['class'][0]"
   ]
  },
  {
   "cell_type": "code",
   "execution_count": 15,
   "id": "0e145ac8",
   "metadata": {},
   "outputs": [
    {
     "data": {
      "text/plain": [
       "<div class=\"tit3\">\n",
       "<a href=\"/movie/bi/mi/basic.naver?code=74977\" title=\"아바타: 물의 길\">아바타: 물의 길</a>\n",
       "</div>"
      ]
     },
     "execution_count": 15,
     "metadata": {},
     "output_type": "execute_result"
    }
   ],
   "source": [
    "soup.td.div"
   ]
  },
  {
   "cell_type": "code",
   "execution_count": 16,
   "id": "c474f373",
   "metadata": {},
   "outputs": [
    {
     "data": {
      "text/plain": [
       "<a href=\"/movie/bi/mi/basic.naver?code=74977\" title=\"아바타: 물의 길\">아바타: 물의 길</a>"
      ]
     },
     "execution_count": 16,
     "metadata": {},
     "output_type": "execute_result"
    }
   ],
   "source": [
    "soup.td.div.a"
   ]
  },
  {
   "cell_type": "code",
   "execution_count": 17,
   "id": "147f1d98",
   "metadata": {},
   "outputs": [
    {
     "data": {
      "text/plain": [
       "{'href': '/movie/bi/mi/basic.naver?code=74977', 'title': '아바타: 물의 길'}"
      ]
     },
     "execution_count": 17,
     "metadata": {},
     "output_type": "execute_result"
    }
   ],
   "source": [
    "soup.td.div.a.attrs"
   ]
  },
  {
   "cell_type": "code",
   "execution_count": 18,
   "id": "7a032459",
   "metadata": {},
   "outputs": [
    {
     "data": {
      "text/plain": [
       "'/movie/bi/mi/basic.naver?code=74977'"
      ]
     },
     "execution_count": 18,
     "metadata": {},
     "output_type": "execute_result"
    }
   ],
   "source": [
    "soup.td.div.a.attrs['href']"
   ]
  },
  {
   "cell_type": "code",
   "execution_count": 19,
   "id": "60d16bcd",
   "metadata": {},
   "outputs": [
    {
     "data": {
      "text/plain": [
       "'아바타: 물의 길'"
      ]
     },
     "execution_count": 19,
     "metadata": {},
     "output_type": "execute_result"
    }
   ],
   "source": [
    "soup.td.div.a.attrs['title']"
   ]
  },
  {
   "cell_type": "code",
   "execution_count": 45,
   "id": "3eba7e3d",
   "metadata": {},
   "outputs": [
    {
     "data": {
      "text/plain": [
       "'아바타: 물의 길'"
      ]
     },
     "execution_count": 45,
     "metadata": {},
     "output_type": "execute_result"
    }
   ],
   "source": [
    "# 태그 사이에 있는 값을 반환\n",
    "soup.td.div.a.string"
   ]
  },
  {
   "cell_type": "code",
   "execution_count": 46,
   "id": "ccf9fd89",
   "metadata": {},
   "outputs": [
    {
     "data": {
      "text/plain": [
       "'아바타: 물의 길'"
      ]
     },
     "execution_count": 46,
     "metadata": {},
     "output_type": "execute_result"
    }
   ],
   "source": [
    "# 태그 사이에 있는 값을 반환 (string 효과와 동일)\n",
    "soup.td.div.a.text"
   ]
  },
  {
   "cell_type": "code",
   "execution_count": 28,
   "id": "5e9cdc53",
   "metadata": {},
   "outputs": [],
   "source": [
    "html='''\n",
    "<td class=\"title\">\n",
    "    <div class=\"tit3\">\n",
    "        <a href=\"/movie/bi/mi/basic.naver?code=74977\" title=\"아바타: 물의 길\">아바타: 물의 길</a>\n",
    "    </div>\n",
    "</td>\n",
    "<td class=\"title\">\n",
    "    <div class=\"tit3\">\n",
    "        <a href=\"/movie/bi/mi/basic.naver?code=184509\" title=\"영웅\">영웅</a>\n",
    "    </div>\n",
    "</td>\n",
    "                \n",
    "'''"
   ]
  },
  {
   "cell_type": "code",
   "execution_count": 29,
   "id": "fc3666ce",
   "metadata": {},
   "outputs": [],
   "source": [
    "soup=BeautifulSoup(html,'html.parser')"
   ]
  },
  {
   "cell_type": "code",
   "execution_count": 30,
   "id": "40e73165",
   "metadata": {},
   "outputs": [
    {
     "data": {
      "text/plain": [
       "\n",
       "<td class=\"title\">\n",
       "<div class=\"tit3\">\n",
       "<a href=\"/movie/bi/mi/basic.naver?code=74977\" title=\"아바타: 물의 길\">아바타: 물의 길</a>\n",
       "</div>\n",
       "</td>\n",
       "<td class=\"title\">\n",
       "<div class=\"tit3\">\n",
       "<a href=\"/movie/bi/mi/basic.naver?code=184509\" title=\"영웅\">영웅</a>\n",
       "</div>\n",
       "</td>"
      ]
     },
     "execution_count": 30,
     "metadata": {},
     "output_type": "execute_result"
    }
   ],
   "source": [
    "soup"
   ]
  },
  {
   "cell_type": "code",
   "execution_count": 31,
   "id": "913fee94",
   "metadata": {},
   "outputs": [
    {
     "data": {
      "text/plain": [
       "<td class=\"title\">\n",
       "<div class=\"tit3\">\n",
       "<a href=\"/movie/bi/mi/basic.naver?code=74977\" title=\"아바타: 물의 길\">아바타: 물의 길</a>\n",
       "</div>\n",
       "</td>"
      ]
     },
     "execution_count": 31,
     "metadata": {},
     "output_type": "execute_result"
    }
   ],
   "source": [
    "soup.td"
   ]
  },
  {
   "cell_type": "code",
   "execution_count": 32,
   "id": "62933541",
   "metadata": {},
   "outputs": [
    {
     "data": {
      "text/plain": [
       "<td class=\"title\">\n",
       "<div class=\"tit3\">\n",
       "<a href=\"/movie/bi/mi/basic.naver?code=74977\" title=\"아바타: 물의 길\">아바타: 물의 길</a>\n",
       "</div>\n",
       "</td>"
      ]
     },
     "execution_count": 32,
     "metadata": {},
     "output_type": "execute_result"
    }
   ],
   "source": [
    "soup.find('td')"
   ]
  },
  {
   "cell_type": "code",
   "execution_count": 36,
   "id": "58d325eb",
   "metadata": {},
   "outputs": [
    {
     "data": {
      "text/plain": [
       "[<td class=\"title\">\n",
       " <div class=\"tit3\">\n",
       " <a href=\"/movie/bi/mi/basic.naver?code=74977\" title=\"아바타: 물의 길\">아바타: 물의 길</a>\n",
       " </div>\n",
       " </td>,\n",
       " <td class=\"title\">\n",
       " <div class=\"tit3\">\n",
       " <a href=\"/movie/bi/mi/basic.naver?code=184509\" title=\"영웅\">영웅</a>\n",
       " </div>\n",
       " </td>]"
      ]
     },
     "execution_count": 36,
     "metadata": {},
     "output_type": "execute_result"
    }
   ],
   "source": [
    "# 동일한 태그의 전체 노드를 리스트로 반환\n",
    "soup.findAll('td')"
   ]
  },
  {
   "cell_type": "code",
   "execution_count": 37,
   "id": "1c2156f8",
   "metadata": {},
   "outputs": [
    {
     "data": {
      "text/plain": [
       "[<td class=\"title\">\n",
       " <div class=\"tit3\">\n",
       " <a href=\"/movie/bi/mi/basic.naver?code=74977\" title=\"아바타: 물의 길\">아바타: 물의 길</a>\n",
       " </div>\n",
       " </td>,\n",
       " <td class=\"title\">\n",
       " <div class=\"tit3\">\n",
       " <a href=\"/movie/bi/mi/basic.naver?code=184509\" title=\"영웅\">영웅</a>\n",
       " </div>\n",
       " </td>]"
      ]
     },
     "execution_count": 37,
     "metadata": {},
     "output_type": "execute_result"
    }
   ],
   "source": [
    "# 태그는 같지만 속성이 다를 수도 있다. 이 경우에 두번째 인자에 속성을 줄 수 있다.\n",
    "soup.findAll('td',{'class':'title'})"
   ]
  },
  {
   "cell_type": "code",
   "execution_count": null,
   "id": "e0099d0b",
   "metadata": {},
   "outputs": [],
   "source": []
  }
 ],
 "metadata": {
  "kernelspec": {
   "display_name": "Python 3 (ipykernel)",
   "language": "python",
   "name": "python3"
  },
  "language_info": {
   "codemirror_mode": {
    "name": "ipython",
    "version": 3
   },
   "file_extension": ".py",
   "mimetype": "text/x-python",
   "name": "python",
   "nbconvert_exporter": "python",
   "pygments_lexer": "ipython3",
   "version": "3.9.13"
  }
 },
 "nbformat": 4,
 "nbformat_minor": 5
}
