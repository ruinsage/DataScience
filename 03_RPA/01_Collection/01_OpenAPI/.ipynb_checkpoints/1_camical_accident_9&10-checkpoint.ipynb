{
 "cells": [
  {
   "cell_type": "code",
   "execution_count": 391,
   "id": "74356658",
   "metadata": {},
   "outputs": [],
   "source": [
    "import pandas as pd\n",
    "import cx_Oracle\n",
    "import requests\n",
    "from xml.etree.ElementTree import fromstring"
   ]
  },
  {
   "cell_type": "code",
   "execution_count": 392,
   "id": "9d15fcc6",
   "metadata": {},
   "outputs": [],
   "source": [
    "access_key = 'pnWEl7Muj6PpSyrC35SaqRjYnKAAL0xedWtDdUQDmfsWvqDxK1ORAkSg2/axQsJNCKZjQlf98A3TRAuuIzJ0GQ=='\n",
    "TOTAL_NUM = 75\n",
    "MAX_TRANSACTION = 20\n",
    "request_total_num = ( TOTAL_NUM // MAX_TRANSACTION) + 1\n",
    "target_year = 2020"
   ]
  },
  {
   "cell_type": "code",
   "execution_count": 393,
   "id": "c022a15f",
   "metadata": {},
   "outputs": [],
   "source": [
    "con = cx_Oracle.connect('open_source/1111@localhost:1521/xe')"
   ]
  },
  {
   "cell_type": "code",
   "execution_count": 394,
   "id": "58028d1a",
   "metadata": {},
   "outputs": [],
   "source": [
    "cur = con.cursor()"
   ]
  },
  {
   "cell_type": "code",
   "execution_count": 395,
   "id": "83e91dd5",
   "metadata": {},
   "outputs": [],
   "source": [
    "def xml_to_oracle(data_root, data_name):\n",
    "    for row in data_root.iter(data_name):\n",
    "        sql_insert = '''\n",
    "            insert into camical_accident(일련번호, 사고일자, 사고유형, 지역, 주소, 사고원인,사고물질,발생장소,사고개요)\n",
    "            values(:일련번호, :사고일자, :사고유형, :지역, :주소, :사고원인,:사고물질,:발생장소,:사고개요)\n",
    "        '''\n",
    "        일련번호 = row.find('dataNo').text\n",
    "        사고일자 = row.find('cscDe').text\n",
    "        사고유형 = row.find('cscTy').text\n",
    "        지역 = row.find('area').text\n",
    "        주소 = row.find('addr').text\n",
    "        사고원인 = row.find('cause').text\n",
    "        사고물질 = row.find('chem').text\n",
    "        발생장소 = row.find('place').text\n",
    "        사고개요 = row.find('summary').text\n",
    "        \n",
    "        cur.execute(sql_insert,(일련번호, 사고일자, 사고유형, 지역, 주소, 사고원인,사고물질,발생장소,사고개요))\n",
    "        con.commit()"
   ]
  },
  {
   "cell_type": "code",
   "execution_count": 396,
   "id": "c4e13b83",
   "metadata": {},
   "outputs": [],
   "source": [
    "def get_request_url(page_no):\n",
    "        url = 'http://apis.data.go.kr/1480802/iciscsc/csclist'\n",
    "        #params = {'serviceKey': access_key}\n",
    "        params = {'serviceKey': access_key,'numOfRows': MAX_TRANSACTION,'pageNo': page_no, 'yyyy' : target_year}\n",
    "        response = requests.get(url, params=params)\n",
    "        return response.text"
   ]
  },
  {
   "cell_type": "code",
   "execution_count": 397,
   "id": "26ad83c1",
   "metadata": {},
   "outputs": [],
   "source": [
    "rename_dict = {'dataNo' : '일련번호', 'cscDe' : '사고일자', 'cscTy' : '사고유형', 'area' : '지역', 'addr' : '주소', 'cause' : '사고원인', 'chem' : '사고물질', 'place' : '발생장소', 'summary' : '사고개요'}\n",
    "REDEFINE_COLUMNS = ['일련번호', '사고일자', '사고유형', '지역', '주소', '사고원인','사고물질','발생장소','사고개요']"
   ]
  },
  {
   "cell_type": "code",
   "execution_count": 398,
   "id": "4ae460bb",
   "metadata": {
    "scrolled": false
   },
   "outputs": [],
   "source": [
    "for page_no in range(1, request_total_num+1):\n",
    "    raw_xml = get_request_url(page_no)\n",
    "    root = fromstring(raw_xml)\n",
    "\n",
    "    data_root = root.find('body').find('items')\n",
    "    \n",
    "    xml_to_oracle(data_root, 'item')"
   ]
  },
  {
   "cell_type": "code",
   "execution_count": null,
   "id": "7b1a2c48",
   "metadata": {},
   "outputs": [],
   "source": []
  }
 ],
 "metadata": {
  "kernelspec": {
   "display_name": "Python 3 (ipykernel)",
   "language": "python",
   "name": "python3"
  },
  "language_info": {
   "codemirror_mode": {
    "name": "ipython",
    "version": 3
   },
   "file_extension": ".py",
   "mimetype": "text/x-python",
   "name": "python",
   "nbconvert_exporter": "python",
   "pygments_lexer": "ipython3",
   "version": "3.9.13"
  }
 },
 "nbformat": 4,
 "nbformat_minor": 5
}
