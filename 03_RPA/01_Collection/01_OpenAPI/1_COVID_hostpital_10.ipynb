{
 "cells": [
  {
   "cell_type": "code",
   "execution_count": 12,
   "id": "d7f4ff60",
   "metadata": {},
   "outputs": [],
   "source": [
    "import pandas as pd\n",
    "import cx_Oracle\n",
    "import requests\n",
    "from xml.etree.ElementTree import fromstring"
   ]
  },
  {
   "cell_type": "code",
   "execution_count": 13,
   "id": "56e9cf02",
   "metadata": {},
   "outputs": [],
   "source": [
    "access_key = 'pnWEl7Muj6PpSyrC35SaqRjYnKAAL0xedWtDdUQDmfsWvqDxK1ORAkSg2/axQsJNCKZjQlf98A3TRAuuIzJ0GQ=='\n",
    "TOTAL_NUM = 102\n",
    "MAX_TRANSACTION = 30\n",
    "request_total_num = ( TOTAL_NUM // MAX_TRANSACTION) + 1"
   ]
  },
  {
   "cell_type": "code",
   "execution_count": 14,
   "id": "661f6c8f",
   "metadata": {},
   "outputs": [],
   "source": [
    "con = cx_Oracle.connect('open_source/1111@localhost:1521/xe')"
   ]
  },
  {
   "cell_type": "code",
   "execution_count": 15,
   "id": "a89fb17b",
   "metadata": {},
   "outputs": [],
   "source": [
    "cur = con.cursor()"
   ]
  },
  {
   "cell_type": "code",
   "execution_count": 16,
   "id": "07ade9e1",
   "metadata": {},
   "outputs": [],
   "source": [
    "def xml_to_oracle(data_root, data_name):\n",
    "    for row in data_root.iter(data_name):\n",
    "        sql_insert = '''\n",
    "            insert into covid_hospital(기관명, 구분코드, 시도명, 시군구명, 전화번호, 운영가능일자)\n",
    "            values(:기관명, :구분코드, :시도명, :시군구명, :전화번호, :운영가능일자)\n",
    "        '''\n",
    "#  'adtFrDd': '운영가능일자', 'sgguNm': '시군구명', 'sidoNm': '시도명', 'spclAdmTyCd': '구분코드', 'telno': '전화번호', 'yadmNm': '기관명'\n",
    "        기관명 = row.find('yadmNm').text\n",
    "        구분코드 = row.find('spclAdmTyCd').text\n",
    "        시도명 = row.find('sidoNm').text\n",
    "        시군구명 = row.find('sgguNm').text\n",
    "        전화번호 = row.find('telno').text\n",
    "        운영가능일자 = row.find('adtFrDd').text\n",
    "        \n",
    "        cur.execute(sql_insert, (기관명, 구분코드, 시도명, 시군구명, 전화번호, 운영가능일자))\n",
    "        con.commit()"
   ]
  },
  {
   "cell_type": "code",
   "execution_count": 17,
   "id": "94f58d19",
   "metadata": {},
   "outputs": [],
   "source": [
    "def get_request_url(page_no):\n",
    "    url = 'http://apis.data.go.kr/B551182/pubReliefHospService/getpubReliefHospList'\n",
    "    # params = {'serviceKey': access_key}\n",
    "    params = {'serviceKey': access_key,'numOfRows': MAX_TRANSACTION,'pageNo': page_no}\n",
    "    response = requests.get(url, params=params)\n",
    "    return response.text"
   ]
  },
  {
   "cell_type": "code",
   "execution_count": 24,
   "id": "a786dca9",
   "metadata": {},
   "outputs": [],
   "source": [
    "raw_xml = get_request_url(page_no)"
   ]
  },
  {
   "cell_type": "code",
   "execution_count": 25,
   "id": "86e0aff6",
   "metadata": {},
   "outputs": [],
   "source": [
    "root = fromstring(raw_xml)"
   ]
  },
  {
   "cell_type": "code",
   "execution_count": 26,
   "id": "d0109c76",
   "metadata": {},
   "outputs": [],
   "source": [
    "data_root = root.find('body').find('items')"
   ]
  },
  {
   "cell_type": "code",
   "execution_count": 27,
   "id": "0b07acbf",
   "metadata": {},
   "outputs": [],
   "source": [
    "rename_dict = {'adtFrDd': '운영가능일자', 'sgguNm': '시군구명', 'sidoNm': '시도명', 'spclAdmTyCd': '구분코드', 'telno': '전화번호', 'yadmNm': '기관명'}\n",
    "REDEFINE_COLUMNS = ['기관명', '구분코드', '시도명', '시군구명', '전화번호', '운영가능일자']"
   ]
  },
  {
   "cell_type": "code",
   "execution_count": 30,
   "id": "c2a6128e",
   "metadata": {},
   "outputs": [],
   "source": [
    "for page_no in range(1, request_total_num+1):\n",
    "    raw_xml = get_request_url(page_no)\n",
    "    root = fromstring(raw_xml)\n",
    "\n",
    "    data_root = root.find('body').find('items')\n",
    "    \n",
    "    xml_to_oracle(data_root, 'item')"
   ]
  },
  {
   "cell_type": "code",
   "execution_count": null,
   "id": "e9632e69",
   "metadata": {},
   "outputs": [],
   "source": []
  },
  {
   "cell_type": "code",
   "execution_count": null,
   "id": "1971cfb0",
   "metadata": {},
   "outputs": [],
   "source": []
  },
  {
   "cell_type": "code",
   "execution_count": 38,
   "id": "f63d8366",
   "metadata": {},
   "outputs": [],
   "source": [
    "xml_to_oracle(data_root,'item')"
   ]
  },
  {
   "cell_type": "code",
   "execution_count": null,
   "id": "4efb4955",
   "metadata": {},
   "outputs": [],
   "source": []
  }
 ],
 "metadata": {
  "kernelspec": {
   "display_name": "Python 3 (ipykernel)",
   "language": "python",
   "name": "python3"
  },
  "language_info": {
   "codemirror_mode": {
    "name": "ipython",
    "version": 3
   },
   "file_extension": ".py",
   "mimetype": "text/x-python",
   "name": "python",
   "nbconvert_exporter": "python",
   "pygments_lexer": "ipython3",
   "version": "3.9.13"
  }
 },
 "nbformat": 4,
 "nbformat_minor": 5
}
