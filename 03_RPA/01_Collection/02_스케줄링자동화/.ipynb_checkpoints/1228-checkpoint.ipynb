{
 "cells": [
  {
   "cell_type": "code",
   "execution_count": 1,
   "id": "d3b01206",
   "metadata": {},
   "outputs": [],
   "source": [
    "import cx_Oracle\n",
    "import pandas as pd\n",
    "import requests\n",
    "from xml.etree.ElementTree import fromstring\n",
    "import numpy as np\n",
    "import matplotlib.pyplot as plt\n",
    "import seaborn as sns\n",
    "from matplotlib import font_manager,rc\n",
    "import pyproj"
   ]
  },
  {
   "cell_type": "code",
   "execution_count": 2,
   "id": "a702eb61",
   "metadata": {},
   "outputs": [
    {
     "data": {
      "text/plain": [
       "<cx_Oracle.Cursor on <cx_Oracle.Connection to open_source@localhost:1521/xe>>"
      ]
     },
     "execution_count": 2,
     "metadata": {},
     "output_type": "execute_result"
    }
   ],
   "source": [
    "conn = cx_Oracle.connect('open_source/1111@localhost:1521/xe')\n",
    "cur = conn.cursor()\n",
    "cur.execute(\"\"\"\n",
    "select column_name from user_tab_columns where table_name = 'BUS_753'\n",
    "\"\"\")"
   ]
  },
  {
   "cell_type": "code",
   "execution_count": 3,
   "id": "c8f92141",
   "metadata": {},
   "outputs": [
    {
     "data": {
      "text/plain": [
       "['정류소ID', '정류소명', '첫번째도착정보메시지', '두번째도착정보메시지', '제공시각']"
      ]
     },
     "execution_count": 3,
     "metadata": {},
     "output_type": "execute_result"
    }
   ],
   "source": [
    "column_list = [record[0] for record in cur]\n",
    "column_list"
   ]
  },
  {
   "cell_type": "code",
   "execution_count": 4,
   "id": "ff514c83",
   "metadata": {},
   "outputs": [
    {
     "data": {
      "text/html": [
       "<div>\n",
       "<style scoped>\n",
       "    .dataframe tbody tr th:only-of-type {\n",
       "        vertical-align: middle;\n",
       "    }\n",
       "\n",
       "    .dataframe tbody tr th {\n",
       "        vertical-align: top;\n",
       "    }\n",
       "\n",
       "    .dataframe thead th {\n",
       "        text-align: right;\n",
       "    }\n",
       "</style>\n",
       "<table border=\"1\" class=\"dataframe\">\n",
       "  <thead>\n",
       "    <tr style=\"text-align: right;\">\n",
       "      <th></th>\n",
       "      <th>정류소ID</th>\n",
       "      <th>정류소명</th>\n",
       "      <th>첫번째도착정보메시지</th>\n",
       "      <th>두번째도착정보메시지</th>\n",
       "      <th>제공시각</th>\n",
       "    </tr>\n",
       "  </thead>\n",
       "  <tbody>\n",
       "    <tr>\n",
       "      <th>0</th>\n",
       "      <td>111000299</td>\n",
       "      <td>구산동사거리</td>\n",
       "      <td>출발대기</td>\n",
       "      <td>출발대기</td>\n",
       "      <td>2022-12-28 16:43:03</td>\n",
       "    </tr>\n",
       "    <tr>\n",
       "      <th>1</th>\n",
       "      <td>111000181</td>\n",
       "      <td>한솔아파트입구선정중학교후문</td>\n",
       "      <td>출발대기</td>\n",
       "      <td>출발대기</td>\n",
       "      <td>2022-12-28 16:43:03</td>\n",
       "    </tr>\n",
       "    <tr>\n",
       "      <th>2</th>\n",
       "      <td>111000182</td>\n",
       "      <td>갈현동미미아파트</td>\n",
       "      <td>출발대기</td>\n",
       "      <td>출발대기</td>\n",
       "      <td>2022-12-28 16:43:03</td>\n",
       "    </tr>\n",
       "    <tr>\n",
       "      <th>3</th>\n",
       "      <td>111000183</td>\n",
       "      <td>선일여고입구</td>\n",
       "      <td>출발대기</td>\n",
       "      <td>출발대기</td>\n",
       "      <td>2022-12-28 16:43:03</td>\n",
       "    </tr>\n",
       "    <tr>\n",
       "      <th>4</th>\n",
       "      <td>111000184</td>\n",
       "      <td>갈현동성당앞</td>\n",
       "      <td>출발대기</td>\n",
       "      <td>출발대기</td>\n",
       "      <td>2022-12-28 16:43:03</td>\n",
       "    </tr>\n",
       "  </tbody>\n",
       "</table>\n",
       "</div>"
      ],
      "text/plain": [
       "       정류소ID            정류소명 첫번째도착정보메시지 두번째도착정보메시지                제공시각\n",
       "0  111000299          구산동사거리       출발대기       출발대기 2022-12-28 16:43:03\n",
       "1  111000181  한솔아파트입구선정중학교후문       출발대기       출발대기 2022-12-28 16:43:03\n",
       "2  111000182        갈현동미미아파트       출발대기       출발대기 2022-12-28 16:43:03\n",
       "3  111000183          선일여고입구       출발대기       출발대기 2022-12-28 16:43:03\n",
       "4  111000184          갈현동성당앞       출발대기       출발대기 2022-12-28 16:43:03"
      ]
     },
     "execution_count": 4,
     "metadata": {},
     "output_type": "execute_result"
    }
   ],
   "source": [
    "cur.execute('select * from BUS_753')\n",
    "bus753_df= pd.DataFrame(cur, columns=column_list)\n",
    "bus753_df.head()"
   ]
  },
  {
   "cell_type": "code",
   "execution_count": null,
   "id": "b35ddf2b",
   "metadata": {},
   "outputs": [],
   "source": []
  },
  {
   "cell_type": "code",
   "execution_count": 6,
   "id": "e7ba061e",
   "metadata": {},
   "outputs": [],
   "source": [
    "font_location = \"C:\\Windows\\Fonts\\malgun.ttf\"\n",
    "font_name = font_manager.FontProperties(fname=font_location).get_name()\n",
    "rc('font',family=font_name)\n",
    "plt.rcParams['axes.unicode_minus'] = False\n",
    "bus_station_df = pd.read_csv('서울시버스정류소좌표데이터.csv', encoding='cp949')"
   ]
  },
  {
   "cell_type": "code",
   "execution_count": 7,
   "id": "b3f90cb1",
   "metadata": {},
   "outputs": [
    {
     "data": {
      "text/html": [
       "<div>\n",
       "<style scoped>\n",
       "    .dataframe tbody tr th:only-of-type {\n",
       "        vertical-align: middle;\n",
       "    }\n",
       "\n",
       "    .dataframe tbody tr th {\n",
       "        vertical-align: top;\n",
       "    }\n",
       "\n",
       "    .dataframe thead th {\n",
       "        text-align: right;\n",
       "    }\n",
       "</style>\n",
       "<table border=\"1\" class=\"dataframe\">\n",
       "  <thead>\n",
       "    <tr style=\"text-align: right;\">\n",
       "      <th></th>\n",
       "      <th>정류소ID</th>\n",
       "      <th>ARS-ID</th>\n",
       "      <th>정류소명</th>\n",
       "      <th>X좌표</th>\n",
       "      <th>Y좌표</th>\n",
       "    </tr>\n",
       "  </thead>\n",
       "  <tbody>\n",
       "    <tr>\n",
       "      <th>0</th>\n",
       "      <td>100000001</td>\n",
       "      <td>1001</td>\n",
       "      <td>종로2가사거리</td>\n",
       "      <td>126.987750</td>\n",
       "      <td>37.569765</td>\n",
       "    </tr>\n",
       "    <tr>\n",
       "      <th>1</th>\n",
       "      <td>100000002</td>\n",
       "      <td>1002</td>\n",
       "      <td>창경궁.서울대학교병원</td>\n",
       "      <td>126.996566</td>\n",
       "      <td>37.579183</td>\n",
       "    </tr>\n",
       "    <tr>\n",
       "      <th>2</th>\n",
       "      <td>100000003</td>\n",
       "      <td>1003</td>\n",
       "      <td>명륜3가.성대입구</td>\n",
       "      <td>126.998340</td>\n",
       "      <td>37.582671</td>\n",
       "    </tr>\n",
       "    <tr>\n",
       "      <th>3</th>\n",
       "      <td>100000004</td>\n",
       "      <td>1004</td>\n",
       "      <td>종로2가.삼일교</td>\n",
       "      <td>126.987613</td>\n",
       "      <td>37.568579</td>\n",
       "    </tr>\n",
       "    <tr>\n",
       "      <th>4</th>\n",
       "      <td>100000005</td>\n",
       "      <td>1005</td>\n",
       "      <td>혜화동로터리.여운형활동터</td>\n",
       "      <td>127.001744</td>\n",
       "      <td>37.586243</td>\n",
       "    </tr>\n",
       "  </tbody>\n",
       "</table>\n",
       "</div>"
      ],
      "text/plain": [
       "       정류소ID  ARS-ID           정류소명         X좌표        Y좌표\n",
       "0  100000001    1001        종로2가사거리  126.987750  37.569765\n",
       "1  100000002    1002    창경궁.서울대학교병원  126.996566  37.579183\n",
       "2  100000003    1003      명륜3가.성대입구  126.998340  37.582671\n",
       "3  100000004    1004       종로2가.삼일교  126.987613  37.568579\n",
       "4  100000005    1005  혜화동로터리.여운형활동터  127.001744  37.586243"
      ]
     },
     "execution_count": 7,
     "metadata": {},
     "output_type": "execute_result"
    }
   ],
   "source": [
    "bus_station_df.head()"
   ]
  },
  {
   "cell_type": "code",
   "execution_count": null,
   "id": "09a00ff3",
   "metadata": {},
   "outputs": [],
   "source": [
    "bus_station_df=bus_station_df[['정류소ID','X좌표','Y좌표']]"
   ]
  },
  {
   "cell_type": "code",
   "execution_count": null,
   "id": "e885044c",
   "metadata": {},
   "outputs": [],
   "source": [
    "bus_station_df['정류소ID']=bus_station_df['정류소ID'].astype('object')"
   ]
  },
  {
   "cell_type": "code",
   "execution_count": null,
   "id": "e4fcb067",
   "metadata": {},
   "outputs": [],
   "source": [
    "pd.merge(left = bus753_df , right = bus_station_df, how = \"right\", on = \"정류소ID\")"
   ]
  },
  {
   "cell_type": "code",
   "execution_count": null,
   "id": "b8d6d8b8",
   "metadata": {},
   "outputs": [],
   "source": []
  }
 ],
 "metadata": {
  "kernelspec": {
   "display_name": "Python 3 (ipykernel)",
   "language": "python",
   "name": "python3"
  },
  "language_info": {
   "codemirror_mode": {
    "name": "ipython",
    "version": 3
   },
   "file_extension": ".py",
   "mimetype": "text/x-python",
   "name": "python",
   "nbconvert_exporter": "python",
   "pygments_lexer": "ipython3",
   "version": "3.9.13"
  }
 },
 "nbformat": 4,
 "nbformat_minor": 5
}
