{
 "cells": [
  {
   "cell_type": "code",
   "execution_count": 27,
   "id": "d490978b",
   "metadata": {},
   "outputs": [],
   "source": [
    "import cx_Oracle\n",
    "import pandas as pd\n",
    "import requests\n",
    "import urllib.request\n",
    "from bs4 import BeautifulSoup\n",
    "import re\n",
    "import urllib.request as ur\n",
    "from matplotlib import font_manager,rc\n",
    "import matplotlib.pyplot as plt\n",
    "import seaborn as sns\n",
    "import json\n",
    "\n",
    "font_location = \"C:\\Windows\\Fonts\\malgun.ttf\"\n",
    "font_name = font_manager.FontProperties(fname=font_location).get_name()\n",
    "rc('font',family=font_name)\n",
    "plt.rcParams['axes.unicode_minus'] = False"
   ]
  },
  {
   "cell_type": "code",
   "execution_count": 83,
   "id": "4a940b57",
   "metadata": {},
   "outputs": [],
   "source": [
    "conn = cx_Oracle.connect('open_source/1111@localhost:1521/xe')\n",
    "cur = conn.cursor()"
   ]
  },
  {
   "cell_type": "code",
   "execution_count": 98,
   "id": "cc0e6903",
   "metadata": {},
   "outputs": [
    {
     "data": {
      "text/plain": [
       "{\"result\":\"success\",\"info_cnt\":10,\"info\":[{\"id\":\"11111111\",\"name\":\"서귀포매일올레시장\",\"addr\":\"서귀포시 중앙로 62번길 18\",\"x_crdn\":126.56326295,\"y_crdn\":33.25031562,\"park_day\":\"월화수목금토일\",\"wkdy_strt\":\"090000\",\"wkdy_end\":\"180000\",\"lhdy_strt\":\"090000\",\"lhdy_end\":\"180000\",\"basic_time\":30,\"basic_fare\":1000,\"add_time\":15,\"add_fare\":500,\"whol_npls\":216},{\"id\":\"16488201\",\"name\":\"법원북측공영주차장\",\"addr\":\"제주시 이도이동 1066\",\"x_crdn\":126.53534209,\"y_crdn\":33.49472463,\"park_day\":\"월화수목금토일\",\"wkdy_strt\":\"090000\",\"wkdy_end\":\"180000\",\"lhdy_strt\":\"090000\",\"lhdy_end\":\"180000\",\"basic_time\":30,\"basic_fare\":1000,\"add_time\":15,\"add_fare\":500,\"whol_npls\":91},{\"id\":\"20019319\",\"name\":\"산짓물공영주차장\",\"addr\":\"제주시 건입동 1330\",\"x_crdn\":126.52872778,\"y_crdn\":33.51590058,\"park_day\":\"월화수목금토일\",\"wkdy_strt\":\"090000\",\"wkdy_end\":\"180000\",\"lhdy_strt\":\"090000\",\"lhdy_end\":\"180000\",\"basic_time\":30,\"basic_fare\":1000,\"add_time\":15,\"add_fare\":500,\"whol_npls\":71},{\"id\":\"17680713\",\"name\":\"이도2동공영주차장\",\"addr\":\"제주시 오복3길 9 (이도이동 1052-2)\",\"x_crdn\":126.53494394,\"y_crdn\":33.49673819,\"park_day\":\"월화수목금토일\",\"wkdy_strt\":\"090000\",\"wkdy_end\":\"180000\",\"lhdy_strt\":\"090000\",\"lhdy_end\":\"180000\",\"basic_time\":30,\"basic_fare\":1000,\"add_time\":15,\"add_fare\":500,\"whol_npls\":150},{\"id\":\"17759313\",\"name\":\"북수구공영주차장\",\"addr\":\"제주시 일도일동 1230-3\",\"x_crdn\":126.52794054,\"y_crdn\":33.5146917,\"park_day\":\"월화수목금토일\",\"wkdy_strt\":\"080000\",\"wkdy_end\":\"220000\",\"lhdy_strt\":\"080000\",\"lhdy_end\":\"220000\",\"basic_time\":30,\"basic_fare\":1000,\"add_time\":15,\"add_fare\":500,\"whol_npls\":51},{\"id\":\"11251813\",\"name\":\"신제주공영주차장\",\"addr\":\"제주시 연동 신대로12길\",\"x_crdn\":126.49106817,\"y_crdn\":33.48893829,\"park_day\":\"월화수목금\",\"wkdy_strt\":\"090000\",\"wkdy_end\":\"180000\",\"lhdy_strt\":\"090000\",\"lhdy_end\":\"180000\",\"basic_time\":30,\"basic_fare\":1000,\"add_time\":15,\"add_fare\":500,\"whol_npls\":500},{\"id\":\"17039715\",\"name\":\"동문공설시장공영주차장\",\"addr\":\"제주시 동문로4길 9 (일도일동 1104-2)\",\"x_crdn\":126.52819953,\"y_crdn\":33.51208935,\"park_day\":\"월화수목금토일\",\"wkdy_strt\":\"090000\",\"wkdy_end\":\"180000\",\"lhdy_strt\":\"090000\",\"lhdy_end\":\"180000\",\"basic_time\":30,\"basic_fare\":1000,\"add_time\":15,\"add_fare\":500,\"whol_npls\":264},{\"id\":\"17385794\",\"name\":\"서귀중앙공영주차빌딩\",\"addr\":\"서귀포시 중앙로 54번길 17 (서귀동 291-63)\",\"x_crdn\":126.56221093,\"y_crdn\":33.2498566,\"park_day\":\"월화수목금토일\",\"wkdy_strt\":\"090000\",\"wkdy_end\":\"180000\",\"lhdy_strt\":\"090000\",\"lhdy_end\":\"180000\",\"basic_time\":30,\"basic_fare\":1000,\"add_time\":15,\"add_fare\":500,\"whol_npls\":306},{\"id\":\"17435963\",\"name\":\"칠성골공영주차장\",\"addr\":\"제주시 임항로 8 (삼도이동 1192-8)\",\"x_crdn\":126.525116,\"y_crdn\":33.516579,\"park_day\":\"월화수목금토일\",\"wkdy_strt\":\"120000\",\"wkdy_end\":\"210000\",\"lhdy_strt\":\"120000\",\"lhdy_end\":\"210000\",\"basic_time\":30,\"basic_fare\":1000,\"add_time\":15,\"add_fare\":500,\"whol_npls\":80},{\"id\":\"16489518\",\"name\":\"인제공영주차장\",\"addr\":\"제주시 고마로 19길 5 (일도이동 409-11)\",\"x_crdn\":126.54195004,\"y_crdn\":33.50479298,\"park_day\":\"월화수목금토일\",\"wkdy_strt\":\"120000\",\"wkdy_end\":\"210000\",\"lhdy_strt\":\"120000\",\"lhdy_end\":\"210000\",\"basic_time\":30,\"basic_fare\":1000,\"add_time\":15,\"add_fare\":500,\"whol_npls\":125}]}"
      ]
     },
     "execution_count": 98,
     "metadata": {},
     "output_type": "execute_result"
    }
   ],
   "source": [
    "html = urllib.request.urlopen('http://api.jejuits.go.kr/api/infoParkingInfoList?code=860553')\n",
    "soup=BeautifulSoup(html, 'html.parser')\n",
    "soup"
   ]
  },
  {
   "cell_type": "code",
   "execution_count": 156,
   "id": "a8ec8755",
   "metadata": {
    "scrolled": false
   },
   "outputs": [
    {
     "name": "stdout",
     "output_type": "stream",
     "text": [
      "['{\"id\":\"11111111\",\"name\":\"서귀포매일올레시장\",\"addr\":\"서귀포시 중앙로 62번길 18\",\"x_crdn\":126.56326295,\"y_crdn\":33.25031562,\"park_day\":\"월화수목금토일\",\"wkdy_strt\":\"090000\",\"wkdy_end\":\"180000\",\"lhdy_strt\":\"090000\",\"lhdy_end\":\"180000\",\"basic_time\":30,\"basic_fare\":1000,\"add_time\":15,\"add_fare\":500,\"whol_npls\":216},{\"id\":\"16488201\",\"name\":\"법원북측공영주차장\",\"addr\":\"제주시 이도이동 1066\",\"x_crdn\":126.53534209,\"y_crdn\":33.49472463,\"park_day\":\"월화수목금토일\",\"wkdy_strt\":\"090000\",\"wkdy_end\":\"180000\",\"lhdy_strt\":\"090000\",\"lhdy_end\":\"180000\",\"basic_time\":30,\"basic_fare\":1000,\"add_time\":15,\"add_fare\":500,\"whol_npls\":91},{\"id\":\"20019319\",\"name\":\"산짓물공영주차장\",\"addr\":\"제주시 건입동 1330\",\"x_crdn\":126.52872778,\"y_crdn\":33.51590058,\"park_day\":\"월화수목금토일\",\"wkdy_strt\":\"090000\",\"wkdy_end\":\"180000\",\"lhdy_strt\":\"090000\",\"lhdy_end\":\"180000\",\"basic_time\":30,\"basic_fare\":1000,\"add_time\":15,\"add_fare\":500,\"whol_npls\":71},{\"id\":\"17680713\",\"name\":\"이도2동공영주차장\",\"addr\":\"제주시 오복3길 9 (이도이동 1052-2)\",\"x_crdn\":126.53494394,\"y_crdn\":33.49673819,\"park_day\":\"월화수목금토일\",\"wkdy_strt\":\"090000\",\"wkdy_end\":\"180000\",\"lhdy_strt\":\"090000\",\"lhdy_end\":\"180000\",\"basic_time\":30,\"basic_fare\":1000,\"add_time\":15,\"add_fare\":500,\"whol_npls\":150},{\"id\":\"17759313\",\"name\":\"북수구공영주차장\",\"addr\":\"제주시 일도일동 1230-3\",\"x_crdn\":126.52794054,\"y_crdn\":33.5146917,\"park_day\":\"월화수목금토일\",\"wkdy_strt\":\"080000\",\"wkdy_end\":\"220000\",\"lhdy_strt\":\"080000\",\"lhdy_end\":\"220000\",\"basic_time\":30,\"basic_fare\":1000,\"add_time\":15,\"add_fare\":500,\"whol_npls\":51},{\"id\":\"11251813\",\"name\":\"신제주공영주차장\",\"addr\":\"제주시 연동 신대로12길\",\"x_crdn\":126.49106817,\"y_crdn\":33.48893829,\"park_day\":\"월화수목금\",\"wkdy_strt\":\"090000\",\"wkdy_end\":\"180000\",\"lhdy_strt\":\"090000\",\"lhdy_end\":\"180000\",\"basic_time\":30,\"basic_fare\":1000,\"add_time\":15,\"add_fare\":500,\"whol_npls\":500},{\"id\":\"17039715\",\"name\":\"동문공설시장공영주차장\",\"addr\":\"제주시 동문로4길 9 (일도일동 1104-2)\",\"x_crdn\":126.52819953,\"y_crdn\":33.51208935,\"park_day\":\"월화수목금토일\",\"wkdy_strt\":\"090000\",\"wkdy_end\":\"180000\",\"lhdy_strt\":\"090000\",\"lhdy_end\":\"180000\",\"basic_time\":30,\"basic_fare\":1000,\"add_time\":15,\"add_fare\":500,\"whol_npls\":264},{\"id\":\"17385794\",\"name\":\"서귀중앙공영주차빌딩\",\"addr\":\"서귀포시 중앙로 54번길 17 (서귀동 291-63)\",\"x_crdn\":126.56221093,\"y_crdn\":33.2498566,\"park_day\":\"월화수목금토일\",\"wkdy_strt\":\"090000\",\"wkdy_end\":\"180000\",\"lhdy_strt\":\"090000\",\"lhdy_end\":\"180000\",\"basic_time\":30,\"basic_fare\":1000,\"add_time\":15,\"add_fare\":500,\"whol_npls\":306},{\"id\":\"17435963\",\"name\":\"칠성골공영주차장\",\"addr\":\"제주시 임항로 8 (삼도이동 1192-8)\",\"x_crdn\":126.525116,\"y_crdn\":33.516579,\"park_day\":\"월화수목금토일\",\"wkdy_strt\":\"120000\",\"wkdy_end\":\"210000\",\"lhdy_strt\":\"120000\",\"lhdy_end\":\"210000\",\"basic_time\":30,\"basic_fare\":1000,\"add_time\":15,\"add_fare\":500,\"whol_npls\":80},{\"id\":\"16489518\",\"name\":\"인제공영주차장\",\"addr\":\"제주시 고마로 19길 5 (일도이동 409-11)\",\"x_crdn\":126.54195004,\"y_crdn\":33.50479298,\"park_day\":\"월화수목금토일\",\"wkdy_strt\":\"120000\",\"wkdy_end\":\"210000\",\"lhdy_strt\":\"120000\",\"lhdy_end\":\"210000\",\"basic_time\":30,\"basic_fare\":1000,\"add_time\":15,\"add_fare\":500,\"whol_npls\":125}']\n"
     ]
    }
   ],
   "source": [
    "corse=re.compile('([{][\"]id[\"][:][\"].*[\"][,][\"]name[\"][:][\"].*[\"][,][\"]addr[\"][:][\"].*[\"][,][\"]x_crdn[\"]\\d*.*add_fare[\"][:]\\d*[,][\"]whol_npls[\"][:]\\d*[}])')\n",
    "c=corse.findall(str(soup))\n",
    "print(c)\n",
    "#[.]\\d*[,][\"]y_crdn[\"][:]"
   ]
  },
  {
   "cell_type": "code",
   "execution_count": 85,
   "id": "12e6bc1d",
   "metadata": {},
   "outputs": [],
   "source": [
    "def get_df_info(json_data, records_root_name):\n",
    "    column_list=[]\n",
    "    all_data=[]\n",
    "    is_first=True\n",
    "    for record in json_data[records_root_name]:\n",
    "        row_data_list=[]\n",
    "        for key, value in record.items():\n",
    "            if is_first:\n",
    "                column_list.append(key)\n",
    "            row_data_list.append(value)\n",
    "        all_data.append(row_data_list)\n",
    "        is_first=False\n",
    "        \n",
    "    return column_list, all_data"
   ]
  },
  {
   "cell_type": "code",
   "execution_count": 89,
   "id": "0156c873",
   "metadata": {},
   "outputs": [],
   "source": [
    "records = {\"id\":\"11111111\",\"name\":\"서귀포매일올레시장\",\"addr\":\"서귀포시 중앙로 62번길 18\",\"x_crdn\":126.56326295,\"y_crdn\":33.25031562,\"park_day\":\"월화수목금토일\",\"wkdy_strt\":\"090000\",\"wkdy_end\":\"180000\",\"lhdy_strt\":\"090000\",\"lhdy_end\":\"180000\",\"basic_time\":30,\"basic_fare\":1000,\"add_time\":15,\"add_fare\":500,\"whol_npls\":216}"
   ]
  },
  {
   "cell_type": "code",
   "execution_count": 157,
   "id": "a4ab993b",
   "metadata": {},
   "outputs": [
    {
     "ename": "TypeError",
     "evalue": "list indices must be integers or slices, not dict",
     "output_type": "error",
     "traceback": [
      "\u001b[1;31m---------------------------------------------------------------------------\u001b[0m",
      "\u001b[1;31mTypeError\u001b[0m                                 Traceback (most recent call last)",
      "\u001b[1;32m~\\AppData\\Local\\Temp\\ipykernel_9116\\1566628040.py\u001b[0m in \u001b[0;36m<module>\u001b[1;34m\u001b[0m\n\u001b[1;32m----> 1\u001b[1;33m \u001b[0mcolumn_list\u001b[0m\u001b[1;33m,\u001b[0m \u001b[0mall_data\u001b[0m \u001b[1;33m=\u001b[0m \u001b[0mget_df_info\u001b[0m\u001b[1;33m(\u001b[0m\u001b[0mc\u001b[0m\u001b[1;33m,\u001b[0m\u001b[0mrecords\u001b[0m\u001b[1;33m)\u001b[0m\u001b[1;33m\u001b[0m\u001b[1;33m\u001b[0m\u001b[0m\n\u001b[0m",
      "\u001b[1;32m~\\AppData\\Local\\Temp\\ipykernel_9116\\1025130874.py\u001b[0m in \u001b[0;36mget_df_info\u001b[1;34m(json_data, records_root_name)\u001b[0m\n\u001b[0;32m      3\u001b[0m     \u001b[0mall_data\u001b[0m\u001b[1;33m=\u001b[0m\u001b[1;33m[\u001b[0m\u001b[1;33m]\u001b[0m\u001b[1;33m\u001b[0m\u001b[1;33m\u001b[0m\u001b[0m\n\u001b[0;32m      4\u001b[0m     \u001b[0mis_first\u001b[0m\u001b[1;33m=\u001b[0m\u001b[1;32mTrue\u001b[0m\u001b[1;33m\u001b[0m\u001b[1;33m\u001b[0m\u001b[0m\n\u001b[1;32m----> 5\u001b[1;33m     \u001b[1;32mfor\u001b[0m \u001b[0mrecord\u001b[0m \u001b[1;32min\u001b[0m \u001b[0mjson_data\u001b[0m\u001b[1;33m[\u001b[0m\u001b[0mrecords_root_name\u001b[0m\u001b[1;33m]\u001b[0m\u001b[1;33m:\u001b[0m\u001b[1;33m\u001b[0m\u001b[1;33m\u001b[0m\u001b[0m\n\u001b[0m\u001b[0;32m      6\u001b[0m         \u001b[0mrow_data_list\u001b[0m\u001b[1;33m=\u001b[0m\u001b[1;33m[\u001b[0m\u001b[1;33m]\u001b[0m\u001b[1;33m\u001b[0m\u001b[1;33m\u001b[0m\u001b[0m\n\u001b[0;32m      7\u001b[0m         \u001b[1;32mfor\u001b[0m \u001b[0mkey\u001b[0m\u001b[1;33m,\u001b[0m \u001b[0mvalue\u001b[0m \u001b[1;32min\u001b[0m \u001b[0mrecord\u001b[0m\u001b[1;33m.\u001b[0m\u001b[0mitems\u001b[0m\u001b[1;33m(\u001b[0m\u001b[1;33m)\u001b[0m\u001b[1;33m:\u001b[0m\u001b[1;33m\u001b[0m\u001b[1;33m\u001b[0m\u001b[0m\n",
      "\u001b[1;31mTypeError\u001b[0m: list indices must be integers or slices, not dict"
     ]
    }
   ],
   "source": [
    "column_list, all_data = get_df_info(c,records)"
   ]
  },
  {
   "cell_type": "code",
   "execution_count": null,
   "id": "296472f3",
   "metadata": {},
   "outputs": [],
   "source": []
  },
  {
   "cell_type": "code",
   "execution_count": null,
   "id": "2251a4fc",
   "metadata": {},
   "outputs": [],
   "source": []
  },
  {
   "cell_type": "code",
   "execution_count": 64,
   "id": "e4f89fc3",
   "metadata": {},
   "outputs": [
    {
     "ename": "IndexError",
     "evalue": "list index out of range",
     "output_type": "error",
     "traceback": [
      "\u001b[1;31m---------------------------------------------------------------------------\u001b[0m",
      "\u001b[1;31mIndexError\u001b[0m                                Traceback (most recent call last)",
      "\u001b[1;32m~\\AppData\\Local\\Temp\\ipykernel_9116\\4192214634.py\u001b[0m in \u001b[0;36m<module>\u001b[1;34m\u001b[0m\n\u001b[1;32m----> 1\u001b[1;33m \u001b[0mc\u001b[0m\u001b[1;33m[\u001b[0m\u001b[1;36m0\u001b[0m\u001b[1;33m]\u001b[0m\u001b[1;33m\u001b[0m\u001b[1;33m\u001b[0m\u001b[0m\n\u001b[0m",
      "\u001b[1;31mIndexError\u001b[0m: list index out of range"
     ]
    }
   ],
   "source": [
    "c[0]"
   ]
  },
  {
   "cell_type": "code",
   "execution_count": null,
   "id": "798f810f",
   "metadata": {},
   "outputs": [],
   "source": []
  }
 ],
 "metadata": {
  "kernelspec": {
   "display_name": "Python 3 (ipykernel)",
   "language": "python",
   "name": "python3"
  },
  "language_info": {
   "codemirror_mode": {
    "name": "ipython",
    "version": 3
   },
   "file_extension": ".py",
   "mimetype": "text/x-python",
   "name": "python",
   "nbconvert_exporter": "python",
   "pygments_lexer": "ipython3",
   "version": "3.9.13"
  }
 },
 "nbformat": 4,
 "nbformat_minor": 5
}
