{
 "cells": [
  {
   "cell_type": "code",
   "execution_count": 1,
   "id": "863a9783",
   "metadata": {},
   "outputs": [],
   "source": [
    "from webdriver_manager.chrome import ChromeDriverManager\n",
    "from selenium.webdriver.chrome.service import Service\n",
    "from selenium import webdriver\n",
    "from selenium.webdriver.common.keys import Keys \n",
    "from selenium.common.exceptions import NoSuchElementException\n",
    "from selenium.webdriver.common.by import By\n",
    "from selenium.webdriver.support.ui import WebDriverWait\n",
    "from selenium.webdriver.support import expected_conditions as EC\n",
    "from selenium.common.exceptions import TimeoutException\n",
    "\n",
    "from bs4 import BeautifulSoup\n",
    "import os\n",
    "\n",
    "from selenium.webdriver.chrome.options import Options\n",
    "import numpy as np\n",
    "import matplotlib.pyplot as plt\n",
    "from matplotlib import font_manager,rc\n",
    "from datetime import datetime\n",
    "import time\n",
    "import pandas as pd\n",
    "import numpy as np\n",
    "import cx_Oracle\n",
    "import re\n",
    "from tqdm import tqdm\n",
    "from IPython import display\n",
    "\n",
    "import urllib"
   ]
  },
  {
   "cell_type": "code",
   "execution_count": 2,
   "id": "2f3f1a46",
   "metadata": {},
   "outputs": [],
   "source": [
    "options = Options()\n",
    "options.add_experimental_option(\"detach\", True)\n",
    "service = Service(ChromeDriverManager().install())\n",
    "naver_driver = webdriver.Chrome(service=service, options=options)"
   ]
  },
  {
   "cell_type": "code",
   "execution_count": 4,
   "id": "8d50ea6c",
   "metadata": {},
   "outputs": [],
   "source": [
    "naver_map_url = 'https://map.naver.com/v5/search/%EC%A0%9C%EC%A3%BC%EB%8F%84%20%EC%95%84%EB%A6%AC%EB%9E%91%20%EB%A0%8C%ED%84%B0%EC%B9%B4/place/20521307?c=14081679.8834630,3963858.4882515,15,0,0,0,dh&isCorrectAnswer=true'\n",
    "naver_driver.get(naver_map_url)\n",
    "naver_driver.switch_to.frame('entryIframe')\n",
    "naver_driver.implicitly_wait(3)"
   ]
  },
  {
   "cell_type": "code",
   "execution_count": 5,
   "id": "444a0adf",
   "metadata": {},
   "outputs": [],
   "source": [
    "naver_driver.find_element(By.XPATH, '//*[@id=\"app-root\"]/div/div/div/div[5]/div/div/div/div/a[2]').click()\n",
    "naver_driver.implicitly_wait(5)"
   ]
  },
  {
   "cell_type": "code",
   "execution_count": 28,
   "id": "c9f51cc9",
   "metadata": {
    "scrolled": true
   },
   "outputs": [
    {
     "name": "stdout",
     "output_type": "stream",
     "text": [
      "<div class=\"K0PDV _div\" id=\"ibu_1\" style='width:100%;height:100%;background-image:url(\"https://search.pstatic.net/common/?autoRotate=true&amp;quality=95&amp;type=w750&amp;src=https%3A%2F%2Fldb-phinf.pstatic.net%2F20161220_271%2F1482218441180K5Uwz_PNG%2F177170565059727_0.png\")'><span class=\"place_blind\">업체</span></div>\n",
      "\n",
      "['https://search.pstatic.net/common/?autoRotate=true&amp;quality=95&amp;type=w750&amp;src=https%3A%2F%2Fldb-phinf.pstatic.net%2F20161220_271%2F1482218441180K5Uwz_PNG%2F177170565059727_0.png']\n"
     ]
    },
    {
     "data": {
      "text/plain": [
       "[['https://search.pstatic.net/common/?autoRotate=true&amp;quality=95&amp;type=w750&amp;src=https%3A%2F%2Fldb-phinf.pstatic.net%2F20161220_271%2F1482218441180K5Uwz_PNG%2F177170565059727_0.png']]"
      ]
     },
     "execution_count": 28,
     "metadata": {},
     "output_type": "execute_result"
    }
   ],
   "source": [
    "naver_driver.find_element(By.CLASS_NAME,'sBWyy')\n",
    "naver_driver.implicitly_wait(5)\n",
    "# print('sBWyy 있음')\n",
    "\n",
    "naver_html = naver_driver.page_source\n",
    "naver_soup = BeautifulSoup(naver_html, 'lxml')\n",
    "naver_driver.implicitly_wait(5)\n",
    "# print(naver_soup)\n",
    "\n",
    "img_list = []\n",
    "img = naver_soup.find('div', attrs = {'id':'ibu_1'})\n",
    "print(img)\n",
    "print( )\n",
    "#img = img.attrs['style']\n",
    "#print(img)\n",
    "img_link = re.findall('[\"](https.*[.]png)[\"]', str(img))\n",
    "print(img_link)\n",
    "img_list.append(img_link)\n",
    "img_list\n",
    "\n",
    "# tags4 = soup4.find_all('li', {\"class\" : \"PlaceItem clickArea\"})\n",
    "# rent_company=re.compile('[<]a.*href[=][\"](http.*[#]comment)[\"]\\starget')\n",
    "# company_page4=rent_company.findall(str(tags4))"
   ]
  },
  {
   "cell_type": "code",
   "execution_count": null,
   "id": "e4762284",
   "metadata": {},
   "outputs": [],
   "source": []
  }
 ],
 "metadata": {
  "kernelspec": {
   "display_name": "Python 3 (ipykernel)",
   "language": "python",
   "name": "python3"
  },
  "language_info": {
   "codemirror_mode": {
    "name": "ipython",
    "version": 3
   },
   "file_extension": ".py",
   "mimetype": "text/x-python",
   "name": "python",
   "nbconvert_exporter": "python",
   "pygments_lexer": "ipython3",
   "version": "3.9.13"
  }
 },
 "nbformat": 4,
 "nbformat_minor": 5
}
