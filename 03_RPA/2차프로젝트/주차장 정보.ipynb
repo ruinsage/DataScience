{
 "cells": [
  {
   "cell_type": "code",
   "execution_count": 27,
   "id": "187ba418",
   "metadata": {},
   "outputs": [],
   "source": [
    "import cx_Oracle\n",
    "import pandas as pd\n",
    "import requests\n",
    "import urllib.request\n",
    "from bs4 import BeautifulSoup\n",
    "import re\n",
    "import urllib.request as ur\n",
    "from matplotlib import font_manager,rc\n",
    "import matplotlib.pyplot as plt\n",
    "import seaborn as sns\n",
    "import json\n",
    "\n",
    "font_location = \"C:\\Windows\\Fonts\\malgun.ttf\"\n",
    "font_name = font_manager.FontProperties(fname=font_location).get_name()\n",
    "rc('font',family=font_name)\n",
    "plt.rcParams['axes.unicode_minus'] = False"
   ]
  },
  {
   "cell_type": "code",
   "execution_count": 83,
   "id": "07554362",
   "metadata": {},
   "outputs": [],
   "source": [
    "conn = cx_Oracle.connect('open_source/1111@localhost:1521/xe')\n",
    "cur = conn.cursor()"
   ]
  },
  {
   "cell_type": "code",
   "execution_count": 206,
   "id": "15a1dd16",
   "metadata": {},
   "outputs": [],
   "source": [
    "access_key = 860553"
   ]
  },
  {
   "cell_type": "code",
   "execution_count": 207,
   "id": "88afaa1b",
   "metadata": {},
   "outputs": [],
   "source": [
    "def get_request_url():\n",
    "    url = 'http://api.jejuits.go.kr/api/infoParkingInfoList?code=860553'\n",
    "\n",
    "    response = requests.get(url)\n",
    "    return response.text\n"
   ]
  },
  {
   "cell_type": "code",
   "execution_count": null,
   "id": "4e438edf",
   "metadata": {},
   "outputs": [],
   "source": [
    "def get_parsed_json(raw_json):\n",
    "    all_data = []\n",
    "    for record in raw_json['info']:\n",
    "        all_data.append(\n",
    "        {\"id\": record.get(\"id\"),\n",
    "         \"name\": record.get(\"name\"),\n",
    "         \"addr\": record.get(\"addr\"),\n",
    "         \"x_crdn\": record.get(\"x_crdn\"),\n",
    "         \"y_crdn\": record.get(\"y_crdn\"),\n",
    "         \"park_day\": record.get(\"park_day\"),\n",
    "         \"wkdy_strt\": record.get(\"wkdy_strt\"),\n",
    "         \"wkdy_end\": record.get(\"wkdy_end\"),\n",
    "         \"lhdy_strt\": record.get(\"lhdy_strt\"),\n",
    "         \"lhdy_end\": record.get(\"lhdy_end\"),\n",
    "         \"basic_time\": record.get(\"basic_time\"),\n",
    "         \"basic_fare\": record.get(\"basic_fare\"),\n",
    "         \"add_time\": record.get(\"add_time\"),\n",
    "         \"add_fare\": record.get(\"add_fare\"),\n",
    "         \"whol_npls\": record.get(\"whol_npls\")\n",
    "         }\n",
    "        )\n",
    "    return all_data,column_list"
   ]
  },
  {
   "cell_type": "code",
   "execution_count": 214,
   "id": "a8c12975",
   "metadata": {},
   "outputs": [],
   "source": [
    "def json_to_df_info(parsed_json) :\n",
    "    raw_str_json = get_request_url()\n",
    "    if raw_str_json:\n",
    "        # json.loads() 문자열 json을 실제 json(dict) 타입으로 변환\n",
    "        raw_json = json.loads(raw_str_json)\n",
    "\n",
    "    all_data = []\n",
    "    column_list = [\"id\", \"name\", \"addr\",\"x_crdn\",\"y_crdn\",\"park_day\",\"wkdy_strt\",\"wkdy_end\",\"lhdy_strt\",\"lhdy_end\",\"basic_time\",\"basic_fare\",\"add_time\",\"add_fare\",\"whol_npls\"]\n",
    "\n",
    "    for record in raw_json['info'] :\n",
    "        row_data = []\n",
    "        for column_data in column_list :\n",
    "            row_data.append(record.get(column_data))\n",
    "        all_data.append(row_data)\n",
    "    return column_list, all_data"
   ]
  },
  {
   "cell_type": "code",
   "execution_count": 215,
   "id": "be5e118f",
   "metadata": {},
   "outputs": [],
   "source": [
    "def Bus_info_collector():\n",
    "\n",
    "    raw_str_json = get_request_url()\n",
    "\n",
    "    if raw_str_json:\n",
    "        raw_json = json.loads(raw_str_json)\n",
    "    print(raw_json)\n",
    "    column_list, all_data = json_to_df_info(raw_json)\n",
    "\n",
    "    df = pd.DataFrame(all_data, columns=column_list)\n",
    "\n",
    "    df_preprocessed = preprocessed_df(df)\n",
    "\n",
    "    preprocessed_df_to_oracle(df_preprocessed)"
   ]
  },
  {
   "cell_type": "code",
   "execution_count": 216,
   "id": "cbe37dc2",
   "metadata": {},
   "outputs": [
    {
     "ename": "JSONDecodeError",
     "evalue": "Expecting value: line 1 column 1 (char 0)",
     "output_type": "error",
     "traceback": [
      "\u001b[1;31m---------------------------------------------------------------------------\u001b[0m",
      "\u001b[1;31mJSONDecodeError\u001b[0m                           Traceback (most recent call last)",
      "\u001b[1;32m~\\AppData\\Local\\Temp\\ipykernel_9116\\3203733298.py\u001b[0m in \u001b[0;36m<module>\u001b[1;34m\u001b[0m\n\u001b[1;32m----> 1\u001b[1;33m \u001b[0mBus_info_collector\u001b[0m\u001b[1;33m(\u001b[0m\u001b[1;33m)\u001b[0m\u001b[1;33m\u001b[0m\u001b[1;33m\u001b[0m\u001b[0m\n\u001b[0m",
      "\u001b[1;32m~\\AppData\\Local\\Temp\\ipykernel_9116\\1975853609.py\u001b[0m in \u001b[0;36mBus_info_collector\u001b[1;34m()\u001b[0m\n\u001b[0;32m      4\u001b[0m \u001b[1;33m\u001b[0m\u001b[0m\n\u001b[0;32m      5\u001b[0m     \u001b[1;32mif\u001b[0m \u001b[0mraw_str_json\u001b[0m\u001b[1;33m:\u001b[0m\u001b[1;33m\u001b[0m\u001b[1;33m\u001b[0m\u001b[0m\n\u001b[1;32m----> 6\u001b[1;33m         \u001b[0mraw_json\u001b[0m \u001b[1;33m=\u001b[0m \u001b[0mjson\u001b[0m\u001b[1;33m.\u001b[0m\u001b[0mloads\u001b[0m\u001b[1;33m(\u001b[0m\u001b[0mraw_str_json\u001b[0m\u001b[1;33m)\u001b[0m\u001b[1;33m\u001b[0m\u001b[1;33m\u001b[0m\u001b[0m\n\u001b[0m\u001b[0;32m      7\u001b[0m     \u001b[0mprint\u001b[0m\u001b[1;33m(\u001b[0m\u001b[0mraw_json\u001b[0m\u001b[1;33m)\u001b[0m\u001b[1;33m\u001b[0m\u001b[1;33m\u001b[0m\u001b[0m\n\u001b[0;32m      8\u001b[0m     \u001b[0mcolumn_list\u001b[0m\u001b[1;33m,\u001b[0m \u001b[0mall_data\u001b[0m \u001b[1;33m=\u001b[0m \u001b[0mjson_to_df_info\u001b[0m\u001b[1;33m(\u001b[0m\u001b[0mraw_json\u001b[0m\u001b[1;33m)\u001b[0m\u001b[1;33m\u001b[0m\u001b[1;33m\u001b[0m\u001b[0m\n",
      "\u001b[1;32m~\\anaconda3\\lib\\json\\__init__.py\u001b[0m in \u001b[0;36mloads\u001b[1;34m(s, cls, object_hook, parse_float, parse_int, parse_constant, object_pairs_hook, **kw)\u001b[0m\n\u001b[0;32m    344\u001b[0m             \u001b[0mparse_int\u001b[0m \u001b[1;32mis\u001b[0m \u001b[1;32mNone\u001b[0m \u001b[1;32mand\u001b[0m \u001b[0mparse_float\u001b[0m \u001b[1;32mis\u001b[0m \u001b[1;32mNone\u001b[0m \u001b[1;32mand\u001b[0m\u001b[1;33m\u001b[0m\u001b[1;33m\u001b[0m\u001b[0m\n\u001b[0;32m    345\u001b[0m             parse_constant is None and object_pairs_hook is None and not kw):\n\u001b[1;32m--> 346\u001b[1;33m         \u001b[1;32mreturn\u001b[0m \u001b[0m_default_decoder\u001b[0m\u001b[1;33m.\u001b[0m\u001b[0mdecode\u001b[0m\u001b[1;33m(\u001b[0m\u001b[0ms\u001b[0m\u001b[1;33m)\u001b[0m\u001b[1;33m\u001b[0m\u001b[1;33m\u001b[0m\u001b[0m\n\u001b[0m\u001b[0;32m    347\u001b[0m     \u001b[1;32mif\u001b[0m \u001b[0mcls\u001b[0m \u001b[1;32mis\u001b[0m \u001b[1;32mNone\u001b[0m\u001b[1;33m:\u001b[0m\u001b[1;33m\u001b[0m\u001b[1;33m\u001b[0m\u001b[0m\n\u001b[0;32m    348\u001b[0m         \u001b[0mcls\u001b[0m \u001b[1;33m=\u001b[0m \u001b[0mJSONDecoder\u001b[0m\u001b[1;33m\u001b[0m\u001b[1;33m\u001b[0m\u001b[0m\n",
      "\u001b[1;32m~\\anaconda3\\lib\\json\\decoder.py\u001b[0m in \u001b[0;36mdecode\u001b[1;34m(self, s, _w)\u001b[0m\n\u001b[0;32m    335\u001b[0m \u001b[1;33m\u001b[0m\u001b[0m\n\u001b[0;32m    336\u001b[0m         \"\"\"\n\u001b[1;32m--> 337\u001b[1;33m         \u001b[0mobj\u001b[0m\u001b[1;33m,\u001b[0m \u001b[0mend\u001b[0m \u001b[1;33m=\u001b[0m \u001b[0mself\u001b[0m\u001b[1;33m.\u001b[0m\u001b[0mraw_decode\u001b[0m\u001b[1;33m(\u001b[0m\u001b[0ms\u001b[0m\u001b[1;33m,\u001b[0m \u001b[0midx\u001b[0m\u001b[1;33m=\u001b[0m\u001b[0m_w\u001b[0m\u001b[1;33m(\u001b[0m\u001b[0ms\u001b[0m\u001b[1;33m,\u001b[0m \u001b[1;36m0\u001b[0m\u001b[1;33m)\u001b[0m\u001b[1;33m.\u001b[0m\u001b[0mend\u001b[0m\u001b[1;33m(\u001b[0m\u001b[1;33m)\u001b[0m\u001b[1;33m)\u001b[0m\u001b[1;33m\u001b[0m\u001b[1;33m\u001b[0m\u001b[0m\n\u001b[0m\u001b[0;32m    338\u001b[0m         \u001b[0mend\u001b[0m \u001b[1;33m=\u001b[0m \u001b[0m_w\u001b[0m\u001b[1;33m(\u001b[0m\u001b[0ms\u001b[0m\u001b[1;33m,\u001b[0m \u001b[0mend\u001b[0m\u001b[1;33m)\u001b[0m\u001b[1;33m.\u001b[0m\u001b[0mend\u001b[0m\u001b[1;33m(\u001b[0m\u001b[1;33m)\u001b[0m\u001b[1;33m\u001b[0m\u001b[1;33m\u001b[0m\u001b[0m\n\u001b[0;32m    339\u001b[0m         \u001b[1;32mif\u001b[0m \u001b[0mend\u001b[0m \u001b[1;33m!=\u001b[0m \u001b[0mlen\u001b[0m\u001b[1;33m(\u001b[0m\u001b[0ms\u001b[0m\u001b[1;33m)\u001b[0m\u001b[1;33m:\u001b[0m\u001b[1;33m\u001b[0m\u001b[1;33m\u001b[0m\u001b[0m\n",
      "\u001b[1;32m~\\anaconda3\\lib\\json\\decoder.py\u001b[0m in \u001b[0;36mraw_decode\u001b[1;34m(self, s, idx)\u001b[0m\n\u001b[0;32m    353\u001b[0m             \u001b[0mobj\u001b[0m\u001b[1;33m,\u001b[0m \u001b[0mend\u001b[0m \u001b[1;33m=\u001b[0m \u001b[0mself\u001b[0m\u001b[1;33m.\u001b[0m\u001b[0mscan_once\u001b[0m\u001b[1;33m(\u001b[0m\u001b[0ms\u001b[0m\u001b[1;33m,\u001b[0m \u001b[0midx\u001b[0m\u001b[1;33m)\u001b[0m\u001b[1;33m\u001b[0m\u001b[1;33m\u001b[0m\u001b[0m\n\u001b[0;32m    354\u001b[0m         \u001b[1;32mexcept\u001b[0m \u001b[0mStopIteration\u001b[0m \u001b[1;32mas\u001b[0m \u001b[0merr\u001b[0m\u001b[1;33m:\u001b[0m\u001b[1;33m\u001b[0m\u001b[1;33m\u001b[0m\u001b[0m\n\u001b[1;32m--> 355\u001b[1;33m             \u001b[1;32mraise\u001b[0m \u001b[0mJSONDecodeError\u001b[0m\u001b[1;33m(\u001b[0m\u001b[1;34m\"Expecting value\"\u001b[0m\u001b[1;33m,\u001b[0m \u001b[0ms\u001b[0m\u001b[1;33m,\u001b[0m \u001b[0merr\u001b[0m\u001b[1;33m.\u001b[0m\u001b[0mvalue\u001b[0m\u001b[1;33m)\u001b[0m \u001b[1;32mfrom\u001b[0m \u001b[1;32mNone\u001b[0m\u001b[1;33m\u001b[0m\u001b[1;33m\u001b[0m\u001b[0m\n\u001b[0m\u001b[0;32m    356\u001b[0m         \u001b[1;32mreturn\u001b[0m \u001b[0mobj\u001b[0m\u001b[1;33m,\u001b[0m \u001b[0mend\u001b[0m\u001b[1;33m\u001b[0m\u001b[1;33m\u001b[0m\u001b[0m\n",
      "\u001b[1;31mJSONDecodeError\u001b[0m: Expecting value: line 1 column 1 (char 0)"
     ]
    }
   ],
   "source": [
    "Bus_info_collector()"
   ]
  },
  {
   "cell_type": "code",
   "execution_count": null,
   "id": "e5ba11d0",
   "metadata": {},
   "outputs": [],
   "source": []
  },
  {
   "cell_type": "code",
   "execution_count": null,
   "id": "361d2cec",
   "metadata": {},
   "outputs": [],
   "source": []
  },
  {
   "cell_type": "code",
   "execution_count": null,
   "id": "2557088a",
   "metadata": {},
   "outputs": [],
   "source": []
  },
  {
   "cell_type": "code",
   "execution_count": 98,
   "id": "e09836d1",
   "metadata": {},
   "outputs": [
    {
     "data": {
      "text/plain": [
       "{\"result\":\"success\",\"info_cnt\":10,\"info\":[{\"id\":\"11111111\",\"name\":\"서귀포매일올레시장\",\"addr\":\"서귀포시 중앙로 62번길 18\",\"x_crdn\":126.56326295,\"y_crdn\":33.25031562,\"park_day\":\"월화수목금토일\",\"wkdy_strt\":\"090000\",\"wkdy_end\":\"180000\",\"lhdy_strt\":\"090000\",\"lhdy_end\":\"180000\",\"basic_time\":30,\"basic_fare\":1000,\"add_time\":15,\"add_fare\":500,\"whol_npls\":216},{\"id\":\"16488201\",\"name\":\"법원북측공영주차장\",\"addr\":\"제주시 이도이동 1066\",\"x_crdn\":126.53534209,\"y_crdn\":33.49472463,\"park_day\":\"월화수목금토일\",\"wkdy_strt\":\"090000\",\"wkdy_end\":\"180000\",\"lhdy_strt\":\"090000\",\"lhdy_end\":\"180000\",\"basic_time\":30,\"basic_fare\":1000,\"add_time\":15,\"add_fare\":500,\"whol_npls\":91},{\"id\":\"20019319\",\"name\":\"산짓물공영주차장\",\"addr\":\"제주시 건입동 1330\",\"x_crdn\":126.52872778,\"y_crdn\":33.51590058,\"park_day\":\"월화수목금토일\",\"wkdy_strt\":\"090000\",\"wkdy_end\":\"180000\",\"lhdy_strt\":\"090000\",\"lhdy_end\":\"180000\",\"basic_time\":30,\"basic_fare\":1000,\"add_time\":15,\"add_fare\":500,\"whol_npls\":71},{\"id\":\"17680713\",\"name\":\"이도2동공영주차장\",\"addr\":\"제주시 오복3길 9 (이도이동 1052-2)\",\"x_crdn\":126.53494394,\"y_crdn\":33.49673819,\"park_day\":\"월화수목금토일\",\"wkdy_strt\":\"090000\",\"wkdy_end\":\"180000\",\"lhdy_strt\":\"090000\",\"lhdy_end\":\"180000\",\"basic_time\":30,\"basic_fare\":1000,\"add_time\":15,\"add_fare\":500,\"whol_npls\":150},{\"id\":\"17759313\",\"name\":\"북수구공영주차장\",\"addr\":\"제주시 일도일동 1230-3\",\"x_crdn\":126.52794054,\"y_crdn\":33.5146917,\"park_day\":\"월화수목금토일\",\"wkdy_strt\":\"080000\",\"wkdy_end\":\"220000\",\"lhdy_strt\":\"080000\",\"lhdy_end\":\"220000\",\"basic_time\":30,\"basic_fare\":1000,\"add_time\":15,\"add_fare\":500,\"whol_npls\":51},{\"id\":\"11251813\",\"name\":\"신제주공영주차장\",\"addr\":\"제주시 연동 신대로12길\",\"x_crdn\":126.49106817,\"y_crdn\":33.48893829,\"park_day\":\"월화수목금\",\"wkdy_strt\":\"090000\",\"wkdy_end\":\"180000\",\"lhdy_strt\":\"090000\",\"lhdy_end\":\"180000\",\"basic_time\":30,\"basic_fare\":1000,\"add_time\":15,\"add_fare\":500,\"whol_npls\":500},{\"id\":\"17039715\",\"name\":\"동문공설시장공영주차장\",\"addr\":\"제주시 동문로4길 9 (일도일동 1104-2)\",\"x_crdn\":126.52819953,\"y_crdn\":33.51208935,\"park_day\":\"월화수목금토일\",\"wkdy_strt\":\"090000\",\"wkdy_end\":\"180000\",\"lhdy_strt\":\"090000\",\"lhdy_end\":\"180000\",\"basic_time\":30,\"basic_fare\":1000,\"add_time\":15,\"add_fare\":500,\"whol_npls\":264},{\"id\":\"17385794\",\"name\":\"서귀중앙공영주차빌딩\",\"addr\":\"서귀포시 중앙로 54번길 17 (서귀동 291-63)\",\"x_crdn\":126.56221093,\"y_crdn\":33.2498566,\"park_day\":\"월화수목금토일\",\"wkdy_strt\":\"090000\",\"wkdy_end\":\"180000\",\"lhdy_strt\":\"090000\",\"lhdy_end\":\"180000\",\"basic_time\":30,\"basic_fare\":1000,\"add_time\":15,\"add_fare\":500,\"whol_npls\":306},{\"id\":\"17435963\",\"name\":\"칠성골공영주차장\",\"addr\":\"제주시 임항로 8 (삼도이동 1192-8)\",\"x_crdn\":126.525116,\"y_crdn\":33.516579,\"park_day\":\"월화수목금토일\",\"wkdy_strt\":\"120000\",\"wkdy_end\":\"210000\",\"lhdy_strt\":\"120000\",\"lhdy_end\":\"210000\",\"basic_time\":30,\"basic_fare\":1000,\"add_time\":15,\"add_fare\":500,\"whol_npls\":80},{\"id\":\"16489518\",\"name\":\"인제공영주차장\",\"addr\":\"제주시 고마로 19길 5 (일도이동 409-11)\",\"x_crdn\":126.54195004,\"y_crdn\":33.50479298,\"park_day\":\"월화수목금토일\",\"wkdy_strt\":\"120000\",\"wkdy_end\":\"210000\",\"lhdy_strt\":\"120000\",\"lhdy_end\":\"210000\",\"basic_time\":30,\"basic_fare\":1000,\"add_time\":15,\"add_fare\":500,\"whol_npls\":125}]}"
      ]
     },
     "execution_count": 98,
     "metadata": {},
     "output_type": "execute_result"
    }
   ],
   "source": [
    "html = urllib.request.urlopen('http://api.jejuits.go.kr/api/infoParkingInfoList?code=860553')\n",
    "soup=BeautifulSoup(html, 'html.parser')\n",
    "soup"
   ]
  },
  {
   "cell_type": "code",
   "execution_count": 178,
   "id": "70b59a6f",
   "metadata": {},
   "outputs": [
    {
     "data": {
      "text/plain": [
       "bs4.BeautifulSoup"
      ]
     },
     "execution_count": 178,
     "metadata": {},
     "output_type": "execute_result"
    }
   ],
   "source": [
    "type(soup)"
   ]
  },
  {
   "cell_type": "code",
   "execution_count": 170,
   "id": "a32cddf3",
   "metadata": {
    "scrolled": true
   },
   "outputs": [
    {
     "name": "stdout",
     "output_type": "stream",
     "text": [
      "['{\"id\":\"11111111\",\"name\":\"서귀포매일올레시장\",\"addr\":\"서귀포시 중앙로 62번길 18\",\"x_crdn\":126.56326295,\"y_crdn\":33.25031562,\"park_day\":\"월화수목금토일\",\"wkdy_strt\":\"090000\",\"wkdy_end\":\"180000\",\"lhdy_strt\":\"090000\",\"lhdy_end\":\"180000\",\"basic_time\":30,\"basic_fare\":1000,\"add_time\":15,\"add_fare\":500,\"whol_npls\":216},{\"id\":\"16488201\",\"name\":\"법원북측공영주차장\",\"addr\":\"제주시 이도이동 1066\",\"x_crdn\":126.53534209,\"y_crdn\":33.49472463,\"park_day\":\"월화수목금토일\",\"wkdy_strt\":\"090000\",\"wkdy_end\":\"180000\",\"lhdy_strt\":\"090000\",\"lhdy_end\":\"180000\",\"basic_time\":30,\"basic_fare\":1000,\"add_time\":15,\"add_fare\":500,\"whol_npls\":91},{\"id\":\"20019319\",\"name\":\"산짓물공영주차장\",\"addr\":\"제주시 건입동 1330\",\"x_crdn\":126.52872778,\"y_crdn\":33.51590058,\"park_day\":\"월화수목금토일\",\"wkdy_strt\":\"090000\",\"wkdy_end\":\"180000\",\"lhdy_strt\":\"090000\",\"lhdy_end\":\"180000\",\"basic_time\":30,\"basic_fare\":1000,\"add_time\":15,\"add_fare\":500,\"whol_npls\":71},{\"id\":\"17680713\",\"name\":\"이도2동공영주차장\",\"addr\":\"제주시 오복3길 9 (이도이동 1052-2)\",\"x_crdn\":126.53494394,\"y_crdn\":33.49673819,\"park_day\":\"월화수목금토일\",\"wkdy_strt\":\"090000\",\"wkdy_end\":\"180000\",\"lhdy_strt\":\"090000\",\"lhdy_end\":\"180000\",\"basic_time\":30,\"basic_fare\":1000,\"add_time\":15,\"add_fare\":500,\"whol_npls\":150},{\"id\":\"17759313\",\"name\":\"북수구공영주차장\",\"addr\":\"제주시 일도일동 1230-3\",\"x_crdn\":126.52794054,\"y_crdn\":33.5146917,\"park_day\":\"월화수목금토일\",\"wkdy_strt\":\"080000\",\"wkdy_end\":\"220000\",\"lhdy_strt\":\"080000\",\"lhdy_end\":\"220000\",\"basic_time\":30,\"basic_fare\":1000,\"add_time\":15,\"add_fare\":500,\"whol_npls\":51},{\"id\":\"11251813\",\"name\":\"신제주공영주차장\",\"addr\":\"제주시 연동 신대로12길\",\"x_crdn\":126.49106817,\"y_crdn\":33.48893829,\"park_day\":\"월화수목금\",\"wkdy_strt\":\"090000\",\"wkdy_end\":\"180000\",\"lhdy_strt\":\"090000\",\"lhdy_end\":\"180000\",\"basic_time\":30,\"basic_fare\":1000,\"add_time\":15,\"add_fare\":500,\"whol_npls\":500},{\"id\":\"17039715\",\"name\":\"동문공설시장공영주차장\",\"addr\":\"제주시 동문로4길 9 (일도일동 1104-2)\",\"x_crdn\":126.52819953,\"y_crdn\":33.51208935,\"park_day\":\"월화수목금토일\",\"wkdy_strt\":\"090000\",\"wkdy_end\":\"180000\",\"lhdy_strt\":\"090000\",\"lhdy_end\":\"180000\",\"basic_time\":30,\"basic_fare\":1000,\"add_time\":15,\"add_fare\":500,\"whol_npls\":264},{\"id\":\"17385794\",\"name\":\"서귀중앙공영주차빌딩\",\"addr\":\"서귀포시 중앙로 54번길 17 (서귀동 291-63)\",\"x_crdn\":126.56221093,\"y_crdn\":33.2498566,\"park_day\":\"월화수목금토일\",\"wkdy_strt\":\"090000\",\"wkdy_end\":\"180000\",\"lhdy_strt\":\"090000\",\"lhdy_end\":\"180000\",\"basic_time\":30,\"basic_fare\":1000,\"add_time\":15,\"add_fare\":500,\"whol_npls\":306},{\"id\":\"17435963\",\"name\":\"칠성골공영주차장\",\"addr\":\"제주시 임항로 8 (삼도이동 1192-8)\",\"x_crdn\":126.525116,\"y_crdn\":33.516579,\"park_day\":\"월화수목금토일\",\"wkdy_strt\":\"120000\",\"wkdy_end\":\"210000\",\"lhdy_strt\":\"120000\",\"lhdy_end\":\"210000\",\"basic_time\":30,\"basic_fare\":1000,\"add_time\":15,\"add_fare\":500,\"whol_npls\":80},{\"id\":\"16489518\",\"name\":\"인제공영주차장\",\"addr\":\"제주시 고마로 19길 5 (일도이동 409-11)\",\"x_crdn\":126.54195004,\"y_crdn\":33.50479298,\"park_day\":\"월화수목금토일\",\"wkdy_strt\":\"120000\",\"wkdy_end\":\"210000\",\"lhdy_strt\":\"120000\",\"lhdy_end\":\"210000\",\"basic_time\":30,\"basic_fare\":1000,\"add_time\":15,\"add_fare\":500,\"whol_npls\":125}']\n"
     ]
    }
   ],
   "source": [
    "corse=re.compile('([{][\"]id[\"][:][\"].*[\"][,][\"]name[\"][:][\"].*[\"][,][\"]addr[\"][:][\"].*[\"][,][\"]x_crdn[\"]\\d*.*add_fare[\"][:]\\d*[,][\"]whol_npls[\"][:]\\d*[}])')\n",
    "c=corse.findall(str(soup))\n",
    "print(c)\n",
    "#[.]\\d*[,][\"]y_crdn[\"][:]"
   ]
  },
  {
   "cell_type": "code",
   "execution_count": 202,
   "id": "c264a64b",
   "metadata": {},
   "outputs": [],
   "source": []
  },
  {
   "cell_type": "code",
   "execution_count": 204,
   "id": "501617c8",
   "metadata": {
    "scrolled": true
   },
   "outputs": [
    {
     "ename": "AttributeError",
     "evalue": "'NavigableString' object has no attribute 'get'",
     "output_type": "error",
     "traceback": [
      "\u001b[1;31m---------------------------------------------------------------------------\u001b[0m",
      "\u001b[1;31mAttributeError\u001b[0m                            Traceback (most recent call last)",
      "\u001b[1;32m~\\AppData\\Local\\Temp\\ipykernel_9116\\1104016515.py\u001b[0m in \u001b[0;36m<module>\u001b[1;34m\u001b[0m\n\u001b[1;32m----> 1\u001b[1;33m \u001b[0mjson_to_df_info\u001b[0m\u001b[1;33m(\u001b[0m\u001b[0msoup\u001b[0m\u001b[1;33m)\u001b[0m\u001b[1;33m\u001b[0m\u001b[1;33m\u001b[0m\u001b[0m\n\u001b[0m",
      "\u001b[1;32m~\\AppData\\Local\\Temp\\ipykernel_9116\\4040560781.py\u001b[0m in \u001b[0;36mjson_to_df_info\u001b[1;34m(parsed_json)\u001b[0m\n\u001b[0;32m     11\u001b[0m         \u001b[0mrow_data\u001b[0m \u001b[1;33m=\u001b[0m \u001b[1;33m[\u001b[0m\u001b[1;33m]\u001b[0m\u001b[1;33m\u001b[0m\u001b[1;33m\u001b[0m\u001b[0m\n\u001b[0;32m     12\u001b[0m         \u001b[1;32mfor\u001b[0m \u001b[0mcolumn_data\u001b[0m \u001b[1;32min\u001b[0m \u001b[0mcolumn_list\u001b[0m \u001b[1;33m:\u001b[0m\u001b[1;33m\u001b[0m\u001b[1;33m\u001b[0m\u001b[0m\n\u001b[1;32m---> 13\u001b[1;33m             \u001b[0mrow_data\u001b[0m\u001b[1;33m.\u001b[0m\u001b[0mappend\u001b[0m\u001b[1;33m(\u001b[0m\u001b[0mrecord\u001b[0m\u001b[1;33m.\u001b[0m\u001b[0mget\u001b[0m\u001b[1;33m(\u001b[0m\u001b[0mcolumn_data\u001b[0m\u001b[1;33m)\u001b[0m\u001b[1;33m)\u001b[0m\u001b[1;33m\u001b[0m\u001b[1;33m\u001b[0m\u001b[0m\n\u001b[0m\u001b[0;32m     14\u001b[0m         \u001b[0mall_data\u001b[0m\u001b[1;33m.\u001b[0m\u001b[0mappend\u001b[0m\u001b[1;33m(\u001b[0m\u001b[0mrow_data\u001b[0m\u001b[1;33m)\u001b[0m\u001b[1;33m\u001b[0m\u001b[1;33m\u001b[0m\u001b[0m\n\u001b[0;32m     15\u001b[0m     \u001b[1;32mreturn\u001b[0m \u001b[0mcolumn_list\u001b[0m\u001b[1;33m,\u001b[0m \u001b[0mall_data\u001b[0m\u001b[1;33m\u001b[0m\u001b[1;33m\u001b[0m\u001b[0m\n",
      "\u001b[1;32m~\\anaconda3\\lib\\site-packages\\bs4\\element.py\u001b[0m in \u001b[0;36m__getattr__\u001b[1;34m(self, attr)\u001b[0m\n\u001b[0;32m    963\u001b[0m             \u001b[1;32mreturn\u001b[0m \u001b[0mself\u001b[0m\u001b[1;33m\u001b[0m\u001b[1;33m\u001b[0m\u001b[0m\n\u001b[0;32m    964\u001b[0m         \u001b[1;32melse\u001b[0m\u001b[1;33m:\u001b[0m\u001b[1;33m\u001b[0m\u001b[1;33m\u001b[0m\u001b[0m\n\u001b[1;32m--> 965\u001b[1;33m             raise AttributeError(\n\u001b[0m\u001b[0;32m    966\u001b[0m                 \"'%s' object has no attribute '%s'\" % (\n\u001b[0;32m    967\u001b[0m                     self.__class__.__name__, attr))\n",
      "\u001b[1;31mAttributeError\u001b[0m: 'NavigableString' object has no attribute 'get'"
     ]
    }
   ],
   "source": [
    "json_to_df_info(soup)"
   ]
  },
  {
   "cell_type": "code",
   "execution_count": 186,
   "id": "e0da4ac5",
   "metadata": {
    "scrolled": true
   },
   "outputs": [
    {
     "data": {
      "text/plain": [
       "list"
      ]
     },
     "execution_count": 186,
     "metadata": {},
     "output_type": "execute_result"
    }
   ],
   "source": [
    "type(c)"
   ]
  },
  {
   "cell_type": "code",
   "execution_count": 160,
   "id": "59e90dea",
   "metadata": {},
   "outputs": [],
   "source": [
    "alldata = {\"id\":\"11111111\",\"name\":\"서귀포매일올레시장\",\"addr\":\"서귀포시 중앙로 62번길 18\",\"x_crdn\":126.56326295,\"y_crdn\":33.25031562,\"park_day\":\"월화수목금토일\",\"wkdy_strt\":\"090000\",\"wkdy_end\":\"180000\",\"lhdy_strt\":\"090000\",\"lhdy_end\":\"180000\",\"basic_time\":30,\"basic_fare\":1000,\"add_time\":15,\"add_fare\":500,\"whol_npls\":216},{\"id\":\"16488201\",\"name\":\"법원북측공영주차장\",\"addr\":\"제주시 이도이동 1066\",\"x_crdn\":126.53534209,\"y_crdn\":33.49472463,\"park_day\":\"월화수목금토일\",\"wkdy_strt\":\"090000\",\"wkdy_end\":\"180000\",\"lhdy_strt\":\"090000\",\"lhdy_end\":\"180000\",\"basic_time\":30,\"basic_fare\":1000,\"add_time\":15,\"add_fare\":500,\"whol_npls\":91},{\"id\":\"20019319\",\"name\":\"산짓물공영주차장\",\"addr\":\"제주시 건입동 1330\",\"x_crdn\":126.52872778,\"y_crdn\":33.51590058,\"park_day\":\"월화수목금토일\",\"wkdy_strt\":\"090000\",\"wkdy_end\":\"180000\",\"lhdy_strt\":\"090000\",\"lhdy_end\":\"180000\",\"basic_time\":30,\"basic_fare\":1000,\"add_time\":15,\"add_fare\":500,\"whol_npls\":71},{\"id\":\"17680713\",\"name\":\"이도2동공영주차장\",\"addr\":\"제주시 오복3길 9 (이도이동 1052-2)\",\"x_crdn\":126.53494394,\"y_crdn\":33.49673819,\"park_day\":\"월화수목금토일\",\"wkdy_strt\":\"090000\",\"wkdy_end\":\"180000\",\"lhdy_strt\":\"090000\",\"lhdy_end\":\"180000\",\"basic_time\":30,\"basic_fare\":1000,\"add_time\":15,\"add_fare\":500,\"whol_npls\":150},{\"id\":\"17759313\",\"name\":\"북수구공영주차장\",\"addr\":\"제주시 일도일동 1230-3\",\"x_crdn\":126.52794054,\"y_crdn\":33.5146917,\"park_day\":\"월화수목금토일\",\"wkdy_strt\":\"080000\",\"wkdy_end\":\"220000\",\"lhdy_strt\":\"080000\",\"lhdy_end\":\"220000\",\"basic_time\":30,\"basic_fare\":1000,\"add_time\":15,\"add_fare\":500,\"whol_npls\":51},{\"id\":\"11251813\",\"name\":\"신제주공영주차장\",\"addr\":\"제주시 연동 신대로12길\",\"x_crdn\":126.49106817,\"y_crdn\":33.48893829,\"park_day\":\"월화수목금\",\"wkdy_strt\":\"090000\",\"wkdy_end\":\"180000\",\"lhdy_strt\":\"090000\",\"lhdy_end\":\"180000\",\"basic_time\":30,\"basic_fare\":1000,\"add_time\":15,\"add_fare\":500,\"whol_npls\":500},{\"id\":\"17039715\",\"name\":\"동문공설시장공영주차장\",\"addr\":\"제주시 동문로4길 9 (일도일동 1104-2)\",\"x_crdn\":126.52819953,\"y_crdn\":33.51208935,\"park_day\":\"월화수목금토일\",\"wkdy_strt\":\"090000\",\"wkdy_end\":\"180000\",\"lhdy_strt\":\"090000\",\"lhdy_end\":\"180000\",\"basic_time\":30,\"basic_fare\":1000,\"add_time\":15,\"add_fare\":500,\"whol_npls\":264},{\"id\":\"17385794\",\"name\":\"서귀중앙공영주차빌딩\",\"addr\":\"서귀포시 중앙로 54번길 17 (서귀동 291-63)\",\"x_crdn\":126.56221093,\"y_crdn\":33.2498566,\"park_day\":\"월화수목금토일\",\"wkdy_strt\":\"090000\",\"wkdy_end\":\"180000\",\"lhdy_strt\":\"090000\",\"lhdy_end\":\"180000\",\"basic_time\":30,\"basic_fare\":1000,\"add_time\":15,\"add_fare\":500,\"whol_npls\":306},{\"id\":\"17435963\",\"name\":\"칠성골공영주차장\",\"addr\":\"제주시 임항로 8 (삼도이동 1192-8)\",\"x_crdn\":126.525116,\"y_crdn\":33.516579,\"park_day\":\"월화수목금토일\",\"wkdy_strt\":\"120000\",\"wkdy_end\":\"210000\",\"lhdy_strt\":\"120000\",\"lhdy_end\":\"210000\",\"basic_time\":30,\"basic_fare\":1000,\"add_time\":15,\"add_fare\":500,\"whol_npls\":80},{\"id\":\"16489518\",\"name\":\"인제공영주차장\",\"addr\":\"제주시 고마로 19길 5 (일도이동 409-11)\",\"x_crdn\":126.54195004,\"y_crdn\":33.50479298,\"park_day\":\"월화수목금토일\",\"wkdy_strt\":\"120000\",\"wkdy_end\":\"210000\",\"lhdy_strt\":\"120000\",\"lhdy_end\":\"210000\",\"basic_time\":30,\"basic_fare\":1000,\"add_time\":15,\"add_fare\":500,\"whol_npls\":125}"
   ]
  },
  {
   "cell_type": "code",
   "execution_count": 175,
   "id": "af6276db",
   "metadata": {},
   "outputs": [
    {
     "data": {
      "text/plain": [
       "tuple"
      ]
     },
     "execution_count": 175,
     "metadata": {},
     "output_type": "execute_result"
    }
   ],
   "source": [
    "type(alldata)"
   ]
  },
  {
   "cell_type": "code",
   "execution_count": 172,
   "id": "151c206d",
   "metadata": {},
   "outputs": [
    {
     "data": {
      "text/plain": [
       "({'id': '11111111',\n",
       "  'name': '서귀포매일올레시장',\n",
       "  'addr': '서귀포시 중앙로 62번길 18',\n",
       "  'x_crdn': 126.56326295,\n",
       "  'y_crdn': 33.25031562,\n",
       "  'park_day': '월화수목금토일',\n",
       "  'wkdy_strt': '090000',\n",
       "  'wkdy_end': '180000',\n",
       "  'lhdy_strt': '090000',\n",
       "  'lhdy_end': '180000',\n",
       "  'basic_time': 30,\n",
       "  'basic_fare': 1000,\n",
       "  'add_time': 15,\n",
       "  'add_fare': 500,\n",
       "  'whol_npls': 216},\n",
       " {'id': '16488201',\n",
       "  'name': '법원북측공영주차장',\n",
       "  'addr': '제주시 이도이동 1066',\n",
       "  'x_crdn': 126.53534209,\n",
       "  'y_crdn': 33.49472463,\n",
       "  'park_day': '월화수목금토일',\n",
       "  'wkdy_strt': '090000',\n",
       "  'wkdy_end': '180000',\n",
       "  'lhdy_strt': '090000',\n",
       "  'lhdy_end': '180000',\n",
       "  'basic_time': 30,\n",
       "  'basic_fare': 1000,\n",
       "  'add_time': 15,\n",
       "  'add_fare': 500,\n",
       "  'whol_npls': 91},\n",
       " {'id': '20019319',\n",
       "  'name': '산짓물공영주차장',\n",
       "  'addr': '제주시 건입동 1330',\n",
       "  'x_crdn': 126.52872778,\n",
       "  'y_crdn': 33.51590058,\n",
       "  'park_day': '월화수목금토일',\n",
       "  'wkdy_strt': '090000',\n",
       "  'wkdy_end': '180000',\n",
       "  'lhdy_strt': '090000',\n",
       "  'lhdy_end': '180000',\n",
       "  'basic_time': 30,\n",
       "  'basic_fare': 1000,\n",
       "  'add_time': 15,\n",
       "  'add_fare': 500,\n",
       "  'whol_npls': 71},\n",
       " {'id': '17680713',\n",
       "  'name': '이도2동공영주차장',\n",
       "  'addr': '제주시 오복3길 9 (이도이동 1052-2)',\n",
       "  'x_crdn': 126.53494394,\n",
       "  'y_crdn': 33.49673819,\n",
       "  'park_day': '월화수목금토일',\n",
       "  'wkdy_strt': '090000',\n",
       "  'wkdy_end': '180000',\n",
       "  'lhdy_strt': '090000',\n",
       "  'lhdy_end': '180000',\n",
       "  'basic_time': 30,\n",
       "  'basic_fare': 1000,\n",
       "  'add_time': 15,\n",
       "  'add_fare': 500,\n",
       "  'whol_npls': 150},\n",
       " {'id': '17759313',\n",
       "  'name': '북수구공영주차장',\n",
       "  'addr': '제주시 일도일동 1230-3',\n",
       "  'x_crdn': 126.52794054,\n",
       "  'y_crdn': 33.5146917,\n",
       "  'park_day': '월화수목금토일',\n",
       "  'wkdy_strt': '080000',\n",
       "  'wkdy_end': '220000',\n",
       "  'lhdy_strt': '080000',\n",
       "  'lhdy_end': '220000',\n",
       "  'basic_time': 30,\n",
       "  'basic_fare': 1000,\n",
       "  'add_time': 15,\n",
       "  'add_fare': 500,\n",
       "  'whol_npls': 51},\n",
       " {'id': '11251813',\n",
       "  'name': '신제주공영주차장',\n",
       "  'addr': '제주시 연동 신대로12길',\n",
       "  'x_crdn': 126.49106817,\n",
       "  'y_crdn': 33.48893829,\n",
       "  'park_day': '월화수목금',\n",
       "  'wkdy_strt': '090000',\n",
       "  'wkdy_end': '180000',\n",
       "  'lhdy_strt': '090000',\n",
       "  'lhdy_end': '180000',\n",
       "  'basic_time': 30,\n",
       "  'basic_fare': 1000,\n",
       "  'add_time': 15,\n",
       "  'add_fare': 500,\n",
       "  'whol_npls': 500},\n",
       " {'id': '17039715',\n",
       "  'name': '동문공설시장공영주차장',\n",
       "  'addr': '제주시 동문로4길 9 (일도일동 1104-2)',\n",
       "  'x_crdn': 126.52819953,\n",
       "  'y_crdn': 33.51208935,\n",
       "  'park_day': '월화수목금토일',\n",
       "  'wkdy_strt': '090000',\n",
       "  'wkdy_end': '180000',\n",
       "  'lhdy_strt': '090000',\n",
       "  'lhdy_end': '180000',\n",
       "  'basic_time': 30,\n",
       "  'basic_fare': 1000,\n",
       "  'add_time': 15,\n",
       "  'add_fare': 500,\n",
       "  'whol_npls': 264},\n",
       " {'id': '17385794',\n",
       "  'name': '서귀중앙공영주차빌딩',\n",
       "  'addr': '서귀포시 중앙로 54번길 17 (서귀동 291-63)',\n",
       "  'x_crdn': 126.56221093,\n",
       "  'y_crdn': 33.2498566,\n",
       "  'park_day': '월화수목금토일',\n",
       "  'wkdy_strt': '090000',\n",
       "  'wkdy_end': '180000',\n",
       "  'lhdy_strt': '090000',\n",
       "  'lhdy_end': '180000',\n",
       "  'basic_time': 30,\n",
       "  'basic_fare': 1000,\n",
       "  'add_time': 15,\n",
       "  'add_fare': 500,\n",
       "  'whol_npls': 306},\n",
       " {'id': '17435963',\n",
       "  'name': '칠성골공영주차장',\n",
       "  'addr': '제주시 임항로 8 (삼도이동 1192-8)',\n",
       "  'x_crdn': 126.525116,\n",
       "  'y_crdn': 33.516579,\n",
       "  'park_day': '월화수목금토일',\n",
       "  'wkdy_strt': '120000',\n",
       "  'wkdy_end': '210000',\n",
       "  'lhdy_strt': '120000',\n",
       "  'lhdy_end': '210000',\n",
       "  'basic_time': 30,\n",
       "  'basic_fare': 1000,\n",
       "  'add_time': 15,\n",
       "  'add_fare': 500,\n",
       "  'whol_npls': 80},\n",
       " {'id': '16489518',\n",
       "  'name': '인제공영주차장',\n",
       "  'addr': '제주시 고마로 19길 5 (일도이동 409-11)',\n",
       "  'x_crdn': 126.54195004,\n",
       "  'y_crdn': 33.50479298,\n",
       "  'park_day': '월화수목금토일',\n",
       "  'wkdy_strt': '120000',\n",
       "  'wkdy_end': '210000',\n",
       "  'lhdy_strt': '120000',\n",
       "  'lhdy_end': '210000',\n",
       "  'basic_time': 30,\n",
       "  'basic_fare': 1000,\n",
       "  'add_time': 15,\n",
       "  'add_fare': 500,\n",
       "  'whol_npls': 125})"
      ]
     },
     "execution_count": 172,
     "metadata": {},
     "output_type": "execute_result"
    }
   ],
   "source": [
    "alldata"
   ]
  },
  {
   "cell_type": "code",
   "execution_count": 169,
   "id": "d4ec6605",
   "metadata": {
    "scrolled": true
   },
   "outputs": [
    {
     "data": {
      "text/html": [
       "<div>\n",
       "<style scoped>\n",
       "    .dataframe tbody tr th:only-of-type {\n",
       "        vertical-align: middle;\n",
       "    }\n",
       "\n",
       "    .dataframe tbody tr th {\n",
       "        vertical-align: top;\n",
       "    }\n",
       "\n",
       "    .dataframe thead th {\n",
       "        text-align: right;\n",
       "    }\n",
       "</style>\n",
       "<table border=\"1\" class=\"dataframe\">\n",
       "  <thead>\n",
       "    <tr style=\"text-align: right;\">\n",
       "      <th></th>\n",
       "      <th>id</th>\n",
       "      <th>name</th>\n",
       "      <th>addr</th>\n",
       "      <th>x_crdn</th>\n",
       "      <th>y_crdn</th>\n",
       "      <th>park_day</th>\n",
       "      <th>wkdy_strt</th>\n",
       "      <th>wkdy_end</th>\n",
       "      <th>lhdy_strt</th>\n",
       "      <th>lhdy_end</th>\n",
       "      <th>basic_time</th>\n",
       "      <th>basic_fare</th>\n",
       "      <th>add_time</th>\n",
       "      <th>add_fare</th>\n",
       "      <th>whol_npls</th>\n",
       "    </tr>\n",
       "  </thead>\n",
       "  <tbody>\n",
       "    <tr>\n",
       "      <th>0</th>\n",
       "      <td>11111111</td>\n",
       "      <td>서귀포매일올레시장</td>\n",
       "      <td>서귀포시 중앙로 62번길 18</td>\n",
       "      <td>126.563263</td>\n",
       "      <td>33.250316</td>\n",
       "      <td>월화수목금토일</td>\n",
       "      <td>090000</td>\n",
       "      <td>180000</td>\n",
       "      <td>090000</td>\n",
       "      <td>180000</td>\n",
       "      <td>30</td>\n",
       "      <td>1000</td>\n",
       "      <td>15</td>\n",
       "      <td>500</td>\n",
       "      <td>216</td>\n",
       "    </tr>\n",
       "    <tr>\n",
       "      <th>1</th>\n",
       "      <td>16488201</td>\n",
       "      <td>법원북측공영주차장</td>\n",
       "      <td>제주시 이도이동 1066</td>\n",
       "      <td>126.535342</td>\n",
       "      <td>33.494725</td>\n",
       "      <td>월화수목금토일</td>\n",
       "      <td>090000</td>\n",
       "      <td>180000</td>\n",
       "      <td>090000</td>\n",
       "      <td>180000</td>\n",
       "      <td>30</td>\n",
       "      <td>1000</td>\n",
       "      <td>15</td>\n",
       "      <td>500</td>\n",
       "      <td>91</td>\n",
       "    </tr>\n",
       "    <tr>\n",
       "      <th>2</th>\n",
       "      <td>20019319</td>\n",
       "      <td>산짓물공영주차장</td>\n",
       "      <td>제주시 건입동 1330</td>\n",
       "      <td>126.528728</td>\n",
       "      <td>33.515901</td>\n",
       "      <td>월화수목금토일</td>\n",
       "      <td>090000</td>\n",
       "      <td>180000</td>\n",
       "      <td>090000</td>\n",
       "      <td>180000</td>\n",
       "      <td>30</td>\n",
       "      <td>1000</td>\n",
       "      <td>15</td>\n",
       "      <td>500</td>\n",
       "      <td>71</td>\n",
       "    </tr>\n",
       "    <tr>\n",
       "      <th>3</th>\n",
       "      <td>17680713</td>\n",
       "      <td>이도2동공영주차장</td>\n",
       "      <td>제주시 오복3길 9 (이도이동 1052-2)</td>\n",
       "      <td>126.534944</td>\n",
       "      <td>33.496738</td>\n",
       "      <td>월화수목금토일</td>\n",
       "      <td>090000</td>\n",
       "      <td>180000</td>\n",
       "      <td>090000</td>\n",
       "      <td>180000</td>\n",
       "      <td>30</td>\n",
       "      <td>1000</td>\n",
       "      <td>15</td>\n",
       "      <td>500</td>\n",
       "      <td>150</td>\n",
       "    </tr>\n",
       "    <tr>\n",
       "      <th>4</th>\n",
       "      <td>17759313</td>\n",
       "      <td>북수구공영주차장</td>\n",
       "      <td>제주시 일도일동 1230-3</td>\n",
       "      <td>126.527941</td>\n",
       "      <td>33.514692</td>\n",
       "      <td>월화수목금토일</td>\n",
       "      <td>080000</td>\n",
       "      <td>220000</td>\n",
       "      <td>080000</td>\n",
       "      <td>220000</td>\n",
       "      <td>30</td>\n",
       "      <td>1000</td>\n",
       "      <td>15</td>\n",
       "      <td>500</td>\n",
       "      <td>51</td>\n",
       "    </tr>\n",
       "    <tr>\n",
       "      <th>5</th>\n",
       "      <td>11251813</td>\n",
       "      <td>신제주공영주차장</td>\n",
       "      <td>제주시 연동 신대로12길</td>\n",
       "      <td>126.491068</td>\n",
       "      <td>33.488938</td>\n",
       "      <td>월화수목금</td>\n",
       "      <td>090000</td>\n",
       "      <td>180000</td>\n",
       "      <td>090000</td>\n",
       "      <td>180000</td>\n",
       "      <td>30</td>\n",
       "      <td>1000</td>\n",
       "      <td>15</td>\n",
       "      <td>500</td>\n",
       "      <td>500</td>\n",
       "    </tr>\n",
       "    <tr>\n",
       "      <th>6</th>\n",
       "      <td>17039715</td>\n",
       "      <td>동문공설시장공영주차장</td>\n",
       "      <td>제주시 동문로4길 9 (일도일동 1104-2)</td>\n",
       "      <td>126.528200</td>\n",
       "      <td>33.512089</td>\n",
       "      <td>월화수목금토일</td>\n",
       "      <td>090000</td>\n",
       "      <td>180000</td>\n",
       "      <td>090000</td>\n",
       "      <td>180000</td>\n",
       "      <td>30</td>\n",
       "      <td>1000</td>\n",
       "      <td>15</td>\n",
       "      <td>500</td>\n",
       "      <td>264</td>\n",
       "    </tr>\n",
       "    <tr>\n",
       "      <th>7</th>\n",
       "      <td>17385794</td>\n",
       "      <td>서귀중앙공영주차빌딩</td>\n",
       "      <td>서귀포시 중앙로 54번길 17 (서귀동 291-63)</td>\n",
       "      <td>126.562211</td>\n",
       "      <td>33.249857</td>\n",
       "      <td>월화수목금토일</td>\n",
       "      <td>090000</td>\n",
       "      <td>180000</td>\n",
       "      <td>090000</td>\n",
       "      <td>180000</td>\n",
       "      <td>30</td>\n",
       "      <td>1000</td>\n",
       "      <td>15</td>\n",
       "      <td>500</td>\n",
       "      <td>306</td>\n",
       "    </tr>\n",
       "    <tr>\n",
       "      <th>8</th>\n",
       "      <td>17435963</td>\n",
       "      <td>칠성골공영주차장</td>\n",
       "      <td>제주시 임항로 8 (삼도이동 1192-8)</td>\n",
       "      <td>126.525116</td>\n",
       "      <td>33.516579</td>\n",
       "      <td>월화수목금토일</td>\n",
       "      <td>120000</td>\n",
       "      <td>210000</td>\n",
       "      <td>120000</td>\n",
       "      <td>210000</td>\n",
       "      <td>30</td>\n",
       "      <td>1000</td>\n",
       "      <td>15</td>\n",
       "      <td>500</td>\n",
       "      <td>80</td>\n",
       "    </tr>\n",
       "    <tr>\n",
       "      <th>9</th>\n",
       "      <td>16489518</td>\n",
       "      <td>인제공영주차장</td>\n",
       "      <td>제주시 고마로 19길 5 (일도이동 409-11)</td>\n",
       "      <td>126.541950</td>\n",
       "      <td>33.504793</td>\n",
       "      <td>월화수목금토일</td>\n",
       "      <td>120000</td>\n",
       "      <td>210000</td>\n",
       "      <td>120000</td>\n",
       "      <td>210000</td>\n",
       "      <td>30</td>\n",
       "      <td>1000</td>\n",
       "      <td>15</td>\n",
       "      <td>500</td>\n",
       "      <td>125</td>\n",
       "    </tr>\n",
       "  </tbody>\n",
       "</table>\n",
       "</div>"
      ],
      "text/plain": [
       "         id         name                           addr      x_crdn  \\\n",
       "0  11111111    서귀포매일올레시장               서귀포시 중앙로 62번길 18  126.563263   \n",
       "1  16488201    법원북측공영주차장                  제주시 이도이동 1066  126.535342   \n",
       "2  20019319     산짓물공영주차장                   제주시 건입동 1330  126.528728   \n",
       "3  17680713    이도2동공영주차장       제주시 오복3길 9 (이도이동 1052-2)  126.534944   \n",
       "4  17759313     북수구공영주차장                제주시 일도일동 1230-3  126.527941   \n",
       "5  11251813     신제주공영주차장                  제주시 연동 신대로12길  126.491068   \n",
       "6  17039715  동문공설시장공영주차장      제주시 동문로4길 9 (일도일동 1104-2)  126.528200   \n",
       "7  17385794   서귀중앙공영주차빌딩  서귀포시 중앙로 54번길 17 (서귀동 291-63)  126.562211   \n",
       "8  17435963     칠성골공영주차장        제주시 임항로 8 (삼도이동 1192-8)  126.525116   \n",
       "9  16489518      인제공영주차장    제주시 고마로 19길 5 (일도이동 409-11)  126.541950   \n",
       "\n",
       "      y_crdn park_day wkdy_strt wkdy_end lhdy_strt lhdy_end  basic_time  \\\n",
       "0  33.250316  월화수목금토일    090000   180000    090000   180000          30   \n",
       "1  33.494725  월화수목금토일    090000   180000    090000   180000          30   \n",
       "2  33.515901  월화수목금토일    090000   180000    090000   180000          30   \n",
       "3  33.496738  월화수목금토일    090000   180000    090000   180000          30   \n",
       "4  33.514692  월화수목금토일    080000   220000    080000   220000          30   \n",
       "5  33.488938    월화수목금    090000   180000    090000   180000          30   \n",
       "6  33.512089  월화수목금토일    090000   180000    090000   180000          30   \n",
       "7  33.249857  월화수목금토일    090000   180000    090000   180000          30   \n",
       "8  33.516579  월화수목금토일    120000   210000    120000   210000          30   \n",
       "9  33.504793  월화수목금토일    120000   210000    120000   210000          30   \n",
       "\n",
       "   basic_fare  add_time  add_fare  whol_npls  \n",
       "0        1000        15       500        216  \n",
       "1        1000        15       500         91  \n",
       "2        1000        15       500         71  \n",
       "3        1000        15       500        150  \n",
       "4        1000        15       500         51  \n",
       "5        1000        15       500        500  \n",
       "6        1000        15       500        264  \n",
       "7        1000        15       500        306  \n",
       "8        1000        15       500         80  \n",
       "9        1000        15       500        125  "
      ]
     },
     "execution_count": 169,
     "metadata": {},
     "output_type": "execute_result"
    }
   ],
   "source": [
    "parking_area_df = pd.DataFrame(alldata)\n",
    "parking_area_df"
   ]
  },
  {
   "cell_type": "code",
   "execution_count": null,
   "id": "4ca3e9e4",
   "metadata": {},
   "outputs": [],
   "source": []
  },
  {
   "cell_type": "code",
   "execution_count": null,
   "id": "f95b61e6",
   "metadata": {},
   "outputs": [],
   "source": []
  },
  {
   "cell_type": "code",
   "execution_count": null,
   "id": "c1fed0a4",
   "metadata": {},
   "outputs": [],
   "source": []
  }
 ],
 "metadata": {
  "kernelspec": {
   "display_name": "Python 3 (ipykernel)",
   "language": "python",
   "name": "python3"
  },
  "language_info": {
   "codemirror_mode": {
    "name": "ipython",
    "version": 3
   },
   "file_extension": ".py",
   "mimetype": "text/x-python",
   "name": "python",
   "nbconvert_exporter": "python",
   "pygments_lexer": "ipython3",
   "version": "3.9.13"
  }
 },
 "nbformat": 4,
 "nbformat_minor": 5
}
